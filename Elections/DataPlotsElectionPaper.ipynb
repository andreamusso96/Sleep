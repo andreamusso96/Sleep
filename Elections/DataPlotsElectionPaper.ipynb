{
 "cells": [
  {
   "cell_type": "code",
   "execution_count": 1,
   "id": "initial_id",
   "metadata": {
    "collapsed": true,
    "ExecuteTime": {
     "end_time": "2023-09-13T17:52:48.322844Z",
     "start_time": "2023-09-13T17:52:47.327318Z"
    }
   },
   "outputs": [],
   "source": [
    "import pandas as pd\n",
    "\n",
    "import mobile_traffic as mobile\n",
    "import insee.iris as iris\n",
    "import election_france as election\n",
    "from datetime import time\n",
    "import geopandas as gpd\n",
    "import numpy as np"
   ]
  },
  {
   "cell_type": "markdown",
   "source": [
    "## Maps"
   ],
   "metadata": {
    "collapsed": false
   },
   "id": "46fec92ca74f7bee"
  },
  {
   "cell_type": "code",
   "execution_count": 2,
   "outputs": [
    {
     "name": "stderr",
     "output_type": "stream",
     "text": [
      "100%|██████████| 77/77 [01:20<00:00,  1.05s/it]\n"
     ]
    }
   ],
   "source": [
    "paris_mobile_data = mobile.get_city_traffic_data(traffic_type=mobile.TrafficType.USERS, city=mobile.City.PARIS)"
   ],
   "metadata": {
    "collapsed": false,
    "ExecuteTime": {
     "end_time": "2023-09-13T17:55:29.257999Z",
     "start_time": "2023-09-13T17:53:01.479413Z"
    }
   },
   "id": "20f2e5c177283da9"
  },
  {
   "cell_type": "code",
   "execution_count": 3,
   "outputs": [],
   "source": [
    "paris_consumption_by_iris = paris_mobile_data.get_service_consumption_by_location(start=time(hour=19), end=time(hour=23, minute=59))"
   ],
   "metadata": {
    "collapsed": false,
    "ExecuteTime": {
     "end_time": "2023-09-13T17:56:23.427206Z",
     "start_time": "2023-09-13T17:55:29.227920Z"
    }
   },
   "id": "4f917a569da2a15e"
  },
  {
   "cell_type": "code",
   "execution_count": 4,
   "outputs": [],
   "source": [
    "paris_iris = paris_consumption_by_iris.index"
   ],
   "metadata": {
    "collapsed": false,
    "ExecuteTime": {
     "end_time": "2023-09-13T17:56:23.431581Z",
     "start_time": "2023-09-13T17:56:23.426433Z"
    }
   },
   "id": "f4efe052343a1ccc"
  },
  {
   "cell_type": "code",
   "execution_count": 5,
   "outputs": [],
   "source": [
    "paris_geo = iris.geo.get_geo_data(iris=paris_iris)"
   ],
   "metadata": {
    "collapsed": false,
    "ExecuteTime": {
     "end_time": "2023-09-13T17:57:04.897386Z",
     "start_time": "2023-09-13T17:56:23.441572Z"
    }
   },
   "id": "582f4e4b2b8029a"
  },
  {
   "cell_type": "code",
   "execution_count": 6,
   "outputs": [],
   "source": [
    "paris_facebook_share = paris_consumption_by_iris.div(paris_consumption_by_iris.sum(axis=1), axis=0)[[mobile.Service.FACEBOOK.value, mobile.Service.FACEBOOK_LIVE.value]].sum(axis=1).to_frame(name='facebook_share')"
   ],
   "metadata": {
    "collapsed": false,
    "ExecuteTime": {
     "end_time": "2023-09-13T17:57:04.910918Z",
     "start_time": "2023-09-13T17:57:04.898913Z"
    }
   },
   "id": "fedcab81fa814517"
  },
  {
   "cell_type": "code",
   "execution_count": 7,
   "outputs": [],
   "source": [
    "extremist_parties = election.Party.get_extremist_party_list_number()\n",
    "paris_extremist_votes = election.get_percentage_votes_for_party_at_iris_level(list_number=extremist_parties, iris=paris_iris, return_radius=False)\n",
    "paris_extremist_vote = paris_extremist_votes.sum(axis=1).to_frame(name='extremist_vote')"
   ],
   "metadata": {
    "collapsed": false,
    "ExecuteTime": {
     "end_time": "2023-09-13T17:57:13.571068Z",
     "start_time": "2023-09-13T17:57:04.910361Z"
    }
   },
   "id": "b7f028c4676cdc56"
  },
  {
   "cell_type": "code",
   "execution_count": 8,
   "outputs": [],
   "source": [
    "paris_median_income = iris.admin.get_data(iris=paris_iris, var_name='DEC_MED19')\n",
    "paris_education = iris.admin.get_data(iris=paris_iris, var_name='P19_ACT_DIPLMIN', shares=True)"
   ],
   "metadata": {
    "collapsed": false,
    "ExecuteTime": {
     "end_time": "2023-09-13T17:57:21.095492Z",
     "start_time": "2023-09-13T17:57:13.573047Z"
    }
   },
   "id": "31476225c2f11020"
  },
  {
   "cell_type": "code",
   "execution_count": 9,
   "outputs": [],
   "source": [
    "paris_income_extremism_facebook = pd.concat([paris_facebook_share, paris_extremist_vote, paris_median_income, paris_education], axis=1)\n",
    "paris_income_extremism_facebook.columns = ['facebook_share', 'extremist_vote', 'median_income', 'share_high_school_graduates']"
   ],
   "metadata": {
    "collapsed": false,
    "ExecuteTime": {
     "end_time": "2023-09-13T17:57:21.108255Z",
     "start_time": "2023-09-13T17:57:21.099812Z"
    }
   },
   "id": "bb34144bff53d9cd"
  },
  {
   "cell_type": "code",
   "execution_count": 10,
   "outputs": [],
   "source": [
    "paris_map = gpd.GeoDataFrame(paris_income_extremism_facebook, geometry=paris_geo['geometry'].loc[paris_income_extremism_facebook.index])\n",
    "paris_map.dropna(inplace=True)"
   ],
   "metadata": {
    "collapsed": false,
    "ExecuteTime": {
     "end_time": "2023-09-13T17:57:21.125551Z",
     "start_time": "2023-09-13T17:57:21.104334Z"
    }
   },
   "id": "e5559c7c9f101846"
  },
  {
   "cell_type": "markdown",
   "source": [
    "## Social Media Share Income and Extremism in France"
   ],
   "metadata": {
    "collapsed": false
   },
   "id": "1fde16c3f1fd653f"
  },
  {
   "cell_type": "code",
   "execution_count": 11,
   "outputs": [
    {
     "name": "stderr",
     "output_type": "stream",
     "text": [
      "100%|██████████| 77/77 [00:16<00:00,  4.69it/s]\n",
      "100%|██████████| 77/77 [00:13<00:00,  5.86it/s]\n",
      "100%|██████████| 77/77 [00:13<00:00,  5.56it/s]\n",
      "100%|██████████| 77/77 [00:15<00:00,  5.12it/s]\n",
      "100%|██████████| 77/77 [00:22<00:00,  3.40it/s]\n",
      "100%|██████████| 77/77 [00:26<00:00,  2.87it/s]\n",
      "100%|██████████| 77/77 [00:18<00:00,  4.23it/s]\n",
      "100%|██████████| 77/77 [00:21<00:00,  3.64it/s]\n",
      "100%|██████████| 77/77 [00:14<00:00,  5.21it/s]\n",
      "100%|██████████| 77/77 [00:16<00:00,  4.78it/s]\n",
      "100%|██████████| 77/77 [00:15<00:00,  5.02it/s]\n",
      "100%|██████████| 77/77 [00:17<00:00,  4.42it/s]\n",
      "100%|██████████| 77/77 [00:20<00:00,  3.68it/s]\n",
      "100%|██████████| 77/77 [00:15<00:00,  4.89it/s]\n",
      "100%|██████████| 77/77 [01:10<00:00,  1.09it/s]\n",
      "100%|██████████| 77/77 [00:15<00:00,  4.92it/s]\n",
      "100%|██████████| 77/77 [00:14<00:00,  5.31it/s]\n",
      "100%|██████████| 77/77 [00:14<00:00,  5.32it/s]\n",
      "100%|██████████| 77/77 [00:14<00:00,  5.24it/s]\n",
      "100%|██████████| 77/77 [00:13<00:00,  5.66it/s]\n"
     ]
    }
   ],
   "source": [
    "political_social_media = [mobile.Service.FACEBOOK.value, mobile.Service.FACEBOOK_LIVE.value, mobile.Service.TWITTER.value, mobile.Service.YOUTUBE.value]\n",
    "social_media_shares = []\n",
    "for city in mobile.City:\n",
    "    city_mobile_data = mobile.get_city_traffic_data(traffic_type=mobile.TrafficType.USERS, city=city)\n",
    "    city_consumption_by_iris = city_mobile_data.get_service_consumption_by_location(start=time(hour=19), end=time(hour=23, minute=59))\n",
    "    social_media_share = city_consumption_by_iris.div(city_consumption_by_iris.sum(axis=1), axis=0)[political_social_media].sum(axis=1)\n",
    "    social_media_share_df = social_media_share.to_frame(name='social_media_share').reset_index(names=['iris'])\n",
    "    social_media_share_df['city'] = city.value\n",
    "    social_media_shares.append(social_media_share_df)\n",
    "    \n",
    "social_media_shares = pd.concat(social_media_shares, axis=0)\n",
    "social_media_shares.set_index('iris', inplace=True)"
   ],
   "metadata": {
    "collapsed": false,
    "ExecuteTime": {
     "end_time": "2023-09-13T18:06:42.803132Z",
     "start_time": "2023-09-13T17:57:21.128756Z"
    }
   },
   "id": "7229573b6adbd3e1"
  },
  {
   "cell_type": "code",
   "execution_count": 12,
   "outputs": [],
   "source": [
    "social_media_shares_no_dup = social_media_shares.reset_index().drop_duplicates(subset=['iris']).set_index('iris')[['social_media_share']]"
   ],
   "metadata": {
    "collapsed": false,
    "ExecuteTime": {
     "end_time": "2023-09-13T18:06:42.816010Z",
     "start_time": "2023-09-13T18:06:42.806959Z"
    }
   },
   "id": "c8cbff887f3f9549"
  },
  {
   "cell_type": "code",
   "execution_count": 13,
   "outputs": [],
   "source": [
    "iris_social_media_share_data = social_media_shares_no_dup.index"
   ],
   "metadata": {
    "collapsed": false,
    "ExecuteTime": {
     "end_time": "2023-09-13T18:06:42.820443Z",
     "start_time": "2023-09-13T18:06:42.817784Z"
    }
   },
   "id": "73d07e1f56c3bae8"
  },
  {
   "cell_type": "code",
   "execution_count": 14,
   "outputs": [],
   "source": [
    "income = iris.admin.get_data(iris=iris_social_media_share_data, var_name='DEC_MED19')"
   ],
   "metadata": {
    "collapsed": false,
    "ExecuteTime": {
     "end_time": "2023-09-13T18:06:42.888871Z",
     "start_time": "2023-09-13T18:06:42.824888Z"
    }
   },
   "id": "9e9645c5a2a9b122"
  },
  {
   "cell_type": "code",
   "execution_count": 15,
   "outputs": [],
   "source": [
    "extremist_vote = election.get_percentage_votes_for_party_at_iris_level(list_number=extremist_parties, iris=iris_social_media_share_data)\n",
    "extremist_vote = extremist_vote.loc[(extremist_vote['radius'] < 1200)]\n",
    "extremist_vote = extremist_vote.drop(columns=['radius'])\n",
    "extremism = extremist_vote.sum(axis=1).to_frame(name='extremist_vote')"
   ],
   "metadata": {
    "collapsed": false,
    "ExecuteTime": {
     "end_time": "2023-09-13T18:06:44.257304Z",
     "start_time": "2023-09-13T18:06:42.891127Z"
    }
   },
   "id": "7bb33d4928de560a"
  },
  {
   "cell_type": "code",
   "execution_count": 16,
   "outputs": [],
   "source": [
    "social_media_shares_income_and_extremism = pd.concat([social_media_shares_no_dup, income, extremism], axis=1)\n",
    "social_media_shares_income_and_extremism.columns = ['social_media_share', 'median_income', 'extremist_vote']"
   ],
   "metadata": {
    "collapsed": false,
    "ExecuteTime": {
     "end_time": "2023-09-13T18:06:44.267182Z",
     "start_time": "2023-09-13T18:06:44.263965Z"
    }
   },
   "id": "5fdcbe9c07bdc64a"
  },
  {
   "cell_type": "code",
   "execution_count": 17,
   "outputs": [],
   "source": [
    "social_media_shares_income_and_extremism.dropna(inplace=True)"
   ],
   "metadata": {
    "collapsed": false,
    "ExecuteTime": {
     "end_time": "2023-09-13T18:06:44.272013Z",
     "start_time": "2023-09-13T18:06:44.268327Z"
    }
   },
   "id": "6e8039ba3ed32e02"
  },
  {
   "cell_type": "markdown",
   "source": [
    "## Regression of Social Media on Extremism with controls "
   ],
   "metadata": {
    "collapsed": false
   },
   "id": "4f0cda91f4dd0313"
  },
  {
   "cell_type": "code",
   "execution_count": 18,
   "outputs": [],
   "source": [
    "age_vars = ['P19_POP1529', 'P19_POP3044', 'P19_POP4559', 'P19_POP6074', 'P19_POP75P']\n",
    "education_vars = ['P19_ACT_DIPLMIN','P19_ACT_BAC', 'P19_ACT_SUP2']\n",
    "unemployment_vars = ['P19_CHOM1524', 'P19_CHOM2554', 'P19_CHOM5564']\n",
    "immigration_vars = ['P19_POP_IMM']\n",
    "gender_vars = ['P19_POPH'] \n",
    "income_vars = ['DEC_MED19']"
   ],
   "metadata": {
    "collapsed": false,
    "ExecuteTime": {
     "end_time": "2023-09-13T18:06:44.276818Z",
     "start_time": "2023-09-13T18:06:44.274158Z"
    }
   },
   "id": "1c2a26dc45e31981"
  },
  {
   "cell_type": "code",
   "execution_count": 19,
   "outputs": [],
   "source": [
    "age = iris.admin.get_data(iris=iris_social_media_share_data, var_name=age_vars, shares=True)\n",
    "education = iris.admin.get_data(iris=iris_social_media_share_data, var_name=education_vars, shares=True)\n",
    "unemployment = iris.admin.get_data(iris=iris_social_media_share_data, var_name=unemployment_vars, shares=True)\n",
    "immigration = iris.admin.get_data(iris=iris_social_media_share_data, var_name=immigration_vars, shares=True)\n",
    "gender = iris.admin.get_data(iris=iris_social_media_share_data, var_name=gender_vars, shares=True)\n",
    "income = iris.admin.get_data(iris=iris_social_media_share_data, var_name=income_vars, shares=False)\n",
    "controls = pd.concat([age, education, unemployment, immigration, gender, income], axis=1)"
   ],
   "metadata": {
    "collapsed": false,
    "ExecuteTime": {
     "end_time": "2023-09-13T18:06:44.619374Z",
     "start_time": "2023-09-13T18:06:44.283279Z"
    }
   },
   "id": "4e922788477575dd"
  },
  {
   "cell_type": "code",
   "execution_count": 20,
   "outputs": [],
   "source": [
    "social_media_shares_extremism_and_controls = pd.concat([social_media_shares_no_dup, extremism, controls], axis=1)"
   ],
   "metadata": {
    "collapsed": false,
    "ExecuteTime": {
     "end_time": "2023-09-13T18:06:44.628798Z",
     "start_time": "2023-09-13T18:06:44.619879Z"
    }
   },
   "id": "fc8525f7c6c42bb0"
  },
  {
   "cell_type": "code",
   "execution_count": 21,
   "outputs": [],
   "source": [
    "social_media_shares_extremism_and_controls.dropna(inplace=True)"
   ],
   "metadata": {
    "collapsed": false,
    "ExecuteTime": {
     "end_time": "2023-09-13T18:06:44.634461Z",
     "start_time": "2023-09-13T18:06:44.629906Z"
    }
   },
   "id": "3f4680a80373918a"
  },
  {
   "cell_type": "markdown",
   "source": [
    "## Save"
   ],
   "metadata": {
    "collapsed": false
   },
   "id": "b1a277f6854e0bc5"
  },
  {
   "cell_type": "code",
   "execution_count": 32,
   "outputs": [],
   "source": [
    "path = '/Users/anmusso/Desktop/PhD/Projects/Current/NetMob/NetMobData/data/FigureData/GeoDiscontent/'"
   ],
   "metadata": {
    "collapsed": false,
    "ExecuteTime": {
     "end_time": "2023-09-13T18:12:37.795481Z",
     "start_time": "2023-09-13T18:12:37.792120Z"
    }
   },
   "id": "714b7c7f45f48385"
  },
  {
   "cell_type": "code",
   "execution_count": 36,
   "outputs": [],
   "source": [
    "paris_map.to_file(path + 'paris_map.geojson', driver='GeoJSON')"
   ],
   "metadata": {
    "collapsed": false,
    "ExecuteTime": {
     "end_time": "2023-09-13T18:13:01.101044Z",
     "start_time": "2023-09-13T18:12:59.900859Z"
    }
   },
   "id": "2eba828c02779aa4"
  },
  {
   "cell_type": "code",
   "execution_count": 37,
   "outputs": [],
   "source": [
    "social_media_shares_income_and_extremism.to_csv(path + 'social_media_shares_income_and_extremism.csv')"
   ],
   "metadata": {
    "collapsed": false,
    "ExecuteTime": {
     "end_time": "2023-09-13T18:13:01.125505Z",
     "start_time": "2023-09-13T18:13:01.102312Z"
    }
   },
   "id": "de06886daa4f87ed"
  },
  {
   "cell_type": "code",
   "execution_count": 38,
   "outputs": [],
   "source": [
    "social_media_shares_extremism_and_controls.to_csv(path + 'social_media_shares_extremism_and_controls.csv')"
   ],
   "metadata": {
    "collapsed": false,
    "ExecuteTime": {
     "end_time": "2023-09-13T18:13:01.246770Z",
     "start_time": "2023-09-13T18:13:01.124805Z"
    }
   },
   "id": "1ad4091169d85c13"
  },
  {
   "cell_type": "code",
   "execution_count": null,
   "outputs": [],
   "source": [],
   "metadata": {
    "collapsed": false,
    "ExecuteTime": {
     "start_time": "2023-09-03T12:48:03.659017Z"
    }
   },
   "id": "55c588dc24380cbf"
  }
 ],
 "metadata": {
  "kernelspec": {
   "display_name": "Python 3",
   "language": "python",
   "name": "python3"
  },
  "language_info": {
   "codemirror_mode": {
    "name": "ipython",
    "version": 2
   },
   "file_extension": ".py",
   "mimetype": "text/x-python",
   "name": "python",
   "nbconvert_exporter": "python",
   "pygments_lexer": "ipython2",
   "version": "2.7.6"
  }
 },
 "nbformat": 4,
 "nbformat_minor": 5
}
