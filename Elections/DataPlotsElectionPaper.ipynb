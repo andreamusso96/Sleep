{
 "cells": [
  {
   "cell_type": "code",
   "execution_count": 22,
   "id": "initial_id",
   "metadata": {
    "collapsed": true,
    "ExecuteTime": {
     "end_time": "2023-09-21T13:46:40.798Z",
     "start_time": "2023-09-21T13:46:40.266284Z"
    }
   },
   "outputs": [],
   "source": [
    "import pandas as pd\n",
    "\n",
    "import mobile_traffic as mobile\n",
    "import insee.iris as iris\n",
    "import election_france as election\n",
    "from datetime import time\n",
    "import geopandas as gpd\n",
    "import numpy as np"
   ]
  },
  {
   "cell_type": "markdown",
   "source": [
    "## Maps"
   ],
   "metadata": {
    "collapsed": false
   },
   "id": "46fec92ca74f7bee"
  },
  {
   "cell_type": "code",
   "execution_count": 23,
   "outputs": [
    {
     "name": "stderr",
     "output_type": "stream",
     "text": [
      "100%|██████████| 77/77 [01:21<00:00,  1.06s/it]\n"
     ]
    }
   ],
   "source": [
    "paris_mobile_data = mobile.get_city_traffic_data(traffic_type=mobile.TrafficType.USERS, city=mobile.City.PARIS)"
   ],
   "metadata": {
    "collapsed": false,
    "ExecuteTime": {
     "end_time": "2023-09-21T13:48:53.588504Z",
     "start_time": "2023-09-21T13:46:41.312068Z"
    }
   },
   "id": "20f2e5c177283da9"
  },
  {
   "cell_type": "code",
   "execution_count": 24,
   "outputs": [],
   "source": [
    "paris_consumption_by_iris = paris_mobile_data.get_service_consumption_by_location(start=time(hour=19), end=time(hour=23, minute=59))"
   ],
   "metadata": {
    "collapsed": false,
    "ExecuteTime": {
     "end_time": "2023-09-21T13:54:02.259172Z",
     "start_time": "2023-09-21T13:48:53.603683Z"
    }
   },
   "id": "4f917a569da2a15e"
  },
  {
   "cell_type": "code",
   "execution_count": 25,
   "outputs": [],
   "source": [
    "paris_iris = paris_consumption_by_iris.index"
   ],
   "metadata": {
    "collapsed": false,
    "ExecuteTime": {
     "end_time": "2023-09-21T13:54:02.324601Z",
     "start_time": "2023-09-21T13:54:02.155572Z"
    }
   },
   "id": "f4efe052343a1ccc"
  },
  {
   "cell_type": "code",
   "execution_count": 26,
   "outputs": [],
   "source": [
    "paris_geo = iris.geo.get_geo_data(iris=paris_iris)"
   ],
   "metadata": {
    "collapsed": false,
    "ExecuteTime": {
     "end_time": "2023-09-21T13:54:18.705275Z",
     "start_time": "2023-09-21T13:54:02.200183Z"
    }
   },
   "id": "582f4e4b2b8029a"
  },
  {
   "cell_type": "code",
   "execution_count": 27,
   "outputs": [],
   "source": [
    "paris_facebook_share = paris_consumption_by_iris.div(paris_consumption_by_iris.sum(axis=1), axis=0)[[mobile.Service.FACEBOOK.value, mobile.Service.FACEBOOK_LIVE.value, mobile.Service.TWITTER.value, mobile.Service.YOUTUBE.value]].sum(axis=1).to_frame(name='social_media_share')"
   ],
   "metadata": {
    "collapsed": false,
    "ExecuteTime": {
     "end_time": "2023-09-21T13:54:18.742109Z",
     "start_time": "2023-09-21T13:54:18.706601Z"
    }
   },
   "id": "fedcab81fa814517"
  },
  {
   "cell_type": "code",
   "execution_count": 28,
   "outputs": [],
   "source": [
    "extremist_parties = election.Party.get_extremist_party_list_number()\n",
    "paris_extremist_votes = election.get_percentage_votes_for_party_at_iris_level(list_number=extremist_parties, iris=paris_iris, return_radius=False)\n",
    "paris_extremist_vote = paris_extremist_votes.sum(axis=1).to_frame(name='extremist_vote')"
   ],
   "metadata": {
    "collapsed": false,
    "ExecuteTime": {
     "end_time": "2023-09-21T13:54:27.159396Z",
     "start_time": "2023-09-21T13:54:18.717734Z"
    }
   },
   "id": "b7f028c4676cdc56"
  },
  {
   "cell_type": "code",
   "execution_count": 29,
   "outputs": [],
   "source": [
    "paris_median_income = iris.admin.get_data(iris=paris_iris, var_name='DEC_MED19')\n",
    "paris_education = iris.admin.get_data(iris=paris_iris, var_name='P19_ACT_DIPLMIN', shares=True)"
   ],
   "metadata": {
    "collapsed": false,
    "ExecuteTime": {
     "end_time": "2023-09-21T13:54:34.734858Z",
     "start_time": "2023-09-21T13:54:27.164935Z"
    }
   },
   "id": "31476225c2f11020"
  },
  {
   "cell_type": "code",
   "execution_count": 30,
   "outputs": [],
   "source": [
    "paris_income_extremism_facebook = pd.concat([paris_facebook_share, paris_extremist_vote, paris_median_income, paris_education], axis=1)\n",
    "paris_income_extremism_facebook.columns = ['social_media_share', 'extremist_vote', 'median_income', 'share_high_school_graduates']"
   ],
   "metadata": {
    "collapsed": false,
    "ExecuteTime": {
     "end_time": "2023-09-21T13:54:34.776571Z",
     "start_time": "2023-09-21T13:54:34.738836Z"
    }
   },
   "id": "bb34144bff53d9cd"
  },
  {
   "cell_type": "code",
   "execution_count": 31,
   "outputs": [],
   "source": [
    "paris_map = gpd.GeoDataFrame(paris_income_extremism_facebook, geometry=paris_geo['geometry'].loc[paris_income_extremism_facebook.index])\n",
    "paris_map.dropna(inplace=True)"
   ],
   "metadata": {
    "collapsed": false,
    "ExecuteTime": {
     "end_time": "2023-09-21T13:54:34.812684Z",
     "start_time": "2023-09-21T13:54:34.744736Z"
    }
   },
   "id": "e5559c7c9f101846"
  },
  {
   "cell_type": "markdown",
   "source": [
    "## Social Media Share Income and Extremism in France"
   ],
   "metadata": {
    "collapsed": false
   },
   "id": "1fde16c3f1fd653f"
  },
  {
   "cell_type": "code",
   "execution_count": 11,
   "outputs": [
    {
     "name": "stderr",
     "output_type": "stream",
     "text": [
      "100%|██████████| 77/77 [00:16<00:00,  4.69it/s]\n",
      "100%|██████████| 77/77 [00:13<00:00,  5.86it/s]\n",
      "100%|██████████| 77/77 [00:13<00:00,  5.56it/s]\n",
      "100%|██████████| 77/77 [00:15<00:00,  5.12it/s]\n",
      "100%|██████████| 77/77 [00:22<00:00,  3.40it/s]\n",
      "100%|██████████| 77/77 [00:26<00:00,  2.87it/s]\n",
      "100%|██████████| 77/77 [00:18<00:00,  4.23it/s]\n",
      "100%|██████████| 77/77 [00:21<00:00,  3.64it/s]\n",
      "100%|██████████| 77/77 [00:14<00:00,  5.21it/s]\n",
      "100%|██████████| 77/77 [00:16<00:00,  4.78it/s]\n",
      "100%|██████████| 77/77 [00:15<00:00,  5.02it/s]\n",
      "100%|██████████| 77/77 [00:17<00:00,  4.42it/s]\n",
      "100%|██████████| 77/77 [00:20<00:00,  3.68it/s]\n",
      "100%|██████████| 77/77 [00:15<00:00,  4.89it/s]\n",
      "100%|██████████| 77/77 [01:10<00:00,  1.09it/s]\n",
      "100%|██████████| 77/77 [00:15<00:00,  4.92it/s]\n",
      "100%|██████████| 77/77 [00:14<00:00,  5.31it/s]\n",
      "100%|██████████| 77/77 [00:14<00:00,  5.32it/s]\n",
      "100%|██████████| 77/77 [00:14<00:00,  5.24it/s]\n",
      "100%|██████████| 77/77 [00:13<00:00,  5.66it/s]\n"
     ]
    }
   ],
   "source": [
    "political_social_media = [mobile.Service.FACEBOOK.value, mobile.Service.FACEBOOK_LIVE.value, mobile.Service.TWITTER.value, mobile.Service.YOUTUBE.value]\n",
    "social_media_shares = []\n",
    "for city in mobile.City:\n",
    "    city_mobile_data = mobile.get_city_traffic_data(traffic_type=mobile.TrafficType.USERS, city=city)\n",
    "    city_consumption_by_iris = city_mobile_data.get_service_consumption_by_location(start=time(hour=19), end=time(hour=23, minute=59))\n",
    "    social_media_share = city_consumption_by_iris.div(city_consumption_by_iris.sum(axis=1), axis=0)[political_social_media].sum(axis=1)\n",
    "    social_media_share_df = social_media_share.to_frame(name='social_media_share').reset_index(names=['iris'])\n",
    "    social_media_share_df['city'] = city.value\n",
    "    social_media_shares.append(social_media_share_df)\n",
    "    \n",
    "social_media_shares = pd.concat(social_media_shares, axis=0)\n",
    "social_media_shares.set_index('iris', inplace=True)"
   ],
   "metadata": {
    "collapsed": false,
    "ExecuteTime": {
     "end_time": "2023-09-13T18:06:42.803132Z",
     "start_time": "2023-09-13T17:57:21.128756Z"
    }
   },
   "id": "7229573b6adbd3e1"
  },
  {
   "cell_type": "code",
   "execution_count": 12,
   "outputs": [],
   "source": [
    "social_media_shares_no_dup = social_media_shares.reset_index().drop_duplicates(subset=['iris']).set_index('iris')[['social_media_share']]"
   ],
   "metadata": {
    "collapsed": false,
    "ExecuteTime": {
     "end_time": "2023-09-13T18:06:42.816010Z",
     "start_time": "2023-09-13T18:06:42.806959Z"
    }
   },
   "id": "c8cbff887f3f9549"
  },
  {
   "cell_type": "code",
   "execution_count": 13,
   "outputs": [],
   "source": [
    "iris_social_media_share_data = social_media_shares_no_dup.index"
   ],
   "metadata": {
    "collapsed": false,
    "ExecuteTime": {
     "end_time": "2023-09-13T18:06:42.820443Z",
     "start_time": "2023-09-13T18:06:42.817784Z"
    }
   },
   "id": "73d07e1f56c3bae8"
  },
  {
   "cell_type": "code",
   "execution_count": 14,
   "outputs": [],
   "source": [
    "income = iris.admin.get_data(iris=iris_social_media_share_data, var_name='DEC_MED19')"
   ],
   "metadata": {
    "collapsed": false,
    "ExecuteTime": {
     "end_time": "2023-09-13T18:06:42.888871Z",
     "start_time": "2023-09-13T18:06:42.824888Z"
    }
   },
   "id": "9e9645c5a2a9b122"
  },
  {
   "cell_type": "code",
   "execution_count": 15,
   "outputs": [],
   "source": [
    "extremist_vote = election.get_percentage_votes_for_party_at_iris_level(list_number=extremist_parties, iris=iris_social_media_share_data)\n",
    "extremist_vote = extremist_vote.loc[(extremist_vote['radius'] < 1200)]\n",
    "extremist_vote = extremist_vote.drop(columns=['radius'])\n",
    "extremism = extremist_vote.sum(axis=1).to_frame(name='extremist_vote')"
   ],
   "metadata": {
    "collapsed": false,
    "ExecuteTime": {
     "end_time": "2023-09-13T18:06:44.257304Z",
     "start_time": "2023-09-13T18:06:42.891127Z"
    }
   },
   "id": "7bb33d4928de560a"
  },
  {
   "cell_type": "code",
   "execution_count": 16,
   "outputs": [],
   "source": [
    "social_media_shares_income_and_extremism = pd.concat([social_media_shares_no_dup, income, extremism], axis=1)\n",
    "social_media_shares_income_and_extremism.columns = ['social_media_share', 'median_income', 'extremist_vote']"
   ],
   "metadata": {
    "collapsed": false,
    "ExecuteTime": {
     "end_time": "2023-09-13T18:06:44.267182Z",
     "start_time": "2023-09-13T18:06:44.263965Z"
    }
   },
   "id": "5fdcbe9c07bdc64a"
  },
  {
   "cell_type": "code",
   "execution_count": 17,
   "outputs": [],
   "source": [
    "social_media_shares_income_and_extremism.dropna(inplace=True)"
   ],
   "metadata": {
    "collapsed": false,
    "ExecuteTime": {
     "end_time": "2023-09-13T18:06:44.272013Z",
     "start_time": "2023-09-13T18:06:44.268327Z"
    }
   },
   "id": "6e8039ba3ed32e02"
  },
  {
   "cell_type": "markdown",
   "source": [
    "## Regression of Social Media on Extremism with controls "
   ],
   "metadata": {
    "collapsed": false
   },
   "id": "4f0cda91f4dd0313"
  },
  {
   "cell_type": "code",
   "execution_count": 18,
   "outputs": [],
   "source": [
    "age_vars = ['P19_POP1529', 'P19_POP3044', 'P19_POP4559', 'P19_POP6074', 'P19_POP75P']\n",
    "education_vars = ['P19_ACT_DIPLMIN','P19_ACT_BAC', 'P19_ACT_SUP2']\n",
    "unemployment_vars = ['P19_CHOM1524', 'P19_CHOM2554', 'P19_CHOM5564']\n",
    "immigration_vars = ['P19_POP_IMM']\n",
    "gender_vars = ['P19_POPH'] \n",
    "income_vars = ['DEC_MED19']"
   ],
   "metadata": {
    "collapsed": false,
    "ExecuteTime": {
     "end_time": "2023-09-13T18:06:44.276818Z",
     "start_time": "2023-09-13T18:06:44.274158Z"
    }
   },
   "id": "1c2a26dc45e31981"
  },
  {
   "cell_type": "code",
   "execution_count": 19,
   "outputs": [],
   "source": [
    "age = iris.admin.get_data(iris=iris_social_media_share_data, var_name=age_vars, shares=True)\n",
    "education = iris.admin.get_data(iris=iris_social_media_share_data, var_name=education_vars, shares=True)\n",
    "unemployment = iris.admin.get_data(iris=iris_social_media_share_data, var_name=unemployment_vars, shares=True)\n",
    "immigration = iris.admin.get_data(iris=iris_social_media_share_data, var_name=immigration_vars, shares=True)\n",
    "gender = iris.admin.get_data(iris=iris_social_media_share_data, var_name=gender_vars, shares=True)\n",
    "income = iris.admin.get_data(iris=iris_social_media_share_data, var_name=income_vars, shares=False)\n",
    "controls = pd.concat([age, education, unemployment, immigration, gender, income], axis=1)"
   ],
   "metadata": {
    "collapsed": false,
    "ExecuteTime": {
     "end_time": "2023-09-13T18:06:44.619374Z",
     "start_time": "2023-09-13T18:06:44.283279Z"
    }
   },
   "id": "4e922788477575dd"
  },
  {
   "cell_type": "code",
   "execution_count": 20,
   "outputs": [],
   "source": [
    "social_media_shares_extremism_and_controls = pd.concat([social_media_shares_no_dup, extremism, controls], axis=1)"
   ],
   "metadata": {
    "collapsed": false,
    "ExecuteTime": {
     "end_time": "2023-09-13T18:06:44.628798Z",
     "start_time": "2023-09-13T18:06:44.619879Z"
    }
   },
   "id": "fc8525f7c6c42bb0"
  },
  {
   "cell_type": "code",
   "execution_count": 21,
   "outputs": [],
   "source": [
    "social_media_shares_extremism_and_controls.dropna(inplace=True)"
   ],
   "metadata": {
    "collapsed": false,
    "ExecuteTime": {
     "end_time": "2023-09-13T18:06:44.634461Z",
     "start_time": "2023-09-13T18:06:44.629906Z"
    }
   },
   "id": "3f4680a80373918a"
  },
  {
   "cell_type": "markdown",
   "source": [
    "## Save"
   ],
   "metadata": {
    "collapsed": false
   },
   "id": "b1a277f6854e0bc5"
  },
  {
   "cell_type": "code",
   "execution_count": 32,
   "outputs": [],
   "source": [
    "path = '/Users/anmusso/Desktop/PhD/Projects/Current/NetMob/NetMobData/data/FigureData/GeoDiscontent/'"
   ],
   "metadata": {
    "collapsed": false,
    "ExecuteTime": {
     "end_time": "2023-09-21T13:54:34.814776Z",
     "start_time": "2023-09-21T13:54:34.779791Z"
    }
   },
   "id": "714b7c7f45f48385"
  },
  {
   "cell_type": "code",
   "execution_count": 33,
   "outputs": [],
   "source": [
    "paris_map.to_file(path + 'paris_map.geojson', driver='GeoJSON')"
   ],
   "metadata": {
    "collapsed": false,
    "ExecuteTime": {
     "end_time": "2023-09-21T13:54:35.988341Z",
     "start_time": "2023-09-21T13:54:34.786271Z"
    }
   },
   "id": "2eba828c02779aa4"
  },
  {
   "cell_type": "code",
   "execution_count": 37,
   "outputs": [],
   "source": [
    "social_media_shares_income_and_extremism.to_csv(path + 'social_media_shares_income_and_extremism.csv')"
   ],
   "metadata": {
    "collapsed": false,
    "ExecuteTime": {
     "end_time": "2023-09-13T18:13:01.125505Z",
     "start_time": "2023-09-13T18:13:01.102312Z"
    }
   },
   "id": "de06886daa4f87ed"
  },
  {
   "cell_type": "code",
   "execution_count": 38,
   "outputs": [],
   "source": [
    "social_media_shares_extremism_and_controls.to_csv(path + 'social_media_shares_extremism_and_controls.csv')"
   ],
   "metadata": {
    "collapsed": false,
    "ExecuteTime": {
     "end_time": "2023-09-13T18:13:01.246770Z",
     "start_time": "2023-09-13T18:13:01.124805Z"
    }
   },
   "id": "1ad4091169d85c13"
  },
  {
   "cell_type": "code",
   "execution_count": 34,
   "outputs": [],
   "source": [
    "import pandas as pd\n",
    "import geopandas as gpd"
   ],
   "metadata": {
    "collapsed": false,
    "ExecuteTime": {
     "end_time": "2023-09-21T13:54:36.002623Z",
     "start_time": "2023-09-21T13:54:35.991750Z"
    }
   },
   "id": "55c588dc24380cbf"
  },
  {
   "cell_type": "code",
   "execution_count": 42,
   "outputs": [],
   "source": [
    "paris_map = gpd.read_file(path + 'paris_map.geojson')\n",
    "social_media_shares_income_and_extremism = pd.read_csv(path + 'social_media_shares_income_and_extremism.csv', index_col='iris')\n",
    "social_media_shares_extremism_and_controls = pd.read_csv(path + 'social_media_shares_extremism_and_controls.csv', index_col='iris')"
   ],
   "metadata": {
    "collapsed": false,
    "ExecuteTime": {
     "end_time": "2023-09-21T16:32:27.838049Z",
     "start_time": "2023-09-21T16:32:26.692127Z"
    }
   },
   "id": "446f00c6a0afa70d"
  },
  {
   "cell_type": "code",
   "execution_count": 43,
   "outputs": [
    {
     "data": {
      "text/plain": "Index(['iris', 'social_media_share', 'extremist_vote', 'median_income',\n       'share_high_school_graduates', 'geometry'],\n      dtype='object')"
     },
     "execution_count": 43,
     "metadata": {},
     "output_type": "execute_result"
    }
   ],
   "source": [
    "paris_map.columns"
   ],
   "metadata": {
    "collapsed": false,
    "ExecuteTime": {
     "end_time": "2023-09-21T16:32:27.851217Z",
     "start_time": "2023-09-21T16:32:27.841464Z"
    }
   },
   "id": "fca53c158aca9c8"
  },
  {
   "cell_type": "code",
   "execution_count": 44,
   "outputs": [],
   "source": [
    "paris_map.to_crs(epsg=2154, inplace=True)\n",
    "area_ = paris_map.area.mean()"
   ],
   "metadata": {
    "collapsed": false,
    "ExecuteTime": {
     "end_time": "2023-09-21T16:32:27.863451Z",
     "start_time": "2023-09-21T16:32:27.850207Z"
    }
   },
   "id": "48146df10517a8c"
  },
  {
   "cell_type": "code",
   "execution_count": 45,
   "outputs": [
    {
     "data": {
      "text/plain": "0.27776135053485707"
     },
     "execution_count": 45,
     "metadata": {},
     "output_type": "execute_result"
    }
   ],
   "source": [
    "area_ / (1000 * 1000)"
   ],
   "metadata": {
    "collapsed": false,
    "ExecuteTime": {
     "end_time": "2023-09-21T16:32:28.552866Z",
     "start_time": "2023-09-21T16:32:28.536553Z"
    }
   },
   "id": "7192323ddf4d3998"
  },
  {
   "cell_type": "code",
   "execution_count": 46,
   "outputs": [
    {
     "data": {
      "text/plain": "0.1973663114730219"
     },
     "execution_count": 46,
     "metadata": {},
     "output_type": "execute_result"
    }
   ],
   "source": [
    "m = paris_map['social_media_share'].mean()\n",
    "m"
   ],
   "metadata": {
    "collapsed": false,
    "ExecuteTime": {
     "end_time": "2023-09-21T16:32:30.147224Z",
     "start_time": "2023-09-21T16:32:30.114638Z"
    }
   },
   "id": "2fc43192225eaa9c"
  },
  {
   "cell_type": "code",
   "execution_count": 48,
   "outputs": [
    {
     "data": {
      "text/plain": "0.016134071974064138"
     },
     "execution_count": 48,
     "metadata": {},
     "output_type": "execute_result"
    }
   ],
   "source": [
    "s = paris_map['social_media_share'].std()\n",
    "s"
   ],
   "metadata": {
    "collapsed": false,
    "ExecuteTime": {
     "end_time": "2023-09-21T16:32:35.752393Z",
     "start_time": "2023-09-21T16:32:35.733944Z"
    }
   },
   "id": "394aee3e62827be9"
  },
  {
   "cell_type": "code",
   "execution_count": 49,
   "outputs": [
    {
     "data": {
      "text/plain": "0.21350038344708602"
     },
     "execution_count": 49,
     "metadata": {},
     "output_type": "execute_result"
    }
   ],
   "source": [
    "m + s"
   ],
   "metadata": {
    "collapsed": false,
    "ExecuteTime": {
     "end_time": "2023-09-21T16:32:37.862980Z",
     "start_time": "2023-09-21T16:32:37.847164Z"
    }
   },
   "id": "bdeb350fcd4bc210"
  },
  {
   "cell_type": "code",
   "execution_count": 1,
   "outputs": [],
   "source": [
    "import insee"
   ],
   "metadata": {
    "collapsed": false,
    "ExecuteTime": {
     "end_time": "2023-09-21T13:42:38.712480Z",
     "start_time": "2023-09-21T13:42:37.448441Z"
    }
   },
   "id": "5b722dd73b5d995d"
  },
  {
   "cell_type": "code",
   "execution_count": 41,
   "outputs": [
    {
     "ename": "KeyError",
     "evalue": "'None of [RangeIndex(start=0, stop=2711, step=1)] are in the [index]'",
     "output_type": "error",
     "traceback": [
      "\u001B[0;31m---------------------------------------------------------------------------\u001B[0m",
      "\u001B[0;31mKeyError\u001B[0m                                  Traceback (most recent call last)",
      "Cell \u001B[0;32mIn[41], line 1\u001B[0m\n\u001B[0;32m----> 1\u001B[0m geo_iris \u001B[38;5;241m=\u001B[39m \u001B[43minsee\u001B[49m\u001B[38;5;241;43m.\u001B[39;49m\u001B[43miris\u001B[49m\u001B[38;5;241;43m.\u001B[39;49m\u001B[43mgeo\u001B[49m\u001B[38;5;241;43m.\u001B[39;49m\u001B[43mget_geo_data\u001B[49m\u001B[43m(\u001B[49m\u001B[43miris\u001B[49m\u001B[38;5;241;43m=\u001B[39;49m\u001B[43mparis_map\u001B[49m\u001B[38;5;241;43m.\u001B[39;49m\u001B[43mindex\u001B[49m\u001B[43m)\u001B[49m\n",
      "File \u001B[0;32m~/Desktop/PhD/Packages/Data/insee/src/insee/iris/geo/interface.py:10\u001B[0m, in \u001B[0;36mget_geo_data\u001B[0;34m(iris)\u001B[0m\n\u001B[1;32m      8\u001B[0m \u001B[38;5;28;01mdef\u001B[39;00m \u001B[38;5;21mget_geo_data\u001B[39m(iris: List[\u001B[38;5;28mstr\u001B[39m] \u001B[38;5;241m=\u001B[39m \u001B[38;5;28;01mNone\u001B[39;00m) \u001B[38;5;241m-\u001B[39m\u001B[38;5;241m>\u001B[39m gpd\u001B[38;5;241m.\u001B[39mGeoDataFrame:\n\u001B[1;32m      9\u001B[0m     iris_ \u001B[38;5;241m=\u001B[39m iris \u001B[38;5;28;01mif\u001B[39;00m iris \u001B[38;5;129;01mis\u001B[39;00m \u001B[38;5;129;01mnot\u001B[39;00m \u001B[38;5;28;01mNone\u001B[39;00m \u001B[38;5;28;01melse\u001B[39;00m data\u001B[38;5;241m.\u001B[39mdata\u001B[38;5;241m.\u001B[39mindex\n\u001B[0;32m---> 10\u001B[0m     \u001B[38;5;28;01mreturn\u001B[39;00m \u001B[43mdata\u001B[49m\u001B[38;5;241;43m.\u001B[39;49m\u001B[43mdata\u001B[49m\u001B[38;5;241;43m.\u001B[39;49m\u001B[43mloc\u001B[49m\u001B[43m[\u001B[49m\u001B[43miris_\u001B[49m\u001B[43m]\u001B[49m\u001B[38;5;241m.\u001B[39mcopy()\n",
      "File \u001B[0;32m~/opt/anaconda3/envs/NetMob/lib/python3.8/site-packages/pandas/core/indexing.py:1103\u001B[0m, in \u001B[0;36m_LocationIndexer.__getitem__\u001B[0;34m(self, key)\u001B[0m\n\u001B[1;32m   1100\u001B[0m axis \u001B[38;5;241m=\u001B[39m \u001B[38;5;28mself\u001B[39m\u001B[38;5;241m.\u001B[39maxis \u001B[38;5;129;01mor\u001B[39;00m \u001B[38;5;241m0\u001B[39m\n\u001B[1;32m   1102\u001B[0m maybe_callable \u001B[38;5;241m=\u001B[39m com\u001B[38;5;241m.\u001B[39mapply_if_callable(key, \u001B[38;5;28mself\u001B[39m\u001B[38;5;241m.\u001B[39mobj)\n\u001B[0;32m-> 1103\u001B[0m \u001B[38;5;28;01mreturn\u001B[39;00m \u001B[38;5;28;43mself\u001B[39;49m\u001B[38;5;241;43m.\u001B[39;49m\u001B[43m_getitem_axis\u001B[49m\u001B[43m(\u001B[49m\u001B[43mmaybe_callable\u001B[49m\u001B[43m,\u001B[49m\u001B[43m \u001B[49m\u001B[43maxis\u001B[49m\u001B[38;5;241;43m=\u001B[39;49m\u001B[43maxis\u001B[49m\u001B[43m)\u001B[49m\n",
      "File \u001B[0;32m~/opt/anaconda3/envs/NetMob/lib/python3.8/site-packages/pandas/core/indexing.py:1332\u001B[0m, in \u001B[0;36m_LocIndexer._getitem_axis\u001B[0;34m(self, key, axis)\u001B[0m\n\u001B[1;32m   1329\u001B[0m     \u001B[38;5;28;01mif\u001B[39;00m \u001B[38;5;28mhasattr\u001B[39m(key, \u001B[38;5;124m\"\u001B[39m\u001B[38;5;124mndim\u001B[39m\u001B[38;5;124m\"\u001B[39m) \u001B[38;5;129;01mand\u001B[39;00m key\u001B[38;5;241m.\u001B[39mndim \u001B[38;5;241m>\u001B[39m \u001B[38;5;241m1\u001B[39m:\n\u001B[1;32m   1330\u001B[0m         \u001B[38;5;28;01mraise\u001B[39;00m \u001B[38;5;167;01mValueError\u001B[39;00m(\u001B[38;5;124m\"\u001B[39m\u001B[38;5;124mCannot index with multidimensional key\u001B[39m\u001B[38;5;124m\"\u001B[39m)\n\u001B[0;32m-> 1332\u001B[0m     \u001B[38;5;28;01mreturn\u001B[39;00m \u001B[38;5;28;43mself\u001B[39;49m\u001B[38;5;241;43m.\u001B[39;49m\u001B[43m_getitem_iterable\u001B[49m\u001B[43m(\u001B[49m\u001B[43mkey\u001B[49m\u001B[43m,\u001B[49m\u001B[43m \u001B[49m\u001B[43maxis\u001B[49m\u001B[38;5;241;43m=\u001B[39;49m\u001B[43maxis\u001B[49m\u001B[43m)\u001B[49m\n\u001B[1;32m   1334\u001B[0m \u001B[38;5;66;03m# nested tuple slicing\u001B[39;00m\n\u001B[1;32m   1335\u001B[0m \u001B[38;5;28;01mif\u001B[39;00m is_nested_tuple(key, labels):\n",
      "File \u001B[0;32m~/opt/anaconda3/envs/NetMob/lib/python3.8/site-packages/pandas/core/indexing.py:1272\u001B[0m, in \u001B[0;36m_LocIndexer._getitem_iterable\u001B[0;34m(self, key, axis)\u001B[0m\n\u001B[1;32m   1269\u001B[0m \u001B[38;5;28mself\u001B[39m\u001B[38;5;241m.\u001B[39m_validate_key(key, axis)\n\u001B[1;32m   1271\u001B[0m \u001B[38;5;66;03m# A collection of keys\u001B[39;00m\n\u001B[0;32m-> 1272\u001B[0m keyarr, indexer \u001B[38;5;241m=\u001B[39m \u001B[38;5;28;43mself\u001B[39;49m\u001B[38;5;241;43m.\u001B[39;49m\u001B[43m_get_listlike_indexer\u001B[49m\u001B[43m(\u001B[49m\u001B[43mkey\u001B[49m\u001B[43m,\u001B[49m\u001B[43m \u001B[49m\u001B[43maxis\u001B[49m\u001B[43m)\u001B[49m\n\u001B[1;32m   1273\u001B[0m \u001B[38;5;28;01mreturn\u001B[39;00m \u001B[38;5;28mself\u001B[39m\u001B[38;5;241m.\u001B[39mobj\u001B[38;5;241m.\u001B[39m_reindex_with_indexers(\n\u001B[1;32m   1274\u001B[0m     {axis: [keyarr, indexer]}, copy\u001B[38;5;241m=\u001B[39m\u001B[38;5;28;01mTrue\u001B[39;00m, allow_dups\u001B[38;5;241m=\u001B[39m\u001B[38;5;28;01mTrue\u001B[39;00m\n\u001B[1;32m   1275\u001B[0m )\n",
      "File \u001B[0;32m~/opt/anaconda3/envs/NetMob/lib/python3.8/site-packages/pandas/core/indexing.py:1462\u001B[0m, in \u001B[0;36m_LocIndexer._get_listlike_indexer\u001B[0;34m(self, key, axis)\u001B[0m\n\u001B[1;32m   1459\u001B[0m ax \u001B[38;5;241m=\u001B[39m \u001B[38;5;28mself\u001B[39m\u001B[38;5;241m.\u001B[39mobj\u001B[38;5;241m.\u001B[39m_get_axis(axis)\n\u001B[1;32m   1460\u001B[0m axis_name \u001B[38;5;241m=\u001B[39m \u001B[38;5;28mself\u001B[39m\u001B[38;5;241m.\u001B[39mobj\u001B[38;5;241m.\u001B[39m_get_axis_name(axis)\n\u001B[0;32m-> 1462\u001B[0m keyarr, indexer \u001B[38;5;241m=\u001B[39m \u001B[43max\u001B[49m\u001B[38;5;241;43m.\u001B[39;49m\u001B[43m_get_indexer_strict\u001B[49m\u001B[43m(\u001B[49m\u001B[43mkey\u001B[49m\u001B[43m,\u001B[49m\u001B[43m \u001B[49m\u001B[43maxis_name\u001B[49m\u001B[43m)\u001B[49m\n\u001B[1;32m   1464\u001B[0m \u001B[38;5;28;01mreturn\u001B[39;00m keyarr, indexer\n",
      "File \u001B[0;32m~/opt/anaconda3/envs/NetMob/lib/python3.8/site-packages/pandas/core/indexes/base.py:5876\u001B[0m, in \u001B[0;36mIndex._get_indexer_strict\u001B[0;34m(self, key, axis_name)\u001B[0m\n\u001B[1;32m   5873\u001B[0m \u001B[38;5;28;01melse\u001B[39;00m:\n\u001B[1;32m   5874\u001B[0m     keyarr, indexer, new_indexer \u001B[38;5;241m=\u001B[39m \u001B[38;5;28mself\u001B[39m\u001B[38;5;241m.\u001B[39m_reindex_non_unique(keyarr)\n\u001B[0;32m-> 5876\u001B[0m \u001B[38;5;28;43mself\u001B[39;49m\u001B[38;5;241;43m.\u001B[39;49m\u001B[43m_raise_if_missing\u001B[49m\u001B[43m(\u001B[49m\u001B[43mkeyarr\u001B[49m\u001B[43m,\u001B[49m\u001B[43m \u001B[49m\u001B[43mindexer\u001B[49m\u001B[43m,\u001B[49m\u001B[43m \u001B[49m\u001B[43maxis_name\u001B[49m\u001B[43m)\u001B[49m\n\u001B[1;32m   5878\u001B[0m keyarr \u001B[38;5;241m=\u001B[39m \u001B[38;5;28mself\u001B[39m\u001B[38;5;241m.\u001B[39mtake(indexer)\n\u001B[1;32m   5879\u001B[0m \u001B[38;5;28;01mif\u001B[39;00m \u001B[38;5;28misinstance\u001B[39m(key, Index):\n\u001B[1;32m   5880\u001B[0m     \u001B[38;5;66;03m# GH 42790 - Preserve name from an Index\u001B[39;00m\n",
      "File \u001B[0;32m~/opt/anaconda3/envs/NetMob/lib/python3.8/site-packages/pandas/core/indexes/base.py:5935\u001B[0m, in \u001B[0;36mIndex._raise_if_missing\u001B[0;34m(self, key, indexer, axis_name)\u001B[0m\n\u001B[1;32m   5933\u001B[0m     \u001B[38;5;28;01mif\u001B[39;00m use_interval_msg:\n\u001B[1;32m   5934\u001B[0m         key \u001B[38;5;241m=\u001B[39m \u001B[38;5;28mlist\u001B[39m(key)\n\u001B[0;32m-> 5935\u001B[0m     \u001B[38;5;28;01mraise\u001B[39;00m \u001B[38;5;167;01mKeyError\u001B[39;00m(\u001B[38;5;124mf\u001B[39m\u001B[38;5;124m\"\u001B[39m\u001B[38;5;124mNone of [\u001B[39m\u001B[38;5;132;01m{\u001B[39;00mkey\u001B[38;5;132;01m}\u001B[39;00m\u001B[38;5;124m] are in the [\u001B[39m\u001B[38;5;132;01m{\u001B[39;00maxis_name\u001B[38;5;132;01m}\u001B[39;00m\u001B[38;5;124m]\u001B[39m\u001B[38;5;124m\"\u001B[39m)\n\u001B[1;32m   5937\u001B[0m not_found \u001B[38;5;241m=\u001B[39m \u001B[38;5;28mlist\u001B[39m(ensure_index(key)[missing_mask\u001B[38;5;241m.\u001B[39mnonzero()[\u001B[38;5;241m0\u001B[39m]]\u001B[38;5;241m.\u001B[39munique())\n\u001B[1;32m   5938\u001B[0m \u001B[38;5;28;01mraise\u001B[39;00m \u001B[38;5;167;01mKeyError\u001B[39;00m(\u001B[38;5;124mf\u001B[39m\u001B[38;5;124m\"\u001B[39m\u001B[38;5;132;01m{\u001B[39;00mnot_found\u001B[38;5;132;01m}\u001B[39;00m\u001B[38;5;124m not in index\u001B[39m\u001B[38;5;124m\"\u001B[39m)\n",
      "\u001B[0;31mKeyError\u001B[0m: 'None of [RangeIndex(start=0, stop=2711, step=1)] are in the [index]'"
     ]
    }
   ],
   "source": [
    "geo_iris = insee.iris.geo.get_geo_data(iris=paris_map.index)"
   ],
   "metadata": {
    "collapsed": false,
    "ExecuteTime": {
     "end_time": "2023-09-21T16:32:22.479253Z",
     "start_time": "2023-09-21T16:32:21.569112Z"
    }
   },
   "id": "63b006e1dfce4bbd"
  },
  {
   "cell_type": "code",
   "execution_count": 3,
   "outputs": [
    {
     "data": {
      "text/plain": "0.277"
     },
     "execution_count": 3,
     "metadata": {},
     "output_type": "execute_result"
    }
   ],
   "source": [
    "0.277"
   ],
   "metadata": {
    "collapsed": false,
    "ExecuteTime": {
     "end_time": "2023-09-21T13:43:09.511955Z",
     "start_time": "2023-09-21T13:43:09.461953Z"
    }
   },
   "id": "22d6b9a7d623e5fc"
  },
  {
   "cell_type": "code",
   "execution_count": 4,
   "outputs": [
    {
     "data": {
      "text/plain": "0.01"
     },
     "execution_count": 4,
     "metadata": {},
     "output_type": "execute_result"
    }
   ],
   "source": [
    "100*100 / (1000* 1000)"
   ],
   "metadata": {
    "collapsed": false,
    "ExecuteTime": {
     "end_time": "2023-09-21T13:43:22.817013Z",
     "start_time": "2023-09-21T13:43:22.788474Z"
    }
   },
   "id": "fc8263adc83f3be4"
  },
  {
   "cell_type": "code",
   "execution_count": 6,
   "outputs": [
    {
     "data": {
      "text/plain": "27.700000000000003"
     },
     "execution_count": 6,
     "metadata": {},
     "output_type": "execute_result"
    }
   ],
   "source": [
    "0.277 / 0.01"
   ],
   "metadata": {
    "collapsed": false,
    "ExecuteTime": {
     "end_time": "2023-09-21T13:43:38.105370Z",
     "start_time": "2023-09-21T13:43:38.093045Z"
    }
   },
   "id": "2af361d19be39bb8"
  },
  {
   "cell_type": "code",
   "execution_count": null,
   "outputs": [],
   "source": [],
   "metadata": {
    "collapsed": false
   },
   "id": "eee0f118e9102993"
  }
 ],
 "metadata": {
  "kernelspec": {
   "display_name": "Python 3",
   "language": "python",
   "name": "python3"
  },
  "language_info": {
   "codemirror_mode": {
    "name": "ipython",
    "version": 2
   },
   "file_extension": ".py",
   "mimetype": "text/x-python",
   "name": "python",
   "nbconvert_exporter": "python",
   "pygments_lexer": "ipython2",
   "version": "2.7.6"
  }
 },
 "nbformat": 4,
 "nbformat_minor": 5
}
