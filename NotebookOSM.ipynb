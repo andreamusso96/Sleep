{
 "cells": [
  {
   "cell_type": "code",
   "execution_count": 138,
   "metadata": {
    "collapsed": true,
    "ExecuteTime": {
     "end_time": "2023-06-23T16:57:28.636483Z",
     "start_time": "2023-06-23T16:57:28.554203Z"
    }
   },
   "outputs": [],
   "source": [
    "import osmnx as ox\n",
    "from DataInterface.GeoDataInterface import GeoData, GeoDataType\n",
    "from DataInterface.AdminDataInterface import AdminData\n",
    "import pandas as pd\n",
    "import geopandas as gpd\n",
    "import os\n",
    "import webbrowser\n",
    "from DataPreprocessing.OSM.TransportData import TransportDataDownloader\n",
    "from Utils import City"
   ]
  },
  {
   "cell_type": "code",
   "execution_count": 3,
   "outputs": [
    {
     "name": "stdout",
     "output_type": "stream",
     "text": [
      "The autoreload extension is already loaded. To reload it, use:\n",
      "  %reload_ext autoreload\n"
     ]
    }
   ],
   "source": [
    "%load_ext autoreload\n",
    "%autoreload 2"
   ],
   "metadata": {
    "collapsed": false,
    "ExecuteTime": {
     "end_time": "2023-06-23T14:04:21.380039Z",
     "start_time": "2023-06-23T14:04:21.349156Z"
    }
   }
  },
  {
   "cell_type": "code",
   "execution_count": 188,
   "outputs": [],
   "source": [
    "def plot_map(g):\n",
    "    html_map = g.explore(legend=True, tiles=\"CartoDB positron\")\n",
    "    html_map.save(f'temp/public_transport_paris_map.html')\n",
    "    webbrowser.open('file://' + os.path.realpath(f'temp/public_transport_paris_map.html'))\n"
   ],
   "metadata": {
    "collapsed": false,
    "ExecuteTime": {
     "end_time": "2023-06-23T18:10:38.789966Z",
     "start_time": "2023-06-23T18:10:38.297649Z"
    }
   }
  },
  {
   "cell_type": "code",
   "execution_count": 5,
   "outputs": [],
   "source": [
    "geo_data = GeoData()\n",
    "geo_data.load(GeoDataType.IRIS)"
   ],
   "metadata": {
    "collapsed": false,
    "ExecuteTime": {
     "end_time": "2023-06-23T14:05:24.077061Z",
     "start_time": "2023-06-23T14:04:35.793609Z"
    }
   }
  },
  {
   "cell_type": "code",
   "execution_count": null,
   "outputs": [],
   "source": [
    "iris_geo_data = geo_data.get_geo_data(geometry=GeoDataType.IRIS, other_geo_data_types=GeoDataType.CITY)\n",
    "city_geo_data = iris_geo_data[[GeoDataType.CITY.value, 'geometry']].dissolve(by=GeoDataType.CITY.value).reset_index()"
   ],
   "metadata": {
    "collapsed": false
   }
  },
  {
   "cell_type": "code",
   "execution_count": null,
   "outputs": [],
   "source": [],
   "metadata": {
    "collapsed": false
   }
  },
  {
   "cell_type": "code",
   "execution_count": 189,
   "outputs": [],
   "source": [
    "tours = iris_geo_data[iris_geo_data[GeoDataType.CITY.value] == City.TOURS.value]\n",
    "plot_map(tours)"
   ],
   "metadata": {
    "collapsed": false,
    "ExecuteTime": {
     "end_time": "2023-06-23T18:10:40.838490Z",
     "start_time": "2023-06-23T18:10:40.061337Z"
    }
   }
  },
  {
   "cell_type": "code",
   "execution_count": 187,
   "outputs": [
    {
     "name": "stdout",
     "output_type": "stream",
     "text": [
      "City.BORDEAUX\n",
      "City.CLERMONT_FERRAND\n",
      "City.DIJON\n",
      "City.GRENOBLE\n",
      "City.LILLE\n",
      "City.LYON\n",
      "City.MANS\n",
      "City.MARSEILLE\n",
      "City.METZ\n",
      "City.MONTPELLIER\n",
      "City.NANCY\n",
      "City.NANTES\n",
      "City.NICE\n",
      "City.ORLEANS\n",
      "City.PARIS\n",
      "City.RENNES\n",
      "City.SAINT_ETIENNE\n",
      "City.STRASBOURG\n",
      "City.TOULOUSE\n",
      "City.TOURS\n"
     ]
    }
   ],
   "source": [
    "for city in City:\n",
    "    print(city)\n",
    "    polygon = city_geo_data[city_geo_data[GeoDataType.CITY.value] == city.value]['geometry'].iloc[0]\n",
    "    gdf = ox.geometries_from_polygon(polygon=polygon, tags={'landuse': True})\n",
    "    d = gdf[['geometry', 'landuse']]\n",
    "    plot_map(d)\n"
   ],
   "metadata": {
    "collapsed": false,
    "ExecuteTime": {
     "end_time": "2023-06-23T17:57:54.310888Z",
     "start_time": "2023-06-23T17:55:54.116928Z"
    }
   }
  },
  {
   "cell_type": "code",
   "execution_count": 170,
   "outputs": [],
   "source": [
    "city = City.PARIS\n",
    "polygon = city_geo_data[city_geo_data[GeoDataType.CITY.value] == city.value]['geometry'].iloc[0]"
   ],
   "metadata": {
    "collapsed": false,
    "ExecuteTime": {
     "end_time": "2023-06-23T17:31:59.996688Z",
     "start_time": "2023-06-23T17:31:59.915989Z"
    }
   }
  },
  {
   "cell_type": "code",
   "execution_count": 171,
   "outputs": [],
   "source": [
    "gdf = ox.geometries_from_polygon(polygon=polygon, tags={'landuse': ['commercial', 'construction', 'education', 'fairground']})"
   ],
   "metadata": {
    "collapsed": false,
    "ExecuteTime": {
     "end_time": "2023-06-23T17:35:04.362285Z",
     "start_time": "2023-06-23T17:32:00.124882Z"
    }
   }
  },
  {
   "cell_type": "code",
   "execution_count": 183,
   "outputs": [],
   "source": [
    "d = gdf[['geometry', 'landuse']]\n",
    "d= d[d['landuse'] != 'residential']"
   ],
   "metadata": {
    "collapsed": false,
    "ExecuteTime": {
     "end_time": "2023-06-23T17:41:29.141028Z",
     "start_time": "2023-06-23T17:41:29.048278Z"
    }
   }
  },
  {
   "cell_type": "code",
   "execution_count": 184,
   "outputs": [],
   "source": [
    "plot_map(d)"
   ],
   "metadata": {
    "collapsed": false,
    "ExecuteTime": {
     "end_time": "2023-06-23T17:41:36.849954Z",
     "start_time": "2023-06-23T17:41:29.415051Z"
    }
   }
  },
  {
   "cell_type": "code",
   "execution_count": 169,
   "outputs": [
    {
     "name": "stdout",
     "output_type": "stream",
     "text": [
      "City.MANS\n"
     ]
    }
   ],
   "source": [
    "for city in [City.MANS]:\n",
    "    print(city)\n",
    "    downloader = TransportDataDownloader(city=city, city_geometry=city_geo_data[city_geo_data[GeoDataType.CITY.value] == city.value])\n",
    "    transport_map = downloader.download()\n",
    "    plot_map(transport_map)"
   ],
   "metadata": {
    "collapsed": false
   }
  },
  {
   "cell_type": "code",
   "execution_count": 165,
   "outputs": [],
   "source": [
    "city = City.LYON\n",
    "downloader = TransportDataDownloader(city=city, city_geometry=city_geo_data[city_geo_data[GeoDataType.CITY.value] == city.value])"
   ],
   "metadata": {
    "collapsed": false,
    "ExecuteTime": {
     "end_time": "2023-06-23T17:14:02.646933Z",
     "start_time": "2023-06-23T17:14:01.486684Z"
    }
   }
  },
  {
   "cell_type": "code",
   "execution_count": 166,
   "outputs": [],
   "source": [
    "map = downloader.download()"
   ],
   "metadata": {
    "collapsed": false,
    "ExecuteTime": {
     "end_time": "2023-06-23T17:14:04.154546Z",
     "start_time": "2023-06-23T17:14:03.245636Z"
    }
   }
  },
  {
   "cell_type": "code",
   "execution_count": 167,
   "outputs": [],
   "source": [
    "plot_map(map)"
   ],
   "metadata": {
    "collapsed": false,
    "ExecuteTime": {
     "end_time": "2023-06-23T17:14:07.254662Z",
     "start_time": "2023-06-23T17:14:06.662946Z"
    }
   }
  },
  {
   "cell_type": "code",
   "execution_count": 134,
   "outputs": [],
   "source": [
    "plot_map(paris)"
   ],
   "metadata": {
    "collapsed": false,
    "ExecuteTime": {
     "end_time": "2023-06-23T16:54:39.819704Z",
     "start_time": "2023-06-23T16:54:38.534999Z"
    }
   }
  },
  {
   "cell_type": "code",
   "execution_count": 96,
   "outputs": [],
   "source": [
    "gdf = ox.geometries_from_polygon(polygon=paris_polygon, tags={'public_transport': 'stop_position'})"
   ],
   "metadata": {
    "collapsed": false,
    "ExecuteTime": {
     "end_time": "2023-06-23T15:17:21.702875Z",
     "start_time": "2023-06-23T15:14:50.973856Z"
    }
   }
  },
  {
   "cell_type": "code",
   "execution_count": 113,
   "outputs": [
    {
     "data": {
      "text/plain": "((10470, 140),\n ['bus',\n  'name',\n  'public_transport',\n  'geometry',\n  'curve_geometry',\n  'source',\n  'railway',\n  'subway',\n  'ref',\n  'train',\n  'network',\n  'operator',\n  'STIF:zone',\n  'official_name',\n  'opening_date',\n  'ref:FR:STIF',\n  'uic_ref',\n  'wheelchair',\n  'wikidata',\n  'wikipedia',\n  'level',\n  'ref:FR:uic8',\n  'tactile_paving',\n  'uic_name',\n  'layer',\n  'tram',\n  'type:RATP',\n  'ref:FR:RATP',\n  'local_ref',\n  'survey:date',\n  'name:ru',\n  'old_name',\n  'start_date',\n  'ref:FR:FANTOIR',\n  'station',\n  'name:de',\n  'name:es',\n  'name:it',\n  'name:pt',\n  'check_date:wheelchair',\n  'bench',\n  'shelter',\n  'network:wikidata',\n  'operator:wikidata',\n  'light_rail',\n  'railway:position:exact',\n  'from',\n  'ref:SNCF',\n  'ref:SNCF:RER',\n  'alt_name',\n  'heritage',\n  'heritage:operator',\n  'mhs:inscription_date',\n  'ref:mhs',\n  'source:heritage',\n  'HSR',\n  'maxspeed',\n  'rail',\n  'addr:city',\n  'addr:postcode',\n  'addr:street',\n  'ref:FR:SNCF_Reseau:GAIA',\n  'note',\n  'description:route_ref',\n  'internet_access',\n  'internet_access:fee',\n  'name:fr',\n  'route_ref',\n  'toilets:wheelchair',\n  'opening_hours',\n  'name:en',\n  'name:zh',\n  'crossing',\n  'CG92:NUM_STATIO',\n  'CG92:OBJECTID',\n  'description',\n  'name:RATP',\n  'mapillary',\n  'wikimedia_commons',\n  'platforms',\n  'tunnel',\n  'route_ref:FR:RER_D',\n  'name:ar',\n  'railway:traffic_mode',\n  'tourism',\n  'ref:SNCF:Transilien',\n  'covered',\n  'vending',\n  'railway:track_ref',\n  'colour',\n  'direction',\n  'note:fr',\n  'pictogram',\n  'signage',\n  'short_name',\n  'location',\n  'funicular',\n  'crossing_ref',\n  'highway',\n  'segregated',\n  'supervised',\n  'source:wheelchair',\n  'source:position',\n  'construction',\n  'ref:FR:SNCF',\n  'type:SNCF',\n  'source:ref:FR:STIF',\n  'bus_stop:type',\n  'SNCF:stop_name',\n  'railway:ref:DBAG',\n  'ref_name',\n  'SNCF:hackess:completeness',\n  'monorail',\n  'ref:FR:STIF:stop_id',\n  'fixme',\n  'bin',\n  'cycleway:right:traffic_calming',\n  'source:date',\n  'by_night',\n  'route:ref:FR:RERD',\n  'towards',\n  'amenity',\n  'note:route_ref',\n  'source:data',\n  'crossing:bollard',\n  'addr:housenumber',\n  'name:start_date',\n  'construction:public_transport',\n  'departures_board',\n  'camera:mount',\n  'camera:type',\n  'check_date',\n  'man_made',\n  'surveillance',\n  'surveillance:type',\n  'indoor',\n  'construction_date',\n  'ferry',\n  'phone',\n  'website'])"
     },
     "execution_count": 113,
     "metadata": {},
     "output_type": "execute_result"
    }
   ],
   "source": [
    "gdf.shape, list(gdf.columns)"
   ],
   "metadata": {
    "collapsed": false,
    "ExecuteTime": {
     "end_time": "2023-06-23T16:24:06.331841Z",
     "start_time": "2023-06-23T16:24:06.234101Z"
    }
   }
  },
  {
   "cell_type": "code",
   "execution_count": 123,
   "outputs": [],
   "source": [
    "plot_map(gdf[gdf['train'].notna()][['geometry', 'train', 'name']])"
   ],
   "metadata": {
    "collapsed": false,
    "ExecuteTime": {
     "end_time": "2023-06-23T16:29:02.021840Z",
     "start_time": "2023-06-23T16:29:01.626996Z"
    }
   }
  },
  {
   "cell_type": "code",
   "execution_count": 132,
   "outputs": [],
   "source": [
    "train = gdf[gdf['bus'].notna()][['geometry', 'bus', 'name']]\n",
    "#train = train.groupby(by='name').agg({'geometry': 'first', 'bus': 'first'}).reset_index()\n",
    "train = gpd.GeoDataFrame(train, geometry='geometry', crs=gdf.crs)\n",
    "plot_map(train)"
   ],
   "metadata": {
    "collapsed": false,
    "ExecuteTime": {
     "end_time": "2023-06-23T16:32:07.598429Z",
     "start_time": "2023-06-23T16:32:05.761557Z"
    }
   }
  },
  {
   "cell_type": "code",
   "execution_count": 105,
   "outputs": [
    {
     "data": {
      "text/plain": "                       bus                      name public_transport   \nelement_type osmid                                                      \nnode         361719    yes            Place d'Italie    stop_position  \\\n             367913    yes          Wagram - Pereire    stop_position   \n             644100    yes  Évangile - Aubervilliers    stop_position   \n             12388528  NaN       Châtillon-Montrouge    stop_position   \n             14803143  yes      Suresnes – De Gaulle    stop_position   \n\n                                       geometry curve_geometry   \nelement_type osmid                                               \nnode         361719    POINT (2.35606 48.83173)            NaN  \\\n             367913    POINT (2.30498 48.88748)            yes   \n             644100    POINT (2.36949 48.89524)            NaN   \n             12388528  POINT (2.30159 48.81081)            NaN   \n             14803143  POINT (2.22397 48.86829)            NaN   \n\n                               source railway subway  ref train  ...   \nelement_type osmid                                               ...   \nnode         361719               NaN     NaN    NaN  NaN   NaN  ...  \\\n             367913               NaN     NaN    NaN  NaN   NaN  ...   \n             644100    survey 10/2017     NaN    NaN  NaN   NaN  ...   \n             12388528             NaN    stop    yes  NaN   NaN  ...   \n             14803143             NaN     NaN    NaN  NaN   NaN  ...   \n\n                      camera:type check_date man_made surveillance   \nelement_type osmid                                                   \nnode         361719           NaN        NaN      NaN          NaN  \\\n             367913           NaN        NaN      NaN          NaN   \n             644100           NaN        NaN      NaN          NaN   \n             12388528         NaN        NaN      NaN          NaN   \n             14803143         NaN        NaN      NaN          NaN   \n\n                      surveillance:type indoor construction_date ferry phone   \nelement_type osmid                                                             \nnode         361719                 NaN    NaN               NaN   NaN   NaN  \\\n             367913                 NaN    NaN               NaN   NaN   NaN   \n             644100                 NaN    NaN               NaN   NaN   NaN   \n             12388528               NaN    NaN               NaN   NaN   NaN   \n             14803143               NaN    NaN               NaN   NaN   NaN   \n\n                      website  \nelement_type osmid             \nnode         361719       NaN  \n             367913       NaN  \n             644100       NaN  \n             12388528     NaN  \n             14803143     NaN  \n\n[5 rows x 140 columns]",
      "text/html": "<div>\n<style scoped>\n    .dataframe tbody tr th:only-of-type {\n        vertical-align: middle;\n    }\n\n    .dataframe tbody tr th {\n        vertical-align: top;\n    }\n\n    .dataframe thead th {\n        text-align: right;\n    }\n</style>\n<table border=\"1\" class=\"dataframe\">\n  <thead>\n    <tr style=\"text-align: right;\">\n      <th></th>\n      <th></th>\n      <th>bus</th>\n      <th>name</th>\n      <th>public_transport</th>\n      <th>geometry</th>\n      <th>curve_geometry</th>\n      <th>source</th>\n      <th>railway</th>\n      <th>subway</th>\n      <th>ref</th>\n      <th>train</th>\n      <th>...</th>\n      <th>camera:type</th>\n      <th>check_date</th>\n      <th>man_made</th>\n      <th>surveillance</th>\n      <th>surveillance:type</th>\n      <th>indoor</th>\n      <th>construction_date</th>\n      <th>ferry</th>\n      <th>phone</th>\n      <th>website</th>\n    </tr>\n    <tr>\n      <th>element_type</th>\n      <th>osmid</th>\n      <th></th>\n      <th></th>\n      <th></th>\n      <th></th>\n      <th></th>\n      <th></th>\n      <th></th>\n      <th></th>\n      <th></th>\n      <th></th>\n      <th></th>\n      <th></th>\n      <th></th>\n      <th></th>\n      <th></th>\n      <th></th>\n      <th></th>\n      <th></th>\n      <th></th>\n      <th></th>\n      <th></th>\n    </tr>\n  </thead>\n  <tbody>\n    <tr>\n      <th rowspan=\"5\" valign=\"top\">node</th>\n      <th>361719</th>\n      <td>yes</td>\n      <td>Place d'Italie</td>\n      <td>stop_position</td>\n      <td>POINT (2.35606 48.83173)</td>\n      <td>NaN</td>\n      <td>NaN</td>\n      <td>NaN</td>\n      <td>NaN</td>\n      <td>NaN</td>\n      <td>NaN</td>\n      <td>...</td>\n      <td>NaN</td>\n      <td>NaN</td>\n      <td>NaN</td>\n      <td>NaN</td>\n      <td>NaN</td>\n      <td>NaN</td>\n      <td>NaN</td>\n      <td>NaN</td>\n      <td>NaN</td>\n      <td>NaN</td>\n    </tr>\n    <tr>\n      <th>367913</th>\n      <td>yes</td>\n      <td>Wagram - Pereire</td>\n      <td>stop_position</td>\n      <td>POINT (2.30498 48.88748)</td>\n      <td>yes</td>\n      <td>NaN</td>\n      <td>NaN</td>\n      <td>NaN</td>\n      <td>NaN</td>\n      <td>NaN</td>\n      <td>...</td>\n      <td>NaN</td>\n      <td>NaN</td>\n      <td>NaN</td>\n      <td>NaN</td>\n      <td>NaN</td>\n      <td>NaN</td>\n      <td>NaN</td>\n      <td>NaN</td>\n      <td>NaN</td>\n      <td>NaN</td>\n    </tr>\n    <tr>\n      <th>644100</th>\n      <td>yes</td>\n      <td>Évangile - Aubervilliers</td>\n      <td>stop_position</td>\n      <td>POINT (2.36949 48.89524)</td>\n      <td>NaN</td>\n      <td>survey 10/2017</td>\n      <td>NaN</td>\n      <td>NaN</td>\n      <td>NaN</td>\n      <td>NaN</td>\n      <td>...</td>\n      <td>NaN</td>\n      <td>NaN</td>\n      <td>NaN</td>\n      <td>NaN</td>\n      <td>NaN</td>\n      <td>NaN</td>\n      <td>NaN</td>\n      <td>NaN</td>\n      <td>NaN</td>\n      <td>NaN</td>\n    </tr>\n    <tr>\n      <th>12388528</th>\n      <td>NaN</td>\n      <td>Châtillon-Montrouge</td>\n      <td>stop_position</td>\n      <td>POINT (2.30159 48.81081)</td>\n      <td>NaN</td>\n      <td>NaN</td>\n      <td>stop</td>\n      <td>yes</td>\n      <td>NaN</td>\n      <td>NaN</td>\n      <td>...</td>\n      <td>NaN</td>\n      <td>NaN</td>\n      <td>NaN</td>\n      <td>NaN</td>\n      <td>NaN</td>\n      <td>NaN</td>\n      <td>NaN</td>\n      <td>NaN</td>\n      <td>NaN</td>\n      <td>NaN</td>\n    </tr>\n    <tr>\n      <th>14803143</th>\n      <td>yes</td>\n      <td>Suresnes – De Gaulle</td>\n      <td>stop_position</td>\n      <td>POINT (2.22397 48.86829)</td>\n      <td>NaN</td>\n      <td>NaN</td>\n      <td>NaN</td>\n      <td>NaN</td>\n      <td>NaN</td>\n      <td>NaN</td>\n      <td>...</td>\n      <td>NaN</td>\n      <td>NaN</td>\n      <td>NaN</td>\n      <td>NaN</td>\n      <td>NaN</td>\n      <td>NaN</td>\n      <td>NaN</td>\n      <td>NaN</td>\n      <td>NaN</td>\n      <td>NaN</td>\n    </tr>\n  </tbody>\n</table>\n<p>5 rows × 140 columns</p>\n</div>"
     },
     "execution_count": 105,
     "metadata": {},
     "output_type": "execute_result"
    }
   ],
   "source": [
    "gdf.head()"
   ],
   "metadata": {
    "collapsed": false,
    "ExecuteTime": {
     "end_time": "2023-06-23T15:23:47.165850Z",
     "start_time": "2023-06-23T15:23:47.032436Z"
    }
   }
  },
  {
   "cell_type": "code",
   "execution_count": 108,
   "outputs": [
    {
     "data": {
      "text/plain": "True"
     },
     "execution_count": 108,
     "metadata": {},
     "output_type": "execute_result"
    }
   ],
   "source": [
    "gdf_sel = gdf[['geometry', 'subway', 'train', 'tram', 'bus', 'funicular', 'ferry']]\n",
    "gdf_sel = gdf_sel[gdf_sel['train'].notna()]\n",
    "html_map = gdf_sel.explore(legend=True, tiles=\"CartoDB positron\", cmap='plasma')\n",
    "html_map.save(f'temp/public_transport_paris_map.html')\n",
    "webbrowser.open('file://' + os.path.realpath(f'temp/public_transport_paris_map.html'))"
   ],
   "metadata": {
    "collapsed": false,
    "ExecuteTime": {
     "end_time": "2023-06-23T15:26:46.765253Z",
     "start_time": "2023-06-23T15:26:46.332061Z"
    }
   }
  },
  {
   "cell_type": "code",
   "execution_count": 73,
   "outputs": [
    {
     "data": {
      "text/plain": "                                                    geometry   city   \niris                                                                  \n751145309  POLYGON ((2.33059 48.83933, 2.33055 48.83945, ...  Paris  \\\n751155915  POLYGON ((2.29238 48.85073, 2.29216 48.85092, ...  Paris   \n751145608  POLYGON ((2.31175 48.83068, 2.31224 48.83092, ...  Paris   \n751051802  POLYGON ((2.35187 48.83680, 2.35174 48.83697, ...  Paris   \n751166212  POLYGON ((2.27788 48.85621, 2.27767 48.85712, ...  Paris   \n751166219  POLYGON ((2.28103 48.86023, 2.28092 48.86030, ...  Paris   \n920730116  POLYGON ((2.23009 48.87387, 2.22961 48.87409, ...  Paris   \n920620301  POLYGON ((2.23052 48.87994, 2.23011 48.88013, ...  Paris   \n\n           EQUIP_A504  \niris                   \n751145309        21.0  \n751155915        12.0  \n751145608        15.0  \n751051802        25.0  \n751166212        23.0  \n751166219         7.0  \n920730116        14.0  \n920620301         3.0  ",
      "text/html": "<div>\n<style scoped>\n    .dataframe tbody tr th:only-of-type {\n        vertical-align: middle;\n    }\n\n    .dataframe tbody tr th {\n        vertical-align: top;\n    }\n\n    .dataframe thead th {\n        text-align: right;\n    }\n</style>\n<table border=\"1\" class=\"dataframe\">\n  <thead>\n    <tr style=\"text-align: right;\">\n      <th></th>\n      <th>geometry</th>\n      <th>city</th>\n      <th>EQUIP_A504</th>\n    </tr>\n    <tr>\n      <th>iris</th>\n      <th></th>\n      <th></th>\n      <th></th>\n    </tr>\n  </thead>\n  <tbody>\n    <tr>\n      <th>751145309</th>\n      <td>POLYGON ((2.33059 48.83933, 2.33055 48.83945, ...</td>\n      <td>Paris</td>\n      <td>21.0</td>\n    </tr>\n    <tr>\n      <th>751155915</th>\n      <td>POLYGON ((2.29238 48.85073, 2.29216 48.85092, ...</td>\n      <td>Paris</td>\n      <td>12.0</td>\n    </tr>\n    <tr>\n      <th>751145608</th>\n      <td>POLYGON ((2.31175 48.83068, 2.31224 48.83092, ...</td>\n      <td>Paris</td>\n      <td>15.0</td>\n    </tr>\n    <tr>\n      <th>751051802</th>\n      <td>POLYGON ((2.35187 48.83680, 2.35174 48.83697, ...</td>\n      <td>Paris</td>\n      <td>25.0</td>\n    </tr>\n    <tr>\n      <th>751166212</th>\n      <td>POLYGON ((2.27788 48.85621, 2.27767 48.85712, ...</td>\n      <td>Paris</td>\n      <td>23.0</td>\n    </tr>\n    <tr>\n      <th>751166219</th>\n      <td>POLYGON ((2.28103 48.86023, 2.28092 48.86030, ...</td>\n      <td>Paris</td>\n      <td>7.0</td>\n    </tr>\n    <tr>\n      <th>920730116</th>\n      <td>POLYGON ((2.23009 48.87387, 2.22961 48.87409, ...</td>\n      <td>Paris</td>\n      <td>14.0</td>\n    </tr>\n    <tr>\n      <th>920620301</th>\n      <td>POLYGON ((2.23052 48.87994, 2.23011 48.88013, ...</td>\n      <td>Paris</td>\n      <td>3.0</td>\n    </tr>\n  </tbody>\n</table>\n</div>"
     },
     "execution_count": 73,
     "metadata": {},
     "output_type": "execute_result"
    }
   ],
   "source": [
    "merge_rest"
   ],
   "metadata": {
    "collapsed": false,
    "ExecuteTime": {
     "end_time": "2023-06-23T15:05:06.014685Z",
     "start_time": "2023-06-23T15:05:05.941453Z"
    }
   }
  },
  {
   "cell_type": "code",
   "execution_count": 43,
   "outputs": [
    {
     "data": {
      "text/plain": "<Figure size 800x800 with 1 Axes>",
      "image/png": "[encoded data removed]"
     },
     "metadata": {},
     "output_type": "display_data"
    }
   ],
   "source": [
    "G = ox.graph_from_place(\n",
    "    \"Paris, France\",\n",
    "    retain_all=False,\n",
    "    truncate_by_edge=True,\n",
    "    simplify=True,\n",
    "    custom_filter='[\"railway\"~\"subway\"]',\n",
    ")\n",
    "\n",
    "fig, ax = ox.plot_graph(G, node_size=0, edge_color=\"w\", edge_linewidth=0.2)"
   ],
   "metadata": {
    "collapsed": false,
    "ExecuteTime": {
     "end_time": "2023-06-23T14:48:31.982777Z",
     "start_time": "2023-06-23T14:48:26.754909Z"
    }
   }
  },
  {
   "cell_type": "code",
   "execution_count": null,
   "outputs": [],
   "source": [],
   "metadata": {
    "collapsed": false
   }
  }
 ],
 "metadata": {
  "kernelspec": {
   "display_name": "Python 3",
   "language": "python",
   "name": "python3"
  },
  "language_info": {
   "codemirror_mode": {
    "name": "ipython",
    "version": 2
   },
   "file_extension": ".py",
   "mimetype": "text/x-python",
   "name": "python",
   "nbconvert_exporter": "python",
   "pygments_lexer": "ipython2",
   "version": "2.7.6"
  }
 },
 "nbformat": 4,
 "nbformat_minor": 0
}
