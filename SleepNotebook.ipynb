{
 "cells": [
  {
   "cell_type": "code",
   "execution_count": 80,
   "outputs": [],
   "source": [
    "from datetime import time\n",
    "\n",
    "import pandas as pd\n",
    "import numpy as np\n",
    "import plotly.graph_objects as go\n",
    "import plotly.express as px\n",
    "from jupyter_dash import JupyterDash\n",
    "from dash import dcc, html\n",
    "import dash_mantine_components as dmc\n",
    "\n",
    "from Utils import City, AggregationLevel, TrafficType\n",
    "from DataPreprocessing.WeatherData.Data import WeatherData\n",
    "from DataPreprocessing.TrafficData.Data import CityTrafficData\n",
    "from DataPreprocessing.GeoData.GeoData import IrisGeoData\n",
    "from ExpectedBedTime.ExpectedBedTimeAPI import ExpectedBedTimeAPI\n",
    "from ExpectedBedTime.ExpectedBedTimeCalculator import ExpectedBedTimeCalculator\n",
    "from DataPreprocessing.AdminData.AdminDataComplete import AdminData\n",
    "from ExpectedBedTime.Plots import StartBedTimeRobustness\n",
    "from FeatureSelection.BasicFeatureImportanceCalculator import BasicFeatureImportanceCalculator\n",
    "from FeatureSelection.RegressionConstructor import Regression, FeatureConstructor\n",
    "from DataPreprocessing.GeoData.GeoDataComplete import GeoData, GeoDataType\n",
    "from SessionDistribution.SessionDistributionCalculator import SessionDistributionCalculator"
   ],
   "metadata": {
    "collapsed": false,
    "ExecuteTime": {
     "end_time": "2023-06-18T17:49:34.160768Z",
     "start_time": "2023-06-18T17:49:34.083319Z"
    }
   }
  },
  {
   "cell_type": "code",
   "execution_count": 2,
   "outputs": [],
   "source": [
    "%load_ext autoreload\n",
    "%autoreload 2"
   ],
   "metadata": {
    "collapsed": false,
    "ExecuteTime": {
     "end_time": "2023-06-18T16:10:55.489179Z",
     "start_time": "2023-06-18T16:10:55.417160Z"
    }
   }
  },
  {
   "cell_type": "code",
   "execution_count": 97,
   "outputs": [
    {
     "name": "stderr",
     "output_type": "stream",
     "text": [
      "100%|██████████| 77/77 [01:16<00:00,  1.00it/s]\n"
     ]
    }
   ],
   "source": [
    "traffic_data = CityTrafficData(city=City.PARIS, geo_data_type=GeoDataType.IRIS, traffic_type=TrafficType.USERS)"
   ],
   "metadata": {
    "collapsed": false,
    "ExecuteTime": {
     "end_time": "2023-06-18T17:54:28.024233Z",
     "start_time": "2023-06-18T17:52:15.869998Z"
    }
   }
  },
  {
   "cell_type": "code",
   "execution_count": 76,
   "outputs": [],
   "source": [
    "geo_data = GeoData()\n",
    "geo_data.load(GeoDataType.IRIS)"
   ],
   "metadata": {
    "collapsed": false,
    "ExecuteTime": {
     "end_time": "2023-06-18T17:45:38.394032Z",
     "start_time": "2023-06-18T17:44:48.991622Z"
    }
   }
  },
  {
   "cell_type": "code",
   "execution_count": 98,
   "outputs": [],
   "source": [
    "session_distribution_calculator = SessionDistributionCalculator(city_traffic_data=traffic_data, start=time(21, 30), end=time(3, 30))"
   ],
   "metadata": {
    "collapsed": false,
    "ExecuteTime": {
     "end_time": "2023-06-18T17:55:09.558087Z",
     "start_time": "2023-06-18T17:54:27.972310Z"
    }
   }
  },
  {
   "cell_type": "code",
   "execution_count": 99,
   "outputs": [],
   "source": [
    "session_distribution = session_distribution_calculator.calculate_session_distribution()"
   ],
   "metadata": {
    "collapsed": false,
    "ExecuteTime": {
     "end_time": "2023-06-18T17:55:10.175901Z",
     "start_time": "2023-06-18T17:55:09.548235Z"
    }
   }
  },
  {
   "cell_type": "code",
   "execution_count": 107,
   "outputs": [],
   "source": [
    "session_distribution.distribution_plot()"
   ],
   "metadata": {
    "collapsed": false,
    "ExecuteTime": {
     "end_time": "2023-06-18T17:57:23.109401Z",
     "start_time": "2023-06-18T17:57:17.765289Z"
    }
   }
  },
  {
   "cell_type": "code",
   "execution_count": 108,
   "outputs": [],
   "source": [
    "session_distribution.expectation_by_location_plot()"
   ],
   "metadata": {
    "collapsed": false,
    "ExecuteTime": {
     "end_time": "2023-06-18T17:57:23.559876Z",
     "start_time": "2023-06-18T17:57:23.109909Z"
    }
   }
  },
  {
   "cell_type": "code",
   "execution_count": 100,
   "outputs": [],
   "source": [
    "session_distribution.geo_plot(geo_data=geo_data)"
   ],
   "metadata": {
    "collapsed": false,
    "ExecuteTime": {
     "end_time": "2023-06-18T17:55:13.034344Z",
     "start_time": "2023-06-18T17:55:10.180600Z"
    }
   }
  },
  {
   "cell_type": "code",
   "execution_count": 104,
   "outputs": [],
   "source": [
    "expected_bed_time_calculator = ExpectedBedTimeCalculator(city_traffic_data=traffic_data, start_bed_time=time(21,30))"
   ],
   "metadata": {
    "collapsed": false,
    "ExecuteTime": {
     "end_time": "2023-06-18T17:56:45.800644Z",
     "start_time": "2023-06-18T17:56:07.990369Z"
    }
   }
  },
  {
   "cell_type": "code",
   "execution_count": 105,
   "outputs": [],
   "source": [
    "expected_bed_time = expected_bed_time_calculator.calculate_expected_bed_time()"
   ],
   "metadata": {
    "collapsed": false,
    "ExecuteTime": {
     "end_time": "2023-06-18T17:56:48.897527Z",
     "start_time": "2023-06-18T17:56:45.810231Z"
    }
   }
  },
  {
   "cell_type": "code",
   "execution_count": 106,
   "outputs": [],
   "source": [
    "expected_bed_time.geo_plot(iris_geo_data=geo_data.geo_data[GeoDataType.IRIS.value])"
   ],
   "metadata": {
    "collapsed": false,
    "ExecuteTime": {
     "end_time": "2023-06-18T17:56:51.346357Z",
     "start_time": "2023-06-18T17:56:48.899524Z"
    }
   }
  },
  {
   "cell_type": "code",
   "execution_count": 112,
   "outputs": [],
   "source": [
    "admin_data = AdminData()"
   ],
   "metadata": {
    "collapsed": false,
    "ExecuteTime": {
     "end_time": "2023-06-18T18:01:09.698427Z",
     "start_time": "2023-06-18T18:01:01.910572Z"
    }
   }
  },
  {
   "cell_type": "code",
   "execution_count": 181,
   "outputs": [],
   "source": [
    "geo_data = GeoData()\n",
    "geo_data.load(GeoDataType.IRIS)"
   ],
   "metadata": {
    "collapsed": false,
    "ExecuteTime": {
     "end_time": "2023-06-16T11:53:48.532834Z",
     "start_time": "2023-06-16T11:52:59.110678Z"
    }
   }
  },
  {
   "cell_type": "code",
   "execution_count": 9,
   "outputs": [],
   "source": [
    "traffic_data = (CityTrafficData(city=city, geo_data_type=GeoDataType.IRIS, traffic_type=TrafficType.USERS) for city in City)"
   ],
   "metadata": {
    "collapsed": false,
    "ExecuteTime": {
     "end_time": "2023-06-16T08:17:55.015299Z",
     "start_time": "2023-06-16T08:17:54.946423Z"
    }
   }
  },
  {
   "cell_type": "code",
   "execution_count": 10,
   "outputs": [
    {
     "name": "stderr",
     "output_type": "stream",
     "text": [
      "100%|██████████| 77/77 [00:19<00:00,  3.88it/s]\n",
      "100%|██████████| 77/77 [00:15<00:00,  4.82it/s]\n",
      "100%|██████████| 77/77 [00:15<00:00,  4.89it/s]\n",
      "100%|██████████| 77/77 [00:16<00:00,  4.69it/s]\n",
      "100%|██████████| 77/77 [00:22<00:00,  3.44it/s]\n",
      "100%|██████████| 77/77 [00:23<00:00,  3.33it/s]\n",
      "100%|██████████| 77/77 [00:15<00:00,  5.11it/s]\n",
      "100%|██████████| 77/77 [00:19<00:00,  3.91it/s]\n",
      "100%|██████████| 77/77 [00:15<00:00,  4.83it/s]\n",
      "100%|██████████| 77/77 [00:17<00:00,  4.50it/s]\n",
      "100%|██████████| 77/77 [00:14<00:00,  5.25it/s]\n",
      "100%|██████████| 77/77 [00:17<00:00,  4.32it/s]\n",
      "100%|██████████| 77/77 [00:16<00:00,  4.67it/s]\n",
      "100%|██████████| 77/77 [00:15<00:00,  4.93it/s]\n",
      "100%|██████████| 77/77 [01:07<00:00,  1.13it/s]\n",
      "100%|██████████| 77/77 [00:17<00:00,  4.39it/s]\n",
      "100%|██████████| 77/77 [00:15<00:00,  4.86it/s]\n",
      "100%|██████████| 77/77 [00:15<00:00,  4.85it/s]\n",
      "100%|██████████| 77/77 [00:17<00:00,  4.45it/s]\n",
      "100%|██████████| 77/77 [00:15<00:00,  5.06it/s]\n"
     ]
    }
   ],
   "source": [
    "expected_bed_time = ExpectedBedTimeAPI.compute_expected_bed_time(traffic_data=traffic_data)"
   ],
   "metadata": {
    "collapsed": false,
    "ExecuteTime": {
     "end_time": "2023-06-16T08:26:56.277704Z",
     "start_time": "2023-06-16T08:17:55.844214Z"
    }
   }
  },
  {
   "cell_type": "markdown",
   "source": [
    "# EXPLORATORY DATA ANALYSIS"
   ],
   "metadata": {
    "collapsed": false
   }
  },
  {
   "cell_type": "code",
   "execution_count": 110,
   "outputs": [],
   "source": [
    "iris_subset = session_distribution.data.coords[GeoDataType.IRIS.value].values"
   ],
   "metadata": {
    "collapsed": false,
    "ExecuteTime": {
     "end_time": "2023-06-18T18:00:53.115019Z",
     "start_time": "2023-06-18T18:00:53.034578Z"
    }
   }
  },
  {
   "cell_type": "code",
   "execution_count": 113,
   "outputs": [],
   "source": [
    "feature_constructor = FeatureConstructor(admin_data=admin_data, geo_data=geo_data)"
   ],
   "metadata": {
    "collapsed": false,
    "ExecuteTime": {
     "end_time": "2023-06-18T18:01:14.639545Z",
     "start_time": "2023-06-18T18:01:14.565629Z"
    }
   }
  },
  {
   "cell_type": "markdown",
   "source": [
    "## Variables considered"
   ],
   "metadata": {
    "collapsed": false
   }
  },
  {
   "cell_type": "code",
   "execution_count": 114,
   "outputs": [],
   "source": [
    "iris_centrality = feature_constructor.iris_centrality(iris=iris_subset)"
   ],
   "metadata": {
    "collapsed": false,
    "ExecuteTime": {
     "end_time": "2023-06-18T18:01:17.172928Z",
     "start_time": "2023-06-18T18:01:15.629888Z"
    }
   }
  },
  {
   "cell_type": "code",
   "execution_count": 115,
   "outputs": [],
   "source": [
    "iris_density_of_city = feature_constructor.iris_density_of_city(iris=iris_subset).rename(columns={'density': 'density_of_city'})"
   ],
   "metadata": {
    "collapsed": false,
    "ExecuteTime": {
     "end_time": "2023-06-18T18:01:17.725733Z",
     "start_time": "2023-06-18T18:01:17.177599Z"
    }
   }
  },
  {
   "cell_type": "code",
   "execution_count": 116,
   "outputs": [],
   "source": [
    "iris_pop_density = feature_constructor.iris_density(iris=iris_subset, var_names=['P19_POP']).rename(columns={'P19_POP': 'POP_DEN'})"
   ],
   "metadata": {
    "collapsed": false,
    "ExecuteTime": {
     "end_time": "2023-06-18T18:01:20.238823Z",
     "start_time": "2023-06-18T18:01:19.979112Z"
    }
   }
  },
  {
   "cell_type": "code",
   "execution_count": 117,
   "outputs": [],
   "source": [
    "iris_business_density = feature_constructor.iris_business_density(iris=iris_subset)"
   ],
   "metadata": {
    "collapsed": false,
    "ExecuteTime": {
     "end_time": "2023-06-18T18:01:20.508427Z",
     "start_time": "2023-06-18T18:01:20.241164Z"
    }
   }
  },
  {
   "cell_type": "code",
   "execution_count": 118,
   "outputs": [],
   "source": [
    "age_shares = feature_constructor.iris_shares(iris=iris_subset, var_names=['P19_POP1529', 'P19_POP3044', 'P19_POP4559', 'P19_POP6074', 'P19_POP75P'])"
   ],
   "metadata": {
    "collapsed": false,
    "ExecuteTime": {
     "end_time": "2023-06-18T18:01:20.656169Z",
     "start_time": "2023-06-18T18:01:20.494034Z"
    }
   }
  },
  {
   "cell_type": "code",
   "execution_count": 119,
   "outputs": [],
   "source": [
    "lonely_shares = feature_constructor.iris_shares(iris=iris_subset, var_names=['P19_POP15P_PSEUL'])"
   ],
   "metadata": {
    "collapsed": false,
    "ExecuteTime": {
     "end_time": "2023-06-18T18:01:20.812893Z",
     "start_time": "2023-06-18T18:01:20.651278Z"
    }
   }
  },
  {
   "cell_type": "code",
   "execution_count": 120,
   "outputs": [],
   "source": [
    "income = admin_data.get_admin_data(subset=iris_subset)[['DEC_MED19', 'DEC_GI19']]"
   ],
   "metadata": {
    "collapsed": false,
    "ExecuteTime": {
     "end_time": "2023-06-18T18:01:20.983208Z",
     "start_time": "2023-06-18T18:01:20.802237Z"
    }
   }
  },
  {
   "cell_type": "code",
   "execution_count": 121,
   "outputs": [],
   "source": [
    "shares_of_workers_with_far_work = feature_constructor.iris_shares(iris=iris_subset, var_names=['P19_ACTOCC15P_ILT2P'])"
   ],
   "metadata": {
    "collapsed": false,
    "ExecuteTime": {
     "end_time": "2023-06-18T18:01:21.140558Z",
     "start_time": "2023-06-18T18:01:20.984862Z"
    }
   }
  },
  {
   "cell_type": "code",
   "execution_count": 122,
   "outputs": [],
   "source": [
    "education = feature_constructor.iris_shares(iris=iris_subset, var_names=['P19_ACT_DIPLMIN','P19_ACT_BAC', 'P19_ACT_SUP2'])"
   ],
   "metadata": {
    "collapsed": false,
    "ExecuteTime": {
     "end_time": "2023-06-18T18:01:21.273536Z",
     "start_time": "2023-06-18T18:01:21.135137Z"
    }
   }
  },
  {
   "cell_type": "code",
   "execution_count": 123,
   "outputs": [],
   "source": [
    "unemployment = feature_constructor.iris_shares(iris=iris_subset, var_names=['P19_CHOM1524', 'P19_CHOM2554', 'P19_CHOM5564'])"
   ],
   "metadata": {
    "collapsed": false,
    "ExecuteTime": {
     "end_time": "2023-06-18T18:01:21.429498Z",
     "start_time": "2023-06-18T18:01:21.275523Z"
    }
   }
  },
  {
   "cell_type": "code",
   "execution_count": 124,
   "outputs": [],
   "source": [
    "retirees = feature_constructor.iris_shares(iris=iris_subset, var_names=['P19_RETR1564'])"
   ],
   "metadata": {
    "collapsed": false,
    "ExecuteTime": {
     "end_time": "2023-06-18T18:01:21.569189Z",
     "start_time": "2023-06-18T18:01:21.417678Z"
    }
   }
  },
  {
   "cell_type": "code",
   "execution_count": 125,
   "outputs": [],
   "source": [
    "nationality = feature_constructor.iris_shares(iris=iris_subset, var_names=['P19_POP_ETR'])"
   ],
   "metadata": {
    "collapsed": false,
    "ExecuteTime": {
     "end_time": "2023-06-18T18:01:22.121111Z",
     "start_time": "2023-06-18T18:01:21.978282Z"
    }
   }
  },
  {
   "cell_type": "code",
   "execution_count": 126,
   "outputs": [],
   "source": [
    "house_sizes = feature_constructor.iris_shares(iris=iris_subset, var_names=['P19_RP_M30M2', 'P19_RP_3040M2', 'P19_RP_4060M2', 'P19_RP_6080M2', 'P19_RP_80100M2', 'P19_RP_100120M2', 'P19_RP_120M2P'])"
   ],
   "metadata": {
    "collapsed": false,
    "ExecuteTime": {
     "end_time": "2023-06-18T18:01:22.333243Z",
     "start_time": "2023-06-18T18:01:22.193470Z"
    }
   }
  },
  {
   "cell_type": "code",
   "execution_count": 127,
   "outputs": [],
   "source": [
    "men = feature_constructor.iris_shares(iris=iris_subset, var_names=['P19_POPH'])"
   ],
   "metadata": {
    "collapsed": false,
    "ExecuteTime": {
     "end_time": "2023-06-18T18:01:22.802793Z",
     "start_time": "2023-06-18T18:01:22.655203Z"
    }
   }
  },
  {
   "cell_type": "code",
   "execution_count": 128,
   "outputs": [],
   "source": [
    "families = feature_constructor.iris_shares(iris=iris_subset, var_names=['P19_POP15P_MARIEE', 'C19_FAM'])"
   ],
   "metadata": {
    "collapsed": false,
    "ExecuteTime": {
     "end_time": "2023-06-18T18:01:24.315144Z",
     "start_time": "2023-06-18T18:01:24.168640Z"
    }
   }
  },
  {
   "cell_type": "code",
   "execution_count": 129,
   "outputs": [],
   "source": [
    "# services = feature_constructor.iris_shares(iris=iris_subset, var_names=['EQUIP_E107', 'EQUIP_E108', 'EQUIP_E109', 'EQUIP_A504'])"
   ],
   "metadata": {
    "collapsed": false,
    "ExecuteTime": {
     "end_time": "2023-06-18T18:01:25.029498Z",
     "start_time": "2023-06-18T18:01:24.946706Z"
    }
   }
  },
  {
   "cell_type": "code",
   "execution_count": 130,
   "outputs": [],
   "source": [
    "displacement_to_work = feature_constructor.iris_shares(iris=iris_subset, var_names=['C19_ACTOCC15P_MAR', 'C19_ACTOCC15P_TCOM', 'C19_ACTOCC15P_PAS', 'C19_ACTOCC15P_VELO', 'C19_ACTOCC15P_VOIT'])"
   ],
   "metadata": {
    "collapsed": false,
    "ExecuteTime": {
     "end_time": "2023-06-18T18:01:25.661464Z",
     "start_time": "2023-06-18T18:01:25.516606Z"
    }
   }
  },
  {
   "cell_type": "code",
   "execution_count": 134,
   "outputs": [],
   "source": [
    "session_expectation = session_distribution.compute_expectation_by_location()[['expectation']].rename(columns={'expectation': 'session_expectation'})"
   ],
   "metadata": {
    "collapsed": false,
    "ExecuteTime": {
     "end_time": "2023-06-18T18:02:57.124555Z",
     "start_time": "2023-06-18T18:02:57.043527Z"
    }
   }
  },
  {
   "cell_type": "code",
   "execution_count": 419,
   "outputs": [],
   "source": [
    "ebt = expected_bed_time.data['mean_float'].to_frame(name='expected_bed_time')"
   ],
   "metadata": {
    "collapsed": false,
    "ExecuteTime": {
     "end_time": "2023-06-16T14:19:04.915120Z",
     "start_time": "2023-06-16T14:19:04.834393Z"
    }
   }
  },
  {
   "cell_type": "markdown",
   "source": [
    "## Merge variables"
   ],
   "metadata": {
    "collapsed": false
   }
  },
  {
   "cell_type": "code",
   "execution_count": 135,
   "outputs": [
    {
     "data": {
      "text/plain": "((2684, 37),\n array(['POP_DEN', 'session_expectation', 'density_of_city', 'centrality',\n        'DEC_MED19', 'DEC_GI19', 'business_density', 'P19_POP1529',\n        'P19_POP3044', 'P19_POP4559', 'P19_POP6074', 'P19_POP75P',\n        'P19_POP15P_PSEUL', 'P19_ACTOCC15P_ILT2P', 'P19_ACT_DIPLMIN',\n        'P19_ACT_BAC', 'P19_ACT_SUP2', 'P19_CHOM1524', 'P19_CHOM2554',\n        'P19_CHOM5564', 'P19_RETR1564', 'P19_POP_ETR', 'P19_RP_M30M2',\n        'P19_RP_3040M2', 'P19_RP_4060M2', 'P19_RP_6080M2',\n        'P19_RP_80100M2', 'P19_RP_100120M2', 'P19_RP_120M2P', 'P19_POPH',\n        'P19_POP15P_MARIEE', 'C19_FAM', 'C19_ACTOCC15P_MAR',\n        'C19_ACTOCC15P_TCOM', 'C19_ACTOCC15P_PAS', 'C19_ACTOCC15P_VELO',\n        'C19_ACTOCC15P_VOIT'], dtype=object))"
     },
     "execution_count": 135,
     "metadata": {},
     "output_type": "execute_result"
    }
   ],
   "source": [
    "data = pd.merge(iris_pop_density, session_expectation, left_index=True, right_index=True, how='inner')\n",
    "data = pd.merge(data, iris_density_of_city, left_index=True, right_index=True, how='inner')\n",
    "data = pd.merge(data, iris_centrality, left_index=True, right_index=True, how='inner')\n",
    "data = pd.merge(data, income, left_index=True, right_index=True, how='inner')\n",
    "data = pd.merge(data, iris_business_density + np.quantile(iris_business_density, 0.1), left_index=True, right_index=True, how='inner')\n",
    "data = np.log(data)\n",
    "data = pd.merge(data, age_shares, left_index=True, right_index=True, how='inner')\n",
    "data = pd.merge(data, lonely_shares, left_index=True, right_index=True, how='inner')\n",
    "data = pd.merge(data, shares_of_workers_with_far_work, left_index=True, right_index=True, how='inner')\n",
    "data = pd.merge(data, education, left_index=True, right_index=True, how='inner')\n",
    "data = pd.merge(data, unemployment, left_index=True, right_index=True, how='inner')\n",
    "data = pd.merge(data, retirees, left_index=True, right_index=True, how='inner')\n",
    "data = pd.merge(data, nationality, left_index=True, right_index=True, how='inner')\n",
    "data = pd.merge(data, house_sizes, left_index=True, right_index=True, how='inner')\n",
    "data = pd.merge(data, men, left_index=True, right_index=True, how='inner')\n",
    "data = pd.merge(data, families, left_index=True, right_index=True, how='inner')\n",
    "data = pd.merge(data, displacement_to_work, left_index=True, right_index=True, how='inner')\n",
    "data.dropna(inplace=True)\n",
    "data.shape, np.array(data.columns)"
   ],
   "metadata": {
    "collapsed": false,
    "ExecuteTime": {
     "end_time": "2023-06-18T18:02:58.682440Z",
     "start_time": "2023-06-18T18:02:58.563602Z"
    }
   }
  },
  {
   "cell_type": "markdown",
   "source": [
    "## Run analysis and plot"
   ],
   "metadata": {
    "collapsed": false
   }
  },
  {
   "cell_type": "code",
   "execution_count": 140,
   "outputs": [],
   "source": [
    "x_axis = 'DEC_MED19'\n",
    "features = data[[c for c in data.columns if c not in ['session_expectation', 'density_of_city']]]\n",
    "labels = data['session_expectation'].to_frame()\n",
    "regression = Regression(features=features['DEC_MED19'].to_frame(), labels=labels)\n",
    "regression.plot(x_axis=x_axis, color=data['density_of_city'].to_frame())"
   ],
   "metadata": {
    "collapsed": false,
    "ExecuteTime": {
     "end_time": "2023-06-18T18:06:36.422774Z",
     "start_time": "2023-06-18T18:06:36.045178Z"
    }
   }
  },
  {
   "cell_type": "code",
   "execution_count": null,
   "outputs": [],
   "source": [],
   "metadata": {
    "collapsed": false
   }
  }
 ],
 "metadata": {
  "kernelspec": {
   "display_name": "netmob_env",
   "language": "python",
   "name": "python3"
  },
  "language_info": {
   "codemirror_mode": {
    "name": "ipython",
    "version": 3
   },
   "file_extension": ".py",
   "mimetype": "text/x-python",
   "name": "python",
   "nbconvert_exporter": "python",
   "pygments_lexer": "ipython3",
   "version": "3.10.4"
  },
  "vscode": {
   "interpreter": {
    "hash": "12446bc72b2d39f7c5ae547dd2a2f3fa5f964107a3a30e469371d9d3694576e5"
   }
  }
 },
 "nbformat": 4,
 "nbformat_minor": 0
}
