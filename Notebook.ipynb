{
 "cells": [
  {
   "cell_type": "code",
   "execution_count": 1,
   "metadata": {
    "collapsed": true,
    "ExecuteTime": {
     "end_time": "2023-05-20T10:42:25.783953Z",
     "start_time": "2023-05-20T10:42:16.625693Z"
    }
   },
   "outputs": [],
   "source": [
    "from DataIO import DataIO, City, Service, TrafficType\n",
    "from SleepInference.SleepInferenceAPI import SleepInferenceAPI"
   ]
  },
  {
   "cell_type": "code",
   "execution_count": 2,
   "outputs": [],
   "source": [
    "%load_ext autoreload\n",
    "%autoreload 2"
   ],
   "metadata": {
    "collapsed": false,
    "ExecuteTime": {
     "end_time": "2023-05-20T10:42:25.830213Z",
     "start_time": "2023-05-20T10:42:25.783041Z"
    }
   }
  },
  {
   "cell_type": "code",
   "execution_count": null,
   "outputs": [],
   "source": [
    "sleep_patterns = SleepInferenceAPI.detect_sleep_patterns_city(city=City.DIJON, window=5)"
   ],
   "metadata": {
    "collapsed": false
   }
  }
 ],
 "metadata": {
  "kernelspec": {
   "display_name": "Python 3",
   "language": "python",
   "name": "python3"
  },
  "language_info": {
   "codemirror_mode": {
    "name": "ipython",
    "version": 3
   },
   "file_extension": ".py",
   "mimetype": "text/x-python",
   "name": "python",
   "nbconvert_exporter": "python",
   "pygments_lexer": "ipython3",
   "version": "3.9.9"
  },
  "vscode": {
   "interpreter": {
    "hash": "b45737afbba853d2106f30fe8b477196c987a4d8bcb00cfce986c8a308e11606"
   }
  }
 },
 "nbformat": 4,
 "nbformat_minor": 0
}
