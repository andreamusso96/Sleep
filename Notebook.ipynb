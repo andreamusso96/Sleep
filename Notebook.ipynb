{
 "cells": [
  {
   "cell_type": "code",
   "execution_count": 41,
   "outputs": [],
   "source": [
    "from datetime import time\n",
    "\n",
    "import pandas as pd\n",
    "import numpy as np\n",
    "import plotly.graph_objects as go\n",
    "import plotly.express as px\n",
    "from jupyter_dash import JupyterDash\n",
    "from dash import dcc, html\n",
    "import dash_mantine_components as dmc\n",
    "\n",
    "from Utils import City, AggregationLevel, TrafficType\n",
    "from DataPreprocessing.WeatherData.Data import WeatherData\n",
    "from DataPreprocessing.TrafficData.Data import CityTrafficData\n",
    "from DataPreprocessing.GeoData.GeoData import IrisGeoData\n",
    "from ExpectedBedTime.ExpectedBedTimeAPI import ExpectedBedTimeAPI\n",
    "from DataPreprocessing.AdminData.AdminDataComplete import AdminData\n",
    "from ExpectedBedTime.Plots import StartBedTimeRobustness\n",
    "from FeatureSelection.BasicFeatureImportanceCalculator import BasicFeatureImportanceCalculator"
   ],
   "metadata": {
    "collapsed": false,
    "ExecuteTime": {
     "end_time": "2023-06-14T16:18:46.825598Z",
     "start_time": "2023-06-14T16:18:46.698871Z"
    }
   }
  },
  {
   "cell_type": "code",
   "execution_count": 4,
   "outputs": [],
   "source": [
    "%load_ext autoreload\n",
    "%autoreload 2"
   ],
   "metadata": {
    "collapsed": false,
    "ExecuteTime": {
     "end_time": "2023-06-14T13:17:27.270343Z",
     "start_time": "2023-06-14T13:17:27.182333Z"
    }
   }
  },
  {
   "cell_type": "code",
   "execution_count": 5,
   "outputs": [],
   "source": [
    "iris_geo_data = IrisGeoData()"
   ],
   "metadata": {
    "collapsed": false,
    "ExecuteTime": {
     "end_time": "2023-06-14T13:18:07.585909Z",
     "start_time": "2023-06-14T13:17:27.388040Z"
    }
   }
  },
  {
   "cell_type": "code",
   "execution_count": 42,
   "outputs": [],
   "source": [
    "admin_data = AdminData()"
   ],
   "metadata": {
    "collapsed": false,
    "ExecuteTime": {
     "end_time": "2023-06-14T16:19:00.933774Z",
     "start_time": "2023-06-14T16:18:53.062544Z"
    }
   }
  },
  {
   "cell_type": "code",
   "execution_count": 52,
   "outputs": [
    {
     "data": {
      "text/plain": "               P19_POP  P19_POP75P  P19_POP6074  P19_POP4559  P19_POP3044   \niris                                                                        \n010040101  1866.820612  145.944137   239.906368   210.738586   357.664830  \\\n010040102  3597.838556  312.117891   512.225613   597.475022   718.946258   \n010040201  4134.477890  436.875291   599.717316   634.759383   756.674840   \n010040202  4534.862942  344.226989   702.290170   948.374118   897.112540   \n010330102  2918.101931  326.046160   295.841308   465.734930   628.637419   \n...                ...         ...          ...          ...          ...   \n974230201   781.576282   52.441247    91.772183   207.748018   170.434054   \n974240101  1737.999244  148.717804   249.717518   405.379012   324.242397   \n974240102  1677.366109   82.874067   193.445907   435.660591   309.994224   \n974240103   699.426601   37.842239    83.261220   164.532048   134.049875   \n974240104  1001.667637   39.911394   127.635018   234.569412   203.867797   \n\n           P19_POP1529  P19_POP0002  P19_POP0305  P19_POP0610  P19_POP1114   \niris                                                                         \n010040101   593.876491    81.762602    47.104967   100.705691    89.116940  \\\n010040102   849.032268   168.897927   119.186603   198.365404   121.591571   \n010040201   877.610261   167.871616   174.765320   272.922347   213.281515   \n010040202   756.264583   149.032630   182.900634   328.935646   225.725632   \n010330102   673.928559   131.760371    71.511391   219.919760   104.722032   \n...                ...          ...          ...          ...          ...   \n974230201   121.018263    25.212138    28.237595    42.356392    42.356392   \n974240101   246.910337    69.588242    58.784278   118.186797   116.472861   \n974240102   287.116166    63.035316    66.841666   126.343354   112.054817   \n974240103   131.036515    22.725352    24.726058    51.753794    49.499501   \n974240104   185.533673    42.160709    39.925063    69.051504    59.013068   \n\n           ...  EQUIP_D3  EQUIP_D4  EQUIP_D5  EQUIP_D6  EQUIP_D7  EQUIP_E1   \niris       ...                                                               \n010040101  ...       1.0       1.0       0.0       0.0       2.0       2.0  \\\n010040102  ...       2.0       0.0       0.0       3.0       1.0       4.0   \n010040201  ...       2.0       2.0       2.0       1.0       1.0       1.0   \n010040202  ...       1.0       0.0       1.0       0.0       3.0       2.0   \n010330102  ...       5.0       1.0       1.0       2.0       0.0       1.0   \n...        ...       ...       ...       ...       ...       ...       ...   \n974230201  ...       0.0       0.0       0.0       0.0       0.0       1.0   \n974240101  ...       3.0       0.0       0.0       0.0       0.0       1.0   \n974240102  ...       0.0       0.0       0.0       0.0       0.0       0.0   \n974240103  ...       1.0       0.0       0.0       0.0       0.0       0.0   \n974240104  ...       0.0       0.0       0.0       0.0       0.0       0.0   \n\n           EQUIP_F1  EQUIP_F2  EQUIP_F3  EQUIP_G1  \niris                                               \n010040101      12.0       0.0       0.0       2.0  \n010040102       3.0       0.0       0.0       0.0  \n010040201       7.0       0.0       3.0       0.0  \n010040202       7.0       0.0       0.0       1.0  \n010330102       8.0       0.0       4.0       5.0  \n...             ...       ...       ...       ...  \n974230201       7.0       0.0       0.0       0.0  \n974240101       9.0       0.0       1.0       9.0  \n974240102       2.0       0.0       0.0       0.0  \n974240103       3.0       2.0       1.0       0.0  \n974240104       3.0       2.0       1.0       0.0  \n\n[14981 rows x 84 columns]",
      "text/html": "<div>\n<style scoped>\n    .dataframe tbody tr th:only-of-type {\n        vertical-align: middle;\n    }\n\n    .dataframe tbody tr th {\n        vertical-align: top;\n    }\n\n    .dataframe thead th {\n        text-align: right;\n    }\n</style>\n<table border=\"1\" class=\"dataframe\">\n  <thead>\n    <tr style=\"text-align: right;\">\n      <th></th>\n      <th>P19_POP</th>\n      <th>P19_POP75P</th>\n      <th>P19_POP6074</th>\n      <th>P19_POP4559</th>\n      <th>P19_POP3044</th>\n      <th>P19_POP1529</th>\n      <th>P19_POP0002</th>\n      <th>P19_POP0305</th>\n      <th>P19_POP0610</th>\n      <th>P19_POP1114</th>\n      <th>...</th>\n      <th>EQUIP_D3</th>\n      <th>EQUIP_D4</th>\n      <th>EQUIP_D5</th>\n      <th>EQUIP_D6</th>\n      <th>EQUIP_D7</th>\n      <th>EQUIP_E1</th>\n      <th>EQUIP_F1</th>\n      <th>EQUIP_F2</th>\n      <th>EQUIP_F3</th>\n      <th>EQUIP_G1</th>\n    </tr>\n    <tr>\n      <th>iris</th>\n      <th></th>\n      <th></th>\n      <th></th>\n      <th></th>\n      <th></th>\n      <th></th>\n      <th></th>\n      <th></th>\n      <th></th>\n      <th></th>\n      <th></th>\n      <th></th>\n      <th></th>\n      <th></th>\n      <th></th>\n      <th></th>\n      <th></th>\n      <th></th>\n      <th></th>\n      <th></th>\n      <th></th>\n    </tr>\n  </thead>\n  <tbody>\n    <tr>\n      <th>010040101</th>\n      <td>1866.820612</td>\n      <td>145.944137</td>\n      <td>239.906368</td>\n      <td>210.738586</td>\n      <td>357.664830</td>\n      <td>593.876491</td>\n      <td>81.762602</td>\n      <td>47.104967</td>\n      <td>100.705691</td>\n      <td>89.116940</td>\n      <td>...</td>\n      <td>1.0</td>\n      <td>1.0</td>\n      <td>0.0</td>\n      <td>0.0</td>\n      <td>2.0</td>\n      <td>2.0</td>\n      <td>12.0</td>\n      <td>0.0</td>\n      <td>0.0</td>\n      <td>2.0</td>\n    </tr>\n    <tr>\n      <th>010040102</th>\n      <td>3597.838556</td>\n      <td>312.117891</td>\n      <td>512.225613</td>\n      <td>597.475022</td>\n      <td>718.946258</td>\n      <td>849.032268</td>\n      <td>168.897927</td>\n      <td>119.186603</td>\n      <td>198.365404</td>\n      <td>121.591571</td>\n      <td>...</td>\n      <td>2.0</td>\n      <td>0.0</td>\n      <td>0.0</td>\n      <td>3.0</td>\n      <td>1.0</td>\n      <td>4.0</td>\n      <td>3.0</td>\n      <td>0.0</td>\n      <td>0.0</td>\n      <td>0.0</td>\n    </tr>\n    <tr>\n      <th>010040201</th>\n      <td>4134.477890</td>\n      <td>436.875291</td>\n      <td>599.717316</td>\n      <td>634.759383</td>\n      <td>756.674840</td>\n      <td>877.610261</td>\n      <td>167.871616</td>\n      <td>174.765320</td>\n      <td>272.922347</td>\n      <td>213.281515</td>\n      <td>...</td>\n      <td>2.0</td>\n      <td>2.0</td>\n      <td>2.0</td>\n      <td>1.0</td>\n      <td>1.0</td>\n      <td>1.0</td>\n      <td>7.0</td>\n      <td>0.0</td>\n      <td>3.0</td>\n      <td>0.0</td>\n    </tr>\n    <tr>\n      <th>010040202</th>\n      <td>4534.862942</td>\n      <td>344.226989</td>\n      <td>702.290170</td>\n      <td>948.374118</td>\n      <td>897.112540</td>\n      <td>756.264583</td>\n      <td>149.032630</td>\n      <td>182.900634</td>\n      <td>328.935646</td>\n      <td>225.725632</td>\n      <td>...</td>\n      <td>1.0</td>\n      <td>0.0</td>\n      <td>1.0</td>\n      <td>0.0</td>\n      <td>3.0</td>\n      <td>2.0</td>\n      <td>7.0</td>\n      <td>0.0</td>\n      <td>0.0</td>\n      <td>1.0</td>\n    </tr>\n    <tr>\n      <th>010330102</th>\n      <td>2918.101931</td>\n      <td>326.046160</td>\n      <td>295.841308</td>\n      <td>465.734930</td>\n      <td>628.637419</td>\n      <td>673.928559</td>\n      <td>131.760371</td>\n      <td>71.511391</td>\n      <td>219.919760</td>\n      <td>104.722032</td>\n      <td>...</td>\n      <td>5.0</td>\n      <td>1.0</td>\n      <td>1.0</td>\n      <td>2.0</td>\n      <td>0.0</td>\n      <td>1.0</td>\n      <td>8.0</td>\n      <td>0.0</td>\n      <td>4.0</td>\n      <td>5.0</td>\n    </tr>\n    <tr>\n      <th>...</th>\n      <td>...</td>\n      <td>...</td>\n      <td>...</td>\n      <td>...</td>\n      <td>...</td>\n      <td>...</td>\n      <td>...</td>\n      <td>...</td>\n      <td>...</td>\n      <td>...</td>\n      <td>...</td>\n      <td>...</td>\n      <td>...</td>\n      <td>...</td>\n      <td>...</td>\n      <td>...</td>\n      <td>...</td>\n      <td>...</td>\n      <td>...</td>\n      <td>...</td>\n      <td>...</td>\n    </tr>\n    <tr>\n      <th>974230201</th>\n      <td>781.576282</td>\n      <td>52.441247</td>\n      <td>91.772183</td>\n      <td>207.748018</td>\n      <td>170.434054</td>\n      <td>121.018263</td>\n      <td>25.212138</td>\n      <td>28.237595</td>\n      <td>42.356392</td>\n      <td>42.356392</td>\n      <td>...</td>\n      <td>0.0</td>\n      <td>0.0</td>\n      <td>0.0</td>\n      <td>0.0</td>\n      <td>0.0</td>\n      <td>1.0</td>\n      <td>7.0</td>\n      <td>0.0</td>\n      <td>0.0</td>\n      <td>0.0</td>\n    </tr>\n    <tr>\n      <th>974240101</th>\n      <td>1737.999244</td>\n      <td>148.717804</td>\n      <td>249.717518</td>\n      <td>405.379012</td>\n      <td>324.242397</td>\n      <td>246.910337</td>\n      <td>69.588242</td>\n      <td>58.784278</td>\n      <td>118.186797</td>\n      <td>116.472861</td>\n      <td>...</td>\n      <td>3.0</td>\n      <td>0.0</td>\n      <td>0.0</td>\n      <td>0.0</td>\n      <td>0.0</td>\n      <td>1.0</td>\n      <td>9.0</td>\n      <td>0.0</td>\n      <td>1.0</td>\n      <td>9.0</td>\n    </tr>\n    <tr>\n      <th>974240102</th>\n      <td>1677.366109</td>\n      <td>82.874067</td>\n      <td>193.445907</td>\n      <td>435.660591</td>\n      <td>309.994224</td>\n      <td>287.116166</td>\n      <td>63.035316</td>\n      <td>66.841666</td>\n      <td>126.343354</td>\n      <td>112.054817</td>\n      <td>...</td>\n      <td>0.0</td>\n      <td>0.0</td>\n      <td>0.0</td>\n      <td>0.0</td>\n      <td>0.0</td>\n      <td>0.0</td>\n      <td>2.0</td>\n      <td>0.0</td>\n      <td>0.0</td>\n      <td>0.0</td>\n    </tr>\n    <tr>\n      <th>974240103</th>\n      <td>699.426601</td>\n      <td>37.842239</td>\n      <td>83.261220</td>\n      <td>164.532048</td>\n      <td>134.049875</td>\n      <td>131.036515</td>\n      <td>22.725352</td>\n      <td>24.726058</td>\n      <td>51.753794</td>\n      <td>49.499501</td>\n      <td>...</td>\n      <td>1.0</td>\n      <td>0.0</td>\n      <td>0.0</td>\n      <td>0.0</td>\n      <td>0.0</td>\n      <td>0.0</td>\n      <td>3.0</td>\n      <td>2.0</td>\n      <td>1.0</td>\n      <td>0.0</td>\n    </tr>\n    <tr>\n      <th>974240104</th>\n      <td>1001.667637</td>\n      <td>39.911394</td>\n      <td>127.635018</td>\n      <td>234.569412</td>\n      <td>203.867797</td>\n      <td>185.533673</td>\n      <td>42.160709</td>\n      <td>39.925063</td>\n      <td>69.051504</td>\n      <td>59.013068</td>\n      <td>...</td>\n      <td>0.0</td>\n      <td>0.0</td>\n      <td>0.0</td>\n      <td>0.0</td>\n      <td>0.0</td>\n      <td>0.0</td>\n      <td>3.0</td>\n      <td>2.0</td>\n      <td>1.0</td>\n      <td>0.0</td>\n    </tr>\n  </tbody>\n</table>\n<p>14981 rows × 84 columns</p>\n</div>"
     },
     "execution_count": 52,
     "metadata": {},
     "output_type": "execute_result"
    }
   ],
   "source": [
    "admin_data.get_admin_data()"
   ],
   "metadata": {
    "collapsed": false
   }
  },
  {
   "cell_type": "code",
   "execution_count": 6,
   "outputs": [
    {
     "name": "stderr",
     "output_type": "stream",
     "text": [
      "100%|██████████| 77/77 [00:22<00:00,  3.49it/s]\n"
     ]
    }
   ],
   "source": [
    "lyon_traffic_data = CityTrafficData(city=City.LYON, aggregation_level=AggregationLevel.IRIS, traffic_type=TrafficType.USERS)"
   ],
   "metadata": {
    "collapsed": false,
    "ExecuteTime": {
     "end_time": "2023-06-14T13:18:31.981006Z",
     "start_time": "2023-06-14T13:18:07.588221Z"
    }
   }
  },
  {
   "cell_type": "code",
   "execution_count": 7,
   "outputs": [],
   "source": [
    "expected_bed_time_lyon = ExpectedBedTimeAPI.compute_expected_bed_times(traffic_data=lyon_traffic_data)[0]"
   ],
   "metadata": {
    "collapsed": false,
    "ExecuteTime": {
     "end_time": "2023-06-14T13:18:34.294979Z",
     "start_time": "2023-06-14T13:18:31.984267Z"
    }
   }
  },
  {
   "cell_type": "code",
   "execution_count": 9,
   "outputs": [],
   "source": [
    "expected_bed_time_lyon.geo_plot(iris_geo_data=iris_geo_data, n_quantiles=5)\n",
    "expected_bed_time_lyon.plot()"
   ],
   "metadata": {
    "collapsed": false,
    "ExecuteTime": {
     "end_time": "2023-06-14T13:18:45.688069Z",
     "start_time": "2023-06-14T13:18:42.781117Z"
    }
   }
  },
  {
   "cell_type": "code",
   "execution_count": 53,
   "outputs": [],
   "source": [
    "feature_selector = BasicFeatureImportanceCalculator(admin_data=admin_data, expected_bed_time=expected_bed_time_lyon)"
   ],
   "metadata": {
    "collapsed": false,
    "ExecuteTime": {
     "end_time": "2023-06-14T16:44:50.653759Z",
     "start_time": "2023-06-14T16:44:50.574548Z"
    }
   }
  },
  {
   "cell_type": "code",
   "execution_count": 55,
   "outputs": [
    {
     "data": {
      "text/plain": "             f_statistic      p_values  mutual_information  regression   \nP19_POP         2.134476  9.528897e-02            0.016831    0.110254  \\\nP19_POP75P      4.870993  2.436819e-03            0.042771   -0.179381   \nP19_POP6074    10.647999  9.399752e-07            0.030756   -0.273457   \nP19_POP4559     2.513112  5.808348e-02            0.000000   -0.130662   \nP19_POP3044     4.032395  7.606094e-03            0.002939    0.164598   \n...                  ...           ...                 ...         ...   \nEQUIP_E1        2.817541  3.883921e-02            0.003198    0.144475   \nEQUIP_F1        4.883737  2.394925e-03            0.000000   -0.154807   \nEQUIP_F2        0.647312  5.850160e-01            0.000000   -0.067559   \nEQUIP_F3        1.211892  3.050321e-01            0.000000   -0.028619   \nEQUIP_G1        4.046673  7.460569e-03            0.028483    0.168599   \n\n                                         description  \nP19_POP                                   Population  \nP19_POP75P     Nombre de personnes de 75 ans ou plus  \nP19_POP6074       Nombre de personnes de 60 à 74 ans  \nP19_POP4559       Nombre de personnes de 45 à 59 ans  \nP19_POP3044       Nombre de personnes de 30 à 44 ans  \n...                                              ...  \nEQUIP_E1               INFRASTRUCTURES DE TRANSPORTS  \nEQUIP_F1                        ÉQUIPEMENTS SPORTIFS  \nEQUIP_F2                      ÉQUIPEMENTS DE LOISIRS  \nEQUIP_F3     ÉQUIPEMENTS CULTURELS ET SOCIOCULTURELS  \nEQUIP_G1                                    TOURISME  \n\n[84 rows x 5 columns]",
      "text/html": "<div>\n<style scoped>\n    .dataframe tbody tr th:only-of-type {\n        vertical-align: middle;\n    }\n\n    .dataframe tbody tr th {\n        vertical-align: top;\n    }\n\n    .dataframe thead th {\n        text-align: right;\n    }\n</style>\n<table border=\"1\" class=\"dataframe\">\n  <thead>\n    <tr style=\"text-align: right;\">\n      <th></th>\n      <th>f_statistic</th>\n      <th>p_values</th>\n      <th>mutual_information</th>\n      <th>regression</th>\n      <th>description</th>\n    </tr>\n  </thead>\n  <tbody>\n    <tr>\n      <th>P19_POP</th>\n      <td>2.134476</td>\n      <td>9.528897e-02</td>\n      <td>0.016831</td>\n      <td>0.110254</td>\n      <td>Population</td>\n    </tr>\n    <tr>\n      <th>P19_POP75P</th>\n      <td>4.870993</td>\n      <td>2.436819e-03</td>\n      <td>0.042771</td>\n      <td>-0.179381</td>\n      <td>Nombre de personnes de 75 ans ou plus</td>\n    </tr>\n    <tr>\n      <th>P19_POP6074</th>\n      <td>10.647999</td>\n      <td>9.399752e-07</td>\n      <td>0.030756</td>\n      <td>-0.273457</td>\n      <td>Nombre de personnes de 60 à 74 ans</td>\n    </tr>\n    <tr>\n      <th>P19_POP4559</th>\n      <td>2.513112</td>\n      <td>5.808348e-02</td>\n      <td>0.000000</td>\n      <td>-0.130662</td>\n      <td>Nombre de personnes de 45 à 59 ans</td>\n    </tr>\n    <tr>\n      <th>P19_POP3044</th>\n      <td>4.032395</td>\n      <td>7.606094e-03</td>\n      <td>0.002939</td>\n      <td>0.164598</td>\n      <td>Nombre de personnes de 30 à 44 ans</td>\n    </tr>\n    <tr>\n      <th>...</th>\n      <td>...</td>\n      <td>...</td>\n      <td>...</td>\n      <td>...</td>\n      <td>...</td>\n    </tr>\n    <tr>\n      <th>EQUIP_E1</th>\n      <td>2.817541</td>\n      <td>3.883921e-02</td>\n      <td>0.003198</td>\n      <td>0.144475</td>\n      <td>INFRASTRUCTURES DE TRANSPORTS</td>\n    </tr>\n    <tr>\n      <th>EQUIP_F1</th>\n      <td>4.883737</td>\n      <td>2.394925e-03</td>\n      <td>0.000000</td>\n      <td>-0.154807</td>\n      <td>ÉQUIPEMENTS SPORTIFS</td>\n    </tr>\n    <tr>\n      <th>EQUIP_F2</th>\n      <td>0.647312</td>\n      <td>5.850160e-01</td>\n      <td>0.000000</td>\n      <td>-0.067559</td>\n      <td>ÉQUIPEMENTS DE LOISIRS</td>\n    </tr>\n    <tr>\n      <th>EQUIP_F3</th>\n      <td>1.211892</td>\n      <td>3.050321e-01</td>\n      <td>0.000000</td>\n      <td>-0.028619</td>\n      <td>ÉQUIPEMENTS CULTURELS ET SOCIOCULTURELS</td>\n    </tr>\n    <tr>\n      <th>EQUIP_G1</th>\n      <td>4.046673</td>\n      <td>7.460569e-03</td>\n      <td>0.028483</td>\n      <td>0.168599</td>\n      <td>TOURISME</td>\n    </tr>\n  </tbody>\n</table>\n<p>84 rows × 5 columns</p>\n</div>"
     },
     "execution_count": 55,
     "metadata": {},
     "output_type": "execute_result"
    }
   ],
   "source": [
    "feature_selector.compute_feature_importance()"
   ],
   "metadata": {
    "collapsed": false
   }
  },
  {
   "cell_type": "code",
   "execution_count": 28,
   "outputs": [
    {
     "data": {
      "text/plain": "             COD_VAR                                       LIB_VAR_LONG\n0        C19_ACT1564         Nombre de personnes actives de 15 à 64 ans\n1    C19_ACT1564_CS1  Nombre d'agriculteurs exploitants actifs de 15...\n2    C19_ACT1564_CS2  Nombre d'artisans, commerçants, chefs d'entrep...\n3    C19_ACT1564_CS3  Nombre de cadres et professions intellectuelle...\n4    C19_ACT1564_CS4  Nombre de professions intermédiaires actifs de...\n..               ...                                                ...\n394     P19_SCOL1517     Nombre de personnes scolarisées de 15 à 17 ans\n395     P19_SCOL1824     Nombre de personnes scolarisées de 18 à 24 ans\n396     P19_SCOL2529     Nombre de personnes scolarisées de 25 à 29 ans\n397      P19_SCOL30P  Nombre de personnes scolarisées de 30 ans ou plus\n398         TYP_IRIS  Type d'IRIS : habitat (H), activité (A), diver...\n\n[399 rows x 2 columns]",
      "text/html": "<div>\n<style scoped>\n    .dataframe tbody tr th:only-of-type {\n        vertical-align: middle;\n    }\n\n    .dataframe tbody tr th {\n        vertical-align: top;\n    }\n\n    .dataframe thead th {\n        text-align: right;\n    }\n</style>\n<table border=\"1\" class=\"dataframe\">\n  <thead>\n    <tr style=\"text-align: right;\">\n      <th></th>\n      <th>COD_VAR</th>\n      <th>LIB_VAR_LONG</th>\n    </tr>\n  </thead>\n  <tbody>\n    <tr>\n      <th>0</th>\n      <td>C19_ACT1564</td>\n      <td>Nombre de personnes actives de 15 à 64 ans</td>\n    </tr>\n    <tr>\n      <th>1</th>\n      <td>C19_ACT1564_CS1</td>\n      <td>Nombre d'agriculteurs exploitants actifs de 15...</td>\n    </tr>\n    <tr>\n      <th>2</th>\n      <td>C19_ACT1564_CS2</td>\n      <td>Nombre d'artisans, commerçants, chefs d'entrep...</td>\n    </tr>\n    <tr>\n      <th>3</th>\n      <td>C19_ACT1564_CS3</td>\n      <td>Nombre de cadres et professions intellectuelle...</td>\n    </tr>\n    <tr>\n      <th>4</th>\n      <td>C19_ACT1564_CS4</td>\n      <td>Nombre de professions intermédiaires actifs de...</td>\n    </tr>\n    <tr>\n      <th>...</th>\n      <td>...</td>\n      <td>...</td>\n    </tr>\n    <tr>\n      <th>394</th>\n      <td>P19_SCOL1517</td>\n      <td>Nombre de personnes scolarisées de 15 à 17 ans</td>\n    </tr>\n    <tr>\n      <th>395</th>\n      <td>P19_SCOL1824</td>\n      <td>Nombre de personnes scolarisées de 18 à 24 ans</td>\n    </tr>\n    <tr>\n      <th>396</th>\n      <td>P19_SCOL2529</td>\n      <td>Nombre de personnes scolarisées de 25 à 29 ans</td>\n    </tr>\n    <tr>\n      <th>397</th>\n      <td>P19_SCOL30P</td>\n      <td>Nombre de personnes scolarisées de 30 ans ou plus</td>\n    </tr>\n    <tr>\n      <th>398</th>\n      <td>TYP_IRIS</td>\n      <td>Type d'IRIS : habitat (H), activité (A), diver...</td>\n    </tr>\n  </tbody>\n</table>\n<p>399 rows × 2 columns</p>\n</div>"
     },
     "execution_count": 28,
     "metadata": {},
     "output_type": "execute_result"
    }
   ],
   "source": [
    "admin_data.metadata"
   ],
   "metadata": {
    "collapsed": false,
    "ExecuteTime": {
     "end_time": "2023-06-14T15:20:02.715701Z",
     "start_time": "2023-06-14T15:20:02.258683Z"
    }
   }
  },
  {
   "cell_type": "markdown",
   "source": [
    "## Plots for the robustness to change in start_bed_time"
   ],
   "metadata": {
    "collapsed": false
   }
  },
  {
   "cell_type": "code",
   "execution_count": 197,
   "outputs": [],
   "source": [
    "start_bed_times = [time(21), time(21,15), time(21, 30), time(21,45), time(22), time(22,15), time(22,30)]\n",
    "ExpectedBedTimeAPI.plot_start_bed_time_robustness(traffic_data=city_traffic_data, start_bed_times=start_bed_times)"
   ],
   "metadata": {
    "collapsed": false,
    "ExecuteTime": {
     "end_time": "2023-06-14T10:17:32.264717Z",
     "start_time": "2023-06-14T10:17:15.316616Z"
    }
   }
  },
  {
   "cell_type": "code",
   "execution_count": null,
   "outputs": [],
   "source": [],
   "metadata": {
    "collapsed": false
   }
  }
 ],
 "metadata": {
  "kernelspec": {
   "display_name": "netmob_env",
   "language": "python",
   "name": "python3"
  },
  "language_info": {
   "codemirror_mode": {
    "name": "ipython",
    "version": 3
   },
   "file_extension": ".py",
   "mimetype": "text/x-python",
   "name": "python",
   "nbconvert_exporter": "python",
   "pygments_lexer": "ipython3",
   "version": "3.10.4"
  },
  "vscode": {
   "interpreter": {
    "hash": "12446bc72b2d39f7c5ae547dd2a2f3fa5f964107a3a30e469371d9d3694576e5"
   }
  }
 },
 "nbformat": 4,
 "nbformat_minor": 0
}
