{
 "cells": [
  {
   "cell_type": "code",
   "execution_count": 11,
   "outputs": [],
   "source": [
    "from DataIO import DataIO\n",
    "from Utils import City, AggregationLevel, TrafficType\n",
    "from SleepInference.SleepPreprocessor import SleepPreprocessor\n",
    "from SleepInference.TimeSeriesDecomposition import Decomposer\n",
    "import pandas as pd\n",
    "from SleepDetection.Detector import Detector\n",
    "from SleepDetection.Preprocessing import Preprocessor\n",
    "from SleepDetection.Plotter import DetectionResultPlot, HistogramsSleepPatterns\n",
    "from SleepDetection.SleepScoreEvaluation import SleepScorer\n",
    "from SleepDetection.ChangePointDetection import ChangePointDetector\n",
    "from jupyter_dash import JupyterDash\n",
    "from dash import dcc, html\n",
    "import dash_mantine_components as dmc"
   ],
   "metadata": {
    "collapsed": false,
    "ExecuteTime": {
     "end_time": "2023-05-30T11:42:49.589817Z",
     "start_time": "2023-05-30T11:42:48.949439Z"
    }
   }
  },
  {
   "cell_type": "code",
   "execution_count": 12,
   "outputs": [
    {
     "name": "stdout",
     "output_type": "stream",
     "text": [
      "The autoreload extension is already loaded. To reload it, use:\n",
      "  %reload_ext autoreload\n"
     ]
    }
   ],
   "source": [
    "%load_ext autoreload\n",
    "%autoreload 2"
   ],
   "metadata": {
    "collapsed": false,
    "ExecuteTime": {
     "end_time": "2023-05-30T11:42:50.155574Z",
     "start_time": "2023-05-30T11:42:50.062369Z"
    }
   }
  },
  {
   "cell_type": "code",
   "execution_count": 3,
   "outputs": [
    {
     "name": "stderr",
     "output_type": "stream",
     "text": [
      "100%|██████████| 77/77 [00:47<00:00,  1.64it/s]\n"
     ]
    }
   ],
   "source": [
    "xar_city = DataIO.load_traffic_data(traffic_type=TrafficType.B, city=City.LYON, aggregation_level=AggregationLevel.IRIS)"
   ],
   "metadata": {
    "collapsed": false,
    "ExecuteTime": {
     "end_time": "2023-05-30T09:57:35.871402Z",
     "start_time": "2023-05-30T09:56:41.754426Z"
    }
   }
  },
  {
   "cell_type": "code",
   "execution_count": 14,
   "outputs": [
    {
     "name": "stderr",
     "output_type": "stream",
     "text": [
      "[Parallel(n_jobs=-1)]: Using backend LokyBackend with 12 concurrent workers.\n",
      "[Parallel(n_jobs=-1)]: Done  10 out of  10 | elapsed:  1.4min finished\n",
      "[Parallel(n_jobs=-1)]: Using backend LokyBackend with 12 concurrent workers.\n"
     ]
    },
    {
     "name": "stdout",
     "output_type": "stream",
     "text": [
      "2023-05-30 13:46:34,674 - SleepInferenceLogger - WARNING - Segmentation [ 0 30 40 60 61 96] has a segment that is too small to compute the cost. Cost is set to nan.\n",
      "2023-05-30 13:46:34,674 - SleepInferenceLogger - WARNING - Segmentation [ 0 30 40 60 62 96] has a segment that is too small to compute the cost. Cost is set to nan.\n",
      "2023-05-30 13:46:34,683 - SleepInferenceLogger - WARNING - Segmentation [ 0 29 44 61 62 96] has a segment that is too small to compute the cost. Cost is set to nan.\n",
      "2023-05-30 13:46:34,683 - SleepInferenceLogger - WARNING - Segmentation [ 0 29 44 61 63 96] has a segment that is too small to compute the cost. Cost is set to nan.\n"
     ]
    },
    {
     "name": "stderr",
     "output_type": "stream",
     "text": [
      "[Parallel(n_jobs=-1)]: Done  10 out of  10 | elapsed:    1.7s finished\n",
      "[Parallel(n_jobs=-1)]: Using backend LokyBackend with 12 concurrent workers.\n"
     ]
    },
    {
     "name": "stdout",
     "output_type": "stream",
     "text": [
      "2023-05-30 13:46:35,982 - SleepInferenceLogger - WARNING - Segmentation [ 0 30 40 60 61 96] has a segment that is too small to compute the cost. Cost is set to nan.\n",
      "2023-05-30 13:46:35,982 - SleepInferenceLogger - WARNING - Segmentation [ 0 30 40 60 62 96] has a segment that is too small to compute the cost. Cost is set to nan.\n",
      "2023-05-30 13:46:36,003 - SleepInferenceLogger - WARNING - Segmentation [ 0 29 44 61 62 96] has a segment that is too small to compute the cost. Cost is set to nan.\n",
      "2023-05-30 13:46:36,003 - SleepInferenceLogger - WARNING - Segmentation [ 0 29 44 61 63 96] has a segment that is too small to compute the cost. Cost is set to nan.\n"
     ]
    },
    {
     "name": "stderr",
     "output_type": "stream",
     "text": [
      "[Parallel(n_jobs=-1)]: Done  10 out of  10 | elapsed:    1.6s finished\n",
      "[Parallel(n_jobs=-1)]: Using backend LokyBackend with 12 concurrent workers.\n"
     ]
    },
    {
     "name": "stdout",
     "output_type": "stream",
     "text": [
      "2023-05-30 13:46:37,574 - SleepInferenceLogger - WARNING - Segmentation [ 0 30 40 60 61 96] has a segment that is too small to compute the cost. Cost is set to nan.\n",
      "2023-05-30 13:46:37,575 - SleepInferenceLogger - WARNING - Segmentation [ 0 30 40 60 62 96] has a segment that is too small to compute the cost. Cost is set to nan.\n",
      "2023-05-30 13:46:37,608 - SleepInferenceLogger - WARNING - Segmentation [ 0 29 44 61 62 96] has a segment that is too small to compute the cost. Cost is set to nan.\n",
      "2023-05-30 13:46:37,608 - SleepInferenceLogger - WARNING - Segmentation [ 0 29 44 61 63 96] has a segment that is too small to compute the cost. Cost is set to nan.\n"
     ]
    },
    {
     "name": "stderr",
     "output_type": "stream",
     "text": [
      "[Parallel(n_jobs=-1)]: Done  10 out of  10 | elapsed:    0.3s finished\n",
      "[Parallel(n_jobs=-1)]: Using backend LokyBackend with 12 concurrent workers.\n"
     ]
    },
    {
     "name": "stdout",
     "output_type": "stream",
     "text": [
      "2023-05-30 13:46:37,923 - SleepInferenceLogger - WARNING - Segmentation [ 0 30 40 60 61 96] has a segment that is too small to compute the cost. Cost is set to nan.\n",
      "2023-05-30 13:46:37,924 - SleepInferenceLogger - WARNING - Segmentation [ 0 30 40 60 62 96] has a segment that is too small to compute the cost. Cost is set to nan.\n",
      "2023-05-30 13:46:37,937 - SleepInferenceLogger - WARNING - Segmentation [ 0 31 43 60 62 96] has a segment that is too small to compute the cost. Cost is set to nan.\n",
      "2023-05-30 13:46:37,955 - SleepInferenceLogger - WARNING - Segmentation [ 0 29 44 61 62 96] has a segment that is too small to compute the cost. Cost is set to nan.\n",
      "2023-05-30 13:46:37,956 - SleepInferenceLogger - WARNING - Segmentation [ 0 29 44 61 63 96] has a segment that is too small to compute the cost. Cost is set to nan.\n"
     ]
    },
    {
     "name": "stderr",
     "output_type": "stream",
     "text": [
      "[Parallel(n_jobs=-1)]: Done  10 out of  10 | elapsed:    0.3s finished\n",
      "[Parallel(n_jobs=-1)]: Using backend LokyBackend with 12 concurrent workers.\n"
     ]
    },
    {
     "name": "stdout",
     "output_type": "stream",
     "text": [
      "2023-05-30 13:46:38,234 - SleepInferenceLogger - WARNING - Segmentation [ 0 30 40 60 61 96] has a segment that is too small to compute the cost. Cost is set to nan.\n",
      "2023-05-30 13:46:38,235 - SleepInferenceLogger - WARNING - Segmentation [ 0 30 40 60 62 96] has a segment that is too small to compute the cost. Cost is set to nan.\n",
      "2023-05-30 13:46:38,244 - SleepInferenceLogger - WARNING - Segmentation [ 0 31 43 60 62 96] has a segment that is too small to compute the cost. Cost is set to nan.\n",
      "2023-05-30 13:46:38,265 - SleepInferenceLogger - WARNING - Segmentation [ 0 30 44 61 62 96] has a segment that is too small to compute the cost. Cost is set to nan.\n",
      "2023-05-30 13:46:38,265 - SleepInferenceLogger - WARNING - Segmentation [ 0 30 44 61 63 96] has a segment that is too small to compute the cost. Cost is set to nan.\n"
     ]
    },
    {
     "name": "stderr",
     "output_type": "stream",
     "text": [
      "[Parallel(n_jobs=-1)]: Done  10 out of  10 | elapsed:    0.3s finished\n",
      "[Parallel(n_jobs=-1)]: Using backend LokyBackend with 12 concurrent workers.\n"
     ]
    },
    {
     "name": "stdout",
     "output_type": "stream",
     "text": [
      "2023-05-30 13:46:38,558 - SleepInferenceLogger - WARNING - Segmentation [ 0 30 40 60 61 96] has a segment that is too small to compute the cost. Cost is set to nan.\n",
      "2023-05-30 13:46:38,558 - SleepInferenceLogger - WARNING - Segmentation [ 0 30 40 60 62 96] has a segment that is too small to compute the cost. Cost is set to nan.\n",
      "2023-05-30 13:46:38,593 - SleepInferenceLogger - WARNING - Segmentation [ 0 30 44 61 62 96] has a segment that is too small to compute the cost. Cost is set to nan.\n",
      "2023-05-30 13:46:38,593 - SleepInferenceLogger - WARNING - Segmentation [ 0 30 44 61 63 96] has a segment that is too small to compute the cost. Cost is set to nan.\n",
      "2023-05-30 13:46:38,609 - SleepInferenceLogger - WARNING - Segmentation [ 0 31 43 60 62 96] has a segment that is too small to compute the cost. Cost is set to nan.\n"
     ]
    },
    {
     "name": "stderr",
     "output_type": "stream",
     "text": [
      "[Parallel(n_jobs=-1)]: Done  10 out of  10 | elapsed:    0.3s finished\n",
      "[Parallel(n_jobs=-1)]: Using backend LokyBackend with 12 concurrent workers.\n"
     ]
    },
    {
     "name": "stdout",
     "output_type": "stream",
     "text": [
      "2023-05-30 13:46:38,895 - SleepInferenceLogger - WARNING - Segmentation [ 0 31 43 60 62 96] has a segment that is too small to compute the cost. Cost is set to nan.\n",
      "2023-05-30 13:46:38,916 - SleepInferenceLogger - WARNING - Segmentation [ 0 30 44 61 62 96] has a segment that is too small to compute the cost. Cost is set to nan.\n",
      "2023-05-30 13:46:38,916 - SleepInferenceLogger - WARNING - Segmentation [ 0 30 44 61 63 96] has a segment that is too small to compute the cost. Cost is set to nan.\n",
      "2023-05-30 13:46:38,933 - SleepInferenceLogger - WARNING - Segmentation [ 0 30 40 60 61 96] has a segment that is too small to compute the cost. Cost is set to nan.\n",
      "2023-05-30 13:46:38,933 - SleepInferenceLogger - WARNING - Segmentation [ 0 30 40 60 62 96] has a segment that is too small to compute the cost. Cost is set to nan.\n"
     ]
    },
    {
     "name": "stderr",
     "output_type": "stream",
     "text": [
      "[Parallel(n_jobs=-1)]: Done  10 out of  10 | elapsed:    0.3s finished\n",
      "[Parallel(n_jobs=-1)]: Using backend LokyBackend with 12 concurrent workers.\n"
     ]
    },
    {
     "name": "stdout",
     "output_type": "stream",
     "text": [
      "2023-05-30 13:46:39,225 - SleepInferenceLogger - WARNING - Segmentation [ 0 30 40 60 61 96] has a segment that is too small to compute the cost. Cost is set to nan.\n",
      "2023-05-30 13:46:39,225 - SleepInferenceLogger - WARNING - Segmentation [ 0 30 40 60 62 96] has a segment that is too small to compute the cost. Cost is set to nan.\n",
      "2023-05-30 13:46:39,238 - SleepInferenceLogger - WARNING - Segmentation [ 0 31 43 60 62 96] has a segment that is too small to compute the cost. Cost is set to nan.\n",
      "2023-05-30 13:46:39,251 - SleepInferenceLogger - WARNING - Segmentation [ 0 30 44 61 62 96] has a segment that is too small to compute the cost. Cost is set to nan.\n",
      "2023-05-30 13:46:39,251 - SleepInferenceLogger - WARNING - Segmentation [ 0 30 44 61 63 96] has a segment that is too small to compute the cost. Cost is set to nan.\n"
     ]
    },
    {
     "name": "stderr",
     "output_type": "stream",
     "text": [
      "[Parallel(n_jobs=-1)]: Done  10 out of  10 | elapsed:    0.3s finished\n",
      "[Parallel(n_jobs=-1)]: Using backend LokyBackend with 12 concurrent workers.\n"
     ]
    },
    {
     "name": "stdout",
     "output_type": "stream",
     "text": [
      "2023-05-30 13:46:39,565 - SleepInferenceLogger - WARNING - Segmentation [ 0 30 40 60 61 96] has a segment that is too small to compute the cost. Cost is set to nan.\n",
      "2023-05-30 13:46:39,565 - SleepInferenceLogger - WARNING - Segmentation [ 0 30 40 60 62 96] has a segment that is too small to compute the cost. Cost is set to nan.\n",
      "2023-05-30 13:46:39,589 - SleepInferenceLogger - WARNING - Segmentation [ 0 30 44 61 62 96] has a segment that is too small to compute the cost. Cost is set to nan.\n",
      "2023-05-30 13:46:39,589 - SleepInferenceLogger - WARNING - Segmentation [ 0 30 44 61 63 96] has a segment that is too small to compute the cost. Cost is set to nan.\n",
      "2023-05-30 13:46:39,618 - SleepInferenceLogger - WARNING - Segmentation [ 0 29 47 61 62 96] has a segment that is too small to compute the cost. Cost is set to nan.\n",
      "2023-05-30 13:46:39,618 - SleepInferenceLogger - WARNING - Segmentation [ 0 29 47 61 63 96] has a segment that is too small to compute the cost. Cost is set to nan.\n"
     ]
    },
    {
     "name": "stderr",
     "output_type": "stream",
     "text": [
      "[Parallel(n_jobs=-1)]: Done  10 out of  10 | elapsed:    0.3s finished\n",
      "[Parallel(n_jobs=-1)]: Using backend LokyBackend with 12 concurrent workers.\n"
     ]
    },
    {
     "name": "stdout",
     "output_type": "stream",
     "text": [
      "2023-05-30 13:46:39,882 - SleepInferenceLogger - WARNING - Segmentation [ 0 30 40 60 61 96] has a segment that is too small to compute the cost. Cost is set to nan.\n",
      "2023-05-30 13:46:39,882 - SleepInferenceLogger - WARNING - Segmentation [ 0 30 40 60 62 96] has a segment that is too small to compute the cost. Cost is set to nan.\n",
      "2023-05-30 13:46:39,909 - SleepInferenceLogger - WARNING - Segmentation [ 0 29 47 61 62 96] has a segment that is too small to compute the cost. Cost is set to nan.\n",
      "2023-05-30 13:46:39,910 - SleepInferenceLogger - WARNING - Segmentation [ 0 29 47 61 63 96] has a segment that is too small to compute the cost. Cost is set to nan.\n",
      "2023-05-30 13:46:39,927 - SleepInferenceLogger - WARNING - Segmentation [ 0 30 44 61 62 96] has a segment that is too small to compute the cost. Cost is set to nan.\n",
      "2023-05-30 13:46:39,927 - SleepInferenceLogger - WARNING - Segmentation [ 0 30 44 61 63 96] has a segment that is too small to compute the cost. Cost is set to nan.\n"
     ]
    },
    {
     "name": "stderr",
     "output_type": "stream",
     "text": [
      "[Parallel(n_jobs=-1)]: Done  10 out of  10 | elapsed:    0.3s finished\n",
      "[Parallel(n_jobs=-1)]: Using backend LokyBackend with 12 concurrent workers.\n"
     ]
    },
    {
     "name": "stdout",
     "output_type": "stream",
     "text": [
      "2023-05-30 13:46:40,196 - SleepInferenceLogger - WARNING - Segmentation [ 0 30 40 60 61 96] has a segment that is too small to compute the cost. Cost is set to nan.\n",
      "2023-05-30 13:46:40,196 - SleepInferenceLogger - WARNING - Segmentation [ 0 30 40 60 62 96] has a segment that is too small to compute the cost. Cost is set to nan.\n",
      "2023-05-30 13:46:40,228 - SleepInferenceLogger - WARNING - Segmentation [ 0 30 44 61 62 96] has a segment that is too small to compute the cost. Cost is set to nan.\n",
      "2023-05-30 13:46:40,228 - SleepInferenceLogger - WARNING - Segmentation [ 0 30 44 61 63 96] has a segment that is too small to compute the cost. Cost is set to nan.\n",
      "2023-05-30 13:46:40,257 - SleepInferenceLogger - WARNING - Segmentation [ 0 29 47 61 62 96] has a segment that is too small to compute the cost. Cost is set to nan.\n",
      "2023-05-30 13:46:40,257 - SleepInferenceLogger - WARNING - Segmentation [ 0 29 47 61 63 96] has a segment that is too small to compute the cost. Cost is set to nan.\n"
     ]
    },
    {
     "name": "stderr",
     "output_type": "stream",
     "text": [
      "[Parallel(n_jobs=-1)]: Done  10 out of  10 | elapsed:    0.3s finished\n",
      "[Parallel(n_jobs=-1)]: Using backend LokyBackend with 12 concurrent workers.\n"
     ]
    },
    {
     "name": "stdout",
     "output_type": "stream",
     "text": [
      "2023-05-30 13:46:40,532 - SleepInferenceLogger - WARNING - Segmentation [ 0 30 40 60 61 96] has a segment that is too small to compute the cost. Cost is set to nan.\n",
      "2023-05-30 13:46:40,532 - SleepInferenceLogger - WARNING - Segmentation [ 0 30 40 60 62 96] has a segment that is too small to compute the cost. Cost is set to nan.\n",
      "2023-05-30 13:46:40,537 - SleepInferenceLogger - WARNING - Segmentation [ 0 29 47 61 62 96] has a segment that is too small to compute the cost. Cost is set to nan.\n",
      "2023-05-30 13:46:40,538 - SleepInferenceLogger - WARNING - Segmentation [ 0 29 47 61 63 96] has a segment that is too small to compute the cost. Cost is set to nan.\n",
      "2023-05-30 13:46:40,560 - SleepInferenceLogger - WARNING - Segmentation [ 0 30 44 61 62 96] has a segment that is too small to compute the cost. Cost is set to nan.\n",
      "2023-05-30 13:46:40,560 - SleepInferenceLogger - WARNING - Segmentation [ 0 30 44 61 63 96] has a segment that is too small to compute the cost. Cost is set to nan.\n"
     ]
    },
    {
     "name": "stderr",
     "output_type": "stream",
     "text": [
      "[Parallel(n_jobs=-1)]: Done  10 out of  10 | elapsed:    0.3s finished\n",
      "[Parallel(n_jobs=-1)]: Using backend LokyBackend with 12 concurrent workers.\n"
     ]
    },
    {
     "name": "stdout",
     "output_type": "stream",
     "text": [
      "2023-05-30 13:46:40,855 - SleepInferenceLogger - WARNING - Segmentation [ 0 30 40 60 61 96] has a segment that is too small to compute the cost. Cost is set to nan.\n",
      "2023-05-30 13:46:40,855 - SleepInferenceLogger - WARNING - Segmentation [ 0 30 40 60 62 96] has a segment that is too small to compute the cost. Cost is set to nan.\n",
      "2023-05-30 13:46:40,874 - SleepInferenceLogger - WARNING - Segmentation [ 0 29 47 61 62 96] has a segment that is too small to compute the cost. Cost is set to nan.\n",
      "2023-05-30 13:46:40,874 - SleepInferenceLogger - WARNING - Segmentation [ 0 29 47 61 63 96] has a segment that is too small to compute the cost. Cost is set to nan.\n",
      "2023-05-30 13:46:40,898 - SleepInferenceLogger - WARNING - Segmentation [ 0 30 44 61 62 96] has a segment that is too small to compute the cost. Cost is set to nan.\n",
      "2023-05-30 13:46:40,898 - SleepInferenceLogger - WARNING - Segmentation [ 0 30 44 61 63 96] has a segment that is too small to compute the cost. Cost is set to nan.\n"
     ]
    },
    {
     "name": "stderr",
     "output_type": "stream",
     "text": [
      "[Parallel(n_jobs=-1)]: Done  10 out of  10 | elapsed:    0.3s finished\n",
      "[Parallel(n_jobs=-1)]: Using backend LokyBackend with 12 concurrent workers.\n"
     ]
    },
    {
     "name": "stdout",
     "output_type": "stream",
     "text": [
      "2023-05-30 13:46:41,188 - SleepInferenceLogger - WARNING - Segmentation [ 0 29 47 61 62 96] has a segment that is too small to compute the cost. Cost is set to nan.\n",
      "2023-05-30 13:46:41,188 - SleepInferenceLogger - WARNING - Segmentation [ 0 29 47 61 63 96] has a segment that is too small to compute the cost. Cost is set to nan.\n",
      "2023-05-30 13:46:41,189 - SleepInferenceLogger - WARNING - Segmentation [ 0 30 40 60 61 96] has a segment that is too small to compute the cost. Cost is set to nan.\n",
      "2023-05-30 13:46:41,190 - SleepInferenceLogger - WARNING - Segmentation [ 0 30 40 60 62 96] has a segment that is too small to compute the cost. Cost is set to nan.\n",
      "2023-05-30 13:46:41,210 - SleepInferenceLogger - WARNING - Segmentation [ 0 30 44 61 62 96] has a segment that is too small to compute the cost. Cost is set to nan.\n",
      "2023-05-30 13:46:41,211 - SleepInferenceLogger - WARNING - Segmentation [ 0 30 44 61 63 96] has a segment that is too small to compute the cost. Cost is set to nan.\n"
     ]
    },
    {
     "name": "stderr",
     "output_type": "stream",
     "text": [
      "[Parallel(n_jobs=-1)]: Done  10 out of  10 | elapsed:    0.3s finished\n",
      "[Parallel(n_jobs=-1)]: Using backend LokyBackend with 12 concurrent workers.\n"
     ]
    },
    {
     "name": "stdout",
     "output_type": "stream",
     "text": [
      "2023-05-30 13:46:41,506 - SleepInferenceLogger - WARNING - Segmentation [ 0 30 40 60 61 96] has a segment that is too small to compute the cost. Cost is set to nan.\n",
      "2023-05-30 13:46:41,506 - SleepInferenceLogger - WARNING - Segmentation [ 0 30 40 60 62 96] has a segment that is too small to compute the cost. Cost is set to nan.\n",
      "2023-05-30 13:46:41,517 - SleepInferenceLogger - WARNING - Segmentation [ 0 29 47 61 62 96] has a segment that is too small to compute the cost. Cost is set to nan.\n",
      "2023-05-30 13:46:41,518 - SleepInferenceLogger - WARNING - Segmentation [ 0 29 47 61 63 96] has a segment that is too small to compute the cost. Cost is set to nan.\n",
      "2023-05-30 13:46:41,540 - SleepInferenceLogger - WARNING - Segmentation [ 0 30 44 60 62 96] has a segment that is too small to compute the cost. Cost is set to nan.\n"
     ]
    },
    {
     "name": "stderr",
     "output_type": "stream",
     "text": [
      "[Parallel(n_jobs=-1)]: Done  10 out of  10 | elapsed:    0.3s finished\n",
      "[Parallel(n_jobs=-1)]: Using backend LokyBackend with 12 concurrent workers.\n"
     ]
    },
    {
     "name": "stdout",
     "output_type": "stream",
     "text": [
      "2023-05-30 13:46:41,845 - SleepInferenceLogger - WARNING - Segmentation [ 0 29 47 61 62 96] has a segment that is too small to compute the cost. Cost is set to nan.\n",
      "2023-05-30 13:46:41,846 - SleepInferenceLogger - WARNING - Segmentation [ 0 29 47 61 63 96] has a segment that is too small to compute the cost. Cost is set to nan.\n",
      "2023-05-30 13:46:41,853 - SleepInferenceLogger - WARNING - Segmentation [ 0 30 44 60 62 96] has a segment that is too small to compute the cost. Cost is set to nan.\n",
      "2023-05-30 13:46:41,859 - SleepInferenceLogger - WARNING - Segmentation [ 0 30 40 60 61 96] has a segment that is too small to compute the cost. Cost is set to nan.\n",
      "2023-05-30 13:46:41,859 - SleepInferenceLogger - WARNING - Segmentation [ 0 30 40 60 62 96] has a segment that is too small to compute the cost. Cost is set to nan.\n"
     ]
    },
    {
     "name": "stderr",
     "output_type": "stream",
     "text": [
      "[Parallel(n_jobs=-1)]: Done  10 out of  10 | elapsed:    0.4s finished\n",
      "[Parallel(n_jobs=-1)]: Using backend LokyBackend with 12 concurrent workers.\n"
     ]
    },
    {
     "name": "stdout",
     "output_type": "stream",
     "text": [
      "2023-05-30 13:46:42,197 - SleepInferenceLogger - WARNING - Segmentation [ 0 29 47 61 62 96] has a segment that is too small to compute the cost. Cost is set to nan.\n",
      "2023-05-30 13:46:42,198 - SleepInferenceLogger - WARNING - Segmentation [ 0 29 47 61 63 96] has a segment that is too small to compute the cost. Cost is set to nan.\n",
      "2023-05-30 13:46:42,206 - SleepInferenceLogger - WARNING - Segmentation [ 0 30 44 60 62 96] has a segment that is too small to compute the cost. Cost is set to nan.\n",
      "2023-05-30 13:46:42,220 - SleepInferenceLogger - WARNING - Segmentation [ 0 30 40 60 61 96] has a segment that is too small to compute the cost. Cost is set to nan.\n",
      "2023-05-30 13:46:42,220 - SleepInferenceLogger - WARNING - Segmentation [ 0 30 40 60 62 96] has a segment that is too small to compute the cost. Cost is set to nan.\n"
     ]
    },
    {
     "name": "stderr",
     "output_type": "stream",
     "text": [
      "[Parallel(n_jobs=-1)]: Done  10 out of  10 | elapsed:    0.4s finished\n",
      "[Parallel(n_jobs=-1)]: Using backend LokyBackend with 12 concurrent workers.\n"
     ]
    },
    {
     "name": "stdout",
     "output_type": "stream",
     "text": [
      "2023-05-30 13:46:42,539 - SleepInferenceLogger - WARNING - Segmentation [ 0 30 40 60 61 96] has a segment that is too small to compute the cost. Cost is set to nan.\n",
      "2023-05-30 13:46:42,539 - SleepInferenceLogger - WARNING - Segmentation [ 0 30 40 60 62 96] has a segment that is too small to compute the cost. Cost is set to nan.\n",
      "2023-05-30 13:46:42,552 - SleepInferenceLogger - WARNING - Segmentation [ 0 29 47 61 62 96] has a segment that is too small to compute the cost. Cost is set to nan.\n",
      "2023-05-30 13:46:42,552 - SleepInferenceLogger - WARNING - Segmentation [ 0 29 47 61 63 96] has a segment that is too small to compute the cost. Cost is set to nan.\n",
      "2023-05-30 13:46:42,563 - SleepInferenceLogger - WARNING - Segmentation [ 0 30 44 60 62 96] has a segment that is too small to compute the cost. Cost is set to nan.\n"
     ]
    },
    {
     "name": "stderr",
     "output_type": "stream",
     "text": [
      "[Parallel(n_jobs=-1)]: Done  10 out of  10 | elapsed:    0.3s finished\n",
      "[Parallel(n_jobs=-1)]: Using backend LokyBackend with 12 concurrent workers.\n"
     ]
    },
    {
     "name": "stdout",
     "output_type": "stream",
     "text": [
      "2023-05-30 13:46:42,857 - SleepInferenceLogger - WARNING - Segmentation [ 0 30 40 60 61 96] has a segment that is too small to compute the cost. Cost is set to nan.\n",
      "2023-05-30 13:46:42,858 - SleepInferenceLogger - WARNING - Segmentation [ 0 30 40 60 62 96] has a segment that is too small to compute the cost. Cost is set to nan.\n",
      "2023-05-30 13:46:42,868 - SleepInferenceLogger - WARNING - Segmentation [ 0 29 47 61 62 96] has a segment that is too small to compute the cost. Cost is set to nan.\n",
      "2023-05-30 13:46:42,868 - SleepInferenceLogger - WARNING - Segmentation [ 0 29 47 61 63 96] has a segment that is too small to compute the cost. Cost is set to nan.\n",
      "2023-05-30 13:46:42,930 - SleepInferenceLogger - WARNING - Segmentation [ 0 30 44 60 62 96] has a segment that is too small to compute the cost. Cost is set to nan.\n"
     ]
    },
    {
     "name": "stderr",
     "output_type": "stream",
     "text": [
      "[Parallel(n_jobs=-1)]: Done  10 out of  10 | elapsed:    0.3s finished\n",
      "[Parallel(n_jobs=-1)]: Using backend LokyBackend with 12 concurrent workers.\n"
     ]
    },
    {
     "name": "stdout",
     "output_type": "stream",
     "text": [
      "2023-05-30 13:46:43,180 - SleepInferenceLogger - WARNING - Segmentation [ 0 30 40 60 61 96] has a segment that is too small to compute the cost. Cost is set to nan.\n",
      "2023-05-30 13:46:43,181 - SleepInferenceLogger - WARNING - Segmentation [ 0 30 40 60 62 96] has a segment that is too small to compute the cost. Cost is set to nan.\n",
      "2023-05-30 13:46:43,202 - SleepInferenceLogger - WARNING - Segmentation [ 0 29 47 61 62 96] has a segment that is too small to compute the cost. Cost is set to nan.\n",
      "2023-05-30 13:46:43,202 - SleepInferenceLogger - WARNING - Segmentation [ 0 29 47 61 63 96] has a segment that is too small to compute the cost. Cost is set to nan.\n",
      "2023-05-30 13:46:43,213 - SleepInferenceLogger - WARNING - Segmentation [ 0 30 44 60 62 96] has a segment that is too small to compute the cost. Cost is set to nan.\n"
     ]
    },
    {
     "name": "stderr",
     "output_type": "stream",
     "text": [
      "[Parallel(n_jobs=-1)]: Done  10 out of  10 | elapsed:    0.4s finished\n",
      "[Parallel(n_jobs=-1)]: Using backend LokyBackend with 12 concurrent workers.\n"
     ]
    },
    {
     "name": "stdout",
     "output_type": "stream",
     "text": [
      "2023-05-30 13:46:43,542 - SleepInferenceLogger - WARNING - Segmentation [ 0 29 47 61 62 96] has a segment that is too small to compute the cost. Cost is set to nan.\n",
      "2023-05-30 13:46:43,542 - SleepInferenceLogger - WARNING - Segmentation [ 0 29 47 61 63 96] has a segment that is too small to compute the cost. Cost is set to nan.\n",
      "2023-05-30 13:46:43,570 - SleepInferenceLogger - WARNING - Segmentation [ 0 30 44 60 62 96] has a segment that is too small to compute the cost. Cost is set to nan.\n"
     ]
    },
    {
     "name": "stderr",
     "output_type": "stream",
     "text": [
      "[Parallel(n_jobs=-1)]: Done  10 out of  10 | elapsed:    0.3s finished\n",
      "[Parallel(n_jobs=-1)]: Using backend LokyBackend with 12 concurrent workers.\n"
     ]
    },
    {
     "name": "stdout",
     "output_type": "stream",
     "text": [
      "2023-05-30 13:46:43,900 - SleepInferenceLogger - WARNING - Segmentation [ 0 30 44 60 62 96] has a segment that is too small to compute the cost. Cost is set to nan.\n",
      "2023-05-30 13:46:43,936 - SleepInferenceLogger - WARNING - Segmentation [ 0 29 47 61 62 96] has a segment that is too small to compute the cost. Cost is set to nan.\n",
      "2023-05-30 13:46:43,936 - SleepInferenceLogger - WARNING - Segmentation [ 0 29 47 61 63 96] has a segment that is too small to compute the cost. Cost is set to nan.\n"
     ]
    },
    {
     "name": "stderr",
     "output_type": "stream",
     "text": [
      "[Parallel(n_jobs=-1)]: Done  10 out of  10 | elapsed:    0.3s finished\n",
      "[Parallel(n_jobs=-1)]: Using backend LokyBackend with 12 concurrent workers.\n"
     ]
    },
    {
     "name": "stdout",
     "output_type": "stream",
     "text": [
      "2023-05-30 13:46:44,254 - SleepInferenceLogger - WARNING - Segmentation [ 0 30 44 60 62 96] has a segment that is too small to compute the cost. Cost is set to nan.\n",
      "2023-05-30 13:46:44,281 - SleepInferenceLogger - WARNING - Segmentation [ 0 29 47 61 62 96] has a segment that is too small to compute the cost. Cost is set to nan.\n",
      "2023-05-30 13:46:44,282 - SleepInferenceLogger - WARNING - Segmentation [ 0 29 47 61 63 96] has a segment that is too small to compute the cost. Cost is set to nan.\n"
     ]
    },
    {
     "name": "stderr",
     "output_type": "stream",
     "text": [
      "[Parallel(n_jobs=-1)]: Done  10 out of  10 | elapsed:    0.3s finished\n",
      "[Parallel(n_jobs=-1)]: Using backend LokyBackend with 12 concurrent workers.\n"
     ]
    },
    {
     "name": "stdout",
     "output_type": "stream",
     "text": [
      "2023-05-30 13:46:44,573 - SleepInferenceLogger - WARNING - Segmentation [ 0 29 47 61 62 96] has a segment that is too small to compute the cost. Cost is set to nan.\n",
      "2023-05-30 13:46:44,574 - SleepInferenceLogger - WARNING - Segmentation [ 0 29 47 61 63 96] has a segment that is too small to compute the cost. Cost is set to nan.\n",
      "2023-05-30 13:46:44,585 - SleepInferenceLogger - WARNING - Segmentation [ 0 30 44 60 62 96] has a segment that is too small to compute the cost. Cost is set to nan.\n"
     ]
    },
    {
     "name": "stderr",
     "output_type": "stream",
     "text": [
      "[Parallel(n_jobs=-1)]: Done  10 out of  10 | elapsed:    0.3s finished\n",
      "[Parallel(n_jobs=-1)]: Using backend LokyBackend with 12 concurrent workers.\n"
     ]
    },
    {
     "name": "stdout",
     "output_type": "stream",
     "text": [
      "2023-05-30 13:46:44,896 - SleepInferenceLogger - WARNING - Segmentation [ 0 29 47 61 62 96] has a segment that is too small to compute the cost. Cost is set to nan.\n",
      "2023-05-30 13:46:44,897 - SleepInferenceLogger - WARNING - Segmentation [ 0 29 47 61 63 96] has a segment that is too small to compute the cost. Cost is set to nan.\n",
      "2023-05-30 13:46:44,914 - SleepInferenceLogger - WARNING - Segmentation [ 0 30 44 60 62 96] has a segment that is too small to compute the cost. Cost is set to nan.\n"
     ]
    },
    {
     "name": "stderr",
     "output_type": "stream",
     "text": [
      "[Parallel(n_jobs=-1)]: Done  10 out of  10 | elapsed:    0.3s finished\n",
      "[Parallel(n_jobs=-1)]: Using backend LokyBackend with 12 concurrent workers.\n"
     ]
    },
    {
     "name": "stdout",
     "output_type": "stream",
     "text": [
      "2023-05-30 13:46:45,207 - SleepInferenceLogger - WARNING - Segmentation [ 0 29 47 61 62 96] has a segment that is too small to compute the cost. Cost is set to nan.\n",
      "2023-05-30 13:46:45,207 - SleepInferenceLogger - WARNING - Segmentation [ 0 29 47 61 63 96] has a segment that is too small to compute the cost. Cost is set to nan.\n",
      "2023-05-30 13:46:45,227 - SleepInferenceLogger - WARNING - Segmentation [ 0 30 44 60 62 96] has a segment that is too small to compute the cost. Cost is set to nan.\n"
     ]
    },
    {
     "name": "stderr",
     "output_type": "stream",
     "text": [
      "[Parallel(n_jobs=-1)]: Done  10 out of  10 | elapsed:    0.3s finished\n",
      "[Parallel(n_jobs=-1)]: Using backend LokyBackend with 12 concurrent workers.\n"
     ]
    },
    {
     "name": "stdout",
     "output_type": "stream",
     "text": [
      "2023-05-30 13:46:45,529 - SleepInferenceLogger - WARNING - Segmentation [ 0 29 47 61 62 96] has a segment that is too small to compute the cost. Cost is set to nan.\n",
      "2023-05-30 13:46:45,529 - SleepInferenceLogger - WARNING - Segmentation [ 0 29 47 61 63 96] has a segment that is too small to compute the cost. Cost is set to nan.\n",
      "2023-05-30 13:46:45,561 - SleepInferenceLogger - WARNING - Segmentation [ 0 30 44 60 62 96] has a segment that is too small to compute the cost. Cost is set to nan.\n"
     ]
    },
    {
     "name": "stderr",
     "output_type": "stream",
     "text": [
      "[Parallel(n_jobs=-1)]: Done  10 out of  10 | elapsed:    0.3s finished\n",
      "[Parallel(n_jobs=-1)]: Using backend LokyBackend with 12 concurrent workers.\n"
     ]
    },
    {
     "name": "stdout",
     "output_type": "stream",
     "text": [
      "2023-05-30 13:46:45,868 - SleepInferenceLogger - WARNING - Segmentation [ 0 29 47 61 62 96] has a segment that is too small to compute the cost. Cost is set to nan.\n",
      "2023-05-30 13:46:45,868 - SleepInferenceLogger - WARNING - Segmentation [ 0 29 47 61 63 96] has a segment that is too small to compute the cost. Cost is set to nan.\n",
      "2023-05-30 13:46:45,874 - SleepInferenceLogger - WARNING - Segmentation [ 0 30 44 60 62 96] has a segment that is too small to compute the cost. Cost is set to nan.\n"
     ]
    },
    {
     "name": "stderr",
     "output_type": "stream",
     "text": [
      "[Parallel(n_jobs=-1)]: Done  10 out of  10 | elapsed:    0.3s finished\n",
      "[Parallel(n_jobs=-1)]: Using backend LokyBackend with 12 concurrent workers.\n"
     ]
    },
    {
     "name": "stdout",
     "output_type": "stream",
     "text": [
      "2023-05-30 13:46:46,185 - SleepInferenceLogger - WARNING - Segmentation [ 0 29 47 61 62 96] has a segment that is too small to compute the cost. Cost is set to nan.\n",
      "2023-05-30 13:46:46,185 - SleepInferenceLogger - WARNING - Segmentation [ 0 29 47 61 63 96] has a segment that is too small to compute the cost. Cost is set to nan.\n",
      "2023-05-30 13:46:46,210 - SleepInferenceLogger - WARNING - Segmentation [ 0 30 44 60 62 96] has a segment that is too small to compute the cost. Cost is set to nan.\n"
     ]
    },
    {
     "name": "stderr",
     "output_type": "stream",
     "text": [
      "[Parallel(n_jobs=-1)]: Done  10 out of  10 | elapsed:    0.3s finished\n",
      "[Parallel(n_jobs=-1)]: Using backend LokyBackend with 12 concurrent workers.\n"
     ]
    },
    {
     "name": "stdout",
     "output_type": "stream",
     "text": [
      "2023-05-30 13:46:46,498 - SleepInferenceLogger - WARNING - Segmentation [ 0 29 47 61 62 96] has a segment that is too small to compute the cost. Cost is set to nan.\n",
      "2023-05-30 13:46:46,498 - SleepInferenceLogger - WARNING - Segmentation [ 0 29 47 61 63 96] has a segment that is too small to compute the cost. Cost is set to nan.\n",
      "2023-05-30 13:46:46,533 - SleepInferenceLogger - WARNING - Segmentation [ 0 30 46 62 63 96] has a segment that is too small to compute the cost. Cost is set to nan.\n",
      "2023-05-30 13:46:46,534 - SleepInferenceLogger - WARNING - Segmentation [ 0 30 46 62 64 96] has a segment that is too small to compute the cost. Cost is set to nan.\n"
     ]
    },
    {
     "name": "stderr",
     "output_type": "stream",
     "text": [
      "[Parallel(n_jobs=-1)]: Done  10 out of  10 | elapsed:    0.3s finished\n",
      "[Parallel(n_jobs=-1)]: Using backend LokyBackend with 12 concurrent workers.\n"
     ]
    },
    {
     "name": "stdout",
     "output_type": "stream",
     "text": [
      "2023-05-30 13:46:46,844 - SleepInferenceLogger - WARNING - Segmentation [ 0 29 47 61 62 96] has a segment that is too small to compute the cost. Cost is set to nan.\n",
      "2023-05-30 13:46:46,844 - SleepInferenceLogger - WARNING - Segmentation [ 0 29 47 61 63 96] has a segment that is too small to compute the cost. Cost is set to nan.\n",
      "2023-05-30 13:46:46,849 - SleepInferenceLogger - WARNING - Segmentation [ 0 30 46 62 63 96] has a segment that is too small to compute the cost. Cost is set to nan.\n",
      "2023-05-30 13:46:46,850 - SleepInferenceLogger - WARNING - Segmentation [ 0 30 46 62 64 96] has a segment that is too small to compute the cost. Cost is set to nan.\n"
     ]
    },
    {
     "name": "stderr",
     "output_type": "stream",
     "text": [
      "[Parallel(n_jobs=-1)]: Done  10 out of  10 | elapsed:    0.3s finished\n",
      "[Parallel(n_jobs=-1)]: Using backend LokyBackend with 12 concurrent workers.\n"
     ]
    },
    {
     "name": "stdout",
     "output_type": "stream",
     "text": [
      "2023-05-30 13:46:47,180 - SleepInferenceLogger - WARNING - Segmentation [ 0 30 46 61 63 96] has a segment that is too small to compute the cost. Cost is set to nan.\n",
      "2023-05-30 13:46:47,194 - SleepInferenceLogger - WARNING - Segmentation [ 0 29 47 61 62 96] has a segment that is too small to compute the cost. Cost is set to nan.\n",
      "2023-05-30 13:46:47,194 - SleepInferenceLogger - WARNING - Segmentation [ 0 29 47 61 63 96] has a segment that is too small to compute the cost. Cost is set to nan.\n"
     ]
    },
    {
     "name": "stderr",
     "output_type": "stream",
     "text": [
      "[Parallel(n_jobs=-1)]: Done  10 out of  10 | elapsed:    0.3s finished\n",
      "[Parallel(n_jobs=-1)]: Using backend LokyBackend with 12 concurrent workers.\n"
     ]
    },
    {
     "name": "stdout",
     "output_type": "stream",
     "text": [
      "2023-05-30 13:46:47,504 - SleepInferenceLogger - WARNING - Segmentation [ 0 29 47 61 62 96] has a segment that is too small to compute the cost. Cost is set to nan.\n",
      "2023-05-30 13:46:47,504 - SleepInferenceLogger - WARNING - Segmentation [ 0 29 47 61 63 96] has a segment that is too small to compute the cost. Cost is set to nan.\n",
      "2023-05-30 13:46:47,558 - SleepInferenceLogger - WARNING - Segmentation [ 0 30 46 61 63 96] has a segment that is too small to compute the cost. Cost is set to nan.\n"
     ]
    },
    {
     "name": "stderr",
     "output_type": "stream",
     "text": [
      "[Parallel(n_jobs=-1)]: Done  10 out of  10 | elapsed:    0.4s finished\n",
      "[Parallel(n_jobs=-1)]: Using backend LokyBackend with 12 concurrent workers.\n"
     ]
    },
    {
     "name": "stdout",
     "output_type": "stream",
     "text": [
      "2023-05-30 13:46:47,877 - SleepInferenceLogger - WARNING - Segmentation [ 0 29 47 61 62 96] has a segment that is too small to compute the cost. Cost is set to nan.\n",
      "2023-05-30 13:46:47,877 - SleepInferenceLogger - WARNING - Segmentation [ 0 29 47 61 63 96] has a segment that is too small to compute the cost. Cost is set to nan.\n",
      "2023-05-30 13:46:47,891 - SleepInferenceLogger - WARNING - Segmentation [ 0 30 46 61 63 96] has a segment that is too small to compute the cost. Cost is set to nan.\n"
     ]
    },
    {
     "name": "stderr",
     "output_type": "stream",
     "text": [
      "[Parallel(n_jobs=-1)]: Done  10 out of  10 | elapsed:    0.3s finished\n",
      "[Parallel(n_jobs=-1)]: Using backend LokyBackend with 12 concurrent workers.\n"
     ]
    },
    {
     "name": "stdout",
     "output_type": "stream",
     "text": [
      "2023-05-30 13:46:48,188 - SleepInferenceLogger - WARNING - Segmentation [ 0 29 47 61 62 96] has a segment that is too small to compute the cost. Cost is set to nan.\n",
      "2023-05-30 13:46:48,188 - SleepInferenceLogger - WARNING - Segmentation [ 0 29 47 61 63 96] has a segment that is too small to compute the cost. Cost is set to nan.\n",
      "2023-05-30 13:46:48,200 - SleepInferenceLogger - WARNING - Segmentation [ 0 30 46 61 63 96] has a segment that is too small to compute the cost. Cost is set to nan.\n"
     ]
    },
    {
     "name": "stderr",
     "output_type": "stream",
     "text": [
      "[Parallel(n_jobs=-1)]: Done  10 out of  10 | elapsed:    0.3s finished\n",
      "[Parallel(n_jobs=-1)]: Using backend LokyBackend with 12 concurrent workers.\n"
     ]
    },
    {
     "name": "stdout",
     "output_type": "stream",
     "text": [
      "2023-05-30 13:46:48,523 - SleepInferenceLogger - WARNING - Segmentation [ 0 29 47 61 62 96] has a segment that is too small to compute the cost. Cost is set to nan.\n",
      "2023-05-30 13:46:48,523 - SleepInferenceLogger - WARNING - Segmentation [ 0 29 47 61 63 96] has a segment that is too small to compute the cost. Cost is set to nan.\n",
      "2023-05-30 13:46:48,523 - SleepInferenceLogger - WARNING - Segmentation [ 0 30 46 61 63 96] has a segment that is too small to compute the cost. Cost is set to nan.\n"
     ]
    },
    {
     "name": "stderr",
     "output_type": "stream",
     "text": [
      "[Parallel(n_jobs=-1)]: Done  10 out of  10 | elapsed:    0.3s finished\n",
      "[Parallel(n_jobs=-1)]: Using backend LokyBackend with 12 concurrent workers.\n"
     ]
    },
    {
     "name": "stdout",
     "output_type": "stream",
     "text": [
      "2023-05-30 13:46:48,853 - SleepInferenceLogger - WARNING - Segmentation [ 0 29 47 61 62 96] has a segment that is too small to compute the cost. Cost is set to nan.\n",
      "2023-05-30 13:46:48,854 - SleepInferenceLogger - WARNING - Segmentation [ 0 29 47 61 63 96] has a segment that is too small to compute the cost. Cost is set to nan.\n",
      "2023-05-30 13:46:48,868 - SleepInferenceLogger - WARNING - Segmentation [ 0 30 46 61 63 96] has a segment that is too small to compute the cost. Cost is set to nan.\n"
     ]
    },
    {
     "name": "stderr",
     "output_type": "stream",
     "text": [
      "[Parallel(n_jobs=-1)]: Done  10 out of  10 | elapsed:    0.3s finished\n",
      "[Parallel(n_jobs=-1)]: Using backend LokyBackend with 12 concurrent workers.\n"
     ]
    },
    {
     "name": "stdout",
     "output_type": "stream",
     "text": [
      "2023-05-30 13:46:49,184 - SleepInferenceLogger - WARNING - Segmentation [ 0 29 47 61 62 96] has a segment that is too small to compute the cost. Cost is set to nan.\n",
      "2023-05-30 13:46:49,184 - SleepInferenceLogger - WARNING - Segmentation [ 0 29 47 61 63 96] has a segment that is too small to compute the cost. Cost is set to nan.\n",
      "2023-05-30 13:46:49,206 - SleepInferenceLogger - WARNING - Segmentation [ 0 30 46 61 63 96] has a segment that is too small to compute the cost. Cost is set to nan.\n"
     ]
    },
    {
     "name": "stderr",
     "output_type": "stream",
     "text": [
      "[Parallel(n_jobs=-1)]: Done  10 out of  10 | elapsed:    0.3s finished\n",
      "[Parallel(n_jobs=-1)]: Using backend LokyBackend with 12 concurrent workers.\n"
     ]
    },
    {
     "name": "stdout",
     "output_type": "stream",
     "text": [
      "2023-05-30 13:46:49,498 - SleepInferenceLogger - WARNING - Segmentation [ 0 29 47 61 62 96] has a segment that is too small to compute the cost. Cost is set to nan.\n",
      "2023-05-30 13:46:49,499 - SleepInferenceLogger - WARNING - Segmentation [ 0 29 47 61 63 96] has a segment that is too small to compute the cost. Cost is set to nan.\n",
      "2023-05-30 13:46:49,527 - SleepInferenceLogger - WARNING - Segmentation [ 0 30 46 61 63 96] has a segment that is too small to compute the cost. Cost is set to nan.\n"
     ]
    },
    {
     "name": "stderr",
     "output_type": "stream",
     "text": [
      "[Parallel(n_jobs=-1)]: Done  10 out of  10 | elapsed:    0.3s finished\n",
      "[Parallel(n_jobs=-1)]: Using backend LokyBackend with 12 concurrent workers.\n"
     ]
    },
    {
     "name": "stdout",
     "output_type": "stream",
     "text": [
      "2023-05-30 13:46:49,833 - SleepInferenceLogger - WARNING - Segmentation [ 0 29 47 61 62 96] has a segment that is too small to compute the cost. Cost is set to nan.\n",
      "2023-05-30 13:46:49,833 - SleepInferenceLogger - WARNING - Segmentation [ 0 29 47 61 63 96] has a segment that is too small to compute the cost. Cost is set to nan.\n",
      "2023-05-30 13:46:49,884 - SleepInferenceLogger - WARNING - Segmentation [ 0 30 46 61 63 96] has a segment that is too small to compute the cost. Cost is set to nan.\n"
     ]
    },
    {
     "name": "stderr",
     "output_type": "stream",
     "text": [
      "[Parallel(n_jobs=-1)]: Done  10 out of  10 | elapsed:    0.3s finished\n",
      "[Parallel(n_jobs=-1)]: Using backend LokyBackend with 12 concurrent workers.\n"
     ]
    },
    {
     "name": "stdout",
     "output_type": "stream",
     "text": [
      "2023-05-30 13:46:50,167 - SleepInferenceLogger - WARNING - Segmentation [ 0 29 47 61 62 96] has a segment that is too small to compute the cost. Cost is set to nan.\n",
      "2023-05-30 13:46:50,167 - SleepInferenceLogger - WARNING - Segmentation [ 0 29 47 61 63 96] has a segment that is too small to compute the cost. Cost is set to nan.\n",
      "2023-05-30 13:46:50,178 - SleepInferenceLogger - WARNING - Segmentation [ 0 30 46 61 63 96] has a segment that is too small to compute the cost. Cost is set to nan.\n"
     ]
    },
    {
     "name": "stderr",
     "output_type": "stream",
     "text": [
      "[Parallel(n_jobs=-1)]: Done  10 out of  10 | elapsed:    0.3s finished\n",
      "[Parallel(n_jobs=-1)]: Using backend LokyBackend with 12 concurrent workers.\n"
     ]
    },
    {
     "name": "stdout",
     "output_type": "stream",
     "text": [
      "2023-05-30 13:46:50,499 - SleepInferenceLogger - WARNING - Segmentation [ 0 30 46 61 63 96] has a segment that is too small to compute the cost. Cost is set to nan.\n",
      "2023-05-30 13:46:50,527 - SleepInferenceLogger - WARNING - Segmentation [ 0 29 47 61 62 96] has a segment that is too small to compute the cost. Cost is set to nan.\n",
      "2023-05-30 13:46:50,527 - SleepInferenceLogger - WARNING - Segmentation [ 0 29 47 61 63 96] has a segment that is too small to compute the cost. Cost is set to nan.\n"
     ]
    },
    {
     "name": "stderr",
     "output_type": "stream",
     "text": [
      "[Parallel(n_jobs=-1)]: Done  10 out of  10 | elapsed:    0.3s finished\n",
      "[Parallel(n_jobs=-1)]: Using backend LokyBackend with 12 concurrent workers.\n"
     ]
    },
    {
     "name": "stdout",
     "output_type": "stream",
     "text": [
      "2023-05-30 13:46:50,807 - SleepInferenceLogger - WARNING - Segmentation [ 0 29 47 61 62 96] has a segment that is too small to compute the cost. Cost is set to nan.\n",
      "2023-05-30 13:46:50,808 - SleepInferenceLogger - WARNING - Segmentation [ 0 29 47 61 63 96] has a segment that is too small to compute the cost. Cost is set to nan.\n",
      "2023-05-30 13:46:50,821 - SleepInferenceLogger - WARNING - Segmentation [ 0 30 46 61 63 96] has a segment that is too small to compute the cost. Cost is set to nan.\n"
     ]
    },
    {
     "name": "stderr",
     "output_type": "stream",
     "text": [
      "[Parallel(n_jobs=-1)]: Done  10 out of  10 | elapsed:    0.3s finished\n",
      "[Parallel(n_jobs=-1)]: Using backend LokyBackend with 12 concurrent workers.\n"
     ]
    },
    {
     "name": "stdout",
     "output_type": "stream",
     "text": [
      "2023-05-30 13:46:51,137 - SleepInferenceLogger - WARNING - Segmentation [ 0 30 46 61 63 96] has a segment that is too small to compute the cost. Cost is set to nan.\n",
      "2023-05-30 13:46:51,142 - SleepInferenceLogger - WARNING - Segmentation [ 0 29 47 61 62 96] has a segment that is too small to compute the cost. Cost is set to nan.\n",
      "2023-05-30 13:46:51,143 - SleepInferenceLogger - WARNING - Segmentation [ 0 29 47 61 63 96] has a segment that is too small to compute the cost. Cost is set to nan.\n"
     ]
    },
    {
     "name": "stderr",
     "output_type": "stream",
     "text": [
      "[Parallel(n_jobs=-1)]: Done  10 out of  10 | elapsed:    0.3s finished\n",
      "[Parallel(n_jobs=-1)]: Using backend LokyBackend with 12 concurrent workers.\n"
     ]
    },
    {
     "name": "stdout",
     "output_type": "stream",
     "text": [
      "2023-05-30 13:46:51,473 - SleepInferenceLogger - WARNING - Segmentation [ 0 29 47 61 62 96] has a segment that is too small to compute the cost. Cost is set to nan.\n",
      "2023-05-30 13:46:51,473 - SleepInferenceLogger - WARNING - Segmentation [ 0 29 47 61 63 96] has a segment that is too small to compute the cost. Cost is set to nan.\n",
      "2023-05-30 13:46:51,477 - SleepInferenceLogger - WARNING - Segmentation [ 0 30 46 61 63 96] has a segment that is too small to compute the cost. Cost is set to nan.\n"
     ]
    },
    {
     "name": "stderr",
     "output_type": "stream",
     "text": [
      "[Parallel(n_jobs=-1)]: Done  10 out of  10 | elapsed:    0.3s finished\n",
      "[Parallel(n_jobs=-1)]: Using backend LokyBackend with 12 concurrent workers.\n"
     ]
    },
    {
     "name": "stdout",
     "output_type": "stream",
     "text": [
      "2023-05-30 13:46:51,777 - SleepInferenceLogger - WARNING - Segmentation [ 0 29 47 61 62 96] has a segment that is too small to compute the cost. Cost is set to nan.\n",
      "2023-05-30 13:46:51,778 - SleepInferenceLogger - WARNING - Segmentation [ 0 29 47 61 63 96] has a segment that is too small to compute the cost. Cost is set to nan.\n",
      "2023-05-30 13:46:51,806 - SleepInferenceLogger - WARNING - Segmentation [ 0 30 46 61 63 96] has a segment that is too small to compute the cost. Cost is set to nan.\n"
     ]
    },
    {
     "name": "stderr",
     "output_type": "stream",
     "text": [
      "[Parallel(n_jobs=-1)]: Done  10 out of  10 | elapsed:    0.3s finished\n",
      "[Parallel(n_jobs=-1)]: Using backend LokyBackend with 12 concurrent workers.\n"
     ]
    },
    {
     "name": "stdout",
     "output_type": "stream",
     "text": [
      "2023-05-30 13:46:52,103 - SleepInferenceLogger - WARNING - Segmentation [ 0 29 47 61 62 96] has a segment that is too small to compute the cost. Cost is set to nan.\n",
      "2023-05-30 13:46:52,104 - SleepInferenceLogger - WARNING - Segmentation [ 0 29 47 61 63 96] has a segment that is too small to compute the cost. Cost is set to nan.\n",
      "2023-05-30 13:46:52,118 - SleepInferenceLogger - WARNING - Segmentation [ 0 30 46 61 63 96] has a segment that is too small to compute the cost. Cost is set to nan.\n"
     ]
    },
    {
     "name": "stderr",
     "output_type": "stream",
     "text": [
      "[Parallel(n_jobs=-1)]: Done  10 out of  10 | elapsed:    0.4s finished\n",
      "[Parallel(n_jobs=-1)]: Using backend LokyBackend with 12 concurrent workers.\n"
     ]
    },
    {
     "name": "stdout",
     "output_type": "stream",
     "text": [
      "2023-05-30 13:46:52,488 - SleepInferenceLogger - WARNING - Segmentation [ 0 29 47 61 62 96] has a segment that is too small to compute the cost. Cost is set to nan.\n",
      "2023-05-30 13:46:52,489 - SleepInferenceLogger - WARNING - Segmentation [ 0 29 47 61 63 96] has a segment that is too small to compute the cost. Cost is set to nan.\n",
      "2023-05-30 13:46:52,491 - SleepInferenceLogger - WARNING - Segmentation [ 0 30 46 61 63 96] has a segment that is too small to compute the cost. Cost is set to nan.\n"
     ]
    },
    {
     "name": "stderr",
     "output_type": "stream",
     "text": [
      "[Parallel(n_jobs=-1)]: Done  10 out of  10 | elapsed:    0.3s finished\n",
      "[Parallel(n_jobs=-1)]: Using backend LokyBackend with 12 concurrent workers.\n"
     ]
    },
    {
     "name": "stdout",
     "output_type": "stream",
     "text": [
      "2023-05-30 13:46:52,805 - SleepInferenceLogger - WARNING - Segmentation [ 0 29 47 61 62 96] has a segment that is too small to compute the cost. Cost is set to nan.\n",
      "2023-05-30 13:46:52,805 - SleepInferenceLogger - WARNING - Segmentation [ 0 29 47 61 63 96] has a segment that is too small to compute the cost. Cost is set to nan.\n",
      "2023-05-30 13:46:52,807 - SleepInferenceLogger - WARNING - Segmentation [ 0 30 47 61 63 96] has a segment that is too small to compute the cost. Cost is set to nan.\n"
     ]
    },
    {
     "name": "stderr",
     "output_type": "stream",
     "text": [
      "[Parallel(n_jobs=-1)]: Done  10 out of  10 | elapsed:    0.3s finished\n",
      "[Parallel(n_jobs=-1)]: Using backend LokyBackend with 12 concurrent workers.\n"
     ]
    },
    {
     "name": "stdout",
     "output_type": "stream",
     "text": [
      "2023-05-30 13:46:53,124 - SleepInferenceLogger - WARNING - Segmentation [ 0 29 47 61 62 96] has a segment that is too small to compute the cost. Cost is set to nan.\n",
      "2023-05-30 13:46:53,124 - SleepInferenceLogger - WARNING - Segmentation [ 0 29 47 61 63 96] has a segment that is too small to compute the cost. Cost is set to nan.\n",
      "2023-05-30 13:46:53,148 - SleepInferenceLogger - WARNING - Segmentation [ 0 30 47 61 63 96] has a segment that is too small to compute the cost. Cost is set to nan.\n"
     ]
    },
    {
     "name": "stderr",
     "output_type": "stream",
     "text": [
      "[Parallel(n_jobs=-1)]: Done  10 out of  10 | elapsed:    0.3s finished\n",
      "[Parallel(n_jobs=-1)]: Using backend LokyBackend with 12 concurrent workers.\n"
     ]
    },
    {
     "name": "stdout",
     "output_type": "stream",
     "text": [
      "2023-05-30 13:46:53,448 - SleepInferenceLogger - WARNING - Segmentation [ 0 29 47 61 62 96] has a segment that is too small to compute the cost. Cost is set to nan.\n",
      "2023-05-30 13:46:53,448 - SleepInferenceLogger - WARNING - Segmentation [ 0 29 47 61 63 96] has a segment that is too small to compute the cost. Cost is set to nan.\n",
      "2023-05-30 13:46:53,478 - SleepInferenceLogger - WARNING - Segmentation [ 0 30 47 61 63 96] has a segment that is too small to compute the cost. Cost is set to nan.\n"
     ]
    },
    {
     "name": "stderr",
     "output_type": "stream",
     "text": [
      "[Parallel(n_jobs=-1)]: Done  10 out of  10 | elapsed:    0.3s finished\n",
      "[Parallel(n_jobs=-1)]: Using backend LokyBackend with 12 concurrent workers.\n"
     ]
    },
    {
     "name": "stdout",
     "output_type": "stream",
     "text": [
      "2023-05-30 13:46:53,772 - SleepInferenceLogger - WARNING - Segmentation [ 0 29 47 60 62 96] has a segment that is too small to compute the cost. Cost is set to nan.\n"
     ]
    },
    {
     "name": "stderr",
     "output_type": "stream",
     "text": [
      "[Parallel(n_jobs=-1)]: Done  10 out of  10 | elapsed:    0.4s finished\n",
      "[Parallel(n_jobs=-1)]: Using backend LokyBackend with 12 concurrent workers.\n"
     ]
    },
    {
     "name": "stdout",
     "output_type": "stream",
     "text": [
      "2023-05-30 13:46:54,127 - SleepInferenceLogger - WARNING - Segmentation [ 0 30 43 60 62 96] has a segment that is too small to compute the cost. Cost is set to nan.\n"
     ]
    },
    {
     "name": "stderr",
     "output_type": "stream",
     "text": [
      "[Parallel(n_jobs=-1)]: Done  10 out of  10 | elapsed:    0.3s finished\n",
      "[Parallel(n_jobs=-1)]: Using backend LokyBackend with 12 concurrent workers.\n"
     ]
    },
    {
     "name": "stdout",
     "output_type": "stream",
     "text": [
      "2023-05-30 13:46:54,464 - SleepInferenceLogger - WARNING - Segmentation [ 0 30 43 60 62 96] has a segment that is too small to compute the cost. Cost is set to nan.\n"
     ]
    },
    {
     "name": "stderr",
     "output_type": "stream",
     "text": [
      "[Parallel(n_jobs=-1)]: Done  10 out of  10 | elapsed:    0.3s finished\n",
      "[Parallel(n_jobs=-1)]: Using backend LokyBackend with 12 concurrent workers.\n"
     ]
    },
    {
     "name": "stdout",
     "output_type": "stream",
     "text": [
      "2023-05-30 13:46:54,790 - SleepInferenceLogger - WARNING - Segmentation [ 0 30 43 60 62 96] has a segment that is too small to compute the cost. Cost is set to nan.\n"
     ]
    },
    {
     "name": "stderr",
     "output_type": "stream",
     "text": [
      "[Parallel(n_jobs=-1)]: Done  10 out of  10 | elapsed:    0.3s finished\n",
      "[Parallel(n_jobs=-1)]: Using backend LokyBackend with 12 concurrent workers.\n"
     ]
    },
    {
     "name": "stdout",
     "output_type": "stream",
     "text": [
      "2023-05-30 13:46:55,132 - SleepInferenceLogger - WARNING - Segmentation [ 0 30 43 60 62 96] has a segment that is too small to compute the cost. Cost is set to nan.\n"
     ]
    },
    {
     "name": "stderr",
     "output_type": "stream",
     "text": [
      "[Parallel(n_jobs=-1)]: Done  10 out of  10 | elapsed:    0.3s finished\n",
      "[Parallel(n_jobs=-1)]: Using backend LokyBackend with 12 concurrent workers.\n"
     ]
    },
    {
     "name": "stdout",
     "output_type": "stream",
     "text": [
      "2023-05-30 13:46:55,472 - SleepInferenceLogger - WARNING - Segmentation [ 0 30 43 60 62 96] has a segment that is too small to compute the cost. Cost is set to nan.\n",
      "2023-05-30 13:46:55,514 - SleepInferenceLogger - WARNING - Segmentation [ 0 32 48 61 63 96] has a segment that is too small to compute the cost. Cost is set to nan.\n"
     ]
    },
    {
     "name": "stderr",
     "output_type": "stream",
     "text": [
      "[Parallel(n_jobs=-1)]: Done  10 out of  10 | elapsed:    0.3s finished\n",
      "[Parallel(n_jobs=-1)]: Using backend LokyBackend with 12 concurrent workers.\n"
     ]
    },
    {
     "name": "stdout",
     "output_type": "stream",
     "text": [
      "2023-05-30 13:46:55,781 - SleepInferenceLogger - WARNING - Segmentation [ 0 30 43 60 62 96] has a segment that is too small to compute the cost. Cost is set to nan.\n",
      "2023-05-30 13:46:55,824 - SleepInferenceLogger - WARNING - Segmentation [ 0 32 48 61 63 96] has a segment that is too small to compute the cost. Cost is set to nan.\n"
     ]
    },
    {
     "name": "stderr",
     "output_type": "stream",
     "text": [
      "[Parallel(n_jobs=-1)]: Done  10 out of  10 | elapsed:    0.3s finished\n",
      "[Parallel(n_jobs=-1)]: Using backend LokyBackend with 12 concurrent workers.\n"
     ]
    },
    {
     "name": "stdout",
     "output_type": "stream",
     "text": [
      "2023-05-30 13:46:56,131 - SleepInferenceLogger - WARNING - Segmentation [ 0 30 43 60 62 96] has a segment that is too small to compute the cost. Cost is set to nan.\n",
      "2023-05-30 13:46:56,179 - SleepInferenceLogger - WARNING - Segmentation [ 0 32 48 61 63 96] has a segment that is too small to compute the cost. Cost is set to nan.\n"
     ]
    },
    {
     "name": "stderr",
     "output_type": "stream",
     "text": [
      "[Parallel(n_jobs=-1)]: Done  10 out of  10 | elapsed:    0.3s finished\n",
      "[Parallel(n_jobs=-1)]: Using backend LokyBackend with 12 concurrent workers.\n"
     ]
    },
    {
     "name": "stdout",
     "output_type": "stream",
     "text": [
      "2023-05-30 13:46:56,465 - SleepInferenceLogger - WARNING - Segmentation [ 0 30 43 60 62 96] has a segment that is too small to compute the cost. Cost is set to nan.\n",
      "2023-05-30 13:46:56,520 - SleepInferenceLogger - WARNING - Segmentation [ 0 32 48 61 63 96] has a segment that is too small to compute the cost. Cost is set to nan.\n"
     ]
    },
    {
     "name": "stderr",
     "output_type": "stream",
     "text": [
      "[Parallel(n_jobs=-1)]: Done  10 out of  10 | elapsed:    0.3s finished\n",
      "[Parallel(n_jobs=-1)]: Using backend LokyBackend with 12 concurrent workers.\n"
     ]
    },
    {
     "name": "stdout",
     "output_type": "stream",
     "text": [
      "2023-05-30 13:46:56,835 - SleepInferenceLogger - WARNING - Segmentation [ 0 30 43 60 62 96] has a segment that is too small to compute the cost. Cost is set to nan.\n",
      "2023-05-30 13:46:56,842 - SleepInferenceLogger - WARNING - Segmentation [ 0 32 48 61 63 96] has a segment that is too small to compute the cost. Cost is set to nan.\n"
     ]
    },
    {
     "name": "stderr",
     "output_type": "stream",
     "text": [
      "[Parallel(n_jobs=-1)]: Done  10 out of  10 | elapsed:    0.3s finished\n",
      "[Parallel(n_jobs=-1)]: Using backend LokyBackend with 12 concurrent workers.\n"
     ]
    },
    {
     "name": "stdout",
     "output_type": "stream",
     "text": [
      "2023-05-30 13:46:57,140 - SleepInferenceLogger - WARNING - Segmentation [ 0 30 43 60 62 96] has a segment that is too small to compute the cost. Cost is set to nan.\n",
      "2023-05-30 13:46:57,175 - SleepInferenceLogger - WARNING - Segmentation [ 0 32 48 61 63 96] has a segment that is too small to compute the cost. Cost is set to nan.\n"
     ]
    },
    {
     "name": "stderr",
     "output_type": "stream",
     "text": [
      "[Parallel(n_jobs=-1)]: Done  10 out of  10 | elapsed:    0.3s finished\n",
      "[Parallel(n_jobs=-1)]: Using backend LokyBackend with 12 concurrent workers.\n"
     ]
    },
    {
     "name": "stdout",
     "output_type": "stream",
     "text": [
      "2023-05-30 13:46:57,449 - SleepInferenceLogger - WARNING - Segmentation [ 0 30 43 60 62 96] has a segment that is too small to compute the cost. Cost is set to nan.\n",
      "2023-05-30 13:46:57,506 - SleepInferenceLogger - WARNING - Segmentation [ 0 32 48 61 63 96] has a segment that is too small to compute the cost. Cost is set to nan.\n"
     ]
    },
    {
     "name": "stderr",
     "output_type": "stream",
     "text": [
      "[Parallel(n_jobs=-1)]: Done  10 out of  10 | elapsed:    0.3s finished\n",
      "[Parallel(n_jobs=-1)]: Using backend LokyBackend with 12 concurrent workers.\n"
     ]
    },
    {
     "name": "stdout",
     "output_type": "stream",
     "text": [
      "2023-05-30 13:46:57,774 - SleepInferenceLogger - WARNING - Segmentation [ 0 30 43 60 62 96] has a segment that is too small to compute the cost. Cost is set to nan.\n",
      "2023-05-30 13:46:57,823 - SleepInferenceLogger - WARNING - Segmentation [ 0 32 48 61 63 96] has a segment that is too small to compute the cost. Cost is set to nan.\n"
     ]
    },
    {
     "name": "stderr",
     "output_type": "stream",
     "text": [
      "[Parallel(n_jobs=-1)]: Done  10 out of  10 | elapsed:    0.4s finished\n",
      "[Parallel(n_jobs=-1)]: Using backend LokyBackend with 12 concurrent workers.\n"
     ]
    },
    {
     "name": "stdout",
     "output_type": "stream",
     "text": [
      "2023-05-30 13:46:58,125 - SleepInferenceLogger - WARNING - Segmentation [ 0 30 43 60 62 96] has a segment that is too small to compute the cost. Cost is set to nan.\n",
      "2023-05-30 13:46:58,180 - SleepInferenceLogger - WARNING - Segmentation [ 0 32 48 61 63 96] has a segment that is too small to compute the cost. Cost is set to nan.\n"
     ]
    },
    {
     "name": "stderr",
     "output_type": "stream",
     "text": [
      "[Parallel(n_jobs=-1)]: Done  10 out of  10 | elapsed:    0.4s finished\n",
      "[Parallel(n_jobs=-1)]: Using backend LokyBackend with 12 concurrent workers.\n"
     ]
    },
    {
     "name": "stdout",
     "output_type": "stream",
     "text": [
      "2023-05-30 13:46:58,501 - SleepInferenceLogger - WARNING - Segmentation [ 0 30 43 60 62 96] has a segment that is too small to compute the cost. Cost is set to nan.\n",
      "2023-05-30 13:46:58,550 - SleepInferenceLogger - WARNING - Segmentation [ 0 32 48 61 63 96] has a segment that is too small to compute the cost. Cost is set to nan.\n"
     ]
    },
    {
     "name": "stderr",
     "output_type": "stream",
     "text": [
      "[Parallel(n_jobs=-1)]: Done  10 out of  10 | elapsed:    0.4s finished\n",
      "[Parallel(n_jobs=-1)]: Using backend LokyBackend with 12 concurrent workers.\n"
     ]
    },
    {
     "name": "stdout",
     "output_type": "stream",
     "text": [
      "2023-05-30 13:46:58,867 - SleepInferenceLogger - WARNING - Segmentation [ 0 30 43 60 62 96] has a segment that is too small to compute the cost. Cost is set to nan.\n",
      "2023-05-30 13:46:58,924 - SleepInferenceLogger - WARNING - Segmentation [ 0 32 48 61 63 96] has a segment that is too small to compute the cost. Cost is set to nan.\n"
     ]
    },
    {
     "name": "stderr",
     "output_type": "stream",
     "text": [
      "[Parallel(n_jobs=-1)]: Done  10 out of  10 | elapsed:    0.3s finished\n",
      "[Parallel(n_jobs=-1)]: Using backend LokyBackend with 12 concurrent workers.\n"
     ]
    },
    {
     "name": "stdout",
     "output_type": "stream",
     "text": [
      "2023-05-30 13:46:59,193 - SleepInferenceLogger - WARNING - Segmentation [ 0 30 43 60 62 96] has a segment that is too small to compute the cost. Cost is set to nan.\n",
      "2023-05-30 13:46:59,283 - SleepInferenceLogger - WARNING - Segmentation [ 0 32 48 61 63 96] has a segment that is too small to compute the cost. Cost is set to nan.\n"
     ]
    },
    {
     "name": "stderr",
     "output_type": "stream",
     "text": [
      "[Parallel(n_jobs=-1)]: Done  10 out of  10 | elapsed:    0.3s finished\n",
      "[Parallel(n_jobs=-1)]: Using backend LokyBackend with 12 concurrent workers.\n"
     ]
    },
    {
     "name": "stdout",
     "output_type": "stream",
     "text": [
      "2023-05-30 13:46:59,548 - SleepInferenceLogger - WARNING - Segmentation [ 0 30 46 60 62 96] has a segment that is too small to compute the cost. Cost is set to nan.\n",
      "2023-05-30 13:46:59,587 - SleepInferenceLogger - WARNING - Segmentation [ 0 32 48 61 63 96] has a segment that is too small to compute the cost. Cost is set to nan.\n"
     ]
    },
    {
     "name": "stderr",
     "output_type": "stream",
     "text": [
      "[Parallel(n_jobs=-1)]: Done  10 out of  10 | elapsed:    0.3s finished\n",
      "[Parallel(n_jobs=-1)]: Using backend LokyBackend with 12 concurrent workers.\n"
     ]
    },
    {
     "name": "stdout",
     "output_type": "stream",
     "text": [
      "2023-05-30 13:46:59,861 - SleepInferenceLogger - WARNING - Segmentation [ 0 30 46 60 62 96] has a segment that is too small to compute the cost. Cost is set to nan.\n",
      "2023-05-30 13:46:59,916 - SleepInferenceLogger - WARNING - Segmentation [ 0 32 48 61 63 96] has a segment that is too small to compute the cost. Cost is set to nan.\n"
     ]
    },
    {
     "name": "stderr",
     "output_type": "stream",
     "text": [
      "[Parallel(n_jobs=-1)]: Done  10 out of  10 | elapsed:    0.3s finished\n",
      "[Parallel(n_jobs=-1)]: Using backend LokyBackend with 12 concurrent workers.\n"
     ]
    },
    {
     "name": "stdout",
     "output_type": "stream",
     "text": [
      "2023-05-30 13:47:00,191 - SleepInferenceLogger - WARNING - Segmentation [ 0 30 46 60 62 96] has a segment that is too small to compute the cost. Cost is set to nan.\n",
      "2023-05-30 13:47:00,241 - SleepInferenceLogger - WARNING - Segmentation [ 0 32 48 61 63 96] has a segment that is too small to compute the cost. Cost is set to nan.\n"
     ]
    },
    {
     "name": "stderr",
     "output_type": "stream",
     "text": [
      "[Parallel(n_jobs=-1)]: Done  10 out of  10 | elapsed:    0.3s finished\n",
      "[Parallel(n_jobs=-1)]: Using backend LokyBackend with 12 concurrent workers.\n"
     ]
    },
    {
     "name": "stdout",
     "output_type": "stream",
     "text": [
      "2023-05-30 13:47:00,549 - SleepInferenceLogger - WARNING - Segmentation [ 0 30 46 60 62 96] has a segment that is too small to compute the cost. Cost is set to nan.\n",
      "2023-05-30 13:47:00,596 - SleepInferenceLogger - WARNING - Segmentation [ 0 32 48 61 63 96] has a segment that is too small to compute the cost. Cost is set to nan.\n"
     ]
    },
    {
     "name": "stderr",
     "output_type": "stream",
     "text": [
      "[Parallel(n_jobs=-1)]: Done  10 out of  10 | elapsed:    0.3s finished\n",
      "[Parallel(n_jobs=-1)]: Using backend LokyBackend with 12 concurrent workers.\n"
     ]
    },
    {
     "name": "stdout",
     "output_type": "stream",
     "text": [
      "2023-05-30 13:47:00,857 - SleepInferenceLogger - WARNING - Segmentation [ 0 30 46 60 62 96] has a segment that is too small to compute the cost. Cost is set to nan.\n",
      "2023-05-30 13:47:00,912 - SleepInferenceLogger - WARNING - Segmentation [ 0 32 48 61 63 96] has a segment that is too small to compute the cost. Cost is set to nan.\n"
     ]
    },
    {
     "name": "stderr",
     "output_type": "stream",
     "text": [
      "[Parallel(n_jobs=-1)]: Done  10 out of  10 | elapsed:    0.3s finished\n",
      "[Parallel(n_jobs=-1)]: Using backend LokyBackend with 12 concurrent workers.\n"
     ]
    },
    {
     "name": "stdout",
     "output_type": "stream",
     "text": [
      "2023-05-30 13:47:01,215 - SleepInferenceLogger - WARNING - Segmentation [ 0 30 46 60 62 96] has a segment that is too small to compute the cost. Cost is set to nan.\n",
      "2023-05-30 13:47:01,258 - SleepInferenceLogger - WARNING - Segmentation [ 0 32 48 61 63 96] has a segment that is too small to compute the cost. Cost is set to nan.\n"
     ]
    },
    {
     "name": "stderr",
     "output_type": "stream",
     "text": [
      "[Parallel(n_jobs=-1)]: Done  10 out of  10 | elapsed:    0.3s finished\n",
      "[Parallel(n_jobs=-1)]: Using backend LokyBackend with 12 concurrent workers.\n"
     ]
    },
    {
     "name": "stdout",
     "output_type": "stream",
     "text": [
      "2023-05-30 13:47:01,549 - SleepInferenceLogger - WARNING - Segmentation [ 0 30 46 60 62 96] has a segment that is too small to compute the cost. Cost is set to nan.\n",
      "2023-05-30 13:47:01,585 - SleepInferenceLogger - WARNING - Segmentation [ 0 32 48 61 63 96] has a segment that is too small to compute the cost. Cost is set to nan.\n"
     ]
    },
    {
     "name": "stderr",
     "output_type": "stream",
     "text": [
      "[Parallel(n_jobs=-1)]: Done  10 out of  10 | elapsed:    0.3s finished\n"
     ]
    }
   ],
   "source": [
    "detector = Detector(xar_city=xar_city)\n",
    "result = detector.detect_sleep_patterns()"
   ],
   "metadata": {
    "collapsed": false,
    "ExecuteTime": {
     "end_time": "2023-05-30T11:47:03.770856Z",
     "start_time": "2023-05-30T11:45:07.143610Z"
    }
   }
  },
  {
   "cell_type": "code",
   "execution_count": null,
   "outputs": [],
   "source": [],
   "metadata": {
    "collapsed": false
   }
  },
  {
   "cell_type": "code",
   "execution_count": null,
   "outputs": [],
   "source": [],
   "metadata": {
    "collapsed": false
   }
  },
  {
   "cell_type": "code",
   "execution_count": 20,
   "outputs": [],
   "source": [
    "plotter = DetectionResultPlot(detection_result=result)\n",
    "figures = plotter.plot()"
   ],
   "metadata": {
    "collapsed": false,
    "ExecuteTime": {
     "end_time": "2023-05-30T11:50:46.667767Z",
     "start_time": "2023-05-30T11:50:43.928340Z"
    }
   }
  },
  {
   "cell_type": "code",
   "execution_count": 29,
   "outputs": [],
   "source": [
    "external_stylesheets = [dmc.theme.DEFAULT_COLORS]\n",
    "app = JupyterDash(__name__, external_stylesheets=external_stylesheets)\n",
    "app.layout = html.Div(\n",
    "    style={'overflowY': 'scroll', 'height': '1200px'},  # This enables scrolling\n",
    "    children=[dcc.Graph(figure=fig) for fig in figures]\n",
    ")"
   ],
   "metadata": {
    "collapsed": false,
    "ExecuteTime": {
     "end_time": "2023-05-30T14:46:33.043608Z",
     "start_time": "2023-05-30T14:46:32.594575Z"
    }
   }
  },
  {
   "cell_type": "code",
   "execution_count": null,
   "outputs": [],
   "source": [],
   "metadata": {
    "collapsed": false
   }
  },
  {
   "cell_type": "code",
   "execution_count": 30,
   "outputs": [
    {
     "name": "stdout",
     "output_type": "stream",
     "text": [
      "Dash is running on http://127.0.0.1:8050/\n",
      "\n",
      "Dash app running on http://127.0.0.1:8050/\n"
     ]
    }
   ],
   "source": [
    "app.run_server(mode='external')  # Turn off reloader if inside Jupyter"
   ],
   "metadata": {
    "collapsed": false,
    "ExecuteTime": {
     "end_time": "2023-05-30T14:47:44.108791Z",
     "start_time": "2023-05-30T14:47:43.534403Z"
    }
   }
  },
  {
   "cell_type": "code",
   "execution_count": null,
   "outputs": [],
   "source": [],
   "metadata": {
    "collapsed": false
   }
  },
  {
   "cell_type": "code",
   "execution_count": 245,
   "outputs": [],
   "source": [
    "histograms = HistogramsSleepPatterns(sleep_change_points=result.sleep_change_points)\n",
    "figures = histograms.plot()"
   ],
   "metadata": {
    "collapsed": false,
    "ExecuteTime": {
     "end_time": "2023-05-27T12:04:17.005359Z",
     "start_time": "2023-05-27T12:04:15.058675Z"
    }
   }
  },
  {
   "cell_type": "code",
   "execution_count": 25,
   "outputs": [],
   "source": [
    "loc_ids = [c for c in result.sleep_change_points.columns if not c.startswith('unc_')]\n",
    "traffic = result.traffic_time_series_data[loc_ids]\n",
    "daily = result.daily_component_traffic_time_series_data[loc_ids]\n",
    "sleep_cp = result.sleep_change_points\n",
    "sleep_sc = result.sleep_scores"
   ],
   "metadata": {
    "collapsed": false,
    "ExecuteTime": {
     "end_time": "2023-05-30T14:22:23.868888Z",
     "start_time": "2023-05-30T14:22:23.487883Z"
    }
   }
  },
  {
   "cell_type": "code",
   "execution_count": 28,
   "outputs": [],
   "source": [
    "base = '/Users/anmusso/Desktop/PhD/NetMob/SleepDetection'\n",
    "traffic.to_csv(f'{base}/Temp/DataVizConsulting/traffic_data.csv')\n",
    "daily.to_csv(f'{base}/Temp/DataVizConsulting/daily_component_traffic.csv')\n",
    "sleep_cp.to_csv(f'{base}/Temp/DataVizConsulting/sleep_change_points.csv')\n",
    "sleep_sc.to_csv(f'{base}/Temp/DataVizConsulting/sleep_score.csv')"
   ],
   "metadata": {
    "collapsed": false,
    "ExecuteTime": {
     "end_time": "2023-05-30T14:33:10.261545Z",
     "start_time": "2023-05-30T14:33:09.737243Z"
    }
   }
  },
  {
   "cell_type": "code",
   "execution_count": null,
   "outputs": [],
   "source": [],
   "metadata": {
    "collapsed": false
   }
  }
 ],
 "metadata": {
  "kernelspec": {
   "display_name": "netmob_env",
   "language": "python",
   "name": "python3"
  },
  "language_info": {
   "codemirror_mode": {
    "name": "ipython",
    "version": 3
   },
   "file_extension": ".py",
   "mimetype": "text/x-python",
   "name": "python",
   "nbconvert_exporter": "python",
   "pygments_lexer": "ipython3",
   "version": "3.10.4"
  },
  "vscode": {
   "interpreter": {
    "hash": "12446bc72b2d39f7c5ae547dd2a2f3fa5f964107a3a30e469371d9d3694576e5"
   }
  }
 },
 "nbformat": 4,
 "nbformat_minor": 0
}
