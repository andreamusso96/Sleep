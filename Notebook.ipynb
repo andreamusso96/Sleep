{
 "cells": [
  {
   "cell_type": "code",
   "execution_count": 1,
   "outputs": [],
   "source": [
    "from datetime import time\n",
    "\n",
    "import pandas as pd\n",
    "import numpy as np\n",
    "import plotly.graph_objects as go\n",
    "import plotly.express as px\n",
    "from jupyter_dash import JupyterDash\n",
    "from dash import dcc, html\n",
    "import dash_mantine_components as dmc\n",
    "\n",
    "from Utils import City, AggregationLevel, TrafficType\n",
    "from DataPreprocessing.WeatherData.Data import WeatherData\n",
    "from DataPreprocessing.TrafficData.Data import CityTrafficData\n",
    "from DataPreprocessing.GeoData.GeoData import IrisGeoData\n",
    "from ExpectedBedTime.ExpectedBedTimeAPI import ExpectedBedTimeAPI\n",
    "from DataPreprocessing.AdminData.AdminDataComplete import AdminData\n",
    "from ExpectedBedTime.Plots import StartBedTimeRobustness\n",
    "from FeatureSelection.BasicFeatureImportanceCalculator import BasicFeatureImportanceCalculator\n",
    "from FeatureSelection.RegressionConstructor import Regression, FeatureConstructor\n",
    "from DataPreprocessing.GeoData.GeoDataComplete import GeoData, GeoDataType"
   ],
   "metadata": {
    "collapsed": false,
    "ExecuteTime": {
     "end_time": "2023-06-16T08:15:19.010809Z",
     "start_time": "2023-06-16T08:15:07.057042Z"
    }
   }
  },
  {
   "cell_type": "code",
   "execution_count": 2,
   "outputs": [],
   "source": [
    "%load_ext autoreload\n",
    "%autoreload 2"
   ],
   "metadata": {
    "collapsed": false,
    "ExecuteTime": {
     "end_time": "2023-06-16T08:15:25.901763Z",
     "start_time": "2023-06-16T08:15:25.765343Z"
    }
   }
  },
  {
   "cell_type": "code",
   "execution_count": 3,
   "outputs": [],
   "source": [
    "admin_data = AdminData()"
   ],
   "metadata": {
    "collapsed": false,
    "ExecuteTime": {
     "end_time": "2023-06-16T08:15:34.517099Z",
     "start_time": "2023-06-16T08:15:25.934324Z"
    }
   }
  },
  {
   "cell_type": "code",
   "execution_count": 181,
   "outputs": [],
   "source": [
    "geo_data = GeoData()\n",
    "geo_data.load(GeoDataType.IRIS)"
   ],
   "metadata": {
    "collapsed": false,
    "ExecuteTime": {
     "end_time": "2023-06-16T11:53:48.532834Z",
     "start_time": "2023-06-16T11:52:59.110678Z"
    }
   }
  },
  {
   "cell_type": "code",
   "execution_count": 9,
   "outputs": [],
   "source": [
    "traffic_data = (CityTrafficData(city=city, geo_data_type=GeoDataType.IRIS, traffic_type=TrafficType.USERS) for city in City)"
   ],
   "metadata": {
    "collapsed": false,
    "ExecuteTime": {
     "end_time": "2023-06-16T08:17:55.015299Z",
     "start_time": "2023-06-16T08:17:54.946423Z"
    }
   }
  },
  {
   "cell_type": "code",
   "execution_count": 10,
   "outputs": [
    {
     "name": "stderr",
     "output_type": "stream",
     "text": [
      "100%|██████████| 77/77 [00:19<00:00,  3.88it/s]\n",
      "100%|██████████| 77/77 [00:15<00:00,  4.82it/s]\n",
      "100%|██████████| 77/77 [00:15<00:00,  4.89it/s]\n",
      "100%|██████████| 77/77 [00:16<00:00,  4.69it/s]\n",
      "100%|██████████| 77/77 [00:22<00:00,  3.44it/s]\n",
      "100%|██████████| 77/77 [00:23<00:00,  3.33it/s]\n",
      "100%|██████████| 77/77 [00:15<00:00,  5.11it/s]\n",
      "100%|██████████| 77/77 [00:19<00:00,  3.91it/s]\n",
      "100%|██████████| 77/77 [00:15<00:00,  4.83it/s]\n",
      "100%|██████████| 77/77 [00:17<00:00,  4.50it/s]\n",
      "100%|██████████| 77/77 [00:14<00:00,  5.25it/s]\n",
      "100%|██████████| 77/77 [00:17<00:00,  4.32it/s]\n",
      "100%|██████████| 77/77 [00:16<00:00,  4.67it/s]\n",
      "100%|██████████| 77/77 [00:15<00:00,  4.93it/s]\n",
      "100%|██████████| 77/77 [01:07<00:00,  1.13it/s]\n",
      "100%|██████████| 77/77 [00:17<00:00,  4.39it/s]\n",
      "100%|██████████| 77/77 [00:15<00:00,  4.86it/s]\n",
      "100%|██████████| 77/77 [00:15<00:00,  4.85it/s]\n",
      "100%|██████████| 77/77 [00:17<00:00,  4.45it/s]\n",
      "100%|██████████| 77/77 [00:15<00:00,  5.06it/s]\n"
     ]
    }
   ],
   "source": [
    "expected_bed_time = ExpectedBedTimeAPI.compute_expected_bed_time(traffic_data=traffic_data)"
   ],
   "metadata": {
    "collapsed": false,
    "ExecuteTime": {
     "end_time": "2023-06-16T08:26:56.277704Z",
     "start_time": "2023-06-16T08:17:55.844214Z"
    }
   }
  },
  {
   "cell_type": "markdown",
   "source": [
    "# EXPLORATORY DATA ANALYSIS"
   ],
   "metadata": {
    "collapsed": false
   }
  },
  {
   "cell_type": "code",
   "execution_count": 400,
   "outputs": [],
   "source": [
    "iris_subset = expected_bed_time.data.index"
   ],
   "metadata": {
    "collapsed": false,
    "ExecuteTime": {
     "end_time": "2023-06-16T14:18:53.983590Z",
     "start_time": "2023-06-16T14:18:53.590655Z"
    }
   }
  },
  {
   "cell_type": "code",
   "execution_count": 401,
   "outputs": [],
   "source": [
    "feature_constructor = FeatureConstructor(admin_data=admin_data, geo_data=geo_data)"
   ],
   "metadata": {
    "collapsed": false,
    "ExecuteTime": {
     "end_time": "2023-06-16T14:18:54.055982Z",
     "start_time": "2023-06-16T14:18:53.983354Z"
    }
   }
  },
  {
   "cell_type": "markdown",
   "source": [
    "## Variables considered"
   ],
   "metadata": {
    "collapsed": false
   }
  },
  {
   "cell_type": "code",
   "execution_count": 402,
   "outputs": [],
   "source": [
    "iris_centrality = feature_constructor.iris_centrality(iris=iris_subset)"
   ],
   "metadata": {
    "collapsed": false,
    "ExecuteTime": {
     "end_time": "2023-06-16T14:19:00.110139Z",
     "start_time": "2023-06-16T14:18:54.569089Z"
    }
   }
  },
  {
   "cell_type": "code",
   "execution_count": 403,
   "outputs": [],
   "source": [
    "iris_density_of_city = feature_constructor.iris_density_of_city(iris=iris_subset).rename(columns={'density': 'density_of_city'})"
   ],
   "metadata": {
    "collapsed": false,
    "ExecuteTime": {
     "end_time": "2023-06-16T14:19:00.886580Z",
     "start_time": "2023-06-16T14:19:00.112045Z"
    }
   }
  },
  {
   "cell_type": "code",
   "execution_count": 404,
   "outputs": [],
   "source": [
    "iris_pop_density = feature_constructor.iris_density(iris=iris_subset, var_names=['P19_POP']).rename(columns={'P19_POP': 'POP_DEN'})"
   ],
   "metadata": {
    "collapsed": false,
    "ExecuteTime": {
     "end_time": "2023-06-16T14:19:01.523627Z",
     "start_time": "2023-06-16T14:19:00.887518Z"
    }
   }
  },
  {
   "cell_type": "code",
   "execution_count": 405,
   "outputs": [],
   "source": [
    "iris_business_density = feature_constructor.iris_business_density(iris=iris_subset)"
   ],
   "metadata": {
    "collapsed": false,
    "ExecuteTime": {
     "end_time": "2023-06-16T14:19:02.141458Z",
     "start_time": "2023-06-16T14:19:01.527120Z"
    }
   }
  },
  {
   "cell_type": "code",
   "execution_count": 406,
   "outputs": [],
   "source": [
    "age_shares = feature_constructor.iris_shares(iris=iris_subset, var_names=['P19_POP1529', 'P19_POP3044', 'P19_POP4559', 'P19_POP6074', 'P19_POP75P'])"
   ],
   "metadata": {
    "collapsed": false,
    "ExecuteTime": {
     "end_time": "2023-06-16T14:19:02.385584Z",
     "start_time": "2023-06-16T14:19:02.142197Z"
    }
   }
  },
  {
   "cell_type": "code",
   "execution_count": 407,
   "outputs": [],
   "source": [
    "lonely_shares = feature_constructor.iris_shares(iris=iris_subset, var_names=['P19_POP15P_PSEUL'])"
   ],
   "metadata": {
    "collapsed": false,
    "ExecuteTime": {
     "end_time": "2023-06-16T14:19:02.608568Z",
     "start_time": "2023-06-16T14:19:02.386986Z"
    }
   }
  },
  {
   "cell_type": "code",
   "execution_count": 408,
   "outputs": [],
   "source": [
    "income = admin_data.get_admin_data(subset=iris_subset)[['DEC_MED19', 'DEC_GI19']]"
   ],
   "metadata": {
    "collapsed": false,
    "ExecuteTime": {
     "end_time": "2023-06-16T14:19:02.880276Z",
     "start_time": "2023-06-16T14:19:02.609331Z"
    }
   }
  },
  {
   "cell_type": "code",
   "execution_count": 409,
   "outputs": [],
   "source": [
    "shares_of_workers_with_far_work = feature_constructor.iris_shares(iris=iris_subset, var_names=['P19_ACTOCC15P_ILT2P'])"
   ],
   "metadata": {
    "collapsed": false,
    "ExecuteTime": {
     "end_time": "2023-06-16T14:19:03.080391Z",
     "start_time": "2023-06-16T14:19:02.879450Z"
    }
   }
  },
  {
   "cell_type": "code",
   "execution_count": 410,
   "outputs": [],
   "source": [
    "education = feature_constructor.iris_shares(iris=iris_subset, var_names=['P19_ACT_DIPLMIN','P19_ACT_BAC', 'P19_ACT_SUP2'])"
   ],
   "metadata": {
    "collapsed": false,
    "ExecuteTime": {
     "end_time": "2023-06-16T14:19:03.287967Z",
     "start_time": "2023-06-16T14:19:03.081284Z"
    }
   }
  },
  {
   "cell_type": "code",
   "execution_count": 411,
   "outputs": [],
   "source": [
    "unemployment = feature_constructor.iris_shares(iris=iris_subset, var_names=['P19_CHOM1524', 'P19_CHOM2554', 'P19_CHOM5564'])"
   ],
   "metadata": {
    "collapsed": false,
    "ExecuteTime": {
     "end_time": "2023-06-16T14:19:03.506027Z",
     "start_time": "2023-06-16T14:19:03.293016Z"
    }
   }
  },
  {
   "cell_type": "code",
   "execution_count": 412,
   "outputs": [],
   "source": [
    "retirees = feature_constructor.iris_shares(iris=iris_subset, var_names=['P19_RETR1564'])"
   ],
   "metadata": {
    "collapsed": false,
    "ExecuteTime": {
     "end_time": "2023-06-16T14:19:03.713346Z",
     "start_time": "2023-06-16T14:19:03.507262Z"
    }
   }
  },
  {
   "cell_type": "code",
   "execution_count": 413,
   "outputs": [],
   "source": [
    "nationality = feature_constructor.iris_shares(iris=iris_subset, var_names=['P19_POP_ETR'])"
   ],
   "metadata": {
    "collapsed": false,
    "ExecuteTime": {
     "end_time": "2023-06-16T14:19:03.924521Z",
     "start_time": "2023-06-16T14:19:03.714604Z"
    }
   }
  },
  {
   "cell_type": "code",
   "execution_count": 414,
   "outputs": [],
   "source": [
    "house_sizes = feature_constructor.iris_shares(iris=iris_subset, var_names=['P19_RP_M30M2', 'P19_RP_3040M2', 'P19_RP_4060M2', 'P19_RP_6080M2', 'P19_RP_80100M2', 'P19_RP_100120M2', 'P19_RP_120M2P'])"
   ],
   "metadata": {
    "collapsed": false,
    "ExecuteTime": {
     "end_time": "2023-06-16T14:19:04.133032Z",
     "start_time": "2023-06-16T14:19:03.924977Z"
    }
   }
  },
  {
   "cell_type": "code",
   "execution_count": 415,
   "outputs": [],
   "source": [
    "men = feature_constructor.iris_shares(iris=iris_subset, var_names=['P19_POPH'])"
   ],
   "metadata": {
    "collapsed": false,
    "ExecuteTime": {
     "end_time": "2023-06-16T14:19:04.339878Z",
     "start_time": "2023-06-16T14:19:04.134216Z"
    }
   }
  },
  {
   "cell_type": "code",
   "execution_count": 416,
   "outputs": [],
   "source": [
    "families = feature_constructor.iris_shares(iris=iris_subset, var_names=['P19_POP15P_MARIEE', 'C19_FAM'])"
   ],
   "metadata": {
    "collapsed": false,
    "ExecuteTime": {
     "end_time": "2023-06-16T14:19:04.544683Z",
     "start_time": "2023-06-16T14:19:04.341509Z"
    }
   }
  },
  {
   "cell_type": "code",
   "execution_count": 417,
   "outputs": [],
   "source": [
    "# services = feature_constructor.iris_shares(iris=iris_subset, var_names=['EQUIP_E107', 'EQUIP_E108', 'EQUIP_E109', 'EQUIP_A504'])"
   ],
   "metadata": {
    "collapsed": false,
    "ExecuteTime": {
     "end_time": "2023-06-16T14:19:04.620948Z",
     "start_time": "2023-06-16T14:19:04.545606Z"
    }
   }
  },
  {
   "cell_type": "code",
   "execution_count": 418,
   "outputs": [],
   "source": [
    "displacement_to_work = feature_constructor.iris_shares(iris=iris_subset, var_names=['C19_ACTOCC15P_MAR', 'C19_ACTOCC15P_TCOM', 'C19_ACTOCC15P_PAS', 'C19_ACTOCC15P_VELO', 'C19_ACTOCC15P_VOIT'])"
   ],
   "metadata": {
    "collapsed": false,
    "ExecuteTime": {
     "end_time": "2023-06-16T14:19:04.832379Z",
     "start_time": "2023-06-16T14:19:04.622061Z"
    }
   }
  },
  {
   "cell_type": "code",
   "execution_count": 419,
   "outputs": [],
   "source": [
    "ebt = expected_bed_time.data['mean_float'].to_frame(name='expected_bed_time')"
   ],
   "metadata": {
    "collapsed": false,
    "ExecuteTime": {
     "end_time": "2023-06-16T14:19:04.915120Z",
     "start_time": "2023-06-16T14:19:04.834393Z"
    }
   }
  },
  {
   "cell_type": "markdown",
   "source": [
    "## Merge variables"
   ],
   "metadata": {
    "collapsed": false
   }
  },
  {
   "cell_type": "code",
   "execution_count": 420,
   "outputs": [
    {
     "data": {
      "text/plain": "((5758, 37),\n array(['POP_DEN', 'expected_bed_time', 'density_of_city', 'centrality',\n        'DEC_MED19', 'DEC_GI19', 'business_density', 'P19_POP1529',\n        'P19_POP3044', 'P19_POP4559', 'P19_POP6074', 'P19_POP75P',\n        'P19_POP15P_PSEUL', 'P19_ACTOCC15P_ILT2P', 'P19_ACT_DIPLMIN',\n        'P19_ACT_BAC', 'P19_ACT_SUP2', 'P19_CHOM1524', 'P19_CHOM2554',\n        'P19_CHOM5564', 'P19_RETR1564', 'P19_POP_ETR', 'P19_RP_M30M2',\n        'P19_RP_3040M2', 'P19_RP_4060M2', 'P19_RP_6080M2',\n        'P19_RP_80100M2', 'P19_RP_100120M2', 'P19_RP_120M2P', 'P19_POPH',\n        'P19_POP15P_MARIEE', 'C19_FAM', 'C19_ACTOCC15P_MAR',\n        'C19_ACTOCC15P_TCOM', 'C19_ACTOCC15P_PAS', 'C19_ACTOCC15P_VELO',\n        'C19_ACTOCC15P_VOIT'], dtype=object))"
     },
     "execution_count": 420,
     "metadata": {},
     "output_type": "execute_result"
    }
   ],
   "source": [
    "data = pd.merge(iris_pop_density, ebt, left_index=True, right_index=True, how='inner')\n",
    "data = pd.merge(data, iris_density_of_city, left_index=True, right_index=True, how='inner')\n",
    "data = pd.merge(data, iris_centrality, left_index=True, right_index=True, how='inner')\n",
    "data = pd.merge(data, income, left_index=True, right_index=True, how='inner')\n",
    "data = pd.merge(data, iris_business_density + np.quantile(iris_business_density, 0.1), left_index=True, right_index=True, how='inner')\n",
    "data = np.log(data)\n",
    "data = pd.merge(data, age_shares, left_index=True, right_index=True, how='inner')\n",
    "data = pd.merge(data, lonely_shares, left_index=True, right_index=True, how='inner')\n",
    "data = pd.merge(data, shares_of_workers_with_far_work, left_index=True, right_index=True, how='inner')\n",
    "data = pd.merge(data, education, left_index=True, right_index=True, how='inner')\n",
    "data = pd.merge(data, unemployment, left_index=True, right_index=True, how='inner')\n",
    "data = pd.merge(data, retirees, left_index=True, right_index=True, how='inner')\n",
    "data = pd.merge(data, nationality, left_index=True, right_index=True, how='inner')\n",
    "data = pd.merge(data, house_sizes, left_index=True, right_index=True, how='inner')\n",
    "data = pd.merge(data, men, left_index=True, right_index=True, how='inner')\n",
    "data = pd.merge(data, families, left_index=True, right_index=True, how='inner')\n",
    "data = pd.merge(data, displacement_to_work, left_index=True, right_index=True, how='inner')\n",
    "data.dropna(inplace=True)\n",
    "data.shape, np.array(data.columns)"
   ],
   "metadata": {
    "collapsed": false,
    "ExecuteTime": {
     "end_time": "2023-06-16T14:19:05.052722Z",
     "start_time": "2023-06-16T14:19:04.915355Z"
    }
   }
  },
  {
   "cell_type": "markdown",
   "source": [
    "## Run analysis and plot"
   ],
   "metadata": {
    "collapsed": false
   }
  },
  {
   "cell_type": "code",
   "execution_count": 421,
   "outputs": [],
   "source": [
    "x_axis = 'POP_DEN'\n",
    "features = data[[c for c in data.columns if c not in ['expected_bed_time', 'density_of_city']]]\n",
    "labels = data['expected_bed_time'].to_frame()\n",
    "regression = Regression(features=features, labels=labels)\n",
    "regression.plot(x_axis=x_axis)"
   ],
   "metadata": {
    "collapsed": false,
    "ExecuteTime": {
     "end_time": "2023-06-16T14:19:06.027811Z",
     "start_time": "2023-06-16T14:19:05.047633Z"
    }
   }
  },
  {
   "cell_type": "code",
   "execution_count": null,
   "outputs": [],
   "source": [],
   "metadata": {
    "collapsed": false
   }
  }
 ],
 "metadata": {
  "kernelspec": {
   "display_name": "netmob_env",
   "language": "python",
   "name": "python3"
  },
  "language_info": {
   "codemirror_mode": {
    "name": "ipython",
    "version": 3
   },
   "file_extension": ".py",
   "mimetype": "text/x-python",
   "name": "python",
   "nbconvert_exporter": "python",
   "pygments_lexer": "ipython3",
   "version": "3.10.4"
  },
  "vscode": {
   "interpreter": {
    "hash": "12446bc72b2d39f7c5ae547dd2a2f3fa5f964107a3a30e469371d9d3694576e5"
   }
  }
 },
 "nbformat": 4,
 "nbformat_minor": 0
}
