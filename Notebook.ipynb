{
 "cells": [
  {
   "cell_type": "code",
   "execution_count": 1213,
   "outputs": [],
   "source": [
    "from datetime import time, date\n",
    "\n",
    "import pandas as pd\n",
    "import numpy as np\n",
    "\n",
    "from DataInterface.TrafficDataInterface import CityTrafficData, TrafficType, Service, ServiceType\n",
    "from DataInterface.GeoDataInterface import GeoData, GeoDataType\n",
    "from DataInterface.AdminDataInterface import AdminData\n",
    "from DataInterface.ElectionDataInterface import ElectionData\n",
    "from DataInterface.WeatherDataInterface import WeatherData\n",
    "from Utils import City\n",
    "from FeatureExtraction.SessionDistribution.SessionDistributionCalculator import SessionDistributionCalculator\n",
    "from FeatureExtraction.SessionDistribution.SessionDistributionAPI import SessionDistributionAPI\n",
    "from FeatureExtraction.IrisFeatureCalculator import IrisFeatureCalculator\n",
    "from FeatureExtraction.ServiceConsumptionFeatureCalculator import ServiceConsumptionFeatureCalculator, ServiceConsumptionFeatureName\n",
    "from FeatureExtraction.ElectionFeatureCalculator import ElectionFeatureCalculator, ElectionFeatureName, Party\n",
    "from FeatureSelection.Regression import Regression"
   ],
   "metadata": {
    "collapsed": false,
    "ExecuteTime": {
     "end_time": "2023-06-22T17:49:59.121479Z",
     "start_time": "2023-06-22T17:49:52.246408Z"
    }
   }
  },
  {
   "cell_type": "code",
   "execution_count": 1137,
   "outputs": [],
   "source": [
    "%reload_ext autoreload"
   ],
   "metadata": {
    "collapsed": false,
    "ExecuteTime": {
     "end_time": "2023-06-22T17:16:51.574573Z",
     "start_time": "2023-06-22T17:16:51.315695Z"
    }
   }
  },
  {
   "cell_type": "code",
   "execution_count": 1133,
   "outputs": [
    {
     "name": "stdout",
     "output_type": "stream",
     "text": [
      "The autoreload extension is already loaded. To reload it, use:\n",
      "  %reload_ext autoreload\n"
     ]
    }
   ],
   "source": [
    "%load_ext autoreload\n",
    "%autoreload 2"
   ],
   "metadata": {
    "collapsed": false,
    "ExecuteTime": {
     "end_time": "2023-06-22T17:16:06.882579Z",
     "start_time": "2023-06-22T17:16:06.728440Z"
    }
   }
  },
  {
   "cell_type": "markdown",
   "source": [
    "# DATA"
   ],
   "metadata": {
    "collapsed": false
   }
  },
  {
   "cell_type": "code",
   "execution_count": null,
   "outputs": [],
   "source": [
    "traffic_data = CityTrafficData(city=City.PARIS, geo_data_type=GeoDataType.IRIS, traffic_type=TrafficType.USERS)"
   ],
   "metadata": {
    "collapsed": false,
    "ExecuteTime": {
     "start_time": "2023-06-21T14:33:28.612876Z"
    }
   }
  },
  {
   "cell_type": "code",
   "execution_count": null,
   "outputs": [],
   "source": [
    "geo_data = GeoData()\n",
    "geo_data.load(GeoDataType.IRIS)"
   ],
   "metadata": {
    "collapsed": false
   }
  },
  {
   "cell_type": "code",
   "execution_count": 1256,
   "outputs": [
    {
     "name": "stdout",
     "output_type": "stream",
     "text": [
      "POLYGON ((-4.324100574995778 48.093670892726045, -4.32439823513085 48.09361890463018, -4.32467807255901 48.093584293845396, -4.324908237740245 48.09357085299868, -4.3252699388462705 48.09354288731585, -4.325630395203716 48.093505960655826, -4.325805568826776 48.093485100730874, -4.325857355753608 48.09347916151795, -4.32593113253043 48.093466429133755, -4.326008921595405 48.09345344660087, -4.326303062608914 48.09336642685216, -4.326541342307396 48.09330457847347, -4.326640685964951 48.09330109674723, -4.327054109688786 48.09328616845357, -4.327714306879246 48.09328025414571, -4.328028820931557 48.093252510567815, -4.32827098885233 48.09322837341947, -4.328439971292872 48.09321151047739, -4.328657599072175 48.093195228925445, -4.3288236574441274 48.093176740260645, -4.328910650911562 48.093152336812246, -4.3295094503240135 48.09285019691452, -4.329893988169891 48.09266625148955, -4.3301006885513615 48.092581060010716, -4.330214705563935 48.09252785759022, -4.3303790736145436 48.09243897960388, -4.330423019065 48.092415452403195, -4.330520986518269 48.09236325069112, -4.330651360450964 48.09229185631476, -4.330859921138954 48.09218124230235, -4.331142964227394 48.09201446800338, -4.331315066826932 48.091874496016445, -4.3313892356205805 48.09179666552837, -4.331440544055599 48.09171935730692, -4.3314857827613835 48.09160808518826, -4.3315074465070245 48.09150189871282, -4.3315532914903665 48.091278523655426, -4.331542365188611 48.09120961649035, -4.33151432925411 48.091114664167314, -4.331473791417513 48.09102681800245, -4.3314075297586205 48.090918886542156, -4.331320460719797 48.090806830563785, -4.330932164657448 48.09039092634383, -4.331414565828769 48.090280399593645, -4.331908844052405 48.09015828473119, -4.332490263836597 48.090022596864266, -4.3327283669821695 48.09035749276836, -4.335773183106074 48.09453983535597, -4.335419546858142 48.094616132464736, -4.3353371561905 48.09463483094597, -4.334951826568171 48.094725757133865, -4.334975501791587 48.0947504884049, -4.335337715080982 48.095967830428634, -4.335530595429078 48.0966950614358, -4.33552725572794 48.096787452518384, -4.335507516985057 48.09684923577337, -4.335492131357619 48.09690351732904, -4.335420985296082 48.097012792709705, -4.335299170993403 48.09713607517754, -4.3352774632008435 48.09715460119594, -4.335003534883116 48.0973967301839, -4.334970071459364 48.09742773850312, -4.334639373942563 48.09767883159776, -4.3345207477162475 48.097737747821405, -4.3343925678490915 48.09777647381336, -4.334144009313463 48.09782271108654, -4.333964562819704 48.09784204176609, -4.333474957357756 48.09785270782974, -4.333378182230237 48.09782621084599, -4.333303614262591 48.09778477204358, -4.333156983341134 48.09761317068795, -4.3331568522368435 48.097573413937155, -4.333157684945145 48.09753088580794, -4.333189936538444 48.09750085743043, -4.33319991557284 48.09746589239312, -4.333145031131781 48.097197288315634, -4.3331178086166435 48.097166451776715, -4.332724682337121 48.097075298435584, -4.3326090264677966 48.09703913384567, -4.332555893203199 48.09700629866354, -4.332473648979926 48.09699696949314, -4.332314890287875 48.09701952594721, -4.332258064861302 48.09704747207471, -4.332197318766347 48.09706662527313, -4.3319568844445735 48.09714217490393, -4.331626304415077 48.097209790850314, -4.331593488961891 48.09721635651204, -4.331487640107035 48.097241033910485, -4.331303397183063 48.09720643499059, -4.331250259431134 48.097134738437674, -4.331189286028518 48.097084316776126, -4.3310190592634354 48.0969467198628, -4.330908730530897 48.09671591593165, -4.330854510196322 48.09668495535689, -4.330737800326517 48.096660603497035, -4.330584046034367 48.096651214398825, -4.330370633972718 48.09665910198522, -4.330135171093101 48.096692765516735, -4.330108079402741 48.09670168505058, -4.329998503760249 48.09677720331201, -4.3299924709372055 48.09679203946921, -4.330000684936616 48.09681231336153, -4.330034279639384 48.09682106321554, -4.330105509552835 48.09680939105263, -4.330139726874921 48.09682262077654, -4.330151736665547 48.09685079164891, -4.330141008606605 48.09688038056291, -4.330028504323506 48.09691541292037, -4.329995540570292 48.096988864547825, -4.32997021994877 48.09698140617061, -4.329987534998271 48.09688272184105, -4.329970331898803 48.096865719775145, -4.32991369010057 48.09687557834902, -4.329870331141997 48.09689364599824, -4.329691773771387 48.09707468520618, -4.3296636896681635 48.097115297580906, -4.329660616876977 48.097180558838204, -4.329642578257701 48.09720608484265, -4.329591567287451 48.09722734077689, -4.329570544223048 48.09727022402624, -4.329533374440478 48.09728429058708, -4.329374287176763 48.09746953744532, -4.329354661764503 48.09749335484554, -4.327909592374848 48.099434320606186, -4.327676591063476 48.09974798466194, -4.327625486571414 48.099817143621685, -4.327645648271757 48.09988457107748, -4.327704351532881 48.09994778836707, -4.327723053830315 48.10005326392144, -4.327687724691754 48.100187412538496, -4.3277105275499945 48.10020587331558, -4.327783444424816 48.10022572867248, -4.327802607970403 48.100247127534196, -4.327777132421028 48.10026769425621, -4.327703439336518 48.10027138454754, -4.32767790274597 48.10031093361008, -4.327636063312612 48.10031083062873, -4.327552599278769 48.100263616705845, -4.3274952992567695 48.10025905502062, -4.32735447890512 48.10030398301777, -4.327245414892831 48.100276439521345, -4.3269874710722505 48.10024552388411, -4.3268813200198455 48.09998644099488, -4.326917652696447 48.09997604259885, -4.326937402639858 48.09991426091048, -4.327010314792669 48.09985639531841, -4.327270868589882 48.099867265802196, -4.327418907791315 48.099874304791726, -4.3274966552237295 48.09954049639264, -4.327346998708166 48.0995218097424, -4.327197217821103 48.09950222692046, -4.327049207233226 48.099427405374556, -4.326598465358149 48.099348860216374, -4.3266578346655375 48.09904782899202, -4.327200231309093 48.09831000431596, -4.323728907059019 48.09795066607362, -4.323656803306271 48.09795606247161, -4.322888503834986 48.097242080413075, -4.322495902607899 48.09684359059305, -4.321929599520246 48.09682645279842, -4.3215511081272755 48.09685997123357, -4.320663039933755 48.09701289016027, -4.32050095170287 48.09654490942928, -4.320500332686563 48.0965015686756, -4.321897568755712 48.09665402690805, -4.321932412694449 48.0965162957578, -4.322425022858446 48.09657598134449, -4.322478252226801 48.09632775226714, -4.323011132889366 48.0967843787788, -4.32328908954357 48.09680411394715, -4.323384458336982 48.09681082417823, -4.3236786210387255 48.09684039355867, -4.323729104963124 48.096844477830075, -4.324353327069311 48.09690951095303, -4.324385956205167 48.09672672975024, -4.3243870755754195 48.096540489628495, -4.324382254053075 48.09643776375697, -4.324388817137926 48.09639759022124, -4.324397930251623 48.09612318914266, -4.324445365256427 48.096124751848045, -4.324568665120606 48.09611887559303, -4.324573361653212 48.096065262244416, -4.324576905148555 48.09564389843357, -4.324595411728338 48.09553429626782, -4.324588815149327 48.0951370614789, -4.324581660961289 48.09510497265586, -4.324211177434488 48.09508919951822, -4.324167258159412 48.09508380272893, -4.324143339010135 48.095057277318006, -4.32415273257025 48.09502777226065, -4.324190710928718 48.09500010087244, -4.32423105315791 48.09498945322974, -4.324273012792717 48.0949904534072, -4.324602749051987 48.09500424696765, -4.324607103600256 48.094996745666805, -4.3245689378335745 48.094848199415395, -4.324577894845642 48.09467954539809, -4.324497179162469 48.09453545829716, -4.32443643227585 48.09428258153385, -4.324374722232133 48.09426564118814, -4.324241193509258 48.094265828765806, -4.324196746220226 48.09420804796054, -4.324196186436483 48.09414572472179, -4.324335157952123 48.09409729971225, -4.324377210173724 48.09408925662782, -4.324157556436941 48.09373150742291, -4.324100574995778 48.093670892726045))\n"
     ]
    }
   ],
   "source": [
    "print(geo_data.geo_data[GeoDataType.IRIS.value].data.head()['geometry'].iloc[0])"
   ],
   "metadata": {
    "collapsed": false,
    "ExecuteTime": {
     "end_time": "2023-06-23T12:30:57.733392Z",
     "start_time": "2023-06-23T12:30:57.498952Z"
    }
   }
  },
  {
   "cell_type": "code",
   "execution_count": null,
   "outputs": [],
   "source": [
    "admin_data = AdminData()"
   ],
   "metadata": {
    "collapsed": false
   }
  },
  {
   "cell_type": "code",
   "execution_count": 567,
   "outputs": [],
   "source": [
    "weather_data = WeatherData()"
   ],
   "metadata": {
    "collapsed": false,
    "ExecuteTime": {
     "end_time": "2023-06-22T08:42:37.470110Z",
     "start_time": "2023-06-22T08:42:31.392222Z"
    }
   }
  },
  {
   "cell_type": "markdown",
   "source": [
    "# SLEEP DATA ANALSIS"
   ],
   "metadata": {
    "collapsed": false
   }
  },
  {
   "cell_type": "code",
   "execution_count": 392,
   "outputs": [
    {
     "name": "stderr",
     "output_type": "stream",
     "text": [
      "100%|██████████| 77/77 [00:17<00:00,  4.46it/s]\n",
      "100%|██████████| 77/77 [00:13<00:00,  5.64it/s]\n",
      "100%|██████████| 77/77 [00:14<00:00,  5.37it/s]\n",
      "100%|██████████| 77/77 [00:16<00:00,  4.78it/s]\n",
      "100%|██████████| 77/77 [00:24<00:00,  3.12it/s]\n",
      "100%|██████████| 77/77 [00:23<00:00,  3.26it/s]\n",
      "100%|██████████| 77/77 [00:15<00:00,  4.86it/s]\n",
      "100%|██████████| 77/77 [00:22<00:00,  3.39it/s]\n",
      "100%|██████████| 77/77 [00:16<00:00,  4.57it/s]\n",
      "100%|██████████| 77/77 [00:17<00:00,  4.36it/s]\n",
      "100%|██████████| 77/77 [00:17<00:00,  4.47it/s]\n",
      "100%|██████████| 77/77 [00:19<00:00,  3.88it/s]\n",
      "100%|██████████| 77/77 [00:18<00:00,  4.08it/s]\n",
      "100%|██████████| 77/77 [00:17<00:00,  4.28it/s]\n",
      "100%|██████████| 77/77 [01:24<00:00,  1.10s/it]\n",
      "100%|██████████| 77/77 [00:19<00:00,  3.90it/s]\n",
      "100%|██████████| 77/77 [00:18<00:00,  4.27it/s]\n",
      "100%|██████████| 77/77 [00:19<00:00,  4.05it/s]\n",
      "100%|██████████| 77/77 [00:22<00:00,  3.48it/s]\n",
      "100%|██████████| 77/77 [00:17<00:00,  4.46it/s]\n"
     ]
    }
   ],
   "source": [
    "session_distribution = SessionDistributionAPI.compute_session_distribution(traffic_data=(CityTrafficData(city=city, geo_data_type=GeoDataType.IRIS, traffic_type=TrafficType.USERS) for city in City))"
   ],
   "metadata": {
    "collapsed": false,
    "ExecuteTime": {
     "end_time": "2023-06-21T16:28:22.846188Z",
     "start_time": "2023-06-21T16:17:22.230167Z"
    }
   }
  },
  {
   "cell_type": "code",
   "execution_count": 393,
   "outputs": [],
   "source": [
    "session_distribution.distribution_plot()"
   ],
   "metadata": {
    "collapsed": false,
    "ExecuteTime": {
     "end_time": "2023-06-21T16:30:36.392259Z",
     "start_time": "2023-06-21T16:30:19.499309Z"
    }
   }
  },
  {
   "cell_type": "code",
   "execution_count": 394,
   "outputs": [],
   "source": [
    "session_distribution.time_change_discontinuity_plot()"
   ],
   "metadata": {
    "collapsed": false,
    "ExecuteTime": {
     "end_time": "2023-06-21T16:30:36.931390Z",
     "start_time": "2023-06-21T16:30:36.397373Z"
    }
   }
  },
  {
   "cell_type": "code",
   "execution_count": 893,
   "outputs": [],
   "source": [
    "session_expectation = session_distribution.expectation_by_location(timespan=(date(2019,4,15), None))"
   ],
   "metadata": {
    "collapsed": false,
    "ExecuteTime": {
     "end_time": "2023-06-22T13:05:58.422005Z",
     "start_time": "2023-06-22T13:05:58.339386Z"
    }
   }
  },
  {
   "cell_type": "code",
   "execution_count": 396,
   "outputs": [],
   "source": [
    "equip = admin_data.get_admin_data(coarsened_equip=False, selected_pop_vars=False)\n",
    "equip = equip[[c for c in equip.columns if c.startswith('EQUIP')]]\n",
    "session_expectation.correlation_plot(covariates=equip)"
   ],
   "metadata": {
    "collapsed": false,
    "ExecuteTime": {
     "end_time": "2023-06-21T16:39:47.968449Z",
     "start_time": "2023-06-21T16:39:45.734521Z"
    }
   }
  },
  {
   "cell_type": "code",
   "execution_count": 397,
   "outputs": [],
   "source": [
    "session_expectation.correlation_plot(covariates=admin_data.get_admin_data(coarsened_equip=False, selected_pop_vars=False))"
   ],
   "metadata": {
    "collapsed": false,
    "ExecuteTime": {
     "end_time": "2023-06-21T16:40:41.488361Z",
     "start_time": "2023-06-21T16:40:36.586595Z"
    }
   }
  },
  {
   "cell_type": "code",
   "execution_count": 533,
   "outputs": [],
   "source": [
    "session_expectation.geo_plot(geo_data=geo_data, normalize=True, remove_outliers=True)"
   ],
   "metadata": {
    "collapsed": false,
    "ExecuteTime": {
     "end_time": "2023-06-22T08:24:13.334810Z",
     "start_time": "2023-06-22T08:24:01.948940Z"
    }
   }
  },
  {
   "cell_type": "code",
   "execution_count": 534,
   "outputs": [],
   "source": [
    "session_expectation.scatter_plot(confidence_intervals=True)"
   ],
   "metadata": {
    "collapsed": false,
    "ExecuteTime": {
     "end_time": "2023-06-22T08:28:24.273193Z",
     "start_time": "2023-06-22T08:28:23.151944Z"
    }
   }
  },
  {
   "cell_type": "code",
   "execution_count": 535,
   "outputs": [],
   "source": [
    "iris_subset = session_expectation.data.index.values"
   ],
   "metadata": {
    "collapsed": false,
    "ExecuteTime": {
     "end_time": "2023-06-22T08:29:44.009930Z",
     "start_time": "2023-06-22T08:29:43.922065Z"
    }
   }
  },
  {
   "cell_type": "code",
   "execution_count": 536,
   "outputs": [],
   "source": [
    "iris_feature_constructor = IrisFeatureCalculator(admin_data=admin_data, geo_data=geo_data)"
   ],
   "metadata": {
    "collapsed": false,
    "ExecuteTime": {
     "end_time": "2023-06-22T08:29:44.299055Z",
     "start_time": "2023-06-22T08:29:44.209355Z"
    }
   }
  },
  {
   "cell_type": "code",
   "execution_count": 538,
   "outputs": [],
   "source": [
    "def log(df):\n",
    "    vals = df.values\n",
    "    log_vals = np.log(vals, out=np.zeros_like(vals), where=vals!=0)\n",
    "    return pd.DataFrame(log_vals, index=df.index, columns=df.columns)"
   ],
   "metadata": {
    "collapsed": false,
    "ExecuteTime": {
     "end_time": "2023-06-22T08:31:33.183211Z",
     "start_time": "2023-06-22T08:31:31.926674Z"
    }
   }
  },
  {
   "cell_type": "markdown",
   "source": [
    "## City level analysis"
   ],
   "metadata": {
    "collapsed": false
   }
  },
  {
   "cell_type": "code",
   "execution_count": 696,
   "outputs": [],
   "source": [
    "city_data = [['Bordeaux', 1_190_000, 51, 220],\n",
    "            ['Clermont-Ferrand', 490_000, 37, 200],\n",
    "            ['Dijon', 407_000, 46, 115],\n",
    "            ['Grenoble', 660_000, 45, 264],\n",
    "            ['Lille', 1_472_000, 60, 1218],\n",
    "            ['Lyon', 2_016_000, 50, 384],\n",
    "            ['Mans', 347_397, 40,172],\n",
    "            ['Marseille ', 1_248_000, 70, 553],\n",
    "            ['Metz', 370_000, 44, 243],\n",
    "            ['Montpellier', 686_000, 41, 350],\n",
    "            ['Nancy', 506_000, 39, 184],\n",
    "            ['Nantes', 922_000, 44, 285],\n",
    "            ['Nice', 1_013_000, 64, 392],\n",
    "            ['Orleans', 430_000, 45, 139],\n",
    "            ['Paris', 12_794_000, 79, 732],\n",
    "            ['Rennes', 672_000, 29, 195],\n",
    "            ['Saint-Etienne', 475_000, 38, 308],\n",
    "            ['Strasbourg', 805_000, 49, 358],\n",
    "            ['Toulouse', 1_391_000, 42, 250],\n",
    "            ['Tours', 508_000, 47, 155]]\n",
    "\n",
    "city_stats = pd.DataFrame(data=city_data, columns=['city', 'population', 'share_of_pop_in_city', 'density'])\n",
    "city_stats.set_index('city', inplace=True)"
   ],
   "metadata": {
    "collapsed": false,
    "ExecuteTime": {
     "end_time": "2023-06-22T09:56:10.297887Z",
     "start_time": "2023-06-22T09:56:10.193180Z"
    }
   }
  },
  {
   "cell_type": "code",
   "execution_count": 724,
   "outputs": [],
   "source": [
    "density_of_city = iris_feature_constructor.density_of_city(subset=iris_subset).data\n",
    "density_of_city['density_of_city'] = log(density_of_city['density_of_city'].to_frame())"
   ],
   "metadata": {
    "collapsed": false,
    "ExecuteTime": {
     "end_time": "2023-06-22T10:07:47.249945Z",
     "start_time": "2023-06-22T10:07:45.928151Z"
    }
   }
  },
  {
   "cell_type": "code",
   "execution_count": 727,
   "outputs": [],
   "source": [
    "data = pd.merge(session_expectation.log_data(), density_of_city, left_index=True, right_index=True, how='inner')\n",
    "data.dropna(inplace=True)\n",
    "data_grouped_by_city = data.groupby(by=['city'])[['density_of_city', 'session_expectation']].median()"
   ],
   "metadata": {
    "collapsed": false,
    "ExecuteTime": {
     "end_time": "2023-06-22T10:08:13.529843Z",
     "start_time": "2023-06-22T10:08:13.416805Z"
    }
   }
  },
  {
   "cell_type": "code",
   "execution_count": 708,
   "outputs": [],
   "source": [
    "data_grouped_by_city = data.groupby(by=['city'])[['density_of_city', 'session_expectation']].median()\n",
    "session_expectation_city = data_grouped_by_city['session_expectation'].to_frame()"
   ],
   "metadata": {
    "collapsed": false,
    "ExecuteTime": {
     "end_time": "2023-06-22T10:01:13.382382Z",
     "start_time": "2023-06-22T10:01:13.295749Z"
    }
   }
  },
  {
   "cell_type": "code",
   "execution_count": 698,
   "outputs": [],
   "source": [
    "data_city = pd.merge(session_expectation_city, city_stats, right_index=True, left_index=True, how='inner')\n",
    "data_city['effective_population'] = data_city['population'] * data_city['share_of_pop_in_city'] / 100\n",
    "data_city['population'] = log(data_city['population'].astype(float).to_frame())\n",
    "data_city['density'] = log(data_city['density'].astype(float).to_frame())\n",
    "data_city['effective_population'] = log(data_city['effective_population'].astype(float).to_frame())"
   ],
   "metadata": {
    "collapsed": false,
    "ExecuteTime": {
     "end_time": "2023-06-22T09:56:32.463983Z",
     "start_time": "2023-06-22T09:56:32.382087Z"
    }
   }
  },
  {
   "cell_type": "code",
   "execution_count": 671,
   "outputs": [
    {
     "data": {
      "text/plain": "                   sunrise     sunset\ncity                                 \nBordeaux          7.016667  20.433333\nClermont-Ferrand  6.750000  20.216667\nDijon             6.583333  20.116667\nGrenoble          6.583333  20.016667\nLille             6.616667  20.350000\nLyon              6.633333  20.100000\nMans              6.916667  19.866667\nMarseille         6.650000  20.000000\nMetz              6.450000  20.100000\nMontpellier       6.750000  20.116667\nNancy             6.466667  20.083333\nNantes            7.016667  20.566667\nNice              6.516667  19.883333\nOrleans           6.766667  20.350000\nParis             6.716667  20.350000\nRennes            7.000000  20.600000\nSaint-Etienne     6.666667  20.116667\nStrasbourg        6.366667  19.983333\nToulouse          6.916667  20.266667\nTours             6.866667  20.416667",
      "text/html": "<div>\n<style scoped>\n    .dataframe tbody tr th:only-of-type {\n        vertical-align: middle;\n    }\n\n    .dataframe tbody tr th {\n        vertical-align: top;\n    }\n\n    .dataframe thead th {\n        text-align: right;\n    }\n</style>\n<table border=\"1\" class=\"dataframe\">\n  <thead>\n    <tr style=\"text-align: right;\">\n      <th></th>\n      <th>sunrise</th>\n      <th>sunset</th>\n    </tr>\n    <tr>\n      <th>city</th>\n      <th></th>\n      <th></th>\n    </tr>\n  </thead>\n  <tbody>\n    <tr>\n      <th>Bordeaux</th>\n      <td>7.016667</td>\n      <td>20.433333</td>\n    </tr>\n    <tr>\n      <th>Clermont-Ferrand</th>\n      <td>6.750000</td>\n      <td>20.216667</td>\n    </tr>\n    <tr>\n      <th>Dijon</th>\n      <td>6.583333</td>\n      <td>20.116667</td>\n    </tr>\n    <tr>\n      <th>Grenoble</th>\n      <td>6.583333</td>\n      <td>20.016667</td>\n    </tr>\n    <tr>\n      <th>Lille</th>\n      <td>6.616667</td>\n      <td>20.350000</td>\n    </tr>\n    <tr>\n      <th>Lyon</th>\n      <td>6.633333</td>\n      <td>20.100000</td>\n    </tr>\n    <tr>\n      <th>Mans</th>\n      <td>6.916667</td>\n      <td>19.866667</td>\n    </tr>\n    <tr>\n      <th>Marseille</th>\n      <td>6.650000</td>\n      <td>20.000000</td>\n    </tr>\n    <tr>\n      <th>Metz</th>\n      <td>6.450000</td>\n      <td>20.100000</td>\n    </tr>\n    <tr>\n      <th>Montpellier</th>\n      <td>6.750000</td>\n      <td>20.116667</td>\n    </tr>\n    <tr>\n      <th>Nancy</th>\n      <td>6.466667</td>\n      <td>20.083333</td>\n    </tr>\n    <tr>\n      <th>Nantes</th>\n      <td>7.016667</td>\n      <td>20.566667</td>\n    </tr>\n    <tr>\n      <th>Nice</th>\n      <td>6.516667</td>\n      <td>19.883333</td>\n    </tr>\n    <tr>\n      <th>Orleans</th>\n      <td>6.766667</td>\n      <td>20.350000</td>\n    </tr>\n    <tr>\n      <th>Paris</th>\n      <td>6.716667</td>\n      <td>20.350000</td>\n    </tr>\n    <tr>\n      <th>Rennes</th>\n      <td>7.000000</td>\n      <td>20.600000</td>\n    </tr>\n    <tr>\n      <th>Saint-Etienne</th>\n      <td>6.666667</td>\n      <td>20.116667</td>\n    </tr>\n    <tr>\n      <th>Strasbourg</th>\n      <td>6.366667</td>\n      <td>19.983333</td>\n    </tr>\n    <tr>\n      <th>Toulouse</th>\n      <td>6.916667</td>\n      <td>20.266667</td>\n    </tr>\n    <tr>\n      <th>Tours</th>\n      <td>6.866667</td>\n      <td>20.416667</td>\n    </tr>\n  </tbody>\n</table>\n</div>"
     },
     "execution_count": 671,
     "metadata": {},
     "output_type": "execute_result"
    }
   ],
   "source": [
    "sunrise_sunset_times = weather_data.get_sunrise_sunset_data(geo_data=geo_data, city=[c for c in City], aggregate=True)\n",
    "sunrise_sunset_times['sunrise'] = weather_data.map_times_to_clockwise_distance_from_mid_night(times=sunrise_sunset_times['sunrise'])\n",
    "sunrise_sunset_times['sunset'] = weather_data.map_times_to_clockwise_distance_from_mid_night(times=sunrise_sunset_times['sunset'])\n",
    "sunrise_sunset_times"
   ],
   "metadata": {
    "collapsed": false,
    "ExecuteTime": {
     "end_time": "2023-06-22T09:29:33.402021Z",
     "start_time": "2023-06-22T09:29:33.267141Z"
    }
   }
  },
  {
   "cell_type": "code",
   "execution_count": 721,
   "outputs": [
    {
     "data": {
      "text/plain": "                  density_of_city  session_expectation   sunrise     sunset\ncity                                                                       \nBordeaux                -5.506718             2.136614  7.016667  20.433333\nClermont-Ferrand        -5.447219             2.099815  6.750000  20.216667\nDijon                   -5.139118             2.107249  6.583333  20.116667\nGrenoble                -5.000363             2.124896  6.583333  20.016667\nLille                   -5.161260             2.137714  6.616667  20.350000\nLyon                    -4.719418             2.126413  6.633333  20.100000\nMans                    -5.389741             2.148895  6.916667  19.866667\nMarseille               -4.649364             2.159814  6.650000  20.000000\nMetz                    -5.386065             2.133879  6.450000  20.100000\nMontpellier             -5.401626             2.157599  6.750000  20.116667\nNancy                   -5.227302             2.139460  6.466667  20.083333\nNantes                  -5.498909             2.106496  7.016667  20.566667\nNice                    -4.642356             2.134932  6.516667  19.883333\nOrleans                 -5.717292             2.132700  6.766667  20.350000\nRennes                  -5.509664             2.126354  7.000000  20.600000\nSaint-Etienne           -5.353862             2.119560  6.666667  20.116667\nStrasbourg              -4.905920             2.153118  6.366667  19.983333\nToulouse                -5.221902             2.151041  6.916667  20.266667\nTours                   -5.449606             2.142286  6.866667  20.416667",
      "text/html": "<div>\n<style scoped>\n    .dataframe tbody tr th:only-of-type {\n        vertical-align: middle;\n    }\n\n    .dataframe tbody tr th {\n        vertical-align: top;\n    }\n\n    .dataframe thead th {\n        text-align: right;\n    }\n</style>\n<table border=\"1\" class=\"dataframe\">\n  <thead>\n    <tr style=\"text-align: right;\">\n      <th></th>\n      <th>density_of_city</th>\n      <th>session_expectation</th>\n      <th>sunrise</th>\n      <th>sunset</th>\n    </tr>\n    <tr>\n      <th>city</th>\n      <th></th>\n      <th></th>\n      <th></th>\n      <th></th>\n    </tr>\n  </thead>\n  <tbody>\n    <tr>\n      <th>Bordeaux</th>\n      <td>-5.506718</td>\n      <td>2.136614</td>\n      <td>7.016667</td>\n      <td>20.433333</td>\n    </tr>\n    <tr>\n      <th>Clermont-Ferrand</th>\n      <td>-5.447219</td>\n      <td>2.099815</td>\n      <td>6.750000</td>\n      <td>20.216667</td>\n    </tr>\n    <tr>\n      <th>Dijon</th>\n      <td>-5.139118</td>\n      <td>2.107249</td>\n      <td>6.583333</td>\n      <td>20.116667</td>\n    </tr>\n    <tr>\n      <th>Grenoble</th>\n      <td>-5.000363</td>\n      <td>2.124896</td>\n      <td>6.583333</td>\n      <td>20.016667</td>\n    </tr>\n    <tr>\n      <th>Lille</th>\n      <td>-5.161260</td>\n      <td>2.137714</td>\n      <td>6.616667</td>\n      <td>20.350000</td>\n    </tr>\n    <tr>\n      <th>Lyon</th>\n      <td>-4.719418</td>\n      <td>2.126413</td>\n      <td>6.633333</td>\n      <td>20.100000</td>\n    </tr>\n    <tr>\n      <th>Mans</th>\n      <td>-5.389741</td>\n      <td>2.148895</td>\n      <td>6.916667</td>\n      <td>19.866667</td>\n    </tr>\n    <tr>\n      <th>Marseille</th>\n      <td>-4.649364</td>\n      <td>2.159814</td>\n      <td>6.650000</td>\n      <td>20.000000</td>\n    </tr>\n    <tr>\n      <th>Metz</th>\n      <td>-5.386065</td>\n      <td>2.133879</td>\n      <td>6.450000</td>\n      <td>20.100000</td>\n    </tr>\n    <tr>\n      <th>Montpellier</th>\n      <td>-5.401626</td>\n      <td>2.157599</td>\n      <td>6.750000</td>\n      <td>20.116667</td>\n    </tr>\n    <tr>\n      <th>Nancy</th>\n      <td>-5.227302</td>\n      <td>2.139460</td>\n      <td>6.466667</td>\n      <td>20.083333</td>\n    </tr>\n    <tr>\n      <th>Nantes</th>\n      <td>-5.498909</td>\n      <td>2.106496</td>\n      <td>7.016667</td>\n      <td>20.566667</td>\n    </tr>\n    <tr>\n      <th>Nice</th>\n      <td>-4.642356</td>\n      <td>2.134932</td>\n      <td>6.516667</td>\n      <td>19.883333</td>\n    </tr>\n    <tr>\n      <th>Orleans</th>\n      <td>-5.717292</td>\n      <td>2.132700</td>\n      <td>6.766667</td>\n      <td>20.350000</td>\n    </tr>\n    <tr>\n      <th>Rennes</th>\n      <td>-5.509664</td>\n      <td>2.126354</td>\n      <td>7.000000</td>\n      <td>20.600000</td>\n    </tr>\n    <tr>\n      <th>Saint-Etienne</th>\n      <td>-5.353862</td>\n      <td>2.119560</td>\n      <td>6.666667</td>\n      <td>20.116667</td>\n    </tr>\n    <tr>\n      <th>Strasbourg</th>\n      <td>-4.905920</td>\n      <td>2.153118</td>\n      <td>6.366667</td>\n      <td>19.983333</td>\n    </tr>\n    <tr>\n      <th>Toulouse</th>\n      <td>-5.221902</td>\n      <td>2.151041</td>\n      <td>6.916667</td>\n      <td>20.266667</td>\n    </tr>\n    <tr>\n      <th>Tours</th>\n      <td>-5.449606</td>\n      <td>2.142286</td>\n      <td>6.866667</td>\n      <td>20.416667</td>\n    </tr>\n  </tbody>\n</table>\n</div>"
     },
     "execution_count": 721,
     "metadata": {},
     "output_type": "execute_result"
    }
   ],
   "source": [
    "data_reg = pd.merge(data_grouped_by_city, sunrise_sunset_times, right_index=True, left_index=True, how='inner')\n",
    "data_reg"
   ],
   "metadata": {
    "collapsed": false,
    "ExecuteTime": {
     "end_time": "2023-06-22T10:03:35.260938Z",
     "start_time": "2023-06-22T10:03:35.171137Z"
    }
   }
  },
  {
   "cell_type": "code",
   "execution_count": null,
   "outputs": [],
   "source": [],
   "metadata": {
    "collapsed": false
   }
  },
  {
   "cell_type": "code",
   "execution_count": 728,
   "outputs": [],
   "source": [
    "regression = Regression(features=data_grouped_by_city['density_of_city'].to_frame(), labels=data_grouped_by_city['session_expectation'].to_frame())\n",
    "regression.plot()"
   ],
   "metadata": {
    "collapsed": false,
    "ExecuteTime": {
     "end_time": "2023-06-22T10:08:16.489105Z",
     "start_time": "2023-06-22T10:08:16.027511Z"
    }
   }
  },
  {
   "cell_type": "markdown",
   "source": [
    "### Variables considered"
   ],
   "metadata": {
    "collapsed": false
   }
  },
  {
   "cell_type": "code",
   "execution_count": 949,
   "outputs": [],
   "source": [
    "session_expectation = session_distribution.expectation_by_location()"
   ],
   "metadata": {
    "collapsed": false,
    "ExecuteTime": {
     "end_time": "2023-06-22T13:08:55.959983Z",
     "start_time": "2023-06-22T13:08:55.830644Z"
    }
   }
  },
  {
   "cell_type": "code",
   "execution_count": 950,
   "outputs": [],
   "source": [
    "def log(df):\n",
    "    vals = df.values\n",
    "    log_vals = np.log(vals, out=np.zeros_like(vals), where=vals!=0)\n",
    "    return pd.DataFrame(log_vals, index=df.index, columns=df.columns)"
   ],
   "metadata": {
    "collapsed": false,
    "ExecuteTime": {
     "end_time": "2023-06-22T13:08:56.125587Z",
     "start_time": "2023-06-22T13:08:56.029109Z"
    }
   }
  },
  {
   "cell_type": "code",
   "execution_count": 951,
   "outputs": [],
   "source": [
    "density = iris_feature_constructor.var_density(subset=iris_subset, var_names=['P19_POP'])"
   ],
   "metadata": {
    "collapsed": false,
    "ExecuteTime": {
     "end_time": "2023-06-22T13:08:56.918786Z",
     "start_time": "2023-06-22T13:08:56.194769Z"
    }
   }
  },
  {
   "cell_type": "code",
   "execution_count": 952,
   "outputs": [],
   "source": [
    "education = iris_feature_constructor.var_density(subset=iris_subset, var_names=['P19_ACT_DIPLMIN', 'P19_ACT_SUP2', 'P19_ACT_SUP5'])"
   ],
   "metadata": {
    "collapsed": false,
    "ExecuteTime": {
     "end_time": "2023-06-22T13:08:57.600296Z",
     "start_time": "2023-06-22T13:08:56.902784Z"
    }
   }
  },
  {
   "cell_type": "code",
   "execution_count": 953,
   "outputs": [],
   "source": [
    "housing = iris_feature_constructor.var(subset=iris_subset, var_names=['C19_RP_HSTU1P_SUROCC'])"
   ],
   "metadata": {
    "collapsed": false,
    "ExecuteTime": {
     "end_time": "2023-06-22T13:08:57.844826Z",
     "start_time": "2023-06-22T13:08:57.577175Z"
    }
   }
  },
  {
   "cell_type": "code",
   "execution_count": 954,
   "outputs": [],
   "source": [
    "income = admin_data.get_admin_data(subset=iris_subset)[['DEC_MED19']]"
   ],
   "metadata": {
    "collapsed": false,
    "ExecuteTime": {
     "end_time": "2023-06-22T13:08:58.119085Z",
     "start_time": "2023-06-22T13:08:57.848993Z"
    }
   }
  },
  {
   "cell_type": "code",
   "execution_count": 955,
   "outputs": [],
   "source": [
    "age_density = iris_feature_constructor.var_density(subset=iris_subset, var_names=['P19_POP1529', 'P19_POP3044', 'P19_POP4559', 'P19_POP6074', 'P19_POP75P'])"
   ],
   "metadata": {
    "collapsed": false,
    "ExecuteTime": {
     "end_time": "2023-06-22T13:08:58.978201Z",
     "start_time": "2023-06-22T13:08:58.121470Z"
    }
   }
  },
  {
   "cell_type": "code",
   "execution_count": 956,
   "outputs": [],
   "source": [
    "nationality = iris_feature_constructor.var_density(subset=iris_subset, var_names=['P19_POP_IMM'])"
   ],
   "metadata": {
    "collapsed": false,
    "ExecuteTime": {
     "end_time": "2023-06-22T13:08:59.633512Z",
     "start_time": "2023-06-22T13:08:58.974714Z"
    }
   }
  },
  {
   "cell_type": "code",
   "execution_count": 957,
   "outputs": [],
   "source": [
    "occupations = iris_feature_constructor.var_density(subset=iris_subset, var_names=['C19_POP15P_CS6', 'P19_AINACT1564'])"
   ],
   "metadata": {
    "collapsed": false,
    "ExecuteTime": {
     "end_time": "2023-06-22T13:09:00.276840Z",
     "start_time": "2023-06-22T13:08:59.630321Z"
    }
   }
  },
  {
   "cell_type": "code",
   "execution_count": 1093,
   "outputs": [],
   "source": [
    "services = ['A1', 'A2', 'A5']\n",
    "shops = ['B1', 'B2', 'B3']\n",
    "schools = ['C1', 'C2', 'C3', 'C4' 'C5', 'C6']\n",
    "health_care = ['D1', 'D2', 'D3', 'D4', 'D5']\n",
    "transport = ['E1']\n",
    "free_time = ['F1', 'F2', 'F3']\n",
    "tourism = ['G1']"
   ],
   "metadata": {
    "collapsed": false,
    "ExecuteTime": {
     "end_time": "2023-06-22T15:36:41.045428Z",
     "start_time": "2023-06-22T15:36:40.954617Z"
    }
   }
  },
  {
   "cell_type": "code",
   "execution_count": 1,
   "outputs": [
    {
     "ename": "NameError",
     "evalue": "name 'admin_data' is not defined",
     "output_type": "error",
     "traceback": [
      "\u001B[0;31m---------------------------------------------------------------------------\u001B[0m",
      "\u001B[0;31mNameError\u001B[0m                                 Traceback (most recent call last)",
      "Cell \u001B[0;32mIn[1], line 2\u001B[0m\n\u001B[1;32m      1\u001B[0m coarsened_equip \u001B[38;5;241m=\u001B[39m \u001B[38;5;28;01mTrue\u001B[39;00m\n\u001B[0;32m----> 2\u001B[0m equip_names \u001B[38;5;241m=\u001B[39m [c \u001B[38;5;28;01mfor\u001B[39;00m c \u001B[38;5;129;01min\u001B[39;00m \u001B[43madmin_data\u001B[49m\u001B[38;5;241m.\u001B[39mget_admin_data(coarsened_equip\u001B[38;5;241m=\u001B[39mcoarsened_equip)\u001B[38;5;241m.\u001B[39mcolumns \u001B[38;5;28;01mif\u001B[39;00m c\u001B[38;5;241m.\u001B[39mstartswith(\u001B[38;5;124m'\u001B[39m\u001B[38;5;124mEQUIP_\u001B[39m\u001B[38;5;124m'\u001B[39m)]\n\u001B[1;32m      3\u001B[0m \u001B[38;5;66;03m#equip_names = [c for c in equip_names if c.split('_')[1] in  transport + free_time + services]\u001B[39;00m\n\u001B[1;32m      4\u001B[0m business_index \u001B[38;5;241m=\u001B[39m iris_feature_constructor\u001B[38;5;241m.\u001B[39mvar_density(subset\u001B[38;5;241m=\u001B[39miris_subset, var_names\u001B[38;5;241m=\u001B[39mequip_names, coarsened_equip\u001B[38;5;241m=\u001B[39mcoarsened_equip)\u001B[38;5;241m.\u001B[39msum(axis\u001B[38;5;241m=\u001B[39m\u001B[38;5;241m1\u001B[39m)\u001B[38;5;241m.\u001B[39mto_frame(\u001B[38;5;124m'\u001B[39m\u001B[38;5;124mbusiness_density\u001B[39m\u001B[38;5;124m'\u001B[39m)\n",
      "\u001B[0;31mNameError\u001B[0m: name 'admin_data' is not defined"
     ]
    }
   ],
   "source": [
    "coarsened_equip = True\n",
    "equip_names = [c for c in admin_data.get_admin_data(coarsened_equip=coarsened_equip).columns if c.startswith('EQUIP_')]\n",
    "#equip_names = [c for c in equip_names if c.split('_')[1] in  transport + free_time + services]\n",
    "business_index = iris_feature_constructor.var_density(subset=iris_subset, var_names=equip_names, coarsened_equip=coarsened_equip).sum(axis=1).to_frame('business_density')"
   ],
   "metadata": {
    "collapsed": false,
    "ExecuteTime": {
     "end_time": "2023-06-27T15:44:26.128404Z",
     "start_time": "2023-06-27T15:44:25.572847Z"
    }
   }
  },
  {
   "cell_type": "code",
   "execution_count": 1290,
   "outputs": [
    {
     "data": {
      "text/plain": "((6217, 2), array(['session_expectation', 'business_density'], dtype=object))"
     },
     "execution_count": 1290,
     "metadata": {},
     "output_type": "execute_result"
    }
   ],
   "source": [
    "# data = pd.merge(log(education), session_expectation.log_data(), left_index=True, right_index=True, how='inner')\n",
    "data = pd.merge(session_expectation.log_data(), log(business_index), left_index=True, right_index=True, how='inner')\n",
    "#data = pd.merge(data, log(density), left_index=True, right_index=True, how='inner')\n",
    "#data = pd.merge(data, log(income), left_index=True, right_index=True, how='inner')\n",
    "#data = pd.merge(data, log(education), left_index=True, right_index=True, how='inner')\n",
    "#data = pd.merge(data, log(age_density), left_index=True, right_index=True, how='inner')\n",
    "#data = pd.merge(data, log(nationality), left_index=True, right_index=True, how='inner')\n",
    "#data = pd.merge(data, log(housing), left_index=True, right_index=True, how='inner')\n",
    "#data = pd.merge(data, log(occupations), left_index=True, right_index=True, how='inner')\n",
    "data = data[data != 0]\n",
    "data.dropna(inplace=True)\n",
    "data.shape, np.array(data.columns)"
   ],
   "metadata": {
    "collapsed": false,
    "ExecuteTime": {
     "end_time": "2023-06-23T14:41:40.659127Z",
     "start_time": "2023-06-23T14:41:29.412202Z"
    }
   }
  },
  {
   "cell_type": "code",
   "execution_count": null,
   "outputs": [],
   "source": [
    "features = data[[c for c in data.columns if c not in ['session_expectation']]]\n",
    "# features = data[[x_axis]]\n",
    "labels = data['session_expectation'].to_frame()\n",
    "regression = Regression(features=features, labels=labels)\n",
    "regression.plot()"
   ],
   "metadata": {
    "collapsed": false,
    "is_executing": true
   }
  },
  {
   "cell_type": "code",
   "execution_count": 1105,
   "outputs": [],
   "source": [],
   "metadata": {
    "collapsed": false,
    "ExecuteTime": {
     "end_time": "2023-06-22T15:37:19.824880Z",
     "start_time": "2023-06-22T15:37:19.816360Z"
    }
   }
  },
  {
   "cell_type": "code",
   "execution_count": 964,
   "outputs": [],
   "source": [
    "admin_data_df = admin_data.get_admin_data(coarsened_equip=True, selected_pop_vars=False)\n",
    "densities = iris_feature_constructor.var_density(subset=iris_subset, var_names=admin_data_df.columns, coarsened_equip=True)\n",
    "session_expectation.correlation_plot(covariates=densities)"
   ],
   "metadata": {
    "collapsed": false,
    "ExecuteTime": {
     "end_time": "2023-06-22T13:10:11.351322Z",
     "start_time": "2023-06-22T13:10:04.993848Z"
    }
   }
  },
  {
   "cell_type": "code",
   "execution_count": null,
   "outputs": [],
   "source": [
    "iris_density_of_city = iris_feature_constructor.density_of_city(subset=iris_subset).data"
   ],
   "metadata": {
    "collapsed": false
   }
  },
  {
   "cell_type": "code",
   "execution_count": null,
   "outputs": [],
   "source": [
    "iris_pop_density = iris_feature_constructor.var_density(subset=iris_subset, var_names=['P19_POP']).rename(columns={'P19_POP': 'POP_DEN'})['POP_DEN']"
   ],
   "metadata": {
    "collapsed": false
   }
  },
  {
   "cell_type": "code",
   "execution_count": null,
   "outputs": [],
   "source": [
    "iris_business_density = iris_feature_constructor.business_density(subset=iris_subset).data"
   ],
   "metadata": {
    "collapsed": false
   }
  },
  {
   "cell_type": "code",
   "execution_count": null,
   "outputs": [],
   "source": [
    "age_shares = iris_feature_constructor.var_shares(subset=iris_subset, var_names=['P19_POP1529', 'P19_POP3044', 'P19_POP4559', 'P19_POP6074', 'P19_POP75P'])"
   ],
   "metadata": {
    "collapsed": false
   }
  },
  {
   "cell_type": "code",
   "execution_count": null,
   "outputs": [],
   "source": [
    "lonely_shares = iris_feature_constructor.var_shares(subset=iris_subset, var_names=['P19_POP15P_PSEUL'])"
   ],
   "metadata": {
    "collapsed": false
   }
  },
  {
   "cell_type": "code",
   "execution_count": null,
   "outputs": [],
   "source": [
    "income = admin_data.get_admin_data(subset=iris_subset)[['DEC_MED19', 'DEC_GI19']]"
   ],
   "metadata": {
    "collapsed": false
   }
  },
  {
   "cell_type": "code",
   "execution_count": null,
   "outputs": [],
   "source": [
    "from FeatureExtraction.Feature import Feature\n",
    "med_income = Feature(data=income[['DEC_MED19']], name='DEC_MED19')\n",
    "med_income.geo_plot(geo_data=geo_data, normalize=True, remove_outliers=True, log=True)"
   ],
   "metadata": {
    "collapsed": false
   }
  },
  {
   "cell_type": "code",
   "execution_count": null,
   "outputs": [],
   "source": [
    "shares_of_workers_with_far_work = iris_feature_constructor.var_shares(subset=iris_subset, var_names=['P19_ACTOCC15P_ILT2P'])"
   ],
   "metadata": {
    "collapsed": false
   }
  },
  {
   "cell_type": "code",
   "execution_count": null,
   "outputs": [],
   "source": [
    "education = iris_feature_constructor.var_shares(subset=iris_subset, var_names=['P19_ACT_DIPLMIN','P19_ACT_BAC', 'P19_ACT_SUP2'])"
   ],
   "metadata": {
    "collapsed": false
   }
  },
  {
   "cell_type": "code",
   "execution_count": null,
   "outputs": [],
   "source": [
    "unemployment = iris_feature_constructor.var_shares(subset=iris_subset, var_names=['P19_CHOM1524', 'P19_CHOM2554', 'P19_CHOM5564'])"
   ],
   "metadata": {
    "collapsed": false
   }
  },
  {
   "cell_type": "code",
   "execution_count": null,
   "outputs": [],
   "source": [
    "retirees = iris_feature_constructor.var_shares(subset=iris_subset, var_names=['P19_RETR1564'])"
   ],
   "metadata": {
    "collapsed": false
   }
  },
  {
   "cell_type": "code",
   "execution_count": null,
   "outputs": [],
   "source": [
    "nationality = iris_feature_constructor.var_shares(subset=iris_subset, var_names=['P19_POP_IMM'])"
   ],
   "metadata": {
    "collapsed": false
   }
  },
  {
   "cell_type": "code",
   "execution_count": null,
   "outputs": [],
   "source": [
    "house_sizes = iris_feature_constructor.var_shares(subset=iris_subset, var_names=['P19_RP_M30M2', 'P19_RP_3040M2', 'P19_RP_4060M2', 'P19_RP_6080M2', 'P19_RP_80100M2', 'P19_RP_100120M2', 'P19_RP_120M2P'])"
   ],
   "metadata": {
    "collapsed": false
   }
  },
  {
   "cell_type": "code",
   "execution_count": null,
   "outputs": [],
   "source": [
    "men = iris_feature_constructor.var_shares(subset=iris_subset, var_names=['P19_POPH'])"
   ],
   "metadata": {
    "collapsed": false
   }
  },
  {
   "cell_type": "code",
   "execution_count": null,
   "outputs": [],
   "source": [
    "families = iris_feature_constructor.var_shares(subset=iris_subset, var_names=['P19_POP15P_MARIEE', 'C19_FAM'])"
   ],
   "metadata": {
    "collapsed": false
   }
  },
  {
   "cell_type": "code",
   "execution_count": null,
   "outputs": [],
   "source": [
    "# services = feature_constructor.iris_shares(iris=iris_subset, var_names=['EQUIP_E107', 'EQUIP_E108', 'EQUIP_E109', 'EQUIP_A504'])"
   ],
   "metadata": {
    "collapsed": false
   }
  },
  {
   "cell_type": "code",
   "execution_count": null,
   "outputs": [],
   "source": [
    "displacement_to_work = iris_feature_constructor.var_shares(subset=iris_subset, var_names=['C19_ACTOCC15P_MAR', 'C19_ACTOCC15P_TCOM', 'C19_ACTOCC15P_PAS', 'C19_ACTOCC15P_VELO', 'C19_ACTOCC15P_VOIT'])"
   ],
   "metadata": {
    "collapsed": false
   }
  },
  {
   "cell_type": "code",
   "execution_count": 402,
   "outputs": [],
   "source": [
    "housing = iris_feature_constructor.var_shares(subset=iris_subset, var_names=['C19_RP_HSTU1P_SUROCC'])"
   ],
   "metadata": {
    "collapsed": false,
    "ExecuteTime": {
     "end_time": "2023-06-21T16:46:52.629920Z",
     "start_time": "2023-06-21T16:46:52.441876Z"
    }
   }
  },
  {
   "cell_type": "code",
   "execution_count": null,
   "outputs": [],
   "source": [
    "admin_data.data.columns"
   ],
   "metadata": {
    "collapsed": false
   }
  },
  {
   "cell_type": "code",
   "execution_count": 404,
   "outputs": [
    {
     "data": {
      "text/plain": "((2684, 38),\n array(['POP_DEN', 'density_of_city', 'centrality', 'DEC_MED19',\n        'DEC_GI19', 'business_density', 'P19_POP', 'P19_POP1529',\n        'P19_POP3044', 'P19_POP4559', 'P19_POP6074', 'P19_POP75P',\n        'P19_POP15P_PSEUL', 'P19_ACTOCC15P_ILT2P', 'P19_ACT_DIPLMIN',\n        'P19_ACT_BAC', 'P19_ACT_SUP2', 'P19_CHOM1524', 'P19_CHOM2554',\n        'P19_CHOM5564', 'P19_RETR1564', 'P19_POP_ETR', 'P19_RP_M30M2',\n        'P19_RP_3040M2', 'P19_RP_4060M2', 'P19_RP_6080M2',\n        'P19_RP_80100M2', 'P19_RP_100120M2', 'P19_RP_120M2P', 'P19_POPH',\n        'P19_POP15P_MARIEE', 'C19_FAM', 'C19_ACTOCC15P_MAR',\n        'C19_ACTOCC15P_TCOM', 'C19_ACTOCC15P_PAS', 'C19_ACTOCC15P_VELO',\n        'C19_ACTOCC15P_VOIT', 'C19_RP_HSTU1P_SUROCC'], dtype=object))"
     },
     "execution_count": 404,
     "metadata": {},
     "output_type": "execute_result"
    }
   ],
   "source": [
    "data = pd.merge(iris_pop_density, iris_density_of_city, left_index=True, right_index=True, how='inner')\n",
    "data = pd.merge(data, iris_centrality, left_index=True, right_index=True, how='inner')\n",
    "data = pd.merge(data, income, left_index=True, right_index=True, how='inner')\n",
    "data = pd.merge(data, iris_business_density + np.quantile(iris_business_density, 0.1), left_index=True, right_index=True, how='inner')\n",
    "data = pd.merge(data, admin_data.data['P19_POP'], left_index=True, right_index=True, how='inner')\n",
    "data = np.log(data)\n",
    "data = pd.merge(data, age_shares, left_index=True, right_index=True, how='inner')\n",
    "data = pd.merge(data, lonely_shares, left_index=True, right_index=True, how='inner')\n",
    "data = pd.merge(data, shares_of_workers_with_far_work, left_index=True, right_index=True, how='inner')\n",
    "data = pd.merge(data, education, left_index=True, right_index=True, how='inner')\n",
    "data = pd.merge(data, unemployment, left_index=True, right_index=True, how='inner')\n",
    "data = pd.merge(data, retirees, left_index=True, right_index=True, how='inner')\n",
    "data = pd.merge(data, nationality, left_index=True, right_index=True, how='inner')\n",
    "data = pd.merge(data, house_sizes, left_index=True, right_index=True, how='inner')\n",
    "data = pd.merge(data, men, left_index=True, right_index=True, how='inner')\n",
    "data = pd.merge(data, families, left_index=True, right_index=True, how='inner')\n",
    "data = pd.merge(data, displacement_to_work, left_index=True, right_index=True, how='inner')\n",
    "data = pd.merge(data, housing, left_index=True, right_index=True, how='inner')\n",
    "data.dropna(inplace=True)\n",
    "data.shape, np.array(data.columns)"
   ],
   "metadata": {
    "collapsed": false,
    "ExecuteTime": {
     "end_time": "2023-06-21T16:47:11.250806Z",
     "start_time": "2023-06-21T16:47:11.107470Z"
    }
   }
  },
  {
   "cell_type": "code",
   "execution_count": null,
   "outputs": [],
   "source": [],
   "metadata": {
    "collapsed": false
   }
  },
  {
   "cell_type": "code",
   "execution_count": 400,
   "outputs": [],
   "source": [
    "data = pd.merge(data, session_expectation.log_data(), left_index=True, right_index=True, how='inner')"
   ],
   "metadata": {
    "collapsed": false,
    "ExecuteTime": {
     "end_time": "2023-06-21T16:42:18.085627Z",
     "start_time": "2023-06-21T16:42:17.987155Z"
    }
   }
  },
  {
   "cell_type": "code",
   "execution_count": 405,
   "outputs": [],
   "source": [
    "session_expectation.correlation_plot(covariates=data)"
   ],
   "metadata": {
    "collapsed": false,
    "ExecuteTime": {
     "end_time": "2023-06-21T16:47:13.982429Z",
     "start_time": "2023-06-21T16:47:13.539160Z"
    }
   }
  },
  {
   "cell_type": "code",
   "execution_count": 401,
   "outputs": [],
   "source": [
    "x_axis = 'C19_RP_HSTU1P_SUROCC'\n",
    "# features = data[[c for c in data.columns if c not in ['session_expectation', 'density_of_city']]]\n",
    "features = data[[x_axis]]\n",
    "labels = data['session_expectation'].to_frame()\n",
    "regression = Regression(features=features, labels=labels)\n",
    "regression.plot(x_axis=x_axis)"
   ],
   "metadata": {
    "collapsed": false,
    "ExecuteTime": {
     "end_time": "2023-06-21T16:42:29.903536Z",
     "start_time": "2023-06-21T16:42:29.459076Z"
    }
   }
  },
  {
   "cell_type": "markdown",
   "source": [
    "# ELECTION DATA ANALYSIS"
   ],
   "metadata": {
    "collapsed": false
   }
  },
  {
   "cell_type": "code",
   "execution_count": 1190,
   "outputs": [],
   "source": [
    "election_data = ElectionData()"
   ],
   "metadata": {
    "collapsed": false,
    "ExecuteTime": {
     "end_time": "2023-06-22T17:45:35.146578Z",
     "start_time": "2023-06-22T17:45:24.996432Z"
    }
   }
  },
  {
   "cell_type": "code",
   "execution_count": 1212,
   "outputs": [
    {
     "data": {
      "text/plain": "          municipality_name polling_station_code  registered_voters   \n0   L'Abergement-Clémenciat                 0001                601  \\\n1   L'Abergement-Clémenciat                 0001                601   \n2   L'Abergement-Clémenciat                 0001                601   \n3   L'Abergement-Clémenciat                 0001                601   \n4   L'Abergement-Clémenciat                 0001                601   \n5   L'Abergement-Clémenciat                 0001                601   \n6   L'Abergement-Clémenciat                 0001                601   \n7   L'Abergement-Clémenciat                 0001                601   \n8   L'Abergement-Clémenciat                 0001                601   \n9   L'Abergement-Clémenciat                 0001                601   \n10  L'Abergement-Clémenciat                 0001                601   \n11  L'Abergement-Clémenciat                 0001                601   \n12  L'Abergement-Clémenciat                 0001                601   \n13  L'Abergement-Clémenciat                 0001                601   \n14  L'Abergement-Clémenciat                 0001                601   \n15  L'Abergement-Clémenciat                 0001                601   \n16  L'Abergement-Clémenciat                 0001                601   \n17  L'Abergement-Clémenciat                 0001                601   \n18  L'Abergement-Clémenciat                 0001                601   \n19  L'Abergement-Clémenciat                 0001                601   \n20  L'Abergement-Clémenciat                 0001                601   \n21  L'Abergement-Clémenciat                 0001                601   \n22  L'Abergement-Clémenciat                 0001                601   \n23  L'Abergement-Clémenciat                 0001                601   \n24  L'Abergement-Clémenciat                 0001                601   \n25  L'Abergement-Clémenciat                 0001                601   \n26  L'Abergement-Clémenciat                 0001                601   \n27  L'Abergement-Clémenciat                 0001                601   \n28  L'Abergement-Clémenciat                 0001                601   \n29  L'Abergement-Clémenciat                 0001                601   \n\n    abstentions  pct_abstentions  voters  pct_voters  blank_votes   \n0           268            44.59     333       55.41            1  \\\n1           268            44.59     333       55.41            1   \n2           268            44.59     333       55.41            1   \n3           268            44.59     333       55.41            1   \n4           268            44.59     333       55.41            1   \n5           268            44.59     333       55.41            1   \n6           268            44.59     333       55.41            1   \n7           268            44.59     333       55.41            1   \n8           268            44.59     333       55.41            1   \n9           268            44.59     333       55.41            1   \n10          268            44.59     333       55.41            1   \n11          268            44.59     333       55.41            1   \n12          268            44.59     333       55.41            1   \n13          268            44.59     333       55.41            1   \n14          268            44.59     333       55.41            1   \n15          268            44.59     333       55.41            1   \n16          268            44.59     333       55.41            1   \n17          268            44.59     333       55.41            1   \n18          268            44.59     333       55.41            1   \n19          268            44.59     333       55.41            1   \n20          268            44.59     333       55.41            1   \n21          268            44.59     333       55.41            1   \n22          268            44.59     333       55.41            1   \n23          268            44.59     333       55.41            1   \n24          268            44.59     333       55.41            1   \n25          268            44.59     333       55.41            1   \n26          268            44.59     333       55.41            1   \n27          268            44.59     333       55.41            1   \n28          268            44.59     333       55.41            1   \n29          268            44.59     333       55.41            1   \n\n    pct_blank_votes  pct_blank_among_votes  ...  pct_expressed_among_votes   \n0              0.17                    0.3  ...                      94.29  \\\n1              0.17                    0.3  ...                      94.29   \n2              0.17                    0.3  ...                      94.29   \n3              0.17                    0.3  ...                      94.29   \n4              0.17                    0.3  ...                      94.29   \n5              0.17                    0.3  ...                      94.29   \n6              0.17                    0.3  ...                      94.29   \n7              0.17                    0.3  ...                      94.29   \n8              0.17                    0.3  ...                      94.29   \n9              0.17                    0.3  ...                      94.29   \n10             0.17                    0.3  ...                      94.29   \n11             0.17                    0.3  ...                      94.29   \n12             0.17                    0.3  ...                      94.29   \n13             0.17                    0.3  ...                      94.29   \n14             0.17                    0.3  ...                      94.29   \n15             0.17                    0.3  ...                      94.29   \n16             0.17                    0.3  ...                      94.29   \n17             0.17                    0.3  ...                      94.29   \n18             0.17                    0.3  ...                      94.29   \n19             0.17                    0.3  ...                      94.29   \n20             0.17                    0.3  ...                      94.29   \n21             0.17                    0.3  ...                      94.29   \n22             0.17                    0.3  ...                      94.29   \n23             0.17                    0.3  ...                      94.29   \n24             0.17                    0.3  ...                      94.29   \n25             0.17                    0.3  ...                      94.29   \n26             0.17                    0.3  ...                      94.29   \n27             0.17                    0.3  ...                      94.29   \n28             0.17                    0.3  ...                      94.29   \n29             0.17                    0.3  ...                      94.29   \n\n    list_number           short_list_label   \n0             1        LA FRANCE INSOUMISE  \\\n1             2          UNE FRANCE ROYALE   \n2             3            LA LIGNE CLAIRE   \n3             4               PARTI PIRATE   \n4             5                RENAISSANCE   \n5             6  DÉMOCRATIE REPRÉSENTATIVE   \n6             7         ENSEMBLE PATRIOTES   \n7             8                       PACE   \n8             9           URGENCE ÉCOLOGIE   \n9            10     LISTE DE LA RECONQUÊTE   \n10           11              LES EUROPÉENS   \n11           12             ENVIE D'EUROPE   \n12           13        PARTI FED. EUROPÉEN   \n13           14       INITIATIVE CITOYENNE   \n14           15           DEBOUT LA FRANCE   \n15           16             ALLONS ENFANTS   \n16           17          DÉCROISSANCE 2019   \n17           18             LUTTE OUVRIÈRE   \n18           19     POUR L'EUROPE DES GENS   \n19           20    ENSEMBLE POUR LE FREXIT   \n20           21            LISTE CITOYENNE   \n21           22              À VOIX ÉGALES   \n22           23          PRENEZ LE POUVOIR   \n23           24            NEUTRE ET ACTIF   \n24           25            RÉVOLUTIONNAIRE   \n25           26                  ESPERANTO   \n26           27        ÉVOLUTION CITOYENNE   \n27           28             ALLIANCE JAUNE   \n28           29        UNION DROITE-CENTRE   \n29           30            EUROPE ÉCOLOGIE   \n\n                                  extended_list_label   \n0                                 LA FRANCE INSOUMISE  \\\n1              UNE FRANCE ROYALE AU COEUR DE L'EUROPE   \n2                                     LA LIGNE CLAIRE   \n3                                        PARTI PIRATE   \n4   RENAISSANCE SOUTENUE PAR LA RÉPUBLIQUE EN MARC...   \n5                           DÉMOCRATIE REPRÉSENTATIVE   \n6   ENSEMBLE PATRIOTES ET GILETS JAUNES : POUR LA ...   \n7                 PACE - PARTI DES CITOYENS EUROPÉENS   \n8                                    URGENCE ÉCOLOGIE   \n9                              LISTE DE LA RECONQUÊTE   \n10                                      LES EUROPÉENS   \n11               ENVIE D'EUROPE ÉCOLOGIQUE ET SOCIALE   \n12  PARTI FÉDÉRALISTE EUROPÉEN - POUR UNE EUROPE Q...   \n13              MOUVEMENT POUR L'INITIATIVE CITOYENNE   \n14  LE COURAGE DE DÉFENDRE LES FRANÇAIS AVEC NICOL...   \n15                                     ALLONS ENFANTS   \n16                                  DÉCROISSANCE 2019   \n17  LUTTE OUVRIÈRE - CONTRE LE GRAND CAPITAL, LE C...   \n18  POUR L'EUROPE DES GENS CONTRE L'EUROPE DE L'AR...   \n19                            ENSEMBLE POUR LE FREXIT   \n20  LISTE CITOYENNE DU PRINTEMPS EUROPÉEN AVEC BEN...   \n21                                      À VOIX ÉGALES   \n22  PRENEZ LE POUVOIR, LISTE SOUTENUE PAR MARINE L...   \n23                                    NEUTRE ET ACTIF   \n24                  PARTI RÉVOLUTIONNAIRE COMMUNISTES   \n25  ESPÉRANTO - LANGUE COMMUNE ÉQUITABLE POUR L'EU...   \n26                                ÉVOLUTION CITOYENNE   \n27             ALLIANCE JAUNE, LA RÉVOLTE PAR LE VOTE   \n28                    UNION DE LA DROITE ET DU CENTRE   \n29                                    EUROPE ÉCOLOGIE   \n\n                 list_head_name  votes_to_list  pct_votes_to_list   \n0                   AUBRY Manon             13               2.16  \\\n1           DE PREVOISIN Robert              0               0.00   \n2                  CAMUS Renaud              0               0.00   \n3                  MARIE Florie              0               0.00   \n4              LOISEAU Nathalie             64              10.65   \n5                 TRAORÉ Hamada              0               0.00   \n6             PHILIPPOT Florian              2               0.33   \n7              ALEXANDRE Audric              0               0.00   \n8               BOURG Dominique              3               0.50   \n9               VAUCLIN Vincent              0               0.00   \n10      LAGARDE Jean-Christophe              8               1.33   \n11           GLUCKSMANN Raphaël             18               3.00   \n12                GERNIGON Yves              0               0.00   \n13                HELGEN Gilles              0               0.00   \n14        DUPONT-AIGNAN Nicolas             23               3.83   \n15              CAILLAUD Sophie              0               0.00   \n16               DELFEL Thérèse              0               0.00   \n17             ARTHAUD Nathalie              3               0.50   \n18                  BROSSAT Ian              4               0.67   \n19          ASSELINEAU François              1               0.17   \n20                 HAMON Benoît              4               0.67   \n21            TOMASINI Nathalie              0               0.00   \n22              BARDELLA Jordan             78              12.98   \n23  CORBET Cathy Denise Ginette              0               0.00   \n24              SANCHEZ Antonio              0               0.00   \n25            DIEUMEGARD Pierre              1               0.17   \n26         CHALENÇON Christophe              0               0.00   \n27              LALANNE Francis              1               0.17   \n28      BELLAMY François-Xavier             28               4.66   \n29                JADOT Yannick             52               8.65   \n\n   pct_votes_to_list_among_votes parent_municipality_code polling_station  \n0                           4.14                    01001       010010001  \n1                           0.00                    01001       010010001  \n2                           0.00                    01001       010010001  \n3                           0.00                    01001       010010001  \n4                          20.38                    01001       010010001  \n5                           0.00                    01001       010010001  \n6                           0.64                    01001       010010001  \n7                           0.00                    01001       010010001  \n8                           0.96                    01001       010010001  \n9                           0.00                    01001       010010001  \n10                          2.55                    01001       010010001  \n11                          5.73                    01001       010010001  \n12                          0.00                    01001       010010001  \n13                          0.00                    01001       010010001  \n14                          7.32                    01001       010010001  \n15                          0.00                    01001       010010001  \n16                          0.00                    01001       010010001  \n17                          0.96                    01001       010010001  \n18                          1.27                    01001       010010001  \n19                          0.32                    01001       010010001  \n20                          1.27                    01001       010010001  \n21                          0.00                    01001       010010001  \n22                         24.84                    01001       010010001  \n23                          0.00                    01001       010010001  \n24                          0.00                    01001       010010001  \n25                          0.32                    01001       010010001  \n26                          0.00                    01001       010010001  \n27                          0.32                    01001       010010001  \n28                          8.92                    01001       010010001  \n29                         16.56                    01001       010010001  \n\n[30 rows x 25 columns]",
      "text/html": "<div>\n<style scoped>\n    .dataframe tbody tr th:only-of-type {\n        vertical-align: middle;\n    }\n\n    .dataframe tbody tr th {\n        vertical-align: top;\n    }\n\n    .dataframe thead th {\n        text-align: right;\n    }\n</style>\n<table border=\"1\" class=\"dataframe\">\n  <thead>\n    <tr style=\"text-align: right;\">\n      <th></th>\n      <th>municipality_name</th>\n      <th>polling_station_code</th>\n      <th>registered_voters</th>\n      <th>abstentions</th>\n      <th>pct_abstentions</th>\n      <th>voters</th>\n      <th>pct_voters</th>\n      <th>blank_votes</th>\n      <th>pct_blank_votes</th>\n      <th>pct_blank_among_votes</th>\n      <th>...</th>\n      <th>pct_expressed_among_votes</th>\n      <th>list_number</th>\n      <th>short_list_label</th>\n      <th>extended_list_label</th>\n      <th>list_head_name</th>\n      <th>votes_to_list</th>\n      <th>pct_votes_to_list</th>\n      <th>pct_votes_to_list_among_votes</th>\n      <th>parent_municipality_code</th>\n      <th>polling_station</th>\n    </tr>\n  </thead>\n  <tbody>\n    <tr>\n      <th>0</th>\n      <td>L'Abergement-Clémenciat</td>\n      <td>0001</td>\n      <td>601</td>\n      <td>268</td>\n      <td>44.59</td>\n      <td>333</td>\n      <td>55.41</td>\n      <td>1</td>\n      <td>0.17</td>\n      <td>0.3</td>\n      <td>...</td>\n      <td>94.29</td>\n      <td>1</td>\n      <td>LA FRANCE INSOUMISE</td>\n      <td>LA FRANCE INSOUMISE</td>\n      <td>AUBRY Manon</td>\n      <td>13</td>\n      <td>2.16</td>\n      <td>4.14</td>\n      <td>01001</td>\n      <td>010010001</td>\n    </tr>\n    <tr>\n      <th>1</th>\n      <td>L'Abergement-Clémenciat</td>\n      <td>0001</td>\n      <td>601</td>\n      <td>268</td>\n      <td>44.59</td>\n      <td>333</td>\n      <td>55.41</td>\n      <td>1</td>\n      <td>0.17</td>\n      <td>0.3</td>\n      <td>...</td>\n      <td>94.29</td>\n      <td>2</td>\n      <td>UNE FRANCE ROYALE</td>\n      <td>UNE FRANCE ROYALE AU COEUR DE L'EUROPE</td>\n      <td>DE PREVOISIN Robert</td>\n      <td>0</td>\n      <td>0.00</td>\n      <td>0.00</td>\n      <td>01001</td>\n      <td>010010001</td>\n    </tr>\n    <tr>\n      <th>2</th>\n      <td>L'Abergement-Clémenciat</td>\n      <td>0001</td>\n      <td>601</td>\n      <td>268</td>\n      <td>44.59</td>\n      <td>333</td>\n      <td>55.41</td>\n      <td>1</td>\n      <td>0.17</td>\n      <td>0.3</td>\n      <td>...</td>\n      <td>94.29</td>\n      <td>3</td>\n      <td>LA LIGNE CLAIRE</td>\n      <td>LA LIGNE CLAIRE</td>\n      <td>CAMUS Renaud</td>\n      <td>0</td>\n      <td>0.00</td>\n      <td>0.00</td>\n      <td>01001</td>\n      <td>010010001</td>\n    </tr>\n    <tr>\n      <th>3</th>\n      <td>L'Abergement-Clémenciat</td>\n      <td>0001</td>\n      <td>601</td>\n      <td>268</td>\n      <td>44.59</td>\n      <td>333</td>\n      <td>55.41</td>\n      <td>1</td>\n      <td>0.17</td>\n      <td>0.3</td>\n      <td>...</td>\n      <td>94.29</td>\n      <td>4</td>\n      <td>PARTI PIRATE</td>\n      <td>PARTI PIRATE</td>\n      <td>MARIE Florie</td>\n      <td>0</td>\n      <td>0.00</td>\n      <td>0.00</td>\n      <td>01001</td>\n      <td>010010001</td>\n    </tr>\n    <tr>\n      <th>4</th>\n      <td>L'Abergement-Clémenciat</td>\n      <td>0001</td>\n      <td>601</td>\n      <td>268</td>\n      <td>44.59</td>\n      <td>333</td>\n      <td>55.41</td>\n      <td>1</td>\n      <td>0.17</td>\n      <td>0.3</td>\n      <td>...</td>\n      <td>94.29</td>\n      <td>5</td>\n      <td>RENAISSANCE</td>\n      <td>RENAISSANCE SOUTENUE PAR LA RÉPUBLIQUE EN MARC...</td>\n      <td>LOISEAU Nathalie</td>\n      <td>64</td>\n      <td>10.65</td>\n      <td>20.38</td>\n      <td>01001</td>\n      <td>010010001</td>\n    </tr>\n    <tr>\n      <th>5</th>\n      <td>L'Abergement-Clémenciat</td>\n      <td>0001</td>\n      <td>601</td>\n      <td>268</td>\n      <td>44.59</td>\n      <td>333</td>\n      <td>55.41</td>\n      <td>1</td>\n      <td>0.17</td>\n      <td>0.3</td>\n      <td>...</td>\n      <td>94.29</td>\n      <td>6</td>\n      <td>DÉMOCRATIE REPRÉSENTATIVE</td>\n      <td>DÉMOCRATIE REPRÉSENTATIVE</td>\n      <td>TRAORÉ Hamada</td>\n      <td>0</td>\n      <td>0.00</td>\n      <td>0.00</td>\n      <td>01001</td>\n      <td>010010001</td>\n    </tr>\n    <tr>\n      <th>6</th>\n      <td>L'Abergement-Clémenciat</td>\n      <td>0001</td>\n      <td>601</td>\n      <td>268</td>\n      <td>44.59</td>\n      <td>333</td>\n      <td>55.41</td>\n      <td>1</td>\n      <td>0.17</td>\n      <td>0.3</td>\n      <td>...</td>\n      <td>94.29</td>\n      <td>7</td>\n      <td>ENSEMBLE PATRIOTES</td>\n      <td>ENSEMBLE PATRIOTES ET GILETS JAUNES : POUR LA ...</td>\n      <td>PHILIPPOT Florian</td>\n      <td>2</td>\n      <td>0.33</td>\n      <td>0.64</td>\n      <td>01001</td>\n      <td>010010001</td>\n    </tr>\n    <tr>\n      <th>7</th>\n      <td>L'Abergement-Clémenciat</td>\n      <td>0001</td>\n      <td>601</td>\n      <td>268</td>\n      <td>44.59</td>\n      <td>333</td>\n      <td>55.41</td>\n      <td>1</td>\n      <td>0.17</td>\n      <td>0.3</td>\n      <td>...</td>\n      <td>94.29</td>\n      <td>8</td>\n      <td>PACE</td>\n      <td>PACE - PARTI DES CITOYENS EUROPÉENS</td>\n      <td>ALEXANDRE Audric</td>\n      <td>0</td>\n      <td>0.00</td>\n      <td>0.00</td>\n      <td>01001</td>\n      <td>010010001</td>\n    </tr>\n    <tr>\n      <th>8</th>\n      <td>L'Abergement-Clémenciat</td>\n      <td>0001</td>\n      <td>601</td>\n      <td>268</td>\n      <td>44.59</td>\n      <td>333</td>\n      <td>55.41</td>\n      <td>1</td>\n      <td>0.17</td>\n      <td>0.3</td>\n      <td>...</td>\n      <td>94.29</td>\n      <td>9</td>\n      <td>URGENCE ÉCOLOGIE</td>\n      <td>URGENCE ÉCOLOGIE</td>\n      <td>BOURG Dominique</td>\n      <td>3</td>\n      <td>0.50</td>\n      <td>0.96</td>\n      <td>01001</td>\n      <td>010010001</td>\n    </tr>\n    <tr>\n      <th>9</th>\n      <td>L'Abergement-Clémenciat</td>\n      <td>0001</td>\n      <td>601</td>\n      <td>268</td>\n      <td>44.59</td>\n      <td>333</td>\n      <td>55.41</td>\n      <td>1</td>\n      <td>0.17</td>\n      <td>0.3</td>\n      <td>...</td>\n      <td>94.29</td>\n      <td>10</td>\n      <td>LISTE DE LA RECONQUÊTE</td>\n      <td>LISTE DE LA RECONQUÊTE</td>\n      <td>VAUCLIN Vincent</td>\n      <td>0</td>\n      <td>0.00</td>\n      <td>0.00</td>\n      <td>01001</td>\n      <td>010010001</td>\n    </tr>\n    <tr>\n      <th>10</th>\n      <td>L'Abergement-Clémenciat</td>\n      <td>0001</td>\n      <td>601</td>\n      <td>268</td>\n      <td>44.59</td>\n      <td>333</td>\n      <td>55.41</td>\n      <td>1</td>\n      <td>0.17</td>\n      <td>0.3</td>\n      <td>...</td>\n      <td>94.29</td>\n      <td>11</td>\n      <td>LES EUROPÉENS</td>\n      <td>LES EUROPÉENS</td>\n      <td>LAGARDE Jean-Christophe</td>\n      <td>8</td>\n      <td>1.33</td>\n      <td>2.55</td>\n      <td>01001</td>\n      <td>010010001</td>\n    </tr>\n    <tr>\n      <th>11</th>\n      <td>L'Abergement-Clémenciat</td>\n      <td>0001</td>\n      <td>601</td>\n      <td>268</td>\n      <td>44.59</td>\n      <td>333</td>\n      <td>55.41</td>\n      <td>1</td>\n      <td>0.17</td>\n      <td>0.3</td>\n      <td>...</td>\n      <td>94.29</td>\n      <td>12</td>\n      <td>ENVIE D'EUROPE</td>\n      <td>ENVIE D'EUROPE ÉCOLOGIQUE ET SOCIALE</td>\n      <td>GLUCKSMANN Raphaël</td>\n      <td>18</td>\n      <td>3.00</td>\n      <td>5.73</td>\n      <td>01001</td>\n      <td>010010001</td>\n    </tr>\n    <tr>\n      <th>12</th>\n      <td>L'Abergement-Clémenciat</td>\n      <td>0001</td>\n      <td>601</td>\n      <td>268</td>\n      <td>44.59</td>\n      <td>333</td>\n      <td>55.41</td>\n      <td>1</td>\n      <td>0.17</td>\n      <td>0.3</td>\n      <td>...</td>\n      <td>94.29</td>\n      <td>13</td>\n      <td>PARTI FED. EUROPÉEN</td>\n      <td>PARTI FÉDÉRALISTE EUROPÉEN - POUR UNE EUROPE Q...</td>\n      <td>GERNIGON Yves</td>\n      <td>0</td>\n      <td>0.00</td>\n      <td>0.00</td>\n      <td>01001</td>\n      <td>010010001</td>\n    </tr>\n    <tr>\n      <th>13</th>\n      <td>L'Abergement-Clémenciat</td>\n      <td>0001</td>\n      <td>601</td>\n      <td>268</td>\n      <td>44.59</td>\n      <td>333</td>\n      <td>55.41</td>\n      <td>1</td>\n      <td>0.17</td>\n      <td>0.3</td>\n      <td>...</td>\n      <td>94.29</td>\n      <td>14</td>\n      <td>INITIATIVE CITOYENNE</td>\n      <td>MOUVEMENT POUR L'INITIATIVE CITOYENNE</td>\n      <td>HELGEN Gilles</td>\n      <td>0</td>\n      <td>0.00</td>\n      <td>0.00</td>\n      <td>01001</td>\n      <td>010010001</td>\n    </tr>\n    <tr>\n      <th>14</th>\n      <td>L'Abergement-Clémenciat</td>\n      <td>0001</td>\n      <td>601</td>\n      <td>268</td>\n      <td>44.59</td>\n      <td>333</td>\n      <td>55.41</td>\n      <td>1</td>\n      <td>0.17</td>\n      <td>0.3</td>\n      <td>...</td>\n      <td>94.29</td>\n      <td>15</td>\n      <td>DEBOUT LA FRANCE</td>\n      <td>LE COURAGE DE DÉFENDRE LES FRANÇAIS AVEC NICOL...</td>\n      <td>DUPONT-AIGNAN Nicolas</td>\n      <td>23</td>\n      <td>3.83</td>\n      <td>7.32</td>\n      <td>01001</td>\n      <td>010010001</td>\n    </tr>\n    <tr>\n      <th>15</th>\n      <td>L'Abergement-Clémenciat</td>\n      <td>0001</td>\n      <td>601</td>\n      <td>268</td>\n      <td>44.59</td>\n      <td>333</td>\n      <td>55.41</td>\n      <td>1</td>\n      <td>0.17</td>\n      <td>0.3</td>\n      <td>...</td>\n      <td>94.29</td>\n      <td>16</td>\n      <td>ALLONS ENFANTS</td>\n      <td>ALLONS ENFANTS</td>\n      <td>CAILLAUD Sophie</td>\n      <td>0</td>\n      <td>0.00</td>\n      <td>0.00</td>\n      <td>01001</td>\n      <td>010010001</td>\n    </tr>\n    <tr>\n      <th>16</th>\n      <td>L'Abergement-Clémenciat</td>\n      <td>0001</td>\n      <td>601</td>\n      <td>268</td>\n      <td>44.59</td>\n      <td>333</td>\n      <td>55.41</td>\n      <td>1</td>\n      <td>0.17</td>\n      <td>0.3</td>\n      <td>...</td>\n      <td>94.29</td>\n      <td>17</td>\n      <td>DÉCROISSANCE 2019</td>\n      <td>DÉCROISSANCE 2019</td>\n      <td>DELFEL Thérèse</td>\n      <td>0</td>\n      <td>0.00</td>\n      <td>0.00</td>\n      <td>01001</td>\n      <td>010010001</td>\n    </tr>\n    <tr>\n      <th>17</th>\n      <td>L'Abergement-Clémenciat</td>\n      <td>0001</td>\n      <td>601</td>\n      <td>268</td>\n      <td>44.59</td>\n      <td>333</td>\n      <td>55.41</td>\n      <td>1</td>\n      <td>0.17</td>\n      <td>0.3</td>\n      <td>...</td>\n      <td>94.29</td>\n      <td>18</td>\n      <td>LUTTE OUVRIÈRE</td>\n      <td>LUTTE OUVRIÈRE - CONTRE LE GRAND CAPITAL, LE C...</td>\n      <td>ARTHAUD Nathalie</td>\n      <td>3</td>\n      <td>0.50</td>\n      <td>0.96</td>\n      <td>01001</td>\n      <td>010010001</td>\n    </tr>\n    <tr>\n      <th>18</th>\n      <td>L'Abergement-Clémenciat</td>\n      <td>0001</td>\n      <td>601</td>\n      <td>268</td>\n      <td>44.59</td>\n      <td>333</td>\n      <td>55.41</td>\n      <td>1</td>\n      <td>0.17</td>\n      <td>0.3</td>\n      <td>...</td>\n      <td>94.29</td>\n      <td>19</td>\n      <td>POUR L'EUROPE DES GENS</td>\n      <td>POUR L'EUROPE DES GENS CONTRE L'EUROPE DE L'AR...</td>\n      <td>BROSSAT Ian</td>\n      <td>4</td>\n      <td>0.67</td>\n      <td>1.27</td>\n      <td>01001</td>\n      <td>010010001</td>\n    </tr>\n    <tr>\n      <th>19</th>\n      <td>L'Abergement-Clémenciat</td>\n      <td>0001</td>\n      <td>601</td>\n      <td>268</td>\n      <td>44.59</td>\n      <td>333</td>\n      <td>55.41</td>\n      <td>1</td>\n      <td>0.17</td>\n      <td>0.3</td>\n      <td>...</td>\n      <td>94.29</td>\n      <td>20</td>\n      <td>ENSEMBLE POUR LE FREXIT</td>\n      <td>ENSEMBLE POUR LE FREXIT</td>\n      <td>ASSELINEAU François</td>\n      <td>1</td>\n      <td>0.17</td>\n      <td>0.32</td>\n      <td>01001</td>\n      <td>010010001</td>\n    </tr>\n    <tr>\n      <th>20</th>\n      <td>L'Abergement-Clémenciat</td>\n      <td>0001</td>\n      <td>601</td>\n      <td>268</td>\n      <td>44.59</td>\n      <td>333</td>\n      <td>55.41</td>\n      <td>1</td>\n      <td>0.17</td>\n      <td>0.3</td>\n      <td>...</td>\n      <td>94.29</td>\n      <td>21</td>\n      <td>LISTE CITOYENNE</td>\n      <td>LISTE CITOYENNE DU PRINTEMPS EUROPÉEN AVEC BEN...</td>\n      <td>HAMON Benoît</td>\n      <td>4</td>\n      <td>0.67</td>\n      <td>1.27</td>\n      <td>01001</td>\n      <td>010010001</td>\n    </tr>\n    <tr>\n      <th>21</th>\n      <td>L'Abergement-Clémenciat</td>\n      <td>0001</td>\n      <td>601</td>\n      <td>268</td>\n      <td>44.59</td>\n      <td>333</td>\n      <td>55.41</td>\n      <td>1</td>\n      <td>0.17</td>\n      <td>0.3</td>\n      <td>...</td>\n      <td>94.29</td>\n      <td>22</td>\n      <td>À VOIX ÉGALES</td>\n      <td>À VOIX ÉGALES</td>\n      <td>TOMASINI Nathalie</td>\n      <td>0</td>\n      <td>0.00</td>\n      <td>0.00</td>\n      <td>01001</td>\n      <td>010010001</td>\n    </tr>\n    <tr>\n      <th>22</th>\n      <td>L'Abergement-Clémenciat</td>\n      <td>0001</td>\n      <td>601</td>\n      <td>268</td>\n      <td>44.59</td>\n      <td>333</td>\n      <td>55.41</td>\n      <td>1</td>\n      <td>0.17</td>\n      <td>0.3</td>\n      <td>...</td>\n      <td>94.29</td>\n      <td>23</td>\n      <td>PRENEZ LE POUVOIR</td>\n      <td>PRENEZ LE POUVOIR, LISTE SOUTENUE PAR MARINE L...</td>\n      <td>BARDELLA Jordan</td>\n      <td>78</td>\n      <td>12.98</td>\n      <td>24.84</td>\n      <td>01001</td>\n      <td>010010001</td>\n    </tr>\n    <tr>\n      <th>23</th>\n      <td>L'Abergement-Clémenciat</td>\n      <td>0001</td>\n      <td>601</td>\n      <td>268</td>\n      <td>44.59</td>\n      <td>333</td>\n      <td>55.41</td>\n      <td>1</td>\n      <td>0.17</td>\n      <td>0.3</td>\n      <td>...</td>\n      <td>94.29</td>\n      <td>24</td>\n      <td>NEUTRE ET ACTIF</td>\n      <td>NEUTRE ET ACTIF</td>\n      <td>CORBET Cathy Denise Ginette</td>\n      <td>0</td>\n      <td>0.00</td>\n      <td>0.00</td>\n      <td>01001</td>\n      <td>010010001</td>\n    </tr>\n    <tr>\n      <th>24</th>\n      <td>L'Abergement-Clémenciat</td>\n      <td>0001</td>\n      <td>601</td>\n      <td>268</td>\n      <td>44.59</td>\n      <td>333</td>\n      <td>55.41</td>\n      <td>1</td>\n      <td>0.17</td>\n      <td>0.3</td>\n      <td>...</td>\n      <td>94.29</td>\n      <td>25</td>\n      <td>RÉVOLUTIONNAIRE</td>\n      <td>PARTI RÉVOLUTIONNAIRE COMMUNISTES</td>\n      <td>SANCHEZ Antonio</td>\n      <td>0</td>\n      <td>0.00</td>\n      <td>0.00</td>\n      <td>01001</td>\n      <td>010010001</td>\n    </tr>\n    <tr>\n      <th>25</th>\n      <td>L'Abergement-Clémenciat</td>\n      <td>0001</td>\n      <td>601</td>\n      <td>268</td>\n      <td>44.59</td>\n      <td>333</td>\n      <td>55.41</td>\n      <td>1</td>\n      <td>0.17</td>\n      <td>0.3</td>\n      <td>...</td>\n      <td>94.29</td>\n      <td>26</td>\n      <td>ESPERANTO</td>\n      <td>ESPÉRANTO - LANGUE COMMUNE ÉQUITABLE POUR L'EU...</td>\n      <td>DIEUMEGARD Pierre</td>\n      <td>1</td>\n      <td>0.17</td>\n      <td>0.32</td>\n      <td>01001</td>\n      <td>010010001</td>\n    </tr>\n    <tr>\n      <th>26</th>\n      <td>L'Abergement-Clémenciat</td>\n      <td>0001</td>\n      <td>601</td>\n      <td>268</td>\n      <td>44.59</td>\n      <td>333</td>\n      <td>55.41</td>\n      <td>1</td>\n      <td>0.17</td>\n      <td>0.3</td>\n      <td>...</td>\n      <td>94.29</td>\n      <td>27</td>\n      <td>ÉVOLUTION CITOYENNE</td>\n      <td>ÉVOLUTION CITOYENNE</td>\n      <td>CHALENÇON Christophe</td>\n      <td>0</td>\n      <td>0.00</td>\n      <td>0.00</td>\n      <td>01001</td>\n      <td>010010001</td>\n    </tr>\n    <tr>\n      <th>27</th>\n      <td>L'Abergement-Clémenciat</td>\n      <td>0001</td>\n      <td>601</td>\n      <td>268</td>\n      <td>44.59</td>\n      <td>333</td>\n      <td>55.41</td>\n      <td>1</td>\n      <td>0.17</td>\n      <td>0.3</td>\n      <td>...</td>\n      <td>94.29</td>\n      <td>28</td>\n      <td>ALLIANCE JAUNE</td>\n      <td>ALLIANCE JAUNE, LA RÉVOLTE PAR LE VOTE</td>\n      <td>LALANNE Francis</td>\n      <td>1</td>\n      <td>0.17</td>\n      <td>0.32</td>\n      <td>01001</td>\n      <td>010010001</td>\n    </tr>\n    <tr>\n      <th>28</th>\n      <td>L'Abergement-Clémenciat</td>\n      <td>0001</td>\n      <td>601</td>\n      <td>268</td>\n      <td>44.59</td>\n      <td>333</td>\n      <td>55.41</td>\n      <td>1</td>\n      <td>0.17</td>\n      <td>0.3</td>\n      <td>...</td>\n      <td>94.29</td>\n      <td>29</td>\n      <td>UNION DROITE-CENTRE</td>\n      <td>UNION DE LA DROITE ET DU CENTRE</td>\n      <td>BELLAMY François-Xavier</td>\n      <td>28</td>\n      <td>4.66</td>\n      <td>8.92</td>\n      <td>01001</td>\n      <td>010010001</td>\n    </tr>\n    <tr>\n      <th>29</th>\n      <td>L'Abergement-Clémenciat</td>\n      <td>0001</td>\n      <td>601</td>\n      <td>268</td>\n      <td>44.59</td>\n      <td>333</td>\n      <td>55.41</td>\n      <td>1</td>\n      <td>0.17</td>\n      <td>0.3</td>\n      <td>...</td>\n      <td>94.29</td>\n      <td>30</td>\n      <td>EUROPE ÉCOLOGIE</td>\n      <td>EUROPE ÉCOLOGIE</td>\n      <td>JADOT Yannick</td>\n      <td>52</td>\n      <td>8.65</td>\n      <td>16.56</td>\n      <td>01001</td>\n      <td>010010001</td>\n    </tr>\n  </tbody>\n</table>\n<p>30 rows × 25 columns</p>\n</div>"
     },
     "execution_count": 1212,
     "metadata": {},
     "output_type": "execute_result"
    }
   ],
   "source": [
    "election_data.data.head(30)"
   ],
   "metadata": {
    "collapsed": false,
    "ExecuteTime": {
     "end_time": "2023-06-22T17:49:24.612490Z",
     "start_time": "2023-06-22T17:49:24.365122Z"
    }
   }
  },
  {
   "cell_type": "code",
   "execution_count": 1107,
   "outputs": [],
   "source": [
    "iris_subset = traffic_data.data.coords[GeoDataType.IRIS.value].values"
   ],
   "metadata": {
    "collapsed": false,
    "ExecuteTime": {
     "end_time": "2023-06-22T16:58:44.896361Z",
     "start_time": "2023-06-22T16:58:44.770888Z"
    }
   }
  },
  {
   "cell_type": "code",
   "execution_count": 1108,
   "outputs": [],
   "source": [
    "service_consumption_by_location = traffic_data.get_service_consumption_by_location(start=time(19,30), end=time(23,30))"
   ],
   "metadata": {
    "collapsed": false,
    "ExecuteTime": {
     "end_time": "2023-06-22T17:08:30.484616Z",
     "start_time": "2023-06-22T16:58:44.882329Z"
    }
   }
  },
  {
   "cell_type": "code",
   "execution_count": 1191,
   "outputs": [],
   "source": [
    "election_feature_calculator = ElectionFeatureCalculator(election_data=election_data, geo_data=geo_data)"
   ],
   "metadata": {
    "collapsed": false,
    "ExecuteTime": {
     "end_time": "2023-06-22T17:45:40.522780Z",
     "start_time": "2023-06-22T17:45:40.321373Z"
    }
   }
  },
  {
   "cell_type": "code",
   "execution_count": 1110,
   "outputs": [],
   "source": [
    "service_consumption_feature_calculator = ServiceConsumptionFeatureCalculator(service_consumption_by_location=service_consumption_by_location, admin_data=admin_data)"
   ],
   "metadata": {
    "collapsed": false,
    "ExecuteTime": {
     "end_time": "2023-06-22T17:08:33.884971Z",
     "start_time": "2023-06-22T17:08:33.811293Z"
    }
   }
  },
  {
   "cell_type": "markdown",
   "source": [
    "### Correlation Party vote service consumption"
   ],
   "metadata": {
    "collapsed": false
   }
  },
  {
   "cell_type": "code",
   "execution_count": 1219,
   "outputs": [],
   "source": [
    "consumption_shares = (service_consumption_by_location.T / service_consumption_by_location.sum(axis=1)).T\n",
    "consumption_shares = consumption_shares.loc[iris_subset].copy()"
   ],
   "metadata": {
    "collapsed": false,
    "ExecuteTime": {
     "end_time": "2023-06-22T17:53:22.208340Z",
     "start_time": "2023-06-22T17:53:20.675498Z"
    }
   }
  },
  {
   "cell_type": "code",
   "execution_count": 1234,
   "outputs": [],
   "source": [
    "turnout = election_feature_calculator.get_election_feature(feature=ElectionFeatureName.TURNOUT, subset=iris_subset)"
   ],
   "metadata": {
    "collapsed": false,
    "ExecuteTime": {
     "end_time": "2023-06-22T17:54:39.855686Z",
     "start_time": "2023-06-22T17:54:36.218253Z"
    }
   }
  },
  {
   "cell_type": "code",
   "execution_count": 1235,
   "outputs": [],
   "source": [
    "turnout.correlation_plot(covariates=consumption_shares)"
   ],
   "metadata": {
    "collapsed": false,
    "ExecuteTime": {
     "end_time": "2023-06-22T17:54:40.529614Z",
     "start_time": "2023-06-22T17:54:39.858204Z"
    }
   }
  },
  {
   "cell_type": "code",
   "execution_count": 1236,
   "outputs": [],
   "source": [
    "entropy_elections = election_feature_calculator.get_election_feature(feature=ElectionFeatureName.ENTROPY, subset=iris_subset)"
   ],
   "metadata": {
    "collapsed": false,
    "ExecuteTime": {
     "end_time": "2023-06-22T17:54:42.571096Z",
     "start_time": "2023-06-22T17:54:40.520974Z"
    }
   }
  },
  {
   "cell_type": "code",
   "execution_count": 1237,
   "outputs": [],
   "source": [
    "entropy_elections.correlation_plot(covariates=consumption_shares)"
   ],
   "metadata": {
    "collapsed": false,
    "ExecuteTime": {
     "end_time": "2023-06-22T17:54:43.168892Z",
     "start_time": "2023-06-22T17:54:42.574515Z"
    }
   }
  },
  {
   "cell_type": "code",
   "execution_count": 1238,
   "outputs": [],
   "source": [
    "polarization = election_feature_calculator.get_election_feature(feature=ElectionFeatureName.POLARIZATION, subset=iris_subset)"
   ],
   "metadata": {
    "collapsed": false,
    "ExecuteTime": {
     "end_time": "2023-06-22T17:54:48.709394Z",
     "start_time": "2023-06-22T17:54:43.173328Z"
    }
   }
  },
  {
   "cell_type": "code",
   "execution_count": 1239,
   "outputs": [],
   "source": [
    "polarization.correlation_plot(covariates=consumption_shares)"
   ],
   "metadata": {
    "collapsed": false,
    "ExecuteTime": {
     "end_time": "2023-06-22T17:54:49.303788Z",
     "start_time": "2023-06-22T17:54:48.711369Z"
    }
   }
  },
  {
   "cell_type": "code",
   "execution_count": 1240,
   "outputs": [],
   "source": [
    "lepen = election_feature_calculator.get_votes_for_party_by_iris(subset=iris_subset, party=Party.LEPEN)"
   ],
   "metadata": {
    "collapsed": false,
    "ExecuteTime": {
     "end_time": "2023-06-22T17:54:50.167882Z",
     "start_time": "2023-06-22T17:54:49.307077Z"
    }
   }
  },
  {
   "cell_type": "code",
   "execution_count": 1241,
   "outputs": [],
   "source": [
    "lepen.correlation_plot(covariates=consumption_shares)"
   ],
   "metadata": {
    "collapsed": false,
    "ExecuteTime": {
     "end_time": "2023-06-22T17:54:50.699947Z",
     "start_time": "2023-06-22T17:54:50.164177Z"
    }
   }
  },
  {
   "cell_type": "code",
   "execution_count": 1242,
   "outputs": [],
   "source": [
    "melanchon = election_feature_calculator.get_votes_for_party_by_iris(subset=iris_subset, party=Party.FRANCE_INSOUMISE)"
   ],
   "metadata": {
    "collapsed": false,
    "ExecuteTime": {
     "end_time": "2023-06-22T17:54:51.610203Z",
     "start_time": "2023-06-22T17:54:50.703088Z"
    }
   }
  },
  {
   "cell_type": "code",
   "execution_count": 1243,
   "outputs": [],
   "source": [
    "melanchon.correlation_plot(covariates=consumption_shares)"
   ],
   "metadata": {
    "collapsed": false,
    "ExecuteTime": {
     "end_time": "2023-06-22T17:54:52.248561Z",
     "start_time": "2023-06-22T17:54:51.615733Z"
    }
   }
  },
  {
   "cell_type": "code",
   "execution_count": 1244,
   "outputs": [],
   "source": [
    "macron = election_feature_calculator.get_votes_for_party_by_iris(subset=iris_subset, party=Party.RENAISSANCE)"
   ],
   "metadata": {
    "collapsed": false,
    "ExecuteTime": {
     "end_time": "2023-06-22T17:54:53.148747Z",
     "start_time": "2023-06-22T17:54:52.250894Z"
    }
   }
  },
  {
   "cell_type": "code",
   "execution_count": 1245,
   "outputs": [],
   "source": [
    "macron.correlation_plot(covariates=consumption_shares)"
   ],
   "metadata": {
    "collapsed": false,
    "ExecuteTime": {
     "end_time": "2023-06-22T17:54:53.676150Z",
     "start_time": "2023-06-22T17:54:53.145494Z"
    }
   }
  },
  {
   "cell_type": "code",
   "execution_count": 1246,
   "outputs": [],
   "source": [
    "ecology = election_feature_calculator.get_votes_for_party_by_iris(subset=iris_subset, party=Party.ECOLOGIE)"
   ],
   "metadata": {
    "collapsed": false,
    "ExecuteTime": {
     "end_time": "2023-06-22T17:54:54.569547Z",
     "start_time": "2023-06-22T17:54:53.680490Z"
    }
   }
  },
  {
   "cell_type": "code",
   "execution_count": 1247,
   "outputs": [],
   "source": [
    "ecology.correlation_plot(covariates=consumption_shares)"
   ],
   "metadata": {
    "collapsed": false,
    "ExecuteTime": {
     "end_time": "2023-06-22T17:54:55.101172Z",
     "start_time": "2023-06-22T17:54:54.568953Z"
    }
   }
  },
  {
   "cell_type": "code",
   "execution_count": 1155,
   "outputs": [
    {
     "data": {
      "text/plain": "(2930, 2)"
     },
     "execution_count": 1155,
     "metadata": {},
     "output_type": "execute_result"
    }
   ],
   "source": [
    "data = pd.merge(consumption_shares['Facebook'].to_frame(), polarization.data['polarization'].to_frame(), left_index=True, right_index=True, how='inner')\n",
    "data.shape"
   ],
   "metadata": {
    "collapsed": false,
    "ExecuteTime": {
     "end_time": "2023-06-22T17:20:56.303200Z",
     "start_time": "2023-06-22T17:20:56.093344Z"
    }
   }
  },
  {
   "cell_type": "code",
   "execution_count": 1156,
   "outputs": [],
   "source": [
    "regression = Regression(features=data['Facebook'].to_frame(), labels=data['polarization'].to_frame())\n",
    "regression.plot()"
   ],
   "metadata": {
    "collapsed": false,
    "ExecuteTime": {
     "end_time": "2023-06-22T17:21:08.894892Z",
     "start_time": "2023-06-22T17:21:08.046464Z"
    }
   }
  },
  {
   "cell_type": "markdown",
   "source": [
    "### Service consumption features"
   ],
   "metadata": {
    "collapsed": false
   }
  },
  {
   "cell_type": "code",
   "execution_count": null,
   "outputs": [],
   "source": [
    "service_consumption_feature_calculator = ServiceConsumptionFeatureCalculator(service_consumption_by_location=service_consumption_by_location, admin_data=admin_data)"
   ],
   "metadata": {
    "collapsed": false
   }
  },
  {
   "cell_type": "code",
   "execution_count": null,
   "outputs": [],
   "source": [
    "social_media_services = [Service.TWITCH, Service.TWITTER, Service.YOUTUBE, Service.PINTEREST, Service.INSTAGRAM, Service.LINKEDIN, Service.FACEBOOK]\n",
    "social_media_consumption_share = service_consumption_feature_calculator.get_consumption_feature(feature=ServiceConsumptionFeatureName.SHARES, subset_location=iris_subset, subset_service=social_media_services)"
   ],
   "metadata": {
    "collapsed": false
   }
  },
  {
   "cell_type": "code",
   "execution_count": null,
   "outputs": [],
   "source": [
    "social_media_consumption_share.geo_plot(geo_data=geo_data, subset=iris_subset)"
   ],
   "metadata": {
    "collapsed": false
   }
  },
  {
   "cell_type": "code",
   "execution_count": null,
   "outputs": [],
   "source": [
    "entropy_consumption = service_consumption_feature_calculator.get_consumption_feature(feature=ServiceConsumptionFeatureName.ENTROPY, subset_location=iris_subset)"
   ],
   "metadata": {
    "collapsed": false
   }
  },
  {
   "cell_type": "code",
   "execution_count": null,
   "outputs": [],
   "source": [
    "entropy_consumption.geo_plot(geo_data=geo_data, subset=iris_subset, normalize=True, remove_outliers=True)"
   ],
   "metadata": {
    "collapsed": false
   }
  },
  {
   "cell_type": "code",
   "execution_count": 1149,
   "outputs": [],
   "source": [
    "fb_share = service_consumption_feature_calculator.get_consumption_feature(feature=ServiceConsumptionFeatureName.SHARES, subset_location=iris_subset, subset_service=[Service.FACEBOOK])\n",
    "fb_share.data.rename(columns={'shares': 'fb_share'}, inplace=True)\n",
    "fb_share.name = 'fb_share'"
   ],
   "metadata": {
    "collapsed": false,
    "ExecuteTime": {
     "end_time": "2023-06-22T17:19:03.695332Z",
     "start_time": "2023-06-22T17:19:03.472780Z"
    }
   }
  },
  {
   "cell_type": "code",
   "execution_count": null,
   "outputs": [],
   "source": [
    "fb_share.geo_plot(geo_data=geo_data, subset=iris_subset, normalize=True, remove_outliers=True)"
   ],
   "metadata": {
    "collapsed": false
   }
  },
  {
   "cell_type": "code",
   "execution_count": null,
   "outputs": [],
   "source": [
    "data_election = pd.merge(fb_share.data, polarization.data, left_index=True, right_index=True, how='inner')\n",
    "data_election = pd.merge(data_election, income, left_index=True, right_index=True)\n",
    "data_election = pd.merge(data_election, age_shares, left_index=True, right_index=True, how='inner')\n",
    "data_election = pd.merge(data_election, iris_centrality, left_index=True, right_index=True, how='inner')\n",
    "data_election = pd.merge(data_election, education, left_index=True, right_index=True, how='inner')\n",
    "data_election = pd.merge(data_election, unemployment, left_index=True, right_index=True, how='inner')\n",
    "data_election = pd.merge(data_election, retirees, left_index=True, right_index=True, how='inner')\n",
    "data_election = pd.merge(data_election, nationality, left_index=True, right_index=True, how='inner')\n",
    "data_election.dropna(inplace=True)\n",
    "data_election.shape, np.array(data_election.columns)"
   ],
   "metadata": {
    "collapsed": false
   }
  },
  {
   "cell_type": "code",
   "execution_count": 1150,
   "outputs": [],
   "source": [
    "x_axis = 'fb_share'\n",
    "lab_name = 'polarization'\n",
    "features = data_election[[c for c in data_election.columns if c != lab_name]]\n",
    "labels = data_election[lab_name].to_frame()\n",
    "regression = Regression(features=features, labels=labels)\n",
    "regression.plot(x_axis=x_axis, save_html=True)"
   ],
   "metadata": {
    "collapsed": false,
    "ExecuteTime": {
     "end_time": "2023-06-22T17:19:13.835849Z",
     "start_time": "2023-06-22T17:19:12.881954Z"
    }
   }
  },
  {
   "cell_type": "code",
   "execution_count": null,
   "outputs": [],
   "source": [
    "d = pd.merge(session_expectation.data[['session_expectation']],turnout.data, left_index=True, right_index=True, how='inner')\n",
    "d = pd.merge(d, income, left_index=True, right_index=True, how='inner')\n",
    "d.dropna(inplace=True)\n",
    "x_axis = 'session_expectation'\n",
    "lab_name = 'turnout'\n",
    "features = d[[c for c in d.columns if c != lab_name]]\n",
    "labels = d[lab_name].to_frame()\n",
    "regression = Regression(features=features, labels=labels)\n",
    "regression.plot(x_axis=x_axis, save_html=True)"
   ],
   "metadata": {
    "collapsed": false
   }
  },
  {
   "cell_type": "code",
   "execution_count": null,
   "outputs": [],
   "source": [],
   "metadata": {
    "collapsed": false
   }
  },
  {
   "cell_type": "code",
   "execution_count": 1287,
   "outputs": [],
   "source": [
    "iris_code = entropy_consumption.data.index[0]"
   ],
   "metadata": {
    "collapsed": false,
    "ExecuteTime": {
     "end_time": "2023-06-23T14:02:56.914339Z",
     "start_time": "2023-06-23T14:02:45.997165Z"
    }
   }
  },
  {
   "cell_type": "code",
   "execution_count": 1288,
   "outputs": [
    {
     "data": {
      "text/plain": "'751010101'"
     },
     "execution_count": 1288,
     "metadata": {},
     "output_type": "execute_result"
    }
   ],
   "source": [
    "iris_code"
   ],
   "metadata": {
    "collapsed": false,
    "ExecuteTime": {
     "end_time": "2023-06-23T14:03:26.484483Z",
     "start_time": "2023-06-23T14:03:18.542897Z"
    }
   }
  },
  {
   "cell_type": "code",
   "execution_count": 1269,
   "outputs": [],
   "source": [
    "import osmnx as ox"
   ],
   "metadata": {
    "collapsed": false,
    "ExecuteTime": {
     "end_time": "2023-06-23T13:37:01.948395Z",
     "start_time": "2023-06-23T13:37:01.710150Z"
    }
   }
  },
  {
   "cell_type": "code",
   "execution_count": 1276,
   "outputs": [
    {
     "name": "stdout",
     "output_type": "stream",
     "text": [
      "Using matplotlib backend: MacOSX\n"
     ]
    },
    {
     "data": {
      "text/plain": "'1.4.0'"
     },
     "execution_count": 1276,
     "metadata": {},
     "output_type": "execute_result"
    }
   ],
   "source": [
    "%matplotlib\n",
    "ox.__version__"
   ],
   "metadata": {
    "collapsed": false,
    "ExecuteTime": {
     "end_time": "2023-06-23T13:38:05.867316Z",
     "start_time": "2023-06-23T13:38:05.646161Z"
    }
   }
  },
  {
   "cell_type": "code",
   "execution_count": 1280,
   "outputs": [],
   "source": [
    "polygon = geo_data.geo_data[GeoDataType.IRIS.value].data.head()['geometry'].iloc[0]"
   ],
   "metadata": {
    "collapsed": false,
    "ExecuteTime": {
     "end_time": "2023-06-23T13:41:37.670519Z",
     "start_time": "2023-06-23T13:41:35.593432Z"
    }
   }
  },
  {
   "cell_type": "code",
   "execution_count": 1284,
   "outputs": [],
   "source": [
    "tags = {\"landuse\":\"residential\"}"
   ],
   "metadata": {
    "collapsed": false,
    "ExecuteTime": {
     "end_time": "2023-06-23T13:44:08.338005Z",
     "start_time": "2023-06-23T13:43:56.581868Z"
    }
   }
  },
  {
   "cell_type": "code",
   "execution_count": 1285,
   "outputs": [],
   "source": [
    "gdf = ox.geometries_from_polygon(polygon=polygon, tags=tags)"
   ],
   "metadata": {
    "collapsed": false,
    "ExecuteTime": {
     "end_time": "2023-06-23T13:44:21.332730Z",
     "start_time": "2023-06-23T13:44:08.378571Z"
    }
   }
  },
  {
   "cell_type": "code",
   "execution_count": 1286,
   "outputs": [
    {
     "data": {
      "text/plain": "                                                                 geometry   \nelement_type osmid                                                          \nway          362714082  POLYGON ((-4.30515 48.08827, -4.30539 48.08811...  \\\n\n                                                                    nodes   \nelement_type osmid                                                          \nway          362714082  [3669791986, 3669791984, 7730679434, 366979198...  \\\n\n                            landuse  \nelement_type osmid                   \nway          362714082  residential  ",
      "text/html": "<div>\n<style scoped>\n    .dataframe tbody tr th:only-of-type {\n        vertical-align: middle;\n    }\n\n    .dataframe tbody tr th {\n        vertical-align: top;\n    }\n\n    .dataframe thead th {\n        text-align: right;\n    }\n</style>\n<table border=\"1\" class=\"dataframe\">\n  <thead>\n    <tr style=\"text-align: right;\">\n      <th></th>\n      <th></th>\n      <th>geometry</th>\n      <th>nodes</th>\n      <th>landuse</th>\n    </tr>\n    <tr>\n      <th>element_type</th>\n      <th>osmid</th>\n      <th></th>\n      <th></th>\n      <th></th>\n    </tr>\n  </thead>\n  <tbody>\n    <tr>\n      <th>way</th>\n      <th>362714082</th>\n      <td>POLYGON ((-4.30515 48.08827, -4.30539 48.08811...</td>\n      <td>[3669791986, 3669791984, 7730679434, 366979198...</td>\n      <td>residential</td>\n    </tr>\n  </tbody>\n</table>\n</div>"
     },
     "execution_count": 1286,
     "metadata": {},
     "output_type": "execute_result"
    }
   ],
   "source": [
    "gdf.head()"
   ],
   "metadata": {
    "collapsed": false,
    "ExecuteTime": {
     "end_time": "2023-06-23T13:44:33.141199Z",
     "start_time": "2023-06-23T13:44:21.334836Z"
    }
   }
  },
  {
   "cell_type": "code",
   "execution_count": 1272,
   "outputs": [],
   "source": [
    "fig, ax = ox.plot_footprints(gdf, figsize=(10, 10))"
   ],
   "metadata": {
    "collapsed": false,
    "ExecuteTime": {
     "end_time": "2023-06-23T13:37:08.282263Z",
     "start_time": "2023-06-23T13:37:07.017495Z"
    }
   }
  },
  {
   "cell_type": "code",
   "execution_count": 1273,
   "outputs": [
    {
     "data": {
      "text/plain": "(4, 19)"
     },
     "execution_count": 1273,
     "metadata": {},
     "output_type": "execute_result"
    }
   ],
   "source": [
    "tags = {\"leisure\": \"park\"}\n",
    "gdf = ox.geometries_from_place(place, tags)\n",
    "gdf.shape"
   ],
   "metadata": {
    "collapsed": false,
    "ExecuteTime": {
     "end_time": "2023-06-23T13:37:21.023722Z",
     "start_time": "2023-06-23T13:37:20.733985Z"
    }
   }
  },
  {
   "cell_type": "code",
   "execution_count": 1278,
   "outputs": [
    {
     "data": {
      "text/plain": "(139, 64)"
     },
     "execution_count": 1278,
     "metadata": {},
     "output_type": "execute_result"
    }
   ],
   "source": [
    "# get everything tagged amenity,\n",
    "# and everything tagged landuse = retail or commercial,\n",
    "# and everything tagged highway = bus_stop\n",
    "tags = {\"amenity\": True, \"landuse\": [\"retail\", \"commercial\"], \"highway\": \"bus_stop\"}\n",
    "gdf = ox.geometries_from_place(\"Piedmont, California, USA\", tags)\n",
    "gdf.shape"
   ],
   "metadata": {
    "collapsed": false,
    "ExecuteTime": {
     "end_time": "2023-06-23T13:38:52.868756Z",
     "start_time": "2023-06-23T13:38:44.094031Z"
    }
   }
  },
  {
   "cell_type": "code",
   "execution_count": 1279,
   "outputs": [
    {
     "data": {
      "text/plain": "                       addr:city addr:housenumber addr:postcode   \nelement_type osmid                                                \nnode         358819251  Piedmont              760         94611  \\\n             358819659       NaN              NaN           NaN   \n             358819746       NaN              NaN           NaN   \n             358819748       NaN              NaN           NaN   \n             358851430       NaN              NaN           NaN   \n\n                            addr:street           amenity  ele gnis:county_id   \nelement_type osmid                                                              \nnode         358819251  Magnolia Avenue            school   91            001  \\\n             358819659              NaN            school  130            001   \n             358819746              NaN  place_of_worship  160            001   \n             358819748              NaN            school  160            001   \n             358851430              NaN  place_of_worship   18            001   \n\n                       gnis:created gnis:feature_id gnis:state_id  ... grades   \nelement_type osmid                                                 ...          \nnode         358819251   05/08/1996         1692732            06  ...    NaN  \\\n             358819659   05/08/1996         1693020            06  ...    NaN   \n             358819746   05/08/1996         1693078            06  ...    NaN   \n             358819748   05/08/1996         1693079            06  ...    NaN   \n             358851430   09/11/2002         1961805            06  ...    NaN   \n\n                       area parking landuse building leisure surface   \nelement_type osmid                                                     \nnode         358819251  NaN     NaN     NaN      NaN     NaN     NaN  \\\n             358819659  NaN     NaN     NaN      NaN     NaN     NaN   \n             358819746  NaN     NaN     NaN      NaN     NaN     NaN   \n             358819748  NaN     NaN     NaN      NaN     NaN     NaN   \n             358851430  NaN     NaN     NaN      NaN     NaN     NaN   \n\n                       capacity:disabled ways type  \nelement_type osmid                                  \nnode         358819251               NaN  NaN  NaN  \n             358819659               NaN  NaN  NaN  \n             358819746               NaN  NaN  NaN  \n             358819748               NaN  NaN  NaN  \n             358851430               NaN  NaN  NaN  \n\n[5 rows x 64 columns]",
      "text/html": "<div>\n<style scoped>\n    .dataframe tbody tr th:only-of-type {\n        vertical-align: middle;\n    }\n\n    .dataframe tbody tr th {\n        vertical-align: top;\n    }\n\n    .dataframe thead th {\n        text-align: right;\n    }\n</style>\n<table border=\"1\" class=\"dataframe\">\n  <thead>\n    <tr style=\"text-align: right;\">\n      <th></th>\n      <th></th>\n      <th>addr:city</th>\n      <th>addr:housenumber</th>\n      <th>addr:postcode</th>\n      <th>addr:street</th>\n      <th>amenity</th>\n      <th>ele</th>\n      <th>gnis:county_id</th>\n      <th>gnis:created</th>\n      <th>gnis:feature_id</th>\n      <th>gnis:state_id</th>\n      <th>...</th>\n      <th>grades</th>\n      <th>area</th>\n      <th>parking</th>\n      <th>landuse</th>\n      <th>building</th>\n      <th>leisure</th>\n      <th>surface</th>\n      <th>capacity:disabled</th>\n      <th>ways</th>\n      <th>type</th>\n    </tr>\n    <tr>\n      <th>element_type</th>\n      <th>osmid</th>\n      <th></th>\n      <th></th>\n      <th></th>\n      <th></th>\n      <th></th>\n      <th></th>\n      <th></th>\n      <th></th>\n      <th></th>\n      <th></th>\n      <th></th>\n      <th></th>\n      <th></th>\n      <th></th>\n      <th></th>\n      <th></th>\n      <th></th>\n      <th></th>\n      <th></th>\n      <th></th>\n      <th></th>\n    </tr>\n  </thead>\n  <tbody>\n    <tr>\n      <th rowspan=\"5\" valign=\"top\">node</th>\n      <th>358819251</th>\n      <td>Piedmont</td>\n      <td>760</td>\n      <td>94611</td>\n      <td>Magnolia Avenue</td>\n      <td>school</td>\n      <td>91</td>\n      <td>001</td>\n      <td>05/08/1996</td>\n      <td>1692732</td>\n      <td>06</td>\n      <td>...</td>\n      <td>NaN</td>\n      <td>NaN</td>\n      <td>NaN</td>\n      <td>NaN</td>\n      <td>NaN</td>\n      <td>NaN</td>\n      <td>NaN</td>\n      <td>NaN</td>\n      <td>NaN</td>\n      <td>NaN</td>\n    </tr>\n    <tr>\n      <th>358819659</th>\n      <td>NaN</td>\n      <td>NaN</td>\n      <td>NaN</td>\n      <td>NaN</td>\n      <td>school</td>\n      <td>130</td>\n      <td>001</td>\n      <td>05/08/1996</td>\n      <td>1693020</td>\n      <td>06</td>\n      <td>...</td>\n      <td>NaN</td>\n      <td>NaN</td>\n      <td>NaN</td>\n      <td>NaN</td>\n      <td>NaN</td>\n      <td>NaN</td>\n      <td>NaN</td>\n      <td>NaN</td>\n      <td>NaN</td>\n      <td>NaN</td>\n    </tr>\n    <tr>\n      <th>358819746</th>\n      <td>NaN</td>\n      <td>NaN</td>\n      <td>NaN</td>\n      <td>NaN</td>\n      <td>place_of_worship</td>\n      <td>160</td>\n      <td>001</td>\n      <td>05/08/1996</td>\n      <td>1693078</td>\n      <td>06</td>\n      <td>...</td>\n      <td>NaN</td>\n      <td>NaN</td>\n      <td>NaN</td>\n      <td>NaN</td>\n      <td>NaN</td>\n      <td>NaN</td>\n      <td>NaN</td>\n      <td>NaN</td>\n      <td>NaN</td>\n      <td>NaN</td>\n    </tr>\n    <tr>\n      <th>358819748</th>\n      <td>NaN</td>\n      <td>NaN</td>\n      <td>NaN</td>\n      <td>NaN</td>\n      <td>school</td>\n      <td>160</td>\n      <td>001</td>\n      <td>05/08/1996</td>\n      <td>1693079</td>\n      <td>06</td>\n      <td>...</td>\n      <td>NaN</td>\n      <td>NaN</td>\n      <td>NaN</td>\n      <td>NaN</td>\n      <td>NaN</td>\n      <td>NaN</td>\n      <td>NaN</td>\n      <td>NaN</td>\n      <td>NaN</td>\n      <td>NaN</td>\n    </tr>\n    <tr>\n      <th>358851430</th>\n      <td>NaN</td>\n      <td>NaN</td>\n      <td>NaN</td>\n      <td>NaN</td>\n      <td>place_of_worship</td>\n      <td>18</td>\n      <td>001</td>\n      <td>09/11/2002</td>\n      <td>1961805</td>\n      <td>06</td>\n      <td>...</td>\n      <td>NaN</td>\n      <td>NaN</td>\n      <td>NaN</td>\n      <td>NaN</td>\n      <td>NaN</td>\n      <td>NaN</td>\n      <td>NaN</td>\n      <td>NaN</td>\n      <td>NaN</td>\n      <td>NaN</td>\n    </tr>\n  </tbody>\n</table>\n<p>5 rows × 64 columns</p>\n</div>"
     },
     "execution_count": 1279,
     "metadata": {},
     "output_type": "execute_result"
    }
   ],
   "source": [
    "gdf.head()"
   ],
   "metadata": {
    "collapsed": false,
    "ExecuteTime": {
     "end_time": "2023-06-23T13:39:04.968682Z",
     "start_time": "2023-06-23T13:39:04.748626Z"
    }
   }
  },
  {
   "cell_type": "code",
   "execution_count": 2,
   "outputs": [],
   "source": [
    "import seaborn as sns"
   ],
   "metadata": {
    "collapsed": false,
    "ExecuteTime": {
     "end_time": "2023-06-30T18:12:30.043021Z",
     "start_time": "2023-06-30T18:12:26.177861Z"
    }
   }
  },
  {
   "cell_type": "code",
   "execution_count": 5,
   "outputs": [
    {
     "data": {
      "text/plain": "<Axes: xlabel='island', ylabel='body_mass_g'>"
     },
     "execution_count": 5,
     "metadata": {},
     "output_type": "execute_result"
    },
    {
     "data": {
      "text/plain": "<Figure size 640x480 with 1 Axes>",
      "image/png": "[encoded data removed]"
     },
     "metadata": {},
     "output_type": "display_data"
    }
   ],
   "source": [
    "df = sns.load_dataset(\"penguins\")\n",
    "sns.barplot(data=df, x=\"island\", y=\"body_mass_g\", hue=\"sex\")"
   ],
   "metadata": {
    "collapsed": false,
    "ExecuteTime": {
     "end_time": "2023-06-30T18:14:13.381958Z",
     "start_time": "2023-06-30T18:14:12.951943Z"
    }
   }
  },
  {
   "cell_type": "code",
   "execution_count": 4,
   "outputs": [
    {
     "data": {
      "text/plain": "    species     island  bill_length_mm  bill_depth_mm  flipper_length_mm   \n0    Adelie  Torgersen            39.1           18.7              181.0  \\\n1    Adelie  Torgersen            39.5           17.4              186.0   \n2    Adelie  Torgersen            40.3           18.0              195.0   \n3    Adelie  Torgersen             NaN            NaN                NaN   \n4    Adelie  Torgersen            36.7           19.3              193.0   \n..      ...        ...             ...            ...                ...   \n339  Gentoo     Biscoe             NaN            NaN                NaN   \n340  Gentoo     Biscoe            46.8           14.3              215.0   \n341  Gentoo     Biscoe            50.4           15.7              222.0   \n342  Gentoo     Biscoe            45.2           14.8              212.0   \n343  Gentoo     Biscoe            49.9           16.1              213.0   \n\n     body_mass_g     sex  \n0         3750.0    Male  \n1         3800.0  Female  \n2         3250.0  Female  \n3            NaN     NaN  \n4         3450.0  Female  \n..           ...     ...  \n339          NaN     NaN  \n340       4850.0  Female  \n341       5750.0    Male  \n342       5200.0  Female  \n343       5400.0    Male  \n\n[344 rows x 7 columns]",
      "text/html": "<div>\n<style scoped>\n    .dataframe tbody tr th:only-of-type {\n        vertical-align: middle;\n    }\n\n    .dataframe tbody tr th {\n        vertical-align: top;\n    }\n\n    .dataframe thead th {\n        text-align: right;\n    }\n</style>\n<table border=\"1\" class=\"dataframe\">\n  <thead>\n    <tr style=\"text-align: right;\">\n      <th></th>\n      <th>species</th>\n      <th>island</th>\n      <th>bill_length_mm</th>\n      <th>bill_depth_mm</th>\n      <th>flipper_length_mm</th>\n      <th>body_mass_g</th>\n      <th>sex</th>\n    </tr>\n  </thead>\n  <tbody>\n    <tr>\n      <th>0</th>\n      <td>Adelie</td>\n      <td>Torgersen</td>\n      <td>39.1</td>\n      <td>18.7</td>\n      <td>181.0</td>\n      <td>3750.0</td>\n      <td>Male</td>\n    </tr>\n    <tr>\n      <th>1</th>\n      <td>Adelie</td>\n      <td>Torgersen</td>\n      <td>39.5</td>\n      <td>17.4</td>\n      <td>186.0</td>\n      <td>3800.0</td>\n      <td>Female</td>\n    </tr>\n    <tr>\n      <th>2</th>\n      <td>Adelie</td>\n      <td>Torgersen</td>\n      <td>40.3</td>\n      <td>18.0</td>\n      <td>195.0</td>\n      <td>3250.0</td>\n      <td>Female</td>\n    </tr>\n    <tr>\n      <th>3</th>\n      <td>Adelie</td>\n      <td>Torgersen</td>\n      <td>NaN</td>\n      <td>NaN</td>\n      <td>NaN</td>\n      <td>NaN</td>\n      <td>NaN</td>\n    </tr>\n    <tr>\n      <th>4</th>\n      <td>Adelie</td>\n      <td>Torgersen</td>\n      <td>36.7</td>\n      <td>19.3</td>\n      <td>193.0</td>\n      <td>3450.0</td>\n      <td>Female</td>\n    </tr>\n    <tr>\n      <th>...</th>\n      <td>...</td>\n      <td>...</td>\n      <td>...</td>\n      <td>...</td>\n      <td>...</td>\n      <td>...</td>\n      <td>...</td>\n    </tr>\n    <tr>\n      <th>339</th>\n      <td>Gentoo</td>\n      <td>Biscoe</td>\n      <td>NaN</td>\n      <td>NaN</td>\n      <td>NaN</td>\n      <td>NaN</td>\n      <td>NaN</td>\n    </tr>\n    <tr>\n      <th>340</th>\n      <td>Gentoo</td>\n      <td>Biscoe</td>\n      <td>46.8</td>\n      <td>14.3</td>\n      <td>215.0</td>\n      <td>4850.0</td>\n      <td>Female</td>\n    </tr>\n    <tr>\n      <th>341</th>\n      <td>Gentoo</td>\n      <td>Biscoe</td>\n      <td>50.4</td>\n      <td>15.7</td>\n      <td>222.0</td>\n      <td>5750.0</td>\n      <td>Male</td>\n    </tr>\n    <tr>\n      <th>342</th>\n      <td>Gentoo</td>\n      <td>Biscoe</td>\n      <td>45.2</td>\n      <td>14.8</td>\n      <td>212.0</td>\n      <td>5200.0</td>\n      <td>Female</td>\n    </tr>\n    <tr>\n      <th>343</th>\n      <td>Gentoo</td>\n      <td>Biscoe</td>\n      <td>49.9</td>\n      <td>16.1</td>\n      <td>213.0</td>\n      <td>5400.0</td>\n      <td>Male</td>\n    </tr>\n  </tbody>\n</table>\n<p>344 rows × 7 columns</p>\n</div>"
     },
     "execution_count": 4,
     "metadata": {},
     "output_type": "execute_result"
    }
   ],
   "source": [
    "df"
   ],
   "metadata": {
    "collapsed": false,
    "ExecuteTime": {
     "end_time": "2023-06-30T18:12:37.201316Z",
     "start_time": "2023-06-30T18:12:37.142875Z"
    }
   }
  },
  {
   "cell_type": "code",
   "execution_count": null,
   "outputs": [],
   "source": [],
   "metadata": {
    "collapsed": false
   }
  }
 ],
 "metadata": {
  "kernelspec": {
   "display_name": "netmob_env",
   "language": "python",
   "name": "python3"
  },
  "language_info": {
   "codemirror_mode": {
    "name": "ipython",
    "version": 3
   },
   "file_extension": ".py",
   "mimetype": "text/x-python",
   "name": "python",
   "nbconvert_exporter": "python",
   "pygments_lexer": "ipython3",
   "version": "3.10.4"
  },
  "vscode": {
   "interpreter": {
    "hash": "12446bc72b2d39f7c5ae547dd2a2f3fa5f964107a3a30e469371d9d3694576e5"
   }
  }
 },
 "nbformat": 4,
 "nbformat_minor": 0
}
