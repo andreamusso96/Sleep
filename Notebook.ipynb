{
 "cells": [
  {
   "cell_type": "code",
   "execution_count": 47,
   "outputs": [],
   "source": [
    "from DataIO import DataIO\n",
    "from Utils import City, AggregationLevel, TrafficType\n",
    "from DataPreprocessing.WeatherData.Data import IrisWeatherData\n",
    "from SleepInference.SleepPreprocessor import SleepPreprocessor\n",
    "from SleepInference.TimeSeriesDecomposition import Decomposer\n",
    "import pandas as pd\n",
    "from SleepDetection.Detector import Detector\n",
    "from SleepDetection.Preprocessing import Preprocessor\n",
    "from SleepDetection.Plotter import DetectionResultPlot, HistogramsSleepPatterns, UsersVsTraffic, SeasonPlot\n",
    "from SleepDetection.SleepScoreEvaluation import SleepScorer\n",
    "from SleepDetection.ChangePointDetection import ChangePointDetector\n",
    "from jupyter_dash import JupyterDash\n",
    "from dash import dcc, html\n",
    "import dash_mantine_components as dmc"
   ],
   "metadata": {
    "collapsed": false,
    "ExecuteTime": {
     "end_time": "2023-06-12T17:20:02.892989Z",
     "start_time": "2023-06-12T17:20:00.811453Z"
    }
   }
  },
  {
   "cell_type": "code",
   "execution_count": 2,
   "outputs": [],
   "source": [
    "%load_ext autoreload\n",
    "%autoreload 2"
   ],
   "metadata": {
    "collapsed": false,
    "ExecuteTime": {
     "end_time": "2023-06-12T16:23:44.924681Z",
     "start_time": "2023-06-12T16:23:44.870946Z"
    }
   }
  },
  {
   "cell_type": "code",
   "execution_count": 13,
   "outputs": [
    {
     "name": "stderr",
     "output_type": "stream",
     "text": [
      "100%|██████████| 77/77 [00:17<00:00,  4.46it/s]\n"
     ]
    }
   ],
   "source": [
    "xar_city_users = DataIO.load_traffic_data(traffic_type=TrafficType.USERS, city=City.BORDEAUX, aggregation_level=AggregationLevel.IRIS)"
   ],
   "metadata": {
    "collapsed": false,
    "ExecuteTime": {
     "end_time": "2023-06-12T16:37:04.580099Z",
     "start_time": "2023-06-12T16:36:44.852145Z"
    }
   }
  },
  {
   "cell_type": "code",
   "execution_count": 14,
   "outputs": [
    {
     "name": "stderr",
     "output_type": "stream",
     "text": [
      "100%|██████████| 77/77 [00:34<00:00,  2.20it/s]\n"
     ]
    }
   ],
   "source": [
    "xar_city_traffic = DataIO.load_traffic_data(traffic_type=TrafficType.UL_AND_DL, city=City.BORDEAUX, aggregation_level=AggregationLevel.IRIS)"
   ],
   "metadata": {
    "collapsed": false,
    "ExecuteTime": {
     "end_time": "2023-06-12T16:37:43.361171Z",
     "start_time": "2023-06-12T16:37:04.579726Z"
    }
   }
  },
  {
   "cell_type": "code",
   "execution_count": 49,
   "outputs": [
    {
     "data": {
      "text/plain": "(               iris  station             datetime temperature cloudiness   \n 0         010010000     7481  2019-03-01 01:00:00  283.050000         90  \\\n 1         010010000     7481  2019-03-01 04:00:00  282.450000        100   \n 2         010010000     7481  2019-03-01 07:00:00  282.650000         90   \n 3         010010000     7481  2019-03-01 10:00:00  284.250000         90   \n 4         010010000     7481  2019-03-01 13:00:00  284.150000         90   \n ...             ...      ...                  ...         ...        ...   \n 35677183        NaN    81401  2019-05-31 23:00:00  300.250000         mq   \n 35677184        NaN    81405  2019-05-31 23:00:00  300.650000         mq   \n 35677185        NaN    81408  2019-05-31 23:00:00  302.750000         mq   \n 35677186        NaN    81415  2019-05-31 23:00:00  304.850000         mq   \n 35677187        NaN    89642  2019-05-31 23:00:00  264.950000         mq   \n \n          precipitation_last_1h precipitation_last_3h precipitation_last_12h   \n 0                     0.000000              0.000000               0.000000  \\\n 1                     0.000000              0.000000               0.000000   \n 2                     0.000000              0.000000               0.000000   \n 3                     0.000000              0.000000               0.000000   \n 4                     0.000000             -0.100000              -0.100000   \n ...                        ...                   ...                    ...   \n 35677183              0.000000              0.000000               2.000000   \n 35677184              0.000000              0.000000              12.700000   \n 35677185              0.000000              0.000000               2.200000   \n 35677186              0.000000              0.000000               1.400000   \n 35677187                    mq                    mq                     mq   \n \n          weather_classification  \n 0                             3  \n 1                             0  \n 2                             0  \n 3                             3  \n 4                             1  \n ...                         ...  \n 35677183                     mq  \n 35677184                      0  \n 35677185                     mq  \n 35677186                     mq  \n 35677187                     mq  \n \n [35677188 rows x 9 columns],\n               iris   city         day   sunrise    sunset\n 0        010010000   Lyon  2019-03-01  07:19:00  18:26:00\n 1        010010000   Lyon  2019-03-02  07:17:00  18:27:00\n 2        010010000   Lyon  2019-03-03  07:15:00  18:29:00\n 3        010010000   Lyon  2019-03-04  07:14:00  18:30:00\n 4        010010000   Lyon  2019-03-05  07:12:00  18:32:00\n ...            ...    ...         ...       ...       ...\n 4470275  956900000  Paris  2019-05-27  05:55:00  21:39:00\n 4470276  956900000  Paris  2019-05-28  05:54:00  21:41:00\n 4470277  956900000  Paris  2019-05-29  05:53:00  21:42:00\n 4470278  956900000  Paris  2019-05-30  05:53:00  21:43:00\n 4470279  956900000  Paris  2019-05-31  05:52:00  21:44:00\n \n [4470280 rows x 5 columns])"
     },
     "execution_count": 49,
     "metadata": {},
     "output_type": "execute_result"
    }
   ],
   "source": [
    "weather_data = IrisWeatherData()\n",
    "weather_data.load_all()"
   ],
   "metadata": {
    "collapsed": false,
    "ExecuteTime": {
     "end_time": "2023-06-12T17:23:47.479604Z",
     "start_time": "2023-06-12T17:22:51.057621Z"
    }
   }
  },
  {
   "cell_type": "code",
   "execution_count": 50,
   "outputs": [
    {
     "data": {
      "text/plain": "        iris  station             datetime temperature cloudiness   \n0  010010000     7481  2019-03-01 01:00:00  283.050000         90  \\\n1  010010000     7481  2019-03-01 04:00:00  282.450000        100   \n2  010010000     7481  2019-03-01 07:00:00  282.650000         90   \n3  010010000     7481  2019-03-01 10:00:00  284.250000         90   \n4  010010000     7481  2019-03-01 13:00:00  284.150000         90   \n\n  precipitation_last_1h precipitation_last_3h precipitation_last_12h   \n0              0.000000              0.000000               0.000000  \\\n1              0.000000              0.000000               0.000000   \n2              0.000000              0.000000               0.000000   \n3              0.000000              0.000000               0.000000   \n4              0.000000             -0.100000              -0.100000   \n\n  weather_classification  \n0                      3  \n1                      0  \n2                      0  \n3                      3  \n4                      1  ",
      "text/html": "<div>\n<style scoped>\n    .dataframe tbody tr th:only-of-type {\n        vertical-align: middle;\n    }\n\n    .dataframe tbody tr th {\n        vertical-align: top;\n    }\n\n    .dataframe thead th {\n        text-align: right;\n    }\n</style>\n<table border=\"1\" class=\"dataframe\">\n  <thead>\n    <tr style=\"text-align: right;\">\n      <th></th>\n      <th>iris</th>\n      <th>station</th>\n      <th>datetime</th>\n      <th>temperature</th>\n      <th>cloudiness</th>\n      <th>precipitation_last_1h</th>\n      <th>precipitation_last_3h</th>\n      <th>precipitation_last_12h</th>\n      <th>weather_classification</th>\n    </tr>\n  </thead>\n  <tbody>\n    <tr>\n      <th>0</th>\n      <td>010010000</td>\n      <td>7481</td>\n      <td>2019-03-01 01:00:00</td>\n      <td>283.050000</td>\n      <td>90</td>\n      <td>0.000000</td>\n      <td>0.000000</td>\n      <td>0.000000</td>\n      <td>3</td>\n    </tr>\n    <tr>\n      <th>1</th>\n      <td>010010000</td>\n      <td>7481</td>\n      <td>2019-03-01 04:00:00</td>\n      <td>282.450000</td>\n      <td>100</td>\n      <td>0.000000</td>\n      <td>0.000000</td>\n      <td>0.000000</td>\n      <td>0</td>\n    </tr>\n    <tr>\n      <th>2</th>\n      <td>010010000</td>\n      <td>7481</td>\n      <td>2019-03-01 07:00:00</td>\n      <td>282.650000</td>\n      <td>90</td>\n      <td>0.000000</td>\n      <td>0.000000</td>\n      <td>0.000000</td>\n      <td>0</td>\n    </tr>\n    <tr>\n      <th>3</th>\n      <td>010010000</td>\n      <td>7481</td>\n      <td>2019-03-01 10:00:00</td>\n      <td>284.250000</td>\n      <td>90</td>\n      <td>0.000000</td>\n      <td>0.000000</td>\n      <td>0.000000</td>\n      <td>3</td>\n    </tr>\n    <tr>\n      <th>4</th>\n      <td>010010000</td>\n      <td>7481</td>\n      <td>2019-03-01 13:00:00</td>\n      <td>284.150000</td>\n      <td>90</td>\n      <td>0.000000</td>\n      <td>-0.100000</td>\n      <td>-0.100000</td>\n      <td>1</td>\n    </tr>\n  </tbody>\n</table>\n</div>"
     },
     "execution_count": 50,
     "metadata": {},
     "output_type": "execute_result"
    }
   ],
   "source": [
    "weather_data.weather_data.head()"
   ],
   "metadata": {
    "collapsed": false,
    "ExecuteTime": {
     "end_time": "2023-06-12T17:23:55.363191Z",
     "start_time": "2023-06-12T17:23:54.939540Z"
    }
   }
  },
  {
   "cell_type": "code",
   "execution_count": null,
   "outputs": [],
   "source": [
    "import numpy as np"
   ],
   "metadata": {
    "collapsed": false
   }
  },
  {
   "cell_type": "code",
   "execution_count": 44,
   "outputs": [],
   "source": [
    "new_index = np.add.outer(xar_city_users.indexes['day'], xar_city_users.indexes['time']).flatten()\n",
    "b = xar_city_users.stack(datetime=['day', 'time'], create_index=False)\n",
    "c = b.reindex({'datetime': new_index})"
   ],
   "metadata": {
    "collapsed": false,
    "ExecuteTime": {
     "end_time": "2023-06-12T17:05:46.588833Z",
     "start_time": "2023-06-12T17:05:46.024027Z"
    }
   }
  },
  {
   "cell_type": "code",
   "execution_count": 45,
   "outputs": [
    {
     "data": {
      "text/plain": "Indexes:\n    iris      Index(['330030101', '330030102', '330030103', '330030104', '330040000',\n       '330120000', '330130101', '330130104', '330320101', '330320102',\n       ...\n       '335500102', '335500103', '335500104', '335500105', '335500106',\n       '335500107', '335500108', '335500109', '335500110', '335540000'],\n      dtype='object', name='iris', length=305)\n    service   Index(['Twitch', 'Orange_TV', 'Web_Games', 'Web_Weather', 'Twitter',\n       'Apple_Music', 'Web_Ads', 'SoundCloud', 'Wikipedia', 'Web_Food',\n       'YouTube', 'Pinterest', 'Web_Clothes', 'Web_Adult', 'DailyMotion',\n       'Instagram', 'Clash_of_Clans', 'Pokemon_GO', 'Web_Finance',\n       'Facebook_Live', 'EA_Games', 'Apple_Video', 'LinkedIn', 'Snapchat',\n       'Deezer', 'Netflix', 'Facebook', 'Molotov', 'Web_e-Commerce',\n       'Fortnite', 'Periscope', 'Spotify', 'Web_Streaming', 'Yahoo'],\n      dtype='object', name='service')\n    datetime  DatetimeIndex(['2019-03-16 00:00:00', '2019-03-16 00:15:00',\n               '2019-03-16 00:30:00', '2019-03-16 00:45:00',\n               '2019-03-16 01:00:00', '2019-03-16 01:15:00',\n               '2019-03-16 01:30:00', '2019-03-16 01:45:00',\n               '2019-03-16 02:00:00', '2019-03-16 02:15:00',\n               ...\n               '2019-05-31 21:30:00', '2019-05-31 21:45:00',\n               '2019-05-31 22:00:00', '2019-05-31 22:15:00',\n               '2019-05-31 22:30:00', '2019-05-31 22:45:00',\n               '2019-05-31 23:00:00', '2019-05-31 23:15:00',\n               '2019-05-31 23:30:00', '2019-05-31 23:45:00'],\n              dtype='datetime64[ns]', name='datetime', length=7392, freq=None)"
     },
     "execution_count": 45,
     "metadata": {},
     "output_type": "execute_result"
    }
   ],
   "source": [
    "c.indexes"
   ],
   "metadata": {
    "collapsed": false,
    "ExecuteTime": {
     "end_time": "2023-06-12T17:05:53.602858Z",
     "start_time": "2023-06-12T17:05:53.504397Z"
    }
   }
  },
  {
   "cell_type": "code",
   "execution_count": 32,
   "outputs": [],
   "source": [
    "import numpy as np"
   ],
   "metadata": {
    "collapsed": false,
    "ExecuteTime": {
     "end_time": "2023-06-12T16:59:12.190257Z",
     "start_time": "2023-06-12T16:59:12.124310Z"
    }
   }
  },
  {
   "cell_type": "code",
   "execution_count": 40,
   "outputs": [
    {
     "data": {
      "text/plain": "array(['2019-03-16T00:00:00.000000000', '2019-03-16T00:15:00.000000000',\n       '2019-03-16T00:30:00.000000000', ...,\n       '2019-05-31T23:15:00.000000000', '2019-05-31T23:30:00.000000000',\n       '2019-05-31T23:45:00.000000000'], dtype='datetime64[ns]')"
     },
     "execution_count": 40,
     "metadata": {},
     "output_type": "execute_result"
    }
   ],
   "source": [
    "np.add.outer(b.indexes['datetime'].levels[0], b.indexes['datetime'].levels[1]).flatten()"
   ],
   "metadata": {
    "collapsed": false,
    "ExecuteTime": {
     "end_time": "2023-06-12T17:01:37.352421Z",
     "start_time": "2023-06-12T17:01:37.290858Z"
    }
   }
  },
  {
   "cell_type": "code",
   "execution_count": 24,
   "outputs": [
    {
     "ename": "ValueError",
     "evalue": "cannot add indices of unequal length",
     "output_type": "error",
     "traceback": [
      "\u001B[0;31m---------------------------------------------------------------------------\u001B[0m",
      "\u001B[0;31mValueError\u001B[0m                                Traceback (most recent call last)",
      "Cell \u001B[0;32mIn[24], line 1\u001B[0m\n\u001B[0;32m----> 1\u001B[0m \u001B[43mb\u001B[49m\u001B[38;5;241;43m.\u001B[39;49m\u001B[43mindexes\u001B[49m\u001B[43m[\u001B[49m\u001B[38;5;124;43m'\u001B[39;49m\u001B[38;5;124;43mdatetime\u001B[39;49m\u001B[38;5;124;43m'\u001B[39;49m\u001B[43m]\u001B[49m\u001B[38;5;241;43m.\u001B[39;49m\u001B[43mlevels\u001B[49m\u001B[43m[\u001B[49m\u001B[38;5;241;43m0\u001B[39;49m\u001B[43m]\u001B[49m\u001B[43m \u001B[49m\u001B[38;5;241;43m+\u001B[39;49m\u001B[43m \u001B[49m\u001B[43mb\u001B[49m\u001B[38;5;241;43m.\u001B[39;49m\u001B[43mindexes\u001B[49m\u001B[43m[\u001B[49m\u001B[38;5;124;43m'\u001B[39;49m\u001B[38;5;124;43mdatetime\u001B[39;49m\u001B[38;5;124;43m'\u001B[39;49m\u001B[43m]\u001B[49m\u001B[38;5;241;43m.\u001B[39;49m\u001B[43mlevels\u001B[49m\u001B[43m[\u001B[49m\u001B[38;5;241;43m1\u001B[39;49m\u001B[43m]\u001B[49m\n",
      "File \u001B[0;32m~/opt/anaconda3/envs/NetMob/lib/python3.8/site-packages/pandas/core/ops/common.py:81\u001B[0m, in \u001B[0;36m_unpack_zerodim_and_defer.<locals>.new_method\u001B[0;34m(self, other)\u001B[0m\n\u001B[1;32m     77\u001B[0m             \u001B[38;5;28;01mreturn\u001B[39;00m \u001B[38;5;28mNotImplemented\u001B[39m\n\u001B[1;32m     79\u001B[0m other \u001B[38;5;241m=\u001B[39m item_from_zerodim(other)\n\u001B[0;32m---> 81\u001B[0m \u001B[38;5;28;01mreturn\u001B[39;00m \u001B[43mmethod\u001B[49m\u001B[43m(\u001B[49m\u001B[38;5;28;43mself\u001B[39;49m\u001B[43m,\u001B[49m\u001B[43m \u001B[49m\u001B[43mother\u001B[49m\u001B[43m)\u001B[49m\n",
      "File \u001B[0;32m~/opt/anaconda3/envs/NetMob/lib/python3.8/site-packages/pandas/core/arraylike.py:186\u001B[0m, in \u001B[0;36mOpsMixin.__add__\u001B[0;34m(self, other)\u001B[0m\n\u001B[1;32m     98\u001B[0m \u001B[38;5;129m@unpack_zerodim_and_defer\u001B[39m(\u001B[38;5;124m\"\u001B[39m\u001B[38;5;124m__add__\u001B[39m\u001B[38;5;124m\"\u001B[39m)\n\u001B[1;32m     99\u001B[0m \u001B[38;5;28;01mdef\u001B[39;00m \u001B[38;5;21m__add__\u001B[39m(\u001B[38;5;28mself\u001B[39m, other):\n\u001B[1;32m    100\u001B[0m \u001B[38;5;250m    \u001B[39m\u001B[38;5;124;03m\"\"\"\u001B[39;00m\n\u001B[1;32m    101\u001B[0m \u001B[38;5;124;03m    Get Addition of DataFrame and other, column-wise.\u001B[39;00m\n\u001B[1;32m    102\u001B[0m \n\u001B[0;32m   (...)\u001B[0m\n\u001B[1;32m    184\u001B[0m \u001B[38;5;124;03m    moose     3.0     NaN\u001B[39;00m\n\u001B[1;32m    185\u001B[0m \u001B[38;5;124;03m    \"\"\"\u001B[39;00m\n\u001B[0;32m--> 186\u001B[0m     \u001B[38;5;28;01mreturn\u001B[39;00m \u001B[38;5;28;43mself\u001B[39;49m\u001B[38;5;241;43m.\u001B[39;49m\u001B[43m_arith_method\u001B[49m\u001B[43m(\u001B[49m\u001B[43mother\u001B[49m\u001B[43m,\u001B[49m\u001B[43m \u001B[49m\u001B[43moperator\u001B[49m\u001B[38;5;241;43m.\u001B[39;49m\u001B[43madd\u001B[49m\u001B[43m)\u001B[49m\n",
      "File \u001B[0;32m~/opt/anaconda3/envs/NetMob/lib/python3.8/site-packages/pandas/core/indexes/base.py:6814\u001B[0m, in \u001B[0;36mIndex._arith_method\u001B[0;34m(self, other, op)\u001B[0m\n\u001B[1;32m   6804\u001B[0m \u001B[38;5;28;01mif\u001B[39;00m (\n\u001B[1;32m   6805\u001B[0m     \u001B[38;5;28misinstance\u001B[39m(other, Index)\n\u001B[1;32m   6806\u001B[0m     \u001B[38;5;129;01mand\u001B[39;00m is_object_dtype(other\u001B[38;5;241m.\u001B[39mdtype)\n\u001B[0;32m   (...)\u001B[0m\n\u001B[1;32m   6810\u001B[0m     \u001B[38;5;66;03m# a chance to implement ops before we unwrap them.\u001B[39;00m\n\u001B[1;32m   6811\u001B[0m     \u001B[38;5;66;03m# See https://github.com/pandas-dev/pandas/issues/31109\u001B[39;00m\n\u001B[1;32m   6812\u001B[0m     \u001B[38;5;28;01mreturn\u001B[39;00m \u001B[38;5;28mNotImplemented\u001B[39m\n\u001B[0;32m-> 6814\u001B[0m \u001B[38;5;28;01mreturn\u001B[39;00m \u001B[38;5;28;43msuper\u001B[39;49m\u001B[43m(\u001B[49m\u001B[43m)\u001B[49m\u001B[38;5;241;43m.\u001B[39;49m\u001B[43m_arith_method\u001B[49m\u001B[43m(\u001B[49m\u001B[43mother\u001B[49m\u001B[43m,\u001B[49m\u001B[43m \u001B[49m\u001B[43mop\u001B[49m\u001B[43m)\u001B[49m\n",
      "File \u001B[0;32m~/opt/anaconda3/envs/NetMob/lib/python3.8/site-packages/pandas/core/base.py:1348\u001B[0m, in \u001B[0;36mIndexOpsMixin._arith_method\u001B[0;34m(self, other, op)\u001B[0m\n\u001B[1;32m   1345\u001B[0m rvalues \u001B[38;5;241m=\u001B[39m ensure_wrapped_if_datetimelike(rvalues)\n\u001B[1;32m   1347\u001B[0m \u001B[38;5;28;01mwith\u001B[39;00m np\u001B[38;5;241m.\u001B[39merrstate(\u001B[38;5;28mall\u001B[39m\u001B[38;5;241m=\u001B[39m\u001B[38;5;124m\"\u001B[39m\u001B[38;5;124mignore\u001B[39m\u001B[38;5;124m\"\u001B[39m):\n\u001B[0;32m-> 1348\u001B[0m     result \u001B[38;5;241m=\u001B[39m \u001B[43mops\u001B[49m\u001B[38;5;241;43m.\u001B[39;49m\u001B[43marithmetic_op\u001B[49m\u001B[43m(\u001B[49m\u001B[43mlvalues\u001B[49m\u001B[43m,\u001B[49m\u001B[43m \u001B[49m\u001B[43mrvalues\u001B[49m\u001B[43m,\u001B[49m\u001B[43m \u001B[49m\u001B[43mop\u001B[49m\u001B[43m)\u001B[49m\n\u001B[1;32m   1350\u001B[0m \u001B[38;5;28;01mreturn\u001B[39;00m \u001B[38;5;28mself\u001B[39m\u001B[38;5;241m.\u001B[39m_construct_result(result, name\u001B[38;5;241m=\u001B[39mres_name)\n",
      "File \u001B[0;32m~/opt/anaconda3/envs/NetMob/lib/python3.8/site-packages/pandas/core/ops/array_ops.py:224\u001B[0m, in \u001B[0;36marithmetic_op\u001B[0;34m(left, right, op)\u001B[0m\n\u001B[1;32m    211\u001B[0m \u001B[38;5;66;03m# NB: We assume that extract_array and ensure_wrapped_if_datetimelike\u001B[39;00m\n\u001B[1;32m    212\u001B[0m \u001B[38;5;66;03m#  have already been called on `left` and `right`,\u001B[39;00m\n\u001B[1;32m    213\u001B[0m \u001B[38;5;66;03m#  and `maybe_prepare_scalar_for_op` has already been called on `right`\u001B[39;00m\n\u001B[1;32m    214\u001B[0m \u001B[38;5;66;03m# We need to special-case datetime64/timedelta64 dtypes (e.g. because numpy\u001B[39;00m\n\u001B[1;32m    215\u001B[0m \u001B[38;5;66;03m# casts integer dtypes to timedelta64 when operating with timedelta64 - GH#22390)\u001B[39;00m\n\u001B[1;32m    217\u001B[0m \u001B[38;5;28;01mif\u001B[39;00m (\n\u001B[1;32m    218\u001B[0m     should_extension_dispatch(left, right)\n\u001B[1;32m    219\u001B[0m     \u001B[38;5;129;01mor\u001B[39;00m \u001B[38;5;28misinstance\u001B[39m(right, (Timedelta, BaseOffset, Timestamp))\n\u001B[0;32m   (...)\u001B[0m\n\u001B[1;32m    222\u001B[0m     \u001B[38;5;66;03m# Timedelta/Timestamp and other custom scalars are included in the check\u001B[39;00m\n\u001B[1;32m    223\u001B[0m     \u001B[38;5;66;03m# because numexpr will fail on it, see GH#31457\u001B[39;00m\n\u001B[0;32m--> 224\u001B[0m     res_values \u001B[38;5;241m=\u001B[39m \u001B[43mop\u001B[49m\u001B[43m(\u001B[49m\u001B[43mleft\u001B[49m\u001B[43m,\u001B[49m\u001B[43m \u001B[49m\u001B[43mright\u001B[49m\u001B[43m)\u001B[49m\n\u001B[1;32m    225\u001B[0m \u001B[38;5;28;01melse\u001B[39;00m:\n\u001B[1;32m    226\u001B[0m     \u001B[38;5;66;03m# TODO we should handle EAs consistently and move this check before the if/else\u001B[39;00m\n\u001B[1;32m    227\u001B[0m     \u001B[38;5;66;03m# (https://github.com/pandas-dev/pandas/issues/41165)\u001B[39;00m\n\u001B[1;32m    228\u001B[0m     _bool_arith_check(op, left, right)\n",
      "File \u001B[0;32m~/opt/anaconda3/envs/NetMob/lib/python3.8/site-packages/pandas/core/ops/common.py:81\u001B[0m, in \u001B[0;36m_unpack_zerodim_and_defer.<locals>.new_method\u001B[0;34m(self, other)\u001B[0m\n\u001B[1;32m     77\u001B[0m             \u001B[38;5;28;01mreturn\u001B[39;00m \u001B[38;5;28mNotImplemented\u001B[39m\n\u001B[1;32m     79\u001B[0m other \u001B[38;5;241m=\u001B[39m item_from_zerodim(other)\n\u001B[0;32m---> 81\u001B[0m \u001B[38;5;28;01mreturn\u001B[39;00m \u001B[43mmethod\u001B[49m\u001B[43m(\u001B[49m\u001B[38;5;28;43mself\u001B[39;49m\u001B[43m,\u001B[49m\u001B[43m \u001B[49m\u001B[43mother\u001B[49m\u001B[43m)\u001B[49m\n",
      "File \u001B[0;32m~/opt/anaconda3/envs/NetMob/lib/python3.8/site-packages/pandas/core/arrays/datetimelike.py:1341\u001B[0m, in \u001B[0;36mDatetimeLikeArrayMixin.__add__\u001B[0;34m(self, other)\u001B[0m\n\u001B[1;32m   1338\u001B[0m \u001B[38;5;66;03m# array-like others\u001B[39;00m\n\u001B[1;32m   1339\u001B[0m \u001B[38;5;28;01melif\u001B[39;00m is_timedelta64_dtype(other_dtype):\n\u001B[1;32m   1340\u001B[0m     \u001B[38;5;66;03m# TimedeltaIndex, ndarray[timedelta64]\u001B[39;00m\n\u001B[0;32m-> 1341\u001B[0m     result \u001B[38;5;241m=\u001B[39m \u001B[38;5;28;43mself\u001B[39;49m\u001B[38;5;241;43m.\u001B[39;49m\u001B[43m_add_timedelta_arraylike\u001B[49m\u001B[43m(\u001B[49m\u001B[43mother\u001B[49m\u001B[43m)\u001B[49m\n\u001B[1;32m   1342\u001B[0m \u001B[38;5;28;01melif\u001B[39;00m is_object_dtype(other_dtype):\n\u001B[1;32m   1343\u001B[0m     \u001B[38;5;66;03m# e.g. Array/Index of DateOffset objects\u001B[39;00m\n\u001B[1;32m   1344\u001B[0m     result \u001B[38;5;241m=\u001B[39m \u001B[38;5;28mself\u001B[39m\u001B[38;5;241m.\u001B[39m_addsub_object_array(other, operator\u001B[38;5;241m.\u001B[39madd)\n",
      "File \u001B[0;32m~/opt/anaconda3/envs/NetMob/lib/python3.8/site-packages/pandas/core/arrays/datetimelike.py:1180\u001B[0m, in \u001B[0;36mDatetimeLikeArrayMixin._add_timedelta_arraylike\u001B[0;34m(self, other)\u001B[0m\n\u001B[1;32m   1177\u001B[0m \u001B[38;5;66;03m# overridden by PeriodArray\u001B[39;00m\n\u001B[1;32m   1179\u001B[0m \u001B[38;5;28;01mif\u001B[39;00m \u001B[38;5;28mlen\u001B[39m(\u001B[38;5;28mself\u001B[39m) \u001B[38;5;241m!=\u001B[39m \u001B[38;5;28mlen\u001B[39m(other):\n\u001B[0;32m-> 1180\u001B[0m     \u001B[38;5;28;01mraise\u001B[39;00m \u001B[38;5;167;01mValueError\u001B[39;00m(\u001B[38;5;124m\"\u001B[39m\u001B[38;5;124mcannot add indices of unequal length\u001B[39m\u001B[38;5;124m\"\u001B[39m)\n\u001B[1;32m   1182\u001B[0m \u001B[38;5;28mself\u001B[39m \u001B[38;5;241m=\u001B[39m cast(\u001B[38;5;124m\"\u001B[39m\u001B[38;5;124mDatetimeArray | TimedeltaArray\u001B[39m\u001B[38;5;124m\"\u001B[39m, \u001B[38;5;28mself\u001B[39m)\n\u001B[1;32m   1184\u001B[0m \u001B[38;5;28mself\u001B[39m, other \u001B[38;5;241m=\u001B[39m \u001B[38;5;28mself\u001B[39m\u001B[38;5;241m.\u001B[39m_ensure_matching_resos(other)\n",
      "\u001B[0;31mValueError\u001B[0m: cannot add indices of unequal length"
     ]
    }
   ],
   "source": [
    "b.indexes['datetime'].levels[0] + b.indexes['datetime'].levels[1]"
   ],
   "metadata": {
    "collapsed": false,
    "ExecuteTime": {
     "end_time": "2023-06-12T16:57:41.631472Z",
     "start_time": "2023-06-12T16:57:40.902317Z"
    }
   }
  },
  {
   "cell_type": "code",
   "execution_count": null,
   "outputs": [],
   "source": [],
   "metadata": {
    "collapsed": false
   }
  },
  {
   "cell_type": "code",
   "execution_count": 11,
   "outputs": [],
   "source": [
    "SeasonPlot(xar_city=xar_city_users, n_days_season=7).plot()"
   ],
   "metadata": {
    "collapsed": false,
    "ExecuteTime": {
     "end_time": "2023-06-12T16:34:13.899358Z",
     "start_time": "2023-06-12T16:34:10.183654Z"
    }
   }
  },
  {
   "cell_type": "code",
   "execution_count": 15,
   "outputs": [],
   "source": [
    "users_vs_traffic_plot = UsersVsTraffic(xar_city_users=xar_city_users, xar_city_traffic=xar_city_traffic)\n",
    "users_vs_traffic_plot.plot()"
   ],
   "metadata": {
    "collapsed": false,
    "ExecuteTime": {
     "end_time": "2023-06-12T16:37:46.987467Z",
     "start_time": "2023-06-12T16:37:43.364203Z"
    }
   }
  },
  {
   "cell_type": "code",
   "execution_count": 14,
   "outputs": [
    {
     "name": "stderr",
     "output_type": "stream",
     "text": [
      "[Parallel(n_jobs=-1)]: Using backend LokyBackend with 12 concurrent workers.\n",
      "[Parallel(n_jobs=-1)]: Done  10 out of  10 | elapsed:  1.4min finished\n",
      "[Parallel(n_jobs=-1)]: Using backend LokyBackend with 12 concurrent workers.\n"
     ]
    },
    {
     "name": "stdout",
     "output_type": "stream",
     "text": [
      "2023-05-30 13:46:34,674 - SleepInferenceLogger - WARNING - Segmentation [ 0 30 40 60 61 96] has a segment that is too small to compute the cost. Cost is set to nan.\n",
      "2023-05-30 13:46:34,674 - SleepInferenceLogger - WARNING - Segmentation [ 0 30 40 60 62 96] has a segment that is too small to compute the cost. Cost is set to nan.\n",
      "2023-05-30 13:46:34,683 - SleepInferenceLogger - WARNING - Segmentation [ 0 29 44 61 62 96] has a segment that is too small to compute the cost. Cost is set to nan.\n",
      "2023-05-30 13:46:34,683 - SleepInferenceLogger - WARNING - Segmentation [ 0 29 44 61 63 96] has a segment that is too small to compute the cost. Cost is set to nan.\n"
     ]
    },
    {
     "name": "stderr",
     "output_type": "stream",
     "text": [
      "[Parallel(n_jobs=-1)]: Done  10 out of  10 | elapsed:    1.7s finished\n",
      "[Parallel(n_jobs=-1)]: Using backend LokyBackend with 12 concurrent workers.\n"
     ]
    },
    {
     "name": "stdout",
     "output_type": "stream",
     "text": [
      "2023-05-30 13:46:35,982 - SleepInferenceLogger - WARNING - Segmentation [ 0 30 40 60 61 96] has a segment that is too small to compute the cost. Cost is set to nan.\n",
      "2023-05-30 13:46:35,982 - SleepInferenceLogger - WARNING - Segmentation [ 0 30 40 60 62 96] has a segment that is too small to compute the cost. Cost is set to nan.\n",
      "2023-05-30 13:46:36,003 - SleepInferenceLogger - WARNING - Segmentation [ 0 29 44 61 62 96] has a segment that is too small to compute the cost. Cost is set to nan.\n",
      "2023-05-30 13:46:36,003 - SleepInferenceLogger - WARNING - Segmentation [ 0 29 44 61 63 96] has a segment that is too small to compute the cost. Cost is set to nan.\n"
     ]
    },
    {
     "name": "stderr",
     "output_type": "stream",
     "text": [
      "[Parallel(n_jobs=-1)]: Done  10 out of  10 | elapsed:    1.6s finished\n",
      "[Parallel(n_jobs=-1)]: Using backend LokyBackend with 12 concurrent workers.\n"
     ]
    },
    {
     "name": "stdout",
     "output_type": "stream",
     "text": [
      "2023-05-30 13:46:37,574 - SleepInferenceLogger - WARNING - Segmentation [ 0 30 40 60 61 96] has a segment that is too small to compute the cost. Cost is set to nan.\n",
      "2023-05-30 13:46:37,575 - SleepInferenceLogger - WARNING - Segmentation [ 0 30 40 60 62 96] has a segment that is too small to compute the cost. Cost is set to nan.\n",
      "2023-05-30 13:46:37,608 - SleepInferenceLogger - WARNING - Segmentation [ 0 29 44 61 62 96] has a segment that is too small to compute the cost. Cost is set to nan.\n",
      "2023-05-30 13:46:37,608 - SleepInferenceLogger - WARNING - Segmentation [ 0 29 44 61 63 96] has a segment that is too small to compute the cost. Cost is set to nan.\n"
     ]
    },
    {
     "name": "stderr",
     "output_type": "stream",
     "text": [
      "[Parallel(n_jobs=-1)]: Done  10 out of  10 | elapsed:    0.3s finished\n",
      "[Parallel(n_jobs=-1)]: Using backend LokyBackend with 12 concurrent workers.\n"
     ]
    },
    {
     "name": "stdout",
     "output_type": "stream",
     "text": [
      "2023-05-30 13:46:37,923 - SleepInferenceLogger - WARNING - Segmentation [ 0 30 40 60 61 96] has a segment that is too small to compute the cost. Cost is set to nan.\n",
      "2023-05-30 13:46:37,924 - SleepInferenceLogger - WARNING - Segmentation [ 0 30 40 60 62 96] has a segment that is too small to compute the cost. Cost is set to nan.\n",
      "2023-05-30 13:46:37,937 - SleepInferenceLogger - WARNING - Segmentation [ 0 31 43 60 62 96] has a segment that is too small to compute the cost. Cost is set to nan.\n",
      "2023-05-30 13:46:37,955 - SleepInferenceLogger - WARNING - Segmentation [ 0 29 44 61 62 96] has a segment that is too small to compute the cost. Cost is set to nan.\n",
      "2023-05-30 13:46:37,956 - SleepInferenceLogger - WARNING - Segmentation [ 0 29 44 61 63 96] has a segment that is too small to compute the cost. Cost is set to nan.\n"
     ]
    },
    {
     "name": "stderr",
     "output_type": "stream",
     "text": [
      "[Parallel(n_jobs=-1)]: Done  10 out of  10 | elapsed:    0.3s finished\n",
      "[Parallel(n_jobs=-1)]: Using backend LokyBackend with 12 concurrent workers.\n"
     ]
    },
    {
     "name": "stdout",
     "output_type": "stream",
     "text": [
      "2023-05-30 13:46:38,234 - SleepInferenceLogger - WARNING - Segmentation [ 0 30 40 60 61 96] has a segment that is too small to compute the cost. Cost is set to nan.\n",
      "2023-05-30 13:46:38,235 - SleepInferenceLogger - WARNING - Segmentation [ 0 30 40 60 62 96] has a segment that is too small to compute the cost. Cost is set to nan.\n",
      "2023-05-30 13:46:38,244 - SleepInferenceLogger - WARNING - Segmentation [ 0 31 43 60 62 96] has a segment that is too small to compute the cost. Cost is set to nan.\n",
      "2023-05-30 13:46:38,265 - SleepInferenceLogger - WARNING - Segmentation [ 0 30 44 61 62 96] has a segment that is too small to compute the cost. Cost is set to nan.\n",
      "2023-05-30 13:46:38,265 - SleepInferenceLogger - WARNING - Segmentation [ 0 30 44 61 63 96] has a segment that is too small to compute the cost. Cost is set to nan.\n"
     ]
    },
    {
     "name": "stderr",
     "output_type": "stream",
     "text": [
      "[Parallel(n_jobs=-1)]: Done  10 out of  10 | elapsed:    0.3s finished\n",
      "[Parallel(n_jobs=-1)]: Using backend LokyBackend with 12 concurrent workers.\n"
     ]
    },
    {
     "name": "stdout",
     "output_type": "stream",
     "text": [
      "2023-05-30 13:46:38,558 - SleepInferenceLogger - WARNING - Segmentation [ 0 30 40 60 61 96] has a segment that is too small to compute the cost. Cost is set to nan.\n",
      "2023-05-30 13:46:38,558 - SleepInferenceLogger - WARNING - Segmentation [ 0 30 40 60 62 96] has a segment that is too small to compute the cost. Cost is set to nan.\n",
      "2023-05-30 13:46:38,593 - SleepInferenceLogger - WARNING - Segmentation [ 0 30 44 61 62 96] has a segment that is too small to compute the cost. Cost is set to nan.\n",
      "2023-05-30 13:46:38,593 - SleepInferenceLogger - WARNING - Segmentation [ 0 30 44 61 63 96] has a segment that is too small to compute the cost. Cost is set to nan.\n",
      "2023-05-30 13:46:38,609 - SleepInferenceLogger - WARNING - Segmentation [ 0 31 43 60 62 96] has a segment that is too small to compute the cost. Cost is set to nan.\n"
     ]
    },
    {
     "name": "stderr",
     "output_type": "stream",
     "text": [
      "[Parallel(n_jobs=-1)]: Done  10 out of  10 | elapsed:    0.3s finished\n",
      "[Parallel(n_jobs=-1)]: Using backend LokyBackend with 12 concurrent workers.\n"
     ]
    },
    {
     "name": "stdout",
     "output_type": "stream",
     "text": [
      "2023-05-30 13:46:38,895 - SleepInferenceLogger - WARNING - Segmentation [ 0 31 43 60 62 96] has a segment that is too small to compute the cost. Cost is set to nan.\n",
      "2023-05-30 13:46:38,916 - SleepInferenceLogger - WARNING - Segmentation [ 0 30 44 61 62 96] has a segment that is too small to compute the cost. Cost is set to nan.\n",
      "2023-05-30 13:46:38,916 - SleepInferenceLogger - WARNING - Segmentation [ 0 30 44 61 63 96] has a segment that is too small to compute the cost. Cost is set to nan.\n",
      "2023-05-30 13:46:38,933 - SleepInferenceLogger - WARNING - Segmentation [ 0 30 40 60 61 96] has a segment that is too small to compute the cost. Cost is set to nan.\n",
      "2023-05-30 13:46:38,933 - SleepInferenceLogger - WARNING - Segmentation [ 0 30 40 60 62 96] has a segment that is too small to compute the cost. Cost is set to nan.\n"
     ]
    },
    {
     "name": "stderr",
     "output_type": "stream",
     "text": [
      "[Parallel(n_jobs=-1)]: Done  10 out of  10 | elapsed:    0.3s finished\n",
      "[Parallel(n_jobs=-1)]: Using backend LokyBackend with 12 concurrent workers.\n"
     ]
    },
    {
     "name": "stdout",
     "output_type": "stream",
     "text": [
      "2023-05-30 13:46:39,225 - SleepInferenceLogger - WARNING - Segmentation [ 0 30 40 60 61 96] has a segment that is too small to compute the cost. Cost is set to nan.\n",
      "2023-05-30 13:46:39,225 - SleepInferenceLogger - WARNING - Segmentation [ 0 30 40 60 62 96] has a segment that is too small to compute the cost. Cost is set to nan.\n",
      "2023-05-30 13:46:39,238 - SleepInferenceLogger - WARNING - Segmentation [ 0 31 43 60 62 96] has a segment that is too small to compute the cost. Cost is set to nan.\n",
      "2023-05-30 13:46:39,251 - SleepInferenceLogger - WARNING - Segmentation [ 0 30 44 61 62 96] has a segment that is too small to compute the cost. Cost is set to nan.\n",
      "2023-05-30 13:46:39,251 - SleepInferenceLogger - WARNING - Segmentation [ 0 30 44 61 63 96] has a segment that is too small to compute the cost. Cost is set to nan.\n"
     ]
    },
    {
     "name": "stderr",
     "output_type": "stream",
     "text": [
      "[Parallel(n_jobs=-1)]: Done  10 out of  10 | elapsed:    0.3s finished\n",
      "[Parallel(n_jobs=-1)]: Using backend LokyBackend with 12 concurrent workers.\n"
     ]
    },
    {
     "name": "stdout",
     "output_type": "stream",
     "text": [
      "2023-05-30 13:46:39,565 - SleepInferenceLogger - WARNING - Segmentation [ 0 30 40 60 61 96] has a segment that is too small to compute the cost. Cost is set to nan.\n",
      "2023-05-30 13:46:39,565 - SleepInferenceLogger - WARNING - Segmentation [ 0 30 40 60 62 96] has a segment that is too small to compute the cost. Cost is set to nan.\n",
      "2023-05-30 13:46:39,589 - SleepInferenceLogger - WARNING - Segmentation [ 0 30 44 61 62 96] has a segment that is too small to compute the cost. Cost is set to nan.\n",
      "2023-05-30 13:46:39,589 - SleepInferenceLogger - WARNING - Segmentation [ 0 30 44 61 63 96] has a segment that is too small to compute the cost. Cost is set to nan.\n",
      "2023-05-30 13:46:39,618 - SleepInferenceLogger - WARNING - Segmentation [ 0 29 47 61 62 96] has a segment that is too small to compute the cost. Cost is set to nan.\n",
      "2023-05-30 13:46:39,618 - SleepInferenceLogger - WARNING - Segmentation [ 0 29 47 61 63 96] has a segment that is too small to compute the cost. Cost is set to nan.\n"
     ]
    },
    {
     "name": "stderr",
     "output_type": "stream",
     "text": [
      "[Parallel(n_jobs=-1)]: Done  10 out of  10 | elapsed:    0.3s finished\n",
      "[Parallel(n_jobs=-1)]: Using backend LokyBackend with 12 concurrent workers.\n"
     ]
    },
    {
     "name": "stdout",
     "output_type": "stream",
     "text": [
      "2023-05-30 13:46:39,882 - SleepInferenceLogger - WARNING - Segmentation [ 0 30 40 60 61 96] has a segment that is too small to compute the cost. Cost is set to nan.\n",
      "2023-05-30 13:46:39,882 - SleepInferenceLogger - WARNING - Segmentation [ 0 30 40 60 62 96] has a segment that is too small to compute the cost. Cost is set to nan.\n",
      "2023-05-30 13:46:39,909 - SleepInferenceLogger - WARNING - Segmentation [ 0 29 47 61 62 96] has a segment that is too small to compute the cost. Cost is set to nan.\n",
      "2023-05-30 13:46:39,910 - SleepInferenceLogger - WARNING - Segmentation [ 0 29 47 61 63 96] has a segment that is too small to compute the cost. Cost is set to nan.\n",
      "2023-05-30 13:46:39,927 - SleepInferenceLogger - WARNING - Segmentation [ 0 30 44 61 62 96] has a segment that is too small to compute the cost. Cost is set to nan.\n",
      "2023-05-30 13:46:39,927 - SleepInferenceLogger - WARNING - Segmentation [ 0 30 44 61 63 96] has a segment that is too small to compute the cost. Cost is set to nan.\n"
     ]
    },
    {
     "name": "stderr",
     "output_type": "stream",
     "text": [
      "[Parallel(n_jobs=-1)]: Done  10 out of  10 | elapsed:    0.3s finished\n",
      "[Parallel(n_jobs=-1)]: Using backend LokyBackend with 12 concurrent workers.\n"
     ]
    },
    {
     "name": "stdout",
     "output_type": "stream",
     "text": [
      "2023-05-30 13:46:40,196 - SleepInferenceLogger - WARNING - Segmentation [ 0 30 40 60 61 96] has a segment that is too small to compute the cost. Cost is set to nan.\n",
      "2023-05-30 13:46:40,196 - SleepInferenceLogger - WARNING - Segmentation [ 0 30 40 60 62 96] has a segment that is too small to compute the cost. Cost is set to nan.\n",
      "2023-05-30 13:46:40,228 - SleepInferenceLogger - WARNING - Segmentation [ 0 30 44 61 62 96] has a segment that is too small to compute the cost. Cost is set to nan.\n",
      "2023-05-30 13:46:40,228 - SleepInferenceLogger - WARNING - Segmentation [ 0 30 44 61 63 96] has a segment that is too small to compute the cost. Cost is set to nan.\n",
      "2023-05-30 13:46:40,257 - SleepInferenceLogger - WARNING - Segmentation [ 0 29 47 61 62 96] has a segment that is too small to compute the cost. Cost is set to nan.\n",
      "2023-05-30 13:46:40,257 - SleepInferenceLogger - WARNING - Segmentation [ 0 29 47 61 63 96] has a segment that is too small to compute the cost. Cost is set to nan.\n"
     ]
    },
    {
     "name": "stderr",
     "output_type": "stream",
     "text": [
      "[Parallel(n_jobs=-1)]: Done  10 out of  10 | elapsed:    0.3s finished\n",
      "[Parallel(n_jobs=-1)]: Using backend LokyBackend with 12 concurrent workers.\n"
     ]
    },
    {
     "name": "stdout",
     "output_type": "stream",
     "text": [
      "2023-05-30 13:46:40,532 - SleepInferenceLogger - WARNING - Segmentation [ 0 30 40 60 61 96] has a segment that is too small to compute the cost. Cost is set to nan.\n",
      "2023-05-30 13:46:40,532 - SleepInferenceLogger - WARNING - Segmentation [ 0 30 40 60 62 96] has a segment that is too small to compute the cost. Cost is set to nan.\n",
      "2023-05-30 13:46:40,537 - SleepInferenceLogger - WARNING - Segmentation [ 0 29 47 61 62 96] has a segment that is too small to compute the cost. Cost is set to nan.\n",
      "2023-05-30 13:46:40,538 - SleepInferenceLogger - WARNING - Segmentation [ 0 29 47 61 63 96] has a segment that is too small to compute the cost. Cost is set to nan.\n",
      "2023-05-30 13:46:40,560 - SleepInferenceLogger - WARNING - Segmentation [ 0 30 44 61 62 96] has a segment that is too small to compute the cost. Cost is set to nan.\n",
      "2023-05-30 13:46:40,560 - SleepInferenceLogger - WARNING - Segmentation [ 0 30 44 61 63 96] has a segment that is too small to compute the cost. Cost is set to nan.\n"
     ]
    },
    {
     "name": "stderr",
     "output_type": "stream",
     "text": [
      "[Parallel(n_jobs=-1)]: Done  10 out of  10 | elapsed:    0.3s finished\n",
      "[Parallel(n_jobs=-1)]: Using backend LokyBackend with 12 concurrent workers.\n"
     ]
    },
    {
     "name": "stdout",
     "output_type": "stream",
     "text": [
      "2023-05-30 13:46:40,855 - SleepInferenceLogger - WARNING - Segmentation [ 0 30 40 60 61 96] has a segment that is too small to compute the cost. Cost is set to nan.\n",
      "2023-05-30 13:46:40,855 - SleepInferenceLogger - WARNING - Segmentation [ 0 30 40 60 62 96] has a segment that is too small to compute the cost. Cost is set to nan.\n",
      "2023-05-30 13:46:40,874 - SleepInferenceLogger - WARNING - Segmentation [ 0 29 47 61 62 96] has a segment that is too small to compute the cost. Cost is set to nan.\n",
      "2023-05-30 13:46:40,874 - SleepInferenceLogger - WARNING - Segmentation [ 0 29 47 61 63 96] has a segment that is too small to compute the cost. Cost is set to nan.\n",
      "2023-05-30 13:46:40,898 - SleepInferenceLogger - WARNING - Segmentation [ 0 30 44 61 62 96] has a segment that is too small to compute the cost. Cost is set to nan.\n",
      "2023-05-30 13:46:40,898 - SleepInferenceLogger - WARNING - Segmentation [ 0 30 44 61 63 96] has a segment that is too small to compute the cost. Cost is set to nan.\n"
     ]
    },
    {
     "name": "stderr",
     "output_type": "stream",
     "text": [
      "[Parallel(n_jobs=-1)]: Done  10 out of  10 | elapsed:    0.3s finished\n",
      "[Parallel(n_jobs=-1)]: Using backend LokyBackend with 12 concurrent workers.\n"
     ]
    },
    {
     "name": "stdout",
     "output_type": "stream",
     "text": [
      "2023-05-30 13:46:41,188 - SleepInferenceLogger - WARNING - Segmentation [ 0 29 47 61 62 96] has a segment that is too small to compute the cost. Cost is set to nan.\n",
      "2023-05-30 13:46:41,188 - SleepInferenceLogger - WARNING - Segmentation [ 0 29 47 61 63 96] has a segment that is too small to compute the cost. Cost is set to nan.\n",
      "2023-05-30 13:46:41,189 - SleepInferenceLogger - WARNING - Segmentation [ 0 30 40 60 61 96] has a segment that is too small to compute the cost. Cost is set to nan.\n",
      "2023-05-30 13:46:41,190 - SleepInferenceLogger - WARNING - Segmentation [ 0 30 40 60 62 96] has a segment that is too small to compute the cost. Cost is set to nan.\n",
      "2023-05-30 13:46:41,210 - SleepInferenceLogger - WARNING - Segmentation [ 0 30 44 61 62 96] has a segment that is too small to compute the cost. Cost is set to nan.\n",
      "2023-05-30 13:46:41,211 - SleepInferenceLogger - WARNING - Segmentation [ 0 30 44 61 63 96] has a segment that is too small to compute the cost. Cost is set to nan.\n"
     ]
    },
    {
     "name": "stderr",
     "output_type": "stream",
     "text": [
      "[Parallel(n_jobs=-1)]: Done  10 out of  10 | elapsed:    0.3s finished\n",
      "[Parallel(n_jobs=-1)]: Using backend LokyBackend with 12 concurrent workers.\n"
     ]
    },
    {
     "name": "stdout",
     "output_type": "stream",
     "text": [
      "2023-05-30 13:46:41,506 - SleepInferenceLogger - WARNING - Segmentation [ 0 30 40 60 61 96] has a segment that is too small to compute the cost. Cost is set to nan.\n",
      "2023-05-30 13:46:41,506 - SleepInferenceLogger - WARNING - Segmentation [ 0 30 40 60 62 96] has a segment that is too small to compute the cost. Cost is set to nan.\n",
      "2023-05-30 13:46:41,517 - SleepInferenceLogger - WARNING - Segmentation [ 0 29 47 61 62 96] has a segment that is too small to compute the cost. Cost is set to nan.\n",
      "2023-05-30 13:46:41,518 - SleepInferenceLogger - WARNING - Segmentation [ 0 29 47 61 63 96] has a segment that is too small to compute the cost. Cost is set to nan.\n",
      "2023-05-30 13:46:41,540 - SleepInferenceLogger - WARNING - Segmentation [ 0 30 44 60 62 96] has a segment that is too small to compute the cost. Cost is set to nan.\n"
     ]
    },
    {
     "name": "stderr",
     "output_type": "stream",
     "text": [
      "[Parallel(n_jobs=-1)]: Done  10 out of  10 | elapsed:    0.3s finished\n",
      "[Parallel(n_jobs=-1)]: Using backend LokyBackend with 12 concurrent workers.\n"
     ]
    },
    {
     "name": "stdout",
     "output_type": "stream",
     "text": [
      "2023-05-30 13:46:41,845 - SleepInferenceLogger - WARNING - Segmentation [ 0 29 47 61 62 96] has a segment that is too small to compute the cost. Cost is set to nan.\n",
      "2023-05-30 13:46:41,846 - SleepInferenceLogger - WARNING - Segmentation [ 0 29 47 61 63 96] has a segment that is too small to compute the cost. Cost is set to nan.\n",
      "2023-05-30 13:46:41,853 - SleepInferenceLogger - WARNING - Segmentation [ 0 30 44 60 62 96] has a segment that is too small to compute the cost. Cost is set to nan.\n",
      "2023-05-30 13:46:41,859 - SleepInferenceLogger - WARNING - Segmentation [ 0 30 40 60 61 96] has a segment that is too small to compute the cost. Cost is set to nan.\n",
      "2023-05-30 13:46:41,859 - SleepInferenceLogger - WARNING - Segmentation [ 0 30 40 60 62 96] has a segment that is too small to compute the cost. Cost is set to nan.\n"
     ]
    },
    {
     "name": "stderr",
     "output_type": "stream",
     "text": [
      "[Parallel(n_jobs=-1)]: Done  10 out of  10 | elapsed:    0.4s finished\n",
      "[Parallel(n_jobs=-1)]: Using backend LokyBackend with 12 concurrent workers.\n"
     ]
    },
    {
     "name": "stdout",
     "output_type": "stream",
     "text": [
      "2023-05-30 13:46:42,197 - SleepInferenceLogger - WARNING - Segmentation [ 0 29 47 61 62 96] has a segment that is too small to compute the cost. Cost is set to nan.\n",
      "2023-05-30 13:46:42,198 - SleepInferenceLogger - WARNING - Segmentation [ 0 29 47 61 63 96] has a segment that is too small to compute the cost. Cost is set to nan.\n",
      "2023-05-30 13:46:42,206 - SleepInferenceLogger - WARNING - Segmentation [ 0 30 44 60 62 96] has a segment that is too small to compute the cost. Cost is set to nan.\n",
      "2023-05-30 13:46:42,220 - SleepInferenceLogger - WARNING - Segmentation [ 0 30 40 60 61 96] has a segment that is too small to compute the cost. Cost is set to nan.\n",
      "2023-05-30 13:46:42,220 - SleepInferenceLogger - WARNING - Segmentation [ 0 30 40 60 62 96] has a segment that is too small to compute the cost. Cost is set to nan.\n"
     ]
    },
    {
     "name": "stderr",
     "output_type": "stream",
     "text": [
      "[Parallel(n_jobs=-1)]: Done  10 out of  10 | elapsed:    0.4s finished\n",
      "[Parallel(n_jobs=-1)]: Using backend LokyBackend with 12 concurrent workers.\n"
     ]
    },
    {
     "name": "stdout",
     "output_type": "stream",
     "text": [
      "2023-05-30 13:46:42,539 - SleepInferenceLogger - WARNING - Segmentation [ 0 30 40 60 61 96] has a segment that is too small to compute the cost. Cost is set to nan.\n",
      "2023-05-30 13:46:42,539 - SleepInferenceLogger - WARNING - Segmentation [ 0 30 40 60 62 96] has a segment that is too small to compute the cost. Cost is set to nan.\n",
      "2023-05-30 13:46:42,552 - SleepInferenceLogger - WARNING - Segmentation [ 0 29 47 61 62 96] has a segment that is too small to compute the cost. Cost is set to nan.\n",
      "2023-05-30 13:46:42,552 - SleepInferenceLogger - WARNING - Segmentation [ 0 29 47 61 63 96] has a segment that is too small to compute the cost. Cost is set to nan.\n",
      "2023-05-30 13:46:42,563 - SleepInferenceLogger - WARNING - Segmentation [ 0 30 44 60 62 96] has a segment that is too small to compute the cost. Cost is set to nan.\n"
     ]
    },
    {
     "name": "stderr",
     "output_type": "stream",
     "text": [
      "[Parallel(n_jobs=-1)]: Done  10 out of  10 | elapsed:    0.3s finished\n",
      "[Parallel(n_jobs=-1)]: Using backend LokyBackend with 12 concurrent workers.\n"
     ]
    },
    {
     "name": "stdout",
     "output_type": "stream",
     "text": [
      "2023-05-30 13:46:42,857 - SleepInferenceLogger - WARNING - Segmentation [ 0 30 40 60 61 96] has a segment that is too small to compute the cost. Cost is set to nan.\n",
      "2023-05-30 13:46:42,858 - SleepInferenceLogger - WARNING - Segmentation [ 0 30 40 60 62 96] has a segment that is too small to compute the cost. Cost is set to nan.\n",
      "2023-05-30 13:46:42,868 - SleepInferenceLogger - WARNING - Segmentation [ 0 29 47 61 62 96] has a segment that is too small to compute the cost. Cost is set to nan.\n",
      "2023-05-30 13:46:42,868 - SleepInferenceLogger - WARNING - Segmentation [ 0 29 47 61 63 96] has a segment that is too small to compute the cost. Cost is set to nan.\n",
      "2023-05-30 13:46:42,930 - SleepInferenceLogger - WARNING - Segmentation [ 0 30 44 60 62 96] has a segment that is too small to compute the cost. Cost is set to nan.\n"
     ]
    },
    {
     "name": "stderr",
     "output_type": "stream",
     "text": [
      "[Parallel(n_jobs=-1)]: Done  10 out of  10 | elapsed:    0.3s finished\n",
      "[Parallel(n_jobs=-1)]: Using backend LokyBackend with 12 concurrent workers.\n"
     ]
    },
    {
     "name": "stdout",
     "output_type": "stream",
     "text": [
      "2023-05-30 13:46:43,180 - SleepInferenceLogger - WARNING - Segmentation [ 0 30 40 60 61 96] has a segment that is too small to compute the cost. Cost is set to nan.\n",
      "2023-05-30 13:46:43,181 - SleepInferenceLogger - WARNING - Segmentation [ 0 30 40 60 62 96] has a segment that is too small to compute the cost. Cost is set to nan.\n",
      "2023-05-30 13:46:43,202 - SleepInferenceLogger - WARNING - Segmentation [ 0 29 47 61 62 96] has a segment that is too small to compute the cost. Cost is set to nan.\n",
      "2023-05-30 13:46:43,202 - SleepInferenceLogger - WARNING - Segmentation [ 0 29 47 61 63 96] has a segment that is too small to compute the cost. Cost is set to nan.\n",
      "2023-05-30 13:46:43,213 - SleepInferenceLogger - WARNING - Segmentation [ 0 30 44 60 62 96] has a segment that is too small to compute the cost. Cost is set to nan.\n"
     ]
    },
    {
     "name": "stderr",
     "output_type": "stream",
     "text": [
      "[Parallel(n_jobs=-1)]: Done  10 out of  10 | elapsed:    0.4s finished\n",
      "[Parallel(n_jobs=-1)]: Using backend LokyBackend with 12 concurrent workers.\n"
     ]
    },
    {
     "name": "stdout",
     "output_type": "stream",
     "text": [
      "2023-05-30 13:46:43,542 - SleepInferenceLogger - WARNING - Segmentation [ 0 29 47 61 62 96] has a segment that is too small to compute the cost. Cost is set to nan.\n",
      "2023-05-30 13:46:43,542 - SleepInferenceLogger - WARNING - Segmentation [ 0 29 47 61 63 96] has a segment that is too small to compute the cost. Cost is set to nan.\n",
      "2023-05-30 13:46:43,570 - SleepInferenceLogger - WARNING - Segmentation [ 0 30 44 60 62 96] has a segment that is too small to compute the cost. Cost is set to nan.\n"
     ]
    },
    {
     "name": "stderr",
     "output_type": "stream",
     "text": [
      "[Parallel(n_jobs=-1)]: Done  10 out of  10 | elapsed:    0.3s finished\n",
      "[Parallel(n_jobs=-1)]: Using backend LokyBackend with 12 concurrent workers.\n"
     ]
    },
    {
     "name": "stdout",
     "output_type": "stream",
     "text": [
      "2023-05-30 13:46:43,900 - SleepInferenceLogger - WARNING - Segmentation [ 0 30 44 60 62 96] has a segment that is too small to compute the cost. Cost is set to nan.\n",
      "2023-05-30 13:46:43,936 - SleepInferenceLogger - WARNING - Segmentation [ 0 29 47 61 62 96] has a segment that is too small to compute the cost. Cost is set to nan.\n",
      "2023-05-30 13:46:43,936 - SleepInferenceLogger - WARNING - Segmentation [ 0 29 47 61 63 96] has a segment that is too small to compute the cost. Cost is set to nan.\n"
     ]
    },
    {
     "name": "stderr",
     "output_type": "stream",
     "text": [
      "[Parallel(n_jobs=-1)]: Done  10 out of  10 | elapsed:    0.3s finished\n",
      "[Parallel(n_jobs=-1)]: Using backend LokyBackend with 12 concurrent workers.\n"
     ]
    },
    {
     "name": "stdout",
     "output_type": "stream",
     "text": [
      "2023-05-30 13:46:44,254 - SleepInferenceLogger - WARNING - Segmentation [ 0 30 44 60 62 96] has a segment that is too small to compute the cost. Cost is set to nan.\n",
      "2023-05-30 13:46:44,281 - SleepInferenceLogger - WARNING - Segmentation [ 0 29 47 61 62 96] has a segment that is too small to compute the cost. Cost is set to nan.\n",
      "2023-05-30 13:46:44,282 - SleepInferenceLogger - WARNING - Segmentation [ 0 29 47 61 63 96] has a segment that is too small to compute the cost. Cost is set to nan.\n"
     ]
    },
    {
     "name": "stderr",
     "output_type": "stream",
     "text": [
      "[Parallel(n_jobs=-1)]: Done  10 out of  10 | elapsed:    0.3s finished\n",
      "[Parallel(n_jobs=-1)]: Using backend LokyBackend with 12 concurrent workers.\n"
     ]
    },
    {
     "name": "stdout",
     "output_type": "stream",
     "text": [
      "2023-05-30 13:46:44,573 - SleepInferenceLogger - WARNING - Segmentation [ 0 29 47 61 62 96] has a segment that is too small to compute the cost. Cost is set to nan.\n",
      "2023-05-30 13:46:44,574 - SleepInferenceLogger - WARNING - Segmentation [ 0 29 47 61 63 96] has a segment that is too small to compute the cost. Cost is set to nan.\n",
      "2023-05-30 13:46:44,585 - SleepInferenceLogger - WARNING - Segmentation [ 0 30 44 60 62 96] has a segment that is too small to compute the cost. Cost is set to nan.\n"
     ]
    },
    {
     "name": "stderr",
     "output_type": "stream",
     "text": [
      "[Parallel(n_jobs=-1)]: Done  10 out of  10 | elapsed:    0.3s finished\n",
      "[Parallel(n_jobs=-1)]: Using backend LokyBackend with 12 concurrent workers.\n"
     ]
    },
    {
     "name": "stdout",
     "output_type": "stream",
     "text": [
      "2023-05-30 13:46:44,896 - SleepInferenceLogger - WARNING - Segmentation [ 0 29 47 61 62 96] has a segment that is too small to compute the cost. Cost is set to nan.\n",
      "2023-05-30 13:46:44,897 - SleepInferenceLogger - WARNING - Segmentation [ 0 29 47 61 63 96] has a segment that is too small to compute the cost. Cost is set to nan.\n",
      "2023-05-30 13:46:44,914 - SleepInferenceLogger - WARNING - Segmentation [ 0 30 44 60 62 96] has a segment that is too small to compute the cost. Cost is set to nan.\n"
     ]
    },
    {
     "name": "stderr",
     "output_type": "stream",
     "text": [
      "[Parallel(n_jobs=-1)]: Done  10 out of  10 | elapsed:    0.3s finished\n",
      "[Parallel(n_jobs=-1)]: Using backend LokyBackend with 12 concurrent workers.\n"
     ]
    },
    {
     "name": "stdout",
     "output_type": "stream",
     "text": [
      "2023-05-30 13:46:45,207 - SleepInferenceLogger - WARNING - Segmentation [ 0 29 47 61 62 96] has a segment that is too small to compute the cost. Cost is set to nan.\n",
      "2023-05-30 13:46:45,207 - SleepInferenceLogger - WARNING - Segmentation [ 0 29 47 61 63 96] has a segment that is too small to compute the cost. Cost is set to nan.\n",
      "2023-05-30 13:46:45,227 - SleepInferenceLogger - WARNING - Segmentation [ 0 30 44 60 62 96] has a segment that is too small to compute the cost. Cost is set to nan.\n"
     ]
    },
    {
     "name": "stderr",
     "output_type": "stream",
     "text": [
      "[Parallel(n_jobs=-1)]: Done  10 out of  10 | elapsed:    0.3s finished\n",
      "[Parallel(n_jobs=-1)]: Using backend LokyBackend with 12 concurrent workers.\n"
     ]
    },
    {
     "name": "stdout",
     "output_type": "stream",
     "text": [
      "2023-05-30 13:46:45,529 - SleepInferenceLogger - WARNING - Segmentation [ 0 29 47 61 62 96] has a segment that is too small to compute the cost. Cost is set to nan.\n",
      "2023-05-30 13:46:45,529 - SleepInferenceLogger - WARNING - Segmentation [ 0 29 47 61 63 96] has a segment that is too small to compute the cost. Cost is set to nan.\n",
      "2023-05-30 13:46:45,561 - SleepInferenceLogger - WARNING - Segmentation [ 0 30 44 60 62 96] has a segment that is too small to compute the cost. Cost is set to nan.\n"
     ]
    },
    {
     "name": "stderr",
     "output_type": "stream",
     "text": [
      "[Parallel(n_jobs=-1)]: Done  10 out of  10 | elapsed:    0.3s finished\n",
      "[Parallel(n_jobs=-1)]: Using backend LokyBackend with 12 concurrent workers.\n"
     ]
    },
    {
     "name": "stdout",
     "output_type": "stream",
     "text": [
      "2023-05-30 13:46:45,868 - SleepInferenceLogger - WARNING - Segmentation [ 0 29 47 61 62 96] has a segment that is too small to compute the cost. Cost is set to nan.\n",
      "2023-05-30 13:46:45,868 - SleepInferenceLogger - WARNING - Segmentation [ 0 29 47 61 63 96] has a segment that is too small to compute the cost. Cost is set to nan.\n",
      "2023-05-30 13:46:45,874 - SleepInferenceLogger - WARNING - Segmentation [ 0 30 44 60 62 96] has a segment that is too small to compute the cost. Cost is set to nan.\n"
     ]
    },
    {
     "name": "stderr",
     "output_type": "stream",
     "text": [
      "[Parallel(n_jobs=-1)]: Done  10 out of  10 | elapsed:    0.3s finished\n",
      "[Parallel(n_jobs=-1)]: Using backend LokyBackend with 12 concurrent workers.\n"
     ]
    },
    {
     "name": "stdout",
     "output_type": "stream",
     "text": [
      "2023-05-30 13:46:46,185 - SleepInferenceLogger - WARNING - Segmentation [ 0 29 47 61 62 96] has a segment that is too small to compute the cost. Cost is set to nan.\n",
      "2023-05-30 13:46:46,185 - SleepInferenceLogger - WARNING - Segmentation [ 0 29 47 61 63 96] has a segment that is too small to compute the cost. Cost is set to nan.\n",
      "2023-05-30 13:46:46,210 - SleepInferenceLogger - WARNING - Segmentation [ 0 30 44 60 62 96] has a segment that is too small to compute the cost. Cost is set to nan.\n"
     ]
    },
    {
     "name": "stderr",
     "output_type": "stream",
     "text": [
      "[Parallel(n_jobs=-1)]: Done  10 out of  10 | elapsed:    0.3s finished\n",
      "[Parallel(n_jobs=-1)]: Using backend LokyBackend with 12 concurrent workers.\n"
     ]
    },
    {
     "name": "stdout",
     "output_type": "stream",
     "text": [
      "2023-05-30 13:46:46,498 - SleepInferenceLogger - WARNING - Segmentation [ 0 29 47 61 62 96] has a segment that is too small to compute the cost. Cost is set to nan.\n",
      "2023-05-30 13:46:46,498 - SleepInferenceLogger - WARNING - Segmentation [ 0 29 47 61 63 96] has a segment that is too small to compute the cost. Cost is set to nan.\n",
      "2023-05-30 13:46:46,533 - SleepInferenceLogger - WARNING - Segmentation [ 0 30 46 62 63 96] has a segment that is too small to compute the cost. Cost is set to nan.\n",
      "2023-05-30 13:46:46,534 - SleepInferenceLogger - WARNING - Segmentation [ 0 30 46 62 64 96] has a segment that is too small to compute the cost. Cost is set to nan.\n"
     ]
    },
    {
     "name": "stderr",
     "output_type": "stream",
     "text": [
      "[Parallel(n_jobs=-1)]: Done  10 out of  10 | elapsed:    0.3s finished\n",
      "[Parallel(n_jobs=-1)]: Using backend LokyBackend with 12 concurrent workers.\n"
     ]
    },
    {
     "name": "stdout",
     "output_type": "stream",
     "text": [
      "2023-05-30 13:46:46,844 - SleepInferenceLogger - WARNING - Segmentation [ 0 29 47 61 62 96] has a segment that is too small to compute the cost. Cost is set to nan.\n",
      "2023-05-30 13:46:46,844 - SleepInferenceLogger - WARNING - Segmentation [ 0 29 47 61 63 96] has a segment that is too small to compute the cost. Cost is set to nan.\n",
      "2023-05-30 13:46:46,849 - SleepInferenceLogger - WARNING - Segmentation [ 0 30 46 62 63 96] has a segment that is too small to compute the cost. Cost is set to nan.\n",
      "2023-05-30 13:46:46,850 - SleepInferenceLogger - WARNING - Segmentation [ 0 30 46 62 64 96] has a segment that is too small to compute the cost. Cost is set to nan.\n"
     ]
    },
    {
     "name": "stderr",
     "output_type": "stream",
     "text": [
      "[Parallel(n_jobs=-1)]: Done  10 out of  10 | elapsed:    0.3s finished\n",
      "[Parallel(n_jobs=-1)]: Using backend LokyBackend with 12 concurrent workers.\n"
     ]
    },
    {
     "name": "stdout",
     "output_type": "stream",
     "text": [
      "2023-05-30 13:46:47,180 - SleepInferenceLogger - WARNING - Segmentation [ 0 30 46 61 63 96] has a segment that is too small to compute the cost. Cost is set to nan.\n",
      "2023-05-30 13:46:47,194 - SleepInferenceLogger - WARNING - Segmentation [ 0 29 47 61 62 96] has a segment that is too small to compute the cost. Cost is set to nan.\n",
      "2023-05-30 13:46:47,194 - SleepInferenceLogger - WARNING - Segmentation [ 0 29 47 61 63 96] has a segment that is too small to compute the cost. Cost is set to nan.\n"
     ]
    },
    {
     "name": "stderr",
     "output_type": "stream",
     "text": [
      "[Parallel(n_jobs=-1)]: Done  10 out of  10 | elapsed:    0.3s finished\n",
      "[Parallel(n_jobs=-1)]: Using backend LokyBackend with 12 concurrent workers.\n"
     ]
    },
    {
     "name": "stdout",
     "output_type": "stream",
     "text": [
      "2023-05-30 13:46:47,504 - SleepInferenceLogger - WARNING - Segmentation [ 0 29 47 61 62 96] has a segment that is too small to compute the cost. Cost is set to nan.\n",
      "2023-05-30 13:46:47,504 - SleepInferenceLogger - WARNING - Segmentation [ 0 29 47 61 63 96] has a segment that is too small to compute the cost. Cost is set to nan.\n",
      "2023-05-30 13:46:47,558 - SleepInferenceLogger - WARNING - Segmentation [ 0 30 46 61 63 96] has a segment that is too small to compute the cost. Cost is set to nan.\n"
     ]
    },
    {
     "name": "stderr",
     "output_type": "stream",
     "text": [
      "[Parallel(n_jobs=-1)]: Done  10 out of  10 | elapsed:    0.4s finished\n",
      "[Parallel(n_jobs=-1)]: Using backend LokyBackend with 12 concurrent workers.\n"
     ]
    },
    {
     "name": "stdout",
     "output_type": "stream",
     "text": [
      "2023-05-30 13:46:47,877 - SleepInferenceLogger - WARNING - Segmentation [ 0 29 47 61 62 96] has a segment that is too small to compute the cost. Cost is set to nan.\n",
      "2023-05-30 13:46:47,877 - SleepInferenceLogger - WARNING - Segmentation [ 0 29 47 61 63 96] has a segment that is too small to compute the cost. Cost is set to nan.\n",
      "2023-05-30 13:46:47,891 - SleepInferenceLogger - WARNING - Segmentation [ 0 30 46 61 63 96] has a segment that is too small to compute the cost. Cost is set to nan.\n"
     ]
    },
    {
     "name": "stderr",
     "output_type": "stream",
     "text": [
      "[Parallel(n_jobs=-1)]: Done  10 out of  10 | elapsed:    0.3s finished\n",
      "[Parallel(n_jobs=-1)]: Using backend LokyBackend with 12 concurrent workers.\n"
     ]
    },
    {
     "name": "stdout",
     "output_type": "stream",
     "text": [
      "2023-05-30 13:46:48,188 - SleepInferenceLogger - WARNING - Segmentation [ 0 29 47 61 62 96] has a segment that is too small to compute the cost. Cost is set to nan.\n",
      "2023-05-30 13:46:48,188 - SleepInferenceLogger - WARNING - Segmentation [ 0 29 47 61 63 96] has a segment that is too small to compute the cost. Cost is set to nan.\n",
      "2023-05-30 13:46:48,200 - SleepInferenceLogger - WARNING - Segmentation [ 0 30 46 61 63 96] has a segment that is too small to compute the cost. Cost is set to nan.\n"
     ]
    },
    {
     "name": "stderr",
     "output_type": "stream",
     "text": [
      "[Parallel(n_jobs=-1)]: Done  10 out of  10 | elapsed:    0.3s finished\n",
      "[Parallel(n_jobs=-1)]: Using backend LokyBackend with 12 concurrent workers.\n"
     ]
    },
    {
     "name": "stdout",
     "output_type": "stream",
     "text": [
      "2023-05-30 13:46:48,523 - SleepInferenceLogger - WARNING - Segmentation [ 0 29 47 61 62 96] has a segment that is too small to compute the cost. Cost is set to nan.\n",
      "2023-05-30 13:46:48,523 - SleepInferenceLogger - WARNING - Segmentation [ 0 29 47 61 63 96] has a segment that is too small to compute the cost. Cost is set to nan.\n",
      "2023-05-30 13:46:48,523 - SleepInferenceLogger - WARNING - Segmentation [ 0 30 46 61 63 96] has a segment that is too small to compute the cost. Cost is set to nan.\n"
     ]
    },
    {
     "name": "stderr",
     "output_type": "stream",
     "text": [
      "[Parallel(n_jobs=-1)]: Done  10 out of  10 | elapsed:    0.3s finished\n",
      "[Parallel(n_jobs=-1)]: Using backend LokyBackend with 12 concurrent workers.\n"
     ]
    },
    {
     "name": "stdout",
     "output_type": "stream",
     "text": [
      "2023-05-30 13:46:48,853 - SleepInferenceLogger - WARNING - Segmentation [ 0 29 47 61 62 96] has a segment that is too small to compute the cost. Cost is set to nan.\n",
      "2023-05-30 13:46:48,854 - SleepInferenceLogger - WARNING - Segmentation [ 0 29 47 61 63 96] has a segment that is too small to compute the cost. Cost is set to nan.\n",
      "2023-05-30 13:46:48,868 - SleepInferenceLogger - WARNING - Segmentation [ 0 30 46 61 63 96] has a segment that is too small to compute the cost. Cost is set to nan.\n"
     ]
    },
    {
     "name": "stderr",
     "output_type": "stream",
     "text": [
      "[Parallel(n_jobs=-1)]: Done  10 out of  10 | elapsed:    0.3s finished\n",
      "[Parallel(n_jobs=-1)]: Using backend LokyBackend with 12 concurrent workers.\n"
     ]
    },
    {
     "name": "stdout",
     "output_type": "stream",
     "text": [
      "2023-05-30 13:46:49,184 - SleepInferenceLogger - WARNING - Segmentation [ 0 29 47 61 62 96] has a segment that is too small to compute the cost. Cost is set to nan.\n",
      "2023-05-30 13:46:49,184 - SleepInferenceLogger - WARNING - Segmentation [ 0 29 47 61 63 96] has a segment that is too small to compute the cost. Cost is set to nan.\n",
      "2023-05-30 13:46:49,206 - SleepInferenceLogger - WARNING - Segmentation [ 0 30 46 61 63 96] has a segment that is too small to compute the cost. Cost is set to nan.\n"
     ]
    },
    {
     "name": "stderr",
     "output_type": "stream",
     "text": [
      "[Parallel(n_jobs=-1)]: Done  10 out of  10 | elapsed:    0.3s finished\n",
      "[Parallel(n_jobs=-1)]: Using backend LokyBackend with 12 concurrent workers.\n"
     ]
    },
    {
     "name": "stdout",
     "output_type": "stream",
     "text": [
      "2023-05-30 13:46:49,498 - SleepInferenceLogger - WARNING - Segmentation [ 0 29 47 61 62 96] has a segment that is too small to compute the cost. Cost is set to nan.\n",
      "2023-05-30 13:46:49,499 - SleepInferenceLogger - WARNING - Segmentation [ 0 29 47 61 63 96] has a segment that is too small to compute the cost. Cost is set to nan.\n",
      "2023-05-30 13:46:49,527 - SleepInferenceLogger - WARNING - Segmentation [ 0 30 46 61 63 96] has a segment that is too small to compute the cost. Cost is set to nan.\n"
     ]
    },
    {
     "name": "stderr",
     "output_type": "stream",
     "text": [
      "[Parallel(n_jobs=-1)]: Done  10 out of  10 | elapsed:    0.3s finished\n",
      "[Parallel(n_jobs=-1)]: Using backend LokyBackend with 12 concurrent workers.\n"
     ]
    },
    {
     "name": "stdout",
     "output_type": "stream",
     "text": [
      "2023-05-30 13:46:49,833 - SleepInferenceLogger - WARNING - Segmentation [ 0 29 47 61 62 96] has a segment that is too small to compute the cost. Cost is set to nan.\n",
      "2023-05-30 13:46:49,833 - SleepInferenceLogger - WARNING - Segmentation [ 0 29 47 61 63 96] has a segment that is too small to compute the cost. Cost is set to nan.\n",
      "2023-05-30 13:46:49,884 - SleepInferenceLogger - WARNING - Segmentation [ 0 30 46 61 63 96] has a segment that is too small to compute the cost. Cost is set to nan.\n"
     ]
    },
    {
     "name": "stderr",
     "output_type": "stream",
     "text": [
      "[Parallel(n_jobs=-1)]: Done  10 out of  10 | elapsed:    0.3s finished\n",
      "[Parallel(n_jobs=-1)]: Using backend LokyBackend with 12 concurrent workers.\n"
     ]
    },
    {
     "name": "stdout",
     "output_type": "stream",
     "text": [
      "2023-05-30 13:46:50,167 - SleepInferenceLogger - WARNING - Segmentation [ 0 29 47 61 62 96] has a segment that is too small to compute the cost. Cost is set to nan.\n",
      "2023-05-30 13:46:50,167 - SleepInferenceLogger - WARNING - Segmentation [ 0 29 47 61 63 96] has a segment that is too small to compute the cost. Cost is set to nan.\n",
      "2023-05-30 13:46:50,178 - SleepInferenceLogger - WARNING - Segmentation [ 0 30 46 61 63 96] has a segment that is too small to compute the cost. Cost is set to nan.\n"
     ]
    },
    {
     "name": "stderr",
     "output_type": "stream",
     "text": [
      "[Parallel(n_jobs=-1)]: Done  10 out of  10 | elapsed:    0.3s finished\n",
      "[Parallel(n_jobs=-1)]: Using backend LokyBackend with 12 concurrent workers.\n"
     ]
    },
    {
     "name": "stdout",
     "output_type": "stream",
     "text": [
      "2023-05-30 13:46:50,499 - SleepInferenceLogger - WARNING - Segmentation [ 0 30 46 61 63 96] has a segment that is too small to compute the cost. Cost is set to nan.\n",
      "2023-05-30 13:46:50,527 - SleepInferenceLogger - WARNING - Segmentation [ 0 29 47 61 62 96] has a segment that is too small to compute the cost. Cost is set to nan.\n",
      "2023-05-30 13:46:50,527 - SleepInferenceLogger - WARNING - Segmentation [ 0 29 47 61 63 96] has a segment that is too small to compute the cost. Cost is set to nan.\n"
     ]
    },
    {
     "name": "stderr",
     "output_type": "stream",
     "text": [
      "[Parallel(n_jobs=-1)]: Done  10 out of  10 | elapsed:    0.3s finished\n",
      "[Parallel(n_jobs=-1)]: Using backend LokyBackend with 12 concurrent workers.\n"
     ]
    },
    {
     "name": "stdout",
     "output_type": "stream",
     "text": [
      "2023-05-30 13:46:50,807 - SleepInferenceLogger - WARNING - Segmentation [ 0 29 47 61 62 96] has a segment that is too small to compute the cost. Cost is set to nan.\n",
      "2023-05-30 13:46:50,808 - SleepInferenceLogger - WARNING - Segmentation [ 0 29 47 61 63 96] has a segment that is too small to compute the cost. Cost is set to nan.\n",
      "2023-05-30 13:46:50,821 - SleepInferenceLogger - WARNING - Segmentation [ 0 30 46 61 63 96] has a segment that is too small to compute the cost. Cost is set to nan.\n"
     ]
    },
    {
     "name": "stderr",
     "output_type": "stream",
     "text": [
      "[Parallel(n_jobs=-1)]: Done  10 out of  10 | elapsed:    0.3s finished\n",
      "[Parallel(n_jobs=-1)]: Using backend LokyBackend with 12 concurrent workers.\n"
     ]
    },
    {
     "name": "stdout",
     "output_type": "stream",
     "text": [
      "2023-05-30 13:46:51,137 - SleepInferenceLogger - WARNING - Segmentation [ 0 30 46 61 63 96] has a segment that is too small to compute the cost. Cost is set to nan.\n",
      "2023-05-30 13:46:51,142 - SleepInferenceLogger - WARNING - Segmentation [ 0 29 47 61 62 96] has a segment that is too small to compute the cost. Cost is set to nan.\n",
      "2023-05-30 13:46:51,143 - SleepInferenceLogger - WARNING - Segmentation [ 0 29 47 61 63 96] has a segment that is too small to compute the cost. Cost is set to nan.\n"
     ]
    },
    {
     "name": "stderr",
     "output_type": "stream",
     "text": [
      "[Parallel(n_jobs=-1)]: Done  10 out of  10 | elapsed:    0.3s finished\n",
      "[Parallel(n_jobs=-1)]: Using backend LokyBackend with 12 concurrent workers.\n"
     ]
    },
    {
     "name": "stdout",
     "output_type": "stream",
     "text": [
      "2023-05-30 13:46:51,473 - SleepInferenceLogger - WARNING - Segmentation [ 0 29 47 61 62 96] has a segment that is too small to compute the cost. Cost is set to nan.\n",
      "2023-05-30 13:46:51,473 - SleepInferenceLogger - WARNING - Segmentation [ 0 29 47 61 63 96] has a segment that is too small to compute the cost. Cost is set to nan.\n",
      "2023-05-30 13:46:51,477 - SleepInferenceLogger - WARNING - Segmentation [ 0 30 46 61 63 96] has a segment that is too small to compute the cost. Cost is set to nan.\n"
     ]
    },
    {
     "name": "stderr",
     "output_type": "stream",
     "text": [
      "[Parallel(n_jobs=-1)]: Done  10 out of  10 | elapsed:    0.3s finished\n",
      "[Parallel(n_jobs=-1)]: Using backend LokyBackend with 12 concurrent workers.\n"
     ]
    },
    {
     "name": "stdout",
     "output_type": "stream",
     "text": [
      "2023-05-30 13:46:51,777 - SleepInferenceLogger - WARNING - Segmentation [ 0 29 47 61 62 96] has a segment that is too small to compute the cost. Cost is set to nan.\n",
      "2023-05-30 13:46:51,778 - SleepInferenceLogger - WARNING - Segmentation [ 0 29 47 61 63 96] has a segment that is too small to compute the cost. Cost is set to nan.\n",
      "2023-05-30 13:46:51,806 - SleepInferenceLogger - WARNING - Segmentation [ 0 30 46 61 63 96] has a segment that is too small to compute the cost. Cost is set to nan.\n"
     ]
    },
    {
     "name": "stderr",
     "output_type": "stream",
     "text": [
      "[Parallel(n_jobs=-1)]: Done  10 out of  10 | elapsed:    0.3s finished\n",
      "[Parallel(n_jobs=-1)]: Using backend LokyBackend with 12 concurrent workers.\n"
     ]
    },
    {
     "name": "stdout",
     "output_type": "stream",
     "text": [
      "2023-05-30 13:46:52,103 - SleepInferenceLogger - WARNING - Segmentation [ 0 29 47 61 62 96] has a segment that is too small to compute the cost. Cost is set to nan.\n",
      "2023-05-30 13:46:52,104 - SleepInferenceLogger - WARNING - Segmentation [ 0 29 47 61 63 96] has a segment that is too small to compute the cost. Cost is set to nan.\n",
      "2023-05-30 13:46:52,118 - SleepInferenceLogger - WARNING - Segmentation [ 0 30 46 61 63 96] has a segment that is too small to compute the cost. Cost is set to nan.\n"
     ]
    },
    {
     "name": "stderr",
     "output_type": "stream",
     "text": [
      "[Parallel(n_jobs=-1)]: Done  10 out of  10 | elapsed:    0.4s finished\n",
      "[Parallel(n_jobs=-1)]: Using backend LokyBackend with 12 concurrent workers.\n"
     ]
    },
    {
     "name": "stdout",
     "output_type": "stream",
     "text": [
      "2023-05-30 13:46:52,488 - SleepInferenceLogger - WARNING - Segmentation [ 0 29 47 61 62 96] has a segment that is too small to compute the cost. Cost is set to nan.\n",
      "2023-05-30 13:46:52,489 - SleepInferenceLogger - WARNING - Segmentation [ 0 29 47 61 63 96] has a segment that is too small to compute the cost. Cost is set to nan.\n",
      "2023-05-30 13:46:52,491 - SleepInferenceLogger - WARNING - Segmentation [ 0 30 46 61 63 96] has a segment that is too small to compute the cost. Cost is set to nan.\n"
     ]
    },
    {
     "name": "stderr",
     "output_type": "stream",
     "text": [
      "[Parallel(n_jobs=-1)]: Done  10 out of  10 | elapsed:    0.3s finished\n",
      "[Parallel(n_jobs=-1)]: Using backend LokyBackend with 12 concurrent workers.\n"
     ]
    },
    {
     "name": "stdout",
     "output_type": "stream",
     "text": [
      "2023-05-30 13:46:52,805 - SleepInferenceLogger - WARNING - Segmentation [ 0 29 47 61 62 96] has a segment that is too small to compute the cost. Cost is set to nan.\n",
      "2023-05-30 13:46:52,805 - SleepInferenceLogger - WARNING - Segmentation [ 0 29 47 61 63 96] has a segment that is too small to compute the cost. Cost is set to nan.\n",
      "2023-05-30 13:46:52,807 - SleepInferenceLogger - WARNING - Segmentation [ 0 30 47 61 63 96] has a segment that is too small to compute the cost. Cost is set to nan.\n"
     ]
    },
    {
     "name": "stderr",
     "output_type": "stream",
     "text": [
      "[Parallel(n_jobs=-1)]: Done  10 out of  10 | elapsed:    0.3s finished\n",
      "[Parallel(n_jobs=-1)]: Using backend LokyBackend with 12 concurrent workers.\n"
     ]
    },
    {
     "name": "stdout",
     "output_type": "stream",
     "text": [
      "2023-05-30 13:46:53,124 - SleepInferenceLogger - WARNING - Segmentation [ 0 29 47 61 62 96] has a segment that is too small to compute the cost. Cost is set to nan.\n",
      "2023-05-30 13:46:53,124 - SleepInferenceLogger - WARNING - Segmentation [ 0 29 47 61 63 96] has a segment that is too small to compute the cost. Cost is set to nan.\n",
      "2023-05-30 13:46:53,148 - SleepInferenceLogger - WARNING - Segmentation [ 0 30 47 61 63 96] has a segment that is too small to compute the cost. Cost is set to nan.\n"
     ]
    },
    {
     "name": "stderr",
     "output_type": "stream",
     "text": [
      "[Parallel(n_jobs=-1)]: Done  10 out of  10 | elapsed:    0.3s finished\n",
      "[Parallel(n_jobs=-1)]: Using backend LokyBackend with 12 concurrent workers.\n"
     ]
    },
    {
     "name": "stdout",
     "output_type": "stream",
     "text": [
      "2023-05-30 13:46:53,448 - SleepInferenceLogger - WARNING - Segmentation [ 0 29 47 61 62 96] has a segment that is too small to compute the cost. Cost is set to nan.\n",
      "2023-05-30 13:46:53,448 - SleepInferenceLogger - WARNING - Segmentation [ 0 29 47 61 63 96] has a segment that is too small to compute the cost. Cost is set to nan.\n",
      "2023-05-30 13:46:53,478 - SleepInferenceLogger - WARNING - Segmentation [ 0 30 47 61 63 96] has a segment that is too small to compute the cost. Cost is set to nan.\n"
     ]
    },
    {
     "name": "stderr",
     "output_type": "stream",
     "text": [
      "[Parallel(n_jobs=-1)]: Done  10 out of  10 | elapsed:    0.3s finished\n",
      "[Parallel(n_jobs=-1)]: Using backend LokyBackend with 12 concurrent workers.\n"
     ]
    },
    {
     "name": "stdout",
     "output_type": "stream",
     "text": [
      "2023-05-30 13:46:53,772 - SleepInferenceLogger - WARNING - Segmentation [ 0 29 47 60 62 96] has a segment that is too small to compute the cost. Cost is set to nan.\n"
     ]
    },
    {
     "name": "stderr",
     "output_type": "stream",
     "text": [
      "[Parallel(n_jobs=-1)]: Done  10 out of  10 | elapsed:    0.4s finished\n",
      "[Parallel(n_jobs=-1)]: Using backend LokyBackend with 12 concurrent workers.\n"
     ]
    },
    {
     "name": "stdout",
     "output_type": "stream",
     "text": [
      "2023-05-30 13:46:54,127 - SleepInferenceLogger - WARNING - Segmentation [ 0 30 43 60 62 96] has a segment that is too small to compute the cost. Cost is set to nan.\n"
     ]
    },
    {
     "name": "stderr",
     "output_type": "stream",
     "text": [
      "[Parallel(n_jobs=-1)]: Done  10 out of  10 | elapsed:    0.3s finished\n",
      "[Parallel(n_jobs=-1)]: Using backend LokyBackend with 12 concurrent workers.\n"
     ]
    },
    {
     "name": "stdout",
     "output_type": "stream",
     "text": [
      "2023-05-30 13:46:54,464 - SleepInferenceLogger - WARNING - Segmentation [ 0 30 43 60 62 96] has a segment that is too small to compute the cost. Cost is set to nan.\n"
     ]
    },
    {
     "name": "stderr",
     "output_type": "stream",
     "text": [
      "[Parallel(n_jobs=-1)]: Done  10 out of  10 | elapsed:    0.3s finished\n",
      "[Parallel(n_jobs=-1)]: Using backend LokyBackend with 12 concurrent workers.\n"
     ]
    },
    {
     "name": "stdout",
     "output_type": "stream",
     "text": [
      "2023-05-30 13:46:54,790 - SleepInferenceLogger - WARNING - Segmentation [ 0 30 43 60 62 96] has a segment that is too small to compute the cost. Cost is set to nan.\n"
     ]
    },
    {
     "name": "stderr",
     "output_type": "stream",
     "text": [
      "[Parallel(n_jobs=-1)]: Done  10 out of  10 | elapsed:    0.3s finished\n",
      "[Parallel(n_jobs=-1)]: Using backend LokyBackend with 12 concurrent workers.\n"
     ]
    },
    {
     "name": "stdout",
     "output_type": "stream",
     "text": [
      "2023-05-30 13:46:55,132 - SleepInferenceLogger - WARNING - Segmentation [ 0 30 43 60 62 96] has a segment that is too small to compute the cost. Cost is set to nan.\n"
     ]
    },
    {
     "name": "stderr",
     "output_type": "stream",
     "text": [
      "[Parallel(n_jobs=-1)]: Done  10 out of  10 | elapsed:    0.3s finished\n",
      "[Parallel(n_jobs=-1)]: Using backend LokyBackend with 12 concurrent workers.\n"
     ]
    },
    {
     "name": "stdout",
     "output_type": "stream",
     "text": [
      "2023-05-30 13:46:55,472 - SleepInferenceLogger - WARNING - Segmentation [ 0 30 43 60 62 96] has a segment that is too small to compute the cost. Cost is set to nan.\n",
      "2023-05-30 13:46:55,514 - SleepInferenceLogger - WARNING - Segmentation [ 0 32 48 61 63 96] has a segment that is too small to compute the cost. Cost is set to nan.\n"
     ]
    },
    {
     "name": "stderr",
     "output_type": "stream",
     "text": [
      "[Parallel(n_jobs=-1)]: Done  10 out of  10 | elapsed:    0.3s finished\n",
      "[Parallel(n_jobs=-1)]: Using backend LokyBackend with 12 concurrent workers.\n"
     ]
    },
    {
     "name": "stdout",
     "output_type": "stream",
     "text": [
      "2023-05-30 13:46:55,781 - SleepInferenceLogger - WARNING - Segmentation [ 0 30 43 60 62 96] has a segment that is too small to compute the cost. Cost is set to nan.\n",
      "2023-05-30 13:46:55,824 - SleepInferenceLogger - WARNING - Segmentation [ 0 32 48 61 63 96] has a segment that is too small to compute the cost. Cost is set to nan.\n"
     ]
    },
    {
     "name": "stderr",
     "output_type": "stream",
     "text": [
      "[Parallel(n_jobs=-1)]: Done  10 out of  10 | elapsed:    0.3s finished\n",
      "[Parallel(n_jobs=-1)]: Using backend LokyBackend with 12 concurrent workers.\n"
     ]
    },
    {
     "name": "stdout",
     "output_type": "stream",
     "text": [
      "2023-05-30 13:46:56,131 - SleepInferenceLogger - WARNING - Segmentation [ 0 30 43 60 62 96] has a segment that is too small to compute the cost. Cost is set to nan.\n",
      "2023-05-30 13:46:56,179 - SleepInferenceLogger - WARNING - Segmentation [ 0 32 48 61 63 96] has a segment that is too small to compute the cost. Cost is set to nan.\n"
     ]
    },
    {
     "name": "stderr",
     "output_type": "stream",
     "text": [
      "[Parallel(n_jobs=-1)]: Done  10 out of  10 | elapsed:    0.3s finished\n",
      "[Parallel(n_jobs=-1)]: Using backend LokyBackend with 12 concurrent workers.\n"
     ]
    },
    {
     "name": "stdout",
     "output_type": "stream",
     "text": [
      "2023-05-30 13:46:56,465 - SleepInferenceLogger - WARNING - Segmentation [ 0 30 43 60 62 96] has a segment that is too small to compute the cost. Cost is set to nan.\n",
      "2023-05-30 13:46:56,520 - SleepInferenceLogger - WARNING - Segmentation [ 0 32 48 61 63 96] has a segment that is too small to compute the cost. Cost is set to nan.\n"
     ]
    },
    {
     "name": "stderr",
     "output_type": "stream",
     "text": [
      "[Parallel(n_jobs=-1)]: Done  10 out of  10 | elapsed:    0.3s finished\n",
      "[Parallel(n_jobs=-1)]: Using backend LokyBackend with 12 concurrent workers.\n"
     ]
    },
    {
     "name": "stdout",
     "output_type": "stream",
     "text": [
      "2023-05-30 13:46:56,835 - SleepInferenceLogger - WARNING - Segmentation [ 0 30 43 60 62 96] has a segment that is too small to compute the cost. Cost is set to nan.\n",
      "2023-05-30 13:46:56,842 - SleepInferenceLogger - WARNING - Segmentation [ 0 32 48 61 63 96] has a segment that is too small to compute the cost. Cost is set to nan.\n"
     ]
    },
    {
     "name": "stderr",
     "output_type": "stream",
     "text": [
      "[Parallel(n_jobs=-1)]: Done  10 out of  10 | elapsed:    0.3s finished\n",
      "[Parallel(n_jobs=-1)]: Using backend LokyBackend with 12 concurrent workers.\n"
     ]
    },
    {
     "name": "stdout",
     "output_type": "stream",
     "text": [
      "2023-05-30 13:46:57,140 - SleepInferenceLogger - WARNING - Segmentation [ 0 30 43 60 62 96] has a segment that is too small to compute the cost. Cost is set to nan.\n",
      "2023-05-30 13:46:57,175 - SleepInferenceLogger - WARNING - Segmentation [ 0 32 48 61 63 96] has a segment that is too small to compute the cost. Cost is set to nan.\n"
     ]
    },
    {
     "name": "stderr",
     "output_type": "stream",
     "text": [
      "[Parallel(n_jobs=-1)]: Done  10 out of  10 | elapsed:    0.3s finished\n",
      "[Parallel(n_jobs=-1)]: Using backend LokyBackend with 12 concurrent workers.\n"
     ]
    },
    {
     "name": "stdout",
     "output_type": "stream",
     "text": [
      "2023-05-30 13:46:57,449 - SleepInferenceLogger - WARNING - Segmentation [ 0 30 43 60 62 96] has a segment that is too small to compute the cost. Cost is set to nan.\n",
      "2023-05-30 13:46:57,506 - SleepInferenceLogger - WARNING - Segmentation [ 0 32 48 61 63 96] has a segment that is too small to compute the cost. Cost is set to nan.\n"
     ]
    },
    {
     "name": "stderr",
     "output_type": "stream",
     "text": [
      "[Parallel(n_jobs=-1)]: Done  10 out of  10 | elapsed:    0.3s finished\n",
      "[Parallel(n_jobs=-1)]: Using backend LokyBackend with 12 concurrent workers.\n"
     ]
    },
    {
     "name": "stdout",
     "output_type": "stream",
     "text": [
      "2023-05-30 13:46:57,774 - SleepInferenceLogger - WARNING - Segmentation [ 0 30 43 60 62 96] has a segment that is too small to compute the cost. Cost is set to nan.\n",
      "2023-05-30 13:46:57,823 - SleepInferenceLogger - WARNING - Segmentation [ 0 32 48 61 63 96] has a segment that is too small to compute the cost. Cost is set to nan.\n"
     ]
    },
    {
     "name": "stderr",
     "output_type": "stream",
     "text": [
      "[Parallel(n_jobs=-1)]: Done  10 out of  10 | elapsed:    0.4s finished\n",
      "[Parallel(n_jobs=-1)]: Using backend LokyBackend with 12 concurrent workers.\n"
     ]
    },
    {
     "name": "stdout",
     "output_type": "stream",
     "text": [
      "2023-05-30 13:46:58,125 - SleepInferenceLogger - WARNING - Segmentation [ 0 30 43 60 62 96] has a segment that is too small to compute the cost. Cost is set to nan.\n",
      "2023-05-30 13:46:58,180 - SleepInferenceLogger - WARNING - Segmentation [ 0 32 48 61 63 96] has a segment that is too small to compute the cost. Cost is set to nan.\n"
     ]
    },
    {
     "name": "stderr",
     "output_type": "stream",
     "text": [
      "[Parallel(n_jobs=-1)]: Done  10 out of  10 | elapsed:    0.4s finished\n",
      "[Parallel(n_jobs=-1)]: Using backend LokyBackend with 12 concurrent workers.\n"
     ]
    },
    {
     "name": "stdout",
     "output_type": "stream",
     "text": [
      "2023-05-30 13:46:58,501 - SleepInferenceLogger - WARNING - Segmentation [ 0 30 43 60 62 96] has a segment that is too small to compute the cost. Cost is set to nan.\n",
      "2023-05-30 13:46:58,550 - SleepInferenceLogger - WARNING - Segmentation [ 0 32 48 61 63 96] has a segment that is too small to compute the cost. Cost is set to nan.\n"
     ]
    },
    {
     "name": "stderr",
     "output_type": "stream",
     "text": [
      "[Parallel(n_jobs=-1)]: Done  10 out of  10 | elapsed:    0.4s finished\n",
      "[Parallel(n_jobs=-1)]: Using backend LokyBackend with 12 concurrent workers.\n"
     ]
    },
    {
     "name": "stdout",
     "output_type": "stream",
     "text": [
      "2023-05-30 13:46:58,867 - SleepInferenceLogger - WARNING - Segmentation [ 0 30 43 60 62 96] has a segment that is too small to compute the cost. Cost is set to nan.\n",
      "2023-05-30 13:46:58,924 - SleepInferenceLogger - WARNING - Segmentation [ 0 32 48 61 63 96] has a segment that is too small to compute the cost. Cost is set to nan.\n"
     ]
    },
    {
     "name": "stderr",
     "output_type": "stream",
     "text": [
      "[Parallel(n_jobs=-1)]: Done  10 out of  10 | elapsed:    0.3s finished\n",
      "[Parallel(n_jobs=-1)]: Using backend LokyBackend with 12 concurrent workers.\n"
     ]
    },
    {
     "name": "stdout",
     "output_type": "stream",
     "text": [
      "2023-05-30 13:46:59,193 - SleepInferenceLogger - WARNING - Segmentation [ 0 30 43 60 62 96] has a segment that is too small to compute the cost. Cost is set to nan.\n",
      "2023-05-30 13:46:59,283 - SleepInferenceLogger - WARNING - Segmentation [ 0 32 48 61 63 96] has a segment that is too small to compute the cost. Cost is set to nan.\n"
     ]
    },
    {
     "name": "stderr",
     "output_type": "stream",
     "text": [
      "[Parallel(n_jobs=-1)]: Done  10 out of  10 | elapsed:    0.3s finished\n",
      "[Parallel(n_jobs=-1)]: Using backend LokyBackend with 12 concurrent workers.\n"
     ]
    },
    {
     "name": "stdout",
     "output_type": "stream",
     "text": [
      "2023-05-30 13:46:59,548 - SleepInferenceLogger - WARNING - Segmentation [ 0 30 46 60 62 96] has a segment that is too small to compute the cost. Cost is set to nan.\n",
      "2023-05-30 13:46:59,587 - SleepInferenceLogger - WARNING - Segmentation [ 0 32 48 61 63 96] has a segment that is too small to compute the cost. Cost is set to nan.\n"
     ]
    },
    {
     "name": "stderr",
     "output_type": "stream",
     "text": [
      "[Parallel(n_jobs=-1)]: Done  10 out of  10 | elapsed:    0.3s finished\n",
      "[Parallel(n_jobs=-1)]: Using backend LokyBackend with 12 concurrent workers.\n"
     ]
    },
    {
     "name": "stdout",
     "output_type": "stream",
     "text": [
      "2023-05-30 13:46:59,861 - SleepInferenceLogger - WARNING - Segmentation [ 0 30 46 60 62 96] has a segment that is too small to compute the cost. Cost is set to nan.\n",
      "2023-05-30 13:46:59,916 - SleepInferenceLogger - WARNING - Segmentation [ 0 32 48 61 63 96] has a segment that is too small to compute the cost. Cost is set to nan.\n"
     ]
    },
    {
     "name": "stderr",
     "output_type": "stream",
     "text": [
      "[Parallel(n_jobs=-1)]: Done  10 out of  10 | elapsed:    0.3s finished\n",
      "[Parallel(n_jobs=-1)]: Using backend LokyBackend with 12 concurrent workers.\n"
     ]
    },
    {
     "name": "stdout",
     "output_type": "stream",
     "text": [
      "2023-05-30 13:47:00,191 - SleepInferenceLogger - WARNING - Segmentation [ 0 30 46 60 62 96] has a segment that is too small to compute the cost. Cost is set to nan.\n",
      "2023-05-30 13:47:00,241 - SleepInferenceLogger - WARNING - Segmentation [ 0 32 48 61 63 96] has a segment that is too small to compute the cost. Cost is set to nan.\n"
     ]
    },
    {
     "name": "stderr",
     "output_type": "stream",
     "text": [
      "[Parallel(n_jobs=-1)]: Done  10 out of  10 | elapsed:    0.3s finished\n",
      "[Parallel(n_jobs=-1)]: Using backend LokyBackend with 12 concurrent workers.\n"
     ]
    },
    {
     "name": "stdout",
     "output_type": "stream",
     "text": [
      "2023-05-30 13:47:00,549 - SleepInferenceLogger - WARNING - Segmentation [ 0 30 46 60 62 96] has a segment that is too small to compute the cost. Cost is set to nan.\n",
      "2023-05-30 13:47:00,596 - SleepInferenceLogger - WARNING - Segmentation [ 0 32 48 61 63 96] has a segment that is too small to compute the cost. Cost is set to nan.\n"
     ]
    },
    {
     "name": "stderr",
     "output_type": "stream",
     "text": [
      "[Parallel(n_jobs=-1)]: Done  10 out of  10 | elapsed:    0.3s finished\n",
      "[Parallel(n_jobs=-1)]: Using backend LokyBackend with 12 concurrent workers.\n"
     ]
    },
    {
     "name": "stdout",
     "output_type": "stream",
     "text": [
      "2023-05-30 13:47:00,857 - SleepInferenceLogger - WARNING - Segmentation [ 0 30 46 60 62 96] has a segment that is too small to compute the cost. Cost is set to nan.\n",
      "2023-05-30 13:47:00,912 - SleepInferenceLogger - WARNING - Segmentation [ 0 32 48 61 63 96] has a segment that is too small to compute the cost. Cost is set to nan.\n"
     ]
    },
    {
     "name": "stderr",
     "output_type": "stream",
     "text": [
      "[Parallel(n_jobs=-1)]: Done  10 out of  10 | elapsed:    0.3s finished\n",
      "[Parallel(n_jobs=-1)]: Using backend LokyBackend with 12 concurrent workers.\n"
     ]
    },
    {
     "name": "stdout",
     "output_type": "stream",
     "text": [
      "2023-05-30 13:47:01,215 - SleepInferenceLogger - WARNING - Segmentation [ 0 30 46 60 62 96] has a segment that is too small to compute the cost. Cost is set to nan.\n",
      "2023-05-30 13:47:01,258 - SleepInferenceLogger - WARNING - Segmentation [ 0 32 48 61 63 96] has a segment that is too small to compute the cost. Cost is set to nan.\n"
     ]
    },
    {
     "name": "stderr",
     "output_type": "stream",
     "text": [
      "[Parallel(n_jobs=-1)]: Done  10 out of  10 | elapsed:    0.3s finished\n",
      "[Parallel(n_jobs=-1)]: Using backend LokyBackend with 12 concurrent workers.\n"
     ]
    },
    {
     "name": "stdout",
     "output_type": "stream",
     "text": [
      "2023-05-30 13:47:01,549 - SleepInferenceLogger - WARNING - Segmentation [ 0 30 46 60 62 96] has a segment that is too small to compute the cost. Cost is set to nan.\n",
      "2023-05-30 13:47:01,585 - SleepInferenceLogger - WARNING - Segmentation [ 0 32 48 61 63 96] has a segment that is too small to compute the cost. Cost is set to nan.\n"
     ]
    },
    {
     "name": "stderr",
     "output_type": "stream",
     "text": [
      "[Parallel(n_jobs=-1)]: Done  10 out of  10 | elapsed:    0.3s finished\n"
     ]
    }
   ],
   "source": [
    "detector = Detector(xar_city=xar_city)\n",
    "result = detector.detect_sleep_patterns()"
   ],
   "metadata": {
    "collapsed": false,
    "ExecuteTime": {
     "end_time": "2023-05-30T11:47:03.770856Z",
     "start_time": "2023-05-30T11:45:07.143610Z"
    }
   }
  },
  {
   "cell_type": "code",
   "execution_count": null,
   "outputs": [],
   "source": [],
   "metadata": {
    "collapsed": false
   }
  },
  {
   "cell_type": "code",
   "execution_count": null,
   "outputs": [],
   "source": [],
   "metadata": {
    "collapsed": false
   }
  },
  {
   "cell_type": "code",
   "execution_count": 20,
   "outputs": [],
   "source": [
    "plotter = DetectionResultPlot(detection_result=result)\n",
    "figures = plotter.plot()"
   ],
   "metadata": {
    "collapsed": false,
    "ExecuteTime": {
     "end_time": "2023-05-30T11:50:46.667767Z",
     "start_time": "2023-05-30T11:50:43.928340Z"
    }
   }
  },
  {
   "cell_type": "code",
   "execution_count": 29,
   "outputs": [],
   "source": [
    "external_stylesheets = [dmc.theme.DEFAULT_COLORS]\n",
    "app = JupyterDash(__name__, external_stylesheets=external_stylesheets)\n",
    "app.layout = html.Div(\n",
    "    style={'overflowY': 'scroll', 'height': '1200px'},  # This enables scrolling\n",
    "    children=[dcc.Graph(figure=fig) for fig in figures]\n",
    ")"
   ],
   "metadata": {
    "collapsed": false,
    "ExecuteTime": {
     "end_time": "2023-05-30T14:46:33.043608Z",
     "start_time": "2023-05-30T14:46:32.594575Z"
    }
   }
  },
  {
   "cell_type": "code",
   "execution_count": null,
   "outputs": [],
   "source": [],
   "metadata": {
    "collapsed": false
   }
  },
  {
   "cell_type": "code",
   "execution_count": 30,
   "outputs": [
    {
     "name": "stdout",
     "output_type": "stream",
     "text": [
      "Dash is running on http://127.0.0.1:8050/\n",
      "\n",
      "Dash app running on http://127.0.0.1:8050/\n"
     ]
    }
   ],
   "source": [
    "app.run_server(mode='external')  # Turn off reloader if inside Jupyter"
   ],
   "metadata": {
    "collapsed": false,
    "ExecuteTime": {
     "end_time": "2023-05-30T14:47:44.108791Z",
     "start_time": "2023-05-30T14:47:43.534403Z"
    }
   }
  },
  {
   "cell_type": "code",
   "execution_count": null,
   "outputs": [],
   "source": [],
   "metadata": {
    "collapsed": false
   }
  },
  {
   "cell_type": "code",
   "execution_count": 245,
   "outputs": [],
   "source": [
    "histograms = HistogramsSleepPatterns(sleep_change_points=result.sleep_change_points)\n",
    "figures = histograms.plot()"
   ],
   "metadata": {
    "collapsed": false,
    "ExecuteTime": {
     "end_time": "2023-05-27T12:04:17.005359Z",
     "start_time": "2023-05-27T12:04:15.058675Z"
    }
   }
  },
  {
   "cell_type": "code",
   "execution_count": 25,
   "outputs": [],
   "source": [
    "loc_ids = [c for c in result.sleep_change_points.columns if not c.startswith('unc_')]\n",
    "traffic = result.traffic_time_series_data[loc_ids]\n",
    "daily = result.daily_component_traffic_time_series_data[loc_ids]\n",
    "sleep_cp = result.sleep_change_points\n",
    "sleep_sc = result.sleep_scores"
   ],
   "metadata": {
    "collapsed": false,
    "ExecuteTime": {
     "end_time": "2023-05-30T14:22:23.868888Z",
     "start_time": "2023-05-30T14:22:23.487883Z"
    }
   }
  },
  {
   "cell_type": "code",
   "execution_count": 28,
   "outputs": [],
   "source": [
    "base = '/Users/anmusso/Desktop/PhD/NetMob/SleepDetection'\n",
    "traffic.to_csv(f'{base}/Temp/DataVizConsulting/traffic_data.csv')\n",
    "daily.to_csv(f'{base}/Temp/DataVizConsulting/daily_component_traffic.csv')\n",
    "sleep_cp.to_csv(f'{base}/Temp/DataVizConsulting/sleep_change_points.csv')\n",
    "sleep_sc.to_csv(f'{base}/Temp/DataVizConsulting/sleep_score.csv')"
   ],
   "metadata": {
    "collapsed": false,
    "ExecuteTime": {
     "end_time": "2023-05-30T14:33:10.261545Z",
     "start_time": "2023-05-30T14:33:09.737243Z"
    }
   }
  },
  {
   "cell_type": "code",
   "execution_count": null,
   "outputs": [],
   "source": [],
   "metadata": {
    "collapsed": false
   }
  }
 ],
 "metadata": {
  "kernelspec": {
   "display_name": "netmob_env",
   "language": "python",
   "name": "python3"
  },
  "language_info": {
   "codemirror_mode": {
    "name": "ipython",
    "version": 3
   },
   "file_extension": ".py",
   "mimetype": "text/x-python",
   "name": "python",
   "nbconvert_exporter": "python",
   "pygments_lexer": "ipython3",
   "version": "3.10.4"
  },
  "vscode": {
   "interpreter": {
    "hash": "12446bc72b2d39f7c5ae547dd2a2f3fa5f964107a3a30e469371d9d3694576e5"
   }
  }
 },
 "nbformat": 4,
 "nbformat_minor": 0
}
