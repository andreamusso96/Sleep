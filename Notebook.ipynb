{
 "cells": [
  {
   "cell_type": "code",
   "execution_count": 1,
   "metadata": {
    "collapsed": true,
    "ExecuteTime": {
     "end_time": "2023-05-18T13:48:23.246631Z",
     "start_time": "2023-05-18T13:48:21.146786Z"
    }
   },
   "outputs": [],
   "source": [
    "from DataIO import DataIO, City, Service, TrafficType\n",
    "from datetime import date"
   ]
  },
  {
   "cell_type": "code",
   "execution_count": 2,
   "outputs": [],
   "source": [
    "%load_ext autoreload\n",
    "%autoreload 2"
   ],
   "metadata": {
    "collapsed": false,
    "ExecuteTime": {
     "end_time": "2023-05-18T13:48:23.293619Z",
     "start_time": "2023-05-18T13:48:23.249543Z"
    }
   }
  },
  {
   "cell_type": "code",
   "execution_count": 3,
   "outputs": [],
   "source": [
    "city = City.DIJON\n",
    "day = date(2019, 4, 16)\n",
    "service = Service.FACEBOOK_MESSENGER"
   ],
   "metadata": {
    "collapsed": false,
    "ExecuteTime": {
     "end_time": "2023-05-18T13:48:23.331517Z",
     "start_time": "2023-05-18T13:48:23.294871Z"
    }
   }
  },
  {
   "cell_type": "code",
   "execution_count": null,
   "outputs": [],
   "source": [
    "xar_city = DataIO.load_traffic_data(city=city, traffic_type=TrafficType.B)"
   ],
   "metadata": {
    "collapsed": false
   }
  },
  {
   "cell_type": "code",
   "execution_count": 4,
   "outputs": [],
   "source": [
    "days = DataIO.get_day_labels()"
   ],
   "metadata": {
    "collapsed": false,
    "ExecuteTime": {
     "end_time": "2023-05-18T13:48:23.368399Z",
     "start_time": "2023-05-18T13:48:23.331846Z"
    }
   }
  },
  {
   "cell_type": "code",
   "execution_count": 11,
   "outputs": [],
   "source": [
    "day_service_pairs = [(day, service) for day in days for service in Service]"
   ],
   "metadata": {
    "collapsed": false,
    "ExecuteTime": {
     "end_time": "2023-05-18T13:51:08.184662Z",
     "start_time": "2023-05-18T13:51:08.140514Z"
    }
   }
  },
  {
   "cell_type": "code",
   "execution_count": 12,
   "outputs": [
    {
     "data": {
      "text/plain": "[('2019-03-16', <Service.TWITCH: 'Twitch'>),\n ('2019-03-16', <Service.ORANGE_TV: 'Orange_TV'>),\n ('2019-03-16', <Service.MICROSOFT_AZURE: 'Microsoft_Azure'>),\n ('2019-03-16', <Service.APPLE_ICLOUD: 'Apple_iCloud'>),\n ('2019-03-16', <Service.WEB_GAMES: 'Web_Games'>),\n ('2019-03-16', <Service.PLAYSTATION: 'PlayStation'>),\n ('2019-03-16', <Service.TEAMVIEWER: 'TeamViewer'>),\n ('2019-03-16', <Service.WEB_WEATHER: 'Web_Weather'>),\n ('2019-03-16', <Service.GOOGLE_MEET: 'Google_Meet'>),\n ('2019-03-16', <Service.TWITTER: 'Twitter'>),\n ('2019-03-16', <Service.AMAZON_WEB_SERVICES: 'Amazon_Web_Services'>),\n ('2019-03-16', <Service.APPLE_MUSIC: 'Apple_Music'>),\n ('2019-03-16', <Service.APPLE_SIRI: 'Apple_Siri'>),\n ('2019-03-16', <Service.WEB_ADS: 'Web_Ads'>),\n ('2019-03-16', <Service.SOUNDCLOUD: 'SoundCloud'>),\n ('2019-03-16', <Service.WIKIPEDIA: 'Wikipedia'>),\n ('2019-03-16', <Service.MICROSOFT_SKYDRIVE: 'Microsoft_Skydrive'>),\n ('2019-03-16', <Service.WEB_TRANSPORTATION: 'Web_Transportation'>),\n ('2019-03-16', <Service.MICROSOFT_OFFICE: 'Microsoft_Office'>),\n ('2019-03-16', <Service.YAHOO_MAIL: 'Yahoo_Mail'>),\n ('2019-03-16', <Service.WEB_FOOD: 'Web_Food'>),\n ('2019-03-16', <Service.WHATSAPP: 'WhatsApp'>),\n ('2019-03-16', <Service.GOOGLE_MAIL: 'Google_Mail'>),\n ('2019-03-16', <Service.YOUTUBE: 'YouTube'>),\n ('2019-03-16', <Service.UBER: 'Uber'>),\n ('2019-03-16', <Service.PINTEREST: 'Pinterest'>),\n ('2019-03-16', <Service.WEB_CLOTHES: 'Web_Clothes'>),\n ('2019-03-16', <Service.DROPBOX: 'Dropbox'>),\n ('2019-03-16', <Service.APPLE_MAIL: 'Apple_Mail'>),\n ('2019-03-16', <Service.WEB_ADULT: 'Web_Adult'>),\n ('2019-03-16', <Service.DAILYMOTION: 'DailyMotion'>),\n ('2019-03-16', <Service.INSTAGRAM: 'Instagram'>),\n ('2019-03-16', <Service.SKYPE: 'Skype'>),\n ('2019-03-16', <Service.CLASH_OF_CLANS: 'Clash_of_Clans'>),\n ('2019-03-16', <Service.POKEMON_GO: 'Pokemon_GO'>),\n ('2019-03-16', <Service.APPLE_APP_STORE: 'Apple_App_Store'>),\n ('2019-03-16', <Service.GOOGLE_DRIVE: 'Google_Drive'>),\n ('2019-03-16', <Service.APPLE_WEB_SERVICES: 'Apple_Web_Services'>),\n ('2019-03-16', <Service.APPLE_ITUNES: 'Apple_iTunes'>),\n ('2019-03-16', <Service.WEB_FINANCE: 'Web_Finance'>),\n ('2019-03-16', <Service.FACEBOOK_LIVE: 'Facebook_Live'>),\n ('2019-03-16', <Service.WEB_DOWNLOADS: 'Web_Downloads'>),\n ('2019-03-16', <Service.EA_GAMES: 'EA_Games'>),\n ('2019-03-16', <Service.WAZE: 'Waze'>),\n ('2019-03-16', <Service.GOOGLE_DOCS: 'Google_Docs'>),\n ('2019-03-16', <Service.APPLE_VIDEO: 'Apple_Video'>),\n ('2019-03-16', <Service.LINKEDIN: 'LinkedIn'>),\n ('2019-03-16', <Service.FACEBOOK_MESSENGER: 'Facebook_Messenger'>),\n ('2019-03-16', <Service.SNAPCHAT: 'Snapchat'>),\n ('2019-03-16', <Service.DEEZER: 'Deezer'>),\n ('2019-03-16', <Service.NETFLIX: 'Netflix'>),\n ('2019-03-16', <Service.FACEBOOK: 'Facebook'>),\n ('2019-03-16', <Service.TELEGRAM: 'Telegram'>),\n ('2019-03-16', <Service.APPLE_IMESSAGE: 'Apple_iMessage'>),\n ('2019-03-16', <Service.MICROSOFT_STORE: 'Microsoft_Store'>),\n ('2019-03-16', <Service.MOLOTOV: 'Molotov'>),\n ('2019-03-16', <Service.GOOGLE_MAPS: 'Google_Maps'>),\n ('2019-03-16', <Service.TOR: 'Tor'>),\n ('2019-03-16', <Service.GOOGLE_PLAY_STORE: 'Google_Play_Store'>),\n ('2019-03-16', <Service.WEB_E_COMMERCE: 'Web_e-Commerce'>),\n ('2019-03-16', <Service.FORTNITE: 'Fortnite'>),\n ('2019-03-16', <Service.MICROSOFT_MAIL: 'Microsoft_Mail'>),\n ('2019-03-16', <Service.PERISCOPE: 'Periscope'>),\n ('2019-03-16', <Service.GOOGLE_WEB_SERVICES: 'Google_Web_Services'>),\n ('2019-03-16', <Service.SPOTIFY: 'Spotify'>),\n ('2019-03-16', <Service.MICROSOFT_WEB_SERVICES: 'Microsoft_Web_Services'>),\n ('2019-03-16', <Service.WEB_STREAMING: 'Web_Streaming'>),\n ('2019-03-16', <Service.YAHOO: 'Yahoo'>),\n ('2019-03-17', <Service.TWITCH: 'Twitch'>),\n ('2019-03-17', <Service.ORANGE_TV: 'Orange_TV'>),\n ('2019-03-17', <Service.MICROSOFT_AZURE: 'Microsoft_Azure'>),\n ('2019-03-17', <Service.APPLE_ICLOUD: 'Apple_iCloud'>),\n ('2019-03-17', <Service.WEB_GAMES: 'Web_Games'>),\n ('2019-03-17', <Service.PLAYSTATION: 'PlayStation'>),\n ('2019-03-17', <Service.TEAMVIEWER: 'TeamViewer'>),\n ('2019-03-17', <Service.WEB_WEATHER: 'Web_Weather'>),\n ('2019-03-17', <Service.GOOGLE_MEET: 'Google_Meet'>),\n ('2019-03-17', <Service.TWITTER: 'Twitter'>),\n ('2019-03-17', <Service.AMAZON_WEB_SERVICES: 'Amazon_Web_Services'>),\n ('2019-03-17', <Service.APPLE_MUSIC: 'Apple_Music'>),\n ('2019-03-17', <Service.APPLE_SIRI: 'Apple_Siri'>),\n ('2019-03-17', <Service.WEB_ADS: 'Web_Ads'>),\n ('2019-03-17', <Service.SOUNDCLOUD: 'SoundCloud'>),\n ('2019-03-17', <Service.WIKIPEDIA: 'Wikipedia'>),\n ('2019-03-17', <Service.MICROSOFT_SKYDRIVE: 'Microsoft_Skydrive'>),\n ('2019-03-17', <Service.WEB_TRANSPORTATION: 'Web_Transportation'>),\n ('2019-03-17', <Service.MICROSOFT_OFFICE: 'Microsoft_Office'>),\n ('2019-03-17', <Service.YAHOO_MAIL: 'Yahoo_Mail'>),\n ('2019-03-17', <Service.WEB_FOOD: 'Web_Food'>),\n ('2019-03-17', <Service.WHATSAPP: 'WhatsApp'>),\n ('2019-03-17', <Service.GOOGLE_MAIL: 'Google_Mail'>),\n ('2019-03-17', <Service.YOUTUBE: 'YouTube'>),\n ('2019-03-17', <Service.UBER: 'Uber'>),\n ('2019-03-17', <Service.PINTEREST: 'Pinterest'>),\n ('2019-03-17', <Service.WEB_CLOTHES: 'Web_Clothes'>),\n ('2019-03-17', <Service.DROPBOX: 'Dropbox'>),\n ('2019-03-17', <Service.APPLE_MAIL: 'Apple_Mail'>),\n ('2019-03-17', <Service.WEB_ADULT: 'Web_Adult'>),\n ('2019-03-17', <Service.DAILYMOTION: 'DailyMotion'>),\n ('2019-03-17', <Service.INSTAGRAM: 'Instagram'>),\n ('2019-03-17', <Service.SKYPE: 'Skype'>),\n ('2019-03-17', <Service.CLASH_OF_CLANS: 'Clash_of_Clans'>),\n ('2019-03-17', <Service.POKEMON_GO: 'Pokemon_GO'>),\n ('2019-03-17', <Service.APPLE_APP_STORE: 'Apple_App_Store'>),\n ('2019-03-17', <Service.GOOGLE_DRIVE: 'Google_Drive'>),\n ('2019-03-17', <Service.APPLE_WEB_SERVICES: 'Apple_Web_Services'>),\n ('2019-03-17', <Service.APPLE_ITUNES: 'Apple_iTunes'>),\n ('2019-03-17', <Service.WEB_FINANCE: 'Web_Finance'>),\n ('2019-03-17', <Service.FACEBOOK_LIVE: 'Facebook_Live'>),\n ('2019-03-17', <Service.WEB_DOWNLOADS: 'Web_Downloads'>),\n ('2019-03-17', <Service.EA_GAMES: 'EA_Games'>),\n ('2019-03-17', <Service.WAZE: 'Waze'>),\n ('2019-03-17', <Service.GOOGLE_DOCS: 'Google_Docs'>),\n ('2019-03-17', <Service.APPLE_VIDEO: 'Apple_Video'>),\n ('2019-03-17', <Service.LINKEDIN: 'LinkedIn'>),\n ('2019-03-17', <Service.FACEBOOK_MESSENGER: 'Facebook_Messenger'>),\n ('2019-03-17', <Service.SNAPCHAT: 'Snapchat'>),\n ('2019-03-17', <Service.DEEZER: 'Deezer'>),\n ('2019-03-17', <Service.NETFLIX: 'Netflix'>),\n ('2019-03-17', <Service.FACEBOOK: 'Facebook'>),\n ('2019-03-17', <Service.TELEGRAM: 'Telegram'>),\n ('2019-03-17', <Service.APPLE_IMESSAGE: 'Apple_iMessage'>),\n ('2019-03-17', <Service.MICROSOFT_STORE: 'Microsoft_Store'>),\n ('2019-03-17', <Service.MOLOTOV: 'Molotov'>),\n ('2019-03-17', <Service.GOOGLE_MAPS: 'Google_Maps'>),\n ('2019-03-17', <Service.TOR: 'Tor'>),\n ('2019-03-17', <Service.GOOGLE_PLAY_STORE: 'Google_Play_Store'>),\n ('2019-03-17', <Service.WEB_E_COMMERCE: 'Web_e-Commerce'>),\n ('2019-03-17', <Service.FORTNITE: 'Fortnite'>),\n ('2019-03-17', <Service.MICROSOFT_MAIL: 'Microsoft_Mail'>),\n ('2019-03-17', <Service.PERISCOPE: 'Periscope'>),\n ('2019-03-17', <Service.GOOGLE_WEB_SERVICES: 'Google_Web_Services'>),\n ('2019-03-17', <Service.SPOTIFY: 'Spotify'>),\n ('2019-03-17', <Service.MICROSOFT_WEB_SERVICES: 'Microsoft_Web_Services'>),\n ('2019-03-17', <Service.WEB_STREAMING: 'Web_Streaming'>),\n ('2019-03-17', <Service.YAHOO: 'Yahoo'>),\n ('2019-03-18', <Service.TWITCH: 'Twitch'>),\n ('2019-03-18', <Service.ORANGE_TV: 'Orange_TV'>),\n ('2019-03-18', <Service.MICROSOFT_AZURE: 'Microsoft_Azure'>),\n ('2019-03-18', <Service.APPLE_ICLOUD: 'Apple_iCloud'>),\n ('2019-03-18', <Service.WEB_GAMES: 'Web_Games'>),\n ('2019-03-18', <Service.PLAYSTATION: 'PlayStation'>),\n ('2019-03-18', <Service.TEAMVIEWER: 'TeamViewer'>),\n ('2019-03-18', <Service.WEB_WEATHER: 'Web_Weather'>),\n ('2019-03-18', <Service.GOOGLE_MEET: 'Google_Meet'>),\n ('2019-03-18', <Service.TWITTER: 'Twitter'>),\n ('2019-03-18', <Service.AMAZON_WEB_SERVICES: 'Amazon_Web_Services'>),\n ('2019-03-18', <Service.APPLE_MUSIC: 'Apple_Music'>),\n ('2019-03-18', <Service.APPLE_SIRI: 'Apple_Siri'>),\n ('2019-03-18', <Service.WEB_ADS: 'Web_Ads'>),\n ('2019-03-18', <Service.SOUNDCLOUD: 'SoundCloud'>),\n ('2019-03-18', <Service.WIKIPEDIA: 'Wikipedia'>),\n ('2019-03-18', <Service.MICROSOFT_SKYDRIVE: 'Microsoft_Skydrive'>),\n ('2019-03-18', <Service.WEB_TRANSPORTATION: 'Web_Transportation'>),\n ('2019-03-18', <Service.MICROSOFT_OFFICE: 'Microsoft_Office'>),\n ('2019-03-18', <Service.YAHOO_MAIL: 'Yahoo_Mail'>),\n ('2019-03-18', <Service.WEB_FOOD: 'Web_Food'>),\n ('2019-03-18', <Service.WHATSAPP: 'WhatsApp'>),\n ('2019-03-18', <Service.GOOGLE_MAIL: 'Google_Mail'>),\n ('2019-03-18', <Service.YOUTUBE: 'YouTube'>),\n ('2019-03-18', <Service.UBER: 'Uber'>),\n ('2019-03-18', <Service.PINTEREST: 'Pinterest'>),\n ('2019-03-18', <Service.WEB_CLOTHES: 'Web_Clothes'>),\n ('2019-03-18', <Service.DROPBOX: 'Dropbox'>),\n ('2019-03-18', <Service.APPLE_MAIL: 'Apple_Mail'>),\n ('2019-03-18', <Service.WEB_ADULT: 'Web_Adult'>),\n ('2019-03-18', <Service.DAILYMOTION: 'DailyMotion'>),\n ('2019-03-18', <Service.INSTAGRAM: 'Instagram'>),\n ('2019-03-18', <Service.SKYPE: 'Skype'>),\n ('2019-03-18', <Service.CLASH_OF_CLANS: 'Clash_of_Clans'>),\n ('2019-03-18', <Service.POKEMON_GO: 'Pokemon_GO'>),\n ('2019-03-18', <Service.APPLE_APP_STORE: 'Apple_App_Store'>),\n ('2019-03-18', <Service.GOOGLE_DRIVE: 'Google_Drive'>),\n ('2019-03-18', <Service.APPLE_WEB_SERVICES: 'Apple_Web_Services'>),\n ('2019-03-18', <Service.APPLE_ITUNES: 'Apple_iTunes'>),\n ('2019-03-18', <Service.WEB_FINANCE: 'Web_Finance'>),\n ('2019-03-18', <Service.FACEBOOK_LIVE: 'Facebook_Live'>),\n ('2019-03-18', <Service.WEB_DOWNLOADS: 'Web_Downloads'>),\n ('2019-03-18', <Service.EA_GAMES: 'EA_Games'>),\n ('2019-03-18', <Service.WAZE: 'Waze'>),\n ('2019-03-18', <Service.GOOGLE_DOCS: 'Google_Docs'>),\n ('2019-03-18', <Service.APPLE_VIDEO: 'Apple_Video'>),\n ('2019-03-18', <Service.LINKEDIN: 'LinkedIn'>),\n ('2019-03-18', <Service.FACEBOOK_MESSENGER: 'Facebook_Messenger'>),\n ('2019-03-18', <Service.SNAPCHAT: 'Snapchat'>),\n ('2019-03-18', <Service.DEEZER: 'Deezer'>),\n ('2019-03-18', <Service.NETFLIX: 'Netflix'>),\n ('2019-03-18', <Service.FACEBOOK: 'Facebook'>),\n ('2019-03-18', <Service.TELEGRAM: 'Telegram'>),\n ('2019-03-18', <Service.APPLE_IMESSAGE: 'Apple_iMessage'>),\n ('2019-03-18', <Service.MICROSOFT_STORE: 'Microsoft_Store'>),\n ('2019-03-18', <Service.MOLOTOV: 'Molotov'>),\n ('2019-03-18', <Service.GOOGLE_MAPS: 'Google_Maps'>),\n ('2019-03-18', <Service.TOR: 'Tor'>),\n ('2019-03-18', <Service.GOOGLE_PLAY_STORE: 'Google_Play_Store'>),\n ('2019-03-18', <Service.WEB_E_COMMERCE: 'Web_e-Commerce'>),\n ('2019-03-18', <Service.FORTNITE: 'Fortnite'>),\n ('2019-03-18', <Service.MICROSOFT_MAIL: 'Microsoft_Mail'>),\n ('2019-03-18', <Service.PERISCOPE: 'Periscope'>),\n ('2019-03-18', <Service.GOOGLE_WEB_SERVICES: 'Google_Web_Services'>),\n ('2019-03-18', <Service.SPOTIFY: 'Spotify'>),\n ('2019-03-18', <Service.MICROSOFT_WEB_SERVICES: 'Microsoft_Web_Services'>),\n ('2019-03-18', <Service.WEB_STREAMING: 'Web_Streaming'>),\n ('2019-03-18', <Service.YAHOO: 'Yahoo'>),\n ('2019-03-19', <Service.TWITCH: 'Twitch'>),\n ('2019-03-19', <Service.ORANGE_TV: 'Orange_TV'>),\n ('2019-03-19', <Service.MICROSOFT_AZURE: 'Microsoft_Azure'>),\n ('2019-03-19', <Service.APPLE_ICLOUD: 'Apple_iCloud'>),\n ('2019-03-19', <Service.WEB_GAMES: 'Web_Games'>),\n ('2019-03-19', <Service.PLAYSTATION: 'PlayStation'>),\n ('2019-03-19', <Service.TEAMVIEWER: 'TeamViewer'>),\n ('2019-03-19', <Service.WEB_WEATHER: 'Web_Weather'>),\n ('2019-03-19', <Service.GOOGLE_MEET: 'Google_Meet'>),\n ('2019-03-19', <Service.TWITTER: 'Twitter'>),\n ('2019-03-19', <Service.AMAZON_WEB_SERVICES: 'Amazon_Web_Services'>),\n ('2019-03-19', <Service.APPLE_MUSIC: 'Apple_Music'>),\n ('2019-03-19', <Service.APPLE_SIRI: 'Apple_Siri'>),\n ('2019-03-19', <Service.WEB_ADS: 'Web_Ads'>),\n ('2019-03-19', <Service.SOUNDCLOUD: 'SoundCloud'>),\n ('2019-03-19', <Service.WIKIPEDIA: 'Wikipedia'>),\n ('2019-03-19', <Service.MICROSOFT_SKYDRIVE: 'Microsoft_Skydrive'>),\n ('2019-03-19', <Service.WEB_TRANSPORTATION: 'Web_Transportation'>),\n ('2019-03-19', <Service.MICROSOFT_OFFICE: 'Microsoft_Office'>),\n ('2019-03-19', <Service.YAHOO_MAIL: 'Yahoo_Mail'>),\n ('2019-03-19', <Service.WEB_FOOD: 'Web_Food'>),\n ('2019-03-19', <Service.WHATSAPP: 'WhatsApp'>),\n ('2019-03-19', <Service.GOOGLE_MAIL: 'Google_Mail'>),\n ('2019-03-19', <Service.YOUTUBE: 'YouTube'>),\n ('2019-03-19', <Service.UBER: 'Uber'>),\n ('2019-03-19', <Service.PINTEREST: 'Pinterest'>),\n ('2019-03-19', <Service.WEB_CLOTHES: 'Web_Clothes'>),\n ('2019-03-19', <Service.DROPBOX: 'Dropbox'>),\n ('2019-03-19', <Service.APPLE_MAIL: 'Apple_Mail'>),\n ('2019-03-19', <Service.WEB_ADULT: 'Web_Adult'>),\n ('2019-03-19', <Service.DAILYMOTION: 'DailyMotion'>),\n ('2019-03-19', <Service.INSTAGRAM: 'Instagram'>),\n ('2019-03-19', <Service.SKYPE: 'Skype'>),\n ('2019-03-19', <Service.CLASH_OF_CLANS: 'Clash_of_Clans'>),\n ('2019-03-19', <Service.POKEMON_GO: 'Pokemon_GO'>),\n ('2019-03-19', <Service.APPLE_APP_STORE: 'Apple_App_Store'>),\n ('2019-03-19', <Service.GOOGLE_DRIVE: 'Google_Drive'>),\n ('2019-03-19', <Service.APPLE_WEB_SERVICES: 'Apple_Web_Services'>),\n ('2019-03-19', <Service.APPLE_ITUNES: 'Apple_iTunes'>),\n ('2019-03-19', <Service.WEB_FINANCE: 'Web_Finance'>),\n ('2019-03-19', <Service.FACEBOOK_LIVE: 'Facebook_Live'>),\n ('2019-03-19', <Service.WEB_DOWNLOADS: 'Web_Downloads'>),\n ('2019-03-19', <Service.EA_GAMES: 'EA_Games'>),\n ('2019-03-19', <Service.WAZE: 'Waze'>),\n ('2019-03-19', <Service.GOOGLE_DOCS: 'Google_Docs'>),\n ('2019-03-19', <Service.APPLE_VIDEO: 'Apple_Video'>),\n ('2019-03-19', <Service.LINKEDIN: 'LinkedIn'>),\n ('2019-03-19', <Service.FACEBOOK_MESSENGER: 'Facebook_Messenger'>),\n ('2019-03-19', <Service.SNAPCHAT: 'Snapchat'>),\n ('2019-03-19', <Service.DEEZER: 'Deezer'>),\n ('2019-03-19', <Service.NETFLIX: 'Netflix'>),\n ('2019-03-19', <Service.FACEBOOK: 'Facebook'>),\n ('2019-03-19', <Service.TELEGRAM: 'Telegram'>),\n ('2019-03-19', <Service.APPLE_IMESSAGE: 'Apple_iMessage'>),\n ('2019-03-19', <Service.MICROSOFT_STORE: 'Microsoft_Store'>),\n ('2019-03-19', <Service.MOLOTOV: 'Molotov'>),\n ('2019-03-19', <Service.GOOGLE_MAPS: 'Google_Maps'>),\n ('2019-03-19', <Service.TOR: 'Tor'>),\n ('2019-03-19', <Service.GOOGLE_PLAY_STORE: 'Google_Play_Store'>),\n ('2019-03-19', <Service.WEB_E_COMMERCE: 'Web_e-Commerce'>),\n ('2019-03-19', <Service.FORTNITE: 'Fortnite'>),\n ('2019-03-19', <Service.MICROSOFT_MAIL: 'Microsoft_Mail'>),\n ('2019-03-19', <Service.PERISCOPE: 'Periscope'>),\n ('2019-03-19', <Service.GOOGLE_WEB_SERVICES: 'Google_Web_Services'>),\n ('2019-03-19', <Service.SPOTIFY: 'Spotify'>),\n ('2019-03-19', <Service.MICROSOFT_WEB_SERVICES: 'Microsoft_Web_Services'>),\n ('2019-03-19', <Service.WEB_STREAMING: 'Web_Streaming'>),\n ('2019-03-19', <Service.YAHOO: 'Yahoo'>),\n ('2019-03-20', <Service.TWITCH: 'Twitch'>),\n ('2019-03-20', <Service.ORANGE_TV: 'Orange_TV'>),\n ('2019-03-20', <Service.MICROSOFT_AZURE: 'Microsoft_Azure'>),\n ('2019-03-20', <Service.APPLE_ICLOUD: 'Apple_iCloud'>),\n ('2019-03-20', <Service.WEB_GAMES: 'Web_Games'>),\n ('2019-03-20', <Service.PLAYSTATION: 'PlayStation'>),\n ('2019-03-20', <Service.TEAMVIEWER: 'TeamViewer'>),\n ('2019-03-20', <Service.WEB_WEATHER: 'Web_Weather'>),\n ('2019-03-20', <Service.GOOGLE_MEET: 'Google_Meet'>),\n ('2019-03-20', <Service.TWITTER: 'Twitter'>),\n ('2019-03-20', <Service.AMAZON_WEB_SERVICES: 'Amazon_Web_Services'>),\n ('2019-03-20', <Service.APPLE_MUSIC: 'Apple_Music'>),\n ('2019-03-20', <Service.APPLE_SIRI: 'Apple_Siri'>),\n ('2019-03-20', <Service.WEB_ADS: 'Web_Ads'>),\n ('2019-03-20', <Service.SOUNDCLOUD: 'SoundCloud'>),\n ('2019-03-20', <Service.WIKIPEDIA: 'Wikipedia'>),\n ('2019-03-20', <Service.MICROSOFT_SKYDRIVE: 'Microsoft_Skydrive'>),\n ('2019-03-20', <Service.WEB_TRANSPORTATION: 'Web_Transportation'>),\n ('2019-03-20', <Service.MICROSOFT_OFFICE: 'Microsoft_Office'>),\n ('2019-03-20', <Service.YAHOO_MAIL: 'Yahoo_Mail'>),\n ('2019-03-20', <Service.WEB_FOOD: 'Web_Food'>),\n ('2019-03-20', <Service.WHATSAPP: 'WhatsApp'>),\n ('2019-03-20', <Service.GOOGLE_MAIL: 'Google_Mail'>),\n ('2019-03-20', <Service.YOUTUBE: 'YouTube'>),\n ('2019-03-20', <Service.UBER: 'Uber'>),\n ('2019-03-20', <Service.PINTEREST: 'Pinterest'>),\n ('2019-03-20', <Service.WEB_CLOTHES: 'Web_Clothes'>),\n ('2019-03-20', <Service.DROPBOX: 'Dropbox'>),\n ('2019-03-20', <Service.APPLE_MAIL: 'Apple_Mail'>),\n ('2019-03-20', <Service.WEB_ADULT: 'Web_Adult'>),\n ('2019-03-20', <Service.DAILYMOTION: 'DailyMotion'>),\n ('2019-03-20', <Service.INSTAGRAM: 'Instagram'>),\n ('2019-03-20', <Service.SKYPE: 'Skype'>),\n ('2019-03-20', <Service.CLASH_OF_CLANS: 'Clash_of_Clans'>),\n ('2019-03-20', <Service.POKEMON_GO: 'Pokemon_GO'>),\n ('2019-03-20', <Service.APPLE_APP_STORE: 'Apple_App_Store'>),\n ('2019-03-20', <Service.GOOGLE_DRIVE: 'Google_Drive'>),\n ('2019-03-20', <Service.APPLE_WEB_SERVICES: 'Apple_Web_Services'>),\n ('2019-03-20', <Service.APPLE_ITUNES: 'Apple_iTunes'>),\n ('2019-03-20', <Service.WEB_FINANCE: 'Web_Finance'>),\n ('2019-03-20', <Service.FACEBOOK_LIVE: 'Facebook_Live'>),\n ('2019-03-20', <Service.WEB_DOWNLOADS: 'Web_Downloads'>),\n ('2019-03-20', <Service.EA_GAMES: 'EA_Games'>),\n ('2019-03-20', <Service.WAZE: 'Waze'>),\n ('2019-03-20', <Service.GOOGLE_DOCS: 'Google_Docs'>),\n ('2019-03-20', <Service.APPLE_VIDEO: 'Apple_Video'>),\n ('2019-03-20', <Service.LINKEDIN: 'LinkedIn'>),\n ('2019-03-20', <Service.FACEBOOK_MESSENGER: 'Facebook_Messenger'>),\n ('2019-03-20', <Service.SNAPCHAT: 'Snapchat'>),\n ('2019-03-20', <Service.DEEZER: 'Deezer'>),\n ('2019-03-20', <Service.NETFLIX: 'Netflix'>),\n ('2019-03-20', <Service.FACEBOOK: 'Facebook'>),\n ('2019-03-20', <Service.TELEGRAM: 'Telegram'>),\n ('2019-03-20', <Service.APPLE_IMESSAGE: 'Apple_iMessage'>),\n ('2019-03-20', <Service.MICROSOFT_STORE: 'Microsoft_Store'>),\n ('2019-03-20', <Service.MOLOTOV: 'Molotov'>),\n ('2019-03-20', <Service.GOOGLE_MAPS: 'Google_Maps'>),\n ('2019-03-20', <Service.TOR: 'Tor'>),\n ('2019-03-20', <Service.GOOGLE_PLAY_STORE: 'Google_Play_Store'>),\n ('2019-03-20', <Service.WEB_E_COMMERCE: 'Web_e-Commerce'>),\n ('2019-03-20', <Service.FORTNITE: 'Fortnite'>),\n ('2019-03-20', <Service.MICROSOFT_MAIL: 'Microsoft_Mail'>),\n ('2019-03-20', <Service.PERISCOPE: 'Periscope'>),\n ('2019-03-20', <Service.GOOGLE_WEB_SERVICES: 'Google_Web_Services'>),\n ('2019-03-20', <Service.SPOTIFY: 'Spotify'>),\n ('2019-03-20', <Service.MICROSOFT_WEB_SERVICES: 'Microsoft_Web_Services'>),\n ('2019-03-20', <Service.WEB_STREAMING: 'Web_Streaming'>),\n ('2019-03-20', <Service.YAHOO: 'Yahoo'>),\n ('2019-03-21', <Service.TWITCH: 'Twitch'>),\n ('2019-03-21', <Service.ORANGE_TV: 'Orange_TV'>),\n ('2019-03-21', <Service.MICROSOFT_AZURE: 'Microsoft_Azure'>),\n ('2019-03-21', <Service.APPLE_ICLOUD: 'Apple_iCloud'>),\n ('2019-03-21', <Service.WEB_GAMES: 'Web_Games'>),\n ('2019-03-21', <Service.PLAYSTATION: 'PlayStation'>),\n ('2019-03-21', <Service.TEAMVIEWER: 'TeamViewer'>),\n ('2019-03-21', <Service.WEB_WEATHER: 'Web_Weather'>),\n ('2019-03-21', <Service.GOOGLE_MEET: 'Google_Meet'>),\n ('2019-03-21', <Service.TWITTER: 'Twitter'>),\n ('2019-03-21', <Service.AMAZON_WEB_SERVICES: 'Amazon_Web_Services'>),\n ('2019-03-21', <Service.APPLE_MUSIC: 'Apple_Music'>),\n ('2019-03-21', <Service.APPLE_SIRI: 'Apple_Siri'>),\n ('2019-03-21', <Service.WEB_ADS: 'Web_Ads'>),\n ('2019-03-21', <Service.SOUNDCLOUD: 'SoundCloud'>),\n ('2019-03-21', <Service.WIKIPEDIA: 'Wikipedia'>),\n ('2019-03-21', <Service.MICROSOFT_SKYDRIVE: 'Microsoft_Skydrive'>),\n ('2019-03-21', <Service.WEB_TRANSPORTATION: 'Web_Transportation'>),\n ('2019-03-21', <Service.MICROSOFT_OFFICE: 'Microsoft_Office'>),\n ('2019-03-21', <Service.YAHOO_MAIL: 'Yahoo_Mail'>),\n ('2019-03-21', <Service.WEB_FOOD: 'Web_Food'>),\n ('2019-03-21', <Service.WHATSAPP: 'WhatsApp'>),\n ('2019-03-21', <Service.GOOGLE_MAIL: 'Google_Mail'>),\n ('2019-03-21', <Service.YOUTUBE: 'YouTube'>),\n ('2019-03-21', <Service.UBER: 'Uber'>),\n ('2019-03-21', <Service.PINTEREST: 'Pinterest'>),\n ('2019-03-21', <Service.WEB_CLOTHES: 'Web_Clothes'>),\n ('2019-03-21', <Service.DROPBOX: 'Dropbox'>),\n ('2019-03-21', <Service.APPLE_MAIL: 'Apple_Mail'>),\n ('2019-03-21', <Service.WEB_ADULT: 'Web_Adult'>),\n ('2019-03-21', <Service.DAILYMOTION: 'DailyMotion'>),\n ('2019-03-21', <Service.INSTAGRAM: 'Instagram'>),\n ('2019-03-21', <Service.SKYPE: 'Skype'>),\n ('2019-03-21', <Service.CLASH_OF_CLANS: 'Clash_of_Clans'>),\n ('2019-03-21', <Service.POKEMON_GO: 'Pokemon_GO'>),\n ('2019-03-21', <Service.APPLE_APP_STORE: 'Apple_App_Store'>),\n ('2019-03-21', <Service.GOOGLE_DRIVE: 'Google_Drive'>),\n ('2019-03-21', <Service.APPLE_WEB_SERVICES: 'Apple_Web_Services'>),\n ('2019-03-21', <Service.APPLE_ITUNES: 'Apple_iTunes'>),\n ('2019-03-21', <Service.WEB_FINANCE: 'Web_Finance'>),\n ('2019-03-21', <Service.FACEBOOK_LIVE: 'Facebook_Live'>),\n ('2019-03-21', <Service.WEB_DOWNLOADS: 'Web_Downloads'>),\n ('2019-03-21', <Service.EA_GAMES: 'EA_Games'>),\n ('2019-03-21', <Service.WAZE: 'Waze'>),\n ('2019-03-21', <Service.GOOGLE_DOCS: 'Google_Docs'>),\n ('2019-03-21', <Service.APPLE_VIDEO: 'Apple_Video'>),\n ('2019-03-21', <Service.LINKEDIN: 'LinkedIn'>),\n ('2019-03-21', <Service.FACEBOOK_MESSENGER: 'Facebook_Messenger'>),\n ('2019-03-21', <Service.SNAPCHAT: 'Snapchat'>),\n ('2019-03-21', <Service.DEEZER: 'Deezer'>),\n ('2019-03-21', <Service.NETFLIX: 'Netflix'>),\n ('2019-03-21', <Service.FACEBOOK: 'Facebook'>),\n ('2019-03-21', <Service.TELEGRAM: 'Telegram'>),\n ('2019-03-21', <Service.APPLE_IMESSAGE: 'Apple_iMessage'>),\n ('2019-03-21', <Service.MICROSOFT_STORE: 'Microsoft_Store'>),\n ('2019-03-21', <Service.MOLOTOV: 'Molotov'>),\n ('2019-03-21', <Service.GOOGLE_MAPS: 'Google_Maps'>),\n ('2019-03-21', <Service.TOR: 'Tor'>),\n ('2019-03-21', <Service.GOOGLE_PLAY_STORE: 'Google_Play_Store'>),\n ('2019-03-21', <Service.WEB_E_COMMERCE: 'Web_e-Commerce'>),\n ('2019-03-21', <Service.FORTNITE: 'Fortnite'>),\n ('2019-03-21', <Service.MICROSOFT_MAIL: 'Microsoft_Mail'>),\n ('2019-03-21', <Service.PERISCOPE: 'Periscope'>),\n ('2019-03-21', <Service.GOOGLE_WEB_SERVICES: 'Google_Web_Services'>),\n ('2019-03-21', <Service.SPOTIFY: 'Spotify'>),\n ('2019-03-21', <Service.MICROSOFT_WEB_SERVICES: 'Microsoft_Web_Services'>),\n ('2019-03-21', <Service.WEB_STREAMING: 'Web_Streaming'>),\n ('2019-03-21', <Service.YAHOO: 'Yahoo'>),\n ('2019-03-22', <Service.TWITCH: 'Twitch'>),\n ('2019-03-22', <Service.ORANGE_TV: 'Orange_TV'>),\n ('2019-03-22', <Service.MICROSOFT_AZURE: 'Microsoft_Azure'>),\n ('2019-03-22', <Service.APPLE_ICLOUD: 'Apple_iCloud'>),\n ('2019-03-22', <Service.WEB_GAMES: 'Web_Games'>),\n ('2019-03-22', <Service.PLAYSTATION: 'PlayStation'>),\n ('2019-03-22', <Service.TEAMVIEWER: 'TeamViewer'>),\n ('2019-03-22', <Service.WEB_WEATHER: 'Web_Weather'>),\n ('2019-03-22', <Service.GOOGLE_MEET: 'Google_Meet'>),\n ('2019-03-22', <Service.TWITTER: 'Twitter'>),\n ('2019-03-22', <Service.AMAZON_WEB_SERVICES: 'Amazon_Web_Services'>),\n ('2019-03-22', <Service.APPLE_MUSIC: 'Apple_Music'>),\n ('2019-03-22', <Service.APPLE_SIRI: 'Apple_Siri'>),\n ('2019-03-22', <Service.WEB_ADS: 'Web_Ads'>),\n ('2019-03-22', <Service.SOUNDCLOUD: 'SoundCloud'>),\n ('2019-03-22', <Service.WIKIPEDIA: 'Wikipedia'>),\n ('2019-03-22', <Service.MICROSOFT_SKYDRIVE: 'Microsoft_Skydrive'>),\n ('2019-03-22', <Service.WEB_TRANSPORTATION: 'Web_Transportation'>),\n ('2019-03-22', <Service.MICROSOFT_OFFICE: 'Microsoft_Office'>),\n ('2019-03-22', <Service.YAHOO_MAIL: 'Yahoo_Mail'>),\n ('2019-03-22', <Service.WEB_FOOD: 'Web_Food'>),\n ('2019-03-22', <Service.WHATSAPP: 'WhatsApp'>),\n ('2019-03-22', <Service.GOOGLE_MAIL: 'Google_Mail'>),\n ('2019-03-22', <Service.YOUTUBE: 'YouTube'>),\n ('2019-03-22', <Service.UBER: 'Uber'>),\n ('2019-03-22', <Service.PINTEREST: 'Pinterest'>),\n ('2019-03-22', <Service.WEB_CLOTHES: 'Web_Clothes'>),\n ('2019-03-22', <Service.DROPBOX: 'Dropbox'>),\n ('2019-03-22', <Service.APPLE_MAIL: 'Apple_Mail'>),\n ('2019-03-22', <Service.WEB_ADULT: 'Web_Adult'>),\n ('2019-03-22', <Service.DAILYMOTION: 'DailyMotion'>),\n ('2019-03-22', <Service.INSTAGRAM: 'Instagram'>),\n ('2019-03-22', <Service.SKYPE: 'Skype'>),\n ('2019-03-22', <Service.CLASH_OF_CLANS: 'Clash_of_Clans'>),\n ('2019-03-22', <Service.POKEMON_GO: 'Pokemon_GO'>),\n ('2019-03-22', <Service.APPLE_APP_STORE: 'Apple_App_Store'>),\n ('2019-03-22', <Service.GOOGLE_DRIVE: 'Google_Drive'>),\n ('2019-03-22', <Service.APPLE_WEB_SERVICES: 'Apple_Web_Services'>),\n ('2019-03-22', <Service.APPLE_ITUNES: 'Apple_iTunes'>),\n ('2019-03-22', <Service.WEB_FINANCE: 'Web_Finance'>),\n ('2019-03-22', <Service.FACEBOOK_LIVE: 'Facebook_Live'>),\n ('2019-03-22', <Service.WEB_DOWNLOADS: 'Web_Downloads'>),\n ('2019-03-22', <Service.EA_GAMES: 'EA_Games'>),\n ('2019-03-22', <Service.WAZE: 'Waze'>),\n ('2019-03-22', <Service.GOOGLE_DOCS: 'Google_Docs'>),\n ('2019-03-22', <Service.APPLE_VIDEO: 'Apple_Video'>),\n ('2019-03-22', <Service.LINKEDIN: 'LinkedIn'>),\n ('2019-03-22', <Service.FACEBOOK_MESSENGER: 'Facebook_Messenger'>),\n ('2019-03-22', <Service.SNAPCHAT: 'Snapchat'>),\n ('2019-03-22', <Service.DEEZER: 'Deezer'>),\n ('2019-03-22', <Service.NETFLIX: 'Netflix'>),\n ('2019-03-22', <Service.FACEBOOK: 'Facebook'>),\n ('2019-03-22', <Service.TELEGRAM: 'Telegram'>),\n ('2019-03-22', <Service.APPLE_IMESSAGE: 'Apple_iMessage'>),\n ('2019-03-22', <Service.MICROSOFT_STORE: 'Microsoft_Store'>),\n ('2019-03-22', <Service.MOLOTOV: 'Molotov'>),\n ('2019-03-22', <Service.GOOGLE_MAPS: 'Google_Maps'>),\n ('2019-03-22', <Service.TOR: 'Tor'>),\n ('2019-03-22', <Service.GOOGLE_PLAY_STORE: 'Google_Play_Store'>),\n ('2019-03-22', <Service.WEB_E_COMMERCE: 'Web_e-Commerce'>),\n ('2019-03-22', <Service.FORTNITE: 'Fortnite'>),\n ('2019-03-22', <Service.MICROSOFT_MAIL: 'Microsoft_Mail'>),\n ('2019-03-22', <Service.PERISCOPE: 'Periscope'>),\n ('2019-03-22', <Service.GOOGLE_WEB_SERVICES: 'Google_Web_Services'>),\n ('2019-03-22', <Service.SPOTIFY: 'Spotify'>),\n ('2019-03-22', <Service.MICROSOFT_WEB_SERVICES: 'Microsoft_Web_Services'>),\n ('2019-03-22', <Service.WEB_STREAMING: 'Web_Streaming'>),\n ('2019-03-22', <Service.YAHOO: 'Yahoo'>),\n ('2019-03-23', <Service.TWITCH: 'Twitch'>),\n ('2019-03-23', <Service.ORANGE_TV: 'Orange_TV'>),\n ('2019-03-23', <Service.MICROSOFT_AZURE: 'Microsoft_Azure'>),\n ('2019-03-23', <Service.APPLE_ICLOUD: 'Apple_iCloud'>),\n ('2019-03-23', <Service.WEB_GAMES: 'Web_Games'>),\n ('2019-03-23', <Service.PLAYSTATION: 'PlayStation'>),\n ('2019-03-23', <Service.TEAMVIEWER: 'TeamViewer'>),\n ('2019-03-23', <Service.WEB_WEATHER: 'Web_Weather'>),\n ('2019-03-23', <Service.GOOGLE_MEET: 'Google_Meet'>),\n ('2019-03-23', <Service.TWITTER: 'Twitter'>),\n ('2019-03-23', <Service.AMAZON_WEB_SERVICES: 'Amazon_Web_Services'>),\n ('2019-03-23', <Service.APPLE_MUSIC: 'Apple_Music'>),\n ('2019-03-23', <Service.APPLE_SIRI: 'Apple_Siri'>),\n ('2019-03-23', <Service.WEB_ADS: 'Web_Ads'>),\n ('2019-03-23', <Service.SOUNDCLOUD: 'SoundCloud'>),\n ('2019-03-23', <Service.WIKIPEDIA: 'Wikipedia'>),\n ('2019-03-23', <Service.MICROSOFT_SKYDRIVE: 'Microsoft_Skydrive'>),\n ('2019-03-23', <Service.WEB_TRANSPORTATION: 'Web_Transportation'>),\n ('2019-03-23', <Service.MICROSOFT_OFFICE: 'Microsoft_Office'>),\n ('2019-03-23', <Service.YAHOO_MAIL: 'Yahoo_Mail'>),\n ('2019-03-23', <Service.WEB_FOOD: 'Web_Food'>),\n ('2019-03-23', <Service.WHATSAPP: 'WhatsApp'>),\n ('2019-03-23', <Service.GOOGLE_MAIL: 'Google_Mail'>),\n ('2019-03-23', <Service.YOUTUBE: 'YouTube'>),\n ('2019-03-23', <Service.UBER: 'Uber'>),\n ('2019-03-23', <Service.PINTEREST: 'Pinterest'>),\n ('2019-03-23', <Service.WEB_CLOTHES: 'Web_Clothes'>),\n ('2019-03-23', <Service.DROPBOX: 'Dropbox'>),\n ('2019-03-23', <Service.APPLE_MAIL: 'Apple_Mail'>),\n ('2019-03-23', <Service.WEB_ADULT: 'Web_Adult'>),\n ('2019-03-23', <Service.DAILYMOTION: 'DailyMotion'>),\n ('2019-03-23', <Service.INSTAGRAM: 'Instagram'>),\n ('2019-03-23', <Service.SKYPE: 'Skype'>),\n ('2019-03-23', <Service.CLASH_OF_CLANS: 'Clash_of_Clans'>),\n ('2019-03-23', <Service.POKEMON_GO: 'Pokemon_GO'>),\n ('2019-03-23', <Service.APPLE_APP_STORE: 'Apple_App_Store'>),\n ('2019-03-23', <Service.GOOGLE_DRIVE: 'Google_Drive'>),\n ('2019-03-23', <Service.APPLE_WEB_SERVICES: 'Apple_Web_Services'>),\n ('2019-03-23', <Service.APPLE_ITUNES: 'Apple_iTunes'>),\n ('2019-03-23', <Service.WEB_FINANCE: 'Web_Finance'>),\n ('2019-03-23', <Service.FACEBOOK_LIVE: 'Facebook_Live'>),\n ('2019-03-23', <Service.WEB_DOWNLOADS: 'Web_Downloads'>),\n ('2019-03-23', <Service.EA_GAMES: 'EA_Games'>),\n ('2019-03-23', <Service.WAZE: 'Waze'>),\n ('2019-03-23', <Service.GOOGLE_DOCS: 'Google_Docs'>),\n ('2019-03-23', <Service.APPLE_VIDEO: 'Apple_Video'>),\n ('2019-03-23', <Service.LINKEDIN: 'LinkedIn'>),\n ('2019-03-23', <Service.FACEBOOK_MESSENGER: 'Facebook_Messenger'>),\n ('2019-03-23', <Service.SNAPCHAT: 'Snapchat'>),\n ('2019-03-23', <Service.DEEZER: 'Deezer'>),\n ('2019-03-23', <Service.NETFLIX: 'Netflix'>),\n ('2019-03-23', <Service.FACEBOOK: 'Facebook'>),\n ('2019-03-23', <Service.TELEGRAM: 'Telegram'>),\n ('2019-03-23', <Service.APPLE_IMESSAGE: 'Apple_iMessage'>),\n ('2019-03-23', <Service.MICROSOFT_STORE: 'Microsoft_Store'>),\n ('2019-03-23', <Service.MOLOTOV: 'Molotov'>),\n ('2019-03-23', <Service.GOOGLE_MAPS: 'Google_Maps'>),\n ('2019-03-23', <Service.TOR: 'Tor'>),\n ('2019-03-23', <Service.GOOGLE_PLAY_STORE: 'Google_Play_Store'>),\n ('2019-03-23', <Service.WEB_E_COMMERCE: 'Web_e-Commerce'>),\n ('2019-03-23', <Service.FORTNITE: 'Fortnite'>),\n ('2019-03-23', <Service.MICROSOFT_MAIL: 'Microsoft_Mail'>),\n ('2019-03-23', <Service.PERISCOPE: 'Periscope'>),\n ('2019-03-23', <Service.GOOGLE_WEB_SERVICES: 'Google_Web_Services'>),\n ('2019-03-23', <Service.SPOTIFY: 'Spotify'>),\n ('2019-03-23', <Service.MICROSOFT_WEB_SERVICES: 'Microsoft_Web_Services'>),\n ('2019-03-23', <Service.WEB_STREAMING: 'Web_Streaming'>),\n ('2019-03-23', <Service.YAHOO: 'Yahoo'>),\n ('2019-03-24', <Service.TWITCH: 'Twitch'>),\n ('2019-03-24', <Service.ORANGE_TV: 'Orange_TV'>),\n ('2019-03-24', <Service.MICROSOFT_AZURE: 'Microsoft_Azure'>),\n ('2019-03-24', <Service.APPLE_ICLOUD: 'Apple_iCloud'>),\n ('2019-03-24', <Service.WEB_GAMES: 'Web_Games'>),\n ('2019-03-24', <Service.PLAYSTATION: 'PlayStation'>),\n ('2019-03-24', <Service.TEAMVIEWER: 'TeamViewer'>),\n ('2019-03-24', <Service.WEB_WEATHER: 'Web_Weather'>),\n ('2019-03-24', <Service.GOOGLE_MEET: 'Google_Meet'>),\n ('2019-03-24', <Service.TWITTER: 'Twitter'>),\n ('2019-03-24', <Service.AMAZON_WEB_SERVICES: 'Amazon_Web_Services'>),\n ('2019-03-24', <Service.APPLE_MUSIC: 'Apple_Music'>),\n ('2019-03-24', <Service.APPLE_SIRI: 'Apple_Siri'>),\n ('2019-03-24', <Service.WEB_ADS: 'Web_Ads'>),\n ('2019-03-24', <Service.SOUNDCLOUD: 'SoundCloud'>),\n ('2019-03-24', <Service.WIKIPEDIA: 'Wikipedia'>),\n ('2019-03-24', <Service.MICROSOFT_SKYDRIVE: 'Microsoft_Skydrive'>),\n ('2019-03-24', <Service.WEB_TRANSPORTATION: 'Web_Transportation'>),\n ('2019-03-24', <Service.MICROSOFT_OFFICE: 'Microsoft_Office'>),\n ('2019-03-24', <Service.YAHOO_MAIL: 'Yahoo_Mail'>),\n ('2019-03-24', <Service.WEB_FOOD: 'Web_Food'>),\n ('2019-03-24', <Service.WHATSAPP: 'WhatsApp'>),\n ('2019-03-24', <Service.GOOGLE_MAIL: 'Google_Mail'>),\n ('2019-03-24', <Service.YOUTUBE: 'YouTube'>),\n ('2019-03-24', <Service.UBER: 'Uber'>),\n ('2019-03-24', <Service.PINTEREST: 'Pinterest'>),\n ('2019-03-24', <Service.WEB_CLOTHES: 'Web_Clothes'>),\n ('2019-03-24', <Service.DROPBOX: 'Dropbox'>),\n ('2019-03-24', <Service.APPLE_MAIL: 'Apple_Mail'>),\n ('2019-03-24', <Service.WEB_ADULT: 'Web_Adult'>),\n ('2019-03-24', <Service.DAILYMOTION: 'DailyMotion'>),\n ('2019-03-24', <Service.INSTAGRAM: 'Instagram'>),\n ('2019-03-24', <Service.SKYPE: 'Skype'>),\n ('2019-03-24', <Service.CLASH_OF_CLANS: 'Clash_of_Clans'>),\n ('2019-03-24', <Service.POKEMON_GO: 'Pokemon_GO'>),\n ('2019-03-24', <Service.APPLE_APP_STORE: 'Apple_App_Store'>),\n ('2019-03-24', <Service.GOOGLE_DRIVE: 'Google_Drive'>),\n ('2019-03-24', <Service.APPLE_WEB_SERVICES: 'Apple_Web_Services'>),\n ('2019-03-24', <Service.APPLE_ITUNES: 'Apple_iTunes'>),\n ('2019-03-24', <Service.WEB_FINANCE: 'Web_Finance'>),\n ('2019-03-24', <Service.FACEBOOK_LIVE: 'Facebook_Live'>),\n ('2019-03-24', <Service.WEB_DOWNLOADS: 'Web_Downloads'>),\n ('2019-03-24', <Service.EA_GAMES: 'EA_Games'>),\n ('2019-03-24', <Service.WAZE: 'Waze'>),\n ('2019-03-24', <Service.GOOGLE_DOCS: 'Google_Docs'>),\n ('2019-03-24', <Service.APPLE_VIDEO: 'Apple_Video'>),\n ('2019-03-24', <Service.LINKEDIN: 'LinkedIn'>),\n ('2019-03-24', <Service.FACEBOOK_MESSENGER: 'Facebook_Messenger'>),\n ('2019-03-24', <Service.SNAPCHAT: 'Snapchat'>),\n ('2019-03-24', <Service.DEEZER: 'Deezer'>),\n ('2019-03-24', <Service.NETFLIX: 'Netflix'>),\n ('2019-03-24', <Service.FACEBOOK: 'Facebook'>),\n ('2019-03-24', <Service.TELEGRAM: 'Telegram'>),\n ('2019-03-24', <Service.APPLE_IMESSAGE: 'Apple_iMessage'>),\n ('2019-03-24', <Service.MICROSOFT_STORE: 'Microsoft_Store'>),\n ('2019-03-24', <Service.MOLOTOV: 'Molotov'>),\n ('2019-03-24', <Service.GOOGLE_MAPS: 'Google_Maps'>),\n ('2019-03-24', <Service.TOR: 'Tor'>),\n ('2019-03-24', <Service.GOOGLE_PLAY_STORE: 'Google_Play_Store'>),\n ('2019-03-24', <Service.WEB_E_COMMERCE: 'Web_e-Commerce'>),\n ('2019-03-24', <Service.FORTNITE: 'Fortnite'>),\n ('2019-03-24', <Service.MICROSOFT_MAIL: 'Microsoft_Mail'>),\n ('2019-03-24', <Service.PERISCOPE: 'Periscope'>),\n ('2019-03-24', <Service.GOOGLE_WEB_SERVICES: 'Google_Web_Services'>),\n ('2019-03-24', <Service.SPOTIFY: 'Spotify'>),\n ('2019-03-24', <Service.MICROSOFT_WEB_SERVICES: 'Microsoft_Web_Services'>),\n ('2019-03-24', <Service.WEB_STREAMING: 'Web_Streaming'>),\n ('2019-03-24', <Service.YAHOO: 'Yahoo'>),\n ('2019-03-25', <Service.TWITCH: 'Twitch'>),\n ('2019-03-25', <Service.ORANGE_TV: 'Orange_TV'>),\n ('2019-03-25', <Service.MICROSOFT_AZURE: 'Microsoft_Azure'>),\n ('2019-03-25', <Service.APPLE_ICLOUD: 'Apple_iCloud'>),\n ('2019-03-25', <Service.WEB_GAMES: 'Web_Games'>),\n ('2019-03-25', <Service.PLAYSTATION: 'PlayStation'>),\n ('2019-03-25', <Service.TEAMVIEWER: 'TeamViewer'>),\n ('2019-03-25', <Service.WEB_WEATHER: 'Web_Weather'>),\n ('2019-03-25', <Service.GOOGLE_MEET: 'Google_Meet'>),\n ('2019-03-25', <Service.TWITTER: 'Twitter'>),\n ('2019-03-25', <Service.AMAZON_WEB_SERVICES: 'Amazon_Web_Services'>),\n ('2019-03-25', <Service.APPLE_MUSIC: 'Apple_Music'>),\n ('2019-03-25', <Service.APPLE_SIRI: 'Apple_Siri'>),\n ('2019-03-25', <Service.WEB_ADS: 'Web_Ads'>),\n ('2019-03-25', <Service.SOUNDCLOUD: 'SoundCloud'>),\n ('2019-03-25', <Service.WIKIPEDIA: 'Wikipedia'>),\n ('2019-03-25', <Service.MICROSOFT_SKYDRIVE: 'Microsoft_Skydrive'>),\n ('2019-03-25', <Service.WEB_TRANSPORTATION: 'Web_Transportation'>),\n ('2019-03-25', <Service.MICROSOFT_OFFICE: 'Microsoft_Office'>),\n ('2019-03-25', <Service.YAHOO_MAIL: 'Yahoo_Mail'>),\n ('2019-03-25', <Service.WEB_FOOD: 'Web_Food'>),\n ('2019-03-25', <Service.WHATSAPP: 'WhatsApp'>),\n ('2019-03-25', <Service.GOOGLE_MAIL: 'Google_Mail'>),\n ('2019-03-25', <Service.YOUTUBE: 'YouTube'>),\n ('2019-03-25', <Service.UBER: 'Uber'>),\n ('2019-03-25', <Service.PINTEREST: 'Pinterest'>),\n ('2019-03-25', <Service.WEB_CLOTHES: 'Web_Clothes'>),\n ('2019-03-25', <Service.DROPBOX: 'Dropbox'>),\n ('2019-03-25', <Service.APPLE_MAIL: 'Apple_Mail'>),\n ('2019-03-25', <Service.WEB_ADULT: 'Web_Adult'>),\n ('2019-03-25', <Service.DAILYMOTION: 'DailyMotion'>),\n ('2019-03-25', <Service.INSTAGRAM: 'Instagram'>),\n ('2019-03-25', <Service.SKYPE: 'Skype'>),\n ('2019-03-25', <Service.CLASH_OF_CLANS: 'Clash_of_Clans'>),\n ('2019-03-25', <Service.POKEMON_GO: 'Pokemon_GO'>),\n ('2019-03-25', <Service.APPLE_APP_STORE: 'Apple_App_Store'>),\n ('2019-03-25', <Service.GOOGLE_DRIVE: 'Google_Drive'>),\n ('2019-03-25', <Service.APPLE_WEB_SERVICES: 'Apple_Web_Services'>),\n ('2019-03-25', <Service.APPLE_ITUNES: 'Apple_iTunes'>),\n ('2019-03-25', <Service.WEB_FINANCE: 'Web_Finance'>),\n ('2019-03-25', <Service.FACEBOOK_LIVE: 'Facebook_Live'>),\n ('2019-03-25', <Service.WEB_DOWNLOADS: 'Web_Downloads'>),\n ('2019-03-25', <Service.EA_GAMES: 'EA_Games'>),\n ('2019-03-25', <Service.WAZE: 'Waze'>),\n ('2019-03-25', <Service.GOOGLE_DOCS: 'Google_Docs'>),\n ('2019-03-25', <Service.APPLE_VIDEO: 'Apple_Video'>),\n ('2019-03-25', <Service.LINKEDIN: 'LinkedIn'>),\n ('2019-03-25', <Service.FACEBOOK_MESSENGER: 'Facebook_Messenger'>),\n ('2019-03-25', <Service.SNAPCHAT: 'Snapchat'>),\n ('2019-03-25', <Service.DEEZER: 'Deezer'>),\n ('2019-03-25', <Service.NETFLIX: 'Netflix'>),\n ('2019-03-25', <Service.FACEBOOK: 'Facebook'>),\n ('2019-03-25', <Service.TELEGRAM: 'Telegram'>),\n ('2019-03-25', <Service.APPLE_IMESSAGE: 'Apple_iMessage'>),\n ('2019-03-25', <Service.MICROSOFT_STORE: 'Microsoft_Store'>),\n ('2019-03-25', <Service.MOLOTOV: 'Molotov'>),\n ('2019-03-25', <Service.GOOGLE_MAPS: 'Google_Maps'>),\n ('2019-03-25', <Service.TOR: 'Tor'>),\n ('2019-03-25', <Service.GOOGLE_PLAY_STORE: 'Google_Play_Store'>),\n ('2019-03-25', <Service.WEB_E_COMMERCE: 'Web_e-Commerce'>),\n ('2019-03-25', <Service.FORTNITE: 'Fortnite'>),\n ('2019-03-25', <Service.MICROSOFT_MAIL: 'Microsoft_Mail'>),\n ('2019-03-25', <Service.PERISCOPE: 'Periscope'>),\n ('2019-03-25', <Service.GOOGLE_WEB_SERVICES: 'Google_Web_Services'>),\n ('2019-03-25', <Service.SPOTIFY: 'Spotify'>),\n ('2019-03-25', <Service.MICROSOFT_WEB_SERVICES: 'Microsoft_Web_Services'>),\n ('2019-03-25', <Service.WEB_STREAMING: 'Web_Streaming'>),\n ('2019-03-25', <Service.YAHOO: 'Yahoo'>),\n ('2019-03-26', <Service.TWITCH: 'Twitch'>),\n ('2019-03-26', <Service.ORANGE_TV: 'Orange_TV'>),\n ('2019-03-26', <Service.MICROSOFT_AZURE: 'Microsoft_Azure'>),\n ('2019-03-26', <Service.APPLE_ICLOUD: 'Apple_iCloud'>),\n ('2019-03-26', <Service.WEB_GAMES: 'Web_Games'>),\n ('2019-03-26', <Service.PLAYSTATION: 'PlayStation'>),\n ('2019-03-26', <Service.TEAMVIEWER: 'TeamViewer'>),\n ('2019-03-26', <Service.WEB_WEATHER: 'Web_Weather'>),\n ('2019-03-26', <Service.GOOGLE_MEET: 'Google_Meet'>),\n ('2019-03-26', <Service.TWITTER: 'Twitter'>),\n ('2019-03-26', <Service.AMAZON_WEB_SERVICES: 'Amazon_Web_Services'>),\n ('2019-03-26', <Service.APPLE_MUSIC: 'Apple_Music'>),\n ('2019-03-26', <Service.APPLE_SIRI: 'Apple_Siri'>),\n ('2019-03-26', <Service.WEB_ADS: 'Web_Ads'>),\n ('2019-03-26', <Service.SOUNDCLOUD: 'SoundCloud'>),\n ('2019-03-26', <Service.WIKIPEDIA: 'Wikipedia'>),\n ('2019-03-26', <Service.MICROSOFT_SKYDRIVE: 'Microsoft_Skydrive'>),\n ('2019-03-26', <Service.WEB_TRANSPORTATION: 'Web_Transportation'>),\n ('2019-03-26', <Service.MICROSOFT_OFFICE: 'Microsoft_Office'>),\n ('2019-03-26', <Service.YAHOO_MAIL: 'Yahoo_Mail'>),\n ('2019-03-26', <Service.WEB_FOOD: 'Web_Food'>),\n ('2019-03-26', <Service.WHATSAPP: 'WhatsApp'>),\n ('2019-03-26', <Service.GOOGLE_MAIL: 'Google_Mail'>),\n ('2019-03-26', <Service.YOUTUBE: 'YouTube'>),\n ('2019-03-26', <Service.UBER: 'Uber'>),\n ('2019-03-26', <Service.PINTEREST: 'Pinterest'>),\n ('2019-03-26', <Service.WEB_CLOTHES: 'Web_Clothes'>),\n ('2019-03-26', <Service.DROPBOX: 'Dropbox'>),\n ('2019-03-26', <Service.APPLE_MAIL: 'Apple_Mail'>),\n ('2019-03-26', <Service.WEB_ADULT: 'Web_Adult'>),\n ('2019-03-26', <Service.DAILYMOTION: 'DailyMotion'>),\n ('2019-03-26', <Service.INSTAGRAM: 'Instagram'>),\n ('2019-03-26', <Service.SKYPE: 'Skype'>),\n ('2019-03-26', <Service.CLASH_OF_CLANS: 'Clash_of_Clans'>),\n ('2019-03-26', <Service.POKEMON_GO: 'Pokemon_GO'>),\n ('2019-03-26', <Service.APPLE_APP_STORE: 'Apple_App_Store'>),\n ('2019-03-26', <Service.GOOGLE_DRIVE: 'Google_Drive'>),\n ('2019-03-26', <Service.APPLE_WEB_SERVICES: 'Apple_Web_Services'>),\n ('2019-03-26', <Service.APPLE_ITUNES: 'Apple_iTunes'>),\n ('2019-03-26', <Service.WEB_FINANCE: 'Web_Finance'>),\n ('2019-03-26', <Service.FACEBOOK_LIVE: 'Facebook_Live'>),\n ('2019-03-26', <Service.WEB_DOWNLOADS: 'Web_Downloads'>),\n ('2019-03-26', <Service.EA_GAMES: 'EA_Games'>),\n ('2019-03-26', <Service.WAZE: 'Waze'>),\n ('2019-03-26', <Service.GOOGLE_DOCS: 'Google_Docs'>),\n ('2019-03-26', <Service.APPLE_VIDEO: 'Apple_Video'>),\n ('2019-03-26', <Service.LINKEDIN: 'LinkedIn'>),\n ('2019-03-26', <Service.FACEBOOK_MESSENGER: 'Facebook_Messenger'>),\n ('2019-03-26', <Service.SNAPCHAT: 'Snapchat'>),\n ('2019-03-26', <Service.DEEZER: 'Deezer'>),\n ('2019-03-26', <Service.NETFLIX: 'Netflix'>),\n ('2019-03-26', <Service.FACEBOOK: 'Facebook'>),\n ('2019-03-26', <Service.TELEGRAM: 'Telegram'>),\n ('2019-03-26', <Service.APPLE_IMESSAGE: 'Apple_iMessage'>),\n ('2019-03-26', <Service.MICROSOFT_STORE: 'Microsoft_Store'>),\n ('2019-03-26', <Service.MOLOTOV: 'Molotov'>),\n ('2019-03-26', <Service.GOOGLE_MAPS: 'Google_Maps'>),\n ('2019-03-26', <Service.TOR: 'Tor'>),\n ('2019-03-26', <Service.GOOGLE_PLAY_STORE: 'Google_Play_Store'>),\n ('2019-03-26', <Service.WEB_E_COMMERCE: 'Web_e-Commerce'>),\n ('2019-03-26', <Service.FORTNITE: 'Fortnite'>),\n ('2019-03-26', <Service.MICROSOFT_MAIL: 'Microsoft_Mail'>),\n ('2019-03-26', <Service.PERISCOPE: 'Periscope'>),\n ('2019-03-26', <Service.GOOGLE_WEB_SERVICES: 'Google_Web_Services'>),\n ('2019-03-26', <Service.SPOTIFY: 'Spotify'>),\n ('2019-03-26', <Service.MICROSOFT_WEB_SERVICES: 'Microsoft_Web_Services'>),\n ('2019-03-26', <Service.WEB_STREAMING: 'Web_Streaming'>),\n ('2019-03-26', <Service.YAHOO: 'Yahoo'>),\n ('2019-03-27', <Service.TWITCH: 'Twitch'>),\n ('2019-03-27', <Service.ORANGE_TV: 'Orange_TV'>),\n ('2019-03-27', <Service.MICROSOFT_AZURE: 'Microsoft_Azure'>),\n ('2019-03-27', <Service.APPLE_ICLOUD: 'Apple_iCloud'>),\n ('2019-03-27', <Service.WEB_GAMES: 'Web_Games'>),\n ('2019-03-27', <Service.PLAYSTATION: 'PlayStation'>),\n ('2019-03-27', <Service.TEAMVIEWER: 'TeamViewer'>),\n ('2019-03-27', <Service.WEB_WEATHER: 'Web_Weather'>),\n ('2019-03-27', <Service.GOOGLE_MEET: 'Google_Meet'>),\n ('2019-03-27', <Service.TWITTER: 'Twitter'>),\n ('2019-03-27', <Service.AMAZON_WEB_SERVICES: 'Amazon_Web_Services'>),\n ('2019-03-27', <Service.APPLE_MUSIC: 'Apple_Music'>),\n ('2019-03-27', <Service.APPLE_SIRI: 'Apple_Siri'>),\n ('2019-03-27', <Service.WEB_ADS: 'Web_Ads'>),\n ('2019-03-27', <Service.SOUNDCLOUD: 'SoundCloud'>),\n ('2019-03-27', <Service.WIKIPEDIA: 'Wikipedia'>),\n ('2019-03-27', <Service.MICROSOFT_SKYDRIVE: 'Microsoft_Skydrive'>),\n ('2019-03-27', <Service.WEB_TRANSPORTATION: 'Web_Transportation'>),\n ('2019-03-27', <Service.MICROSOFT_OFFICE: 'Microsoft_Office'>),\n ('2019-03-27', <Service.YAHOO_MAIL: 'Yahoo_Mail'>),\n ('2019-03-27', <Service.WEB_FOOD: 'Web_Food'>),\n ('2019-03-27', <Service.WHATSAPP: 'WhatsApp'>),\n ('2019-03-27', <Service.GOOGLE_MAIL: 'Google_Mail'>),\n ('2019-03-27', <Service.YOUTUBE: 'YouTube'>),\n ('2019-03-27', <Service.UBER: 'Uber'>),\n ('2019-03-27', <Service.PINTEREST: 'Pinterest'>),\n ('2019-03-27', <Service.WEB_CLOTHES: 'Web_Clothes'>),\n ('2019-03-27', <Service.DROPBOX: 'Dropbox'>),\n ('2019-03-27', <Service.APPLE_MAIL: 'Apple_Mail'>),\n ('2019-03-27', <Service.WEB_ADULT: 'Web_Adult'>),\n ('2019-03-27', <Service.DAILYMOTION: 'DailyMotion'>),\n ('2019-03-27', <Service.INSTAGRAM: 'Instagram'>),\n ('2019-03-27', <Service.SKYPE: 'Skype'>),\n ('2019-03-27', <Service.CLASH_OF_CLANS: 'Clash_of_Clans'>),\n ('2019-03-27', <Service.POKEMON_GO: 'Pokemon_GO'>),\n ('2019-03-27', <Service.APPLE_APP_STORE: 'Apple_App_Store'>),\n ('2019-03-27', <Service.GOOGLE_DRIVE: 'Google_Drive'>),\n ('2019-03-27', <Service.APPLE_WEB_SERVICES: 'Apple_Web_Services'>),\n ('2019-03-27', <Service.APPLE_ITUNES: 'Apple_iTunes'>),\n ('2019-03-27', <Service.WEB_FINANCE: 'Web_Finance'>),\n ('2019-03-27', <Service.FACEBOOK_LIVE: 'Facebook_Live'>),\n ('2019-03-27', <Service.WEB_DOWNLOADS: 'Web_Downloads'>),\n ('2019-03-27', <Service.EA_GAMES: 'EA_Games'>),\n ('2019-03-27', <Service.WAZE: 'Waze'>),\n ('2019-03-27', <Service.GOOGLE_DOCS: 'Google_Docs'>),\n ('2019-03-27', <Service.APPLE_VIDEO: 'Apple_Video'>),\n ('2019-03-27', <Service.LINKEDIN: 'LinkedIn'>),\n ('2019-03-27', <Service.FACEBOOK_MESSENGER: 'Facebook_Messenger'>),\n ('2019-03-27', <Service.SNAPCHAT: 'Snapchat'>),\n ('2019-03-27', <Service.DEEZER: 'Deezer'>),\n ('2019-03-27', <Service.NETFLIX: 'Netflix'>),\n ('2019-03-27', <Service.FACEBOOK: 'Facebook'>),\n ('2019-03-27', <Service.TELEGRAM: 'Telegram'>),\n ('2019-03-27', <Service.APPLE_IMESSAGE: 'Apple_iMessage'>),\n ('2019-03-27', <Service.MICROSOFT_STORE: 'Microsoft_Store'>),\n ('2019-03-27', <Service.MOLOTOV: 'Molotov'>),\n ('2019-03-27', <Service.GOOGLE_MAPS: 'Google_Maps'>),\n ('2019-03-27', <Service.TOR: 'Tor'>),\n ('2019-03-27', <Service.GOOGLE_PLAY_STORE: 'Google_Play_Store'>),\n ('2019-03-27', <Service.WEB_E_COMMERCE: 'Web_e-Commerce'>),\n ('2019-03-27', <Service.FORTNITE: 'Fortnite'>),\n ('2019-03-27', <Service.MICROSOFT_MAIL: 'Microsoft_Mail'>),\n ('2019-03-27', <Service.PERISCOPE: 'Periscope'>),\n ('2019-03-27', <Service.GOOGLE_WEB_SERVICES: 'Google_Web_Services'>),\n ('2019-03-27', <Service.SPOTIFY: 'Spotify'>),\n ('2019-03-27', <Service.MICROSOFT_WEB_SERVICES: 'Microsoft_Web_Services'>),\n ('2019-03-27', <Service.WEB_STREAMING: 'Web_Streaming'>),\n ('2019-03-27', <Service.YAHOO: 'Yahoo'>),\n ('2019-03-28', <Service.TWITCH: 'Twitch'>),\n ('2019-03-28', <Service.ORANGE_TV: 'Orange_TV'>),\n ('2019-03-28', <Service.MICROSOFT_AZURE: 'Microsoft_Azure'>),\n ('2019-03-28', <Service.APPLE_ICLOUD: 'Apple_iCloud'>),\n ('2019-03-28', <Service.WEB_GAMES: 'Web_Games'>),\n ('2019-03-28', <Service.PLAYSTATION: 'PlayStation'>),\n ('2019-03-28', <Service.TEAMVIEWER: 'TeamViewer'>),\n ('2019-03-28', <Service.WEB_WEATHER: 'Web_Weather'>),\n ('2019-03-28', <Service.GOOGLE_MEET: 'Google_Meet'>),\n ('2019-03-28', <Service.TWITTER: 'Twitter'>),\n ('2019-03-28', <Service.AMAZON_WEB_SERVICES: 'Amazon_Web_Services'>),\n ('2019-03-28', <Service.APPLE_MUSIC: 'Apple_Music'>),\n ('2019-03-28', <Service.APPLE_SIRI: 'Apple_Siri'>),\n ('2019-03-28', <Service.WEB_ADS: 'Web_Ads'>),\n ('2019-03-28', <Service.SOUNDCLOUD: 'SoundCloud'>),\n ('2019-03-28', <Service.WIKIPEDIA: 'Wikipedia'>),\n ('2019-03-28', <Service.MICROSOFT_SKYDRIVE: 'Microsoft_Skydrive'>),\n ('2019-03-28', <Service.WEB_TRANSPORTATION: 'Web_Transportation'>),\n ('2019-03-28', <Service.MICROSOFT_OFFICE: 'Microsoft_Office'>),\n ('2019-03-28', <Service.YAHOO_MAIL: 'Yahoo_Mail'>),\n ('2019-03-28', <Service.WEB_FOOD: 'Web_Food'>),\n ('2019-03-28', <Service.WHATSAPP: 'WhatsApp'>),\n ('2019-03-28', <Service.GOOGLE_MAIL: 'Google_Mail'>),\n ('2019-03-28', <Service.YOUTUBE: 'YouTube'>),\n ('2019-03-28', <Service.UBER: 'Uber'>),\n ('2019-03-28', <Service.PINTEREST: 'Pinterest'>),\n ('2019-03-28', <Service.WEB_CLOTHES: 'Web_Clothes'>),\n ('2019-03-28', <Service.DROPBOX: 'Dropbox'>),\n ('2019-03-28', <Service.APPLE_MAIL: 'Apple_Mail'>),\n ('2019-03-28', <Service.WEB_ADULT: 'Web_Adult'>),\n ('2019-03-28', <Service.DAILYMOTION: 'DailyMotion'>),\n ('2019-03-28', <Service.INSTAGRAM: 'Instagram'>),\n ('2019-03-28', <Service.SKYPE: 'Skype'>),\n ('2019-03-28', <Service.CLASH_OF_CLANS: 'Clash_of_Clans'>),\n ('2019-03-28', <Service.POKEMON_GO: 'Pokemon_GO'>),\n ('2019-03-28', <Service.APPLE_APP_STORE: 'Apple_App_Store'>),\n ('2019-03-28', <Service.GOOGLE_DRIVE: 'Google_Drive'>),\n ('2019-03-28', <Service.APPLE_WEB_SERVICES: 'Apple_Web_Services'>),\n ('2019-03-28', <Service.APPLE_ITUNES: 'Apple_iTunes'>),\n ('2019-03-28', <Service.WEB_FINANCE: 'Web_Finance'>),\n ('2019-03-28', <Service.FACEBOOK_LIVE: 'Facebook_Live'>),\n ('2019-03-28', <Service.WEB_DOWNLOADS: 'Web_Downloads'>),\n ('2019-03-28', <Service.EA_GAMES: 'EA_Games'>),\n ('2019-03-28', <Service.WAZE: 'Waze'>),\n ('2019-03-28', <Service.GOOGLE_DOCS: 'Google_Docs'>),\n ('2019-03-28', <Service.APPLE_VIDEO: 'Apple_Video'>),\n ('2019-03-28', <Service.LINKEDIN: 'LinkedIn'>),\n ('2019-03-28', <Service.FACEBOOK_MESSENGER: 'Facebook_Messenger'>),\n ('2019-03-28', <Service.SNAPCHAT: 'Snapchat'>),\n ('2019-03-28', <Service.DEEZER: 'Deezer'>),\n ('2019-03-28', <Service.NETFLIX: 'Netflix'>),\n ('2019-03-28', <Service.FACEBOOK: 'Facebook'>),\n ('2019-03-28', <Service.TELEGRAM: 'Telegram'>),\n ('2019-03-28', <Service.APPLE_IMESSAGE: 'Apple_iMessage'>),\n ('2019-03-28', <Service.MICROSOFT_STORE: 'Microsoft_Store'>),\n ('2019-03-28', <Service.MOLOTOV: 'Molotov'>),\n ('2019-03-28', <Service.GOOGLE_MAPS: 'Google_Maps'>),\n ('2019-03-28', <Service.TOR: 'Tor'>),\n ('2019-03-28', <Service.GOOGLE_PLAY_STORE: 'Google_Play_Store'>),\n ('2019-03-28', <Service.WEB_E_COMMERCE: 'Web_e-Commerce'>),\n ('2019-03-28', <Service.FORTNITE: 'Fortnite'>),\n ('2019-03-28', <Service.MICROSOFT_MAIL: 'Microsoft_Mail'>),\n ('2019-03-28', <Service.PERISCOPE: 'Periscope'>),\n ('2019-03-28', <Service.GOOGLE_WEB_SERVICES: 'Google_Web_Services'>),\n ('2019-03-28', <Service.SPOTIFY: 'Spotify'>),\n ('2019-03-28', <Service.MICROSOFT_WEB_SERVICES: 'Microsoft_Web_Services'>),\n ('2019-03-28', <Service.WEB_STREAMING: 'Web_Streaming'>),\n ('2019-03-28', <Service.YAHOO: 'Yahoo'>),\n ('2019-03-29', <Service.TWITCH: 'Twitch'>),\n ('2019-03-29', <Service.ORANGE_TV: 'Orange_TV'>),\n ('2019-03-29', <Service.MICROSOFT_AZURE: 'Microsoft_Azure'>),\n ('2019-03-29', <Service.APPLE_ICLOUD: 'Apple_iCloud'>),\n ('2019-03-29', <Service.WEB_GAMES: 'Web_Games'>),\n ('2019-03-29', <Service.PLAYSTATION: 'PlayStation'>),\n ('2019-03-29', <Service.TEAMVIEWER: 'TeamViewer'>),\n ('2019-03-29', <Service.WEB_WEATHER: 'Web_Weather'>),\n ('2019-03-29', <Service.GOOGLE_MEET: 'Google_Meet'>),\n ('2019-03-29', <Service.TWITTER: 'Twitter'>),\n ('2019-03-29', <Service.AMAZON_WEB_SERVICES: 'Amazon_Web_Services'>),\n ('2019-03-29', <Service.APPLE_MUSIC: 'Apple_Music'>),\n ('2019-03-29', <Service.APPLE_SIRI: 'Apple_Siri'>),\n ('2019-03-29', <Service.WEB_ADS: 'Web_Ads'>),\n ('2019-03-29', <Service.SOUNDCLOUD: 'SoundCloud'>),\n ('2019-03-29', <Service.WIKIPEDIA: 'Wikipedia'>),\n ('2019-03-29', <Service.MICROSOFT_SKYDRIVE: 'Microsoft_Skydrive'>),\n ('2019-03-29', <Service.WEB_TRANSPORTATION: 'Web_Transportation'>),\n ('2019-03-29', <Service.MICROSOFT_OFFICE: 'Microsoft_Office'>),\n ('2019-03-29', <Service.YAHOO_MAIL: 'Yahoo_Mail'>),\n ('2019-03-29', <Service.WEB_FOOD: 'Web_Food'>),\n ('2019-03-29', <Service.WHATSAPP: 'WhatsApp'>),\n ('2019-03-29', <Service.GOOGLE_MAIL: 'Google_Mail'>),\n ('2019-03-29', <Service.YOUTUBE: 'YouTube'>),\n ('2019-03-29', <Service.UBER: 'Uber'>),\n ('2019-03-29', <Service.PINTEREST: 'Pinterest'>),\n ('2019-03-29', <Service.WEB_CLOTHES: 'Web_Clothes'>),\n ('2019-03-29', <Service.DROPBOX: 'Dropbox'>),\n ('2019-03-29', <Service.APPLE_MAIL: 'Apple_Mail'>),\n ('2019-03-29', <Service.WEB_ADULT: 'Web_Adult'>),\n ('2019-03-29', <Service.DAILYMOTION: 'DailyMotion'>),\n ('2019-03-29', <Service.INSTAGRAM: 'Instagram'>),\n ('2019-03-29', <Service.SKYPE: 'Skype'>),\n ('2019-03-29', <Service.CLASH_OF_CLANS: 'Clash_of_Clans'>),\n ('2019-03-29', <Service.POKEMON_GO: 'Pokemon_GO'>),\n ('2019-03-29', <Service.APPLE_APP_STORE: 'Apple_App_Store'>),\n ('2019-03-29', <Service.GOOGLE_DRIVE: 'Google_Drive'>),\n ('2019-03-29', <Service.APPLE_WEB_SERVICES: 'Apple_Web_Services'>),\n ('2019-03-29', <Service.APPLE_ITUNES: 'Apple_iTunes'>),\n ('2019-03-29', <Service.WEB_FINANCE: 'Web_Finance'>),\n ('2019-03-29', <Service.FACEBOOK_LIVE: 'Facebook_Live'>),\n ('2019-03-29', <Service.WEB_DOWNLOADS: 'Web_Downloads'>),\n ('2019-03-29', <Service.EA_GAMES: 'EA_Games'>),\n ('2019-03-29', <Service.WAZE: 'Waze'>),\n ('2019-03-29', <Service.GOOGLE_DOCS: 'Google_Docs'>),\n ('2019-03-29', <Service.APPLE_VIDEO: 'Apple_Video'>),\n ('2019-03-29', <Service.LINKEDIN: 'LinkedIn'>),\n ('2019-03-29', <Service.FACEBOOK_MESSENGER: 'Facebook_Messenger'>),\n ('2019-03-29', <Service.SNAPCHAT: 'Snapchat'>),\n ('2019-03-29', <Service.DEEZER: 'Deezer'>),\n ('2019-03-29', <Service.NETFLIX: 'Netflix'>),\n ('2019-03-29', <Service.FACEBOOK: 'Facebook'>),\n ('2019-03-29', <Service.TELEGRAM: 'Telegram'>),\n ('2019-03-29', <Service.APPLE_IMESSAGE: 'Apple_iMessage'>),\n ('2019-03-29', <Service.MICROSOFT_STORE: 'Microsoft_Store'>),\n ('2019-03-29', <Service.MOLOTOV: 'Molotov'>),\n ('2019-03-29', <Service.GOOGLE_MAPS: 'Google_Maps'>),\n ('2019-03-29', <Service.TOR: 'Tor'>),\n ('2019-03-29', <Service.GOOGLE_PLAY_STORE: 'Google_Play_Store'>),\n ('2019-03-29', <Service.WEB_E_COMMERCE: 'Web_e-Commerce'>),\n ('2019-03-29', <Service.FORTNITE: 'Fortnite'>),\n ('2019-03-29', <Service.MICROSOFT_MAIL: 'Microsoft_Mail'>),\n ('2019-03-29', <Service.PERISCOPE: 'Periscope'>),\n ('2019-03-29', <Service.GOOGLE_WEB_SERVICES: 'Google_Web_Services'>),\n ('2019-03-29', <Service.SPOTIFY: 'Spotify'>),\n ('2019-03-29', <Service.MICROSOFT_WEB_SERVICES: 'Microsoft_Web_Services'>),\n ('2019-03-29', <Service.WEB_STREAMING: 'Web_Streaming'>),\n ('2019-03-29', <Service.YAHOO: 'Yahoo'>),\n ('2019-03-30', <Service.TWITCH: 'Twitch'>),\n ('2019-03-30', <Service.ORANGE_TV: 'Orange_TV'>),\n ('2019-03-30', <Service.MICROSOFT_AZURE: 'Microsoft_Azure'>),\n ('2019-03-30', <Service.APPLE_ICLOUD: 'Apple_iCloud'>),\n ('2019-03-30', <Service.WEB_GAMES: 'Web_Games'>),\n ('2019-03-30', <Service.PLAYSTATION: 'PlayStation'>),\n ('2019-03-30', <Service.TEAMVIEWER: 'TeamViewer'>),\n ('2019-03-30', <Service.WEB_WEATHER: 'Web_Weather'>),\n ('2019-03-30', <Service.GOOGLE_MEET: 'Google_Meet'>),\n ('2019-03-30', <Service.TWITTER: 'Twitter'>),\n ('2019-03-30', <Service.AMAZON_WEB_SERVICES: 'Amazon_Web_Services'>),\n ('2019-03-30', <Service.APPLE_MUSIC: 'Apple_Music'>),\n ('2019-03-30', <Service.APPLE_SIRI: 'Apple_Siri'>),\n ('2019-03-30', <Service.WEB_ADS: 'Web_Ads'>),\n ('2019-03-30', <Service.SOUNDCLOUD: 'SoundCloud'>),\n ('2019-03-30', <Service.WIKIPEDIA: 'Wikipedia'>),\n ('2019-03-30', <Service.MICROSOFT_SKYDRIVE: 'Microsoft_Skydrive'>),\n ('2019-03-30', <Service.WEB_TRANSPORTATION: 'Web_Transportation'>),\n ('2019-03-30', <Service.MICROSOFT_OFFICE: 'Microsoft_Office'>),\n ('2019-03-30', <Service.YAHOO_MAIL: 'Yahoo_Mail'>),\n ('2019-03-30', <Service.WEB_FOOD: 'Web_Food'>),\n ('2019-03-30', <Service.WHATSAPP: 'WhatsApp'>),\n ('2019-03-30', <Service.GOOGLE_MAIL: 'Google_Mail'>),\n ('2019-03-30', <Service.YOUTUBE: 'YouTube'>),\n ('2019-03-30', <Service.UBER: 'Uber'>),\n ('2019-03-30', <Service.PINTEREST: 'Pinterest'>),\n ('2019-03-30', <Service.WEB_CLOTHES: 'Web_Clothes'>),\n ('2019-03-30', <Service.DROPBOX: 'Dropbox'>),\n ('2019-03-30', <Service.APPLE_MAIL: 'Apple_Mail'>),\n ('2019-03-30', <Service.WEB_ADULT: 'Web_Adult'>),\n ('2019-03-30', <Service.DAILYMOTION: 'DailyMotion'>),\n ('2019-03-30', <Service.INSTAGRAM: 'Instagram'>),\n ('2019-03-30', <Service.SKYPE: 'Skype'>),\n ('2019-03-30', <Service.CLASH_OF_CLANS: 'Clash_of_Clans'>),\n ('2019-03-30', <Service.POKEMON_GO: 'Pokemon_GO'>),\n ('2019-03-30', <Service.APPLE_APP_STORE: 'Apple_App_Store'>),\n ('2019-03-30', <Service.GOOGLE_DRIVE: 'Google_Drive'>),\n ('2019-03-30', <Service.APPLE_WEB_SERVICES: 'Apple_Web_Services'>),\n ('2019-03-30', <Service.APPLE_ITUNES: 'Apple_iTunes'>),\n ('2019-03-30', <Service.WEB_FINANCE: 'Web_Finance'>),\n ('2019-03-30', <Service.FACEBOOK_LIVE: 'Facebook_Live'>),\n ('2019-03-30', <Service.WEB_DOWNLOADS: 'Web_Downloads'>),\n ('2019-03-30', <Service.EA_GAMES: 'EA_Games'>),\n ('2019-03-30', <Service.WAZE: 'Waze'>),\n ('2019-03-30', <Service.GOOGLE_DOCS: 'Google_Docs'>),\n ('2019-03-30', <Service.APPLE_VIDEO: 'Apple_Video'>),\n ('2019-03-30', <Service.LINKEDIN: 'LinkedIn'>),\n ('2019-03-30', <Service.FACEBOOK_MESSENGER: 'Facebook_Messenger'>),\n ...]"
     },
     "execution_count": 12,
     "metadata": {},
     "output_type": "execute_result"
    }
   ],
   "source": [
    "day_service_pairs"
   ],
   "metadata": {
    "collapsed": false,
    "ExecuteTime": {
     "end_time": "2023-05-18T13:51:15.258097Z",
     "start_time": "2023-05-18T13:51:15.182759Z"
    }
   }
  },
  {
   "cell_type": "code",
   "execution_count": 74,
   "outputs": [
    {
     "data": {
      "text/plain": "[[('2019-03-16', <Service.TWITCH: 'Twitch'>),\n  ('2019-03-16', <Service.ORANGE_TV: 'Orange_TV'>),\n  ('2019-03-16', <Service.MICROSOFT_AZURE: 'Microsoft_Azure'>),\n  ('2019-03-16', <Service.APPLE_ICLOUD: 'Apple_iCloud'>),\n  ('2019-03-16', <Service.WEB_GAMES: 'Web_Games'>),\n  ('2019-03-16', <Service.PLAYSTATION: 'PlayStation'>),\n  ('2019-03-16', <Service.TEAMVIEWER: 'TeamViewer'>),\n  ('2019-03-16', <Service.WEB_WEATHER: 'Web_Weather'>),\n  ('2019-03-16', <Service.GOOGLE_MEET: 'Google_Meet'>),\n  ('2019-03-16', <Service.TWITTER: 'Twitter'>),\n  ('2019-03-16', <Service.AMAZON_WEB_SERVICES: 'Amazon_Web_Services'>),\n  ('2019-03-16', <Service.APPLE_MUSIC: 'Apple_Music'>),\n  ('2019-03-16', <Service.APPLE_SIRI: 'Apple_Siri'>),\n  ('2019-03-16', <Service.WEB_ADS: 'Web_Ads'>),\n  ('2019-03-16', <Service.SOUNDCLOUD: 'SoundCloud'>),\n  ('2019-03-16', <Service.WIKIPEDIA: 'Wikipedia'>),\n  ('2019-03-16', <Service.MICROSOFT_SKYDRIVE: 'Microsoft_Skydrive'>),\n  ('2019-03-16', <Service.WEB_TRANSPORTATION: 'Web_Transportation'>),\n  ('2019-03-16', <Service.MICROSOFT_OFFICE: 'Microsoft_Office'>),\n  ('2019-03-16', <Service.YAHOO_MAIL: 'Yahoo_Mail'>),\n  ('2019-03-16', <Service.WEB_FOOD: 'Web_Food'>),\n  ('2019-03-16', <Service.WHATSAPP: 'WhatsApp'>),\n  ('2019-03-16', <Service.GOOGLE_MAIL: 'Google_Mail'>),\n  ('2019-03-16', <Service.YOUTUBE: 'YouTube'>),\n  ('2019-03-16', <Service.UBER: 'Uber'>),\n  ('2019-03-16', <Service.PINTEREST: 'Pinterest'>),\n  ('2019-03-16', <Service.WEB_CLOTHES: 'Web_Clothes'>),\n  ('2019-03-16', <Service.DROPBOX: 'Dropbox'>),\n  ('2019-03-16', <Service.APPLE_MAIL: 'Apple_Mail'>),\n  ('2019-03-16', <Service.WEB_ADULT: 'Web_Adult'>),\n  ('2019-03-16', <Service.DAILYMOTION: 'DailyMotion'>),\n  ('2019-03-16', <Service.INSTAGRAM: 'Instagram'>),\n  ('2019-03-16', <Service.SKYPE: 'Skype'>),\n  ('2019-03-16', <Service.CLASH_OF_CLANS: 'Clash_of_Clans'>),\n  ('2019-03-16', <Service.POKEMON_GO: 'Pokemon_GO'>),\n  ('2019-03-16', <Service.APPLE_APP_STORE: 'Apple_App_Store'>),\n  ('2019-03-16', <Service.GOOGLE_DRIVE: 'Google_Drive'>),\n  ('2019-03-16', <Service.APPLE_WEB_SERVICES: 'Apple_Web_Services'>),\n  ('2019-03-16', <Service.APPLE_ITUNES: 'Apple_iTunes'>),\n  ('2019-03-16', <Service.WEB_FINANCE: 'Web_Finance'>),\n  ('2019-03-16', <Service.FACEBOOK_LIVE: 'Facebook_Live'>),\n  ('2019-03-16', <Service.WEB_DOWNLOADS: 'Web_Downloads'>),\n  ('2019-03-16', <Service.EA_GAMES: 'EA_Games'>),\n  ('2019-03-16', <Service.WAZE: 'Waze'>),\n  ('2019-03-16', <Service.GOOGLE_DOCS: 'Google_Docs'>),\n  ('2019-03-16', <Service.APPLE_VIDEO: 'Apple_Video'>),\n  ('2019-03-16', <Service.LINKEDIN: 'LinkedIn'>),\n  ('2019-03-16', <Service.FACEBOOK_MESSENGER: 'Facebook_Messenger'>),\n  ('2019-03-16', <Service.SNAPCHAT: 'Snapchat'>),\n  ('2019-03-16', <Service.DEEZER: 'Deezer'>),\n  ('2019-03-16', <Service.NETFLIX: 'Netflix'>),\n  ('2019-03-16', <Service.FACEBOOK: 'Facebook'>),\n  ('2019-03-16', <Service.TELEGRAM: 'Telegram'>),\n  ('2019-03-16', <Service.APPLE_IMESSAGE: 'Apple_iMessage'>),\n  ('2019-03-16', <Service.MICROSOFT_STORE: 'Microsoft_Store'>),\n  ('2019-03-16', <Service.MOLOTOV: 'Molotov'>),\n  ('2019-03-16', <Service.GOOGLE_MAPS: 'Google_Maps'>),\n  ('2019-03-16', <Service.TOR: 'Tor'>),\n  ('2019-03-16', <Service.GOOGLE_PLAY_STORE: 'Google_Play_Store'>),\n  ('2019-03-16', <Service.WEB_E_COMMERCE: 'Web_e-Commerce'>),\n  ('2019-03-16', <Service.FORTNITE: 'Fortnite'>),\n  ('2019-03-16', <Service.MICROSOFT_MAIL: 'Microsoft_Mail'>),\n  ('2019-03-16', <Service.PERISCOPE: 'Periscope'>),\n  ('2019-03-16', <Service.GOOGLE_WEB_SERVICES: 'Google_Web_Services'>),\n  ('2019-03-16', <Service.SPOTIFY: 'Spotify'>),\n  ('2019-03-16', <Service.MICROSOFT_WEB_SERVICES: 'Microsoft_Web_Services'>),\n  ('2019-03-16', <Service.WEB_STREAMING: 'Web_Streaming'>),\n  ('2019-03-16', <Service.YAHOO: 'Yahoo'>)],\n [('2019-03-17', <Service.TWITCH: 'Twitch'>),\n  ('2019-03-17', <Service.ORANGE_TV: 'Orange_TV'>),\n  ('2019-03-17', <Service.MICROSOFT_AZURE: 'Microsoft_Azure'>),\n  ('2019-03-17', <Service.APPLE_ICLOUD: 'Apple_iCloud'>),\n  ('2019-03-17', <Service.WEB_GAMES: 'Web_Games'>),\n  ('2019-03-17', <Service.PLAYSTATION: 'PlayStation'>),\n  ('2019-03-17', <Service.TEAMVIEWER: 'TeamViewer'>),\n  ('2019-03-17', <Service.WEB_WEATHER: 'Web_Weather'>),\n  ('2019-03-17', <Service.GOOGLE_MEET: 'Google_Meet'>),\n  ('2019-03-17', <Service.TWITTER: 'Twitter'>),\n  ('2019-03-17', <Service.AMAZON_WEB_SERVICES: 'Amazon_Web_Services'>),\n  ('2019-03-17', <Service.APPLE_MUSIC: 'Apple_Music'>),\n  ('2019-03-17', <Service.APPLE_SIRI: 'Apple_Siri'>),\n  ('2019-03-17', <Service.WEB_ADS: 'Web_Ads'>),\n  ('2019-03-17', <Service.SOUNDCLOUD: 'SoundCloud'>),\n  ('2019-03-17', <Service.WIKIPEDIA: 'Wikipedia'>),\n  ('2019-03-17', <Service.MICROSOFT_SKYDRIVE: 'Microsoft_Skydrive'>),\n  ('2019-03-17', <Service.WEB_TRANSPORTATION: 'Web_Transportation'>),\n  ('2019-03-17', <Service.MICROSOFT_OFFICE: 'Microsoft_Office'>),\n  ('2019-03-17', <Service.YAHOO_MAIL: 'Yahoo_Mail'>),\n  ('2019-03-17', <Service.WEB_FOOD: 'Web_Food'>),\n  ('2019-03-17', <Service.WHATSAPP: 'WhatsApp'>),\n  ('2019-03-17', <Service.GOOGLE_MAIL: 'Google_Mail'>),\n  ('2019-03-17', <Service.YOUTUBE: 'YouTube'>),\n  ('2019-03-17', <Service.UBER: 'Uber'>),\n  ('2019-03-17', <Service.PINTEREST: 'Pinterest'>),\n  ('2019-03-17', <Service.WEB_CLOTHES: 'Web_Clothes'>),\n  ('2019-03-17', <Service.DROPBOX: 'Dropbox'>),\n  ('2019-03-17', <Service.APPLE_MAIL: 'Apple_Mail'>),\n  ('2019-03-17', <Service.WEB_ADULT: 'Web_Adult'>),\n  ('2019-03-17', <Service.DAILYMOTION: 'DailyMotion'>),\n  ('2019-03-17', <Service.INSTAGRAM: 'Instagram'>),\n  ('2019-03-17', <Service.SKYPE: 'Skype'>),\n  ('2019-03-17', <Service.CLASH_OF_CLANS: 'Clash_of_Clans'>),\n  ('2019-03-17', <Service.POKEMON_GO: 'Pokemon_GO'>),\n  ('2019-03-17', <Service.APPLE_APP_STORE: 'Apple_App_Store'>),\n  ('2019-03-17', <Service.GOOGLE_DRIVE: 'Google_Drive'>),\n  ('2019-03-17', <Service.APPLE_WEB_SERVICES: 'Apple_Web_Services'>),\n  ('2019-03-17', <Service.APPLE_ITUNES: 'Apple_iTunes'>),\n  ('2019-03-17', <Service.WEB_FINANCE: 'Web_Finance'>),\n  ('2019-03-17', <Service.FACEBOOK_LIVE: 'Facebook_Live'>),\n  ('2019-03-17', <Service.WEB_DOWNLOADS: 'Web_Downloads'>),\n  ('2019-03-17', <Service.EA_GAMES: 'EA_Games'>),\n  ('2019-03-17', <Service.WAZE: 'Waze'>),\n  ('2019-03-17', <Service.GOOGLE_DOCS: 'Google_Docs'>),\n  ('2019-03-17', <Service.APPLE_VIDEO: 'Apple_Video'>),\n  ('2019-03-17', <Service.LINKEDIN: 'LinkedIn'>),\n  ('2019-03-17', <Service.FACEBOOK_MESSENGER: 'Facebook_Messenger'>),\n  ('2019-03-17', <Service.SNAPCHAT: 'Snapchat'>),\n  ('2019-03-17', <Service.DEEZER: 'Deezer'>),\n  ('2019-03-17', <Service.NETFLIX: 'Netflix'>),\n  ('2019-03-17', <Service.FACEBOOK: 'Facebook'>),\n  ('2019-03-17', <Service.TELEGRAM: 'Telegram'>),\n  ('2019-03-17', <Service.APPLE_IMESSAGE: 'Apple_iMessage'>),\n  ('2019-03-17', <Service.MICROSOFT_STORE: 'Microsoft_Store'>),\n  ('2019-03-17', <Service.MOLOTOV: 'Molotov'>),\n  ('2019-03-17', <Service.GOOGLE_MAPS: 'Google_Maps'>),\n  ('2019-03-17', <Service.TOR: 'Tor'>),\n  ('2019-03-17', <Service.GOOGLE_PLAY_STORE: 'Google_Play_Store'>),\n  ('2019-03-17', <Service.WEB_E_COMMERCE: 'Web_e-Commerce'>),\n  ('2019-03-17', <Service.FORTNITE: 'Fortnite'>),\n  ('2019-03-17', <Service.MICROSOFT_MAIL: 'Microsoft_Mail'>),\n  ('2019-03-17', <Service.PERISCOPE: 'Periscope'>),\n  ('2019-03-17', <Service.GOOGLE_WEB_SERVICES: 'Google_Web_Services'>),\n  ('2019-03-17', <Service.SPOTIFY: 'Spotify'>),\n  ('2019-03-17', <Service.MICROSOFT_WEB_SERVICES: 'Microsoft_Web_Services'>),\n  ('2019-03-17', <Service.WEB_STREAMING: 'Web_Streaming'>),\n  ('2019-03-17', <Service.YAHOO: 'Yahoo'>)]]"
     },
     "execution_count": 74,
     "metadata": {},
     "output_type": "execute_result"
    }
   ],
   "source": [
    "[day_service_pairs[i: i + len(Service)] for i in range(0, len(day_service_pairs), len(Service))][0:2]"
   ],
   "metadata": {
    "collapsed": false,
    "ExecuteTime": {
     "end_time": "2023-05-18T14:12:02.671047Z",
     "start_time": "2023-05-18T14:12:02.579964Z"
    }
   }
  },
  {
   "cell_type": "code",
   "execution_count": 13,
   "outputs": [],
   "source": [
    "import numpy as np"
   ],
   "metadata": {
    "collapsed": false,
    "ExecuteTime": {
     "end_time": "2023-05-18T13:52:46.869371Z",
     "start_time": "2023-05-18T13:52:46.751639Z"
    }
   }
  },
  {
   "cell_type": "code",
   "execution_count": 55,
   "outputs": [],
   "source": [
    "ser1_day1 = np.array([[1], [4]])\n",
    "ser2_day1 = np.array([[10], [40]])\n",
    "ser3_day1 = np.array([[100], [400]])"
   ],
   "metadata": {
    "collapsed": false,
    "ExecuteTime": {
     "end_time": "2023-05-18T14:05:12.217106Z",
     "start_time": "2023-05-18T14:05:12.176404Z"
    }
   }
  },
  {
   "cell_type": "code",
   "execution_count": 56,
   "outputs": [],
   "source": [
    "ser1_day2 = np.array([[.1], [.4]])\n",
    "ser2_day2 = np.array([[100], [40]])\n",
    "ser3_day2 = np.array([[10], [4]])"
   ],
   "metadata": {
    "collapsed": false,
    "ExecuteTime": {
     "end_time": "2023-05-18T14:05:12.406930Z",
     "start_time": "2023-05-18T14:05:12.366299Z"
    }
   }
  },
  {
   "cell_type": "code",
   "execution_count": 57,
   "outputs": [],
   "source": [
    "ser1_day3 = np.array([[.1], [.4]])\n",
    "ser2_day3 = np.array([[100], [40]])\n",
    "ser3_day3 = np.array([[10], [4]])"
   ],
   "metadata": {
    "collapsed": false,
    "ExecuteTime": {
     "end_time": "2023-05-18T14:05:12.575725Z",
     "start_time": "2023-05-18T14:05:12.535381Z"
    }
   }
  },
  {
   "cell_type": "code",
   "execution_count": 58,
   "outputs": [],
   "source": [
    "ser1_day4 = np.array([[.1], [.4]])\n",
    "ser2_day4 = np.array([[100], [40]])\n",
    "ser3_day4 = np.array([[10], [4]])"
   ],
   "metadata": {
    "collapsed": false,
    "ExecuteTime": {
     "end_time": "2023-05-18T14:05:12.722491Z",
     "start_time": "2023-05-18T14:05:12.681117Z"
    }
   }
  },
  {
   "cell_type": "code",
   "execution_count": 59,
   "outputs": [],
   "source": [
    "day1 = np.dstack([ser1_day1, ser2_day1, ser3_day1])\n",
    "day2 = np.dstack([ser1_day2, ser2_day2, ser3_day2])\n",
    "day3 = np.dstack([ser1_day3, ser2_day3, ser3_day3])\n",
    "day4 = np.dstack([ser1_day4, ser2_day4, ser3_day4])"
   ],
   "metadata": {
    "collapsed": false,
    "ExecuteTime": {
     "end_time": "2023-05-18T14:05:12.871867Z",
     "start_time": "2023-05-18T14:05:12.833869Z"
    }
   }
  },
  {
   "cell_type": "code",
   "execution_count": 60,
   "outputs": [
    {
     "data": {
      "text/plain": "(2, 1, 3)"
     },
     "execution_count": 60,
     "metadata": {},
     "output_type": "execute_result"
    }
   ],
   "source": [
    "day1.shape"
   ],
   "metadata": {
    "collapsed": false,
    "ExecuteTime": {
     "end_time": "2023-05-18T14:05:13.555854Z",
     "start_time": "2023-05-18T14:05:13.512010Z"
    }
   }
  },
  {
   "cell_type": "code",
   "execution_count": 61,
   "outputs": [],
   "source": [
    "city = np.stack([day1, day2, day3, day4], axis=-1)"
   ],
   "metadata": {
    "collapsed": false,
    "ExecuteTime": {
     "end_time": "2023-05-18T14:05:14.298125Z",
     "start_time": "2023-05-18T14:05:14.256761Z"
    }
   }
  },
  {
   "cell_type": "code",
   "execution_count": 62,
   "outputs": [
    {
     "data": {
      "text/plain": "(2, 1, 3, 4)"
     },
     "execution_count": 62,
     "metadata": {},
     "output_type": "execute_result"
    }
   ],
   "source": [
    "city.shape"
   ],
   "metadata": {
    "collapsed": false,
    "ExecuteTime": {
     "end_time": "2023-05-18T14:05:15.869335Z",
     "start_time": "2023-05-18T14:05:15.826861Z"
    }
   }
  },
  {
   "cell_type": "code",
   "execution_count": 66,
   "outputs": [],
   "source": [
    "l = list(range(60))"
   ],
   "metadata": {
    "collapsed": false,
    "ExecuteTime": {
     "end_time": "2023-05-18T14:08:54.510074Z",
     "start_time": "2023-05-18T14:08:54.470507Z"
    }
   }
  },
  {
   "cell_type": "code",
   "execution_count": 70,
   "outputs": [
    {
     "data": {
      "text/plain": "[0, 10, 20, 30, 40, 50]"
     },
     "execution_count": 70,
     "metadata": {},
     "output_type": "execute_result"
    }
   ],
   "source": [
    "b = l[::10]"
   ],
   "metadata": {
    "collapsed": false,
    "ExecuteTime": {
     "end_time": "2023-05-18T14:09:42.162988Z",
     "start_time": "2023-05-18T14:09:42.120044Z"
    }
   }
  },
  {
   "cell_type": "code",
   "execution_count": 71,
   "outputs": [
    {
     "data": {
      "text/plain": "[[0, 1, 2, 3, 4, 5, 6, 7, 8, 9],\n [10, 11, 12, 13, 14, 15, 16, 17, 18, 19],\n [20, 21, 22, 23, 24, 25, 26, 27, 28, 29],\n [30, 31, 32, 33, 34, 35, 36, 37, 38, 39],\n [40, 41, 42, 43, 44, 45, 46, 47, 48, 49],\n [50, 51, 52, 53, 54, 55, 56, 57, 58, 59]]"
     },
     "execution_count": 71,
     "metadata": {},
     "output_type": "execute_result"
    }
   ],
   "source": [
    "[l[b: b+10] for b in range(0, len(l), 10)]"
   ],
   "metadata": {
    "collapsed": false,
    "ExecuteTime": {
     "end_time": "2023-05-18T14:10:13.201961Z",
     "start_time": "2023-05-18T14:10:13.161684Z"
    }
   }
  },
  {
   "cell_type": "code",
   "execution_count": null,
   "outputs": [],
   "source": [],
   "metadata": {
    "collapsed": false
   }
  }
 ],
 "metadata": {
  "kernelspec": {
   "display_name": "Python 3",
   "language": "python",
   "name": "python3"
  },
  "language_info": {
   "codemirror_mode": {
    "name": "ipython",
    "version": 3
   },
   "file_extension": ".py",
   "mimetype": "text/x-python",
   "name": "python",
   "nbconvert_exporter": "python",
   "pygments_lexer": "ipython3",
   "version": "3.9.9"
  },
  "vscode": {
   "interpreter": {
    "hash": "b45737afbba853d2106f30fe8b477196c987a4d8bcb00cfce986c8a308e11606"
   }
  }
 },
 "nbformat": 4,
 "nbformat_minor": 0
}
