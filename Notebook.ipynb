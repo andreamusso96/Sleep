{
 "cells": [
  {
   "cell_type": "code",
   "execution_count": 144,
   "outputs": [],
   "source": [
    "from datetime import time\n",
    "\n",
    "import pandas as pd\n",
    "import numpy as np\n",
    "\n",
    "from DataInterface.TrafficDataInterface import CityTrafficData, TrafficType\n",
    "from DataInterface.GeoDataInterface import GeoData, GeoDataType\n",
    "from DataInterface.AdminDataInterface import AdminData\n",
    "from DataInterface.ElectionDataInterface import ElectionData\n",
    "from Utils import City\n",
    "from FeatureExtraction.SessionDistribution.SessionDistributionCalculator import SessionDistributionCalculator\n",
    "from FeatureExtraction.IrisFeatureCalculator import IrisFeatureCalculator\n",
    "from FeatureExtraction.ServiceConsumptionFeatureCalculator import ServiceConsumptionFeatureCalculator, ServiceConsumptionFeatureName\n",
    "from FeatureExtraction.ElectionFeatureCalculator import ElectionFeatureCalculator, ElectionFeatureName\n",
    "from FeatureSelection.Regression import Regression"
   ],
   "metadata": {
    "collapsed": false,
    "ExecuteTime": {
     "end_time": "2023-06-19T12:21:46.900037Z",
     "start_time": "2023-06-19T12:21:46.829010Z"
    }
   }
  },
  {
   "cell_type": "code",
   "execution_count": 145,
   "outputs": [
    {
     "name": "stdout",
     "output_type": "stream",
     "text": [
      "The autoreload extension is already loaded. To reload it, use:\n",
      "  %reload_ext autoreload\n"
     ]
    }
   ],
   "source": [
    "%load_ext autoreload\n",
    "%autoreload 2"
   ],
   "metadata": {
    "collapsed": false,
    "ExecuteTime": {
     "end_time": "2023-06-19T12:21:47.107763Z",
     "start_time": "2023-06-19T12:21:47.031772Z"
    }
   }
  },
  {
   "cell_type": "markdown",
   "source": [
    "# DATA"
   ],
   "metadata": {
    "collapsed": false
   }
  },
  {
   "cell_type": "code",
   "execution_count": 4,
   "outputs": [
    {
     "name": "stderr",
     "output_type": "stream",
     "text": [
      "100%|██████████| 77/77 [01:13<00:00,  1.04it/s]\n"
     ]
    }
   ],
   "source": [
    "traffic_data = CityTrafficData(city=City.PARIS, geo_data_type=GeoDataType.IRIS, traffic_type=TrafficType.USERS)"
   ],
   "metadata": {
    "collapsed": false,
    "ExecuteTime": {
     "end_time": "2023-06-19T11:35:18.524256Z",
     "start_time": "2023-06-19T11:32:50.916254Z"
    }
   }
  },
  {
   "cell_type": "code",
   "execution_count": 5,
   "outputs": [],
   "source": [
    "geo_data = GeoData()\n",
    "geo_data.load(GeoDataType.IRIS)"
   ],
   "metadata": {
    "collapsed": false,
    "ExecuteTime": {
     "end_time": "2023-06-19T11:36:12.400416Z",
     "start_time": "2023-06-19T11:35:18.485855Z"
    }
   }
  },
  {
   "cell_type": "code",
   "execution_count": 8,
   "outputs": [],
   "source": [
    "admin_data = AdminData()"
   ],
   "metadata": {
    "collapsed": false,
    "ExecuteTime": {
     "end_time": "2023-06-19T11:48:02.071081Z",
     "start_time": "2023-06-19T11:47:52.767779Z"
    }
   }
  },
  {
   "cell_type": "markdown",
   "source": [
    "# SLEEP DATA ANALSIS"
   ],
   "metadata": {
    "collapsed": false
   }
  },
  {
   "cell_type": "code",
   "execution_count": 11,
   "outputs": [],
   "source": [
    "session_distribution_calculator = SessionDistributionCalculator(city_traffic_data=traffic_data, start=time(21, 30), end=time(3, 30))"
   ],
   "metadata": {
    "collapsed": false,
    "ExecuteTime": {
     "end_time": "2023-06-19T11:49:14.310523Z",
     "start_time": "2023-06-19T11:48:09.406307Z"
    }
   }
  },
  {
   "cell_type": "code",
   "execution_count": 12,
   "outputs": [],
   "source": [
    "session_distribution = session_distribution_calculator.calculate_session_distribution()"
   ],
   "metadata": {
    "collapsed": false,
    "ExecuteTime": {
     "end_time": "2023-06-19T11:49:14.760828Z",
     "start_time": "2023-06-19T11:49:14.318015Z"
    }
   }
  },
  {
   "cell_type": "code",
   "execution_count": 13,
   "outputs": [],
   "source": [
    "session_distribution.distribution_plot()"
   ],
   "metadata": {
    "collapsed": false,
    "ExecuteTime": {
     "end_time": "2023-06-19T11:49:19.253015Z",
     "start_time": "2023-06-19T11:49:14.763116Z"
    }
   }
  },
  {
   "cell_type": "code",
   "execution_count": 97,
   "outputs": [],
   "source": [
    "session_expectation = session_distribution.expectation_by_location()"
   ],
   "metadata": {
    "collapsed": false,
    "ExecuteTime": {
     "end_time": "2023-06-19T11:59:25.747655Z",
     "start_time": "2023-06-19T11:59:25.670859Z"
    }
   }
  },
  {
   "cell_type": "code",
   "execution_count": 21,
   "outputs": [],
   "source": [
    "session_expectation.geo_plot(geo_data=geo_data)"
   ],
   "metadata": {
    "collapsed": false,
    "ExecuteTime": {
     "end_time": "2023-06-19T11:51:12.435944Z",
     "start_time": "2023-06-19T11:51:07.908620Z"
    }
   }
  },
  {
   "cell_type": "code",
   "execution_count": 22,
   "outputs": [],
   "source": [
    "session_expectation.scatter_plot(confidence_intervals=True)"
   ],
   "metadata": {
    "collapsed": false,
    "ExecuteTime": {
     "end_time": "2023-06-19T11:51:30.764231Z",
     "start_time": "2023-06-19T11:51:30.293665Z"
    }
   }
  },
  {
   "cell_type": "code",
   "execution_count": 52,
   "outputs": [],
   "source": [
    "iris_subset = session_expectation.data.index.values"
   ],
   "metadata": {
    "collapsed": false,
    "ExecuteTime": {
     "end_time": "2023-06-19T11:56:56.793188Z",
     "start_time": "2023-06-19T11:56:56.723646Z"
    }
   }
  },
  {
   "cell_type": "code",
   "execution_count": 53,
   "outputs": [],
   "source": [
    "iris_feature_constructor = IrisFeatureCalculator(admin_data=admin_data, geo_data=geo_data)"
   ],
   "metadata": {
    "collapsed": false,
    "ExecuteTime": {
     "end_time": "2023-06-19T11:56:56.980663Z",
     "start_time": "2023-06-19T11:56:56.911153Z"
    }
   }
  },
  {
   "cell_type": "markdown",
   "source": [
    "### Variables considered"
   ],
   "metadata": {
    "collapsed": false
   }
  },
  {
   "cell_type": "code",
   "execution_count": 54,
   "outputs": [],
   "source": [
    "iris_centrality = iris_feature_constructor.centrality(subset=iris_subset).data"
   ],
   "metadata": {
    "collapsed": false,
    "ExecuteTime": {
     "end_time": "2023-06-19T11:56:59.012552Z",
     "start_time": "2023-06-19T11:56:57.690461Z"
    }
   }
  },
  {
   "cell_type": "code",
   "execution_count": 79,
   "outputs": [],
   "source": [
    "iris_density_of_city = iris_feature_constructor.density_of_city(subset=iris_subset).data"
   ],
   "metadata": {
    "collapsed": false,
    "ExecuteTime": {
     "end_time": "2023-06-19T11:58:49.559080Z",
     "start_time": "2023-06-19T11:58:48.797927Z"
    }
   }
  },
  {
   "cell_type": "code",
   "execution_count": 81,
   "outputs": [],
   "source": [
    "iris_pop_density = iris_feature_constructor.var_density(subset=iris_subset, var_names=['P19_POP']).rename(columns={'P19_POP': 'POP_DEN'})"
   ],
   "metadata": {
    "collapsed": false,
    "ExecuteTime": {
     "end_time": "2023-06-19T11:59:03.768960Z",
     "start_time": "2023-06-19T11:59:03.526383Z"
    }
   }
  },
  {
   "cell_type": "code",
   "execution_count": 82,
   "outputs": [],
   "source": [
    "iris_business_density = iris_feature_constructor.business_density(subset=iris_subset).data"
   ],
   "metadata": {
    "collapsed": false,
    "ExecuteTime": {
     "end_time": "2023-06-19T11:59:04.022590Z",
     "start_time": "2023-06-19T11:59:03.771290Z"
    }
   }
  },
  {
   "cell_type": "code",
   "execution_count": 83,
   "outputs": [],
   "source": [
    "age_shares = iris_feature_constructor.var_shares(subset=iris_subset, var_names=['P19_POP1529', 'P19_POP3044', 'P19_POP4559', 'P19_POP6074', 'P19_POP75P'])"
   ],
   "metadata": {
    "collapsed": false,
    "ExecuteTime": {
     "end_time": "2023-06-19T11:59:04.147643Z",
     "start_time": "2023-06-19T11:59:04.000220Z"
    }
   }
  },
  {
   "cell_type": "code",
   "execution_count": 84,
   "outputs": [],
   "source": [
    "lonely_shares = iris_feature_constructor.var_shares(subset=iris_subset, var_names=['P19_POP15P_PSEUL'])"
   ],
   "metadata": {
    "collapsed": false,
    "ExecuteTime": {
     "end_time": "2023-06-19T11:59:04.321945Z",
     "start_time": "2023-06-19T11:59:04.149901Z"
    }
   }
  },
  {
   "cell_type": "code",
   "execution_count": 85,
   "outputs": [],
   "source": [
    "income = admin_data.get_admin_data(subset=iris_subset)[['DEC_MED19', 'DEC_GI19']]"
   ],
   "metadata": {
    "collapsed": false,
    "ExecuteTime": {
     "end_time": "2023-06-19T11:59:04.489191Z",
     "start_time": "2023-06-19T11:59:04.302325Z"
    }
   }
  },
  {
   "cell_type": "code",
   "execution_count": 86,
   "outputs": [],
   "source": [
    "shares_of_workers_with_far_work = iris_feature_constructor.var_shares(subset=iris_subset, var_names=['P19_ACTOCC15P_ILT2P'])"
   ],
   "metadata": {
    "collapsed": false,
    "ExecuteTime": {
     "end_time": "2023-06-19T11:59:04.646265Z",
     "start_time": "2023-06-19T11:59:04.477465Z"
    }
   }
  },
  {
   "cell_type": "code",
   "execution_count": 87,
   "outputs": [],
   "source": [
    "education = iris_feature_constructor.var_shares(subset=iris_subset, var_names=['P19_ACT_DIPLMIN','P19_ACT_BAC', 'P19_ACT_SUP2'])"
   ],
   "metadata": {
    "collapsed": false,
    "ExecuteTime": {
     "end_time": "2023-06-19T11:59:04.770201Z",
     "start_time": "2023-06-19T11:59:04.624372Z"
    }
   }
  },
  {
   "cell_type": "code",
   "execution_count": 88,
   "outputs": [],
   "source": [
    "unemployment = iris_feature_constructor.var_shares(subset=iris_subset, var_names=['P19_CHOM1524', 'P19_CHOM2554', 'P19_CHOM5564'])"
   ],
   "metadata": {
    "collapsed": false,
    "ExecuteTime": {
     "end_time": "2023-06-19T11:59:04.941499Z",
     "start_time": "2023-06-19T11:59:04.772486Z"
    }
   }
  },
  {
   "cell_type": "code",
   "execution_count": 89,
   "outputs": [],
   "source": [
    "retirees = iris_feature_constructor.var_shares(subset=iris_subset, var_names=['P19_RETR1564'])"
   ],
   "metadata": {
    "collapsed": false,
    "ExecuteTime": {
     "end_time": "2023-06-19T11:59:05.099159Z",
     "start_time": "2023-06-19T11:59:04.925180Z"
    }
   }
  },
  {
   "cell_type": "code",
   "execution_count": 90,
   "outputs": [],
   "source": [
    "nationality = iris_feature_constructor.var_shares(subset=iris_subset, var_names=['P19_POP_ETR'])"
   ],
   "metadata": {
    "collapsed": false,
    "ExecuteTime": {
     "end_time": "2023-06-19T11:59:05.221368Z",
     "start_time": "2023-06-19T11:59:05.075355Z"
    }
   }
  },
  {
   "cell_type": "code",
   "execution_count": 91,
   "outputs": [],
   "source": [
    "house_sizes = iris_feature_constructor.var_shares(subset=iris_subset, var_names=['P19_RP_M30M2', 'P19_RP_3040M2', 'P19_RP_4060M2', 'P19_RP_6080M2', 'P19_RP_80100M2', 'P19_RP_100120M2', 'P19_RP_120M2P'])"
   ],
   "metadata": {
    "collapsed": false,
    "ExecuteTime": {
     "end_time": "2023-06-19T11:59:05.373799Z",
     "start_time": "2023-06-19T11:59:05.220524Z"
    }
   }
  },
  {
   "cell_type": "code",
   "execution_count": 92,
   "outputs": [],
   "source": [
    "men = iris_feature_constructor.var_shares(subset=iris_subset, var_names=['P19_POPH'])"
   ],
   "metadata": {
    "collapsed": false,
    "ExecuteTime": {
     "end_time": "2023-06-19T11:59:05.507485Z",
     "start_time": "2023-06-19T11:59:05.366764Z"
    }
   }
  },
  {
   "cell_type": "code",
   "execution_count": 93,
   "outputs": [],
   "source": [
    "families = iris_feature_constructor.var_shares(subset=iris_subset, var_names=['P19_POP15P_MARIEE', 'C19_FAM'])"
   ],
   "metadata": {
    "collapsed": false,
    "ExecuteTime": {
     "end_time": "2023-06-19T11:59:06.315651Z",
     "start_time": "2023-06-19T11:59:06.160795Z"
    }
   }
  },
  {
   "cell_type": "code",
   "execution_count": 94,
   "outputs": [],
   "source": [
    "# services = feature_constructor.iris_shares(iris=iris_subset, var_names=['EQUIP_E107', 'EQUIP_E108', 'EQUIP_E109', 'EQUIP_A504'])"
   ],
   "metadata": {
    "collapsed": false,
    "ExecuteTime": {
     "end_time": "2023-06-19T11:59:06.397663Z",
     "start_time": "2023-06-19T11:59:06.330245Z"
    }
   }
  },
  {
   "cell_type": "code",
   "execution_count": 95,
   "outputs": [],
   "source": [
    "displacement_to_work = iris_feature_constructor.var_shares(subset=iris_subset, var_names=['C19_ACTOCC15P_MAR', 'C19_ACTOCC15P_TCOM', 'C19_ACTOCC15P_PAS', 'C19_ACTOCC15P_VELO', 'C19_ACTOCC15P_VOIT'])"
   ],
   "metadata": {
    "collapsed": false,
    "ExecuteTime": {
     "end_time": "2023-06-19T11:59:06.650498Z",
     "start_time": "2023-06-19T11:59:06.503283Z"
    }
   }
  },
  {
   "cell_type": "code",
   "execution_count": 98,
   "outputs": [],
   "source": [
    "session_expectation_data = session_expectation.data"
   ],
   "metadata": {
    "collapsed": false,
    "ExecuteTime": {
     "end_time": "2023-06-19T11:59:28.891576Z",
     "start_time": "2023-06-19T11:59:28.818540Z"
    }
   }
  },
  {
   "cell_type": "code",
   "execution_count": 99,
   "outputs": [
    {
     "data": {
      "text/plain": "((2684, 39),\n array(['POP_DEN', 'session_expectation', 'std', 'n_obs',\n        'density_of_city', 'centrality', 'DEC_MED19', 'DEC_GI19',\n        'business_density', 'P19_POP1529', 'P19_POP3044', 'P19_POP4559',\n        'P19_POP6074', 'P19_POP75P', 'P19_POP15P_PSEUL',\n        'P19_ACTOCC15P_ILT2P', 'P19_ACT_DIPLMIN', 'P19_ACT_BAC',\n        'P19_ACT_SUP2', 'P19_CHOM1524', 'P19_CHOM2554', 'P19_CHOM5564',\n        'P19_RETR1564', 'P19_POP_ETR', 'P19_RP_M30M2', 'P19_RP_3040M2',\n        'P19_RP_4060M2', 'P19_RP_6080M2', 'P19_RP_80100M2',\n        'P19_RP_100120M2', 'P19_RP_120M2P', 'P19_POPH',\n        'P19_POP15P_MARIEE', 'C19_FAM', 'C19_ACTOCC15P_MAR',\n        'C19_ACTOCC15P_TCOM', 'C19_ACTOCC15P_PAS', 'C19_ACTOCC15P_VELO',\n        'C19_ACTOCC15P_VOIT'], dtype=object))"
     },
     "execution_count": 99,
     "metadata": {},
     "output_type": "execute_result"
    }
   ],
   "source": [
    "data = pd.merge(iris_pop_density, session_expectation_data, left_index=True, right_index=True, how='inner')\n",
    "data = pd.merge(data, iris_density_of_city, left_index=True, right_index=True, how='inner')\n",
    "data = pd.merge(data, iris_centrality, left_index=True, right_index=True, how='inner')\n",
    "data = pd.merge(data, income, left_index=True, right_index=True, how='inner')\n",
    "data = pd.merge(data, iris_business_density + np.quantile(iris_business_density, 0.1), left_index=True, right_index=True, how='inner')\n",
    "data = np.log(data)\n",
    "data = pd.merge(data, age_shares, left_index=True, right_index=True, how='inner')\n",
    "data = pd.merge(data, lonely_shares, left_index=True, right_index=True, how='inner')\n",
    "data = pd.merge(data, shares_of_workers_with_far_work, left_index=True, right_index=True, how='inner')\n",
    "data = pd.merge(data, education, left_index=True, right_index=True, how='inner')\n",
    "data = pd.merge(data, unemployment, left_index=True, right_index=True, how='inner')\n",
    "data = pd.merge(data, retirees, left_index=True, right_index=True, how='inner')\n",
    "data = pd.merge(data, nationality, left_index=True, right_index=True, how='inner')\n",
    "data = pd.merge(data, house_sizes, left_index=True, right_index=True, how='inner')\n",
    "data = pd.merge(data, men, left_index=True, right_index=True, how='inner')\n",
    "data = pd.merge(data, families, left_index=True, right_index=True, how='inner')\n",
    "data = pd.merge(data, displacement_to_work, left_index=True, right_index=True, how='inner')\n",
    "data.dropna(inplace=True)\n",
    "data.shape, np.array(data.columns)"
   ],
   "metadata": {
    "collapsed": false,
    "ExecuteTime": {
     "end_time": "2023-06-19T11:59:29.816438Z",
     "start_time": "2023-06-19T11:59:29.727265Z"
    }
   }
  },
  {
   "cell_type": "code",
   "execution_count": 100,
   "outputs": [],
   "source": [
    "x_axis = 'DEC_MED19'\n",
    "features = data[[c for c in data.columns if c not in ['session_expectation', 'density_of_city']]]\n",
    "labels = data['session_expectation'].to_frame()\n",
    "regression = Regression(features=features['DEC_MED19'].to_frame(), labels=labels)\n",
    "regression.plot(x_axis=x_axis, color=data['density_of_city'].to_frame())"
   ],
   "metadata": {
    "collapsed": false,
    "ExecuteTime": {
     "end_time": "2023-06-19T11:59:34.010801Z",
     "start_time": "2023-06-19T11:59:33.535761Z"
    }
   }
  },
  {
   "cell_type": "markdown",
   "source": [
    "# ELECTION DATA ANALYSIS"
   ],
   "metadata": {
    "collapsed": false
   }
  },
  {
   "cell_type": "code",
   "execution_count": 102,
   "outputs": [],
   "source": [
    "election_data = ElectionData()"
   ],
   "metadata": {
    "collapsed": false,
    "ExecuteTime": {
     "end_time": "2023-06-19T12:03:11.090785Z",
     "start_time": "2023-06-19T12:03:01.588119Z"
    }
   }
  },
  {
   "cell_type": "code",
   "execution_count": 105,
   "outputs": [],
   "source": [
    "service_consumption_by_location = traffic_data.get_service_consumption_by_location(start=time(18,30), end=time(23))"
   ],
   "metadata": {
    "collapsed": false,
    "ExecuteTime": {
     "end_time": "2023-06-19T12:09:43.204062Z",
     "start_time": "2023-06-19T12:04:14.413110Z"
    }
   }
  },
  {
   "cell_type": "code",
   "execution_count": 147,
   "outputs": [],
   "source": [
    "service_consumption_feature_calculator = ServiceConsumptionFeatureCalculator(service_consumption_by_location=service_consumption_by_location)"
   ],
   "metadata": {
    "collapsed": false,
    "ExecuteTime": {
     "end_time": "2023-06-19T12:22:04.698174Z",
     "start_time": "2023-06-19T12:22:04.624007Z"
    }
   }
  },
  {
   "cell_type": "code",
   "execution_count": 107,
   "outputs": [],
   "source": [
    "election_data_by_iris = election_data.get_election_data_table_iris_by_column(geo_data=geo_data, subset=traffic_data.data.coords[GeoDataType.IRIS.value].values, column='list_number', value='pct_votes_to_list_among_votes', aggregation_method='mean') / 100"
   ],
   "metadata": {
    "collapsed": false,
    "ExecuteTime": {
     "end_time": "2023-06-19T12:09:45.732131Z",
     "start_time": "2023-06-19T12:09:43.850885Z"
    }
   }
  },
  {
   "cell_type": "code",
   "execution_count": 113,
   "outputs": [],
   "source": [
    "election_feature_calculator = ElectionFeatureCalculator(election_result_by_location=election_data_by_iris)"
   ],
   "metadata": {
    "collapsed": false,
    "ExecuteTime": {
     "end_time": "2023-06-19T12:14:23.554699Z",
     "start_time": "2023-06-19T12:14:23.475924Z"
    }
   }
  },
  {
   "cell_type": "code",
   "execution_count": 139,
   "outputs": [],
   "source": [
    "entropy_election_result = election_feature_calculator.get_election_feature(feature=ElectionFeatureName.ENTROPY).data.rename(columns={'entropy': 'entropy_election_result'})"
   ],
   "metadata": {
    "collapsed": false,
    "ExecuteTime": {
     "end_time": "2023-06-19T12:20:31.846489Z",
     "start_time": "2023-06-19T12:20:31.708932Z"
    }
   }
  },
  {
   "cell_type": "code",
   "execution_count": 151,
   "outputs": [],
   "source": [
    "entropy_service_consumption = service_consumption_feature_calculator.get_consumption_feature(feature=ServiceConsumptionFeatureName.ENTROPY).data.rename(columns={'entropy': 'entropy_service'})"
   ],
   "metadata": {
    "collapsed": false,
    "ExecuteTime": {
     "end_time": "2023-06-19T12:22:22.628039Z",
     "start_time": "2023-06-19T12:22:22.457707Z"
    }
   }
  },
  {
   "cell_type": "code",
   "execution_count": 156,
   "outputs": [
    {
     "data": {
      "text/plain": "((2930, 2),\n array(['entropy_service', 'entropy_election_result'], dtype=object))"
     },
     "execution_count": 156,
     "metadata": {},
     "output_type": "execute_result"
    }
   ],
   "source": [
    "data_election = pd.merge(entropy_service_consumption, entropy_election_result, left_index=True, right_index=True, how='inner')\n",
    "data_election.dropna(inplace=True)\n",
    "data_election.shape, np.array(data_election.columns)"
   ],
   "metadata": {
    "collapsed": false,
    "ExecuteTime": {
     "end_time": "2023-06-19T12:23:15.189013Z",
     "start_time": "2023-06-19T12:23:15.113279Z"
    }
   }
  },
  {
   "cell_type": "code",
   "execution_count": 157,
   "outputs": [],
   "source": [
    "x_axis = 'entropy_service'\n",
    "features = data_election['entropy_service'].to_frame()\n",
    "labels = data_election['entropy_election_result'].to_frame()\n",
    "regression = Regression(features=features, labels=labels)\n",
    "regression.plot(x_axis=x_axis)"
   ],
   "metadata": {
    "collapsed": false,
    "ExecuteTime": {
     "end_time": "2023-06-19T12:23:15.886145Z",
     "start_time": "2023-06-19T12:23:15.299150Z"
    }
   }
  },
  {
   "cell_type": "code",
   "execution_count": null,
   "outputs": [],
   "source": [],
   "metadata": {
    "collapsed": false
   }
  }
 ],
 "metadata": {
  "kernelspec": {
   "display_name": "netmob_env",
   "language": "python",
   "name": "python3"
  },
  "language_info": {
   "codemirror_mode": {
    "name": "ipython",
    "version": 3
   },
   "file_extension": ".py",
   "mimetype": "text/x-python",
   "name": "python",
   "nbconvert_exporter": "python",
   "pygments_lexer": "ipython3",
   "version": "3.10.4"
  },
  "vscode": {
   "interpreter": {
    "hash": "12446bc72b2d39f7c5ae547dd2a2f3fa5f964107a3a30e469371d9d3694576e5"
   }
  }
 },
 "nbformat": 4,
 "nbformat_minor": 0
}
