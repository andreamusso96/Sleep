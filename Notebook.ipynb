{
 "cells": [
  {
   "cell_type": "code",
   "execution_count": 22,
   "outputs": [],
   "source": [
    "from DataIO import DataIO\n",
    "from Utils import City, AggregationLevel, TrafficType\n",
    "from SleepInference.SleepPreprocessor import SleepPreprocessor\n",
    "from SleepInference.TimeSeriesDecomposition import Decomposer\n",
    "import pandas as pd"
   ],
   "metadata": {
    "collapsed": false,
    "ExecuteTime": {
     "end_time": "2023-05-25T10:14:25.523969Z",
     "start_time": "2023-05-25T10:14:24.697120Z"
    }
   }
  },
  {
   "cell_type": "code",
   "execution_count": null,
   "outputs": [],
   "source": [
    "%load_ext autoreload\n",
    "%autoreload 2"
   ],
   "metadata": {
    "collapsed": false
   }
  },
  {
   "cell_type": "code",
   "execution_count": 12,
   "outputs": [],
   "source": [
    "city = City.LYON\n",
    "aggregation_level = AggregationLevel.IRIS\n",
    "traffic_type = TrafficType.B"
   ],
   "metadata": {
    "collapsed": false,
    "ExecuteTime": {
     "end_time": "2023-05-25T10:11:27.001548Z",
     "start_time": "2023-05-25T10:11:26.990192Z"
    }
   }
  },
  {
   "cell_type": "code",
   "execution_count": 13,
   "outputs": [
    {
     "name": "stderr",
     "output_type": "stream",
     "text": [
      "100%|██████████| 77/77 [00:43<00:00,  1.76it/s]\n"
     ]
    }
   ],
   "source": [
    "xar_city = DataIO.load_traffic_data(traffic_type=TrafficType.B, city=City.LYON, aggregation_level=AggregationLevel.IRIS)"
   ],
   "metadata": {
    "collapsed": false,
    "ExecuteTime": {
     "end_time": "2023-05-25T10:12:18.291649Z",
     "start_time": "2023-05-25T10:11:27.755879Z"
    }
   }
  },
  {
   "cell_type": "code",
   "execution_count": 34,
   "outputs": [
    {
     "data": {
      "text/plain": "iris                 11050000   12380000   12480000   12490101   12490103    \n2019-03-16 00:00:00   299627.0   262897.0   146285.0   194888.0   286186.0  \\\n2019-03-16 00:15:00   302568.0   294696.0   170839.0   194158.0   332667.0   \n2019-03-16 00:30:00   632095.0   339727.0   210722.0   193170.0   403893.0   \n2019-03-16 00:45:00   306368.0   223627.0   210193.0   158586.0   327552.0   \n2019-03-16 01:00:00   220132.0   203480.0   175046.0   149113.0   184755.0   \n2019-03-16 01:15:00   125447.0   256859.0   144220.0   134239.0   132776.0   \n2019-03-16 01:30:00   226411.0   180162.0    60970.0   133375.0   128170.0   \n2019-03-16 01:45:00   178125.0   166646.0    93614.0   126506.0   197385.0   \n2019-03-16 02:00:00   152105.0   231639.0    38472.0   101285.0    83428.0   \n2019-03-16 02:15:00    92855.0    84773.0    20238.0    95227.0   106532.0   \n\niris                 12750000   12760000   13220000   13760000   14180000    \n2019-03-16 00:00:00  1076542.0    11351.0    65080.0   106307.0   483967.0  \\\n2019-03-16 00:15:00  1008768.0    19198.0    71788.0    99161.0   482205.0   \n2019-03-16 00:30:00   945164.0    16615.0    83191.0    90080.0   445733.0   \n2019-03-16 00:45:00   813457.0    14068.0    39240.0    78584.0   437453.0   \n2019-03-16 01:00:00   875856.0    11252.0    31901.0    69631.0   330389.0   \n2019-03-16 01:15:00   778288.0     8992.0    30988.0    63138.0   274892.0   \n2019-03-16 01:30:00   709373.0     3077.0    37573.0    70627.0   268214.0   \n2019-03-16 01:45:00   688976.0     4051.0    45238.0    61745.0   269385.0   \n2019-03-16 02:00:00   536290.0     3276.0    48319.0    48951.0   274036.0   \n2019-03-16 02:15:00   434588.0     4950.0    13229.0    44376.0   242266.0   \n\niris                 ...  693890303   693890401   693890402   693890403   \n2019-03-16 00:00:00  ...  6412514.0  20671380.0  26981890.0  12247350.0  \\\n2019-03-16 00:15:00  ...  7150881.0  20385820.0  29876853.0  12326986.0   \n2019-03-16 00:30:00  ...  6606154.0  19349253.0  29404898.0  11183489.0   \n2019-03-16 00:45:00  ...  5093367.0  17863549.0  21068697.0   9852309.0   \n2019-03-16 01:00:00  ...  6113946.0  23949874.0  19329793.0  16059427.0   \n2019-03-16 01:15:00  ...  4771103.0  16505645.0  17460962.0   9298880.0   \n2019-03-16 01:30:00  ...  3414376.0  10743038.0  13605316.0   6080923.0   \n2019-03-16 01:45:00  ...  3229472.0   7304828.0  13750589.0   4430550.0   \n2019-03-16 02:00:00  ...  3658550.0   8359872.0  10716096.0   4844816.0   \n2019-03-16 02:15:00  ...  3490418.0   7466557.0  11790305.0   4415134.0   \n\niris                  693890501   693890502  693890604  693890605  693890606   \n2019-03-16 00:00:00   7667614.0  13319968.0  3554865.0  4724878.0  8205376.0  \\\n2019-03-16 00:15:00   7684855.0  13278141.0  3522776.0  4779325.0  8876240.0   \n2019-03-16 00:30:00   7524622.0  12805314.0  3566642.0  4625816.0  8128773.0   \n2019-03-16 00:45:00   9078735.0  12019984.0  2225675.0  3170158.0  6549554.0   \n2019-03-16 01:00:00  11015903.0  16420533.0  4267039.0  4483452.0  8462154.0   \n2019-03-16 01:15:00   6973049.0  11597082.0  2464679.0  3066938.0  6050287.0   \n2019-03-16 01:30:00   4068160.0   7393873.0  2069200.0  2412943.0  4832933.0   \n2019-03-16 01:45:00   3313626.0   4945862.0  1573286.0  2234884.0  5100380.0   \n2019-03-16 02:00:00   3663136.0   6430317.0  1565547.0  1855349.0  4934873.0   \n2019-03-16 02:15:00   2795130.0   6779321.0  1170142.0  1628081.0  4472258.0   \n\niris                 693890607  \n2019-03-16 00:00:00  2337918.0  \n2019-03-16 00:15:00  2355854.0  \n2019-03-16 00:30:00  2353098.0  \n2019-03-16 00:45:00  1602625.0  \n2019-03-16 01:00:00  2877920.0  \n2019-03-16 01:15:00  1672125.0  \n2019-03-16 01:30:00  1355374.0  \n2019-03-16 01:45:00  1032525.0  \n2019-03-16 02:00:00  1064042.0  \n2019-03-16 02:15:00   857718.0  \n\n[10 rows x 556 columns]",
      "text/html": "<div>\n<style scoped>\n    .dataframe tbody tr th:only-of-type {\n        vertical-align: middle;\n    }\n\n    .dataframe tbody tr th {\n        vertical-align: top;\n    }\n\n    .dataframe thead th {\n        text-align: right;\n    }\n</style>\n<table border=\"1\" class=\"dataframe\">\n  <thead>\n    <tr style=\"text-align: right;\">\n      <th>iris</th>\n      <th>11050000</th>\n      <th>12380000</th>\n      <th>12480000</th>\n      <th>12490101</th>\n      <th>12490103</th>\n      <th>12750000</th>\n      <th>12760000</th>\n      <th>13220000</th>\n      <th>13760000</th>\n      <th>14180000</th>\n      <th>...</th>\n      <th>693890303</th>\n      <th>693890401</th>\n      <th>693890402</th>\n      <th>693890403</th>\n      <th>693890501</th>\n      <th>693890502</th>\n      <th>693890604</th>\n      <th>693890605</th>\n      <th>693890606</th>\n      <th>693890607</th>\n    </tr>\n  </thead>\n  <tbody>\n    <tr>\n      <th>2019-03-16 00:00:00</th>\n      <td>299627.0</td>\n      <td>262897.0</td>\n      <td>146285.0</td>\n      <td>194888.0</td>\n      <td>286186.0</td>\n      <td>1076542.0</td>\n      <td>11351.0</td>\n      <td>65080.0</td>\n      <td>106307.0</td>\n      <td>483967.0</td>\n      <td>...</td>\n      <td>6412514.0</td>\n      <td>20671380.0</td>\n      <td>26981890.0</td>\n      <td>12247350.0</td>\n      <td>7667614.0</td>\n      <td>13319968.0</td>\n      <td>3554865.0</td>\n      <td>4724878.0</td>\n      <td>8205376.0</td>\n      <td>2337918.0</td>\n    </tr>\n    <tr>\n      <th>2019-03-16 00:15:00</th>\n      <td>302568.0</td>\n      <td>294696.0</td>\n      <td>170839.0</td>\n      <td>194158.0</td>\n      <td>332667.0</td>\n      <td>1008768.0</td>\n      <td>19198.0</td>\n      <td>71788.0</td>\n      <td>99161.0</td>\n      <td>482205.0</td>\n      <td>...</td>\n      <td>7150881.0</td>\n      <td>20385820.0</td>\n      <td>29876853.0</td>\n      <td>12326986.0</td>\n      <td>7684855.0</td>\n      <td>13278141.0</td>\n      <td>3522776.0</td>\n      <td>4779325.0</td>\n      <td>8876240.0</td>\n      <td>2355854.0</td>\n    </tr>\n    <tr>\n      <th>2019-03-16 00:30:00</th>\n      <td>632095.0</td>\n      <td>339727.0</td>\n      <td>210722.0</td>\n      <td>193170.0</td>\n      <td>403893.0</td>\n      <td>945164.0</td>\n      <td>16615.0</td>\n      <td>83191.0</td>\n      <td>90080.0</td>\n      <td>445733.0</td>\n      <td>...</td>\n      <td>6606154.0</td>\n      <td>19349253.0</td>\n      <td>29404898.0</td>\n      <td>11183489.0</td>\n      <td>7524622.0</td>\n      <td>12805314.0</td>\n      <td>3566642.0</td>\n      <td>4625816.0</td>\n      <td>8128773.0</td>\n      <td>2353098.0</td>\n    </tr>\n    <tr>\n      <th>2019-03-16 00:45:00</th>\n      <td>306368.0</td>\n      <td>223627.0</td>\n      <td>210193.0</td>\n      <td>158586.0</td>\n      <td>327552.0</td>\n      <td>813457.0</td>\n      <td>14068.0</td>\n      <td>39240.0</td>\n      <td>78584.0</td>\n      <td>437453.0</td>\n      <td>...</td>\n      <td>5093367.0</td>\n      <td>17863549.0</td>\n      <td>21068697.0</td>\n      <td>9852309.0</td>\n      <td>9078735.0</td>\n      <td>12019984.0</td>\n      <td>2225675.0</td>\n      <td>3170158.0</td>\n      <td>6549554.0</td>\n      <td>1602625.0</td>\n    </tr>\n    <tr>\n      <th>2019-03-16 01:00:00</th>\n      <td>220132.0</td>\n      <td>203480.0</td>\n      <td>175046.0</td>\n      <td>149113.0</td>\n      <td>184755.0</td>\n      <td>875856.0</td>\n      <td>11252.0</td>\n      <td>31901.0</td>\n      <td>69631.0</td>\n      <td>330389.0</td>\n      <td>...</td>\n      <td>6113946.0</td>\n      <td>23949874.0</td>\n      <td>19329793.0</td>\n      <td>16059427.0</td>\n      <td>11015903.0</td>\n      <td>16420533.0</td>\n      <td>4267039.0</td>\n      <td>4483452.0</td>\n      <td>8462154.0</td>\n      <td>2877920.0</td>\n    </tr>\n    <tr>\n      <th>2019-03-16 01:15:00</th>\n      <td>125447.0</td>\n      <td>256859.0</td>\n      <td>144220.0</td>\n      <td>134239.0</td>\n      <td>132776.0</td>\n      <td>778288.0</td>\n      <td>8992.0</td>\n      <td>30988.0</td>\n      <td>63138.0</td>\n      <td>274892.0</td>\n      <td>...</td>\n      <td>4771103.0</td>\n      <td>16505645.0</td>\n      <td>17460962.0</td>\n      <td>9298880.0</td>\n      <td>6973049.0</td>\n      <td>11597082.0</td>\n      <td>2464679.0</td>\n      <td>3066938.0</td>\n      <td>6050287.0</td>\n      <td>1672125.0</td>\n    </tr>\n    <tr>\n      <th>2019-03-16 01:30:00</th>\n      <td>226411.0</td>\n      <td>180162.0</td>\n      <td>60970.0</td>\n      <td>133375.0</td>\n      <td>128170.0</td>\n      <td>709373.0</td>\n      <td>3077.0</td>\n      <td>37573.0</td>\n      <td>70627.0</td>\n      <td>268214.0</td>\n      <td>...</td>\n      <td>3414376.0</td>\n      <td>10743038.0</td>\n      <td>13605316.0</td>\n      <td>6080923.0</td>\n      <td>4068160.0</td>\n      <td>7393873.0</td>\n      <td>2069200.0</td>\n      <td>2412943.0</td>\n      <td>4832933.0</td>\n      <td>1355374.0</td>\n    </tr>\n    <tr>\n      <th>2019-03-16 01:45:00</th>\n      <td>178125.0</td>\n      <td>166646.0</td>\n      <td>93614.0</td>\n      <td>126506.0</td>\n      <td>197385.0</td>\n      <td>688976.0</td>\n      <td>4051.0</td>\n      <td>45238.0</td>\n      <td>61745.0</td>\n      <td>269385.0</td>\n      <td>...</td>\n      <td>3229472.0</td>\n      <td>7304828.0</td>\n      <td>13750589.0</td>\n      <td>4430550.0</td>\n      <td>3313626.0</td>\n      <td>4945862.0</td>\n      <td>1573286.0</td>\n      <td>2234884.0</td>\n      <td>5100380.0</td>\n      <td>1032525.0</td>\n    </tr>\n    <tr>\n      <th>2019-03-16 02:00:00</th>\n      <td>152105.0</td>\n      <td>231639.0</td>\n      <td>38472.0</td>\n      <td>101285.0</td>\n      <td>83428.0</td>\n      <td>536290.0</td>\n      <td>3276.0</td>\n      <td>48319.0</td>\n      <td>48951.0</td>\n      <td>274036.0</td>\n      <td>...</td>\n      <td>3658550.0</td>\n      <td>8359872.0</td>\n      <td>10716096.0</td>\n      <td>4844816.0</td>\n      <td>3663136.0</td>\n      <td>6430317.0</td>\n      <td>1565547.0</td>\n      <td>1855349.0</td>\n      <td>4934873.0</td>\n      <td>1064042.0</td>\n    </tr>\n    <tr>\n      <th>2019-03-16 02:15:00</th>\n      <td>92855.0</td>\n      <td>84773.0</td>\n      <td>20238.0</td>\n      <td>95227.0</td>\n      <td>106532.0</td>\n      <td>434588.0</td>\n      <td>4950.0</td>\n      <td>13229.0</td>\n      <td>44376.0</td>\n      <td>242266.0</td>\n      <td>...</td>\n      <td>3490418.0</td>\n      <td>7466557.0</td>\n      <td>11790305.0</td>\n      <td>4415134.0</td>\n      <td>2795130.0</td>\n      <td>6779321.0</td>\n      <td>1170142.0</td>\n      <td>1628081.0</td>\n      <td>4472258.0</td>\n      <td>857718.0</td>\n    </tr>\n  </tbody>\n</table>\n<p>10 rows × 556 columns</p>\n</div>"
     },
     "execution_count": 34,
     "metadata": {},
     "output_type": "execute_result"
    }
   ],
   "source": [
    "preprocessor = SleepPreprocessor(xar_city=xar_city, city=city)\n",
    "time_series_data_ = preprocessor.preprocess()\n",
    "datetime_index = time_series_data_.index.get_level_values(0) + time_series_data_.index.get_level_values(1)\n",
    "time_series_with_datetime_index = pd.DataFrame(data=time_series_data_.values, index=datetime_index, columns=time_series_data_.columns)\n",
    "time_series_with_datetime_index.head(10)"
   ],
   "metadata": {
    "collapsed": false,
    "ExecuteTime": {
     "end_time": "2023-05-25T11:36:08.643145Z",
     "start_time": "2023-05-25T11:36:04.959155Z"
    }
   }
  },
  {
   "cell_type": "code",
   "execution_count": 45,
   "outputs": [],
   "source": [
    "time_series_with_datetime_index.to_csv(\"Consulting/Lyon_traffic_iris.csv\", index_label='datetime')"
   ],
   "metadata": {
    "collapsed": false,
    "ExecuteTime": {
     "end_time": "2023-05-25T13:53:37.274313Z",
     "start_time": "2023-05-25T13:53:34.281147Z"
    }
   }
  },
  {
   "cell_type": "code",
   "execution_count": 48,
   "outputs": [
    {
     "data": {
      "text/plain": "              datetime  11050000  12380000  12480000  12490101  12490103   \n0  2019-03-16 00:00:00  299627.0  262897.0  146285.0  194888.0  286186.0  \\\n1  2019-03-16 00:15:00  302568.0  294696.0  170839.0  194158.0  332667.0   \n2  2019-03-16 00:30:00  632095.0  339727.0  210722.0  193170.0  403893.0   \n3  2019-03-16 00:45:00  306368.0  223627.0  210193.0  158586.0  327552.0   \n4  2019-03-16 01:00:00  220132.0  203480.0  175046.0  149113.0  184755.0   \n\n    12750000  12760000  13220000  13760000  ...  693890303   693890401   \n0  1076542.0   11351.0   65080.0  106307.0  ...  6412514.0  20671380.0  \\\n1  1008768.0   19198.0   71788.0   99161.0  ...  7150881.0  20385820.0   \n2   945164.0   16615.0   83191.0   90080.0  ...  6606154.0  19349253.0   \n3   813457.0   14068.0   39240.0   78584.0  ...  5093367.0  17863549.0   \n4   875856.0   11252.0   31901.0   69631.0  ...  6113946.0  23949874.0   \n\n    693890402   693890403   693890501   693890502  693890604  693890605   \n0  26981890.0  12247350.0   7667614.0  13319968.0  3554865.0  4724878.0  \\\n1  29876853.0  12326986.0   7684855.0  13278141.0  3522776.0  4779325.0   \n2  29404898.0  11183489.0   7524622.0  12805314.0  3566642.0  4625816.0   \n3  21068697.0   9852309.0   9078735.0  12019984.0  2225675.0  3170158.0   \n4  19329793.0  16059427.0  11015903.0  16420533.0  4267039.0  4483452.0   \n\n   693890606  693890607  \n0  8205376.0  2337918.0  \n1  8876240.0  2355854.0  \n2  8128773.0  2353098.0  \n3  6549554.0  1602625.0  \n4  8462154.0  2877920.0  \n\n[5 rows x 557 columns]",
      "text/html": "<div>\n<style scoped>\n    .dataframe tbody tr th:only-of-type {\n        vertical-align: middle;\n    }\n\n    .dataframe tbody tr th {\n        vertical-align: top;\n    }\n\n    .dataframe thead th {\n        text-align: right;\n    }\n</style>\n<table border=\"1\" class=\"dataframe\">\n  <thead>\n    <tr style=\"text-align: right;\">\n      <th></th>\n      <th>datetime</th>\n      <th>11050000</th>\n      <th>12380000</th>\n      <th>12480000</th>\n      <th>12490101</th>\n      <th>12490103</th>\n      <th>12750000</th>\n      <th>12760000</th>\n      <th>13220000</th>\n      <th>13760000</th>\n      <th>...</th>\n      <th>693890303</th>\n      <th>693890401</th>\n      <th>693890402</th>\n      <th>693890403</th>\n      <th>693890501</th>\n      <th>693890502</th>\n      <th>693890604</th>\n      <th>693890605</th>\n      <th>693890606</th>\n      <th>693890607</th>\n    </tr>\n  </thead>\n  <tbody>\n    <tr>\n      <th>0</th>\n      <td>2019-03-16 00:00:00</td>\n      <td>299627.0</td>\n      <td>262897.0</td>\n      <td>146285.0</td>\n      <td>194888.0</td>\n      <td>286186.0</td>\n      <td>1076542.0</td>\n      <td>11351.0</td>\n      <td>65080.0</td>\n      <td>106307.0</td>\n      <td>...</td>\n      <td>6412514.0</td>\n      <td>20671380.0</td>\n      <td>26981890.0</td>\n      <td>12247350.0</td>\n      <td>7667614.0</td>\n      <td>13319968.0</td>\n      <td>3554865.0</td>\n      <td>4724878.0</td>\n      <td>8205376.0</td>\n      <td>2337918.0</td>\n    </tr>\n    <tr>\n      <th>1</th>\n      <td>2019-03-16 00:15:00</td>\n      <td>302568.0</td>\n      <td>294696.0</td>\n      <td>170839.0</td>\n      <td>194158.0</td>\n      <td>332667.0</td>\n      <td>1008768.0</td>\n      <td>19198.0</td>\n      <td>71788.0</td>\n      <td>99161.0</td>\n      <td>...</td>\n      <td>7150881.0</td>\n      <td>20385820.0</td>\n      <td>29876853.0</td>\n      <td>12326986.0</td>\n      <td>7684855.0</td>\n      <td>13278141.0</td>\n      <td>3522776.0</td>\n      <td>4779325.0</td>\n      <td>8876240.0</td>\n      <td>2355854.0</td>\n    </tr>\n    <tr>\n      <th>2</th>\n      <td>2019-03-16 00:30:00</td>\n      <td>632095.0</td>\n      <td>339727.0</td>\n      <td>210722.0</td>\n      <td>193170.0</td>\n      <td>403893.0</td>\n      <td>945164.0</td>\n      <td>16615.0</td>\n      <td>83191.0</td>\n      <td>90080.0</td>\n      <td>...</td>\n      <td>6606154.0</td>\n      <td>19349253.0</td>\n      <td>29404898.0</td>\n      <td>11183489.0</td>\n      <td>7524622.0</td>\n      <td>12805314.0</td>\n      <td>3566642.0</td>\n      <td>4625816.0</td>\n      <td>8128773.0</td>\n      <td>2353098.0</td>\n    </tr>\n    <tr>\n      <th>3</th>\n      <td>2019-03-16 00:45:00</td>\n      <td>306368.0</td>\n      <td>223627.0</td>\n      <td>210193.0</td>\n      <td>158586.0</td>\n      <td>327552.0</td>\n      <td>813457.0</td>\n      <td>14068.0</td>\n      <td>39240.0</td>\n      <td>78584.0</td>\n      <td>...</td>\n      <td>5093367.0</td>\n      <td>17863549.0</td>\n      <td>21068697.0</td>\n      <td>9852309.0</td>\n      <td>9078735.0</td>\n      <td>12019984.0</td>\n      <td>2225675.0</td>\n      <td>3170158.0</td>\n      <td>6549554.0</td>\n      <td>1602625.0</td>\n    </tr>\n    <tr>\n      <th>4</th>\n      <td>2019-03-16 01:00:00</td>\n      <td>220132.0</td>\n      <td>203480.0</td>\n      <td>175046.0</td>\n      <td>149113.0</td>\n      <td>184755.0</td>\n      <td>875856.0</td>\n      <td>11252.0</td>\n      <td>31901.0</td>\n      <td>69631.0</td>\n      <td>...</td>\n      <td>6113946.0</td>\n      <td>23949874.0</td>\n      <td>19329793.0</td>\n      <td>16059427.0</td>\n      <td>11015903.0</td>\n      <td>16420533.0</td>\n      <td>4267039.0</td>\n      <td>4483452.0</td>\n      <td>8462154.0</td>\n      <td>2877920.0</td>\n    </tr>\n  </tbody>\n</table>\n<p>5 rows × 557 columns</p>\n</div>"
     },
     "execution_count": 48,
     "metadata": {},
     "output_type": "execute_result"
    }
   ],
   "source": [
    "df = pd.read_csv(\"Consulting/Lyon_traffic_iris.csv\")\n",
    "df.head()"
   ],
   "metadata": {
    "collapsed": false,
    "ExecuteTime": {
     "end_time": "2023-05-25T13:54:05.931997Z",
     "start_time": "2023-05-25T13:54:05.295998Z"
    }
   }
  },
  {
   "cell_type": "code",
   "execution_count": 20,
   "outputs": [],
   "source": [
    "columns = time_series_data_.columns[::50]\n",
    "time_series_data = time_series_data_[columns]"
   ],
   "metadata": {
    "collapsed": false,
    "ExecuteTime": {
     "end_time": "2023-05-25T10:13:55.048867Z",
     "start_time": "2023-05-25T10:13:55.045411Z"
    }
   }
  },
  {
   "cell_type": "code",
   "execution_count": 32,
   "outputs": [
    {
     "data": {
      "text/plain": "iris                        11050000    690340602  690960101   691990301   \nday        time                                                            \n2019-03-16 0 days 00:00:00   299627.0  67378934.0  4008222.0  10667374.0  \\\n           0 days 00:15:00   302568.0  68520604.0  3379262.0  10705956.0   \n           0 days 00:30:00   632095.0  74360868.0  3202652.0   5171302.0   \n           0 days 00:45:00   306368.0  63377743.0  4224261.0   4056878.0   \n           0 days 01:00:00   220132.0  70274424.0  4819618.0   3980310.0   \n\niris                         692560603   692661101   692760102   692900301   \nday        time                                                              \n2019-03-16 0 days 00:00:00   6681120.0  12471269.0  17378569.0  37817195.0  \\\n           0 days 00:15:00   7415234.0  11227452.0  19010823.0  37601948.0   \n           0 days 00:30:00  10057636.0  12058524.0  20534978.0  37247850.0   \n           0 days 00:45:00   6498877.0  11732493.0  17949558.0  36574686.0   \n           0 days 01:00:00   5699834.0  11168447.0  16225351.0  31303393.0   \n\niris                         693830104   693850203    693870601   693890501  \nday        time                                                              \n2019-03-16 0 days 00:00:00  22509927.0  10113105.0  101264063.0   7667614.0  \n           0 days 00:15:00  20793562.0  10809869.0   99748926.0   7684855.0  \n           0 days 00:30:00  22717092.0  10605496.0   97944013.0   7524622.0  \n           0 days 00:45:00  18016927.0  13421962.0   84767596.0   9078735.0  \n           0 days 01:00:00  14189193.0  12788014.0   73042784.0  11015903.0  ",
      "text/html": "<div>\n<style scoped>\n    .dataframe tbody tr th:only-of-type {\n        vertical-align: middle;\n    }\n\n    .dataframe tbody tr th {\n        vertical-align: top;\n    }\n\n    .dataframe thead th {\n        text-align: right;\n    }\n</style>\n<table border=\"1\" class=\"dataframe\">\n  <thead>\n    <tr style=\"text-align: right;\">\n      <th></th>\n      <th>iris</th>\n      <th>11050000</th>\n      <th>690340602</th>\n      <th>690960101</th>\n      <th>691990301</th>\n      <th>692560603</th>\n      <th>692661101</th>\n      <th>692760102</th>\n      <th>692900301</th>\n      <th>693830104</th>\n      <th>693850203</th>\n      <th>693870601</th>\n      <th>693890501</th>\n    </tr>\n    <tr>\n      <th>day</th>\n      <th>time</th>\n      <th></th>\n      <th></th>\n      <th></th>\n      <th></th>\n      <th></th>\n      <th></th>\n      <th></th>\n      <th></th>\n      <th></th>\n      <th></th>\n      <th></th>\n      <th></th>\n    </tr>\n  </thead>\n  <tbody>\n    <tr>\n      <th rowspan=\"5\" valign=\"top\">2019-03-16</th>\n      <th>0 days 00:00:00</th>\n      <td>299627.0</td>\n      <td>67378934.0</td>\n      <td>4008222.0</td>\n      <td>10667374.0</td>\n      <td>6681120.0</td>\n      <td>12471269.0</td>\n      <td>17378569.0</td>\n      <td>37817195.0</td>\n      <td>22509927.0</td>\n      <td>10113105.0</td>\n      <td>101264063.0</td>\n      <td>7667614.0</td>\n    </tr>\n    <tr>\n      <th>0 days 00:15:00</th>\n      <td>302568.0</td>\n      <td>68520604.0</td>\n      <td>3379262.0</td>\n      <td>10705956.0</td>\n      <td>7415234.0</td>\n      <td>11227452.0</td>\n      <td>19010823.0</td>\n      <td>37601948.0</td>\n      <td>20793562.0</td>\n      <td>10809869.0</td>\n      <td>99748926.0</td>\n      <td>7684855.0</td>\n    </tr>\n    <tr>\n      <th>0 days 00:30:00</th>\n      <td>632095.0</td>\n      <td>74360868.0</td>\n      <td>3202652.0</td>\n      <td>5171302.0</td>\n      <td>10057636.0</td>\n      <td>12058524.0</td>\n      <td>20534978.0</td>\n      <td>37247850.0</td>\n      <td>22717092.0</td>\n      <td>10605496.0</td>\n      <td>97944013.0</td>\n      <td>7524622.0</td>\n    </tr>\n    <tr>\n      <th>0 days 00:45:00</th>\n      <td>306368.0</td>\n      <td>63377743.0</td>\n      <td>4224261.0</td>\n      <td>4056878.0</td>\n      <td>6498877.0</td>\n      <td>11732493.0</td>\n      <td>17949558.0</td>\n      <td>36574686.0</td>\n      <td>18016927.0</td>\n      <td>13421962.0</td>\n      <td>84767596.0</td>\n      <td>9078735.0</td>\n    </tr>\n    <tr>\n      <th>0 days 01:00:00</th>\n      <td>220132.0</td>\n      <td>70274424.0</td>\n      <td>4819618.0</td>\n      <td>3980310.0</td>\n      <td>5699834.0</td>\n      <td>11168447.0</td>\n      <td>16225351.0</td>\n      <td>31303393.0</td>\n      <td>14189193.0</td>\n      <td>12788014.0</td>\n      <td>73042784.0</td>\n      <td>11015903.0</td>\n    </tr>\n  </tbody>\n</table>\n</div>"
     },
     "execution_count": 32,
     "metadata": {},
     "output_type": "execute_result"
    }
   ],
   "source": [
    "time_series_data.head()"
   ],
   "metadata": {
    "collapsed": false,
    "ExecuteTime": {
     "end_time": "2023-05-25T11:33:33.882775Z",
     "start_time": "2023-05-25T11:33:33.840189Z"
    }
   }
  },
  {
   "cell_type": "code",
   "execution_count": 23,
   "outputs": [
    {
     "name": "stderr",
     "output_type": "stream",
     "text": [
      "[Parallel(n_jobs=-1)]: Using backend LokyBackend with 12 concurrent workers.\n",
      "[Parallel(n_jobs=-1)]: Done   2 out of  12 | elapsed:  1.4min remaining:  7.2min\n",
      "[Parallel(n_jobs=-1)]: Done  12 out of  12 | elapsed:  1.4min finished\n"
     ]
    }
   ],
   "source": [
    "decomposer = Decomposer(time_series_data=time_series_data)\n",
    "decomposed_ts = decomposer.decompose()"
   ],
   "metadata": {
    "collapsed": false,
    "ExecuteTime": {
     "end_time": "2023-05-25T10:16:12.120351Z",
     "start_time": "2023-05-25T10:14:45.820716Z"
    }
   }
  },
  {
   "cell_type": "code",
   "execution_count": 44,
   "outputs": [],
   "source": [
    "ts = decomposed_ts[690340602]"
   ],
   "metadata": {
    "collapsed": false,
    "ExecuteTime": {
     "end_time": "2023-05-25T13:49:31.481835Z",
     "start_time": "2023-05-25T13:49:31.468981Z"
    }
   }
  },
  {
   "cell_type": "code",
   "execution_count": null,
   "outputs": [],
   "source": [],
   "metadata": {
    "collapsed": false
   }
  }
 ],
 "metadata": {
  "kernelspec": {
   "display_name": "netmob_env",
   "language": "python",
   "name": "python3"
  },
  "language_info": {
   "codemirror_mode": {
    "name": "ipython",
    "version": 3
   },
   "file_extension": ".py",
   "mimetype": "text/x-python",
   "name": "python",
   "nbconvert_exporter": "python",
   "pygments_lexer": "ipython3",
   "version": "3.10.4"
  },
  "vscode": {
   "interpreter": {
    "hash": "12446bc72b2d39f7c5ae547dd2a2f3fa5f964107a3a30e469371d9d3694576e5"
   }
  }
 },
 "nbformat": 4,
 "nbformat_minor": 0
}
