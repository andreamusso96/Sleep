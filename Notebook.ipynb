{
 "cells": [
  {
   "cell_type": "code",
   "execution_count": 4,
   "metadata": {
    "collapsed": true,
    "ExecuteTime": {
     "end_time": "2023-05-23T15:55:32.256488Z",
     "start_time": "2023-05-23T15:55:32.223126Z"
    }
   },
   "outputs": [],
   "source": [
    "from IrisAggregation.IrisTileAggregation import IrisTileAggregationAPI"
   ]
  },
  {
   "cell_type": "code",
   "execution_count": 2,
   "metadata": {
    "collapsed": false,
    "ExecuteTime": {
     "end_time": "2023-05-23T15:54:49.498078Z",
     "start_time": "2023-05-23T15:54:49.455634Z"
    }
   },
   "outputs": [],
   "source": [
    "%load_ext autoreload\n",
    "%autoreload 2"
   ]
  },
  {
   "cell_type": "code",
   "execution_count": 31,
   "outputs": [],
   "source": [
    "IrisTileAggregationAPI.aggregate_traffic_data()"
   ],
   "metadata": {
    "collapsed": false,
    "ExecuteTime": {
     "end_time": "2023-05-23T16:07:22.982236Z",
     "start_time": "2023-05-23T16:07:19.801359Z"
    }
   }
  }
 ],
 "metadata": {
  "kernelspec": {
   "display_name": "Python 3",
   "language": "python",
   "name": "python3"
  },
  "language_info": {
   "codemirror_mode": {
    "name": "ipython",
    "version": 3
   },
   "file_extension": ".py",
   "mimetype": "text/x-python",
   "name": "python",
   "nbconvert_exporter": "python",
   "pygments_lexer": "ipython3",
   "version": "3.9.9 (main, Dec  8 2021, 15:03:07) \n[GCC 8.2.0]"
  },
  "vscode": {
   "interpreter": {
    "hash": "b45737afbba853d2106f30fe8b477196c987a4d8bcb00cfce986c8a308e11606"
   }
  }
 },
 "nbformat": 4,
 "nbformat_minor": 0
}
