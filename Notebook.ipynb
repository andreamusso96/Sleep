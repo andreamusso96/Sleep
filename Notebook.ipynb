{
 "cells": [
  {
   "cell_type": "code",
   "execution_count": 124,
   "outputs": [],
   "source": [
    "from datetime import time\n",
    "\n",
    "import pandas as pd\n",
    "import numpy as np\n",
    "import plotly.graph_objects as go\n",
    "import plotly.express as px\n",
    "from jupyter_dash import JupyterDash\n",
    "from dash import dcc, html\n",
    "import dash_mantine_components as dmc\n",
    "\n",
    "from Utils import City, AggregationLevel, TrafficType\n",
    "from DataPreprocessing.WeatherData.Data import WeatherData\n",
    "from DataPreprocessing.TrafficData.Data import CityTrafficData\n",
    "from DataPreprocessing.GeoData.GeoData import IrisGeoData\n",
    "from ExpectedBedTime.ExpectedBedTimeAPI import ExpectedBedTimeAPI\n",
    "from DataPreprocessing.AdminData.AdminDataComplete import AdminData\n",
    "from ExpectedBedTime.Plots import StartBedTimeRobustness\n",
    "from FeatureSelection.BasicFeatureImportanceCalculator import BasicFeatureImportanceCalculator\n",
    "from FeatureSelection.RegressionConstructor import Regression, FeatureConstructor\n",
    "from DataPreprocessing.GeoData.GeoDataComplete import GeoData, GeoDataType"
   ],
   "metadata": {
    "collapsed": false,
    "ExecuteTime": {
     "end_time": "2023-06-15T13:54:43.581516Z",
     "start_time": "2023-06-15T13:54:43.502742Z"
    }
   }
  },
  {
   "cell_type": "code",
   "execution_count": 5,
   "outputs": [],
   "source": [
    "%load_ext autoreload\n",
    "%autoreload 2"
   ],
   "metadata": {
    "collapsed": false,
    "ExecuteTime": {
     "end_time": "2023-06-15T08:20:37.476472Z",
     "start_time": "2023-06-15T08:20:37.409114Z"
    }
   }
  },
  {
   "cell_type": "code",
   "execution_count": 20,
   "outputs": [],
   "source": [
    "iris_geo_data = IrisGeoData()"
   ],
   "metadata": {
    "collapsed": false,
    "ExecuteTime": {
     "end_time": "2023-06-15T09:03:42.868465Z",
     "start_time": "2023-06-15T09:02:58.587865Z"
    }
   }
  },
  {
   "cell_type": "code",
   "execution_count": 24,
   "outputs": [],
   "source": [
    "admin_data = AdminData()"
   ],
   "metadata": {
    "collapsed": false,
    "ExecuteTime": {
     "end_time": "2023-06-15T10:32:28.825050Z",
     "start_time": "2023-06-15T10:32:20.550450Z"
    }
   }
  },
  {
   "cell_type": "code",
   "execution_count": 76,
   "outputs": [],
   "source": [
    "geo_data = GeoData()\n",
    "geo_data.load(GeoDataType.IRIS)"
   ],
   "metadata": {
    "collapsed": false,
    "ExecuteTime": {
     "end_time": "2023-06-15T11:59:43.439804Z",
     "start_time": "2023-06-15T11:59:00.513738Z"
    }
   }
  },
  {
   "cell_type": "code",
   "execution_count": 13,
   "outputs": [],
   "source": [
    "traffic_data = (CityTrafficData(city=city, aggregation_level=AggregationLevel.IRIS, traffic_type=TrafficType.USERS) for city in City)"
   ],
   "metadata": {
    "collapsed": false,
    "ExecuteTime": {
     "end_time": "2023-06-15T08:49:20.582173Z",
     "start_time": "2023-06-15T08:49:20.366080Z"
    }
   }
  },
  {
   "cell_type": "code",
   "execution_count": 14,
   "outputs": [
    {
     "name": "stderr",
     "output_type": "stream",
     "text": [
      "100%|██████████| 77/77 [00:18<00:00,  4.07it/s]\n",
      "100%|██████████| 77/77 [00:13<00:00,  5.78it/s]\n",
      "100%|██████████| 77/77 [00:13<00:00,  5.58it/s]\n",
      "100%|██████████| 77/77 [00:15<00:00,  4.98it/s]\n",
      "100%|██████████| 77/77 [00:21<00:00,  3.56it/s]\n",
      "100%|██████████| 77/77 [00:21<00:00,  3.58it/s]\n",
      "100%|██████████| 77/77 [00:14<00:00,  5.37it/s]\n",
      "100%|██████████| 77/77 [00:19<00:00,  3.98it/s]\n",
      "100%|██████████| 77/77 [00:14<00:00,  5.48it/s]\n",
      "100%|██████████| 77/77 [00:14<00:00,  5.18it/s]\n",
      "100%|██████████| 77/77 [00:13<00:00,  5.51it/s]\n",
      "100%|██████████| 77/77 [00:15<00:00,  4.84it/s]\n",
      "100%|██████████| 77/77 [00:15<00:00,  5.07it/s]\n",
      "100%|██████████| 77/77 [00:14<00:00,  5.39it/s]\n",
      "100%|██████████| 77/77 [01:04<00:00,  1.19it/s]\n",
      "100%|██████████| 77/77 [00:16<00:00,  4.68it/s]\n",
      "100%|██████████| 77/77 [00:14<00:00,  5.23it/s]\n",
      "100%|██████████| 77/77 [00:14<00:00,  5.26it/s]\n",
      "100%|██████████| 77/77 [00:16<00:00,  4.78it/s]\n",
      "100%|██████████| 77/77 [00:14<00:00,  5.40it/s]\n"
     ]
    }
   ],
   "source": [
    "expected_bed_time = ExpectedBedTimeAPI.compute_expected_bed_time(traffic_data=traffic_data)"
   ],
   "metadata": {
    "collapsed": false,
    "ExecuteTime": {
     "end_time": "2023-06-15T08:58:23.778208Z",
     "start_time": "2023-06-15T08:50:16.221076Z"
    }
   }
  },
  {
   "cell_type": "code",
   "execution_count": 197,
   "outputs": [],
   "source": [
    "expected_bed_time.geo_plot(iris_geo_data=iris_geo_data)"
   ],
   "metadata": {
    "collapsed": false,
    "ExecuteTime": {
     "end_time": "2023-06-15T14:37:22.139421Z",
     "start_time": "2023-06-15T14:37:09.930620Z"
    }
   }
  },
  {
   "cell_type": "code",
   "execution_count": 142,
   "outputs": [],
   "source": [
    "feature_constructor = FeatureConstructor(admin_data=admin_data, geo_data=geo_data)\n",
    "city_density = np.log(feature_constructor.city_density())\n",
    "density = feature_constructor.density()"
   ],
   "metadata": {
    "collapsed": false,
    "ExecuteTime": {
     "end_time": "2023-06-15T14:00:54.089937Z",
     "start_time": "2023-06-15T14:00:39.399215Z"
    }
   }
  },
  {
   "cell_type": "code",
   "execution_count": 143,
   "outputs": [],
   "source": [
    "avg_bed_time = expected_bed_time.data['mean_float'].to_frame(name='expected_bed_time')"
   ],
   "metadata": {
    "collapsed": false,
    "ExecuteTime": {
     "end_time": "2023-06-15T14:00:54.185242Z",
     "start_time": "2023-06-15T14:00:54.093677Z"
    }
   }
  },
  {
   "cell_type": "code",
   "execution_count": 144,
   "outputs": [],
   "source": [
    "matched = pd.merge(avg_bed_time, density, left_index=True, right_index=True, how='inner')"
   ],
   "metadata": {
    "collapsed": false,
    "ExecuteTime": {
     "end_time": "2023-06-15T14:00:54.290789Z",
     "start_time": "2023-06-15T14:00:54.185813Z"
    }
   }
  },
  {
   "cell_type": "code",
   "execution_count": 145,
   "outputs": [],
   "source": [
    "features_and_labels = np.log(matched)"
   ],
   "metadata": {
    "collapsed": false,
    "ExecuteTime": {
     "end_time": "2023-06-15T14:00:54.395921Z",
     "start_time": "2023-06-15T14:00:54.293675Z"
    }
   }
  },
  {
   "cell_type": "code",
   "execution_count": 146,
   "outputs": [],
   "source": [
    "reg = Regression(features=features_and_labels['density'].to_frame(), labels=features_and_labels['expected_bed_time'].to_frame())\n",
    "reg.plot(x_axis='density', color=city_density)"
   ],
   "metadata": {
    "collapsed": false,
    "ExecuteTime": {
     "end_time": "2023-06-15T14:00:54.851089Z",
     "start_time": "2023-06-15T14:00:54.396118Z"
    }
   }
  },
  {
   "cell_type": "code",
   "execution_count": 193,
   "outputs": [],
   "source": [
    "city_density = np.log(feature_constructor.city_density())"
   ],
   "metadata": {
    "collapsed": false,
    "ExecuteTime": {
     "end_time": "2023-06-15T14:19:44.097519Z",
     "start_time": "2023-06-15T14:19:35.868133Z"
    }
   }
  },
  {
   "cell_type": "code",
   "execution_count": 180,
   "outputs": [],
   "source": [
    "city_density.drop('Paris', inplace=True)"
   ],
   "metadata": {
    "collapsed": false,
    "ExecuteTime": {
     "end_time": "2023-06-15T14:18:48.641410Z",
     "start_time": "2023-06-15T14:18:48.539377Z"
    }
   }
  },
  {
   "cell_type": "code",
   "execution_count": 194,
   "outputs": [],
   "source": [
    "expected_sleep_city = expected_bed_time.assign_iris_to_quantile(n_quantiles=8)\n",
    "expected_sleep_city['quantile'] = expected_sleep_city['quantile'].astype('int')\n",
    "expected_sleep_city = expected_sleep_city.merge(geo_data.matching.data, left_index=True, right_on='iris', how='inner')[['city', 'quantile']]\n",
    "expected_sleep_city = expected_sleep_city.groupby('city').mean()"
   ],
   "metadata": {
    "collapsed": false,
    "ExecuteTime": {
     "end_time": "2023-06-15T14:19:44.496175Z",
     "start_time": "2023-06-15T14:19:44.100428Z"
    }
   }
  },
  {
   "cell_type": "code",
   "execution_count": 191,
   "outputs": [],
   "source": [
    "expected_sleep_city.drop('Paris', inplace=True)"
   ],
   "metadata": {
    "collapsed": false,
    "ExecuteTime": {
     "end_time": "2023-06-15T14:19:21.614359Z",
     "start_time": "2023-06-15T14:19:21.519730Z"
    }
   }
  },
  {
   "cell_type": "code",
   "execution_count": 195,
   "outputs": [
    {
     "name": "stdout",
     "output_type": "stream",
     "text": [
      "[0.46517155]\n"
     ]
    }
   ],
   "source": [
    "reg = Regression(features=city_density, labels=expected_sleep_city)\n",
    "reg.plot(x_axis='density')"
   ],
   "metadata": {
    "collapsed": false,
    "ExecuteTime": {
     "end_time": "2023-06-15T14:19:44.921942Z",
     "start_time": "2023-06-15T14:19:44.498617Z"
    }
   }
  },
  {
   "cell_type": "code",
   "execution_count": 164,
   "outputs": [
    {
     "name": "stdout",
     "output_type": "stream",
     "text": [
      "[0.04724712]\n"
     ]
    }
   ],
   "source": [
    "reg = Regression(features=features_and_labels['density'].to_frame(), labels=features_and_labels['expected_bed_time'].to_frame())\n",
    "reg.plot(x_axis='density', color=city_density)"
   ],
   "metadata": {
    "collapsed": false,
    "ExecuteTime": {
     "end_time": "2023-06-15T14:13:46.227838Z",
     "start_time": "2023-06-15T14:13:44.796380Z"
    }
   }
  },
  {
   "cell_type": "code",
   "execution_count": null,
   "outputs": [],
   "source": [],
   "metadata": {
    "collapsed": false
   }
  },
  {
   "cell_type": "code",
   "execution_count": 23,
   "outputs": [],
   "source": [
    "expected_bed_time.geo_plot(iris_geo_data=iris_geo_data, n_quantiles=8)"
   ],
   "metadata": {
    "collapsed": false,
    "ExecuteTime": {
     "end_time": "2023-06-15T09:09:17.053302Z",
     "start_time": "2023-06-15T09:09:06.718936Z"
    }
   }
  },
  {
   "cell_type": "code",
   "execution_count": 71,
   "outputs": [
    {
     "name": "stdout",
     "output_type": "stream",
     "text": [
      "[0.04724712]\n"
     ]
    }
   ],
   "source": [
    "regression_constructor = RegressionConstructor(admin_data=admin_data, expected_bed_time=expected_bed_time, iris_geo_data=iris_geo_data)\n",
    "regression_constructor.plot_regression(feature_names=['density'], x_axis='density')"
   ],
   "metadata": {
    "collapsed": false,
    "ExecuteTime": {
     "end_time": "2023-06-15T11:34:42.864277Z",
     "start_time": "2023-06-15T11:34:39.719780Z"
    }
   }
  },
  {
   "cell_type": "code",
   "execution_count": 26,
   "outputs": [
    {
     "data": {
      "text/plain": "             f_statistic       p_values  mutual_information  regression   \nP19_POP         5.730877   6.525308e-04            0.000000   -0.011194  \\\nP19_POP75P    208.524044  2.120320e-128            0.056746   -0.319038   \nP19_POP6074   120.930532   5.948143e-76            0.026569   -0.239795   \nP19_POP4559     7.580474   4.666718e-05            0.003278   -0.057413   \nP19_POP3044    28.186842   4.355023e-18            0.005872    0.106339   \n...                  ...            ...                 ...         ...   \nEQUIP_E1      415.414152  2.821740e-244            0.113460    0.414156   \nEQUIP_F1       65.142800   2.043858e-41            0.024995   -0.182989   \nEQUIP_F2       21.229888   1.133050e-13            0.000000   -0.105170   \nEQUIP_F3        3.413553   1.669016e-02            0.010111   -0.013973   \nEQUIP_G1       52.357719   2.219084e-33            0.029311    0.158549   \n\n                                         description  \nP19_POP                                   Population  \nP19_POP75P     Nombre de personnes de 75 ans ou plus  \nP19_POP6074       Nombre de personnes de 60 à 74 ans  \nP19_POP4559       Nombre de personnes de 45 à 59 ans  \nP19_POP3044       Nombre de personnes de 30 à 44 ans  \n...                                              ...  \nEQUIP_E1               INFRASTRUCTURES DE TRANSPORTS  \nEQUIP_F1                        ÉQUIPEMENTS SPORTIFS  \nEQUIP_F2                      ÉQUIPEMENTS DE LOISIRS  \nEQUIP_F3     ÉQUIPEMENTS CULTURELS ET SOCIOCULTURELS  \nEQUIP_G1                                    TOURISME  \n\n[84 rows x 5 columns]",
      "text/html": "<div>\n<style scoped>\n    .dataframe tbody tr th:only-of-type {\n        vertical-align: middle;\n    }\n\n    .dataframe tbody tr th {\n        vertical-align: top;\n    }\n\n    .dataframe thead th {\n        text-align: right;\n    }\n</style>\n<table border=\"1\" class=\"dataframe\">\n  <thead>\n    <tr style=\"text-align: right;\">\n      <th></th>\n      <th>f_statistic</th>\n      <th>p_values</th>\n      <th>mutual_information</th>\n      <th>regression</th>\n      <th>description</th>\n    </tr>\n  </thead>\n  <tbody>\n    <tr>\n      <th>P19_POP</th>\n      <td>5.730877</td>\n      <td>6.525308e-04</td>\n      <td>0.000000</td>\n      <td>-0.011194</td>\n      <td>Population</td>\n    </tr>\n    <tr>\n      <th>P19_POP75P</th>\n      <td>208.524044</td>\n      <td>2.120320e-128</td>\n      <td>0.056746</td>\n      <td>-0.319038</td>\n      <td>Nombre de personnes de 75 ans ou plus</td>\n    </tr>\n    <tr>\n      <th>P19_POP6074</th>\n      <td>120.930532</td>\n      <td>5.948143e-76</td>\n      <td>0.026569</td>\n      <td>-0.239795</td>\n      <td>Nombre de personnes de 60 à 74 ans</td>\n    </tr>\n    <tr>\n      <th>P19_POP4559</th>\n      <td>7.580474</td>\n      <td>4.666718e-05</td>\n      <td>0.003278</td>\n      <td>-0.057413</td>\n      <td>Nombre de personnes de 45 à 59 ans</td>\n    </tr>\n    <tr>\n      <th>P19_POP3044</th>\n      <td>28.186842</td>\n      <td>4.355023e-18</td>\n      <td>0.005872</td>\n      <td>0.106339</td>\n      <td>Nombre de personnes de 30 à 44 ans</td>\n    </tr>\n    <tr>\n      <th>...</th>\n      <td>...</td>\n      <td>...</td>\n      <td>...</td>\n      <td>...</td>\n      <td>...</td>\n    </tr>\n    <tr>\n      <th>EQUIP_E1</th>\n      <td>415.414152</td>\n      <td>2.821740e-244</td>\n      <td>0.113460</td>\n      <td>0.414156</td>\n      <td>INFRASTRUCTURES DE TRANSPORTS</td>\n    </tr>\n    <tr>\n      <th>EQUIP_F1</th>\n      <td>65.142800</td>\n      <td>2.043858e-41</td>\n      <td>0.024995</td>\n      <td>-0.182989</td>\n      <td>ÉQUIPEMENTS SPORTIFS</td>\n    </tr>\n    <tr>\n      <th>EQUIP_F2</th>\n      <td>21.229888</td>\n      <td>1.133050e-13</td>\n      <td>0.000000</td>\n      <td>-0.105170</td>\n      <td>ÉQUIPEMENTS DE LOISIRS</td>\n    </tr>\n    <tr>\n      <th>EQUIP_F3</th>\n      <td>3.413553</td>\n      <td>1.669016e-02</td>\n      <td>0.010111</td>\n      <td>-0.013973</td>\n      <td>ÉQUIPEMENTS CULTURELS ET SOCIOCULTURELS</td>\n    </tr>\n    <tr>\n      <th>EQUIP_G1</th>\n      <td>52.357719</td>\n      <td>2.219084e-33</td>\n      <td>0.029311</td>\n      <td>0.158549</td>\n      <td>TOURISME</td>\n    </tr>\n  </tbody>\n</table>\n<p>84 rows × 5 columns</p>\n</div>"
     },
     "execution_count": 26,
     "metadata": {},
     "output_type": "execute_result"
    }
   ],
   "source": [
    "basic_feature_importance_calculator = BasicFeatureImportanceCalculator(admin_data=admin_data, expected_bed_time=expected_bed_time)\n",
    "basic_feature_importance_calculator.compute_feature_importance()"
   ],
   "metadata": {
    "collapsed": false
   }
  },
  {
   "cell_type": "code",
   "execution_count": null,
   "outputs": [],
   "source": [
    "nantes_traffic_data = CityTrafficData(city=City.LYON, aggregation_level=AggregationLevel.IRIS, traffic_type=TrafficType.USERS)"
   ],
   "metadata": {
    "collapsed": false
   }
  },
  {
   "cell_type": "code",
   "execution_count": 10,
   "outputs": [],
   "source": [
    "expected_bed_time_lyon = ExpectedBedTimeAPI.compute_expected_bed_time(traffic_data=lyon_traffic_data)"
   ],
   "metadata": {
    "collapsed": false,
    "ExecuteTime": {
     "end_time": "2023-06-15T08:32:45.895159Z",
     "start_time": "2023-06-15T08:32:44.302107Z"
    }
   }
  },
  {
   "cell_type": "code",
   "execution_count": 11,
   "outputs": [
    {
     "data": {
      "text/plain": "               mean    median  std  mean_float  median_float  std_float  n_obs\niris                                                                          \n440090101  00:13:00  00:11:00   19    9.884739      9.703744   1.245699     48\n440090102  00:08:00  00:07:00   17    9.507818      9.445226   1.134008     48\n440090103  00:07:00  00:06:00   18    9.462249      9.393729   1.175369     48\n440140000  00:08:00  00:09:00   18    9.551398      9.630426   1.192873     48\n440180101  00:09:00  00:08:00   17    9.596484      9.523875   1.158587     48",
      "text/html": "<div>\n<style scoped>\n    .dataframe tbody tr th:only-of-type {\n        vertical-align: middle;\n    }\n\n    .dataframe tbody tr th {\n        vertical-align: top;\n    }\n\n    .dataframe thead th {\n        text-align: right;\n    }\n</style>\n<table border=\"1\" class=\"dataframe\">\n  <thead>\n    <tr style=\"text-align: right;\">\n      <th></th>\n      <th>mean</th>\n      <th>median</th>\n      <th>std</th>\n      <th>mean_float</th>\n      <th>median_float</th>\n      <th>std_float</th>\n      <th>n_obs</th>\n    </tr>\n    <tr>\n      <th>iris</th>\n      <th></th>\n      <th></th>\n      <th></th>\n      <th></th>\n      <th></th>\n      <th></th>\n      <th></th>\n    </tr>\n  </thead>\n  <tbody>\n    <tr>\n      <th>440090101</th>\n      <td>00:13:00</td>\n      <td>00:11:00</td>\n      <td>19</td>\n      <td>9.884739</td>\n      <td>9.703744</td>\n      <td>1.245699</td>\n      <td>48</td>\n    </tr>\n    <tr>\n      <th>440090102</th>\n      <td>00:08:00</td>\n      <td>00:07:00</td>\n      <td>17</td>\n      <td>9.507818</td>\n      <td>9.445226</td>\n      <td>1.134008</td>\n      <td>48</td>\n    </tr>\n    <tr>\n      <th>440090103</th>\n      <td>00:07:00</td>\n      <td>00:06:00</td>\n      <td>18</td>\n      <td>9.462249</td>\n      <td>9.393729</td>\n      <td>1.175369</td>\n      <td>48</td>\n    </tr>\n    <tr>\n      <th>440140000</th>\n      <td>00:08:00</td>\n      <td>00:09:00</td>\n      <td>18</td>\n      <td>9.551398</td>\n      <td>9.630426</td>\n      <td>1.192873</td>\n      <td>48</td>\n    </tr>\n    <tr>\n      <th>440180101</th>\n      <td>00:09:00</td>\n      <td>00:08:00</td>\n      <td>17</td>\n      <td>9.596484</td>\n      <td>9.523875</td>\n      <td>1.158587</td>\n      <td>48</td>\n    </tr>\n  </tbody>\n</table>\n</div>"
     },
     "execution_count": 11,
     "metadata": {},
     "output_type": "execute_result"
    }
   ],
   "source": [
    "expected_bed_time_lyon.data.head()"
   ],
   "metadata": {
    "collapsed": false,
    "ExecuteTime": {
     "end_time": "2023-06-15T08:32:49.555132Z",
     "start_time": "2023-06-15T08:32:49.468001Z"
    }
   }
  },
  {
   "cell_type": "code",
   "execution_count": 22,
   "outputs": [],
   "source": [
    "expected_bed_time_lyon.geo_plot(iris_geo_data=iris_geo_data, n_quantiles=8)\n",
    "expected_bed_time_lyon.plot()"
   ],
   "metadata": {
    "collapsed": false,
    "ExecuteTime": {
     "end_time": "2023-06-15T09:08:53.990993Z",
     "start_time": "2023-06-15T09:08:52.608702Z"
    }
   }
  },
  {
   "cell_type": "code",
   "execution_count": 53,
   "outputs": [],
   "source": [
    "feature_selector = BasicFeatureImportanceCalculator(admin_data=admin_data, expected_bed_time=expected_bed_time_lyon)"
   ],
   "metadata": {
    "collapsed": false,
    "ExecuteTime": {
     "end_time": "2023-06-14T16:44:50.653759Z",
     "start_time": "2023-06-14T16:44:50.574548Z"
    }
   }
  },
  {
   "cell_type": "code",
   "execution_count": 55,
   "outputs": [
    {
     "data": {
      "text/plain": "             f_statistic      p_values  mutual_information  regression   \nP19_POP         2.134476  9.528897e-02            0.016831    0.110254  \\\nP19_POP75P      4.870993  2.436819e-03            0.042771   -0.179381   \nP19_POP6074    10.647999  9.399752e-07            0.030756   -0.273457   \nP19_POP4559     2.513112  5.808348e-02            0.000000   -0.130662   \nP19_POP3044     4.032395  7.606094e-03            0.002939    0.164598   \n...                  ...           ...                 ...         ...   \nEQUIP_E1        2.817541  3.883921e-02            0.003198    0.144475   \nEQUIP_F1        4.883737  2.394925e-03            0.000000   -0.154807   \nEQUIP_F2        0.647312  5.850160e-01            0.000000   -0.067559   \nEQUIP_F3        1.211892  3.050321e-01            0.000000   -0.028619   \nEQUIP_G1        4.046673  7.460569e-03            0.028483    0.168599   \n\n                                         description  \nP19_POP                                   Population  \nP19_POP75P     Nombre de personnes de 75 ans ou plus  \nP19_POP6074       Nombre de personnes de 60 à 74 ans  \nP19_POP4559       Nombre de personnes de 45 à 59 ans  \nP19_POP3044       Nombre de personnes de 30 à 44 ans  \n...                                              ...  \nEQUIP_E1               INFRASTRUCTURES DE TRANSPORTS  \nEQUIP_F1                        ÉQUIPEMENTS SPORTIFS  \nEQUIP_F2                      ÉQUIPEMENTS DE LOISIRS  \nEQUIP_F3     ÉQUIPEMENTS CULTURELS ET SOCIOCULTURELS  \nEQUIP_G1                                    TOURISME  \n\n[84 rows x 5 columns]",
      "text/html": "<div>\n<style scoped>\n    .dataframe tbody tr th:only-of-type {\n        vertical-align: middle;\n    }\n\n    .dataframe tbody tr th {\n        vertical-align: top;\n    }\n\n    .dataframe thead th {\n        text-align: right;\n    }\n</style>\n<table border=\"1\" class=\"dataframe\">\n  <thead>\n    <tr style=\"text-align: right;\">\n      <th></th>\n      <th>f_statistic</th>\n      <th>p_values</th>\n      <th>mutual_information</th>\n      <th>regression</th>\n      <th>description</th>\n    </tr>\n  </thead>\n  <tbody>\n    <tr>\n      <th>P19_POP</th>\n      <td>2.134476</td>\n      <td>9.528897e-02</td>\n      <td>0.016831</td>\n      <td>0.110254</td>\n      <td>Population</td>\n    </tr>\n    <tr>\n      <th>P19_POP75P</th>\n      <td>4.870993</td>\n      <td>2.436819e-03</td>\n      <td>0.042771</td>\n      <td>-0.179381</td>\n      <td>Nombre de personnes de 75 ans ou plus</td>\n    </tr>\n    <tr>\n      <th>P19_POP6074</th>\n      <td>10.647999</td>\n      <td>9.399752e-07</td>\n      <td>0.030756</td>\n      <td>-0.273457</td>\n      <td>Nombre de personnes de 60 à 74 ans</td>\n    </tr>\n    <tr>\n      <th>P19_POP4559</th>\n      <td>2.513112</td>\n      <td>5.808348e-02</td>\n      <td>0.000000</td>\n      <td>-0.130662</td>\n      <td>Nombre de personnes de 45 à 59 ans</td>\n    </tr>\n    <tr>\n      <th>P19_POP3044</th>\n      <td>4.032395</td>\n      <td>7.606094e-03</td>\n      <td>0.002939</td>\n      <td>0.164598</td>\n      <td>Nombre de personnes de 30 à 44 ans</td>\n    </tr>\n    <tr>\n      <th>...</th>\n      <td>...</td>\n      <td>...</td>\n      <td>...</td>\n      <td>...</td>\n      <td>...</td>\n    </tr>\n    <tr>\n      <th>EQUIP_E1</th>\n      <td>2.817541</td>\n      <td>3.883921e-02</td>\n      <td>0.003198</td>\n      <td>0.144475</td>\n      <td>INFRASTRUCTURES DE TRANSPORTS</td>\n    </tr>\n    <tr>\n      <th>EQUIP_F1</th>\n      <td>4.883737</td>\n      <td>2.394925e-03</td>\n      <td>0.000000</td>\n      <td>-0.154807</td>\n      <td>ÉQUIPEMENTS SPORTIFS</td>\n    </tr>\n    <tr>\n      <th>EQUIP_F2</th>\n      <td>0.647312</td>\n      <td>5.850160e-01</td>\n      <td>0.000000</td>\n      <td>-0.067559</td>\n      <td>ÉQUIPEMENTS DE LOISIRS</td>\n    </tr>\n    <tr>\n      <th>EQUIP_F3</th>\n      <td>1.211892</td>\n      <td>3.050321e-01</td>\n      <td>0.000000</td>\n      <td>-0.028619</td>\n      <td>ÉQUIPEMENTS CULTURELS ET SOCIOCULTURELS</td>\n    </tr>\n    <tr>\n      <th>EQUIP_G1</th>\n      <td>4.046673</td>\n      <td>7.460569e-03</td>\n      <td>0.028483</td>\n      <td>0.168599</td>\n      <td>TOURISME</td>\n    </tr>\n  </tbody>\n</table>\n<p>84 rows × 5 columns</p>\n</div>"
     },
     "execution_count": 55,
     "metadata": {},
     "output_type": "execute_result"
    }
   ],
   "source": [
    "feature_selector.compute_feature_importance()"
   ],
   "metadata": {
    "collapsed": false
   }
  },
  {
   "cell_type": "code",
   "execution_count": 28,
   "outputs": [
    {
     "data": {
      "text/plain": "             COD_VAR                                       LIB_VAR_LONG\n0        C19_ACT1564         Nombre de personnes actives de 15 à 64 ans\n1    C19_ACT1564_CS1  Nombre d'agriculteurs exploitants actifs de 15...\n2    C19_ACT1564_CS2  Nombre d'artisans, commerçants, chefs d'entrep...\n3    C19_ACT1564_CS3  Nombre de cadres et professions intellectuelle...\n4    C19_ACT1564_CS4  Nombre de professions intermédiaires actifs de...\n..               ...                                                ...\n394     P19_SCOL1517     Nombre de personnes scolarisées de 15 à 17 ans\n395     P19_SCOL1824     Nombre de personnes scolarisées de 18 à 24 ans\n396     P19_SCOL2529     Nombre de personnes scolarisées de 25 à 29 ans\n397      P19_SCOL30P  Nombre de personnes scolarisées de 30 ans ou plus\n398         TYP_IRIS  Type d'IRIS : habitat (H), activité (A), diver...\n\n[399 rows x 2 columns]",
      "text/html": "<div>\n<style scoped>\n    .dataframe tbody tr th:only-of-type {\n        vertical-align: middle;\n    }\n\n    .dataframe tbody tr th {\n        vertical-align: top;\n    }\n\n    .dataframe thead th {\n        text-align: right;\n    }\n</style>\n<table border=\"1\" class=\"dataframe\">\n  <thead>\n    <tr style=\"text-align: right;\">\n      <th></th>\n      <th>COD_VAR</th>\n      <th>LIB_VAR_LONG</th>\n    </tr>\n  </thead>\n  <tbody>\n    <tr>\n      <th>0</th>\n      <td>C19_ACT1564</td>\n      <td>Nombre de personnes actives de 15 à 64 ans</td>\n    </tr>\n    <tr>\n      <th>1</th>\n      <td>C19_ACT1564_CS1</td>\n      <td>Nombre d'agriculteurs exploitants actifs de 15...</td>\n    </tr>\n    <tr>\n      <th>2</th>\n      <td>C19_ACT1564_CS2</td>\n      <td>Nombre d'artisans, commerçants, chefs d'entrep...</td>\n    </tr>\n    <tr>\n      <th>3</th>\n      <td>C19_ACT1564_CS3</td>\n      <td>Nombre de cadres et professions intellectuelle...</td>\n    </tr>\n    <tr>\n      <th>4</th>\n      <td>C19_ACT1564_CS4</td>\n      <td>Nombre de professions intermédiaires actifs de...</td>\n    </tr>\n    <tr>\n      <th>...</th>\n      <td>...</td>\n      <td>...</td>\n    </tr>\n    <tr>\n      <th>394</th>\n      <td>P19_SCOL1517</td>\n      <td>Nombre de personnes scolarisées de 15 à 17 ans</td>\n    </tr>\n    <tr>\n      <th>395</th>\n      <td>P19_SCOL1824</td>\n      <td>Nombre de personnes scolarisées de 18 à 24 ans</td>\n    </tr>\n    <tr>\n      <th>396</th>\n      <td>P19_SCOL2529</td>\n      <td>Nombre de personnes scolarisées de 25 à 29 ans</td>\n    </tr>\n    <tr>\n      <th>397</th>\n      <td>P19_SCOL30P</td>\n      <td>Nombre de personnes scolarisées de 30 ans ou plus</td>\n    </tr>\n    <tr>\n      <th>398</th>\n      <td>TYP_IRIS</td>\n      <td>Type d'IRIS : habitat (H), activité (A), diver...</td>\n    </tr>\n  </tbody>\n</table>\n<p>399 rows × 2 columns</p>\n</div>"
     },
     "execution_count": 28,
     "metadata": {},
     "output_type": "execute_result"
    }
   ],
   "source": [
    "admin_data.metadata"
   ],
   "metadata": {
    "collapsed": false,
    "ExecuteTime": {
     "end_time": "2023-06-14T15:20:02.715701Z",
     "start_time": "2023-06-14T15:20:02.258683Z"
    }
   }
  },
  {
   "cell_type": "markdown",
   "source": [
    "## Plots for the robustness to change in start_bed_time"
   ],
   "metadata": {
    "collapsed": false
   }
  },
  {
   "cell_type": "code",
   "execution_count": 197,
   "outputs": [],
   "source": [
    "start_bed_times = [time(21), time(21,15), time(21, 30), time(21,45), time(22), time(22,15), time(22,30)]\n",
    "ExpectedBedTimeAPI.plot_start_bed_time_robustness(traffic_data=city_traffic_data, start_bed_times=start_bed_times)"
   ],
   "metadata": {
    "collapsed": false,
    "ExecuteTime": {
     "end_time": "2023-06-14T10:17:32.264717Z",
     "start_time": "2023-06-14T10:17:15.316616Z"
    }
   }
  },
  {
   "cell_type": "code",
   "execution_count": 198,
   "outputs": [],
   "source": [
    "df = pd.DataFrame({'x': [1, 2, 3], 'y_1': [2, 4, 5], 'y_2': [2, 6, 8]})"
   ],
   "metadata": {
    "collapsed": false,
    "ExecuteTime": {
     "end_time": "2023-06-15T15:09:26.396361Z",
     "start_time": "2023-06-15T15:09:25.179418Z"
    }
   }
  },
  {
   "cell_type": "code",
   "execution_count": 199,
   "outputs": [
    {
     "data": {
      "text/plain": "   x  y_1  y_2\n0  1    2    2\n1  2    4    6\n2  3    5    8",
      "text/html": "<div>\n<style scoped>\n    .dataframe tbody tr th:only-of-type {\n        vertical-align: middle;\n    }\n\n    .dataframe tbody tr th {\n        vertical-align: top;\n    }\n\n    .dataframe thead th {\n        text-align: right;\n    }\n</style>\n<table border=\"1\" class=\"dataframe\">\n  <thead>\n    <tr style=\"text-align: right;\">\n      <th></th>\n      <th>x</th>\n      <th>y_1</th>\n      <th>y_2</th>\n    </tr>\n  </thead>\n  <tbody>\n    <tr>\n      <th>0</th>\n      <td>1</td>\n      <td>2</td>\n      <td>2</td>\n    </tr>\n    <tr>\n      <th>1</th>\n      <td>2</td>\n      <td>4</td>\n      <td>6</td>\n    </tr>\n    <tr>\n      <th>2</th>\n      <td>3</td>\n      <td>5</td>\n      <td>8</td>\n    </tr>\n  </tbody>\n</table>\n</div>"
     },
     "execution_count": 199,
     "metadata": {},
     "output_type": "execute_result"
    }
   ],
   "source": [
    "df"
   ],
   "metadata": {
    "collapsed": false,
    "ExecuteTime": {
     "end_time": "2023-06-15T15:09:27.889830Z",
     "start_time": "2023-06-15T15:09:27.761168Z"
    }
   }
  },
  {
   "cell_type": "code",
   "execution_count": 200,
   "outputs": [
    {
     "data": {
      "text/plain": "   x variable  value\n0  1      y_1      2\n1  2      y_1      4\n2  3      y_1      5\n3  1      y_2      2\n4  2      y_2      6\n5  3      y_2      8",
      "text/html": "<div>\n<style scoped>\n    .dataframe tbody tr th:only-of-type {\n        vertical-align: middle;\n    }\n\n    .dataframe tbody tr th {\n        vertical-align: top;\n    }\n\n    .dataframe thead th {\n        text-align: right;\n    }\n</style>\n<table border=\"1\" class=\"dataframe\">\n  <thead>\n    <tr style=\"text-align: right;\">\n      <th></th>\n      <th>x</th>\n      <th>variable</th>\n      <th>value</th>\n    </tr>\n  </thead>\n  <tbody>\n    <tr>\n      <th>0</th>\n      <td>1</td>\n      <td>y_1</td>\n      <td>2</td>\n    </tr>\n    <tr>\n      <th>1</th>\n      <td>2</td>\n      <td>y_1</td>\n      <td>4</td>\n    </tr>\n    <tr>\n      <th>2</th>\n      <td>3</td>\n      <td>y_1</td>\n      <td>5</td>\n    </tr>\n    <tr>\n      <th>3</th>\n      <td>1</td>\n      <td>y_2</td>\n      <td>2</td>\n    </tr>\n    <tr>\n      <th>4</th>\n      <td>2</td>\n      <td>y_2</td>\n      <td>6</td>\n    </tr>\n    <tr>\n      <th>5</th>\n      <td>3</td>\n      <td>y_2</td>\n      <td>8</td>\n    </tr>\n  </tbody>\n</table>\n</div>"
     },
     "execution_count": 200,
     "metadata": {},
     "output_type": "execute_result"
    }
   ],
   "source": [
    "df.melt(id_vars=['x'], value_vars=['y_1', 'y_2'])"
   ],
   "metadata": {
    "collapsed": false,
    "ExecuteTime": {
     "end_time": "2023-06-15T15:09:35.428406Z",
     "start_time": "2023-06-15T15:09:35.324204Z"
    }
   }
  },
  {
   "cell_type": "code",
   "execution_count": 230,
   "outputs": [],
   "source": [
    "from DataPreprocessing.GeoData.GeoData import TileGeoData, PollingStationGeoData, IrisGeoData\n",
    "from Utils import City\n",
    "from DataPreprocessing.GeoData.GeoMatchers.IrisPollingStationMatcher import IrisPollingStationMatcher"
   ],
   "metadata": {
    "collapsed": false,
    "ExecuteTime": {
     "end_time": "2023-06-15T18:55:01.160977Z",
     "start_time": "2023-06-15T18:55:01.088359Z"
    }
   }
  },
  {
   "cell_type": "code",
   "execution_count": 231,
   "outputs": [
    {
     "name": "stdout",
     "output_type": "stream",
     "text": [
      "The autoreload extension is already loaded. To reload it, use:\n",
      "  %reload_ext autoreload\n"
     ]
    }
   ],
   "source": [
    "%load_ext autoreload\n",
    "%autoreload 2"
   ],
   "metadata": {
    "collapsed": false,
    "ExecuteTime": {
     "end_time": "2023-06-15T18:55:14.310556Z",
     "start_time": "2023-06-15T18:55:14.226409Z"
    }
   }
  },
  {
   "cell_type": "code",
   "execution_count": 202,
   "outputs": [],
   "source": [
    "tile_geo_data = [TileGeoData(city=city) for city in City]"
   ],
   "metadata": {
    "collapsed": false,
    "ExecuteTime": {
     "end_time": "2023-06-15T15:57:12.532544Z",
     "start_time": "2023-06-15T15:53:26.341506Z"
    }
   }
  },
  {
   "cell_type": "code",
   "execution_count": 213,
   "outputs": [],
   "source": [
    "iris_geo_data = IrisGeoData()"
   ],
   "metadata": {
    "collapsed": false,
    "ExecuteTime": {
     "end_time": "2023-06-15T16:08:00.704638Z",
     "start_time": "2023-06-15T16:06:49.353182Z"
    }
   }
  },
  {
   "cell_type": "code",
   "execution_count": 253,
   "outputs": [],
   "source": [
    "polling_station_geo_data = PollingStationGeoData()"
   ],
   "metadata": {
    "collapsed": false,
    "ExecuteTime": {
     "end_time": "2023-06-15T19:28:19.716714Z",
     "start_time": "2023-06-15T19:28:08.190442Z"
    }
   }
  },
  {
   "cell_type": "code",
   "execution_count": 272,
   "outputs": [],
   "source": [
    "iris_polling_station_matcher = IrisPollingStationMatcher(iris_geo_data=iris_geo_data, polling_station_geo_data=polling_station_geo_data)"
   ],
   "metadata": {
    "collapsed": false,
    "ExecuteTime": {
     "end_time": "2023-06-15T21:02:36.422679Z",
     "start_time": "2023-06-15T21:02:36.271775Z"
    }
   }
  },
  {
   "cell_type": "code",
   "execution_count": 273,
   "outputs": [],
   "source": [
    "matching =  iris_polling_station_matcher.get_matching()"
   ],
   "metadata": {
    "collapsed": false,
    "ExecuteTime": {
     "end_time": "2023-06-15T21:02:52.145505Z",
     "start_time": "2023-06-15T21:02:37.083899Z"
    }
   }
  },
  {
   "cell_type": "code",
   "execution_count": 275,
   "outputs": [
    {
     "data": {
      "text/plain": "iris\n763511504    44\n441090710    43\n315551806    41\n674821904    41\n441091007    41\n             ..\n395310000     1\n395320000     1\n395330000     1\n395340000     1\n956900000     1\nName: polling_station, Length: 48590, dtype: int64"
     },
     "execution_count": 275,
     "metadata": {},
     "output_type": "execute_result"
    }
   ],
   "source": [
    "matching.groupby('iris')['polling_station'].count().sort_values(ascending=False)"
   ],
   "metadata": {
    "collapsed": false,
    "ExecuteTime": {
     "end_time": "2023-06-15T21:03:15.030151Z",
     "start_time": "2023-06-15T21:03:14.832417Z"
    }
   }
  },
  {
   "cell_type": "code",
   "execution_count": null,
   "outputs": [],
   "source": [],
   "metadata": {
    "collapsed": false
   }
  }
 ],
 "metadata": {
  "kernelspec": {
   "display_name": "netmob_env",
   "language": "python",
   "name": "python3"
  },
  "language_info": {
   "codemirror_mode": {
    "name": "ipython",
    "version": 3
   },
   "file_extension": ".py",
   "mimetype": "text/x-python",
   "name": "python",
   "nbconvert_exporter": "python",
   "pygments_lexer": "ipython3",
   "version": "3.10.4"
  },
  "vscode": {
   "interpreter": {
    "hash": "12446bc72b2d39f7c5ae547dd2a2f3fa5f964107a3a30e469371d9d3694576e5"
   }
  }
 },
 "nbformat": 4,
 "nbformat_minor": 0
}
