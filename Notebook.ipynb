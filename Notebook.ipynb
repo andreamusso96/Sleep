{
 "cells": [
  {
   "cell_type": "code",
   "execution_count": null,
   "outputs": [],
   "source": [
    "import pandas as pd\n",
    "\n",
    "from SleepInference.SleepInferenceAPI import SleepInferenceAPI, SleepDetector\n",
    "from Utils import City, AggregationLevel, TrafficType\n",
    "from DataIO import DataIO\n",
    "from IrisAggregation.GeoData import IrisGeoData, TileGeoData\n",
    "import geopandas as gpd\n",
    "import plotly.graph_objects as go"
   ],
   "metadata": {
    "collapsed": false
   }
  },
  {
   "cell_type": "code",
   "execution_count": null,
   "outputs": [],
   "source": [
    "from"
   ],
   "metadata": {
    "collapsed": false
   }
  },
  {
   "cell_type": "code",
   "execution_count": null,
   "outputs": [],
   "source": [
    "pd.read_csv()"
   ],
   "metadata": {
    "collapsed": false
   }
  }
 ],
 "metadata": {
  "kernelspec": {
   "display_name": "Python 3",
   "language": "python",
   "name": "python3"
  },
  "language_info": {
   "codemirror_mode": {
    "name": "ipython",
    "version": 3
   },
   "file_extension": ".py",
   "mimetype": "text/x-python",
   "name": "python",
   "nbconvert_exporter": "python",
   "pygments_lexer": "ipython3",
   "version": "3.9.9 (main, Dec  8 2021, 15:03:07) \n[GCC 8.2.0]"
  },
  "vscode": {
   "interpreter": {
    "hash": "b45737afbba853d2106f30fe8b477196c987a4d8bcb00cfce986c8a308e11606"
   }
  }
 },
 "nbformat": 4,
 "nbformat_minor": 0
}
