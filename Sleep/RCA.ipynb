{
 "cells": [
  {
   "cell_type": "code",
   "execution_count": 6,
   "id": "initial_id",
   "metadata": {
    "collapsed": true,
    "ExecuteTime": {
     "end_time": "2023-11-04T12:02:02.602608Z",
     "start_time": "2023-11-04T12:02:02.318102Z"
    }
   },
   "outputs": [],
   "source": [
    "import numpy as np\n",
    "import pandas as pd\n",
    "import insee\n",
    "import mobile_traffic as mt\n",
    "import plotly.graph_objects as go\n",
    "from datetime import date, datetime, timedelta, time"
   ]
  },
  {
   "cell_type": "code",
   "execution_count": 7,
   "outputs": [],
   "source": [
    "from Aggregation import aggregate_netmob_tile_level_variables_to_insee_tile_level"
   ],
   "metadata": {
    "collapsed": false,
    "ExecuteTime": {
     "end_time": "2023-11-04T12:02:02.620631Z",
     "start_time": "2023-11-04T12:02:02.602513Z"
    }
   },
   "id": "cc8c134b3f8afa03"
  },
  {
   "cell_type": "code",
   "execution_count": 8,
   "outputs": [
    {
     "name": "stdout",
     "output_type": "stream",
     "text": [
      "The autoreload extension is already loaded. To reload it, use:\n",
      "  %reload_ext autoreload\n"
     ]
    }
   ],
   "source": [
    "%load_ext autoreload\n",
    "%autoreload 2"
   ],
   "metadata": {
    "collapsed": false,
    "ExecuteTime": {
     "end_time": "2023-11-04T12:02:02.719901Z",
     "start_time": "2023-11-04T12:02:02.697Z"
    }
   },
   "id": "d672a37ddb284672"
  },
  {
   "cell_type": "code",
   "execution_count": 9,
   "outputs": [],
   "source": [
    "path = '/Users/andrea/Desktop/PhD/Projects/Current/NetMob/Data/BaseData'"
   ],
   "metadata": {
    "collapsed": false,
    "ExecuteTime": {
     "end_time": "2023-11-04T12:02:02.948170Z",
     "start_time": "2023-11-04T12:02:02.922281Z"
    }
   },
   "id": "34ceeb916b948f5c"
  },
  {
   "cell_type": "code",
   "execution_count": 10,
   "outputs": [],
   "source": [
    "mobile_usage = pd.read_csv(path + '/app_consumption_netmob_tile.csv')\n",
    "mobile_usage.set_index('tile', inplace=True)"
   ],
   "metadata": {
    "collapsed": false,
    "ExecuteTime": {
     "end_time": "2023-11-04T12:02:03.705132Z",
     "start_time": "2023-11-04T12:02:03.387704Z"
    }
   },
   "id": "1983d1953ec5a0b2"
  },
  {
   "cell_type": "code",
   "execution_count": 11,
   "outputs": [],
   "source": [
    "mobile_usage_insee_tile = aggregate_netmob_tile_level_variables_to_insee_tile_level(mobile_usage, city_netmob_tile=mt.City.PARIS, variables=list(mobile_usage.columns), aggregation_fct='weighted_sum')\n",
    "mobile_usage_insee_tile = mobile_usage_insee_tile.set_index('insee_tile')\n",
    "mobile_usage_insee_tile = mobile_usage_insee_tile.loc[mobile_usage_insee_tile['covered_area'] > 0.8].copy()\n",
    "mobile_usage_insee_tile = mobile_usage_insee_tile.drop(columns=['covered_area'])"
   ],
   "metadata": {
    "collapsed": false,
    "ExecuteTime": {
     "end_time": "2023-11-04T12:04:14.762235Z",
     "start_time": "2023-11-04T12:02:03.913556Z"
    }
   },
   "id": "fbdd707c3a9eed36"
  },
  {
   "cell_type": "code",
   "execution_count": 12,
   "outputs": [],
   "source": [
    "mobile_usage_insee_tile.to_csv(path + '/app_consumption_insee_tile.csv')"
   ],
   "metadata": {
    "collapsed": false,
    "ExecuteTime": {
     "end_time": "2023-11-04T12:04:15.356328Z",
     "start_time": "2023-11-04T12:04:14.762084Z"
    }
   },
   "id": "ca985d6afca360b2"
  },
  {
   "cell_type": "code",
   "execution_count": 13,
   "outputs": [],
   "source": [
    "income = insee.tile.get_data(tile=mobile_usage_insee_tile.index.values, var_name=['Ind_snv'], shares=True)\n",
    "income = income.rename(columns={'Ind_snv': 'log2_mean_income'})\n",
    "income['log2_mean_income'] = np.log2(income['log2_mean_income'])"
   ],
   "metadata": {
    "collapsed": false,
    "ExecuteTime": {
     "end_time": "2023-11-04T12:04:17.908767Z",
     "start_time": "2023-11-04T12:04:15.356485Z"
    }
   },
   "id": "672f0cf5fcaa4a23"
  },
  {
   "cell_type": "code",
   "execution_count": 21,
   "outputs": [],
   "source": [
    "q = list(np.round(np.linspace(0.1, 0.9, 9), decimals=2))\n",
    "q = [0.3, 0.7]\n",
    "quantiles = list(np.quantile(income['log2_mean_income'].values, q=q))\n",
    "bins = [-np.inf] + quantiles + [np.inf]\n",
    "labels = ['low', 'medium', 'high'] # [str(a) for a in q] + [str(1)] #['low', 'medium', 'high']\n",
    "categories = pd.cut(income['log2_mean_income'], bins=bins, labels=labels).to_frame('income_category')\n",
    "income = pd.merge(income, categories, left_index=True, right_index=True)"
   ],
   "metadata": {
    "collapsed": false,
    "ExecuteTime": {
     "end_time": "2023-11-04T12:05:46.217936Z",
     "start_time": "2023-11-04T12:05:46.187374Z"
    }
   },
   "id": "bd4d4f085a58746"
  },
  {
   "cell_type": "code",
   "execution_count": 22,
   "outputs": [],
   "source": [
    "mobile_usage_income_category = mobile_usage_insee_tile.merge(categories, left_index=True, right_index=True)\n",
    "mobile_usage_income_category = mobile_usage_income_category.groupby('income_category', observed=False).sum()"
   ],
   "metadata": {
    "collapsed": false,
    "ExecuteTime": {
     "end_time": "2023-11-04T12:05:46.781461Z",
     "start_time": "2023-11-04T12:05:46.754230Z"
    }
   },
   "id": "d1e91611fe487ce2"
  },
  {
   "cell_type": "code",
   "execution_count": 23,
   "outputs": [],
   "source": [
    "def compute_rca(df):\n",
    "    numerator = df.div(df.sum(axis=1), axis=0)\n",
    "    denominator = df.sum(axis=0) / df.sum().sum()\n",
    "    return numerator.div(denominator, axis=1)"
   ],
   "metadata": {
    "collapsed": false,
    "ExecuteTime": {
     "end_time": "2023-11-04T12:05:47.132182Z",
     "start_time": "2023-11-04T12:05:47.110153Z"
    }
   },
   "id": "cae54a92b28c71dd"
  },
  {
   "cell_type": "code",
   "execution_count": 24,
   "outputs": [],
   "source": [
    "mobile_usage_insee_tile_rca = compute_rca(df=mobile_usage_insee_tile)"
   ],
   "metadata": {
    "collapsed": false,
    "ExecuteTime": {
     "end_time": "2023-11-04T12:05:47.748547Z",
     "start_time": "2023-11-04T12:05:47.718422Z"
    }
   },
   "id": "ab7614060854900f"
  },
  {
   "cell_type": "code",
   "execution_count": 25,
   "outputs": [],
   "source": [
    "mobile_usage_income_category_rca = compute_rca(df=mobile_usage_income_category)"
   ],
   "metadata": {
    "collapsed": false,
    "ExecuteTime": {
     "end_time": "2023-11-04T12:05:48.248363Z",
     "start_time": "2023-11-04T12:05:48.225297Z"
    }
   },
   "id": "35a23c375e26f8d2"
  },
  {
   "cell_type": "code",
   "execution_count": 26,
   "outputs": [],
   "source": [
    "mobile_usage_income_category_rca = mobile_usage_income_category_rca.T.sort_values(by='low', ascending=False).T"
   ],
   "metadata": {
    "collapsed": false,
    "ExecuteTime": {
     "end_time": "2023-11-04T12:05:48.881126Z",
     "start_time": "2023-11-04T12:05:48.854721Z"
    }
   },
   "id": "d0000f955f7adf33"
  },
  {
   "cell_type": "code",
   "execution_count": 29,
   "outputs": [],
   "source": [
    "mobile_usage_income_category_rca.loc['low'].to_csv(path + '/app_rca_ranking_by_low_income.csv')"
   ],
   "metadata": {
    "collapsed": false,
    "ExecuteTime": {
     "end_time": "2023-11-04T12:06:51.780754Z",
     "start_time": "2023-11-04T12:06:51.749092Z"
    }
   },
   "id": "5978cb4d2416222d"
  },
  {
   "cell_type": "code",
   "execution_count": 128,
   "outputs": [],
   "source": [
    "fig = go.Figure()\n",
    "heatmap = go.Heatmap(\n",
    "    z=mobile_usage_income_category_rca.values,\n",
    "    x=mobile_usage_income_category_rca.columns,\n",
    "    y=mobile_usage_income_category_rca.index,\n",
    "    zmid=1,\n",
    "    colorscale='RdBu',\n",
    "    colorbar=dict(\n",
    "        title='RCA',\n",
    "        titleside='right'\n",
    "    ))\n",
    "fig.add_trace(heatmap)\n",
    "fig.update_layout(\n",
    "    title='RCA of mobile app usage by income category',\n",
    "    xaxis_title='Mobile app',\n",
    "    yaxis_title='Income category',\n",
    "    template='plotly_white',\n",
    "    width=1800,\n",
    "    height=800,\n",
    "    font=dict(size=18, color='black'))\n",
    "fig.show(renderer='browser')"
   ],
   "metadata": {
    "collapsed": false,
    "ExecuteTime": {
     "end_time": "2023-10-30T20:34:53.975362Z",
     "start_time": "2023-10-30T20:34:53.750706Z"
    }
   },
   "id": "8d453feb1fc6dcc8"
  },
  {
   "cell_type": "code",
   "execution_count": null,
   "outputs": [],
   "source": [],
   "metadata": {
    "collapsed": false
   },
   "id": "f84d5f946f1c9cc8"
  },
  {
   "cell_type": "code",
   "execution_count": 145,
   "outputs": [],
   "source": [
    "mobile_usage_by_time = pd.read_csv(path + '/app_consumption_by_time.csv')\n",
    "mobile_usage_by_time['time'] = pd.to_datetime(mobile_usage_by_time['time'], format='%H:%M:%S').dt.time\n",
    "mobile_usage_by_time.set_index('time', inplace=True)"
   ],
   "metadata": {
    "collapsed": false,
    "ExecuteTime": {
     "end_time": "2023-10-30T20:45:23.120157Z",
     "start_time": "2023-10-30T20:45:23.087689Z"
    }
   },
   "id": "91e35b635f4d5825"
  },
  {
   "cell_type": "code",
   "execution_count": 149,
   "outputs": [],
   "source": [
    "def time_from_reference_time(times, reference_time):\n",
    "    times_ = [_time_from_reference_time(t=t, reference_time=reference_time) for t in times]\n",
    "    return times_\n",
    "    \n",
    "    \n",
    "def _time_from_reference_time(t, reference_time):\n",
    "    auxiliary_date = date(2020, 1, 1)\n",
    "    if t < reference_time:\n",
    "        datetime.combine(auxiliary_date, t)\n",
    "        return datetime.combine(auxiliary_date, t) + timedelta(days=1) - datetime.combine(auxiliary_date, reference_time)\n",
    "    else:\n",
    "        return datetime.combine(auxiliary_date, t) - datetime.combine(auxiliary_date, reference_time)"
   ],
   "metadata": {
    "collapsed": false,
    "ExecuteTime": {
     "end_time": "2023-10-30T20:47:16.072787Z",
     "start_time": "2023-10-30T20:47:16.045257Z"
    }
   },
   "id": "42acac05f525a24e"
  },
  {
   "cell_type": "code",
   "execution_count": 174,
   "outputs": [],
   "source": [
    "mobile_usage_by_time.sort_index(key=lambda x: time_from_reference_time(times=x, reference_time=time(21)), inplace=True)"
   ],
   "metadata": {
    "collapsed": false,
    "ExecuteTime": {
     "end_time": "2023-10-30T21:04:40.308843Z",
     "start_time": "2023-10-30T21:04:40.233900Z"
    }
   },
   "id": "657a19f47769a2af"
  },
  {
   "cell_type": "code",
   "execution_count": 196,
   "outputs": [],
   "source": [
    "time_slot_size = 8\n",
    "mobile_usage_by_time_aggregated = []\n",
    "times = []\n",
    "for i in range(0, len(mobile_usage_by_time.index), time_slot_size):\n",
    "    times.append(mobile_usage_by_time.index[i:i+time_slot_size].values[0])\n",
    "    mobile_usage_by_time_aggregated.append(mobile_usage_by_time.iloc[i:i+time_slot_size].mean())\n",
    "    \n",
    "mobile_usage_by_time_aggregated = pd.concat(mobile_usage_by_time_aggregated, axis=1).T\n",
    "mobile_usage_by_time_aggregated.index = times"
   ],
   "metadata": {
    "collapsed": false,
    "ExecuteTime": {
     "end_time": "2023-10-30T21:08:17.447332Z",
     "start_time": "2023-10-30T21:08:17.416697Z"
    }
   },
   "id": "bbaabe61a7da65c1"
  },
  {
   "cell_type": "code",
   "execution_count": 197,
   "outputs": [],
   "source": [
    "mobile_usage_by_time_rca = compute_rca(df=mobile_usage_by_time_aggregated)"
   ],
   "metadata": {
    "collapsed": false,
    "ExecuteTime": {
     "end_time": "2023-10-30T21:08:17.617461Z",
     "start_time": "2023-10-30T21:08:17.592168Z"
    }
   },
   "id": "b73c9d0381d0dd22"
  },
  {
   "cell_type": "code",
   "execution_count": 198,
   "outputs": [],
   "source": [
    "late_night_time = time(1)\n",
    "avg_deep_night = mobile_usage_by_time_rca.loc[late_night_time:].mean()\n",
    "argsort_deep_night = avg_deep_night.argsort()"
   ],
   "metadata": {
    "collapsed": false,
    "ExecuteTime": {
     "end_time": "2023-10-30T21:08:17.790071Z",
     "start_time": "2023-10-30T21:08:17.764548Z"
    }
   },
   "id": "be2af3ccae35892a"
  },
  {
   "cell_type": "code",
   "execution_count": 199,
   "outputs": [],
   "source": [
    "mobile_usage_by_time_rca = mobile_usage_by_time_rca.T.iloc[argsort_deep_night.values].copy().T"
   ],
   "metadata": {
    "collapsed": false,
    "ExecuteTime": {
     "end_time": "2023-10-30T21:08:17.950723Z",
     "start_time": "2023-10-30T21:08:17.927289Z"
    }
   },
   "id": "914961fb7ce821c4"
  },
  {
   "cell_type": "code",
   "execution_count": 200,
   "outputs": [],
   "source": [
    "fig = go.Figure()\n",
    "heatmap = go.Heatmap(\n",
    "    z=mobile_usage_by_time_rca.values,\n",
    "    x=mobile_usage_by_time_rca.columns,\n",
    "    y=[t.isoformat() for t in mobile_usage_by_time_rca.index],\n",
    "    zmax=1.5,\n",
    "    zmid=1,\n",
    "    zmin=0.5,\n",
    "    colorscale='RdBu',\n",
    "    colorbar=dict(\n",
    "        title='RCA',\n",
    "        titleside='right'\n",
    "    ))\n",
    "fig.add_trace(heatmap)\n",
    "fig.update_layout(\n",
    "    title='RCA of mobile app usage by time',\n",
    "    xaxis_title='Mobile app',\n",
    "    yaxis_title='Time',\n",
    "    template='plotly_white',\n",
    "    width=1800,\n",
    "    height=600,\n",
    "    font=dict(size=18, color='black'))\n",
    "fig.show(renderer='browser')"
   ],
   "metadata": {
    "collapsed": false,
    "ExecuteTime": {
     "end_time": "2023-10-30T21:08:18.282705Z",
     "start_time": "2023-10-30T21:08:18.103947Z"
    }
   },
   "id": "790c00a00ea6514b"
  },
  {
   "cell_type": "code",
   "execution_count": null,
   "outputs": [],
   "source": [],
   "metadata": {
    "collapsed": false
   },
   "id": "1b46b4c6287c06b2"
  }
 ],
 "metadata": {
  "kernelspec": {
   "display_name": "Python 3",
   "language": "python",
   "name": "python3"
  },
  "language_info": {
   "codemirror_mode": {
    "name": "ipython",
    "version": 2
   },
   "file_extension": ".py",
   "mimetype": "text/x-python",
   "name": "python",
   "nbconvert_exporter": "python",
   "pygments_lexer": "ipython2",
   "version": "2.7.6"
  }
 },
 "nbformat": 4,
 "nbformat_minor": 5
}
