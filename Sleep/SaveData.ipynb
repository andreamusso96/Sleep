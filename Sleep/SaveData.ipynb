{
 "cells": [
  {
   "cell_type": "code",
   "execution_count": 1,
   "id": "initial_id",
   "metadata": {
    "collapsed": true,
    "ExecuteTime": {
     "end_time": "2023-10-27T15:06:30.122964Z",
     "start_time": "2023-10-27T15:06:29.762304Z"
    }
   },
   "outputs": [],
   "source": [
    "import pandas as pd\n",
    "import insee\n",
    "import mobile_traffic as mt\n",
    "import noise\n",
    "from Aggregation import aggregate_netmob_tile_level_variables_to_insee_tile_level, aggregate_netmob_tile_level_variables_to_iris_level, aggregate_netmob_tile_level_variables_to_commune_level, aggregate_iris_level_variables_to_commune_level"
   ]
  },
  {
   "cell_type": "code",
   "execution_count": 2,
   "outputs": [],
   "source": [
    "%load_ext autoreload\n",
    "%autoreload 2"
   ],
   "metadata": {
    "collapsed": false,
    "ExecuteTime": {
     "end_time": "2023-10-27T15:06:30.139342Z",
     "start_time": "2023-10-27T15:06:30.123672Z"
    }
   },
   "id": "d39cf27727644544"
  },
  {
   "cell_type": "code",
   "execution_count": 3,
   "outputs": [],
   "source": [
    "# Load data"
   ],
   "metadata": {
    "collapsed": false,
    "ExecuteTime": {
     "end_time": "2023-10-27T15:06:30.150136Z",
     "start_time": "2023-10-27T15:06:30.139115Z"
    }
   },
   "id": "6c55b246e15be168"
  },
  {
   "cell_type": "code",
   "execution_count": 4,
   "outputs": [],
   "source": [
    "path = '/Users/andrea/Desktop/PhD/Projects/Current/NetMob/Data/BaseData'"
   ],
   "metadata": {
    "collapsed": false,
    "ExecuteTime": {
     "end_time": "2023-10-27T15:06:30.681604Z",
     "start_time": "2023-10-27T15:06:30.665034Z"
    }
   },
   "id": "d1d16ed79df8822"
  },
  {
   "cell_type": "code",
   "execution_count": 5,
   "outputs": [],
   "source": [
    "bed_time_index_netmob_tile = pd.read_csv(f'{path}/bed_time_index_netmob_tile.csv').set_index('tile')\n",
    "bed_time_index_netmob_tile_by_app = pd.read_csv(f'{path}/bed_time_index_netmob_tile_by_app.csv').set_index('tile')\n",
    "# app_consumption_netmob_tile = pd.read_csv(f'{path}/app_consumption_netmob_tile.csv').set_index('tile')"
   ],
   "metadata": {
    "collapsed": false,
    "ExecuteTime": {
     "end_time": "2023-10-27T15:06:31.426808Z",
     "start_time": "2023-10-27T15:06:31.157822Z"
    }
   },
   "id": "35edb3a2d528bdcd"
  },
  {
   "cell_type": "code",
   "execution_count": 6,
   "outputs": [],
   "source": [
    "# Aggregate to INSEE tile level"
   ],
   "metadata": {
    "collapsed": false,
    "ExecuteTime": {
     "end_time": "2023-10-27T15:06:32.272413Z",
     "start_time": "2023-10-27T15:06:32.251991Z"
    }
   },
   "id": "1c8c6dc08d5f4c48"
  },
  {
   "cell_type": "code",
   "execution_count": 8,
   "outputs": [],
   "source": [
    "bed_time_index_insee_tile = aggregate_netmob_tile_level_variables_to_insee_tile_level(bed_time_index_netmob_tile, city_netmob_tile=mt.City.PARIS, variables=['bed_time_index'])\n",
    "bed_time_index_insee_tile_by_app = aggregate_netmob_tile_level_variables_to_insee_tile_level(bed_time_index_netmob_tile_by_app, city_netmob_tile=mt.City.PARIS, variables=list(bed_time_index_netmob_tile_by_app.columns))\n",
    "#app_consumption_insee_tile = aggregate_netmob_tile_level_variables_to_insee_tile_level(app_consumption_netmob_tile, city_netmob_tile=mt.City.PARIS, variables=list(app_consumption_netmob_tile.columns))"
   ],
   "metadata": {
    "collapsed": false,
    "ExecuteTime": {
     "end_time": "2023-10-27T15:10:28.638836Z",
     "start_time": "2023-10-27T15:09:04.603619Z"
    }
   },
   "id": "82deada676c33149"
  },
  {
   "cell_type": "code",
   "execution_count": 11,
   "outputs": [],
   "source": [
    "bed_time_index_insee_tile = bed_time_index_insee_tile.loc[bed_time_index_insee_tile['covered_area'] > 0.8].copy()\n",
    "bed_time_index_insee_tile_by_app = bed_time_index_insee_tile_by_app.loc[bed_time_index_insee_tile_by_app['covered_area'] > 0.8].copy()\n",
    "bed_time_index_insee_tile.drop(columns=['covered_area'], inplace=True)\n",
    "bed_time_index_insee_tile_by_app.drop(columns=['covered_area'], inplace=True)"
   ],
   "metadata": {
    "collapsed": false,
    "ExecuteTime": {
     "end_time": "2023-10-27T15:18:01.184364Z",
     "start_time": "2023-10-27T15:18:01.158167Z"
    }
   },
   "id": "f965de44e8f1c87b"
  },
  {
   "cell_type": "code",
   "execution_count": 12,
   "outputs": [],
   "source": [
    "bed_time_index_insee_tile.to_csv(f'{path}/bed_time_index_insee_tile.csv', index=False)\n",
    "bed_time_index_insee_tile_by_app.to_csv(f'{path}/bed_time_index_insee_tile_by_app.csv', index=False)\n",
    "# app_consumption_insee_tile.to_csv(f'{path}/app_consumption_insee_tile.csv')"
   ],
   "metadata": {
    "collapsed": false,
    "ExecuteTime": {
     "end_time": "2023-10-27T15:18:02.790888Z",
     "start_time": "2023-10-27T15:18:02.396627Z"
    }
   },
   "id": "bcbf92109ca671d2"
  },
  {
   "cell_type": "code",
   "execution_count": 13,
   "outputs": [],
   "source": [
    "# Aggregate to IRIS level"
   ],
   "metadata": {
    "collapsed": false,
    "ExecuteTime": {
     "end_time": "2023-10-27T15:18:15.126398Z",
     "start_time": "2023-10-27T15:18:15.100160Z"
    }
   },
   "id": "268309131b30fde2"
  },
  {
   "cell_type": "code",
   "execution_count": 14,
   "outputs": [],
   "source": [
    "bed_time_index_iris = aggregate_netmob_tile_level_variables_to_iris_level(bed_time_index_netmob_tile, city_netmob_tile=mt.City.PARIS, variables=['bed_time_index'])\n",
    "bed_time_index_iris_by_app = aggregate_netmob_tile_level_variables_to_iris_level(bed_time_index_netmob_tile_by_app, city_netmob_tile=mt.City.PARIS, variables=list(bed_time_index_netmob_tile_by_app.columns))\n",
    "# app_consumption_iris = aggregate_netmob_tile_level_variables_to_iris_level(app_consumption_netmob_tile, city_netmob_tile=mt.City.PARIS, variables=list(app_consumption_netmob_tile.columns))"
   ],
   "metadata": {
    "collapsed": false,
    "ExecuteTime": {
     "end_time": "2023-10-27T15:19:00.298342Z",
     "start_time": "2023-10-27T15:18:16.640310Z"
    }
   },
   "id": "95417f12307bf014"
  },
  {
   "cell_type": "code",
   "execution_count": 15,
   "outputs": [],
   "source": [
    "bed_time_index_iris = bed_time_index_iris.loc[bed_time_index_iris['covered_area'] > 0.8].copy()\n",
    "bed_time_index_iris_by_app = bed_time_index_iris_by_app.loc[bed_time_index_iris_by_app['covered_area'] > 0.8].copy()\n",
    "bed_time_index_iris.drop(columns=['covered_area'], inplace=True)\n",
    "bed_time_index_iris_by_app.drop(columns=['covered_area'], inplace=True)"
   ],
   "metadata": {
    "collapsed": false,
    "ExecuteTime": {
     "end_time": "2023-10-27T15:19:40.340268Z",
     "start_time": "2023-10-27T15:19:40.306633Z"
    }
   },
   "id": "fd1ddd134045d7d3"
  },
  {
   "cell_type": "code",
   "execution_count": 16,
   "outputs": [],
   "source": [
    "bed_time_index_iris.to_csv(f'{path}/bed_time_index_iris.csv', index=False)\n",
    "bed_time_index_iris_by_app.to_csv(f'{path}/bed_time_index_iris_by_app.csv', index=False)\n",
    "# app_consumption_iris.to_csv(f'{path}/app_consumption_iris.csv')"
   ],
   "metadata": {
    "collapsed": false,
    "ExecuteTime": {
     "end_time": "2023-10-27T15:19:42.131743Z",
     "start_time": "2023-10-27T15:19:42.038038Z"
    }
   },
   "id": "b2632327765f9cd7"
  },
  {
   "cell_type": "code",
   "execution_count": 17,
   "outputs": [],
   "source": [
    "# Aggregate to INSEE commune level"
   ],
   "metadata": {
    "collapsed": false,
    "ExecuteTime": {
     "end_time": "2023-10-27T15:19:48.158542Z",
     "start_time": "2023-10-27T15:19:48.129182Z"
    }
   },
   "id": "f4441c675d50c892"
  },
  {
   "cell_type": "code",
   "execution_count": 19,
   "outputs": [],
   "source": [
    "bed_time_index_insee_commune = aggregate_netmob_tile_level_variables_to_commune_level(bed_time_index_netmob_tile, city_netmob_tile=mt.City.PARIS, variables=['bed_time_index'])\n",
    "bed_time_index_insee_commune_by_app = aggregate_netmob_tile_level_variables_to_commune_level(bed_time_index_netmob_tile_by_app, city_netmob_tile=mt.City.PARIS, variables=list(bed_time_index_netmob_tile_by_app.columns))"
   ],
   "metadata": {
    "collapsed": false,
    "ExecuteTime": {
     "end_time": "2023-10-27T15:22:59.272623Z",
     "start_time": "2023-10-27T15:22:27.401747Z"
    }
   },
   "id": "922a8e52f6f76fb4"
  },
  {
   "cell_type": "code",
   "execution_count": 20,
   "outputs": [],
   "source": [
    "bed_time_index_insee_commune = bed_time_index_insee_commune.loc[bed_time_index_insee_commune['covered_area'] > 0.8].copy()\n",
    "bed_time_index_insee_commune_by_app = bed_time_index_insee_commune_by_app.loc[bed_time_index_insee_commune_by_app['covered_area'] > 0.8].copy()\n",
    "bed_time_index_insee_commune.drop(columns=['covered_area'], inplace=True)\n",
    "bed_time_index_insee_commune_by_app.drop(columns=['covered_area'], inplace=True)"
   ],
   "metadata": {
    "collapsed": false,
    "ExecuteTime": {
     "end_time": "2023-10-27T15:23:26.179610Z",
     "start_time": "2023-10-27T15:23:26.154736Z"
    }
   },
   "id": "f08ad1805d90cdb8"
  },
  {
   "cell_type": "code",
   "execution_count": 21,
   "outputs": [],
   "source": [
    "bed_time_index_insee_commune.to_csv(f'{path}/bed_time_index_insee_commune.csv', index=False)\n",
    "bed_time_index_insee_commune_by_app.to_csv(f'{path}/bed_time_index_insee_commune_by_app.csv', index=False)"
   ],
   "metadata": {
    "collapsed": false,
    "ExecuteTime": {
     "end_time": "2023-10-27T15:23:27.154664Z",
     "start_time": "2023-10-27T15:23:27.127498Z"
    }
   },
   "id": "d8a5d8094d72c2a4"
  },
  {
   "cell_type": "code",
   "execution_count": 23,
   "outputs": [],
   "source": [
    "# Insee tile level admin data"
   ],
   "metadata": {
    "collapsed": false,
    "ExecuteTime": {
     "end_time": "2023-10-27T15:24:19.955803Z",
     "start_time": "2023-10-27T15:24:19.926609Z"
    }
   },
   "id": "470a190a1e3cadaf"
  },
  {
   "cell_type": "code",
   "execution_count": 24,
   "outputs": [],
   "source": [
    "insee_tile_paris = bed_time_index_insee_tile['insee_tile'].unique()\n",
    "insee_tile_paris_geo = insee.tile.get_data(tile=insee_tile_paris, var_name='geometry')"
   ],
   "metadata": {
    "collapsed": false,
    "ExecuteTime": {
     "end_time": "2023-10-27T15:24:33.770443Z",
     "start_time": "2023-10-27T15:24:31.307835Z"
    }
   },
   "id": "c9e82aa25f0c7ec9"
  },
  {
   "cell_type": "code",
   "execution_count": 25,
   "outputs": [],
   "source": [
    "admin_data_insee_tile = insee.tile.get_data(tile=insee_tile_paris).drop(columns=['geometry'])\n",
    "admin_data_insee_tile.reset_index(names=['insee_tile'], inplace=True)"
   ],
   "metadata": {
    "collapsed": false,
    "ExecuteTime": {
     "end_time": "2023-10-27T15:24:37.339703Z",
     "start_time": "2023-10-27T15:24:34.702802Z"
    }
   },
   "id": "c016b2ddf918f327"
  },
  {
   "cell_type": "code",
   "execution_count": 26,
   "outputs": [],
   "source": [
    "equipment_data_insee_tile = insee.equipment.get_equipment_counts(polygons=insee_tile_paris_geo, resolution=insee.equipment.EquipmentResolution.HIGH)\n",
    "equipment_data_insee_tile.reset_index(names=['insee_tile'], inplace=True)"
   ],
   "metadata": {
    "collapsed": false,
    "ExecuteTime": {
     "end_time": "2023-10-27T15:25:03.207139Z",
     "start_time": "2023-10-27T15:24:40.471941Z"
    }
   },
   "id": "9cbc7bd3152c462c"
  },
  {
   "cell_type": "code",
   "execution_count": 27,
   "outputs": [],
   "source": [
    "admin_data_insee_tile.to_csv(f'{path}/admin_data_insee_tile.csv', index=False)\n",
    "equipment_data_insee_tile.to_csv(f'{path}/equipment_data_insee_tile.csv', index=False)"
   ],
   "metadata": {
    "collapsed": false,
    "ExecuteTime": {
     "end_time": "2023-10-27T15:25:06.173619Z",
     "start_time": "2023-10-27T15:25:05.522096Z"
    }
   },
   "id": "496951c71c0c2331"
  },
  {
   "cell_type": "code",
   "execution_count": 28,
   "outputs": [],
   "source": [
    "insee_tile_paris_geo.reset_index(names=['insee_tile']).to_file(f'{path}/insee_tile_geo.geojson', driver='GeoJSON', index=False)"
   ],
   "metadata": {
    "collapsed": false,
    "ExecuteTime": {
     "end_time": "2023-10-27T15:25:21.165491Z",
     "start_time": "2023-10-27T15:25:20.032060Z"
    }
   },
   "id": "e7a67832fae37e2e"
  },
  {
   "cell_type": "code",
   "execution_count": 29,
   "outputs": [],
   "source": [
    "# Insee iris level admin data"
   ],
   "metadata": {
    "collapsed": false,
    "ExecuteTime": {
     "end_time": "2023-10-27T15:25:22.024527Z",
     "start_time": "2023-10-27T15:25:22.002979Z"
    }
   },
   "id": "3beae4aa3dbc6c15"
  },
  {
   "cell_type": "code",
   "execution_count": 30,
   "outputs": [],
   "source": [
    "iris_paris = bed_time_index_iris['insee_iris'].unique()\n",
    "iris_paris_geo = insee.iris.geo.get_geo_data(iris=iris_paris)"
   ],
   "metadata": {
    "collapsed": false,
    "ExecuteTime": {
     "end_time": "2023-10-27T15:25:23.029970Z",
     "start_time": "2023-10-27T15:25:23.006667Z"
    }
   },
   "id": "7884bd65347b46e9"
  },
  {
   "cell_type": "code",
   "execution_count": 31,
   "outputs": [],
   "source": [
    "admin_data_iris = insee.iris.admin.get_data(iris=iris_paris)\n",
    "admin_data_iris.reset_index(names=['insee_iris'], inplace=True)\n",
    "admin_data_iris = admin_data_iris.drop(columns=[c for c in admin_data_iris if c.startswith('EQUIP')])"
   ],
   "metadata": {
    "collapsed": false,
    "ExecuteTime": {
     "end_time": "2023-10-27T15:25:30.499093Z",
     "start_time": "2023-10-27T15:25:28.245386Z"
    }
   },
   "id": "adfb2f72d3ee1c2e"
  },
  {
   "cell_type": "code",
   "execution_count": 32,
   "outputs": [],
   "source": [
    "equipment_data_iris = insee.equipment.get_equipment_counts(polygons=iris_paris_geo, resolution=insee.equipment.EquipmentResolution.HIGH)\n",
    "equipment_data_iris.reset_index(names=['insee_iris'], inplace=True)"
   ],
   "metadata": {
    "collapsed": false,
    "ExecuteTime": {
     "end_time": "2023-10-27T15:25:34.312475Z",
     "start_time": "2023-10-27T15:25:32.920035Z"
    }
   },
   "id": "1e1b8ca613dd1aa9"
  },
  {
   "cell_type": "code",
   "execution_count": 33,
   "outputs": [],
   "source": [
    "admin_data_iris.to_csv(f'{path}/admin_data_iris.csv', index=False)\n",
    "equipment_data_iris.to_csv(f'{path}/equipment_data_iris.csv', index=False)"
   ],
   "metadata": {
    "collapsed": false,
    "ExecuteTime": {
     "end_time": "2023-10-27T15:25:36.355445Z",
     "start_time": "2023-10-27T15:25:35.659104Z"
    }
   },
   "id": "1142f0a7d0a21daa"
  },
  {
   "cell_type": "code",
   "execution_count": 34,
   "outputs": [],
   "source": [
    "iris_paris_geo.reset_index(names=['insee_iris']).to_file(f'{path}/iris_geo.geojson', driver='GeoJSON', index=False)"
   ],
   "metadata": {
    "collapsed": false,
    "ExecuteTime": {
     "end_time": "2023-10-27T15:25:47.723628Z",
     "start_time": "2023-10-27T15:25:47.145789Z"
    }
   },
   "id": "7bb2be429f2630f5"
  },
  {
   "cell_type": "code",
   "execution_count": 35,
   "outputs": [],
   "source": [
    "# Insee commune level admin data --- means of displacement to work and income"
   ],
   "metadata": {
    "collapsed": false,
    "ExecuteTime": {
     "end_time": "2023-10-27T15:25:49.205416Z",
     "start_time": "2023-10-27T15:25:49.186616Z"
    }
   },
   "id": "8a82e5798f77eebd"
  },
  {
   "cell_type": "code",
   "execution_count": 70,
   "outputs": [],
   "source": [
    "iris_paris = bed_time_index_iris['insee_iris'].unique()\n",
    "iris_paris_geo = insee.iris.geo.get_geo_data(iris=iris_paris)\n",
    "admin_data_iris = insee.iris.admin.get_data(iris=iris_paris)"
   ],
   "metadata": {
    "collapsed": false,
    "ExecuteTime": {
     "end_time": "2023-10-28T15:17:56.276201Z",
     "start_time": "2023-10-28T15:17:56.187527Z"
    }
   },
   "id": "cb0fbe58ff714f20"
  },
  {
   "cell_type": "code",
   "execution_count": 71,
   "outputs": [],
   "source": [
    "displacement_to_work_vs = ['C19_ACTOCC15P', 'C19_ACTOCC15P_PAS', 'C19_ACTOCC15P_MAR', 'C19_ACTOCC15P_VELO', 'C19_ACTOCC15P_2ROUESMOT', 'C19_ACTOCC15P_VOIT', 'C19_ACTOCC15P_TCOM']\n",
    "income = ['DEC_MED19']\n",
    "vs = displacement_to_work_vs + income\n",
    "admin_data_iris_displacement_to_work = admin_data_iris[vs].copy()"
   ],
   "metadata": {
    "collapsed": false,
    "ExecuteTime": {
     "end_time": "2023-10-28T15:17:57.207914Z",
     "start_time": "2023-10-28T15:17:57.180870Z"
    }
   },
   "id": "a60f4b06ceb2ec38"
  },
  {
   "cell_type": "code",
   "execution_count": 72,
   "outputs": [],
   "source": [
    "aggregation_fct = {v: 'sum' for v in displacement_to_work_vs}\n",
    "aggregation_fct.update({v: 'mean' for v in income})\n",
    "commune_level_displacement_to_work_data = aggregate_iris_level_variables_to_commune_level(data=admin_data_iris_displacement_to_work, variables=vs, aggregation_fct=aggregation_fct)"
   ],
   "metadata": {
    "collapsed": false,
    "ExecuteTime": {
     "end_time": "2023-10-28T15:19:47.109123Z",
     "start_time": "2023-10-28T15:17:59.555145Z"
    }
   },
   "id": "c0d2c2693c739274"
  },
  {
   "cell_type": "code",
   "execution_count": 73,
   "outputs": [],
   "source": [
    "commune_level_displacement_to_work_data = commune_level_displacement_to_work_data.loc[commune_level_displacement_to_work_data['covered_area'] > 0.8].copy()\n",
    "commune_level_displacement_to_work_data.drop(columns=['covered_area'], inplace=True)"
   ],
   "metadata": {
    "collapsed": false,
    "ExecuteTime": {
     "end_time": "2023-10-28T15:21:23.379899Z",
     "start_time": "2023-10-28T15:21:23.352031Z"
    }
   },
   "id": "60a862050c7d6ad8"
  },
  {
   "cell_type": "code",
   "execution_count": 74,
   "outputs": [],
   "source": [
    "commune_level_displacement_to_work_data.dropna(inplace=True)"
   ],
   "metadata": {
    "collapsed": false,
    "ExecuteTime": {
     "end_time": "2023-10-28T15:22:02.291557Z",
     "start_time": "2023-10-28T15:22:02.268239Z"
    }
   },
   "id": "bb41fe553a425ef"
  },
  {
   "cell_type": "code",
   "execution_count": 75,
   "outputs": [],
   "source": [
    "commune_level_displacement_to_work_data.to_csv(f'{path}/admin_data_commune_means_of_displacement_to_work_and_income.csv', index=False)"
   ],
   "metadata": {
    "collapsed": false,
    "ExecuteTime": {
     "end_time": "2023-10-28T15:22:04.952257Z",
     "start_time": "2023-10-28T15:22:04.927930Z"
    }
   },
   "id": "992885b0c3d30505"
  },
  {
   "cell_type": "code",
   "execution_count": 42,
   "outputs": [],
   "source": [
    "# Noise data"
   ],
   "metadata": {
    "collapsed": false,
    "ExecuteTime": {
     "end_time": "2023-10-27T15:29:30.130033Z",
     "start_time": "2023-10-27T15:29:30.105647Z"
    }
   },
   "id": "846dc1713a3e24fa"
  },
  {
   "cell_type": "code",
   "execution_count": 43,
   "outputs": [],
   "source": [
    "noise_insee_tile = noise.get_noise_estimate(polygons=insee_tile_paris_geo, measurement=noise.enums.Measurement.NIGHT)\n",
    "noise_insee_tile.reset_index(names=['insee_tile'], inplace=True)\n",
    "noise_insee_tile = noise_insee_tile[['insee_tile', 'noise_estimate']].copy()"
   ],
   "metadata": {
    "collapsed": false,
    "ExecuteTime": {
     "end_time": "2023-10-27T15:31:24.122495Z",
     "start_time": "2023-10-27T15:29:33.434Z"
    }
   },
   "id": "ee60709aff89e3fd"
  },
  {
   "cell_type": "code",
   "execution_count": 44,
   "outputs": [],
   "source": [
    "noise_iris = noise.get_noise_estimate(polygons=iris_paris_geo, measurement=noise.enums.Measurement.NIGHT)\n",
    "noise_iris.reset_index(names=['insee_iris'], inplace=True)\n",
    "noise_iris = noise_iris[['insee_iris', 'noise_estimate']].copy()"
   ],
   "metadata": {
    "collapsed": false,
    "ExecuteTime": {
     "end_time": "2023-10-27T15:31:47.257244Z",
     "start_time": "2023-10-27T15:31:24.122670Z"
    }
   },
   "id": "860cf52ee852a487"
  },
  {
   "cell_type": "code",
   "execution_count": 45,
   "outputs": [],
   "source": [
    "noise_insee_tile.to_csv(f'{path}/noise_insee_tile.csv', index=False)\n",
    "noise_iris.to_csv(f'{path}/noise_iris.csv', index=False)"
   ],
   "metadata": {
    "collapsed": false,
    "ExecuteTime": {
     "end_time": "2023-10-27T15:31:47.297532Z",
     "start_time": "2023-10-27T15:31:47.257436Z"
    }
   },
   "id": "8ddd2f5cfda1a048"
  },
  {
   "cell_type": "code",
   "execution_count": 46,
   "outputs": [],
   "source": [
    "import numpy as np"
   ],
   "metadata": {
    "collapsed": false,
    "ExecuteTime": {
     "end_time": "2023-10-27T15:31:47.324377Z",
     "start_time": "2023-10-27T15:31:47.291238Z"
    }
   },
   "id": "e273aaf3bad41d83"
  },
  {
   "cell_type": "code",
   "execution_count": 52,
   "outputs": [
    {
     "name": "stdout",
     "output_type": "stream",
     "text": [
      "Total price: 31.045€ n_elements 6209\n"
     ]
    }
   ],
   "source": [
    "price_per_element = 0.005\n",
    "n_elements = 6209\n",
    "total_price = price_per_element*n_elements\n",
    "print(f'Total price: {total_price}€', 'n_elements', n_elements)"
   ],
   "metadata": {
    "collapsed": false,
    "ExecuteTime": {
     "end_time": "2023-10-27T16:45:02.025418Z",
     "start_time": "2023-10-27T16:45:01.965257Z"
    }
   },
   "id": "5249c9848b6efc9"
  },
  {
   "cell_type": "code",
   "execution_count": 53,
   "outputs": [],
   "source": [
    "gmaps_distances = pd.read_csv(path + '/gmaps_distances_ROUTING_PREFERENCE_UNSPECIFIED_TRANSIT.csv', index_col=0, dtype={'origin':str, 'destination':str})"
   ],
   "metadata": {
    "collapsed": false,
    "ExecuteTime": {
     "end_time": "2023-10-28T10:04:09.651031Z",
     "start_time": "2023-10-28T10:04:09.614571Z"
    }
   },
   "id": "b58570b3f676d67b"
  },
  {
   "cell_type": "code",
   "execution_count": 54,
   "outputs": [],
   "source": [
    "gmaps_distances.rename(columns={'origin': 'destination', 'destination': 'origin'}, inplace=True)"
   ],
   "metadata": {
    "collapsed": false,
    "ExecuteTime": {
     "end_time": "2023-10-28T10:04:44.383420Z",
     "start_time": "2023-10-28T10:04:44.353731Z"
    }
   },
   "id": "932ab91f6dffd6a6"
  },
  {
   "cell_type": "code",
   "execution_count": 55,
   "outputs": [],
   "source": [
    "gmaps_distances = gmaps_distances[['origin', 'destination', 'origin_geometry', 'destination_geometry', 'distance_meters', 'duration_seconds']].copy()"
   ],
   "metadata": {
    "collapsed": false,
    "ExecuteTime": {
     "end_time": "2023-10-28T10:06:24.887978Z",
     "start_time": "2023-10-28T10:06:24.857081Z"
    }
   },
   "id": "aa0a468681814c37"
  },
  {
   "cell_type": "code",
   "execution_count": 56,
   "outputs": [],
   "source": [
    "gmaps_distances.to_csv(path + '/gmaps_distances_from_home_to_work_ROUTING_PREFERENCE_UNSPECIFIED_TRANSIT.csv')"
   ],
   "metadata": {
    "collapsed": false,
    "ExecuteTime": {
     "end_time": "2023-10-28T10:06:55.402048Z",
     "start_time": "2023-10-28T10:06:55.361554Z"
    }
   },
   "id": "172a868cb43f48cd"
  },
  {
   "cell_type": "code",
   "execution_count": null,
   "outputs": [],
   "source": [],
   "metadata": {
    "collapsed": false
   },
   "id": "56a35ee48ea79a04"
  }
 ],
 "metadata": {
  "kernelspec": {
   "display_name": "Python 3",
   "language": "python",
   "name": "python3"
  },
  "language_info": {
   "codemirror_mode": {
    "name": "ipython",
    "version": 2
   },
   "file_extension": ".py",
   "mimetype": "text/x-python",
   "name": "python",
   "nbconvert_exporter": "python",
   "pygments_lexer": "ipython2",
   "version": "2.7.6"
  }
 },
 "nbformat": 4,
 "nbformat_minor": 5
}
