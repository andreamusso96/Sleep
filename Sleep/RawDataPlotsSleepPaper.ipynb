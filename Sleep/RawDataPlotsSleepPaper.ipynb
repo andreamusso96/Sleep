{
 "cells": [
  {
   "cell_type": "code",
   "execution_count": 1,
   "id": "initial_id",
   "metadata": {
    "collapsed": true,
    "ExecuteTime": {
     "end_time": "2023-09-21T15:31:13.921502Z",
     "start_time": "2023-09-21T15:31:12.468881Z"
    }
   },
   "outputs": [],
   "source": [
    "import mobile_traffic as mt\n",
    "from datetime import time\n",
    "import noise\n",
    "import insee\n",
    "import numpy as np\n",
    "import pandas as pd\n",
    "import geopandas as gpd"
   ]
  },
  {
   "cell_type": "code",
   "execution_count": 2,
   "outputs": [],
   "source": [
    "from Sleep.SessionDistribution import calculate_session_distribution_city"
   ],
   "metadata": {
    "collapsed": false,
    "ExecuteTime": {
     "end_time": "2023-09-21T15:31:13.931932Z",
     "start_time": "2023-09-21T15:31:13.922061Z"
    }
   },
   "id": "53126eb622230df"
  },
  {
   "cell_type": "code",
   "execution_count": 3,
   "outputs": [],
   "source": [
    "%load_ext autoreload\n",
    "%autoreload 2"
   ],
   "metadata": {
    "collapsed": false,
    "ExecuteTime": {
     "end_time": "2023-09-21T15:31:13.976622Z",
     "start_time": "2023-09-21T15:31:13.928650Z"
    }
   },
   "id": "6575de19b1d3fda1"
  },
  {
   "cell_type": "code",
   "execution_count": 4,
   "outputs": [],
   "source": [
    "path = '/Users/anmusso/Desktop/PhD/Projects/Current/NetMob/NetMobData/data/FigureData/Sleep'"
   ],
   "metadata": {
    "collapsed": false,
    "ExecuteTime": {
     "end_time": "2023-09-21T15:31:14.018807Z",
     "start_time": "2023-09-21T15:31:13.977312Z"
    }
   },
   "id": "90c2db74f85e671d"
  },
  {
   "cell_type": "markdown",
   "source": [
    "# Mobile Traffic Data"
   ],
   "metadata": {
    "collapsed": false
   },
   "id": "3895962079ebc1d1"
  },
  {
   "cell_type": "markdown",
   "source": [
    "### Bed time index aggregate service"
   ],
   "metadata": {
    "collapsed": false
   },
   "id": "3ef8407e8af514c8"
  },
  {
   "cell_type": "code",
   "execution_count": 66,
   "outputs": [
    {
     "name": "stderr",
     "output_type": "stream",
     "text": [
      "100%|██████████| 77/77 [00:30<00:00,  2.50it/s]\n"
     ]
    }
   ],
   "source": [
    "mobile_traffic_paris_users = mt.get_city_traffic_data(traffic_type=mt.TrafficType.USERS, city=mt.City.PARIS, geo_data_type=mt.GeoDataType.TILE)"
   ],
   "metadata": {
    "collapsed": false,
    "ExecuteTime": {
     "end_time": "2023-09-14T18:15:35.472992Z",
     "start_time": "2023-09-14T18:15:00.155552Z"
    }
   },
   "id": "79211184c0781295"
  },
  {
   "cell_type": "code",
   "execution_count": 67,
   "outputs": [],
   "source": [
    "session_distribution_paris = calculate_session_distribution_city(mobile_traffic_paris_users, start=time(22), end=time(4), window_smoothing=3)"
   ],
   "metadata": {
    "collapsed": false,
    "ExecuteTime": {
     "end_time": "2023-09-14T18:15:38.128013Z",
     "start_time": "2023-09-14T18:15:35.489543Z"
    }
   },
   "id": "90b38fbff52828a5"
  },
  {
   "cell_type": "code",
   "execution_count": 68,
   "outputs": [],
   "source": [
    "bed_time_index = session_distribution_paris.get_deviation_from_mean_of_session_cumulative_distribution_by_location()\n",
    "bed_time_index.reset_index(names='tile', inplace=True)\n",
    "bed_time_index.rename(columns={'deviation_from_mean': 'bed_time_index'}, inplace=True)"
   ],
   "metadata": {
    "collapsed": false,
    "ExecuteTime": {
     "end_time": "2023-09-14T18:15:38.191956Z",
     "start_time": "2023-09-14T18:15:38.131570Z"
    }
   },
   "id": "3b1e4f3e325aee6b"
  },
  {
   "cell_type": "code",
   "execution_count": 69,
   "outputs": [
    {
     "data": {
      "text/plain": "        tile expected_time\n0  011050000      23:00:00\n1  012380000      23:00:00\n2  012480000      23:00:00\n3  012490101      23:00:00\n4  012490103      23:00:00",
      "text/html": "<div>\n<style scoped>\n    .dataframe tbody tr th:only-of-type {\n        vertical-align: middle;\n    }\n\n    .dataframe tbody tr th {\n        vertical-align: top;\n    }\n\n    .dataframe thead th {\n        text-align: right;\n    }\n</style>\n<table border=\"1\" class=\"dataframe\">\n  <thead>\n    <tr style=\"text-align: right;\">\n      <th></th>\n      <th>tile</th>\n      <th>expected_time</th>\n    </tr>\n  </thead>\n  <tbody>\n    <tr>\n      <th>0</th>\n      <td>011050000</td>\n      <td>23:00:00</td>\n    </tr>\n    <tr>\n      <th>1</th>\n      <td>012380000</td>\n      <td>23:00:00</td>\n    </tr>\n    <tr>\n      <th>2</th>\n      <td>012480000</td>\n      <td>23:00:00</td>\n    </tr>\n    <tr>\n      <th>3</th>\n      <td>012490101</td>\n      <td>23:00:00</td>\n    </tr>\n    <tr>\n      <th>4</th>\n      <td>012490103</td>\n      <td>23:00:00</td>\n    </tr>\n  </tbody>\n</table>\n</div>"
     },
     "execution_count": 69,
     "metadata": {},
     "output_type": "execute_result"
    }
   ],
   "source": [
    "bed_time_index.head()"
   ],
   "metadata": {
    "collapsed": false,
    "ExecuteTime": {
     "end_time": "2023-09-14T18:15:38.251069Z",
     "start_time": "2023-09-14T18:15:38.197166Z"
    }
   },
   "id": "bfed1d4ce9dc3070"
  },
  {
   "cell_type": "code",
   "execution_count": 70,
   "outputs": [],
   "source": [
    "bed_time_index.to_csv(f'{path}/bed_time_index_netmob_tile.csv', index=False)"
   ],
   "metadata": {
    "collapsed": false,
    "ExecuteTime": {
     "end_time": "2023-09-14T18:15:38.373071Z",
     "start_time": "2023-09-14T18:15:38.250691Z"
    }
   },
   "id": "ba40298341bf9bba"
  },
  {
   "cell_type": "markdown",
   "source": [
    "### Bed time index per service"
   ],
   "metadata": {
    "collapsed": false
   },
   "id": "bef892fa2aeb42af"
  },
  {
   "cell_type": "code",
   "execution_count": null,
   "outputs": [],
   "source": [
    "mobile_traffic_paris_ul_dl = mt.get_city_traffic_data(traffic_type=mt.TrafficType.UL_AND_DL, city=mt.City.PARIS, geo_data_type=mt.GeoDataType.TILE)"
   ],
   "metadata": {
    "collapsed": false
   },
   "id": "ca788316c5684e37"
  },
  {
   "cell_type": "code",
   "execution_count": null,
   "outputs": [],
   "source": [
    "bed_time_indices =[]\n",
    "for service in mt.Service:\n",
    "    session_distribution_paris_service = calculate_session_distribution_city(mobile_traffic_paris_ul_dl, start=time(22), end=time(4), window_smoothing=3, services=[service])\n",
    "    bed_time_index_service = session_distribution_paris_service.get_deviation_from_mean_of_session_cumulative_distribution_by_location()\n",
    "    bed_time_index_service.rename(columns={'deviation_from_mean': f'{service}'}, inplace=True)\n",
    "    bed_time_indices.append(bed_time_index_service)"
   ],
   "metadata": {
    "collapsed": false
   },
   "id": "1e32c78468e7eb1f"
  },
  {
   "cell_type": "code",
   "execution_count": null,
   "outputs": [],
   "source": [
    "bed_time_indices = pd.concat(bed_time_indices, axis=1)"
   ],
   "metadata": {
    "collapsed": false
   },
   "id": "de23e5d2fedd629b"
  },
  {
   "cell_type": "code",
   "execution_count": null,
   "outputs": [],
   "source": [
    "bed_time_indices.reset_index(names='tile', inplace=True)\n",
    "bed_time_indices.head()"
   ],
   "metadata": {
    "collapsed": false
   },
   "id": "df4296cc90080ba5"
  },
  {
   "cell_type": "code",
   "execution_count": null,
   "outputs": [],
   "source": [
    "bed_time_indices.to_csv(f'{path}/bed_time_index_netmob_tile_by_app.csv', index=False)"
   ],
   "metadata": {
    "collapsed": false
   },
   "id": "aecbebbf7ac1c71c"
  },
  {
   "cell_type": "markdown",
   "source": [
    "### Raw consumption per service"
   ],
   "metadata": {
    "collapsed": false
   },
   "id": "440a985d9e069087"
  },
  {
   "cell_type": "code",
   "execution_count": null,
   "outputs": [],
   "source": [
    "service_consumption_by_location = mobile_traffic_paris_ul_dl.get_service_consumption_by_location(start=time(22), end=time(4))\n",
    "service_consumption_by_location.head()"
   ],
   "metadata": {
    "collapsed": false
   },
   "id": "4c4096ed957a305b"
  },
  {
   "cell_type": "code",
   "execution_count": null,
   "outputs": [],
   "source": [
    "service_consumption_by_location.to_csv(f'{path}/app_consumption_netmob_tile.csv', index=False)"
   ],
   "metadata": {
    "collapsed": false
   },
   "id": "97c99b199e24eaca"
  },
  {
   "cell_type": "markdown",
   "source": [
    "# Noise Data"
   ],
   "metadata": {
    "collapsed": false
   },
   "id": "5e1cee70a51b37be"
  },
  {
   "cell_type": "code",
   "execution_count": 5,
   "outputs": [],
   "source": [
    "paris_geo = mt.geo_tile.get_geo_data(city=mt.City.PARIS)\n",
    "paris_geo = paris_geo.iloc[:100]"
   ],
   "metadata": {
    "collapsed": false,
    "ExecuteTime": {
     "end_time": "2023-09-21T15:31:39.799816Z",
     "start_time": "2023-09-21T15:31:17.778846Z"
    }
   },
   "id": "da3ccca97c960412"
  },
  {
   "cell_type": "code",
   "execution_count": 62,
   "outputs": [],
   "source": [
    "noise_estimates = noise.get_noise_estimate(polygons=paris_geo, city=noise.City.PARIS, measurement=noise.Measurement.NIGHT)"
   ],
   "metadata": {
    "collapsed": false,
    "ExecuteTime": {
     "end_time": "2023-09-14T18:13:42.232747Z",
     "start_time": "2023-09-14T18:13:41.097949Z"
    }
   },
   "id": "f9aa0e3da007ebdc"
  },
  {
   "cell_type": "code",
   "execution_count": 63,
   "outputs": [],
   "source": [
    "noise_estimates = noise_estimates['noise_estimate'].to_frame()\n",
    "noise_estimates.reset_index(names='tile', inplace=True)"
   ],
   "metadata": {
    "collapsed": false,
    "ExecuteTime": {
     "end_time": "2023-09-14T18:13:42.269381Z",
     "start_time": "2023-09-14T18:13:42.233866Z"
    }
   },
   "id": "e6d3c35b4c57ad35"
  },
  {
   "cell_type": "code",
   "execution_count": 64,
   "outputs": [
    {
     "data": {
      "text/plain": "   tile  noise_estimate\n0   162            61.0\n1   507            49.0\n2   508            61.0\n3   853            52.0\n4   854            60.0",
      "text/html": "<div>\n<style scoped>\n    .dataframe tbody tr th:only-of-type {\n        vertical-align: middle;\n    }\n\n    .dataframe tbody tr th {\n        vertical-align: top;\n    }\n\n    .dataframe thead th {\n        text-align: right;\n    }\n</style>\n<table border=\"1\" class=\"dataframe\">\n  <thead>\n    <tr style=\"text-align: right;\">\n      <th></th>\n      <th>tile</th>\n      <th>noise_estimate</th>\n    </tr>\n  </thead>\n  <tbody>\n    <tr>\n      <th>0</th>\n      <td>162</td>\n      <td>61.0</td>\n    </tr>\n    <tr>\n      <th>1</th>\n      <td>507</td>\n      <td>49.0</td>\n    </tr>\n    <tr>\n      <th>2</th>\n      <td>508</td>\n      <td>61.0</td>\n    </tr>\n    <tr>\n      <th>3</th>\n      <td>853</td>\n      <td>52.0</td>\n    </tr>\n    <tr>\n      <th>4</th>\n      <td>854</td>\n      <td>60.0</td>\n    </tr>\n  </tbody>\n</table>\n</div>"
     },
     "execution_count": 64,
     "metadata": {},
     "output_type": "execute_result"
    }
   ],
   "source": [
    "noise_estimates.head()"
   ],
   "metadata": {
    "collapsed": false,
    "ExecuteTime": {
     "end_time": "2023-09-14T18:13:42.306449Z",
     "start_time": "2023-09-14T18:13:42.269659Z"
    }
   },
   "id": "3979e93939fdb7c"
  },
  {
   "cell_type": "code",
   "execution_count": 65,
   "outputs": [],
   "source": [
    "noise_estimates.to_csv(f'{path}/noise_estimates_paris_n.csv', index=False)"
   ],
   "metadata": {
    "collapsed": false,
    "ExecuteTime": {
     "end_time": "2023-09-14T18:13:43.848123Z",
     "start_time": "2023-09-14T18:13:43.799144Z"
    }
   },
   "id": "aa1437922788c8f"
  },
  {
   "cell_type": "markdown",
   "source": [
    "# Admin Data"
   ],
   "metadata": {
    "collapsed": false
   },
   "id": "feffb84eb383b331"
  },
  {
   "cell_type": "code",
   "execution_count": 9,
   "outputs": [],
   "source": [
    "net_mob_paris_geo = mt.geo_tile.get_geo_data(city=mt.City.PARIS)\n",
    "net_mob_paris_geo.to_crs(epsg=2154, inplace=True)"
   ],
   "metadata": {
    "collapsed": false,
    "ExecuteTime": {
     "end_time": "2023-09-21T15:31:59.463697Z",
     "start_time": "2023-09-21T15:31:59.260982Z"
    }
   },
   "id": "30a589c1d8a113d1"
  },
  {
   "cell_type": "code",
   "execution_count": 10,
   "outputs": [],
   "source": [
    "paris_blob = net_mob_paris_geo.unary_union"
   ],
   "metadata": {
    "collapsed": false,
    "ExecuteTime": {
     "end_time": "2023-09-21T15:32:02.669489Z",
     "start_time": "2023-09-21T15:32:00.376238Z"
    }
   },
   "id": "8c71a86dea2dee92"
  },
  {
   "cell_type": "code",
   "execution_count": 13,
   "outputs": [],
   "source": [
    "insee_tile_geo = insee.tile.get_data(var_name='geometry')\n",
    "insee_tile_geo.to_crs(epsg=2154, inplace=True)"
   ],
   "metadata": {
    "collapsed": false,
    "ExecuteTime": {
     "end_time": "2023-09-21T15:33:08.647678Z",
     "start_time": "2023-09-21T15:32:17.040261Z"
    }
   },
   "id": "7bc4a3cec823d82d"
  },
  {
   "cell_type": "code",
   "execution_count": 15,
   "outputs": [],
   "source": [
    "insee_tile_geo = insee_tile_geo.loc[insee_tile_geo.intersects(paris_blob)]"
   ],
   "metadata": {
    "collapsed": false,
    "ExecuteTime": {
     "end_time": "2023-09-21T15:33:36.378455Z",
     "start_time": "2023-09-21T15:33:24.655034Z"
    }
   },
   "id": "f03299b3d9eed0ea"
  },
  {
   "cell_type": "code",
   "execution_count": 16,
   "outputs": [],
   "source": [
    "equipment_counts = insee.equipment.get_equipment_counts(polygons=insee_tile_geo, resolution=insee.equipment.EquipmentResolution.HIGH)"
   ],
   "metadata": {
    "collapsed": false,
    "ExecuteTime": {
     "end_time": "2023-09-21T15:34:44.408492Z",
     "start_time": "2023-09-21T15:33:47.404350Z"
    }
   },
   "id": "52f7986951885ebe"
  },
  {
   "cell_type": "code",
   "execution_count": 17,
   "outputs": [],
   "source": [
    "codes_businesses_likely_to_be_open_at_night = ['A101', 'A104', 'A504', 'B101', 'B201', 'B316', 'C701', 'D101', 'D102', 'D103', 'D104', 'D105', 'D106', 'D107', 'D111', 'D303', 'E107', 'F303', 'G102']\n",
    "codes_businesses_likely_to_be_open_at_night = ['A504', 'F303', 'G102', 'C701']"
   ],
   "metadata": {
    "collapsed": false,
    "ExecuteTime": {
     "end_time": "2023-09-21T15:34:44.456749Z",
     "start_time": "2023-09-21T15:34:44.411260Z"
    }
   },
   "id": "1e7adf58abb4a7ad"
  },
  {
   "cell_type": "code",
   "execution_count": 18,
   "outputs": [],
   "source": [
    "night_business = np.intersect1d(equipment_counts.columns, codes_businesses_likely_to_be_open_at_night)\n",
    "night_equipment_counts = equipment_counts[night_business].sum(axis=1).to_frame('night_equipment_counts')"
   ],
   "metadata": {
    "collapsed": false,
    "ExecuteTime": {
     "end_time": "2023-09-21T15:34:44.504478Z",
     "start_time": "2023-09-21T15:34:44.457352Z"
    }
   },
   "id": "e4f35ed594b6a44f"
  },
  {
   "cell_type": "code",
   "execution_count": 19,
   "outputs": [],
   "source": [
    "description_night_equip = insee.equipment.get_equipment_description(resolution=insee.equipment.EquipmentResolution.HIGH)\n",
    "description_night_equip = description_night_equip.loc[description_night_equip['COD_MOD'].isin(night_business)]"
   ],
   "metadata": {
    "collapsed": false,
    "ExecuteTime": {
     "end_time": "2023-09-21T15:34:44.710368Z",
     "start_time": "2023-09-21T15:34:44.506086Z"
    }
   },
   "id": "1057220790a7298d"
  },
  {
   "cell_type": "code",
   "execution_count": 20,
   "outputs": [],
   "source": [
    "income_and_population = insee.tile.get_data(tile=list(night_equipment_counts.index.unique()), var_name=['Ind','Ind_snv']).rename(columns={'Ind': 'pop', 'Ind_snv':'income'})\n",
    "income_and_population['income'] = income_and_population['income'].div(income_and_population['pop'], axis=0)"
   ],
   "metadata": {
    "collapsed": false,
    "ExecuteTime": {
     "end_time": "2023-09-21T15:34:48.495501Z",
     "start_time": "2023-09-21T15:34:44.711082Z"
    }
   },
   "id": "3f5f2fc50f4c5f4a"
  },
  {
   "cell_type": "code",
   "execution_count": 21,
   "outputs": [],
   "source": [
    "age_vars =[\"Ind_0_3\", \"Ind_4_5\", \"Ind_6_10\", \"Ind_11_17\", \"Ind_18_24\", \"Ind_25_39\",\n",
    "    \"Ind_40_54\", \"Ind_55_64\", \"Ind_65_79\", \"Ind_80p\"]\n",
    "age = insee.tile.get_data(tile=list(night_equipment_counts.index.unique()), var_name=age_vars)\n",
    "age = age.div(income_and_population['pop'], axis=0)\n",
    "age = age.dot([1.5, 4.5, 8, 14, 21, 32, 47, 60, 72, 85]).to_frame(name='age')"
   ],
   "metadata": {
    "collapsed": false,
    "ExecuteTime": {
     "end_time": "2023-09-21T15:34:52.377974Z",
     "start_time": "2023-09-21T15:34:48.496179Z"
    }
   },
   "id": "526d884088b7c128"
  },
  {
   "cell_type": "code",
   "execution_count": 22,
   "outputs": [],
   "source": [
    "equip_income_pop_data = pd.merge(night_equipment_counts, income_and_population, left_index=True, right_index=True)\n",
    "equip_income_pop_data_age = pd.merge(equip_income_pop_data, age, left_index=True, right_index=True)"
   ],
   "metadata": {
    "collapsed": false,
    "ExecuteTime": {
     "end_time": "2023-09-21T15:34:52.453353Z",
     "start_time": "2023-09-21T15:34:52.379553Z"
    }
   },
   "id": "938bfb3ded69ec8e"
  },
  {
   "cell_type": "code",
   "execution_count": 23,
   "outputs": [],
   "source": [
    "equip_income_pop_data_age.reset_index(names='tile', inplace=True)"
   ],
   "metadata": {
    "collapsed": false,
    "ExecuteTime": {
     "end_time": "2023-09-21T15:34:52.519054Z",
     "start_time": "2023-09-21T15:34:52.454626Z"
    }
   },
   "id": "6e07a09bb947c8ef"
  },
  {
   "cell_type": "code",
   "execution_count": 24,
   "outputs": [],
   "source": [
    "equip_income_pop_data_age.to_csv(f'{path}/admin_data_paris.csv', index=False)"
   ],
   "metadata": {
    "collapsed": false,
    "ExecuteTime": {
     "end_time": "2023-09-21T15:34:52.656125Z",
     "start_time": "2023-09-21T15:34:52.511620Z"
    }
   },
   "id": "6b48f125570741c5"
  },
  {
   "cell_type": "code",
   "execution_count": 25,
   "outputs": [
    {
     "data": {
      "text/plain": "                             tile  night_equipment_counts    pop   \n0  CRS3035RES200mN2866000E3759200                     0.0   16.0  \\\n1  CRS3035RES200mN2866000E3759400                     0.0  206.0   \n2  CRS3035RES200mN2866200E3759200                     0.0  139.0   \n3  CRS3035RES200mN2866200E3759400                     1.0  352.0   \n4  CRS3035RES200mN2866200E3759600                     0.0  498.5   \n\n         income        age  \n0  22193.906250  38.637500  \n1  21523.843689  34.786408  \n2  23750.458993  39.089928  \n3  16225.457670  33.355824  \n4  14109.849950  29.299398  ",
      "text/html": "<div>\n<style scoped>\n    .dataframe tbody tr th:only-of-type {\n        vertical-align: middle;\n    }\n\n    .dataframe tbody tr th {\n        vertical-align: top;\n    }\n\n    .dataframe thead th {\n        text-align: right;\n    }\n</style>\n<table border=\"1\" class=\"dataframe\">\n  <thead>\n    <tr style=\"text-align: right;\">\n      <th></th>\n      <th>tile</th>\n      <th>night_equipment_counts</th>\n      <th>pop</th>\n      <th>income</th>\n      <th>age</th>\n    </tr>\n  </thead>\n  <tbody>\n    <tr>\n      <th>0</th>\n      <td>CRS3035RES200mN2866000E3759200</td>\n      <td>0.0</td>\n      <td>16.0</td>\n      <td>22193.906250</td>\n      <td>38.637500</td>\n    </tr>\n    <tr>\n      <th>1</th>\n      <td>CRS3035RES200mN2866000E3759400</td>\n      <td>0.0</td>\n      <td>206.0</td>\n      <td>21523.843689</td>\n      <td>34.786408</td>\n    </tr>\n    <tr>\n      <th>2</th>\n      <td>CRS3035RES200mN2866200E3759200</td>\n      <td>0.0</td>\n      <td>139.0</td>\n      <td>23750.458993</td>\n      <td>39.089928</td>\n    </tr>\n    <tr>\n      <th>3</th>\n      <td>CRS3035RES200mN2866200E3759400</td>\n      <td>1.0</td>\n      <td>352.0</td>\n      <td>16225.457670</td>\n      <td>33.355824</td>\n    </tr>\n    <tr>\n      <th>4</th>\n      <td>CRS3035RES200mN2866200E3759600</td>\n      <td>0.0</td>\n      <td>498.5</td>\n      <td>14109.849950</td>\n      <td>29.299398</td>\n    </tr>\n  </tbody>\n</table>\n</div>"
     },
     "execution_count": 25,
     "metadata": {},
     "output_type": "execute_result"
    }
   ],
   "source": [
    "equip_income_pop_data_age.head()"
   ],
   "metadata": {
    "collapsed": false,
    "ExecuteTime": {
     "end_time": "2023-09-21T15:34:52.697279Z",
     "start_time": "2023-09-21T15:34:52.646033Z"
    }
   },
   "id": "db76de1fe0259661"
  },
  {
   "cell_type": "markdown",
   "source": [
    "# Matching NetMob Tile - Insee Tile"
   ],
   "metadata": {
    "collapsed": false
   },
   "id": "e3d5d9ad82fe344c"
  },
  {
   "cell_type": "code",
   "execution_count": 76,
   "outputs": [],
   "source": [
    "paris_geo = mt.geo_tile.get_geo_data(city=mt.City.PARIS)"
   ],
   "metadata": {
    "collapsed": false,
    "ExecuteTime": {
     "end_time": "2023-09-19T17:16:37.480902Z",
     "start_time": "2023-09-19T17:16:37.423447Z"
    }
   },
   "id": "f3a9977d4b701e"
  },
  {
   "cell_type": "code",
   "execution_count": 6,
   "outputs": [],
   "source": [
    "matching_tile_mobile_traffic_tile_insee = insee.tile.get_matching_tiles(polygons=paris_geo, return_intersection_area=True)"
   ],
   "metadata": {
    "collapsed": false,
    "ExecuteTime": {
     "end_time": "2023-09-19T14:01:40.944980Z",
     "start_time": "2023-09-19T14:00:22.663710Z"
    }
   },
   "id": "e89c83a95584b053"
  },
  {
   "cell_type": "code",
   "execution_count": 7,
   "outputs": [
    {
     "data": {
      "text/plain": "                                               geometry   \ntile                                                      \n162   POLYGON ((653218.968 6838547.550, 653219.807 6...  \\\n162   POLYGON ((653218.968 6838547.550, 653219.807 6...   \n507   POLYGON ((653119.877 6838648.320, 653120.716 6...   \n507   POLYGON ((653119.877 6838648.320, 653120.716 6...   \n508   POLYGON ((653219.807 6838647.481, 653220.646 6...   \n\n                                tile  intersection_area  \ntile                                                     \n162   CRS3035RES200mN2866000E3759200        6813.063953  \n162   CRS3035RES200mN2866000E3759400        3173.721549  \n507   CRS3035RES200mN2866000E3759200        8319.845685  \n507   CRS3035RES200mN2866200E3759200        1666.941405  \n508   CRS3035RES200mN2866000E3759200        5331.103238  ",
      "text/html": "<div>\n<style scoped>\n    .dataframe tbody tr th:only-of-type {\n        vertical-align: middle;\n    }\n\n    .dataframe tbody tr th {\n        vertical-align: top;\n    }\n\n    .dataframe thead th {\n        text-align: right;\n    }\n</style>\n<table border=\"1\" class=\"dataframe\">\n  <thead>\n    <tr style=\"text-align: right;\">\n      <th></th>\n      <th>geometry</th>\n      <th>tile</th>\n      <th>intersection_area</th>\n    </tr>\n    <tr>\n      <th>tile</th>\n      <th></th>\n      <th></th>\n      <th></th>\n    </tr>\n  </thead>\n  <tbody>\n    <tr>\n      <th>162</th>\n      <td>POLYGON ((653218.968 6838547.550, 653219.807 6...</td>\n      <td>CRS3035RES200mN2866000E3759200</td>\n      <td>6813.063953</td>\n    </tr>\n    <tr>\n      <th>162</th>\n      <td>POLYGON ((653218.968 6838547.550, 653219.807 6...</td>\n      <td>CRS3035RES200mN2866000E3759400</td>\n      <td>3173.721549</td>\n    </tr>\n    <tr>\n      <th>507</th>\n      <td>POLYGON ((653119.877 6838648.320, 653120.716 6...</td>\n      <td>CRS3035RES200mN2866000E3759200</td>\n      <td>8319.845685</td>\n    </tr>\n    <tr>\n      <th>507</th>\n      <td>POLYGON ((653119.877 6838648.320, 653120.716 6...</td>\n      <td>CRS3035RES200mN2866200E3759200</td>\n      <td>1666.941405</td>\n    </tr>\n    <tr>\n      <th>508</th>\n      <td>POLYGON ((653219.807 6838647.481, 653220.646 6...</td>\n      <td>CRS3035RES200mN2866000E3759200</td>\n      <td>5331.103238</td>\n    </tr>\n  </tbody>\n</table>\n</div>"
     },
     "execution_count": 7,
     "metadata": {},
     "output_type": "execute_result"
    }
   ],
   "source": [
    "matching_tile_mobile_traffic_tile_insee.head()"
   ],
   "metadata": {
    "collapsed": false,
    "ExecuteTime": {
     "end_time": "2023-09-19T14:01:40.999319Z",
     "start_time": "2023-09-19T14:01:40.943491Z"
    }
   },
   "id": "b0ab56a99eec3fae"
  },
  {
   "cell_type": "code",
   "execution_count": 8,
   "outputs": [],
   "source": [
    "matching_tile_mobile_traffic_tile_insee.rename(columns={'tile': 'tile_insee'}, inplace=True)\n",
    "matching_tile_mobile_traffic_tile_insee.reset_index(names='tile_mobile_traffic', inplace=True)\n",
    "matching_tile_mobile_traffic_tile_insee = matching_tile_mobile_traffic_tile_insee[['tile_mobile_traffic', 'tile_insee', 'intersection_area']]"
   ],
   "metadata": {
    "collapsed": false,
    "ExecuteTime": {
     "end_time": "2023-09-19T14:01:41.182657Z",
     "start_time": "2023-09-19T14:01:41.001906Z"
    }
   },
   "id": "35e8f45e9bf16668"
  },
  {
   "cell_type": "code",
   "execution_count": 11,
   "outputs": [],
   "source": [
    "matching_tile_mobile_traffic_tile_insee.to_csv(f'{path}/matching_tile_mobile_traffic_tile_insee_paris.csv', index=False)"
   ],
   "metadata": {
    "collapsed": false,
    "ExecuteTime": {
     "end_time": "2023-09-16T13:13:05.633553Z",
     "start_time": "2023-09-16T13:13:05.179925Z"
    }
   },
   "id": "deeb3f9013ca47ff"
  }
 ],
 "metadata": {
  "kernelspec": {
   "display_name": "Python 3",
   "language": "python",
   "name": "python3"
  },
  "language_info": {
   "codemirror_mode": {
    "name": "ipython",
    "version": 2
   },
   "file_extension": ".py",
   "mimetype": "text/x-python",
   "name": "python",
   "nbconvert_exporter": "python",
   "pygments_lexer": "ipython2",
   "version": "2.7.6"
  }
 },
 "nbformat": 4,
 "nbformat_minor": 5
}
