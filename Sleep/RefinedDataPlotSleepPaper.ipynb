{
 "cells": [
  {
   "cell_type": "code",
   "execution_count": 1,
   "id": "initial_id",
   "metadata": {
    "collapsed": true,
    "ExecuteTime": {
     "end_time": "2023-10-16T11:58:44.546248Z",
     "start_time": "2023-10-16T11:58:44.170493Z"
    }
   },
   "outputs": [
    {
     "ename": "ModuleNotFoundError",
     "evalue": "No module named 'insee'",
     "output_type": "error",
     "traceback": [
      "\u001B[0;31m---------------------------------------------------------------------------\u001B[0m",
      "\u001B[0;31mModuleNotFoundError\u001B[0m                       Traceback (most recent call last)",
      "Cell \u001B[0;32mIn[1], line 4\u001B[0m\n\u001B[1;32m      2\u001B[0m \u001B[38;5;28;01mimport\u001B[39;00m \u001B[38;5;21;01mnumpy\u001B[39;00m \u001B[38;5;28;01mas\u001B[39;00m \u001B[38;5;21;01mnp\u001B[39;00m\n\u001B[1;32m      3\u001B[0m \u001B[38;5;28;01mimport\u001B[39;00m \u001B[38;5;21;01mgeopandas\u001B[39;00m \u001B[38;5;28;01mas\u001B[39;00m \u001B[38;5;21;01mgpd\u001B[39;00m\n\u001B[0;32m----> 4\u001B[0m \u001B[38;5;28;01mimport\u001B[39;00m \u001B[38;5;21;01minsee\u001B[39;00m\n\u001B[1;32m      5\u001B[0m \u001B[38;5;28;01mfrom\u001B[39;00m \u001B[38;5;21;01mdatetime\u001B[39;00m \u001B[38;5;28;01mimport\u001B[39;00m datetime\n",
      "\u001B[0;31mModuleNotFoundError\u001B[0m: No module named 'insee'"
     ]
    }
   ],
   "source": [
    "import pandas as pd\n",
    "import numpy as np\n",
    "import geopandas as gpd\n",
    "import insee\n",
    "from datetime import datetime"
   ]
  },
  {
   "cell_type": "markdown",
   "source": [
    "# Merge raw data at insee tile level"
   ],
   "metadata": {
    "collapsed": false
   },
   "id": "ca065966d62ba89e"
  },
  {
   "cell_type": "code",
   "execution_count": null,
   "outputs": [],
   "source": [
    "path = '/Users/anmusso/Desktop/PhD/Projects/Current/NetMob/NetMobData/data/FigureData/Sleep'\n",
    "var_sleep = 'deviation_from_mean'"
   ],
   "metadata": {
    "collapsed": false,
    "ExecuteTime": {
     "start_time": "2023-10-05T11:15:18.675413Z"
    }
   },
   "id": "6df0f7c851f6f18a"
  },
  {
   "cell_type": "code",
   "execution_count": null,
   "outputs": [],
   "source": [
    "mobile_traffic_data = pd.read_csv(f'{path}/deviation_from_mean.csv')\n",
    "noise_data = pd.read_csv(f'{path}/noise_estimates_paris_n.csv')\n",
    "admin_data = pd.read_csv(f'{path}/admin_data_paris.csv')\n",
    "matching_tile_mobile_traffic_tile_insee = pd.read_csv(f'{path}/matching_tile_mobile_traffic_tile_insee_paris.csv')\n",
    "full_data = pd.merge(mobile_traffic_data, noise_data, on='tile')\n",
    "full_data = pd.merge(full_data, matching_tile_mobile_traffic_tile_insee, left_on='tile', right_on='tile_mobile_traffic')\n",
    "full_data.drop(columns=['tile'], inplace=True)\n",
    "full_data = pd.merge(full_data, admin_data, left_on='tile_insee', right_on='tile')\n",
    "full_data.drop(columns=['tile'], inplace=True)"
   ],
   "metadata": {
    "collapsed": false,
    "ExecuteTime": {
     "start_time": "2023-10-05T11:15:18.678855Z"
    }
   },
   "id": "70b2bf9ff210770f"
  },
  {
   "cell_type": "code",
   "execution_count": null,
   "outputs": [],
   "source": [
    "def aggregation_function(x):\n",
    "    area = full_data.loc[x.index, 'intersection_area'].values\n",
    "    decibels = x.values\n",
    "    decibels_to_linear_scale = np.power(10, decibels / 10)\n",
    "    weighted_average_decibels_linear_scale = np.average(decibels_to_linear_scale, weights=area)\n",
    "    average_decibels = 10 * np.log10(weighted_average_decibels_linear_scale)\n",
    "    rounded_average_decibels = np.round(average_decibels, decimals=0)\n",
    "    return rounded_average_decibels\n",
    "\n",
    "\n",
    "def weighted_mean(x):\n",
    "    area = full_data.loc[x.index, 'intersection_area'].values\n",
    "    return np.average(x.values, weights=area)\n",
    "\n",
    "\n",
    "aggregated_full_data = full_data.groupby('tile_insee').agg({'deviation_from_mean': weighted_mean, 'pop': 'first', 'income': 'first', 'night_equipment_counts': 'first', 'age': 'first', 'noise_estimate': aggregation_function})"
   ],
   "metadata": {
    "collapsed": false,
    "ExecuteTime": {
     "end_time": "2023-10-05T11:15:18.685268Z",
     "start_time": "2023-10-05T11:15:18.684928Z"
    }
   },
   "id": "f0f796d1bd4e3406"
  },
  {
   "cell_type": "code",
   "execution_count": null,
   "outputs": [],
   "source": [
    "tile_insee_geometry = insee.tile.get_data(tile=list(aggregated_full_data.index.unique()), var_name='geometry')\n",
    "aggregated_full_data = pd.merge(aggregated_full_data, tile_insee_geometry, left_index=True, right_index=True)\n",
    "ts = pd.date_range(start=datetime(2019, 1, 1, 21), end=datetime(2019, 1, 2, 3, 30), freq='1min')\n",
    "times = pd.date_range(start=datetime(2019, 1, 1, 21), end=datetime(2019, 1, 2, 3, 30), freq='15min')\n",
    "multiplier = len(ts) / len(times)\n",
    "\n",
    "\n",
    "def float_to_time(x):\n",
    "    index = np.round(x * multiplier).astype(int)\n",
    "    return ts[index].time()"
   ],
   "metadata": {
    "collapsed": false,
    "ExecuteTime": {
     "start_time": "2023-10-05T11:15:18.687486Z"
    }
   },
   "id": "b5a7f66c9d8f12ed"
  },
  {
   "cell_type": "code",
   "execution_count": null,
   "outputs": [],
   "source": [
    "# aggregated_full_data['bed_time_index'] = aggregated_full_data['expected_time_number']\n",
    "aggregated_full_data[('bed_time_index')] = -1*aggregated_full_data['deviation_from_mean']\n",
    "aggregated_full_data.head()\n",
    "aggregated_full_data.reset_index(names='tile_insee', inplace=True)\n",
    "aggregated_full_data = gpd.GeoDataFrame(aggregated_full_data, geometry='geometry')\n",
    "aggregated_full_data.to_crs(epsg=2154, inplace=True)\n",
    "aggregated_full_data['centroid'] = aggregated_full_data.centroid"
   ],
   "metadata": {
    "collapsed": false,
    "ExecuteTime": {
     "start_time": "2023-10-05T11:15:18.691065Z"
    }
   },
   "id": "ee50226bc2ddda67"
  },
  {
   "cell_type": "code",
   "execution_count": null,
   "outputs": [],
   "source": [
    "aggregated_full_data.head()"
   ],
   "metadata": {
    "collapsed": false,
    "ExecuteTime": {
     "start_time": "2023-10-05T11:15:18.693244Z"
    }
   },
   "id": "6cd648c482141657"
  },
  {
   "cell_type": "markdown",
   "source": [
    "# Matching "
   ],
   "metadata": {
    "collapsed": false
   },
   "id": "c0b78a7920589d99"
  },
  {
   "cell_type": "code",
   "execution_count": 11,
   "outputs": [],
   "source": [
    "def get_matching(df: pd.DataFrame, geo_var: str, treatment: str, high: float, low: float, buffer_size: int):\n",
    "    high_var = df.loc[df[treatment] > high][[geo_var, 'centroid']]\n",
    "    high_var = gpd.GeoDataFrame(high_var, geometry='centroid')\n",
    "    high_var['buffer'] = high_var['centroid'].apply(lambda x: x.buffer(buffer_size))\n",
    "    high_var.set_geometry('buffer', inplace=True)\n",
    "    \n",
    "    low_var = df.loc[df[treatment] < low][[geo_var, 'centroid']]\n",
    "    low_var = gpd.GeoDataFrame(low_var, geometry='centroid')\n",
    "    \n",
    "    match_high_var_with_nearby_low_var_tiles = gpd.sjoin(high_var, low_var, predicate='intersects', lsuffix='high', rsuffix='low')\n",
    "    matching_high_low_var = match_high_var_with_nearby_low_var_tiles[[f'{geo_var}_high', f'{geo_var}_low']]\n",
    "    return matching_high_low_var"
   ],
   "metadata": {
    "collapsed": false,
    "ExecuteTime": {
     "end_time": "2023-10-02T17:23:31.936943Z",
     "start_time": "2023-10-02T17:23:31.926246Z"
    }
   },
   "id": "ad9d452ffc9d5d02"
  },
  {
   "cell_type": "code",
   "execution_count": 12,
   "outputs": [],
   "source": [
    "def get_metadata_matching(match, data, geo_var, treatment, outcome):\n",
    "    vars_metadata = ['pop', 'income', 'night_equipment_counts', 'age', treatment, outcome]\n",
    "    data_ = data.set_index(geo_var)\n",
    "    data_high = data_.loc[match[f'{geo_var}_high'].values][vars_metadata].reset_index(names=f'{geo_var}')\n",
    "    data_low = data_.loc[match[f'{geo_var}_low'].values][vars_metadata].reset_index(names=f'{geo_var}')\n",
    "    data_high.rename(columns={c: f'{c}_high' for c in data_high.columns}, inplace=True)\n",
    "    match_with_metadata = pd.concat([match.set_index(f'{geo_var}_high'), data_high.set_index(f'{geo_var}_high')], axis=1)\n",
    "    match_with_metadata.reset_index(inplace=True)\n",
    "    data_low.rename(columns={c: f'{c}_low' for c in data_low.columns}, inplace=True)\n",
    "    match_with_metadata = pd.concat([match_with_metadata.set_index(f'{geo_var}_low'), data_low.set_index(f'{geo_var}_low')], axis=1)\n",
    "    match_with_metadata.reset_index(inplace=True)\n",
    "    return match_with_metadata\n",
    "    "
   ],
   "metadata": {
    "collapsed": false,
    "ExecuteTime": {
     "end_time": "2023-10-02T17:23:31.974012Z",
     "start_time": "2023-10-02T17:23:31.936527Z"
    }
   },
   "id": "7561d41166e0fbbc"
  },
  {
   "cell_type": "code",
   "execution_count": 22,
   "outputs": [],
   "source": [
    "matching = get_matching(aggregated_full_data.copy(), geo_var='tile_insee', treatment='noise_estimate', high=60, low=48, buffer_size=350)"
   ],
   "metadata": {
    "collapsed": false,
    "ExecuteTime": {
     "end_time": "2023-10-02T17:51:43.006699Z",
     "start_time": "2023-10-02T17:51:42.772230Z"
    }
   },
   "id": "aa45156e26a2b390"
  },
  {
   "cell_type": "code",
   "execution_count": 23,
   "outputs": [],
   "source": [
    "matching_with_metadata = get_metadata_matching(matching, aggregated_full_data.copy(), geo_var='tile_insee', treatment='noise_estimate', outcome='bed_time_index')"
   ],
   "metadata": {
    "collapsed": false,
    "ExecuteTime": {
     "end_time": "2023-10-02T17:51:45.369844Z",
     "start_time": "2023-10-02T17:51:45.340128Z"
    }
   },
   "id": "1a4c0f50c28325f7"
  },
  {
   "cell_type": "code",
   "execution_count": 24,
   "outputs": [],
   "source": [
    "matching_with_metadata.to_csv(f'{path}/matching_figure.csv', index=False)"
   ],
   "metadata": {
    "collapsed": false,
    "ExecuteTime": {
     "end_time": "2023-10-02T17:51:46.617254Z",
     "start_time": "2023-10-02T17:51:46.606247Z"
    }
   },
   "id": "a5e9c39173a51e4f"
  },
  {
   "cell_type": "code",
   "execution_count": 16,
   "outputs": [],
   "source": [
    "import webbrowser\n",
    "def plot_map(df, column, legend=True, tiles=\"CartoDB positron\"):\n",
    "    path_map = '/Users/anmusso/Desktop/PhD/Projects/Current/NetMob/NetMobCode/temp/map_matching.html'\n",
    "    html_map = df.explore(column=column, legend=legend, tiles=tiles)\n",
    "    html_map.save(path_map)\n",
    "    webbrowser.open(f'file://{path_map}')"
   ],
   "metadata": {
    "collapsed": false,
    "ExecuteTime": {
     "end_time": "2023-10-02T17:23:32.124380Z",
     "start_time": "2023-10-02T17:23:32.115Z"
    }
   },
   "id": "ba00cd922fbd3452"
  },
  {
   "cell_type": "code",
   "execution_count": 30,
   "outputs": [],
   "source": [
    "a = aggregated_full_data.set_index('tile_insee')\n",
    "matching_with_metadata = matching_with_metadata[matching_with_metadata['pop_high'] > 1000]\n",
    "t1 = matching_with_metadata.iloc[0:10]['tile_insee_high'].values\n",
    "t2 = matching_with_metadata.iloc[0:10]['tile_insee_low'].values\n",
    "t = np.append(t1, t2)\n",
    "b = a.loc[t]"
   ],
   "metadata": {
    "collapsed": false,
    "ExecuteTime": {
     "end_time": "2023-09-27T17:13:01.039844Z",
     "start_time": "2023-09-27T17:13:01.015821Z"
    }
   },
   "id": "41d853b8eeb14d82"
  },
  {
   "cell_type": "code",
   "execution_count": 31,
   "outputs": [],
   "source": [
    "plot_map(b, column='noise_estimate')"
   ],
   "metadata": {
    "collapsed": false,
    "ExecuteTime": {
     "end_time": "2023-09-27T17:13:03.592023Z",
     "start_time": "2023-09-27T17:13:03.203193Z"
    }
   },
   "id": "b31a0105086ad829"
  },
  {
   "cell_type": "markdown",
   "source": [
    "# Regression"
   ],
   "metadata": {
    "collapsed": false
   },
   "id": "f3ad09820825fbe4"
  },
  {
   "cell_type": "code",
   "execution_count": 17,
   "outputs": [],
   "source": [
    "vars_regression = ['pop', 'income', 'night_equipment_counts', 'age', 'noise_estimate', 'bed_time_index']\n",
    "aggregated_full_data[vars_regression].to_csv(f'{path}/regression_figure.csv', index=False)"
   ],
   "metadata": {
    "collapsed": false,
    "ExecuteTime": {
     "end_time": "2023-10-02T17:23:32.209403Z",
     "start_time": "2023-10-02T17:23:32.122726Z"
    }
   },
   "id": "d41fe3485d3d498"
  },
  {
   "cell_type": "markdown",
   "source": [
    "# Map"
   ],
   "metadata": {
    "collapsed": false
   },
   "id": "c0b612fddd1903d9"
  },
  {
   "cell_type": "code",
   "execution_count": 18,
   "outputs": [],
   "source": [
    "map_vars = ['income','age', 'noise_estimate', 'bed_time_index', 'geometry']\n",
    "aggregated_full_data[map_vars].to_file(f'{path}/map_figure.geojson', driver='GeoJSON')"
   ],
   "metadata": {
    "collapsed": false,
    "ExecuteTime": {
     "end_time": "2023-10-02T17:23:34.961778Z",
     "start_time": "2023-10-02T17:23:32.214208Z"
    }
   },
   "id": "f70c75cdf12d7e13"
  },
  {
   "cell_type": "code",
   "execution_count": null,
   "outputs": [],
   "source": [],
   "metadata": {
    "collapsed": false
   },
   "id": "933cc3976261cedc"
  }
 ],
 "metadata": {
  "kernelspec": {
   "display_name": "Python 3",
   "language": "python",
   "name": "python3"
  },
  "language_info": {
   "codemirror_mode": {
    "name": "ipython",
    "version": 2
   },
   "file_extension": ".py",
   "mimetype": "text/x-python",
   "name": "python",
   "nbconvert_exporter": "python",
   "pygments_lexer": "ipython2",
   "version": "2.7.6"
  }
 },
 "nbformat": 4,
 "nbformat_minor": 5
}
