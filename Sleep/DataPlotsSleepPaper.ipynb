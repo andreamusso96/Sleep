{
 "cells": [
  {
   "cell_type": "code",
   "execution_count": 30,
   "id": "initial_id",
   "metadata": {
    "collapsed": true,
    "ExecuteTime": {
     "end_time": "2023-09-14T18:01:37.592015Z",
     "start_time": "2023-09-14T18:01:37.547600Z"
    }
   },
   "outputs": [],
   "source": [
    "import mobile_traffic as mt\n",
    "from datetime import time\n",
    "import noise\n",
    "import numpy as np"
   ]
  },
  {
   "cell_type": "code",
   "execution_count": 31,
   "outputs": [],
   "source": [
    "from Sleep.SessionDistribution import calculate_session_distribution_city"
   ],
   "metadata": {
    "collapsed": false,
    "ExecuteTime": {
     "end_time": "2023-09-14T18:01:37.793945Z",
     "start_time": "2023-09-14T18:01:37.752169Z"
    }
   },
   "id": "53126eb622230df"
  },
  {
   "cell_type": "code",
   "execution_count": 27,
   "outputs": [
    {
     "name": "stdout",
     "output_type": "stream",
     "text": [
      "The autoreload extension is already loaded. To reload it, use:\n",
      "  %reload_ext autoreload\n"
     ]
    }
   ],
   "source": [
    "%load_ext autoreload\n",
    "%autoreload 2"
   ],
   "metadata": {
    "collapsed": false,
    "ExecuteTime": {
     "end_time": "2023-09-14T18:00:22.871192Z",
     "start_time": "2023-09-14T18:00:22.823494Z"
    }
   },
   "id": "6575de19b1d3fda1"
  },
  {
   "cell_type": "code",
   "execution_count": 37,
   "outputs": [],
   "source": [
    "path = '/Users/anmusso/Desktop/PhD/Projects/Current/NetMob/NetMobCode/temp'"
   ],
   "metadata": {
    "collapsed": false,
    "ExecuteTime": {
     "end_time": "2023-09-14T18:06:01.327055Z",
     "start_time": "2023-09-14T18:06:01.279666Z"
    }
   },
   "id": "90c2db74f85e671d"
  },
  {
   "cell_type": "markdown",
   "source": [
    "# Expected Time of Session Data"
   ],
   "metadata": {
    "collapsed": false
   },
   "id": "3895962079ebc1d1"
  },
  {
   "cell_type": "code",
   "execution_count": 66,
   "outputs": [
    {
     "name": "stderr",
     "output_type": "stream",
     "text": [
      "100%|██████████| 77/77 [00:30<00:00,  2.50it/s]\n"
     ]
    }
   ],
   "source": [
    "mobile_traffic_lyon = mt.get_city_traffic_data(traffic_type=mt.TrafficType.USERS, city=mt.City.LYON, geo_data_type=mt.GeoDataType.IRIS)"
   ],
   "metadata": {
    "collapsed": false,
    "ExecuteTime": {
     "end_time": "2023-09-14T18:15:35.472992Z",
     "start_time": "2023-09-14T18:15:00.155552Z"
    }
   },
   "id": "79211184c0781295"
  },
  {
   "cell_type": "code",
   "execution_count": 67,
   "outputs": [],
   "source": [
    "session_distribution_lyon = calculate_session_distribution_city(mobile_traffic_lyon, start=time(21), end=time(3,30), window_smoothing=3)"
   ],
   "metadata": {
    "collapsed": false,
    "ExecuteTime": {
     "end_time": "2023-09-14T18:15:38.128013Z",
     "start_time": "2023-09-14T18:15:35.489543Z"
    }
   },
   "id": "90b38fbff52828a5"
  },
  {
   "cell_type": "code",
   "execution_count": 68,
   "outputs": [],
   "source": [
    "expected_session_time = session_distribution_lyon.expected_time_of_session_by_location()\n",
    "expected_session_time.reset_index(names='tile', inplace=True)"
   ],
   "metadata": {
    "collapsed": false,
    "ExecuteTime": {
     "end_time": "2023-09-14T18:15:38.191956Z",
     "start_time": "2023-09-14T18:15:38.131570Z"
    }
   },
   "id": "3b1e4f3e325aee6b"
  },
  {
   "cell_type": "code",
   "execution_count": 69,
   "outputs": [
    {
     "data": {
      "text/plain": "        tile expected_time\n0  011050000      23:00:00\n1  012380000      23:00:00\n2  012480000      23:00:00\n3  012490101      23:00:00\n4  012490103      23:00:00",
      "text/html": "<div>\n<style scoped>\n    .dataframe tbody tr th:only-of-type {\n        vertical-align: middle;\n    }\n\n    .dataframe tbody tr th {\n        vertical-align: top;\n    }\n\n    .dataframe thead th {\n        text-align: right;\n    }\n</style>\n<table border=\"1\" class=\"dataframe\">\n  <thead>\n    <tr style=\"text-align: right;\">\n      <th></th>\n      <th>tile</th>\n      <th>expected_time</th>\n    </tr>\n  </thead>\n  <tbody>\n    <tr>\n      <th>0</th>\n      <td>011050000</td>\n      <td>23:00:00</td>\n    </tr>\n    <tr>\n      <th>1</th>\n      <td>012380000</td>\n      <td>23:00:00</td>\n    </tr>\n    <tr>\n      <th>2</th>\n      <td>012480000</td>\n      <td>23:00:00</td>\n    </tr>\n    <tr>\n      <th>3</th>\n      <td>012490101</td>\n      <td>23:00:00</td>\n    </tr>\n    <tr>\n      <th>4</th>\n      <td>012490103</td>\n      <td>23:00:00</td>\n    </tr>\n  </tbody>\n</table>\n</div>"
     },
     "execution_count": 69,
     "metadata": {},
     "output_type": "execute_result"
    }
   ],
   "source": [
    "expected_session_time.head()"
   ],
   "metadata": {
    "collapsed": false,
    "ExecuteTime": {
     "end_time": "2023-09-14T18:15:38.251069Z",
     "start_time": "2023-09-14T18:15:38.197166Z"
    }
   },
   "id": "bfed1d4ce9dc3070"
  },
  {
   "cell_type": "code",
   "execution_count": 70,
   "outputs": [],
   "source": [
    "expected_session_time.to_csv(f'{path}/expected_session_time_paris.csv', index=False)"
   ],
   "metadata": {
    "collapsed": false,
    "ExecuteTime": {
     "end_time": "2023-09-14T18:15:38.373071Z",
     "start_time": "2023-09-14T18:15:38.250691Z"
    }
   },
   "id": "ba40298341bf9bba"
  },
  {
   "cell_type": "markdown",
   "source": [
    "# Noise Data"
   ],
   "metadata": {
    "collapsed": false
   },
   "id": "5e1cee70a51b37be"
  },
  {
   "cell_type": "code",
   "execution_count": 61,
   "outputs": [],
   "source": [
    "paris_geo = mt.geo_tile.get_geo_data(city=mt.City.PARIS)\n",
    "paris_geo = paris_geo.iloc[:100]"
   ],
   "metadata": {
    "collapsed": false,
    "ExecuteTime": {
     "end_time": "2023-09-14T18:13:40.967067Z",
     "start_time": "2023-09-14T18:13:40.919597Z"
    }
   },
   "id": "da3ccca97c960412"
  },
  {
   "cell_type": "code",
   "execution_count": 62,
   "outputs": [],
   "source": [
    "noise_estimates = noise.get_noise_estimate(polygons=paris_geo, city=noise.City.PARIS, measurement=noise.Measurement.NIGHT)"
   ],
   "metadata": {
    "collapsed": false,
    "ExecuteTime": {
     "end_time": "2023-09-14T18:13:42.232747Z",
     "start_time": "2023-09-14T18:13:41.097949Z"
    }
   },
   "id": "f9aa0e3da007ebdc"
  },
  {
   "cell_type": "code",
   "execution_count": 63,
   "outputs": [],
   "source": [
    "noise_estimates = noise_estimates['noise_estimate'].to_frame()\n",
    "noise_estimates.reset_index(names='tile', inplace=True)"
   ],
   "metadata": {
    "collapsed": false,
    "ExecuteTime": {
     "end_time": "2023-09-14T18:13:42.269381Z",
     "start_time": "2023-09-14T18:13:42.233866Z"
    }
   },
   "id": "e6d3c35b4c57ad35"
  },
  {
   "cell_type": "code",
   "execution_count": 64,
   "outputs": [
    {
     "data": {
      "text/plain": "   tile  noise_estimate\n0   162            61.0\n1   507            49.0\n2   508            61.0\n3   853            52.0\n4   854            60.0",
      "text/html": "<div>\n<style scoped>\n    .dataframe tbody tr th:only-of-type {\n        vertical-align: middle;\n    }\n\n    .dataframe tbody tr th {\n        vertical-align: top;\n    }\n\n    .dataframe thead th {\n        text-align: right;\n    }\n</style>\n<table border=\"1\" class=\"dataframe\">\n  <thead>\n    <tr style=\"text-align: right;\">\n      <th></th>\n      <th>tile</th>\n      <th>noise_estimate</th>\n    </tr>\n  </thead>\n  <tbody>\n    <tr>\n      <th>0</th>\n      <td>162</td>\n      <td>61.0</td>\n    </tr>\n    <tr>\n      <th>1</th>\n      <td>507</td>\n      <td>49.0</td>\n    </tr>\n    <tr>\n      <th>2</th>\n      <td>508</td>\n      <td>61.0</td>\n    </tr>\n    <tr>\n      <th>3</th>\n      <td>853</td>\n      <td>52.0</td>\n    </tr>\n    <tr>\n      <th>4</th>\n      <td>854</td>\n      <td>60.0</td>\n    </tr>\n  </tbody>\n</table>\n</div>"
     },
     "execution_count": 64,
     "metadata": {},
     "output_type": "execute_result"
    }
   ],
   "source": [
    "noise_estimates.head()"
   ],
   "metadata": {
    "collapsed": false,
    "ExecuteTime": {
     "end_time": "2023-09-14T18:13:42.306449Z",
     "start_time": "2023-09-14T18:13:42.269659Z"
    }
   },
   "id": "3979e93939fdb7c"
  },
  {
   "cell_type": "code",
   "execution_count": 65,
   "outputs": [],
   "source": [
    "noise_estimates.to_csv(f'{path}/noise_estimates_paris_n.csv', index=False)"
   ],
   "metadata": {
    "collapsed": false,
    "ExecuteTime": {
     "end_time": "2023-09-14T18:13:43.848123Z",
     "start_time": "2023-09-14T18:13:43.799144Z"
    }
   },
   "id": "aa1437922788c8f"
  },
  {
   "cell_type": "code",
   "execution_count": null,
   "outputs": [],
   "source": [],
   "metadata": {
    "collapsed": false
   },
   "id": "cbd2e29ac701a7ca"
  }
 ],
 "metadata": {
  "kernelspec": {
   "display_name": "Python 3",
   "language": "python",
   "name": "python3"
  },
  "language_info": {
   "codemirror_mode": {
    "name": "ipython",
    "version": 2
   },
   "file_extension": ".py",
   "mimetype": "text/x-python",
   "name": "python",
   "nbconvert_exporter": "python",
   "pygments_lexer": "ipython2",
   "version": "2.7.6"
  }
 },
 "nbformat": 4,
 "nbformat_minor": 5
}
