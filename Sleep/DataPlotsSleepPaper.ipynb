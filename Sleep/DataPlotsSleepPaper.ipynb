{
 "cells": [
  {
   "cell_type": "code",
   "execution_count": 12,
   "id": "initial_id",
   "metadata": {
    "collapsed": true,
    "ExecuteTime": {
     "end_time": "2023-09-16T13:13:38.929985Z",
     "start_time": "2023-09-16T13:13:38.871592Z"
    }
   },
   "outputs": [],
   "source": [
    "import mobile_traffic as mt\n",
    "from datetime import time\n",
    "import noise\n",
    "import insee\n",
    "import numpy as np\n",
    "import pandas as pd"
   ]
  },
  {
   "cell_type": "code",
   "execution_count": 31,
   "outputs": [],
   "source": [
    "from Sleep.SessionDistribution import calculate_session_distribution_city"
   ],
   "metadata": {
    "collapsed": false,
    "ExecuteTime": {
     "end_time": "2023-09-14T18:01:37.793945Z",
     "start_time": "2023-09-14T18:01:37.752169Z"
    }
   },
   "id": "53126eb622230df"
  },
  {
   "cell_type": "code",
   "execution_count": 2,
   "outputs": [],
   "source": [
    "%load_ext autoreload\n",
    "%autoreload 2"
   ],
   "metadata": {
    "collapsed": false,
    "ExecuteTime": {
     "end_time": "2023-09-16T13:07:03.629142Z",
     "start_time": "2023-09-16T13:07:03.569820Z"
    }
   },
   "id": "6575de19b1d3fda1"
  },
  {
   "cell_type": "code",
   "execution_count": 10,
   "outputs": [],
   "source": [
    "path = '/Users/anmusso/Desktop/PhD/Projects/Current/NetMob/NetMobData/data/FigureData/Sleep'"
   ],
   "metadata": {
    "collapsed": false,
    "ExecuteTime": {
     "end_time": "2023-09-16T13:13:00.321255Z",
     "start_time": "2023-09-16T13:13:00.257693Z"
    }
   },
   "id": "90c2db74f85e671d"
  },
  {
   "cell_type": "markdown",
   "source": [
    "# Expected Time of Session Data"
   ],
   "metadata": {
    "collapsed": false
   },
   "id": "3895962079ebc1d1"
  },
  {
   "cell_type": "code",
   "execution_count": 66,
   "outputs": [
    {
     "name": "stderr",
     "output_type": "stream",
     "text": [
      "100%|██████████| 77/77 [00:30<00:00,  2.50it/s]\n"
     ]
    }
   ],
   "source": [
    "mobile_traffic_lyon = mt.get_city_traffic_data(traffic_type=mt.TrafficType.USERS, city=mt.City.LYON, geo_data_type=mt.GeoDataType.IRIS)"
   ],
   "metadata": {
    "collapsed": false,
    "ExecuteTime": {
     "end_time": "2023-09-14T18:15:35.472992Z",
     "start_time": "2023-09-14T18:15:00.155552Z"
    }
   },
   "id": "79211184c0781295"
  },
  {
   "cell_type": "code",
   "execution_count": 67,
   "outputs": [],
   "source": [
    "session_distribution_lyon = calculate_session_distribution_city(mobile_traffic_lyon, start=time(21), end=time(3,30), window_smoothing=3)"
   ],
   "metadata": {
    "collapsed": false,
    "ExecuteTime": {
     "end_time": "2023-09-14T18:15:38.128013Z",
     "start_time": "2023-09-14T18:15:35.489543Z"
    }
   },
   "id": "90b38fbff52828a5"
  },
  {
   "cell_type": "code",
   "execution_count": 68,
   "outputs": [],
   "source": [
    "expected_session_time = session_distribution_lyon.expected_time_of_session_by_location()\n",
    "expected_session_time.reset_index(names='tile', inplace=True)"
   ],
   "metadata": {
    "collapsed": false,
    "ExecuteTime": {
     "end_time": "2023-09-14T18:15:38.191956Z",
     "start_time": "2023-09-14T18:15:38.131570Z"
    }
   },
   "id": "3b1e4f3e325aee6b"
  },
  {
   "cell_type": "code",
   "execution_count": 69,
   "outputs": [
    {
     "data": {
      "text/plain": "        tile expected_time\n0  011050000      23:00:00\n1  012380000      23:00:00\n2  012480000      23:00:00\n3  012490101      23:00:00\n4  012490103      23:00:00",
      "text/html": "<div>\n<style scoped>\n    .dataframe tbody tr th:only-of-type {\n        vertical-align: middle;\n    }\n\n    .dataframe tbody tr th {\n        vertical-align: top;\n    }\n\n    .dataframe thead th {\n        text-align: right;\n    }\n</style>\n<table border=\"1\" class=\"dataframe\">\n  <thead>\n    <tr style=\"text-align: right;\">\n      <th></th>\n      <th>tile</th>\n      <th>expected_time</th>\n    </tr>\n  </thead>\n  <tbody>\n    <tr>\n      <th>0</th>\n      <td>011050000</td>\n      <td>23:00:00</td>\n    </tr>\n    <tr>\n      <th>1</th>\n      <td>012380000</td>\n      <td>23:00:00</td>\n    </tr>\n    <tr>\n      <th>2</th>\n      <td>012480000</td>\n      <td>23:00:00</td>\n    </tr>\n    <tr>\n      <th>3</th>\n      <td>012490101</td>\n      <td>23:00:00</td>\n    </tr>\n    <tr>\n      <th>4</th>\n      <td>012490103</td>\n      <td>23:00:00</td>\n    </tr>\n  </tbody>\n</table>\n</div>"
     },
     "execution_count": 69,
     "metadata": {},
     "output_type": "execute_result"
    }
   ],
   "source": [
    "expected_session_time.head()"
   ],
   "metadata": {
    "collapsed": false,
    "ExecuteTime": {
     "end_time": "2023-09-14T18:15:38.251069Z",
     "start_time": "2023-09-14T18:15:38.197166Z"
    }
   },
   "id": "bfed1d4ce9dc3070"
  },
  {
   "cell_type": "code",
   "execution_count": 70,
   "outputs": [],
   "source": [
    "expected_session_time.to_csv(f'{path}/expected_session_time_paris.csv', index=False)"
   ],
   "metadata": {
    "collapsed": false,
    "ExecuteTime": {
     "end_time": "2023-09-14T18:15:38.373071Z",
     "start_time": "2023-09-14T18:15:38.250691Z"
    }
   },
   "id": "ba40298341bf9bba"
  },
  {
   "cell_type": "markdown",
   "source": [
    "# Noise Data"
   ],
   "metadata": {
    "collapsed": false
   },
   "id": "5e1cee70a51b37be"
  },
  {
   "cell_type": "code",
   "execution_count": 61,
   "outputs": [],
   "source": [
    "paris_geo = mt.geo_tile.get_geo_data(city=mt.City.PARIS)\n",
    "paris_geo = paris_geo.iloc[:100]"
   ],
   "metadata": {
    "collapsed": false,
    "ExecuteTime": {
     "end_time": "2023-09-14T18:13:40.967067Z",
     "start_time": "2023-09-14T18:13:40.919597Z"
    }
   },
   "id": "da3ccca97c960412"
  },
  {
   "cell_type": "code",
   "execution_count": 62,
   "outputs": [],
   "source": [
    "noise_estimates = noise.get_noise_estimate(polygons=paris_geo, city=noise.City.PARIS, measurement=noise.Measurement.NIGHT)"
   ],
   "metadata": {
    "collapsed": false,
    "ExecuteTime": {
     "end_time": "2023-09-14T18:13:42.232747Z",
     "start_time": "2023-09-14T18:13:41.097949Z"
    }
   },
   "id": "f9aa0e3da007ebdc"
  },
  {
   "cell_type": "code",
   "execution_count": 63,
   "outputs": [],
   "source": [
    "noise_estimates = noise_estimates['noise_estimate'].to_frame()\n",
    "noise_estimates.reset_index(names='tile', inplace=True)"
   ],
   "metadata": {
    "collapsed": false,
    "ExecuteTime": {
     "end_time": "2023-09-14T18:13:42.269381Z",
     "start_time": "2023-09-14T18:13:42.233866Z"
    }
   },
   "id": "e6d3c35b4c57ad35"
  },
  {
   "cell_type": "code",
   "execution_count": 64,
   "outputs": [
    {
     "data": {
      "text/plain": "   tile  noise_estimate\n0   162            61.0\n1   507            49.0\n2   508            61.0\n3   853            52.0\n4   854            60.0",
      "text/html": "<div>\n<style scoped>\n    .dataframe tbody tr th:only-of-type {\n        vertical-align: middle;\n    }\n\n    .dataframe tbody tr th {\n        vertical-align: top;\n    }\n\n    .dataframe thead th {\n        text-align: right;\n    }\n</style>\n<table border=\"1\" class=\"dataframe\">\n  <thead>\n    <tr style=\"text-align: right;\">\n      <th></th>\n      <th>tile</th>\n      <th>noise_estimate</th>\n    </tr>\n  </thead>\n  <tbody>\n    <tr>\n      <th>0</th>\n      <td>162</td>\n      <td>61.0</td>\n    </tr>\n    <tr>\n      <th>1</th>\n      <td>507</td>\n      <td>49.0</td>\n    </tr>\n    <tr>\n      <th>2</th>\n      <td>508</td>\n      <td>61.0</td>\n    </tr>\n    <tr>\n      <th>3</th>\n      <td>853</td>\n      <td>52.0</td>\n    </tr>\n    <tr>\n      <th>4</th>\n      <td>854</td>\n      <td>60.0</td>\n    </tr>\n  </tbody>\n</table>\n</div>"
     },
     "execution_count": 64,
     "metadata": {},
     "output_type": "execute_result"
    }
   ],
   "source": [
    "noise_estimates.head()"
   ],
   "metadata": {
    "collapsed": false,
    "ExecuteTime": {
     "end_time": "2023-09-14T18:13:42.306449Z",
     "start_time": "2023-09-14T18:13:42.269659Z"
    }
   },
   "id": "3979e93939fdb7c"
  },
  {
   "cell_type": "code",
   "execution_count": 65,
   "outputs": [],
   "source": [
    "noise_estimates.to_csv(f'{path}/noise_estimates_paris_n.csv', index=False)"
   ],
   "metadata": {
    "collapsed": false,
    "ExecuteTime": {
     "end_time": "2023-09-14T18:13:43.848123Z",
     "start_time": "2023-09-14T18:13:43.799144Z"
    }
   },
   "id": "aa1437922788c8f"
  },
  {
   "cell_type": "markdown",
   "source": [
    "# Admin Data"
   ],
   "metadata": {
    "collapsed": false
   },
   "id": "e3d5d9ad82fe344c"
  },
  {
   "cell_type": "code",
   "execution_count": 122,
   "outputs": [],
   "source": [
    "paris_geo = mt.geo_tile.get_geo_data(city=mt.City.PARIS)"
   ],
   "metadata": {
    "collapsed": false,
    "ExecuteTime": {
     "end_time": "2023-09-16T17:10:43.123487Z",
     "start_time": "2023-09-16T17:10:42.583294Z"
    }
   },
   "id": "f3a9977d4b701e"
  },
  {
   "cell_type": "code",
   "execution_count": 123,
   "outputs": [],
   "source": [
    "matching_tile_mobile_traffic_tile_insee = insee.tile.get_matching_tiles(polygons=paris_geo, return_intersection_area=True)"
   ],
   "metadata": {
    "collapsed": false,
    "ExecuteTime": {
     "end_time": "2023-09-16T17:11:05.089056Z",
     "start_time": "2023-09-16T17:10:43.139063Z"
    }
   },
   "id": "e89c83a95584b053"
  },
  {
   "cell_type": "code",
   "execution_count": 124,
   "outputs": [
    {
     "data": {
      "text/plain": "                                               geometry   \ntile                                                      \n162   POLYGON ((653218.968 6838547.550, 653219.807 6...  \\\n162   POLYGON ((653218.968 6838547.550, 653219.807 6...   \n507   POLYGON ((653119.877 6838648.320, 653120.716 6...   \n507   POLYGON ((653119.877 6838648.320, 653120.716 6...   \n508   POLYGON ((653219.807 6838647.481, 653220.646 6...   \n\n                                tile  intersection_area  \ntile                                                     \n162   CRS3035RES200mN2866000E3759200        6813.063953  \n162   CRS3035RES200mN2866000E3759400        3173.721549  \n507   CRS3035RES200mN2866000E3759200        8319.845685  \n507   CRS3035RES200mN2866200E3759200        1666.941405  \n508   CRS3035RES200mN2866000E3759200        5331.103238  ",
      "text/html": "<div>\n<style scoped>\n    .dataframe tbody tr th:only-of-type {\n        vertical-align: middle;\n    }\n\n    .dataframe tbody tr th {\n        vertical-align: top;\n    }\n\n    .dataframe thead th {\n        text-align: right;\n    }\n</style>\n<table border=\"1\" class=\"dataframe\">\n  <thead>\n    <tr style=\"text-align: right;\">\n      <th></th>\n      <th>geometry</th>\n      <th>tile</th>\n      <th>intersection_area</th>\n    </tr>\n    <tr>\n      <th>tile</th>\n      <th></th>\n      <th></th>\n      <th></th>\n    </tr>\n  </thead>\n  <tbody>\n    <tr>\n      <th>162</th>\n      <td>POLYGON ((653218.968 6838547.550, 653219.807 6...</td>\n      <td>CRS3035RES200mN2866000E3759200</td>\n      <td>6813.063953</td>\n    </tr>\n    <tr>\n      <th>162</th>\n      <td>POLYGON ((653218.968 6838547.550, 653219.807 6...</td>\n      <td>CRS3035RES200mN2866000E3759400</td>\n      <td>3173.721549</td>\n    </tr>\n    <tr>\n      <th>507</th>\n      <td>POLYGON ((653119.877 6838648.320, 653120.716 6...</td>\n      <td>CRS3035RES200mN2866000E3759200</td>\n      <td>8319.845685</td>\n    </tr>\n    <tr>\n      <th>507</th>\n      <td>POLYGON ((653119.877 6838648.320, 653120.716 6...</td>\n      <td>CRS3035RES200mN2866200E3759200</td>\n      <td>1666.941405</td>\n    </tr>\n    <tr>\n      <th>508</th>\n      <td>POLYGON ((653219.807 6838647.481, 653220.646 6...</td>\n      <td>CRS3035RES200mN2866000E3759200</td>\n      <td>5331.103238</td>\n    </tr>\n  </tbody>\n</table>\n</div>"
     },
     "execution_count": 124,
     "metadata": {},
     "output_type": "execute_result"
    }
   ],
   "source": [
    "matching_tile_mobile_traffic_tile_insee.head()"
   ],
   "metadata": {
    "collapsed": false,
    "ExecuteTime": {
     "end_time": "2023-09-16T17:11:05.158739Z",
     "start_time": "2023-09-16T17:11:05.091651Z"
    }
   },
   "id": "b0ab56a99eec3fae"
  },
  {
   "cell_type": "code",
   "execution_count": 125,
   "outputs": [],
   "source": [
    "matching_tile_mobile_traffic_tile_insee.rename(columns={'tile': 'tile_insee'}, inplace=True)\n",
    "matching_tile_mobile_traffic_tile_insee.reset_index(names='tile_mobile_traffic', inplace=True)\n",
    "matching_tile_mobile_traffic_tile_insee = matching_tile_mobile_traffic_tile_insee[['tile_mobile_traffic', 'tile_insee', 'intersection_area']]"
   ],
   "metadata": {
    "collapsed": false,
    "ExecuteTime": {
     "end_time": "2023-09-16T17:11:05.287028Z",
     "start_time": "2023-09-16T17:11:05.154650Z"
    }
   },
   "id": "35e8f45e9bf16668"
  },
  {
   "cell_type": "code",
   "execution_count": 11,
   "outputs": [],
   "source": [
    "matching_tile_mobile_traffic_tile_insee.to_csv(f'{path}/matching_tile_mobile_traffic_tile_insee_paris.csv', index=False)"
   ],
   "metadata": {
    "collapsed": false,
    "ExecuteTime": {
     "end_time": "2023-09-16T13:13:05.633553Z",
     "start_time": "2023-09-16T13:13:05.179925Z"
    }
   },
   "id": "deeb3f9013ca47ff"
  },
  {
   "cell_type": "markdown",
   "source": [
    "# Merge of three datasets at the insee tile level"
   ],
   "metadata": {
    "collapsed": false
   },
   "id": "5665b4794eb2fa23"
  },
  {
   "cell_type": "code",
   "execution_count": 126,
   "outputs": [],
   "source": [
    "from datetime import datetime"
   ],
   "metadata": {
    "collapsed": false,
    "ExecuteTime": {
     "end_time": "2023-09-16T17:11:05.287560Z",
     "start_time": "2023-09-16T17:11:05.233339Z"
    }
   },
   "id": "e4b1c4c13d8aad37"
  },
  {
   "cell_type": "code",
   "execution_count": 141,
   "outputs": [],
   "source": [
    "expected_session_time = pd.read_csv(f'{path}/expected_session_time_paris_start_21.csv')"
   ],
   "metadata": {
    "collapsed": false,
    "ExecuteTime": {
     "end_time": "2023-09-16T17:12:05.015235Z",
     "start_time": "2023-09-16T17:12:04.934474Z"
    }
   },
   "id": "16037a157514fcd4"
  },
  {
   "cell_type": "code",
   "execution_count": 142,
   "outputs": [],
   "source": [
    "noise_estimates = pd.read_csv(f'{path}/noise_estimates_paris_n.csv')"
   ],
   "metadata": {
    "collapsed": false,
    "ExecuteTime": {
     "end_time": "2023-09-16T17:12:05.190007Z",
     "start_time": "2023-09-16T17:12:05.130538Z"
    }
   },
   "id": "e6acedd906cf0e43"
  },
  {
   "cell_type": "code",
   "execution_count": 143,
   "outputs": [],
   "source": [
    "matching_tile_mobile_traffic_tile_insee = pd.read_csv(f'{path}/matching_tile_mobile_traffic_tile_insee_paris.csv')"
   ],
   "metadata": {
    "collapsed": false,
    "ExecuteTime": {
     "end_time": "2023-09-16T17:12:05.431213Z",
     "start_time": "2023-09-16T17:12:05.296476Z"
    }
   },
   "id": "4f62e9b060a586ef"
  },
  {
   "cell_type": "code",
   "execution_count": 144,
   "outputs": [],
   "source": [
    "insee_data = insee.tile.get_data(tile=list(matching_tile_mobile_traffic_tile_insee['tile_insee'].unique()), var_name=['Ind', 'Ind_snv'])\n",
    "insee_data.reset_index(names='tile_insee', inplace=True)"
   ],
   "metadata": {
    "collapsed": false,
    "ExecuteTime": {
     "end_time": "2023-09-16T17:12:10.891699Z",
     "start_time": "2023-09-16T17:12:06.815383Z"
    }
   },
   "id": "cd7c448c7fa5472b"
  },
  {
   "cell_type": "code",
   "execution_count": 145,
   "outputs": [],
   "source": [
    "full_data = pd.merge(expected_session_time, noise_estimates, on='tile')\n",
    "full_data = pd.merge(full_data, matching_tile_mobile_traffic_tile_insee, left_on='tile', right_on='tile_mobile_traffic')\n",
    "full_data.drop(columns=['tile'], inplace=True)\n",
    "full_data = pd.merge(full_data, insee_data, left_on='tile_insee', right_on='tile_insee')"
   ],
   "metadata": {
    "collapsed": false,
    "ExecuteTime": {
     "end_time": "2023-09-16T17:12:11.113348Z",
     "start_time": "2023-09-16T17:12:10.987889Z"
    }
   },
   "id": "adc3c719c008ba0c"
  },
  {
   "cell_type": "code",
   "execution_count": 146,
   "outputs": [],
   "source": [
    "def aggregation_function(x):\n",
    "    area = full_data.loc[x.index, 'intersection_area'].values\n",
    "    decibels = x.values\n",
    "    decibels_to_linear_scale = np.power(10, decibels / 10)\n",
    "    weighted_average_decibels_linear_scale = np.average(decibels_to_linear_scale, weights=area)\n",
    "    average_decibels = 10 * np.log10(weighted_average_decibels_linear_scale)\n",
    "    rounded_average_decibels = np.round(average_decibels, decimals=0)\n",
    "    return rounded_average_decibels"
   ],
   "metadata": {
    "collapsed": false,
    "ExecuteTime": {
     "end_time": "2023-09-16T17:12:12.822943Z",
     "start_time": "2023-09-16T17:12:12.736360Z"
    }
   },
   "id": "367f51e1064c2e6"
  },
  {
   "cell_type": "code",
   "execution_count": 147,
   "outputs": [],
   "source": [
    "def weighted_mean(x):\n",
    "    area = full_data.loc[x.index, 'intersection_area'].values\n",
    "    return np.average(x.values, weights=area)"
   ],
   "metadata": {
    "collapsed": false,
    "ExecuteTime": {
     "end_time": "2023-09-16T17:12:13.043383Z",
     "start_time": "2023-09-16T17:12:12.982907Z"
    }
   },
   "id": "7ba98d1543c93acb"
  },
  {
   "cell_type": "code",
   "execution_count": 148,
   "outputs": [],
   "source": [
    "aggregated_full_data = full_data.groupby('tile_insee').agg({'expected_time_number': weighted_mean, 'Ind': 'first', 'Ind_snv': 'first', 'noise_estimate': aggregation_function})"
   ],
   "metadata": {
    "collapsed": false,
    "ExecuteTime": {
     "end_time": "2023-09-16T17:12:25.988646Z",
     "start_time": "2023-09-16T17:12:17.000106Z"
    }
   },
   "id": "8d8afa98fc7fd2fd"
  },
  {
   "cell_type": "code",
   "execution_count": 149,
   "outputs": [],
   "source": [
    "ts = pd.date_range(start=datetime(2019, 1, 1, 21), end=datetime(2019, 1, 2, 3, 30), freq='1min')\n",
    "times = pd.date_range(start=datetime(2019, 1, 1, 21), end=datetime(2019, 1, 2, 3, 30), freq='15min')\n",
    "multiplier = len(ts) / len(times)\n",
    "def float_to_time(x):\n",
    "    index = np.round(x * multiplier).astype(int)\n",
    "    return ts[index].time()"
   ],
   "metadata": {
    "collapsed": false,
    "ExecuteTime": {
     "end_time": "2023-09-16T17:12:57.102922Z",
     "start_time": "2023-09-16T17:12:57.050574Z"
    }
   },
   "id": "92dfd8ce36af2c4c"
  },
  {
   "cell_type": "code",
   "execution_count": 150,
   "outputs": [],
   "source": [
    "aggregated_full_data['expected_time'] = aggregated_full_data['expected_time_number'].apply(float_to_time)"
   ],
   "metadata": {
    "collapsed": false,
    "ExecuteTime": {
     "end_time": "2023-09-16T17:13:00.769396Z",
     "start_time": "2023-09-16T17:13:00.559706Z"
    }
   },
   "id": "4cf4bdcdfdec071c"
  },
  {
   "cell_type": "code",
   "execution_count": 151,
   "outputs": [
    {
     "data": {
      "text/plain": "                                expected_time_number    Ind    Ind_snv   \ntile_insee                                                               \nCRS3035RES200mN2866000E3759200              8.624030   16.0   355102.5  \\\nCRS3035RES200mN2866000E3759400              8.626265  206.0  4433911.8   \nCRS3035RES200mN2866200E3759200              8.669638  139.0  3301313.8   \nCRS3035RES200mN2866200E3759400              8.715428  352.0  5711361.1   \nCRS3035RES200mN2866200E3759600              8.721309  498.5  7033760.2   \n\n                                noise_estimate expected_time  \ntile_insee                                                    \nCRS3035RES200mN2866000E3759200            59.0      23:05:00  \nCRS3035RES200mN2866000E3759400            61.0      23:05:00  \nCRS3035RES200mN2866200E3759200            54.0      23:06:00  \nCRS3035RES200mN2866200E3759400            61.0      23:06:00  \nCRS3035RES200mN2866200E3759600            62.0      23:06:00  ",
      "text/html": "<div>\n<style scoped>\n    .dataframe tbody tr th:only-of-type {\n        vertical-align: middle;\n    }\n\n    .dataframe tbody tr th {\n        vertical-align: top;\n    }\n\n    .dataframe thead th {\n        text-align: right;\n    }\n</style>\n<table border=\"1\" class=\"dataframe\">\n  <thead>\n    <tr style=\"text-align: right;\">\n      <th></th>\n      <th>expected_time_number</th>\n      <th>Ind</th>\n      <th>Ind_snv</th>\n      <th>noise_estimate</th>\n      <th>expected_time</th>\n    </tr>\n    <tr>\n      <th>tile_insee</th>\n      <th></th>\n      <th></th>\n      <th></th>\n      <th></th>\n      <th></th>\n    </tr>\n  </thead>\n  <tbody>\n    <tr>\n      <th>CRS3035RES200mN2866000E3759200</th>\n      <td>8.624030</td>\n      <td>16.0</td>\n      <td>355102.5</td>\n      <td>59.0</td>\n      <td>23:05:00</td>\n    </tr>\n    <tr>\n      <th>CRS3035RES200mN2866000E3759400</th>\n      <td>8.626265</td>\n      <td>206.0</td>\n      <td>4433911.8</td>\n      <td>61.0</td>\n      <td>23:05:00</td>\n    </tr>\n    <tr>\n      <th>CRS3035RES200mN2866200E3759200</th>\n      <td>8.669638</td>\n      <td>139.0</td>\n      <td>3301313.8</td>\n      <td>54.0</td>\n      <td>23:06:00</td>\n    </tr>\n    <tr>\n      <th>CRS3035RES200mN2866200E3759400</th>\n      <td>8.715428</td>\n      <td>352.0</td>\n      <td>5711361.1</td>\n      <td>61.0</td>\n      <td>23:06:00</td>\n    </tr>\n    <tr>\n      <th>CRS3035RES200mN2866200E3759600</th>\n      <td>8.721309</td>\n      <td>498.5</td>\n      <td>7033760.2</td>\n      <td>62.0</td>\n      <td>23:06:00</td>\n    </tr>\n  </tbody>\n</table>\n</div>"
     },
     "execution_count": 151,
     "metadata": {},
     "output_type": "execute_result"
    }
   ],
   "source": [
    "aggregated_full_data.head()"
   ],
   "metadata": {
    "collapsed": false,
    "ExecuteTime": {
     "end_time": "2023-09-16T17:13:07.592056Z",
     "start_time": "2023-09-16T17:13:07.539113Z"
    }
   },
   "id": "2390eed65516d49"
  },
  {
   "cell_type": "code",
   "execution_count": 152,
   "outputs": [],
   "source": [
    "aggregated_full_data.reset_index(names='tile_insee', inplace=True)"
   ],
   "metadata": {
    "collapsed": false,
    "ExecuteTime": {
     "end_time": "2023-09-16T17:13:17.132649Z",
     "start_time": "2023-09-16T17:13:17.082936Z"
    }
   },
   "id": "5a52f6643dd87a62"
  },
  {
   "cell_type": "code",
   "execution_count": 153,
   "outputs": [],
   "source": [
    "aggregated_full_data.to_csv(f'{path}/aggregated_full_data_paris_insee_tile.csv', index=False)"
   ],
   "metadata": {
    "collapsed": false,
    "ExecuteTime": {
     "end_time": "2023-09-16T17:13:19.804138Z",
     "start_time": "2023-09-16T17:13:19.667291Z"
    }
   },
   "id": "772f3ad57e09d407"
  },
  {
   "cell_type": "code",
   "execution_count": null,
   "outputs": [],
   "source": [],
   "metadata": {
    "collapsed": false
   },
   "id": "c9b44a42cc1eb4e8"
  }
 ],
 "metadata": {
  "kernelspec": {
   "display_name": "Python 3",
   "language": "python",
   "name": "python3"
  },
  "language_info": {
   "codemirror_mode": {
    "name": "ipython",
    "version": 2
   },
   "file_extension": ".py",
   "mimetype": "text/x-python",
   "name": "python",
   "nbconvert_exporter": "python",
   "pygments_lexer": "ipython2",
   "version": "2.7.6"
  }
 },
 "nbformat": 4,
 "nbformat_minor": 5
}
