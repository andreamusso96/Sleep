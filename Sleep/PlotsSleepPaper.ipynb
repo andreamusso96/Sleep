{
 "cells": [
  {
   "cell_type": "code",
   "execution_count": 201,
   "id": "initial_id",
   "metadata": {
    "collapsed": true,
    "ExecuteTime": {
     "end_time": "2023-09-16T17:16:50.482118Z",
     "start_time": "2023-09-16T17:16:50.464129Z"
    }
   },
   "outputs": [],
   "source": [
    "import pandas as pd\n",
    "import plotly.graph_objs as go\n",
    "from datetime import time, timedelta, datetime\n",
    "import mobile_traffic as mt\n",
    "import numpy as np\n",
    "import insee\n",
    "import geopandas as gpd\n",
    "from tqdm import tqdm\n",
    "import webbrowser"
   ]
  },
  {
   "cell_type": "code",
   "execution_count": 179,
   "outputs": [],
   "source": [
    "path = '/Users/anmusso/Desktop/PhD/Projects/Current/NetMob/NetMobData/data/FigureData/Sleep'"
   ],
   "metadata": {
    "collapsed": false,
    "ExecuteTime": {
     "end_time": "2023-09-16T17:13:24.723225Z",
     "start_time": "2023-09-16T17:13:24.706061Z"
    }
   },
   "id": "c24ac7c7b1ce3842"
  },
  {
   "cell_type": "code",
   "execution_count": 180,
   "outputs": [],
   "source": [
    "data = pd.read_csv(path + '/aggregated_full_data_paris_insee_tile.csv')"
   ],
   "metadata": {
    "collapsed": false,
    "ExecuteTime": {
     "end_time": "2023-09-16T17:13:24.980685Z",
     "start_time": "2023-09-16T17:13:24.932842Z"
    }
   },
   "id": "302c9a53e6ebec72"
  },
  {
   "cell_type": "code",
   "execution_count": 181,
   "outputs": [],
   "source": [
    "data.dropna(inplace=True)"
   ],
   "metadata": {
    "collapsed": false,
    "ExecuteTime": {
     "end_time": "2023-09-16T17:13:25.685389Z",
     "start_time": "2023-09-16T17:13:25.669434Z"
    }
   },
   "id": "7dbab7364f83d709"
  },
  {
   "cell_type": "code",
   "execution_count": 182,
   "outputs": [],
   "source": [
    "geometry = insee.tile.get_data(tile=data['tile_insee'].unique(), var_name='geometry')"
   ],
   "metadata": {
    "collapsed": false,
    "ExecuteTime": {
     "end_time": "2023-09-16T17:13:32.817921Z",
     "start_time": "2023-09-16T17:13:26.953800Z"
    }
   },
   "id": "11cbbdd48fd4d396"
  },
  {
   "cell_type": "code",
   "execution_count": 183,
   "outputs": [],
   "source": [
    "geometry.reset_index(names='tile_insee', inplace=True)"
   ],
   "metadata": {
    "collapsed": false,
    "ExecuteTime": {
     "end_time": "2023-09-16T17:13:32.819997Z",
     "start_time": "2023-09-16T17:13:32.814739Z"
    }
   },
   "id": "8f7ccbdea75d1922"
  },
  {
   "cell_type": "code",
   "execution_count": 184,
   "outputs": [],
   "source": [
    "data = data.merge(geometry, on='tile_insee')"
   ],
   "metadata": {
    "collapsed": false,
    "ExecuteTime": {
     "end_time": "2023-09-16T17:13:32.854893Z",
     "start_time": "2023-09-16T17:13:32.831089Z"
    }
   },
   "id": "570ba9048bf91138"
  },
  {
   "cell_type": "code",
   "execution_count": 185,
   "outputs": [],
   "source": [
    "data['centroid'] = data['geometry'].apply(lambda x: x.centroid)"
   ],
   "metadata": {
    "collapsed": false,
    "ExecuteTime": {
     "end_time": "2023-09-16T17:13:32.939888Z",
     "start_time": "2023-09-16T17:13:32.848756Z"
    }
   },
   "id": "51e29ed0a7293fa"
  },
  {
   "cell_type": "code",
   "execution_count": 186,
   "outputs": [],
   "source": [
    "data = gpd.GeoDataFrame(data, geometry='geometry')\n",
    "data.to_crs(epsg=2154, inplace=True)"
   ],
   "metadata": {
    "collapsed": false,
    "ExecuteTime": {
     "end_time": "2023-09-16T17:13:32.952496Z",
     "start_time": "2023-09-16T17:13:32.940139Z"
    }
   },
   "id": "ad33d0e193da533c"
  },
  {
   "cell_type": "code",
   "execution_count": 227,
   "outputs": [],
   "source": [
    "def get_matching(df: pd.DataFrame, geo_var: str, treatment: str, outcome: str, high: float, low: float, buffer_size: int):\n",
    "    high_var = df.loc[df[treatment] > high][[geo_var, 'centroid', treatment, outcome]]\n",
    "    high_var = gpd.GeoDataFrame(high_var, geometry='centroid')\n",
    "    high_var['buffer'] = high_var['centroid'].apply(lambda x: x.buffer(buffer_size))\n",
    "    high_var.set_geometry('buffer', inplace=True)\n",
    "    \n",
    "    low_var = df.loc[df[treatment] < low][[geo_var, 'centroid', treatment, outcome]]\n",
    "    low_var = gpd.GeoDataFrame(low_var, geometry='centroid')\n",
    "    \n",
    "    match_high_var_with_nearby_low_var_tiles = gpd.sjoin(high_var, low_var, predicate='intersects', lsuffix='high', rsuffix='low')\n",
    "    matching_high_low_var = match_high_var_with_nearby_low_var_tiles[[f'{geo_var}_high', f'{treatment}_high', f'{outcome}_high', f'{geo_var}_low', f'{treatment}_low', f'{outcome}_low']]\n",
    "    return matching_high_low_var"
   ],
   "metadata": {
    "collapsed": false,
    "ExecuteTime": {
     "end_time": "2023-09-16T17:24:00.139755Z",
     "start_time": "2023-09-16T17:24:00.115830Z"
    }
   },
   "id": "2921569c2353c85b"
  },
  {
   "cell_type": "code",
   "execution_count": 228,
   "outputs": [],
   "source": [
    "def plot_bars(m: pd.DataFrame, treatment: str, outcome: str):\n",
    "    fig = go.Figure()\n",
    "    diff_treatment = (m[f'{treatment}_high'] - m[f'{treatment}_low']).mean()\n",
    "    std_treatment = (m[f'{treatment}_high'] - m[f'{treatment}_low']).std()\n",
    "    diff_outcome = (m[f'{outcome}_high'] - m[f'{outcome}_low']).mean()\n",
    "    std_outcome = (m[f'{outcome}_high'] - m[f'{outcome}_low']).std()\n",
    "    x = [treatment, outcome]\n",
    "    y = [diff_treatment / std_treatment, diff_outcome / std_outcome]\n",
    "    bar_trace = go.Bar(x=x, y=y)\n",
    "    fig.add_trace(bar_trace)\n",
    "    fig.update_layout(title=f'Expected time in high and low {treatment} tiles', yaxis_title='Difference')\n",
    "    fig.show(renderer='browser')"
   ],
   "metadata": {
    "collapsed": false,
    "ExecuteTime": {
     "end_time": "2023-09-16T17:25:00.621838Z",
     "start_time": "2023-09-16T17:25:00.605350Z"
    }
   },
   "id": "4666664091f833dc"
  },
  {
   "cell_type": "code",
   "execution_count": 229,
   "outputs": [],
   "source": [
    "def matching_to_long_format(m: pd.DataFrame, geo_var: str, treatment: str, outcome: str):\n",
    "    m_high = m[[f'{geo_var}_high', f'{treatment}_high', f'{outcome}_high']].copy()\n",
    "    m_high.columns = [geo_var, treatment, outcome]\n",
    "    m_high['type'] = 'high'\n",
    "    m_low = matching[[f'{geo_var}_low', f'{treatment}_low', f'{outcome}_low']].copy()\n",
    "    m_low.columns = [geo_var, treatment, outcome]\n",
    "    m_low['type'] = 'low'\n",
    "    m_long_format = pd.concat([m_high, m_low])\n",
    "    return m_long_format"
   ],
   "metadata": {
    "collapsed": false,
    "ExecuteTime": {
     "end_time": "2023-09-16T17:25:01.203715Z",
     "start_time": "2023-09-16T17:25:01.184431Z"
    }
   },
   "id": "381e17685312e974"
  },
  {
   "cell_type": "code",
   "execution_count": 230,
   "outputs": [],
   "source": [
    "def plot_map(df, column, legend=True, tiles=\"CartoDB positron\"):\n",
    "    path_map = '/Users/anmusso/Desktop/PhD/Projects/Current/NetMob/NetMobCode/temp/map_matching.html'\n",
    "    html_map = df.explore(column=column, legend=legend, tiles=tiles)\n",
    "    html_map.save(path_map)\n",
    "    webbrowser.open(f'file://{path_map}')"
   ],
   "metadata": {
    "collapsed": false,
    "ExecuteTime": {
     "end_time": "2023-09-16T17:25:02.108315Z",
     "start_time": "2023-09-16T17:25:02.084490Z"
    }
   },
   "id": "a1661dc356160967"
  },
  {
   "cell_type": "code",
   "execution_count": 248,
   "outputs": [],
   "source": [
    "data = data.loc[data['Ind'] > 1000]"
   ],
   "metadata": {
    "collapsed": false,
    "ExecuteTime": {
     "end_time": "2023-09-16T17:27:35.008019Z",
     "start_time": "2023-09-16T17:27:34.985168Z"
    }
   },
   "id": "5bf1f859836c376"
  },
  {
   "cell_type": "code",
   "execution_count": 249,
   "outputs": [],
   "source": [
    "matching = get_matching(data, geo_var='tile_insee', treatment='noise_estimate', outcome='expected_time_number', high=60, low=50, buffer_size=500)"
   ],
   "metadata": {
    "collapsed": false,
    "ExecuteTime": {
     "end_time": "2023-09-16T17:27:35.235227Z",
     "start_time": "2023-09-16T17:27:35.200755Z"
    }
   },
   "id": "765e983ffa329ef0"
  },
  {
   "cell_type": "code",
   "execution_count": 250,
   "outputs": [],
   "source": [
    "matching_long = matching_to_long_format(matching, geo_var='tile_insee', treatment='noise_estimate', outcome='expected_time_number')\n",
    "matching_long = matching_long.merge(geometry, on='tile_insee')\n",
    "matching_long = gpd.GeoDataFrame(matching_long, geometry='geometry')"
   ],
   "metadata": {
    "collapsed": false,
    "ExecuteTime": {
     "end_time": "2023-09-16T17:27:35.372016Z",
     "start_time": "2023-09-16T17:27:35.356861Z"
    }
   },
   "id": "1388df4f392c6201"
  },
  {
   "cell_type": "code",
   "execution_count": 251,
   "outputs": [],
   "source": [
    "plot_bars(matching, treatment='noise_estimate', outcome='expected_time_number')"
   ],
   "metadata": {
    "collapsed": false,
    "ExecuteTime": {
     "end_time": "2023-09-16T17:27:35.782728Z",
     "start_time": "2023-09-16T17:27:35.522962Z"
    }
   },
   "id": "6f453be006f0d16d"
  },
  {
   "cell_type": "code",
   "execution_count": 252,
   "outputs": [],
   "source": [
    "plot_map(matching_long, column='type')"
   ],
   "metadata": {
    "collapsed": false,
    "ExecuteTime": {
     "end_time": "2023-09-16T17:27:41.018968Z",
     "start_time": "2023-09-16T17:27:40.714963Z"
    }
   },
   "id": "9a8fd58f45020746"
  },
  {
   "cell_type": "code",
   "execution_count": null,
   "outputs": [],
   "source": [],
   "metadata": {
    "collapsed": false
   },
   "id": "ecf3c8418a88860e"
  },
  {
   "cell_type": "code",
   "execution_count": 86,
   "outputs": [],
   "source": [
    "noise = pd.read_csv(path + '/noise_estimates_paris_.csv')"
   ],
   "metadata": {
    "collapsed": false,
    "ExecuteTime": {
     "end_time": "2023-09-16T16:24:34.357856Z",
     "start_time": "2023-09-16T16:24:34.336026Z"
    }
   },
   "id": "1eaec1e21c66e78b"
  },
  {
   "cell_type": "code",
   "execution_count": 130,
   "outputs": [],
   "source": [
    "session = pd.read_csv(path + '/expected_session_time_paris_start_21.csv')"
   ],
   "metadata": {
    "collapsed": false,
    "ExecuteTime": {
     "end_time": "2023-09-16T17:00:34.804116Z",
     "start_time": "2023-09-16T17:00:34.750458Z"
    }
   },
   "id": "9f49e1194a504e60"
  },
  {
   "cell_type": "code",
   "execution_count": 131,
   "outputs": [],
   "source": [
    "tile_geo = mt.geo_tile.get_geo_data(city=mt.City.PARIS)"
   ],
   "metadata": {
    "collapsed": false,
    "ExecuteTime": {
     "end_time": "2023-09-16T17:00:35.029050Z",
     "start_time": "2023-09-16T17:00:35.004831Z"
    }
   },
   "id": "45ad69809d6744e6"
  },
  {
   "cell_type": "code",
   "execution_count": 132,
   "outputs": [],
   "source": [
    "data1 = noise.merge(session, on='tile')\n",
    "data1 = data1.merge(tile_geo.reset_index(names='tile'), on='tile')"
   ],
   "metadata": {
    "collapsed": false,
    "ExecuteTime": {
     "end_time": "2023-09-16T17:00:35.275438Z",
     "start_time": "2023-09-16T17:00:35.177883Z"
    }
   },
   "id": "3d2cc7bda6253335"
  },
  {
   "cell_type": "code",
   "execution_count": 133,
   "outputs": [],
   "source": [
    "data1 = gpd.GeoDataFrame(data1, geometry='geometry')\n",
    "data1.to_crs(epsg=2154, inplace=True)"
   ],
   "metadata": {
    "collapsed": false,
    "ExecuteTime": {
     "end_time": "2023-09-16T17:00:35.506226Z",
     "start_time": "2023-09-16T17:00:35.328768Z"
    }
   },
   "id": "94373ac93df8ddf5"
  },
  {
   "cell_type": "code",
   "execution_count": 134,
   "outputs": [],
   "source": [
    "data1.dropna(inplace=True)"
   ],
   "metadata": {
    "collapsed": false,
    "ExecuteTime": {
     "end_time": "2023-09-16T17:00:35.561372Z",
     "start_time": "2023-09-16T17:00:35.502810Z"
    }
   },
   "id": "16b8fdf83db7198c"
  },
  {
   "cell_type": "code",
   "execution_count": 135,
   "outputs": [],
   "source": [
    "data1['centroid'] = data1['geometry'].apply(lambda x: x.centroid)"
   ],
   "metadata": {
    "collapsed": false,
    "ExecuteTime": {
     "end_time": "2023-09-16T17:00:36.404224Z",
     "start_time": "2023-09-16T17:00:35.709638Z"
    }
   },
   "id": "17c2fdfe3d090c1c"
  },
  {
   "cell_type": "code",
   "execution_count": 167,
   "outputs": [
    {
     "data": {
      "text/plain": "   tile  noise_estimate  expected_time_number expected_time   \n0   162            61.0              8.582475      23:09:00  \\\n1   507            49.0              8.641215      23:10:00   \n2   508            61.0              8.650317      23:10:00   \n3   853            52.0              8.665150      23:10:00   \n4   854            60.0              8.691205      23:10:00   \n\n                                            geometry   \n0  POLYGON ((653218.968 6838547.550, 653219.807 6...  \\\n1  POLYGON ((653119.877 6838648.320, 653120.716 6...   \n2  POLYGON ((653219.807 6838647.481, 653220.646 6...   \n3  POLYGON ((653120.716 6838748.250, 653121.555 6...   \n4  POLYGON ((653220.646 6838747.411, 653221.485 6...   \n\n                         centroid  \n0  POINT (653269.353 6838597.096)  \n1  POINT (653170.262 6838697.865)  \n2  POINT (653270.192 6838697.027)  \n3  POINT (653171.100 6838797.796)  \n4  POINT (653271.031 6838796.957)  ",
      "text/html": "<div>\n<style scoped>\n    .dataframe tbody tr th:only-of-type {\n        vertical-align: middle;\n    }\n\n    .dataframe tbody tr th {\n        vertical-align: top;\n    }\n\n    .dataframe thead th {\n        text-align: right;\n    }\n</style>\n<table border=\"1\" class=\"dataframe\">\n  <thead>\n    <tr style=\"text-align: right;\">\n      <th></th>\n      <th>tile</th>\n      <th>noise_estimate</th>\n      <th>expected_time_number</th>\n      <th>expected_time</th>\n      <th>geometry</th>\n      <th>centroid</th>\n    </tr>\n  </thead>\n  <tbody>\n    <tr>\n      <th>0</th>\n      <td>162</td>\n      <td>61.0</td>\n      <td>8.582475</td>\n      <td>23:09:00</td>\n      <td>POLYGON ((653218.968 6838547.550, 653219.807 6...</td>\n      <td>POINT (653269.353 6838597.096)</td>\n    </tr>\n    <tr>\n      <th>1</th>\n      <td>507</td>\n      <td>49.0</td>\n      <td>8.641215</td>\n      <td>23:10:00</td>\n      <td>POLYGON ((653119.877 6838648.320, 653120.716 6...</td>\n      <td>POINT (653170.262 6838697.865)</td>\n    </tr>\n    <tr>\n      <th>2</th>\n      <td>508</td>\n      <td>61.0</td>\n      <td>8.650317</td>\n      <td>23:10:00</td>\n      <td>POLYGON ((653219.807 6838647.481, 653220.646 6...</td>\n      <td>POINT (653270.192 6838697.027)</td>\n    </tr>\n    <tr>\n      <th>3</th>\n      <td>853</td>\n      <td>52.0</td>\n      <td>8.665150</td>\n      <td>23:10:00</td>\n      <td>POLYGON ((653120.716 6838748.250, 653121.555 6...</td>\n      <td>POINT (653171.100 6838797.796)</td>\n    </tr>\n    <tr>\n      <th>4</th>\n      <td>854</td>\n      <td>60.0</td>\n      <td>8.691205</td>\n      <td>23:10:00</td>\n      <td>POLYGON ((653220.646 6838747.411, 653221.485 6...</td>\n      <td>POINT (653271.031 6838796.957)</td>\n    </tr>\n  </tbody>\n</table>\n</div>"
     },
     "execution_count": 167,
     "metadata": {},
     "output_type": "execute_result"
    }
   ],
   "source": [
    "data1.head()"
   ],
   "metadata": {
    "collapsed": false,
    "ExecuteTime": {
     "end_time": "2023-09-16T17:09:15.493272Z",
     "start_time": "2023-09-16T17:09:15.479137Z"
    }
   },
   "id": "182551ed53d79b87"
  },
  {
   "cell_type": "code",
   "execution_count": 169,
   "outputs": [],
   "source": [
    "matching = get_matching(data1, geo_var='tile', treatment='noise_estimate', outcome='expected_time_number', high=60, low=40, buffer_size=150)"
   ],
   "metadata": {
    "collapsed": false,
    "ExecuteTime": {
     "end_time": "2023-09-16T17:09:23.419861Z",
     "start_time": "2023-09-16T17:09:22.981307Z"
    }
   },
   "id": "cf3fe704da264c41"
  },
  {
   "cell_type": "code",
   "execution_count": 178,
   "outputs": [],
   "source": [
    "plot_bars(matching, treatment='noise_estimate', outcome='expected_time_number')"
   ],
   "metadata": {
    "collapsed": false,
    "ExecuteTime": {
     "end_time": "2023-09-16T17:10:16.671221Z",
     "start_time": "2023-09-16T17:10:16.416893Z"
    }
   },
   "id": "9c72f127e912c989"
  },
  {
   "cell_type": "code",
   "execution_count": 170,
   "outputs": [
    {
     "data": {
      "text/plain": "       tile_high  noise_estimate_high  expected_time_number_high  tile_low   \n34919      70344                 73.0                   8.294790     69997  \\\n34968      70393                 61.0                   8.566600     70738   \n35294      70739                 61.0                   8.590632     70738   \n35620      71085                 62.0                   8.664186     70738   \n36259      71766                 61.0                   8.426977     72113   \n\n       noise_estimate_low  expected_time_number_low  \n34919                 0.0                  8.341544  \n34968                23.0                  8.547669  \n35294                23.0                  8.547669  \n35620                23.0                  8.547669  \n36259                36.0                  8.442326  ",
      "text/html": "<div>\n<style scoped>\n    .dataframe tbody tr th:only-of-type {\n        vertical-align: middle;\n    }\n\n    .dataframe tbody tr th {\n        vertical-align: top;\n    }\n\n    .dataframe thead th {\n        text-align: right;\n    }\n</style>\n<table border=\"1\" class=\"dataframe\">\n  <thead>\n    <tr style=\"text-align: right;\">\n      <th></th>\n      <th>tile_high</th>\n      <th>noise_estimate_high</th>\n      <th>expected_time_number_high</th>\n      <th>tile_low</th>\n      <th>noise_estimate_low</th>\n      <th>expected_time_number_low</th>\n    </tr>\n  </thead>\n  <tbody>\n    <tr>\n      <th>34919</th>\n      <td>70344</td>\n      <td>73.0</td>\n      <td>8.294790</td>\n      <td>69997</td>\n      <td>0.0</td>\n      <td>8.341544</td>\n    </tr>\n    <tr>\n      <th>34968</th>\n      <td>70393</td>\n      <td>61.0</td>\n      <td>8.566600</td>\n      <td>70738</td>\n      <td>23.0</td>\n      <td>8.547669</td>\n    </tr>\n    <tr>\n      <th>35294</th>\n      <td>70739</td>\n      <td>61.0</td>\n      <td>8.590632</td>\n      <td>70738</td>\n      <td>23.0</td>\n      <td>8.547669</td>\n    </tr>\n    <tr>\n      <th>35620</th>\n      <td>71085</td>\n      <td>62.0</td>\n      <td>8.664186</td>\n      <td>70738</td>\n      <td>23.0</td>\n      <td>8.547669</td>\n    </tr>\n    <tr>\n      <th>36259</th>\n      <td>71766</td>\n      <td>61.0</td>\n      <td>8.426977</td>\n      <td>72113</td>\n      <td>36.0</td>\n      <td>8.442326</td>\n    </tr>\n  </tbody>\n</table>\n</div>"
     },
     "execution_count": 170,
     "metadata": {},
     "output_type": "execute_result"
    }
   ],
   "source": [
    "matching.head()"
   ],
   "metadata": {
    "collapsed": false,
    "ExecuteTime": {
     "end_time": "2023-09-16T17:09:28.657333Z",
     "start_time": "2023-09-16T17:09:28.640846Z"
    }
   },
   "id": "7db628213cf3df09"
  },
  {
   "cell_type": "code",
   "execution_count": 171,
   "outputs": [],
   "source": [
    "matching_high = matching[['tile_high', 'noise_estimate_high', 'expected_time_number_high']].copy()\n",
    "matching_high.columns = ['tile', 'noise_estimate', 'expected_time_number']\n",
    "matching_high['type'] = 'high'\n",
    "matching_low = matching[['tile_low', 'noise_estimate_low', 'expected_time_number_low']].copy()\n",
    "matching_low.columns = ['tile', 'noise_estimate', 'expected_time_number']\n",
    "matching_low['type'] = 'low'"
   ],
   "metadata": {
    "collapsed": false,
    "ExecuteTime": {
     "end_time": "2023-09-16T17:09:31.189285Z",
     "start_time": "2023-09-16T17:09:31.174459Z"
    }
   },
   "id": "ad85b64ed31eaaac"
  },
  {
   "cell_type": "code",
   "execution_count": 172,
   "outputs": [],
   "source": [
    "matching_long = pd.concat([matching_high, matching_low])"
   ],
   "metadata": {
    "collapsed": false,
    "ExecuteTime": {
     "end_time": "2023-09-16T17:09:31.519355Z",
     "start_time": "2023-09-16T17:09:31.504153Z"
    }
   },
   "id": "c9469376a53ba142"
  },
  {
   "cell_type": "code",
   "execution_count": 173,
   "outputs": [],
   "source": [
    "matching_long = matching_long.merge(tile_geo.reset_index(names='tile'), on='tile')"
   ],
   "metadata": {
    "collapsed": false,
    "ExecuteTime": {
     "end_time": "2023-09-16T17:09:31.876042Z",
     "start_time": "2023-09-16T17:09:31.858414Z"
    }
   },
   "id": "de99398698099e9"
  },
  {
   "cell_type": "code",
   "execution_count": 174,
   "outputs": [],
   "source": [
    "matching_long = gpd.GeoDataFrame(matching_long, geometry='geometry')"
   ],
   "metadata": {
    "collapsed": false,
    "ExecuteTime": {
     "end_time": "2023-09-16T17:09:32.057196Z",
     "start_time": "2023-09-16T17:09:32.040916Z"
    }
   },
   "id": "ccb38970f45a6130"
  },
  {
   "cell_type": "code",
   "execution_count": 175,
   "outputs": [],
   "source": [
    "import webbrowser\n",
    "import os"
   ],
   "metadata": {
    "collapsed": false,
    "ExecuteTime": {
     "end_time": "2023-09-16T17:09:32.227228Z",
     "start_time": "2023-09-16T17:09:32.212896Z"
    }
   },
   "id": "ee3a6b672521f8f2"
  },
  {
   "cell_type": "code",
   "execution_count": 176,
   "outputs": [],
   "source": [
    "def plot_map(df, column, legend=True, tiles=\"CartoDB positron\"):\n",
    "    path_map = '/Users/anmusso/Desktop/PhD/Projects/Current/NetMob/NetMobCode/temp/map_matching.html'\n",
    "    html_map = df.explore(column=column, legend=legend, tiles=tiles)\n",
    "    html_map.save(path_map)\n",
    "    webbrowser.open(f'file://{path_map}')"
   ],
   "metadata": {
    "collapsed": false,
    "ExecuteTime": {
     "end_time": "2023-09-16T17:09:32.911773Z",
     "start_time": "2023-09-16T17:09:32.894789Z"
    }
   },
   "id": "58cff8d24a4a662"
  },
  {
   "cell_type": "code",
   "execution_count": 177,
   "outputs": [],
   "source": [
    "plot_map(matching_long, column='type')"
   ],
   "metadata": {
    "collapsed": false,
    "ExecuteTime": {
     "end_time": "2023-09-16T17:09:33.772143Z",
     "start_time": "2023-09-16T17:09:33.547846Z"
    }
   },
   "id": "9d04ad58f52978ab"
  },
  {
   "cell_type": "code",
   "execution_count": null,
   "outputs": [],
   "source": [],
   "metadata": {
    "collapsed": false
   },
   "id": "4e671cd9df76f77"
  }
 ],
 "metadata": {
  "kernelspec": {
   "display_name": "Python 3",
   "language": "python",
   "name": "python3"
  },
  "language_info": {
   "codemirror_mode": {
    "name": "ipython",
    "version": 2
   },
   "file_extension": ".py",
   "mimetype": "text/x-python",
   "name": "python",
   "nbconvert_exporter": "python",
   "pygments_lexer": "ipython2",
   "version": "2.7.6"
  }
 },
 "nbformat": 4,
 "nbformat_minor": 5
}
