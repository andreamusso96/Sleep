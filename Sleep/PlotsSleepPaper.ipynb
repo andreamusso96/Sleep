{
 "cells": [
  {
   "cell_type": "code",
   "execution_count": null,
   "id": "initial_id",
   "metadata": {
    "collapsed": true,
    "is_executing": true
   },
   "outputs": [],
   "source": [
    "import pandas as pd\n",
    "import plotly.graph_objs as go\n",
    "from datetime import time, timedelta, datetime\n",
    "import mobile_traffic as mt\n",
    "import numpy as np\n",
    "import insee\n",
    "import geopandas as gpd\n",
    "from tqdm import tqdm\n",
    "import webbrowser\n",
    "import os\n",
    "import plotting\n",
    "import matplotlib.pyplot as plt"
   ]
  },
  {
   "cell_type": "code",
   "execution_count": 3,
   "outputs": [],
   "source": [
    "import pandas as pd\n",
    "import geopandas as gpd"
   ],
   "metadata": {
    "collapsed": false,
    "ExecuteTime": {
     "end_time": "2023-10-16T11:57:41.344156Z",
     "start_time": "2023-10-16T11:57:41.021722Z"
    }
   },
   "id": "e99dd1a26f7a90dc"
  },
  {
   "cell_type": "code",
   "execution_count": 4,
   "outputs": [],
   "source": [
    "code_path = '/Users/anmusso/Desktop/PhD/Projects/Current/NetMob/NetMobCode/'"
   ],
   "metadata": {
    "collapsed": false,
    "ExecuteTime": {
     "end_time": "2023-10-16T11:57:42.047713Z",
     "start_time": "2023-10-16T11:57:42.044559Z"
    }
   },
   "id": "1762ce2d8e266049"
  },
  {
   "cell_type": "code",
   "execution_count": 5,
   "outputs": [],
   "source": [
    "def plot_map(g, column):\n",
    "    html_map = g.explore(legend=True, column=column, tiles=\"CartoDB positron\")\n",
    "    html_map.save(f'{code_path}/temp/map.html')\n",
    "    webbrowser.open(f'file://{code_path}/temp/map.html')"
   ],
   "metadata": {
    "collapsed": false,
    "ExecuteTime": {
     "end_time": "2023-10-16T11:57:43.045555Z",
     "start_time": "2023-10-16T11:57:42.980125Z"
    }
   },
   "id": "4c4bebecbe571f6c"
  },
  {
   "cell_type": "code",
   "execution_count": 40,
   "outputs": [],
   "source": [
    "file_name = 'normalized_deviation_from_mean_with_insee_data.geojson'\n",
    "data_folder_path = '/Users/andrea/Desktop/PhD/Projects/Current/NetMob/NetMobData/data/FigureData/Sleep'\n",
    "data = gpd.read_file(f'{data_folder_path}/{file_name}')\n",
    "data.set_index('tile_insee', inplace=True)"
   ],
   "metadata": {
    "collapsed": false,
    "ExecuteTime": {
     "end_time": "2023-10-16T12:07:50.576899Z",
     "start_time": "2023-10-16T12:07:45.187301Z"
    }
   },
   "id": "e8bcbd53e1a27416"
  },
  {
   "cell_type": "code",
   "execution_count": 41,
   "outputs": [
    {
     "data": {
      "text/plain": "                                deviation_from_mean  Men_1ind  Men_5ind  \\\ntile_insee                                                                \nCRS3035RES200mN2866000E3759200            -0.131845 -0.071910  0.152057   \nCRS3035RES200mN2866000E3759400            -0.126375 -1.060229  1.810499   \nCRS3035RES200mN2866200E3759200            -0.020221 -0.952559 -0.228270   \nCRS3035RES200mN2866200E3759400             0.091850 -1.063196  1.763300   \nCRS3035RES200mN2866200E3759600             0.106243 -1.280743  2.524674   \n\n                                Men_prop   Men_fmp   Ind_snv  Men_surf  \\\ntile_insee                                                               \nCRS3035RES200mN2866000E3759200  0.088270 -1.174810 -0.567178 -0.148952   \nCRS3035RES200mN2866000E3759400  0.372878 -0.490902 -0.641475  0.553917   \nCRS3035RES200mN2866200E3759200  0.932703 -0.724563 -0.394587 -0.015662   \nCRS3035RES200mN2866200E3759400 -1.565291  0.534589 -1.228964 -1.005967   \nCRS3035RES200mN2866200E3759600 -1.913128  0.775649 -1.463544 -1.083389   \n\n                                Men_coll  Men_mais  Log_av45  ...  Ind_40_54  \\\ntile_insee                                                    ...              \nCRS3035RES200mN2866000E3759200 -0.797857  0.798782 -0.831295  ...  -0.423431   \nCRS3035RES200mN2866000E3759400 -1.520806  1.329401 -0.984881  ...  -0.412711   \nCRS3035RES200mN2866200E3759200 -1.548572  1.636149 -0.473418  ...  -0.592524   \nCRS3035RES200mN2866200E3759400 -0.037393 -0.802970 -0.826964  ...  -0.509473   \nCRS3035RES200mN2866200E3759600 -0.171706 -1.045660 -1.021889  ...  -0.756798   \n\n                                Ind_55_64  Ind_65_79   Ind_80p   Ind_inc  \\\ntile_insee                                                                 \nCRS3035RES200mN2866000E3759200  -1.963618   0.997495  0.593056 -0.313683   \nCRS3035RES200mN2866000E3759400  -0.397208   0.175364 -1.064360 -0.313683   \nCRS3035RES200mN2866200E3759200   1.496687  -0.597599  0.211904 -0.313683   \nCRS3035RES200mN2866200E3759400  -0.596328  -0.589143 -0.566442 -0.313683   \nCRS3035RES200mN2866200E3759600  -0.924703  -0.948213 -1.243211  2.541896   \n\n                                Men_pauv       Men     young    Ind  \\\ntile_insee                                                            \nCRS3035RES200mN2866000E3759200 -0.308277 -0.469920  0.783356   16.0   \nCRS3035RES200mN2866000E3759400 -0.542713 -1.214759  1.256302  206.0   \nCRS3035RES200mN2866200E3759200 -0.322304 -0.770397  0.186334  139.0   \nCRS3035RES200mN2866200E3759400  0.823394 -1.410042  1.150938  352.0   \nCRS3035RES200mN2866200E3759600  0.952492 -2.112066  2.383763  498.5   \n\n                                                                         geometry  \ntile_insee                                                                         \nCRS3035RES200mN2866000E3759200  POLYGON ((653093.524 6838523.039, 653074.899 6...  \nCRS3035RES200mN2866000E3759400  POLYGON ((653292.693 6838542.123, 653274.068 6...  \nCRS3035RES200mN2866200E3759200  POLYGON ((653074.899 6838721.986, 653056.273 6...  \nCRS3035RES200mN2866200E3759400  POLYGON ((653274.068 6838741.071, 653255.443 6...  \nCRS3035RES200mN2866200E3759600  POLYGON ((653473.238 6838760.155, 653454.613 6...  \n\n[5 rows x 31 columns]",
      "text/html": "<div>\n<style scoped>\n    .dataframe tbody tr th:only-of-type {\n        vertical-align: middle;\n    }\n\n    .dataframe tbody tr th {\n        vertical-align: top;\n    }\n\n    .dataframe thead th {\n        text-align: right;\n    }\n</style>\n<table border=\"1\" class=\"dataframe\">\n  <thead>\n    <tr style=\"text-align: right;\">\n      <th></th>\n      <th>deviation_from_mean</th>\n      <th>Men_1ind</th>\n      <th>Men_5ind</th>\n      <th>Men_prop</th>\n      <th>Men_fmp</th>\n      <th>Ind_snv</th>\n      <th>Men_surf</th>\n      <th>Men_coll</th>\n      <th>Men_mais</th>\n      <th>Log_av45</th>\n      <th>...</th>\n      <th>Ind_40_54</th>\n      <th>Ind_55_64</th>\n      <th>Ind_65_79</th>\n      <th>Ind_80p</th>\n      <th>Ind_inc</th>\n      <th>Men_pauv</th>\n      <th>Men</th>\n      <th>young</th>\n      <th>Ind</th>\n      <th>geometry</th>\n    </tr>\n    <tr>\n      <th>tile_insee</th>\n      <th></th>\n      <th></th>\n      <th></th>\n      <th></th>\n      <th></th>\n      <th></th>\n      <th></th>\n      <th></th>\n      <th></th>\n      <th></th>\n      <th></th>\n      <th></th>\n      <th></th>\n      <th></th>\n      <th></th>\n      <th></th>\n      <th></th>\n      <th></th>\n      <th></th>\n      <th></th>\n      <th></th>\n    </tr>\n  </thead>\n  <tbody>\n    <tr>\n      <th>CRS3035RES200mN2866000E3759200</th>\n      <td>-0.131845</td>\n      <td>-0.071910</td>\n      <td>0.152057</td>\n      <td>0.088270</td>\n      <td>-1.174810</td>\n      <td>-0.567178</td>\n      <td>-0.148952</td>\n      <td>-0.797857</td>\n      <td>0.798782</td>\n      <td>-0.831295</td>\n      <td>...</td>\n      <td>-0.423431</td>\n      <td>-1.963618</td>\n      <td>0.997495</td>\n      <td>0.593056</td>\n      <td>-0.313683</td>\n      <td>-0.308277</td>\n      <td>-0.469920</td>\n      <td>0.783356</td>\n      <td>16.0</td>\n      <td>POLYGON ((653093.524 6838523.039, 653074.899 6...</td>\n    </tr>\n    <tr>\n      <th>CRS3035RES200mN2866000E3759400</th>\n      <td>-0.126375</td>\n      <td>-1.060229</td>\n      <td>1.810499</td>\n      <td>0.372878</td>\n      <td>-0.490902</td>\n      <td>-0.641475</td>\n      <td>0.553917</td>\n      <td>-1.520806</td>\n      <td>1.329401</td>\n      <td>-0.984881</td>\n      <td>...</td>\n      <td>-0.412711</td>\n      <td>-0.397208</td>\n      <td>0.175364</td>\n      <td>-1.064360</td>\n      <td>-0.313683</td>\n      <td>-0.542713</td>\n      <td>-1.214759</td>\n      <td>1.256302</td>\n      <td>206.0</td>\n      <td>POLYGON ((653292.693 6838542.123, 653274.068 6...</td>\n    </tr>\n    <tr>\n      <th>CRS3035RES200mN2866200E3759200</th>\n      <td>-0.020221</td>\n      <td>-0.952559</td>\n      <td>-0.228270</td>\n      <td>0.932703</td>\n      <td>-0.724563</td>\n      <td>-0.394587</td>\n      <td>-0.015662</td>\n      <td>-1.548572</td>\n      <td>1.636149</td>\n      <td>-0.473418</td>\n      <td>...</td>\n      <td>-0.592524</td>\n      <td>1.496687</td>\n      <td>-0.597599</td>\n      <td>0.211904</td>\n      <td>-0.313683</td>\n      <td>-0.322304</td>\n      <td>-0.770397</td>\n      <td>0.186334</td>\n      <td>139.0</td>\n      <td>POLYGON ((653074.899 6838721.986, 653056.273 6...</td>\n    </tr>\n    <tr>\n      <th>CRS3035RES200mN2866200E3759400</th>\n      <td>0.091850</td>\n      <td>-1.063196</td>\n      <td>1.763300</td>\n      <td>-1.565291</td>\n      <td>0.534589</td>\n      <td>-1.228964</td>\n      <td>-1.005967</td>\n      <td>-0.037393</td>\n      <td>-0.802970</td>\n      <td>-0.826964</td>\n      <td>...</td>\n      <td>-0.509473</td>\n      <td>-0.596328</td>\n      <td>-0.589143</td>\n      <td>-0.566442</td>\n      <td>-0.313683</td>\n      <td>0.823394</td>\n      <td>-1.410042</td>\n      <td>1.150938</td>\n      <td>352.0</td>\n      <td>POLYGON ((653274.068 6838741.071, 653255.443 6...</td>\n    </tr>\n    <tr>\n      <th>CRS3035RES200mN2866200E3759600</th>\n      <td>0.106243</td>\n      <td>-1.280743</td>\n      <td>2.524674</td>\n      <td>-1.913128</td>\n      <td>0.775649</td>\n      <td>-1.463544</td>\n      <td>-1.083389</td>\n      <td>-0.171706</td>\n      <td>-1.045660</td>\n      <td>-1.021889</td>\n      <td>...</td>\n      <td>-0.756798</td>\n      <td>-0.924703</td>\n      <td>-0.948213</td>\n      <td>-1.243211</td>\n      <td>2.541896</td>\n      <td>0.952492</td>\n      <td>-2.112066</td>\n      <td>2.383763</td>\n      <td>498.5</td>\n      <td>POLYGON ((653473.238 6838760.155, 653454.613 6...</td>\n    </tr>\n  </tbody>\n</table>\n<p>5 rows × 31 columns</p>\n</div>"
     },
     "execution_count": 41,
     "metadata": {},
     "output_type": "execute_result"
    }
   ],
   "source": [
    "data.head()"
   ],
   "metadata": {
    "collapsed": false,
    "ExecuteTime": {
     "end_time": "2023-10-16T12:07:50.593396Z",
     "start_time": "2023-10-16T12:07:50.587198Z"
    }
   },
   "id": "1e60c9869955da94"
  },
  {
   "cell_type": "code",
   "execution_count": 42,
   "outputs": [],
   "source": [
    "d = data.drop(columns='young').rename(columns={'deviation_from_mean': 'bed_time_index'})"
   ],
   "metadata": {
    "collapsed": false,
    "ExecuteTime": {
     "end_time": "2023-10-16T12:08:57.851348Z",
     "start_time": "2023-10-16T12:08:57.836732Z"
    }
   },
   "id": "9fafad43fab9b312"
  },
  {
   "cell_type": "code",
   "execution_count": 44,
   "outputs": [],
   "source": [
    "d = gpd.GeoDataFrame(d)\n",
    "d.to_file(f'{data_folder_path}/bed_time_index_and_normalize_vars.geojson')"
   ],
   "metadata": {
    "collapsed": false,
    "ExecuteTime": {
     "end_time": "2023-10-16T12:10:07.710302Z",
     "start_time": "2023-10-16T12:10:04.106648Z"
    }
   },
   "id": "f6916760a2827297"
  },
  {
   "cell_type": "code",
   "execution_count": 47,
   "outputs": [
    {
     "data": {
      "text/plain": "count    1.515100e+04\nmean     7.503586e-17\nstd      1.000000e+00\nmin     -2.098734e+00\n25%     -7.612538e-01\n50%     -1.916227e-01\n75%      6.011365e-01\nmax      4.296888e+00\nName: Ind_snv, dtype: float64"
     },
     "execution_count": 47,
     "metadata": {},
     "output_type": "execute_result"
    }
   ],
   "source": [
    "d['Ind_snv'].describe()"
   ],
   "metadata": {
    "collapsed": false,
    "ExecuteTime": {
     "end_time": "2023-10-16T12:11:38.593925Z",
     "start_time": "2023-10-16T12:11:38.574209Z"
    }
   },
   "id": "3bcad7f61b44281"
  },
  {
   "cell_type": "code",
   "execution_count": 285,
   "outputs": [],
   "source": [
    "data_poor_sleep_early = data.loc[(data['deviation_from_mean'] < 0) & (data['Ind_snv'] < -1)].copy()\n",
    "data_poor = data.loc[(data['Ind_snv'] < -1)].copy()"
   ],
   "metadata": {
    "collapsed": false,
    "ExecuteTime": {
     "end_time": "2023-10-05T14:30:17.214852Z",
     "start_time": "2023-10-05T14:30:17.184906Z"
    }
   },
   "id": "4b705b311ba8d519"
  },
  {
   "cell_type": "code",
   "execution_count": 297,
   "outputs": [
    {
     "data": {
      "text/plain": "<Axes: ylabel='Frequency'>"
     },
     "execution_count": 297,
     "metadata": {},
     "output_type": "execute_result"
    },
    {
     "data": {
      "text/plain": "<Figure size 600x600 with 1 Axes>",
      "image/png": "[encoded data removed]"
     },
     "metadata": {},
     "output_type": "display_data"
    }
   ],
   "source": [
    "fig, ax = plt.subplots(figsize=(6, 6))\n",
    "x_var = 'young'\n",
    "data_poor.plot(ax=ax, y=x_var, kind='hist')\n",
    "data_poor_sleep_early.plot(ax=ax, y=x_var, kind='hist', color='red')"
   ],
   "metadata": {
    "collapsed": false,
    "ExecuteTime": {
     "end_time": "2023-10-05T14:36:18.626823Z",
     "start_time": "2023-10-05T14:36:18.310730Z"
    }
   },
   "id": "8babca2121b323c6"
  },
  {
   "cell_type": "code",
   "execution_count": 311,
   "outputs": [
    {
     "name": "stdout",
     "output_type": "stream",
     "text": [
      "Average difference: (-0.11, -0.03)\n"
     ]
    }
   ],
   "source": [
    "mean_dif = (data_poor[x_var].mean() - data_poor_sleep_early[x_var].mean())\n",
    "data_poor_std = data_poor[x_var].std()\n",
    "data_poor_conf_int = 1.96 * data_poor_std / np.sqrt(len(data_poor))\n",
    "print(f'Average difference: ({mean_dif - data_poor_conf_int:.2f}, {mean_dif + data_poor_conf_int:.2f})')"
   ],
   "metadata": {
    "collapsed": false,
    "ExecuteTime": {
     "end_time": "2023-10-05T14:41:58.022707Z",
     "start_time": "2023-10-05T14:41:58.006248Z"
    }
   },
   "id": "2325f9c7d042807b"
  },
  {
   "cell_type": "code",
   "execution_count": null,
   "outputs": [],
   "source": [
    "data = gpd.read_file(f'{data_folder_path}/{file_name}')"
   ],
   "metadata": {
    "collapsed": false,
    "is_executing": true
   },
   "id": "67450f791e391853"
  },
  {
   "cell_type": "code",
   "execution_count": null,
   "outputs": [],
   "source": [],
   "metadata": {
    "collapsed": false
   },
   "id": "b5cb6d1465bc1620"
  }
 ],
 "metadata": {
  "kernelspec": {
   "display_name": "Python 3",
   "language": "python",
   "name": "python3"
  },
  "language_info": {
   "codemirror_mode": {
    "name": "ipython",
    "version": 2
   },
   "file_extension": ".py",
   "mimetype": "text/x-python",
   "name": "python",
   "nbconvert_exporter": "python",
   "pygments_lexer": "ipython2",
   "version": "2.7.6"
  }
 },
 "nbformat": 4,
 "nbformat_minor": 5
}
