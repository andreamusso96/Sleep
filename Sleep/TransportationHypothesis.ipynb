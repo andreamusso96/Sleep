{
 "cells": [
  {
   "cell_type": "code",
   "execution_count": 1,
   "id": "initial_id",
   "metadata": {
    "collapsed": true,
    "ExecuteTime": {
     "end_time": "2023-10-31T16:46:23.060134Z",
     "start_time": "2023-10-31T16:46:22.790846Z"
    }
   },
   "outputs": [],
   "source": [
    "import numpy as np\n",
    "import pandas as pd\n",
    "import geopandas as gpd\n",
    "import insee\n",
    "from shapely.geometry import Point"
   ]
  },
  {
   "cell_type": "code",
   "execution_count": 2,
   "outputs": [],
   "source": [
    "%load_ext autoreload\n",
    "%autoreload 2"
   ],
   "metadata": {
    "collapsed": false,
    "ExecuteTime": {
     "end_time": "2023-10-31T16:46:23.072745Z",
     "start_time": "2023-10-31T16:46:23.054021Z"
    }
   },
   "id": "b63010a0a46989d9"
  },
  {
   "cell_type": "code",
   "execution_count": 3,
   "outputs": [],
   "source": [
    "path = '/Users/andrea/Desktop/PhD/Projects/Current/NetMob/Data/BaseData'"
   ],
   "metadata": {
    "collapsed": false,
    "ExecuteTime": {
     "end_time": "2023-10-31T16:46:23.102386Z",
     "start_time": "2023-10-31T16:46:23.072473Z"
    }
   },
   "id": "14b0809b5d5fabab"
  },
  {
   "cell_type": "code",
   "execution_count": 4,
   "outputs": [],
   "source": [
    "bed_time_index = pd.read_csv(path + '/bed_time_index_insee_commune.csv', dtype={'insee_com':str})"
   ],
   "metadata": {
    "collapsed": false,
    "ExecuteTime": {
     "end_time": "2023-10-31T16:46:23.108747Z",
     "start_time": "2023-10-31T16:46:23.087166Z"
    }
   },
   "id": "87b1be86384f18c3"
  },
  {
   "cell_type": "code",
   "execution_count": 5,
   "outputs": [],
   "source": [
    "insee_com = bed_time_index['insee_com'].unique()"
   ],
   "metadata": {
    "collapsed": false,
    "ExecuteTime": {
     "end_time": "2023-10-31T16:46:23.122819Z",
     "start_time": "2023-10-31T16:46:23.105414Z"
    }
   },
   "id": "a0842eb2cbae0997"
  },
  {
   "cell_type": "code",
   "execution_count": 6,
   "outputs": [],
   "source": [
    "disp_data = insee.commune.get_home_work_displacements(home_commune_ids=insee_com)\n",
    "total_pop = disp_data.groupby(['home_insee_com']).agg({'count': 'sum'}).rename(columns={'count': 'total_pop'})"
   ],
   "metadata": {
    "collapsed": false,
    "ExecuteTime": {
     "end_time": "2023-10-31T16:46:23.658105Z",
     "start_time": "2023-10-31T16:46:23.198869Z"
    }
   },
   "id": "f8671e66def99e86"
  },
  {
   "cell_type": "code",
   "execution_count": 7,
   "outputs": [],
   "source": [
    "means_of_disp_data = pd.read_csv(path + '/admin_data_commune_means_of_displacement_to_work_and_income.csv', dtype={'commune':str})\n",
    "means_of_disp_data['frac_car'] = means_of_disp_data['C19_ACTOCC15P_VOIT'] / means_of_disp_data['C19_ACTOCC15P']\n",
    "frac_car = means_of_disp_data[['commune', 'frac_car']].rename(columns={'commune': 'home_insee_com'}).set_index('home_insee_com')\n",
    "income = means_of_disp_data[['commune', 'DEC_MED19']].rename(columns={'commune': 'home_insee_com'}).set_index('home_insee_com')\n",
    "income.rename(columns={'DEC_MED19': 'income'}, inplace=True)"
   ],
   "metadata": {
    "collapsed": false,
    "ExecuteTime": {
     "end_time": "2023-10-31T16:46:23.677208Z",
     "start_time": "2023-10-31T16:46:23.658729Z"
    }
   },
   "id": "13dda9d6b957f3ff"
  },
  {
   "cell_type": "code",
   "execution_count": 8,
   "outputs": [],
   "source": [
    "work_to_home_dist = pd.read_csv(path + '/gmaps_distances_from_work_to_home.csv', dtype={'work_insee_com':str, 'home_insee_com':str})"
   ],
   "metadata": {
    "collapsed": false,
    "ExecuteTime": {
     "end_time": "2023-10-31T16:46:23.695824Z",
     "start_time": "2023-10-31T16:46:23.677691Z"
    }
   },
   "id": "e356457af2837d9b"
  },
  {
   "cell_type": "code",
   "execution_count": 9,
   "outputs": [],
   "source": [
    "disp_data.set_index(['home_insee_com'], inplace=True)\n",
    "disp_data = disp_data.merge(frac_car, how='left', left_index=True, right_index=True)\n",
    "disp_data = disp_data.merge(total_pop, how='left', left_index=True, right_index=True)"
   ],
   "metadata": {
    "collapsed": false,
    "ExecuteTime": {
     "end_time": "2023-10-31T16:46:24.307493Z",
     "start_time": "2023-10-31T16:46:24.277325Z"
    }
   },
   "id": "d3709d9916b2a40d"
  },
  {
   "cell_type": "code",
   "execution_count": 10,
   "outputs": [],
   "source": [
    "disp_data.reset_index(inplace=True)\n",
    "disp_data.set_index(['home_insee_com', 'work_insee_com'], inplace=True)\n",
    "work_to_home_dist.set_index(['home_insee_com', 'work_insee_com'], inplace=True)"
   ],
   "metadata": {
    "collapsed": false,
    "ExecuteTime": {
     "end_time": "2023-10-31T16:46:24.760915Z",
     "start_time": "2023-10-31T16:46:24.735682Z"
    }
   },
   "id": "9c4f47636de625b9"
  },
  {
   "cell_type": "code",
   "execution_count": 11,
   "outputs": [],
   "source": [
    "disp_data = disp_data.merge(work_to_home_dist, how='left', left_index=True, right_index=True)"
   ],
   "metadata": {
    "collapsed": false,
    "ExecuteTime": {
     "end_time": "2023-10-31T16:46:25.351917Z",
     "start_time": "2023-10-31T16:46:25.324291Z"
    }
   },
   "id": "25c464632247c0a2"
  },
  {
   "cell_type": "code",
   "execution_count": 12,
   "outputs": [],
   "source": [
    "disp_data = disp_data[['home_insee_com_label', 'work_insee_com_label', 'count', 'duration_seconds', 'distance_meters', 'frac_car', 'total_pop']].copy()\n",
    "disp_data['frac'] = disp_data['count'] / disp_data['total_pop']\n",
    "disp_data = disp_data.loc[disp_data['frac'] > 0.005]"
   ],
   "metadata": {
    "collapsed": false,
    "ExecuteTime": {
     "end_time": "2023-10-31T16:46:25.540111Z",
     "start_time": "2023-10-31T16:46:25.516300Z"
    }
   },
   "id": "727e8b8471770a45"
  },
  {
   "cell_type": "code",
   "execution_count": 13,
   "outputs": [],
   "source": [
    "disp_data['duration_seconds'] = disp_data['duration_seconds'].fillna(5*60)\n",
    "disp_data['distance_meters'] = disp_data['distance_meters'].fillna(1000)"
   ],
   "metadata": {
    "collapsed": false,
    "ExecuteTime": {
     "end_time": "2023-10-31T16:46:25.710888Z",
     "start_time": "2023-10-31T16:46:25.691338Z"
    }
   },
   "id": "d2142a5840450634"
  },
  {
   "cell_type": "code",
   "execution_count": 14,
   "outputs": [],
   "source": [
    "disp_data['total_duration'] = disp_data['count'] * (1 - disp_data['frac_car']) * disp_data['duration_seconds'] + disp_data['count'] * disp_data['frac_car'] * ((disp_data['distance_meters'] /(30*1000))* 3600)"
   ],
   "metadata": {
    "collapsed": false,
    "ExecuteTime": {
     "end_time": "2023-10-31T16:46:25.874448Z",
     "start_time": "2023-10-31T16:46:25.854433Z"
    }
   },
   "id": "decf7df8bdc77a8f"
  },
  {
   "cell_type": "code",
   "execution_count": 15,
   "outputs": [],
   "source": [
    "total_duration = disp_data.groupby(['home_insee_com']).agg({'total_duration': 'sum'})"
   ],
   "metadata": {
    "collapsed": false,
    "ExecuteTime": {
     "end_time": "2023-10-31T16:46:26.051537Z",
     "start_time": "2023-10-31T16:46:26.026351Z"
    }
   },
   "id": "7e9988a56bf14e75"
  },
  {
   "cell_type": "code",
   "execution_count": 16,
   "outputs": [],
   "source": [
    "average_duration = total_duration.div(total_pop['total_pop'].loc[total_duration.index], axis=0)"
   ],
   "metadata": {
    "collapsed": false,
    "ExecuteTime": {
     "end_time": "2023-10-31T16:46:26.223295Z",
     "start_time": "2023-10-31T16:46:26.203338Z"
    }
   },
   "id": "428d726eaa2204ef"
  },
  {
   "cell_type": "code",
   "execution_count": 17,
   "outputs": [],
   "source": [
    "bed_time_index_and_avg_duration = average_duration.merge(bed_time_index.set_index('insee_com'), how='inner', left_index=True, right_index=True)"
   ],
   "metadata": {
    "collapsed": false,
    "ExecuteTime": {
     "end_time": "2023-10-31T16:46:26.844033Z",
     "start_time": "2023-10-31T16:46:26.823153Z"
    }
   },
   "id": "c5b5397e387e8020"
  },
  {
   "cell_type": "code",
   "execution_count": 18,
   "outputs": [],
   "source": [
    "bed_time_index_and_avg_duration_income = bed_time_index_and_avg_duration.merge(income, how='inner', left_index=True, right_index=True)"
   ],
   "metadata": {
    "collapsed": false,
    "ExecuteTime": {
     "end_time": "2023-10-31T16:46:27.405403Z",
     "start_time": "2023-10-31T16:46:27.380644Z"
    }
   },
   "id": "ee20d8fe98b1cec8"
  },
  {
   "cell_type": "code",
   "execution_count": 19,
   "outputs": [],
   "source": [
    "bed_time_index_and_avg_duration_income.reset_index(inplace=True)"
   ],
   "metadata": {
    "collapsed": false,
    "ExecuteTime": {
     "end_time": "2023-10-31T16:46:27.681567Z",
     "start_time": "2023-10-31T16:46:27.658641Z"
    }
   },
   "id": "db7829e30f64bd04"
  },
  {
   "cell_type": "code",
   "execution_count": 20,
   "outputs": [],
   "source": [
    "bed_time_index_and_avg_duration_income.to_csv(path + '/bed_time_index_avg_work_to_home_trip_duration_income_commune.csv', index=False)"
   ],
   "metadata": {
    "collapsed": false,
    "ExecuteTime": {
     "end_time": "2023-10-31T16:46:27.890241Z",
     "start_time": "2023-10-31T16:46:27.868832Z"
    }
   },
   "id": "aa9ed214a68baa45"
  },
  {
   "cell_type": "code",
   "execution_count": 20,
   "outputs": [],
   "source": [],
   "metadata": {
    "collapsed": false,
    "ExecuteTime": {
     "end_time": "2023-10-31T16:46:30.728221Z",
     "start_time": "2023-10-31T16:46:30.724239Z"
    }
   },
   "id": "691183e0b6523dc3"
  },
  {
   "cell_type": "code",
   "execution_count": 21,
   "outputs": [],
   "source": [
    "import plotly.graph_objects as go\n",
    "import statsmodels.api as sm"
   ],
   "metadata": {
    "collapsed": false,
    "ExecuteTime": {
     "end_time": "2023-10-31T16:46:31.645913Z",
     "start_time": "2023-10-31T16:46:31.228820Z"
    }
   },
   "id": "cb602a4bd1579dee"
  },
  {
   "cell_type": "code",
   "execution_count": 22,
   "outputs": [],
   "source": [
    "bed_time_index_and_avg_duration_income = bed_time_index_and_avg_duration_income.loc[bed_time_index_and_avg_duration_income['total_duration'] < 50*60]\n",
    "bed_time_index_and_avg_duration_income['total_duration'] = bed_time_index_and_avg_duration_income['total_duration'] / 60\n",
    "bed_time_index_and_avg_duration_income['income'] = np.log2(bed_time_index_and_avg_duration_income['income'])"
   ],
   "metadata": {
    "collapsed": false,
    "ExecuteTime": {
     "end_time": "2023-10-31T16:46:33.228136Z",
     "start_time": "2023-10-31T16:46:33.192739Z"
    }
   },
   "id": "b982cb750af45c80"
  },
  {
   "cell_type": "code",
   "execution_count": 47,
   "outputs": [],
   "source": [
    "def plot_with_regression(data, x_axis, y_axis, xaxis_title, yaxis_title):\n",
    "    reg = sm.OLS(data[y_axis], sm.add_constant(data[x_axis])).fit()\n",
    "    slope = reg.params[x_axis]\n",
    "    intercept = reg.params['const']\n",
    "    pvalue = reg.pvalues[x_axis]\n",
    "    \n",
    "    fig = go.Figure()\n",
    "    trace = go.Scatter(x=data[x_axis], y=data[y_axis], mode='markers', name='Commune', marker=dict(color='black', size=8), showlegend=True)\n",
    "    trace_reg = go.Scatter(x=data[x_axis], y=data[x_axis] * slope + intercept, mode='lines', line=dict(color='red'), name='Slope: {:.2f} (p-value: {:.2f})'.format(slope, pvalue))\n",
    "    fig.add_trace(trace)\n",
    "    fig.add_trace(trace_reg)\n",
    "    fig.update_layout(title='Income vs work to home displacement', xaxis_title=xaxis_title, yaxis_title=yaxis_title, template='plotly_white', width=1000, height=650, font=dict(size=20, color='black'), legend=dict(font=dict(size=20)))\n",
    "    fig.show(renderer='browser')\n",
    "    "
   ],
   "metadata": {
    "collapsed": false,
    "ExecuteTime": {
     "end_time": "2023-10-31T16:50:25.840112Z",
     "start_time": "2023-10-31T16:50:25.799778Z"
    }
   },
   "id": "10b267ab5abd13fd"
  },
  {
   "cell_type": "code",
   "execution_count": 45,
   "outputs": [],
   "source": [
    "plot_with_regression(data=bed_time_index_and_avg_duration_income, x_axis='bed_time_index', y_axis='total_duration', xaxis_title='Bedtime index', yaxis_title='Duration of work to home displacement (minutes)')"
   ],
   "metadata": {
    "collapsed": false,
    "ExecuteTime": {
     "end_time": "2023-10-31T16:49:34.686771Z",
     "start_time": "2023-10-31T16:49:34.497357Z"
    }
   },
   "id": "9783440866dc711f"
  },
  {
   "cell_type": "code",
   "execution_count": 48,
   "outputs": [],
   "source": [
    "plot_with_regression(data=bed_time_index_and_avg_duration_income, x_axis='income', y_axis='total_duration', xaxis_title='Log2 Median Income', yaxis_title='Duration of work to home displacement (minutes)')"
   ],
   "metadata": {
    "collapsed": false,
    "ExecuteTime": {
     "end_time": "2023-10-31T16:50:27.655012Z",
     "start_time": "2023-10-31T16:50:27.458146Z"
    }
   },
   "id": "2a2477e34e56fc41"
  }
 ],
 "metadata": {
  "kernelspec": {
   "display_name": "Python 3",
   "language": "python",
   "name": "python3"
  },
  "language_info": {
   "codemirror_mode": {
    "name": "ipython",
    "version": 2
   },
   "file_extension": ".py",
   "mimetype": "text/x-python",
   "name": "python",
   "nbconvert_exporter": "python",
   "pygments_lexer": "ipython2",
   "version": "2.7.6"
  }
 },
 "nbformat": 4,
 "nbformat_minor": 5
}
