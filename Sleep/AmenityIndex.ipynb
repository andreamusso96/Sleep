{
 "cells": [
  {
   "cell_type": "code",
   "execution_count": 3,
   "id": "initial_id",
   "metadata": {
    "collapsed": true,
    "ExecuteTime": {
     "end_time": "2023-11-08T12:28:21.091586Z",
     "start_time": "2023-11-08T12:28:16.217236Z"
    }
   },
   "outputs": [],
   "source": [
    "import insee\n",
    "import pandas as pd\n",
    "import geopandas as gpd\n",
    "import plotly.graph_objects as go\n",
    "import statsmodels.api as sm\n",
    "import numpy as np"
   ]
  },
  {
   "cell_type": "code",
   "execution_count": 4,
   "outputs": [],
   "source": [
    "path = '/Users/andrea/Desktop/PhD/Projects/Current/NetMob/Data/BaseData'"
   ],
   "metadata": {
    "collapsed": false,
    "ExecuteTime": {
     "end_time": "2023-11-08T12:28:21.097996Z",
     "start_time": "2023-11-08T12:28:21.092151Z"
    }
   },
   "id": "8debca6314d7bada"
  },
  {
   "cell_type": "code",
   "execution_count": 5,
   "outputs": [],
   "source": [
    "a = pd.read_csv(f'{path}/admin_data_iris.csv', index_col=0)"
   ],
   "metadata": {
    "collapsed": false,
    "ExecuteTime": {
     "end_time": "2023-11-08T12:28:21.183009Z",
     "start_time": "2023-11-08T12:28:21.095154Z"
    }
   },
   "id": "1b158b4b0b56f12"
  },
  {
   "cell_type": "code",
   "execution_count": 6,
   "outputs": [
    {
     "data": {
      "text/plain": "399"
     },
     "execution_count": 6,
     "metadata": {},
     "output_type": "execute_result"
    }
   ],
   "source": [
    "len(a.columns)"
   ],
   "metadata": {
    "collapsed": false,
    "ExecuteTime": {
     "end_time": "2023-11-08T12:28:24.337755Z",
     "start_time": "2023-11-08T12:28:24.334721Z"
    }
   },
   "id": "9bb50d793374b039"
  },
  {
   "cell_type": "code",
   "execution_count": 7,
   "outputs": [
    {
     "data": {
      "text/plain": "399"
     },
     "execution_count": 7,
     "metadata": {},
     "output_type": "execute_result"
    }
   ],
   "source": [
    "len(a.columns.unique())"
   ],
   "metadata": {
    "collapsed": false,
    "ExecuteTime": {
     "end_time": "2023-11-08T12:28:32.094544Z",
     "start_time": "2023-11-08T12:28:32.090704Z"
    }
   },
   "id": "5cbf0f11b0d94f84"
  },
  {
   "cell_type": "code",
   "execution_count": 21,
   "outputs": [],
   "source": [
    "insee_tile_geo = gpd.read_file(f'{path}/insee_tile_geo.geojson')\n",
    "insee_tile_geo = insee_tile_geo.set_index('insee_tile')"
   ],
   "metadata": {
    "collapsed": false,
    "ExecuteTime": {
     "end_time": "2023-10-31T16:32:50.713754Z",
     "start_time": "2023-10-31T16:32:50.044405Z"
    }
   },
   "id": "5735d83f2c80870a"
  },
  {
   "cell_type": "code",
   "execution_count": 22,
   "outputs": [],
   "source": [
    "insee_tile_geo_buffered = insee_tile_geo.copy()\n",
    "insee_tile_geo_buffered['geometry'] = insee_tile_geo_buffered.buffer(1000)"
   ],
   "metadata": {
    "collapsed": false,
    "ExecuteTime": {
     "end_time": "2023-10-31T16:32:52.086231Z",
     "start_time": "2023-10-31T16:32:51.981027Z"
    }
   },
   "id": "2b862eecfb7d3be8"
  },
  {
   "cell_type": "code",
   "execution_count": 23,
   "outputs": [],
   "source": [
    "equipment_counts = insee.equipment.get_equipment_counts(polygons=insee_tile_geo_buffered, resolution=insee.equipment.EquipmentResolution.HIGH)"
   ],
   "metadata": {
    "collapsed": false,
    "ExecuteTime": {
     "end_time": "2023-10-31T16:33:23.879590Z",
     "start_time": "2023-10-31T16:32:57.824857Z"
    }
   },
   "id": "65c062de50866740"
  },
  {
   "cell_type": "code",
   "execution_count": 9,
   "outputs": [],
   "source": [
    "description = insee.equipment.get_equipment_description(resolution=insee.equipment.EquipmentResolution.HIGH)"
   ],
   "metadata": {
    "collapsed": false,
    "ExecuteTime": {
     "end_time": "2023-10-31T16:14:01.513833Z",
     "start_time": "2023-10-31T16:14:01.414469Z"
    }
   },
   "id": "944533b0ab5238f7"
  },
  {
   "cell_type": "code",
   "execution_count": 10,
   "outputs": [],
   "source": [
    "description1 = insee.equipment.get_equipment_description(resolution=insee.equipment.EquipmentResolution.LOW)"
   ],
   "metadata": {
    "collapsed": false,
    "ExecuteTime": {
     "end_time": "2023-10-31T16:19:52.106106Z",
     "start_time": "2023-10-31T16:19:52.098934Z"
    }
   },
   "id": "2a6d833dd693bd5e"
  },
  {
   "cell_type": "code",
   "execution_count": 24,
   "outputs": [],
   "source": [
    "frequently_visited_amenities = [\n",
    "    \"A203\",  # BANQUE, CAISSE D’ÉPARGNE\n",
    "    \"A206\",  # BUREAU DE POSTE\n",
    "    \"A207\",  # RELAIS POSTE\n",
    "    \"A208\",  # AGENCE POSTALE\n",
    "    \"A501\",  # COIFFURE\n",
    "    \"A504\",  # RESTAURANT- RESTAURATION RAPIDE\n",
    "    \"B101\",  # HYPERMARCHÉ\n",
    "    \"B102\",  # SUPERMARCHÉ\n",
    "    \"B201\",  # SUPÉRETTE\n",
    "    \"B203\",  # BOULANGERIE\n",
    "    \"B204\",  # BOUCHERIE CHARCUTERIE\n",
    "    \"B301\",  # LIBRAIRIE, PAPETERIE, JOURNAUX\n",
    "    \"B316\",  # STATION SERVICE\n",
    "    \"C101\",  # ÉCOLE MATERNELLE\n",
    "    \"C104\",  # ÉCOLE ÉLÉMENTAIRE\n",
    "    \"C201\",  # COLLÈGE\n",
    "    \"D201\",  # MÉDECIN GÉNÉRALISTE\n",
    "    \"D307\",  # PHARMACIE\n",
    "    \"E101\",  # TAXI-VTC\n",
    "    \"E107\",  # GARE DE VOYAGEURS D'INTERET NATIONAL\n",
    "    \"E108\",  # GARE DE VOYAGEURS D'INTERET RÉGIONAL\n",
    "    \"F101\",  # BASSIN DE NATATION\n",
    "    \"F103\",  # TENNIS\n",
    "    \"F107\",  # ATHLÉTISME\n",
    "    \"F121\",  # SALLES MULTISPORTS (GYMNASES)\n",
    "    \"F303\", # CINÉMA\n",
    "    \"F312\", # EXPOSITION ET MEDIATION CULTURELLE\n",
    "]"
   ],
   "metadata": {
    "collapsed": false,
    "ExecuteTime": {
     "end_time": "2023-10-31T16:33:23.883960Z",
     "start_time": "2023-10-31T16:33:23.880734Z"
    }
   },
   "id": "879f6cacc91ea49a"
  },
  {
   "cell_type": "code",
   "execution_count": 25,
   "outputs": [],
   "source": [
    "amenity_counts = equipment_counts.sum(axis=1).to_frame(name='amenity_count')"
   ],
   "metadata": {
    "collapsed": false,
    "ExecuteTime": {
     "end_time": "2023-10-31T16:33:23.888534Z",
     "start_time": "2023-10-31T16:33:23.883648Z"
    }
   },
   "id": "ef20b4ad4a99f35e"
  },
  {
   "cell_type": "code",
   "execution_count": 26,
   "outputs": [],
   "source": [
    "frequently_visited_amenity_counts = equipment_counts[frequently_visited_amenities].sum(axis=1).to_frame(name='frequently_visited_amenity_count')"
   ],
   "metadata": {
    "collapsed": false,
    "ExecuteTime": {
     "end_time": "2023-10-31T16:33:23.893973Z",
     "start_time": "2023-10-31T16:33:23.890921Z"
    }
   },
   "id": "6ecf5c311cf003de"
  },
  {
   "cell_type": "code",
   "execution_count": 27,
   "outputs": [],
   "source": [
    "amenity_counts = amenity_counts.merge(frequently_visited_amenity_counts, left_index=True, right_index=True)"
   ],
   "metadata": {
    "collapsed": false,
    "ExecuteTime": {
     "end_time": "2023-10-31T16:33:48.065626Z",
     "start_time": "2023-10-31T16:33:48.055279Z"
    }
   },
   "id": "cad04d04a45f74b1"
  },
  {
   "cell_type": "code",
   "execution_count": 52,
   "outputs": [],
   "source": [
    "amenity_counts.to_csv(f'{path}/amenity_counts_insee_tile.csv')"
   ],
   "metadata": {
    "collapsed": false,
    "ExecuteTime": {
     "end_time": "2023-10-31T16:57:19.411711Z",
     "start_time": "2023-10-31T16:57:19.382816Z"
    }
   },
   "id": "b27553d542d60a18"
  },
  {
   "cell_type": "code",
   "execution_count": 29,
   "outputs": [],
   "source": [
    "bed_time_index = pd.read_csv(f'{path}/bed_time_index_insee_tile.csv', index_col=0)"
   ],
   "metadata": {
    "collapsed": false,
    "ExecuteTime": {
     "end_time": "2023-10-31T16:34:20.868299Z",
     "start_time": "2023-10-31T16:34:20.847113Z"
    }
   },
   "id": "d47771e84c94048"
  },
  {
   "cell_type": "code",
   "execution_count": 30,
   "outputs": [],
   "source": [
    "amenity_counts_and_bed_time_index = amenity_counts.merge(bed_time_index, left_index=True, right_index=True)    "
   ],
   "metadata": {
    "collapsed": false,
    "ExecuteTime": {
     "end_time": "2023-10-31T16:34:43.452700Z",
     "start_time": "2023-10-31T16:34:43.439354Z"
    }
   },
   "id": "e0edb0b793a431d3"
  },
  {
   "cell_type": "code",
   "execution_count": 39,
   "outputs": [],
   "source": [
    "amenity_counts_and_bed_time_index['log10_amenity_count'] = np.log10(amenity_counts_and_bed_time_index['amenity_count'])\n",
    "amenity_counts_and_bed_time_index['log10_frequently_visited_amenity_count'] = np.log10(amenity_counts_and_bed_time_index['frequently_visited_amenity_count'])"
   ],
   "metadata": {
    "collapsed": false,
    "ExecuteTime": {
     "end_time": "2023-10-31T16:40:19.066486Z",
     "start_time": "2023-10-31T16:40:19.059178Z"
    }
   },
   "id": "91813ae39212c73d"
  },
  {
   "cell_type": "code",
   "execution_count": 51,
   "outputs": [],
   "source": [
    "x_axis = 'log10_amenity_count'\n",
    "x_axis_title = 'N amenities'\n",
    "fig = go.Figure()\n",
    "scatter = go.Scatter(\n",
    "    x=amenity_counts_and_bed_time_index[x_axis].values,\n",
    "    y=amenity_counts_and_bed_time_index['bed_time_index'].values,\n",
    "    mode='markers',\n",
    "    marker=dict(\n",
    "        size=3,\n",
    "        color='black',\n",
    "        opacity=0.5\n",
    "    ),\n",
    "    showlegend=False\n",
    ")\n",
    "\n",
    "fig.add_trace(scatter)\n",
    "\n",
    "reg = sm.OLS(amenity_counts_and_bed_time_index['bed_time_index'].values, sm.add_constant(amenity_counts_and_bed_time_index[x_axis].values)).fit()\n",
    "\n",
    "slope, intercept, pvalue = reg.params[1], reg.params[0], reg.pvalues[1]\n",
    "\n",
    "reg_line = go.Scatter(\n",
    "    x=amenity_counts_and_bed_time_index[x_axis].values,\n",
    "    y=amenity_counts_and_bed_time_index[x_axis].values * slope + intercept,\n",
    "    mode='lines',\n",
    "    line=dict(\n",
    "        color='red',\n",
    "        width=3\n",
    "    ),\n",
    "    name=f'Slope: {slope:.2f},  p-value: {pvalue:.2f}'\n",
    ")\n",
    "\n",
    "fig.add_trace(reg_line)\n",
    "\n",
    "fig.update_layout(\n",
    "    title='Bed time index vs. number of amenities',\n",
    "    xaxis_title=x_axis_title,\n",
    "    yaxis_title='Bed time index',\n",
    "    font=dict(\n",
    "        size=30,\n",
    "        color='black'\n",
    "    ),\n",
    "    template='plotly_white',\n",
    "    width=1000,\n",
    "    height=600,\n",
    "    legend=dict(\n",
    "        font=dict(\n",
    "            size=20\n",
    "        )\n",
    "    )\n",
    "    \n",
    ")\n",
    "\n",
    "fig.show(renderer='browser')\n",
    "\n",
    "\n",
    "\n",
    "\n"
   ],
   "metadata": {
    "collapsed": false,
    "ExecuteTime": {
     "end_time": "2023-10-31T16:44:30.113467Z",
     "start_time": "2023-10-31T16:44:29.924118Z"
    }
   },
   "id": "f87b8412041d5307"
  },
  {
   "cell_type": "code",
   "execution_count": 49,
   "outputs": [],
   "source": [
    "import xarray as xr\n",
    "import pandas as pd\n",
    "import numpy as np\n",
    "import mobile_traffic as mt"
   ],
   "metadata": {
    "collapsed": false,
    "ExecuteTime": {
     "end_time": "2023-11-03T13:49:25.016823Z",
     "start_time": "2023-11-03T13:49:24.854458Z"
    }
   },
   "id": "4824df76d98fdee6"
  },
  {
   "cell_type": "code",
   "execution_count": 58,
   "outputs": [],
   "source": [
    "dates = pd.date_range(start='2019-03-16', end='2019-05-31', freq='1D')\n",
    "times = pd.timedelta_range(start='00:00:00', end='23:59:00', freq='15min')\n",
    "dts = np.add.outer(dates, times).flatten()"
   ],
   "metadata": {
    "collapsed": false,
    "ExecuteTime": {
     "end_time": "2023-11-03T13:52:25.118393Z",
     "start_time": "2023-11-03T13:52:25.106102Z"
    }
   },
   "id": "58243e0a8c68e744"
  },
  {
   "cell_type": "code",
   "execution_count": 59,
   "outputs": [],
   "source": [
    "locations = np.arange(10)\n",
    "services = [mt.Service.TWITCH, mt.Service.FACEBOOK, mt.Service.YOUTUBE, mt.Service.AMAZON_WEB_SERVICES]"
   ],
   "metadata": {
    "collapsed": false,
    "ExecuteTime": {
     "end_time": "2023-11-03T13:52:25.275459Z",
     "start_time": "2023-11-03T13:52:25.273689Z"
    }
   },
   "id": "abbd94792e114080"
  },
  {
   "cell_type": "code",
   "execution_count": 61,
   "outputs": [],
   "source": [
    "a = np.zeros(shape=(len(locations), len(dts), len(services)))\n",
    "for i, dt in enumerate(dts):\n",
    "    if pd.Timestamp(dt).time() < pd.to_datetime('08:00:00').time():\n",
    "        a[:, i, :] = 1\n",
    "        \n",
    "for i, l in enumerate(locations):\n",
    "    a[i, :, :] = a[i, :, :] * (i + 1)\n",
    "    \n",
    "for i, s in enumerate(services):\n",
    "    a[:, :, i] = a[:, :, i] * (i + 1)"
   ],
   "metadata": {
    "collapsed": false,
    "ExecuteTime": {
     "end_time": "2023-11-03T13:53:00.631032Z",
     "start_time": "2023-11-03T13:53:00.044509Z"
    }
   },
   "id": "d8b0bbdda1cb9d76"
  },
  {
   "cell_type": "code",
   "execution_count": 62,
   "outputs": [
    {
     "data": {
      "text/plain": "<xarray.DataArray (locations: 10, datetime: 7392, services: 4)>\narray([[[ 1.,  2.,  3.,  4.],\n        [ 1.,  2.,  3.,  4.],\n        [ 1.,  2.,  3.,  4.],\n        ...,\n        [ 0.,  0.,  0.,  0.],\n        [ 0.,  0.,  0.,  0.],\n        [ 0.,  0.,  0.,  0.]],\n\n       [[ 2.,  4.,  6.,  8.],\n        [ 2.,  4.,  6.,  8.],\n        [ 2.,  4.,  6.,  8.],\n        ...,\n        [ 0.,  0.,  0.,  0.],\n        [ 0.,  0.,  0.,  0.],\n        [ 0.,  0.,  0.,  0.]],\n\n       [[ 3.,  6.,  9., 12.],\n        [ 3.,  6.,  9., 12.],\n        [ 3.,  6.,  9., 12.],\n        ...,\n...\n        ...,\n        [ 0.,  0.,  0.,  0.],\n        [ 0.,  0.,  0.,  0.],\n        [ 0.,  0.,  0.,  0.]],\n\n       [[ 9., 18., 27., 36.],\n        [ 9., 18., 27., 36.],\n        [ 9., 18., 27., 36.],\n        ...,\n        [ 0.,  0.,  0.,  0.],\n        [ 0.,  0.,  0.,  0.],\n        [ 0.,  0.,  0.,  0.]],\n\n       [[10., 20., 30., 40.],\n        [10., 20., 30., 40.],\n        [10., 20., 30., 40.],\n        ...,\n        [ 0.,  0.,  0.,  0.],\n        [ 0.,  0.,  0.,  0.],\n        [ 0.,  0.,  0.,  0.]]])\nCoordinates:\n  * locations  (locations) int64 0 1 2 3 4 5 6 7 8 9\n  * datetime   (datetime) datetime64[ns] 2019-03-16 ... 2019-05-31T23:45:00\n  * services   (services) object Service.TWITCH ... Service.AMAZON_WEB_SERVICES",
      "text/html": "<div><svg style=\"position: absolute; width: 0; height: 0; overflow: hidden\">\n<defs>\n<symbol id=\"icon-database\" viewBox=\"0 0 32 32\">\n<path d=\"M16 0c-8.837 0-16 2.239-16 5v4c0 2.761 7.163 5 16 5s16-2.239 16-5v-4c0-2.761-7.163-5-16-5z\"></path>\n<path d=\"M16 17c-8.837 0-16-2.239-16-5v6c0 2.761 7.163 5 16 5s16-2.239 16-5v-6c0 2.761-7.163 5-16 5z\"></path>\n<path d=\"M16 26c-8.837 0-16-2.239-16-5v6c0 2.761 7.163 5 16 5s16-2.239 16-5v-6c0 2.761-7.163 5-16 5z\"></path>\n</symbol>\n<symbol id=\"icon-file-text2\" viewBox=\"0 0 32 32\">\n<path d=\"M28.681 7.159c-0.694-0.947-1.662-2.053-2.724-3.116s-2.169-2.030-3.116-2.724c-1.612-1.182-2.393-1.319-2.841-1.319h-15.5c-1.378 0-2.5 1.121-2.5 2.5v27c0 1.378 1.122 2.5 2.5 2.5h23c1.378 0 2.5-1.122 2.5-2.5v-19.5c0-0.448-0.137-1.23-1.319-2.841zM24.543 5.457c0.959 0.959 1.712 1.825 2.268 2.543h-4.811v-4.811c0.718 0.556 1.584 1.309 2.543 2.268zM28 29.5c0 0.271-0.229 0.5-0.5 0.5h-23c-0.271 0-0.5-0.229-0.5-0.5v-27c0-0.271 0.229-0.5 0.5-0.5 0 0 15.499-0 15.5 0v7c0 0.552 0.448 1 1 1h7v19.5z\"></path>\n<path d=\"M23 26h-14c-0.552 0-1-0.448-1-1s0.448-1 1-1h14c0.552 0 1 0.448 1 1s-0.448 1-1 1z\"></path>\n<path d=\"M23 22h-14c-0.552 0-1-0.448-1-1s0.448-1 1-1h14c0.552 0 1 0.448 1 1s-0.448 1-1 1z\"></path>\n<path d=\"M23 18h-14c-0.552 0-1-0.448-1-1s0.448-1 1-1h14c0.552 0 1 0.448 1 1s-0.448 1-1 1z\"></path>\n</symbol>\n</defs>\n</svg>\n<style>/* CSS stylesheet for displaying xarray objects in jupyterlab.\n *\n */\n\n:root {\n  --xr-font-color0: var(--jp-content-font-color0, rgba(0, 0, 0, 1));\n  --xr-font-color2: var(--jp-content-font-color2, rgba(0, 0, 0, 0.54));\n  --xr-font-color3: var(--jp-content-font-color3, rgba(0, 0, 0, 0.38));\n  --xr-border-color: var(--jp-border-color2, #e0e0e0);\n  --xr-disabled-color: var(--jp-layout-color3, #bdbdbd);\n  --xr-background-color: var(--jp-layout-color0, white);\n  --xr-background-color-row-even: var(--jp-layout-color1, white);\n  --xr-background-color-row-odd: var(--jp-layout-color2, #eeeeee);\n}\n\nhtml[theme=dark],\nbody[data-theme=dark],\nbody.vscode-dark {\n  --xr-font-color0: rgba(255, 255, 255, 1);\n  --xr-font-color2: rgba(255, 255, 255, 0.54);\n  --xr-font-color3: rgba(255, 255, 255, 0.38);\n  --xr-border-color: #1F1F1F;\n  --xr-disabled-color: #515151;\n  --xr-background-color: #111111;\n  --xr-background-color-row-even: #111111;\n  --xr-background-color-row-odd: #313131;\n}\n\n.xr-wrap {\n  display: block !important;\n  min-width: 300px;\n  max-width: 700px;\n}\n\n.xr-text-repr-fallback {\n  /* fallback to plain text repr when CSS is not injected (untrusted notebook) */\n  display: none;\n}\n\n.xr-header {\n  padding-top: 6px;\n  padding-bottom: 6px;\n  margin-bottom: 4px;\n  border-bottom: solid 1px var(--xr-border-color);\n}\n\n.xr-header > div,\n.xr-header > ul {\n  display: inline;\n  margin-top: 0;\n  margin-bottom: 0;\n}\n\n.xr-obj-type,\n.xr-array-name {\n  margin-left: 2px;\n  margin-right: 10px;\n}\n\n.xr-obj-type {\n  color: var(--xr-font-color2);\n}\n\n.xr-sections {\n  padding-left: 0 !important;\n  display: grid;\n  grid-template-columns: 150px auto auto 1fr 20px 20px;\n}\n\n.xr-section-item {\n  display: contents;\n}\n\n.xr-section-item input {\n  display: none;\n}\n\n.xr-section-item input + label {\n  color: var(--xr-disabled-color);\n}\n\n.xr-section-item input:enabled + label {\n  cursor: pointer;\n  color: var(--xr-font-color2);\n}\n\n.xr-section-item input:enabled + label:hover {\n  color: var(--xr-font-color0);\n}\n\n.xr-section-summary {\n  grid-column: 1;\n  color: var(--xr-font-color2);\n  font-weight: 500;\n}\n\n.xr-section-summary > span {\n  display: inline-block;\n  padding-left: 0.5em;\n}\n\n.xr-section-summary-in:disabled + label {\n  color: var(--xr-font-color2);\n}\n\n.xr-section-summary-in + label:before {\n  display: inline-block;\n  content: '►';\n  font-size: 11px;\n  width: 15px;\n  text-align: center;\n}\n\n.xr-section-summary-in:disabled + label:before {\n  color: var(--xr-disabled-color);\n}\n\n.xr-section-summary-in:checked + label:before {\n  content: '▼';\n}\n\n.xr-section-summary-in:checked + label > span {\n  display: none;\n}\n\n.xr-section-summary,\n.xr-section-inline-details {\n  padding-top: 4px;\n  padding-bottom: 4px;\n}\n\n.xr-section-inline-details {\n  grid-column: 2 / -1;\n}\n\n.xr-section-details {\n  display: none;\n  grid-column: 1 / -1;\n  margin-bottom: 5px;\n}\n\n.xr-section-summary-in:checked ~ .xr-section-details {\n  display: contents;\n}\n\n.xr-array-wrap {\n  grid-column: 1 / -1;\n  display: grid;\n  grid-template-columns: 20px auto;\n}\n\n.xr-array-wrap > label {\n  grid-column: 1;\n  vertical-align: top;\n}\n\n.xr-preview {\n  color: var(--xr-font-color3);\n}\n\n.xr-array-preview,\n.xr-array-data {\n  padding: 0 5px !important;\n  grid-column: 2;\n}\n\n.xr-array-data,\n.xr-array-in:checked ~ .xr-array-preview {\n  display: none;\n}\n\n.xr-array-in:checked ~ .xr-array-data,\n.xr-array-preview {\n  display: inline-block;\n}\n\n.xr-dim-list {\n  display: inline-block !important;\n  list-style: none;\n  padding: 0 !important;\n  margin: 0;\n}\n\n.xr-dim-list li {\n  display: inline-block;\n  padding: 0;\n  margin: 0;\n}\n\n.xr-dim-list:before {\n  content: '(';\n}\n\n.xr-dim-list:after {\n  content: ')';\n}\n\n.xr-dim-list li:not(:last-child):after {\n  content: ',';\n  padding-right: 5px;\n}\n\n.xr-has-index {\n  font-weight: bold;\n}\n\n.xr-var-list,\n.xr-var-item {\n  display: contents;\n}\n\n.xr-var-item > div,\n.xr-var-item label,\n.xr-var-item > .xr-var-name span {\n  background-color: var(--xr-background-color-row-even);\n  margin-bottom: 0;\n}\n\n.xr-var-item > .xr-var-name:hover span {\n  padding-right: 5px;\n}\n\n.xr-var-list > li:nth-child(odd) > div,\n.xr-var-list > li:nth-child(odd) > label,\n.xr-var-list > li:nth-child(odd) > .xr-var-name span {\n  background-color: var(--xr-background-color-row-odd);\n}\n\n.xr-var-name {\n  grid-column: 1;\n}\n\n.xr-var-dims {\n  grid-column: 2;\n}\n\n.xr-var-dtype {\n  grid-column: 3;\n  text-align: right;\n  color: var(--xr-font-color2);\n}\n\n.xr-var-preview {\n  grid-column: 4;\n}\n\n.xr-index-preview {\n  grid-column: 2 / 5;\n  color: var(--xr-font-color2);\n}\n\n.xr-var-name,\n.xr-var-dims,\n.xr-var-dtype,\n.xr-preview,\n.xr-attrs dt {\n  white-space: nowrap;\n  overflow: hidden;\n  text-overflow: ellipsis;\n  padding-right: 10px;\n}\n\n.xr-var-name:hover,\n.xr-var-dims:hover,\n.xr-var-dtype:hover,\n.xr-attrs dt:hover {\n  overflow: visible;\n  width: auto;\n  z-index: 1;\n}\n\n.xr-var-attrs,\n.xr-var-data,\n.xr-index-data {\n  display: none;\n  background-color: var(--xr-background-color) !important;\n  padding-bottom: 5px !important;\n}\n\n.xr-var-attrs-in:checked ~ .xr-var-attrs,\n.xr-var-data-in:checked ~ .xr-var-data,\n.xr-index-data-in:checked ~ .xr-index-data {\n  display: block;\n}\n\n.xr-var-data > table {\n  float: right;\n}\n\n.xr-var-name span,\n.xr-var-data,\n.xr-index-name div,\n.xr-index-data,\n.xr-attrs {\n  padding-left: 25px !important;\n}\n\n.xr-attrs,\n.xr-var-attrs,\n.xr-var-data,\n.xr-index-data {\n  grid-column: 1 / -1;\n}\n\ndl.xr-attrs {\n  padding: 0;\n  margin: 0;\n  display: grid;\n  grid-template-columns: 125px auto;\n}\n\n.xr-attrs dt,\n.xr-attrs dd {\n  padding: 0;\n  margin: 0;\n  float: left;\n  padding-right: 10px;\n  width: auto;\n}\n\n.xr-attrs dt {\n  font-weight: normal;\n  grid-column: 1;\n}\n\n.xr-attrs dt:hover span {\n  display: inline-block;\n  background: var(--xr-background-color);\n  padding-right: 10px;\n}\n\n.xr-attrs dd {\n  grid-column: 2;\n  white-space: pre-wrap;\n  word-break: break-all;\n}\n\n.xr-icon-database,\n.xr-icon-file-text2,\n.xr-no-icon {\n  display: inline-block;\n  vertical-align: middle;\n  width: 1em;\n  height: 1.5em !important;\n  stroke-width: 0;\n  stroke: currentColor;\n  fill: currentColor;\n}\n</style><pre class='xr-text-repr-fallback'>&lt;xarray.DataArray (locations: 10, datetime: 7392, services: 4)&gt;\narray([[[ 1.,  2.,  3.,  4.],\n        [ 1.,  2.,  3.,  4.],\n        [ 1.,  2.,  3.,  4.],\n        ...,\n        [ 0.,  0.,  0.,  0.],\n        [ 0.,  0.,  0.,  0.],\n        [ 0.,  0.,  0.,  0.]],\n\n       [[ 2.,  4.,  6.,  8.],\n        [ 2.,  4.,  6.,  8.],\n        [ 2.,  4.,  6.,  8.],\n        ...,\n        [ 0.,  0.,  0.,  0.],\n        [ 0.,  0.,  0.,  0.],\n        [ 0.,  0.,  0.,  0.]],\n\n       [[ 3.,  6.,  9., 12.],\n        [ 3.,  6.,  9., 12.],\n        [ 3.,  6.,  9., 12.],\n        ...,\n...\n        ...,\n        [ 0.,  0.,  0.,  0.],\n        [ 0.,  0.,  0.,  0.],\n        [ 0.,  0.,  0.,  0.]],\n\n       [[ 9., 18., 27., 36.],\n        [ 9., 18., 27., 36.],\n        [ 9., 18., 27., 36.],\n        ...,\n        [ 0.,  0.,  0.,  0.],\n        [ 0.,  0.,  0.,  0.],\n        [ 0.,  0.,  0.,  0.]],\n\n       [[10., 20., 30., 40.],\n        [10., 20., 30., 40.],\n        [10., 20., 30., 40.],\n        ...,\n        [ 0.,  0.,  0.,  0.],\n        [ 0.,  0.,  0.,  0.],\n        [ 0.,  0.,  0.,  0.]]])\nCoordinates:\n  * locations  (locations) int64 0 1 2 3 4 5 6 7 8 9\n  * datetime   (datetime) datetime64[ns] 2019-03-16 ... 2019-05-31T23:45:00\n  * services   (services) object Service.TWITCH ... Service.AMAZON_WEB_SERVICES</pre><div class='xr-wrap' style='display:none'><div class='xr-header'><div class='xr-obj-type'>xarray.DataArray</div><div class='xr-array-name'></div><ul class='xr-dim-list'><li><span class='xr-has-index'>locations</span>: 10</li><li><span class='xr-has-index'>datetime</span>: 7392</li><li><span class='xr-has-index'>services</span>: 4</li></ul></div><ul class='xr-sections'><li class='xr-section-item'><div class='xr-array-wrap'><input id='section-6346d7ce-95ae-4880-9928-d52a596dd0c4' class='xr-array-in' type='checkbox' checked><label for='section-6346d7ce-95ae-4880-9928-d52a596dd0c4' title='Show/hide data repr'><svg class='icon xr-icon-database'><use xlink:href='#icon-database'></use></svg></label><div class='xr-array-preview xr-preview'><span>1.0 2.0 3.0 4.0 1.0 2.0 3.0 4.0 ... 0.0 0.0 0.0 0.0 0.0 0.0 0.0 0.0</span></div><div class='xr-array-data'><pre>array([[[ 1.,  2.,  3.,  4.],\n        [ 1.,  2.,  3.,  4.],\n        [ 1.,  2.,  3.,  4.],\n        ...,\n        [ 0.,  0.,  0.,  0.],\n        [ 0.,  0.,  0.,  0.],\n        [ 0.,  0.,  0.,  0.]],\n\n       [[ 2.,  4.,  6.,  8.],\n        [ 2.,  4.,  6.,  8.],\n        [ 2.,  4.,  6.,  8.],\n        ...,\n        [ 0.,  0.,  0.,  0.],\n        [ 0.,  0.,  0.,  0.],\n        [ 0.,  0.,  0.,  0.]],\n\n       [[ 3.,  6.,  9., 12.],\n        [ 3.,  6.,  9., 12.],\n        [ 3.,  6.,  9., 12.],\n        ...,\n...\n        ...,\n        [ 0.,  0.,  0.,  0.],\n        [ 0.,  0.,  0.,  0.],\n        [ 0.,  0.,  0.,  0.]],\n\n       [[ 9., 18., 27., 36.],\n        [ 9., 18., 27., 36.],\n        [ 9., 18., 27., 36.],\n        ...,\n        [ 0.,  0.,  0.,  0.],\n        [ 0.,  0.,  0.,  0.],\n        [ 0.,  0.,  0.,  0.]],\n\n       [[10., 20., 30., 40.],\n        [10., 20., 30., 40.],\n        [10., 20., 30., 40.],\n        ...,\n        [ 0.,  0.,  0.,  0.],\n        [ 0.,  0.,  0.,  0.],\n        [ 0.,  0.,  0.,  0.]]])</pre></div></div></li><li class='xr-section-item'><input id='section-88bd4116-672c-4893-9e46-32db9efb3758' class='xr-section-summary-in' type='checkbox'  checked><label for='section-88bd4116-672c-4893-9e46-32db9efb3758' class='xr-section-summary' >Coordinates: <span>(3)</span></label><div class='xr-section-inline-details'></div><div class='xr-section-details'><ul class='xr-var-list'><li class='xr-var-item'><div class='xr-var-name'><span class='xr-has-index'>locations</span></div><div class='xr-var-dims'>(locations)</div><div class='xr-var-dtype'>int64</div><div class='xr-var-preview xr-preview'>0 1 2 3 4 5 6 7 8 9</div><input id='attrs-5e864c2e-6256-4aac-841d-1fa2aa6cd8ed' class='xr-var-attrs-in' type='checkbox' disabled><label for='attrs-5e864c2e-6256-4aac-841d-1fa2aa6cd8ed' title='Show/Hide attributes'><svg class='icon xr-icon-file-text2'><use xlink:href='#icon-file-text2'></use></svg></label><input id='data-6e348866-99f4-42ec-aaa6-de93768128e6' class='xr-var-data-in' type='checkbox'><label for='data-6e348866-99f4-42ec-aaa6-de93768128e6' title='Show/Hide data repr'><svg class='icon xr-icon-database'><use xlink:href='#icon-database'></use></svg></label><div class='xr-var-attrs'><dl class='xr-attrs'></dl></div><div class='xr-var-data'><pre>array([0, 1, 2, 3, 4, 5, 6, 7, 8, 9])</pre></div></li><li class='xr-var-item'><div class='xr-var-name'><span class='xr-has-index'>datetime</span></div><div class='xr-var-dims'>(datetime)</div><div class='xr-var-dtype'>datetime64[ns]</div><div class='xr-var-preview xr-preview'>2019-03-16 ... 2019-05-31T23:45:00</div><input id='attrs-c72ba250-80e6-494f-92bc-60dd903cc82f' class='xr-var-attrs-in' type='checkbox' disabled><label for='attrs-c72ba250-80e6-494f-92bc-60dd903cc82f' title='Show/Hide attributes'><svg class='icon xr-icon-file-text2'><use xlink:href='#icon-file-text2'></use></svg></label><input id='data-64c390d7-3690-4502-9e24-2118f4c5e83b' class='xr-var-data-in' type='checkbox'><label for='data-64c390d7-3690-4502-9e24-2118f4c5e83b' title='Show/Hide data repr'><svg class='icon xr-icon-database'><use xlink:href='#icon-database'></use></svg></label><div class='xr-var-attrs'><dl class='xr-attrs'></dl></div><div class='xr-var-data'><pre>array([&#x27;2019-03-16T00:00:00.000000000&#x27;, &#x27;2019-03-16T00:15:00.000000000&#x27;,\n       &#x27;2019-03-16T00:30:00.000000000&#x27;, ..., &#x27;2019-05-31T23:15:00.000000000&#x27;,\n       &#x27;2019-05-31T23:30:00.000000000&#x27;, &#x27;2019-05-31T23:45:00.000000000&#x27;],\n      dtype=&#x27;datetime64[ns]&#x27;)</pre></div></li><li class='xr-var-item'><div class='xr-var-name'><span class='xr-has-index'>services</span></div><div class='xr-var-dims'>(services)</div><div class='xr-var-dtype'>object</div><div class='xr-var-preview xr-preview'>Service.TWITCH ... Service.AMAZO...</div><input id='attrs-3cd9d9b5-f10e-4195-9bc9-483c82491ece' class='xr-var-attrs-in' type='checkbox' disabled><label for='attrs-3cd9d9b5-f10e-4195-9bc9-483c82491ece' title='Show/Hide attributes'><svg class='icon xr-icon-file-text2'><use xlink:href='#icon-file-text2'></use></svg></label><input id='data-1869633a-17a0-4d4a-8694-94f77f722713' class='xr-var-data-in' type='checkbox'><label for='data-1869633a-17a0-4d4a-8694-94f77f722713' title='Show/Hide data repr'><svg class='icon xr-icon-database'><use xlink:href='#icon-database'></use></svg></label><div class='xr-var-attrs'><dl class='xr-attrs'></dl></div><div class='xr-var-data'><pre>array([&lt;Service.TWITCH: &#x27;Twitch&#x27;&gt;, &lt;Service.FACEBOOK: &#x27;Facebook&#x27;&gt;,\n       &lt;Service.YOUTUBE: &#x27;YouTube&#x27;&gt;,\n       &lt;Service.AMAZON_WEB_SERVICES: &#x27;Amazon_Web_Services&#x27;&gt;], dtype=object)</pre></div></li></ul></div></li><li class='xr-section-item'><input id='section-11e1c0fa-2ade-4192-8342-475187f53ac2' class='xr-section-summary-in' type='checkbox'  ><label for='section-11e1c0fa-2ade-4192-8342-475187f53ac2' class='xr-section-summary' >Indexes: <span>(3)</span></label><div class='xr-section-inline-details'></div><div class='xr-section-details'><ul class='xr-var-list'><li class='xr-var-item'><div class='xr-index-name'><div>locations</div></div><div class='xr-index-preview'>PandasIndex</div><div></div><input id='index-c89985cf-fb75-4ba7-a6b3-34821fe3aa1d' class='xr-index-data-in' type='checkbox'/><label for='index-c89985cf-fb75-4ba7-a6b3-34821fe3aa1d' title='Show/Hide index repr'><svg class='icon xr-icon-database'><use xlink:href='#icon-database'></use></svg></label><div class='xr-index-data'><pre>PandasIndex(Index([0, 1, 2, 3, 4, 5, 6, 7, 8, 9], dtype=&#x27;int64&#x27;, name=&#x27;locations&#x27;))</pre></div></li><li class='xr-var-item'><div class='xr-index-name'><div>datetime</div></div><div class='xr-index-preview'>PandasIndex</div><div></div><input id='index-a6584dd6-3b9a-43b5-bad9-ccd581a6613f' class='xr-index-data-in' type='checkbox'/><label for='index-a6584dd6-3b9a-43b5-bad9-ccd581a6613f' title='Show/Hide index repr'><svg class='icon xr-icon-database'><use xlink:href='#icon-database'></use></svg></label><div class='xr-index-data'><pre>PandasIndex(DatetimeIndex([&#x27;2019-03-16 00:00:00&#x27;, &#x27;2019-03-16 00:15:00&#x27;,\n               &#x27;2019-03-16 00:30:00&#x27;, &#x27;2019-03-16 00:45:00&#x27;,\n               &#x27;2019-03-16 01:00:00&#x27;, &#x27;2019-03-16 01:15:00&#x27;,\n               &#x27;2019-03-16 01:30:00&#x27;, &#x27;2019-03-16 01:45:00&#x27;,\n               &#x27;2019-03-16 02:00:00&#x27;, &#x27;2019-03-16 02:15:00&#x27;,\n               ...\n               &#x27;2019-05-31 21:30:00&#x27;, &#x27;2019-05-31 21:45:00&#x27;,\n               &#x27;2019-05-31 22:00:00&#x27;, &#x27;2019-05-31 22:15:00&#x27;,\n               &#x27;2019-05-31 22:30:00&#x27;, &#x27;2019-05-31 22:45:00&#x27;,\n               &#x27;2019-05-31 23:00:00&#x27;, &#x27;2019-05-31 23:15:00&#x27;,\n               &#x27;2019-05-31 23:30:00&#x27;, &#x27;2019-05-31 23:45:00&#x27;],\n              dtype=&#x27;datetime64[ns]&#x27;, name=&#x27;datetime&#x27;, length=7392, freq=None))</pre></div></li><li class='xr-var-item'><div class='xr-index-name'><div>services</div></div><div class='xr-index-preview'>PandasIndex</div><div></div><input id='index-b26490be-5530-489d-ab4e-1651584894f4' class='xr-index-data-in' type='checkbox'/><label for='index-b26490be-5530-489d-ab4e-1651584894f4' title='Show/Hide index repr'><svg class='icon xr-icon-database'><use xlink:href='#icon-database'></use></svg></label><div class='xr-index-data'><pre>PandasIndex(Index([Service.TWITCH, Service.FACEBOOK, Service.YOUTUBE,\n       Service.AMAZON_WEB_SERVICES],\n      dtype=&#x27;object&#x27;, name=&#x27;services&#x27;))</pre></div></li></ul></div></li><li class='xr-section-item'><input id='section-dc3eb660-bab6-41c1-ac66-229dc05f45fd' class='xr-section-summary-in' type='checkbox' disabled ><label for='section-dc3eb660-bab6-41c1-ac66-229dc05f45fd' class='xr-section-summary'  title='Expand/collapse section'>Attributes: <span>(0)</span></label><div class='xr-section-inline-details'></div><div class='xr-section-details'><dl class='xr-attrs'></dl></div></li></ul></div></div>"
     },
     "execution_count": 62,
     "metadata": {},
     "output_type": "execute_result"
    }
   ],
   "source": [
    "da = xr.DataArray(\n",
    "    a,\n",
    "    coords=[locations, dts, services],\n",
    "    dims=[\"locations\", \"datetime\", \"services\"],\n",
    ")\n",
    "da"
   ],
   "metadata": {
    "collapsed": false,
    "ExecuteTime": {
     "end_time": "2023-11-03T13:53:01.306287Z",
     "start_time": "2023-11-03T13:53:01.300228Z"
    }
   },
   "id": "1696686608739cf7"
  },
  {
   "cell_type": "code",
   "execution_count": 67,
   "outputs": [],
   "source": [
    "c = da.sel(locations=3, services=mt.Service.FACEBOOK).to_pandas()"
   ],
   "metadata": {
    "collapsed": false,
    "ExecuteTime": {
     "end_time": "2023-11-03T13:55:02.312557Z",
     "start_time": "2023-11-03T13:55:02.300460Z"
    }
   },
   "id": "bd962c23331046a5"
  },
  {
   "cell_type": "code",
   "execution_count": 69,
   "outputs": [],
   "source": [
    "gb = da.groupby(group='datetime.time').sum()"
   ],
   "metadata": {
    "collapsed": false,
    "ExecuteTime": {
     "end_time": "2023-11-03T13:55:18.851333Z",
     "start_time": "2023-11-03T13:55:18.832595Z"
    }
   },
   "id": "7d642b6cd99f8b08"
  },
  {
   "cell_type": "code",
   "execution_count": 75,
   "outputs": [
    {
     "data": {
      "text/plain": "('locations', 'time', 'services')"
     },
     "execution_count": 75,
     "metadata": {},
     "output_type": "execute_result"
    }
   ],
   "source": [
    "gb.dims"
   ],
   "metadata": {
    "collapsed": false,
    "ExecuteTime": {
     "end_time": "2023-11-03T16:02:59.407144Z",
     "start_time": "2023-11-03T16:02:59.394475Z"
    }
   },
   "id": "c269d6b06470168f"
  },
  {
   "cell_type": "code",
   "execution_count": 71,
   "outputs": [],
   "source": [
    "gb1 = gb.sel(services=[mt.Service.TWITCH, mt.Service.FACEBOOK])"
   ],
   "metadata": {
    "collapsed": false,
    "ExecuteTime": {
     "end_time": "2023-11-03T13:56:03.988047Z",
     "start_time": "2023-11-03T13:56:03.975867Z"
    }
   },
   "id": "fa5130870c29c296"
  },
  {
   "cell_type": "code",
   "execution_count": 72,
   "outputs": [],
   "source": [
    "gb2 = gb.sel(services=[mt.Service.YOUTUBE, mt.Service.AMAZON_WEB_SERVICES])"
   ],
   "metadata": {
    "collapsed": false,
    "ExecuteTime": {
     "end_time": "2023-11-03T13:56:04.231788Z",
     "start_time": "2023-11-03T13:56:04.211549Z"
    }
   },
   "id": "33a4ef9371f2b43c"
  },
  {
   "cell_type": "code",
   "execution_count": 76,
   "outputs": [],
   "source": [
    "gb_recomposed = xr.concat(objs=[gb1, gb2], dim='services')"
   ],
   "metadata": {
    "collapsed": false,
    "ExecuteTime": {
     "end_time": "2023-11-03T16:04:01.212253Z",
     "start_time": "2023-11-03T16:04:01.209926Z"
    }
   },
   "id": "201b7d46a88014dc"
  },
  {
   "cell_type": "code",
   "execution_count": 74,
   "outputs": [
    {
     "data": {
      "text/plain": "0.0"
     },
     "execution_count": 74,
     "metadata": {},
     "output_type": "execute_result"
    }
   ],
   "source": [
    "(gb_recomposed.data - gb.data).max()"
   ],
   "metadata": {
    "collapsed": false,
    "ExecuteTime": {
     "end_time": "2023-11-03T13:56:42.784220Z",
     "start_time": "2023-11-03T13:56:42.764924Z"
    }
   },
   "id": "24d304c531fe276d"
  },
  {
   "cell_type": "code",
   "execution_count": 77,
   "outputs": [
    {
     "data": {
      "text/plain": "'2023.6.0'"
     },
     "execution_count": 77,
     "metadata": {},
     "output_type": "execute_result"
    }
   ],
   "source": [
    "xr.__version__"
   ],
   "metadata": {
    "collapsed": false,
    "ExecuteTime": {
     "end_time": "2023-11-03T16:05:34.979637Z",
     "start_time": "2023-11-03T16:05:34.962479Z"
    }
   },
   "id": "ff94e351639886c9"
  },
  {
   "cell_type": "code",
   "execution_count": 84,
   "outputs": [
    {
     "data": {
      "text/plain": "['00:00:00',\n '00:15:00',\n '00:30:00',\n '00:45:00',\n '01:00:00',\n '01:15:00',\n '01:30:00',\n '01:45:00',\n '02:00:00',\n '02:15:00',\n '02:30:00',\n '02:45:00',\n '03:00:00',\n '03:15:00',\n '03:30:00',\n '03:45:00',\n '04:00:00',\n '04:15:00',\n '04:30:00',\n '04:45:00',\n '05:00:00',\n '05:15:00',\n '05:30:00',\n '05:45:00',\n '06:00:00',\n '06:15:00',\n '06:30:00',\n '06:45:00',\n '07:00:00',\n '07:15:00',\n '07:30:00',\n '07:45:00',\n '08:00:00',\n '08:15:00',\n '08:30:00',\n '08:45:00',\n '09:00:00',\n '09:15:00',\n '09:30:00',\n '09:45:00',\n '10:00:00',\n '10:15:00',\n '10:30:00',\n '10:45:00',\n '11:00:00',\n '11:15:00',\n '11:30:00',\n '11:45:00',\n '12:00:00',\n '12:15:00',\n '12:30:00',\n '12:45:00',\n '13:00:00',\n '13:15:00',\n '13:30:00',\n '13:45:00',\n '14:00:00',\n '14:15:00',\n '14:30:00',\n '14:45:00',\n '15:00:00',\n '15:15:00',\n '15:30:00',\n '15:45:00',\n '16:00:00',\n '16:15:00',\n '16:30:00',\n '16:45:00',\n '17:00:00',\n '17:15:00',\n '17:30:00',\n '17:45:00',\n '18:00:00',\n '18:15:00',\n '18:30:00',\n '18:45:00',\n '19:00:00',\n '19:15:00',\n '19:30:00',\n '19:45:00',\n '20:00:00',\n '20:15:00',\n '20:30:00',\n '20:45:00',\n '21:00:00',\n '21:15:00',\n '21:30:00',\n '21:45:00',\n '22:00:00',\n '22:15:00',\n '22:30:00',\n '22:45:00',\n '23:00:00',\n '23:15:00',\n '23:30:00',\n '23:45:00']"
     },
     "execution_count": 84,
     "metadata": {},
     "output_type": "execute_result"
    }
   ],
   "source": [
    "[str(t) for t in gb.time.values]"
   ],
   "metadata": {
    "collapsed": false,
    "ExecuteTime": {
     "end_time": "2023-11-03T16:19:03.581504Z",
     "start_time": "2023-11-03T16:19:03.573210Z"
    }
   },
   "id": "281de7344f87e6b8"
  },
  {
   "cell_type": "code",
   "execution_count": 87,
   "outputs": [],
   "source": [
    "gbcoor = gb.assign_coords(time=[str(t) for t in gb.time.values])"
   ],
   "metadata": {
    "collapsed": false,
    "ExecuteTime": {
     "end_time": "2023-11-03T16:19:54.497677Z",
     "start_time": "2023-11-03T16:19:54.494958Z"
    }
   },
   "id": "462cc9d74606a362"
  },
  {
   "cell_type": "code",
   "execution_count": 89,
   "outputs": [
    {
     "data": {
      "text/plain": "<xarray.DataArray 'time' (time: 96)>\narray(['00:00:00', '00:15:00', '00:30:00', '00:45:00', '01:00:00', '01:15:00',\n       '01:30:00', '01:45:00', '02:00:00', '02:15:00', '02:30:00', '02:45:00',\n       '03:00:00', '03:15:00', '03:30:00', '03:45:00', '04:00:00', '04:15:00',\n       '04:30:00', '04:45:00', '05:00:00', '05:15:00', '05:30:00', '05:45:00',\n       '06:00:00', '06:15:00', '06:30:00', '06:45:00', '07:00:00', '07:15:00',\n       '07:30:00', '07:45:00', '08:00:00', '08:15:00', '08:30:00', '08:45:00',\n       '09:00:00', '09:15:00', '09:30:00', '09:45:00', '10:00:00', '10:15:00',\n       '10:30:00', '10:45:00', '11:00:00', '11:15:00', '11:30:00', '11:45:00',\n       '12:00:00', '12:15:00', '12:30:00', '12:45:00', '13:00:00', '13:15:00',\n       '13:30:00', '13:45:00', '14:00:00', '14:15:00', '14:30:00', '14:45:00',\n       '15:00:00', '15:15:00', '15:30:00', '15:45:00', '16:00:00', '16:15:00',\n       '16:30:00', '16:45:00', '17:00:00', '17:15:00', '17:30:00', '17:45:00',\n       '18:00:00', '18:15:00', '18:30:00', '18:45:00', '19:00:00', '19:15:00',\n       '19:30:00', '19:45:00', '20:00:00', '20:15:00', '20:30:00', '20:45:00',\n       '21:00:00', '21:15:00', '21:30:00', '21:45:00', '22:00:00', '22:15:00',\n       '22:30:00', '22:45:00', '23:00:00', '23:15:00', '23:30:00', '23:45:00'],\n      dtype='<U8')\nCoordinates:\n  * time     (time) <U8 '00:00:00' '00:15:00' ... '23:30:00' '23:45:00'",
      "text/html": "<div><svg style=\"position: absolute; width: 0; height: 0; overflow: hidden\">\n<defs>\n<symbol id=\"icon-database\" viewBox=\"0 0 32 32\">\n<path d=\"M16 0c-8.837 0-16 2.239-16 5v4c0 2.761 7.163 5 16 5s16-2.239 16-5v-4c0-2.761-7.163-5-16-5z\"></path>\n<path d=\"M16 17c-8.837 0-16-2.239-16-5v6c0 2.761 7.163 5 16 5s16-2.239 16-5v-6c0 2.761-7.163 5-16 5z\"></path>\n<path d=\"M16 26c-8.837 0-16-2.239-16-5v6c0 2.761 7.163 5 16 5s16-2.239 16-5v-6c0 2.761-7.163 5-16 5z\"></path>\n</symbol>\n<symbol id=\"icon-file-text2\" viewBox=\"0 0 32 32\">\n<path d=\"M28.681 7.159c-0.694-0.947-1.662-2.053-2.724-3.116s-2.169-2.030-3.116-2.724c-1.612-1.182-2.393-1.319-2.841-1.319h-15.5c-1.378 0-2.5 1.121-2.5 2.5v27c0 1.378 1.122 2.5 2.5 2.5h23c1.378 0 2.5-1.122 2.5-2.5v-19.5c0-0.448-0.137-1.23-1.319-2.841zM24.543 5.457c0.959 0.959 1.712 1.825 2.268 2.543h-4.811v-4.811c0.718 0.556 1.584 1.309 2.543 2.268zM28 29.5c0 0.271-0.229 0.5-0.5 0.5h-23c-0.271 0-0.5-0.229-0.5-0.5v-27c0-0.271 0.229-0.5 0.5-0.5 0 0 15.499-0 15.5 0v7c0 0.552 0.448 1 1 1h7v19.5z\"></path>\n<path d=\"M23 26h-14c-0.552 0-1-0.448-1-1s0.448-1 1-1h14c0.552 0 1 0.448 1 1s-0.448 1-1 1z\"></path>\n<path d=\"M23 22h-14c-0.552 0-1-0.448-1-1s0.448-1 1-1h14c0.552 0 1 0.448 1 1s-0.448 1-1 1z\"></path>\n<path d=\"M23 18h-14c-0.552 0-1-0.448-1-1s0.448-1 1-1h14c0.552 0 1 0.448 1 1s-0.448 1-1 1z\"></path>\n</symbol>\n</defs>\n</svg>\n<style>/* CSS stylesheet for displaying xarray objects in jupyterlab.\n *\n */\n\n:root {\n  --xr-font-color0: var(--jp-content-font-color0, rgba(0, 0, 0, 1));\n  --xr-font-color2: var(--jp-content-font-color2, rgba(0, 0, 0, 0.54));\n  --xr-font-color3: var(--jp-content-font-color3, rgba(0, 0, 0, 0.38));\n  --xr-border-color: var(--jp-border-color2, #e0e0e0);\n  --xr-disabled-color: var(--jp-layout-color3, #bdbdbd);\n  --xr-background-color: var(--jp-layout-color0, white);\n  --xr-background-color-row-even: var(--jp-layout-color1, white);\n  --xr-background-color-row-odd: var(--jp-layout-color2, #eeeeee);\n}\n\nhtml[theme=dark],\nbody[data-theme=dark],\nbody.vscode-dark {\n  --xr-font-color0: rgba(255, 255, 255, 1);\n  --xr-font-color2: rgba(255, 255, 255, 0.54);\n  --xr-font-color3: rgba(255, 255, 255, 0.38);\n  --xr-border-color: #1F1F1F;\n  --xr-disabled-color: #515151;\n  --xr-background-color: #111111;\n  --xr-background-color-row-even: #111111;\n  --xr-background-color-row-odd: #313131;\n}\n\n.xr-wrap {\n  display: block !important;\n  min-width: 300px;\n  max-width: 700px;\n}\n\n.xr-text-repr-fallback {\n  /* fallback to plain text repr when CSS is not injected (untrusted notebook) */\n  display: none;\n}\n\n.xr-header {\n  padding-top: 6px;\n  padding-bottom: 6px;\n  margin-bottom: 4px;\n  border-bottom: solid 1px var(--xr-border-color);\n}\n\n.xr-header > div,\n.xr-header > ul {\n  display: inline;\n  margin-top: 0;\n  margin-bottom: 0;\n}\n\n.xr-obj-type,\n.xr-array-name {\n  margin-left: 2px;\n  margin-right: 10px;\n}\n\n.xr-obj-type {\n  color: var(--xr-font-color2);\n}\n\n.xr-sections {\n  padding-left: 0 !important;\n  display: grid;\n  grid-template-columns: 150px auto auto 1fr 20px 20px;\n}\n\n.xr-section-item {\n  display: contents;\n}\n\n.xr-section-item input {\n  display: none;\n}\n\n.xr-section-item input + label {\n  color: var(--xr-disabled-color);\n}\n\n.xr-section-item input:enabled + label {\n  cursor: pointer;\n  color: var(--xr-font-color2);\n}\n\n.xr-section-item input:enabled + label:hover {\n  color: var(--xr-font-color0);\n}\n\n.xr-section-summary {\n  grid-column: 1;\n  color: var(--xr-font-color2);\n  font-weight: 500;\n}\n\n.xr-section-summary > span {\n  display: inline-block;\n  padding-left: 0.5em;\n}\n\n.xr-section-summary-in:disabled + label {\n  color: var(--xr-font-color2);\n}\n\n.xr-section-summary-in + label:before {\n  display: inline-block;\n  content: '►';\n  font-size: 11px;\n  width: 15px;\n  text-align: center;\n}\n\n.xr-section-summary-in:disabled + label:before {\n  color: var(--xr-disabled-color);\n}\n\n.xr-section-summary-in:checked + label:before {\n  content: '▼';\n}\n\n.xr-section-summary-in:checked + label > span {\n  display: none;\n}\n\n.xr-section-summary,\n.xr-section-inline-details {\n  padding-top: 4px;\n  padding-bottom: 4px;\n}\n\n.xr-section-inline-details {\n  grid-column: 2 / -1;\n}\n\n.xr-section-details {\n  display: none;\n  grid-column: 1 / -1;\n  margin-bottom: 5px;\n}\n\n.xr-section-summary-in:checked ~ .xr-section-details {\n  display: contents;\n}\n\n.xr-array-wrap {\n  grid-column: 1 / -1;\n  display: grid;\n  grid-template-columns: 20px auto;\n}\n\n.xr-array-wrap > label {\n  grid-column: 1;\n  vertical-align: top;\n}\n\n.xr-preview {\n  color: var(--xr-font-color3);\n}\n\n.xr-array-preview,\n.xr-array-data {\n  padding: 0 5px !important;\n  grid-column: 2;\n}\n\n.xr-array-data,\n.xr-array-in:checked ~ .xr-array-preview {\n  display: none;\n}\n\n.xr-array-in:checked ~ .xr-array-data,\n.xr-array-preview {\n  display: inline-block;\n}\n\n.xr-dim-list {\n  display: inline-block !important;\n  list-style: none;\n  padding: 0 !important;\n  margin: 0;\n}\n\n.xr-dim-list li {\n  display: inline-block;\n  padding: 0;\n  margin: 0;\n}\n\n.xr-dim-list:before {\n  content: '(';\n}\n\n.xr-dim-list:after {\n  content: ')';\n}\n\n.xr-dim-list li:not(:last-child):after {\n  content: ',';\n  padding-right: 5px;\n}\n\n.xr-has-index {\n  font-weight: bold;\n}\n\n.xr-var-list,\n.xr-var-item {\n  display: contents;\n}\n\n.xr-var-item > div,\n.xr-var-item label,\n.xr-var-item > .xr-var-name span {\n  background-color: var(--xr-background-color-row-even);\n  margin-bottom: 0;\n}\n\n.xr-var-item > .xr-var-name:hover span {\n  padding-right: 5px;\n}\n\n.xr-var-list > li:nth-child(odd) > div,\n.xr-var-list > li:nth-child(odd) > label,\n.xr-var-list > li:nth-child(odd) > .xr-var-name span {\n  background-color: var(--xr-background-color-row-odd);\n}\n\n.xr-var-name {\n  grid-column: 1;\n}\n\n.xr-var-dims {\n  grid-column: 2;\n}\n\n.xr-var-dtype {\n  grid-column: 3;\n  text-align: right;\n  color: var(--xr-font-color2);\n}\n\n.xr-var-preview {\n  grid-column: 4;\n}\n\n.xr-index-preview {\n  grid-column: 2 / 5;\n  color: var(--xr-font-color2);\n}\n\n.xr-var-name,\n.xr-var-dims,\n.xr-var-dtype,\n.xr-preview,\n.xr-attrs dt {\n  white-space: nowrap;\n  overflow: hidden;\n  text-overflow: ellipsis;\n  padding-right: 10px;\n}\n\n.xr-var-name:hover,\n.xr-var-dims:hover,\n.xr-var-dtype:hover,\n.xr-attrs dt:hover {\n  overflow: visible;\n  width: auto;\n  z-index: 1;\n}\n\n.xr-var-attrs,\n.xr-var-data,\n.xr-index-data {\n  display: none;\n  background-color: var(--xr-background-color) !important;\n  padding-bottom: 5px !important;\n}\n\n.xr-var-attrs-in:checked ~ .xr-var-attrs,\n.xr-var-data-in:checked ~ .xr-var-data,\n.xr-index-data-in:checked ~ .xr-index-data {\n  display: block;\n}\n\n.xr-var-data > table {\n  float: right;\n}\n\n.xr-var-name span,\n.xr-var-data,\n.xr-index-name div,\n.xr-index-data,\n.xr-attrs {\n  padding-left: 25px !important;\n}\n\n.xr-attrs,\n.xr-var-attrs,\n.xr-var-data,\n.xr-index-data {\n  grid-column: 1 / -1;\n}\n\ndl.xr-attrs {\n  padding: 0;\n  margin: 0;\n  display: grid;\n  grid-template-columns: 125px auto;\n}\n\n.xr-attrs dt,\n.xr-attrs dd {\n  padding: 0;\n  margin: 0;\n  float: left;\n  padding-right: 10px;\n  width: auto;\n}\n\n.xr-attrs dt {\n  font-weight: normal;\n  grid-column: 1;\n}\n\n.xr-attrs dt:hover span {\n  display: inline-block;\n  background: var(--xr-background-color);\n  padding-right: 10px;\n}\n\n.xr-attrs dd {\n  grid-column: 2;\n  white-space: pre-wrap;\n  word-break: break-all;\n}\n\n.xr-icon-database,\n.xr-icon-file-text2,\n.xr-no-icon {\n  display: inline-block;\n  vertical-align: middle;\n  width: 1em;\n  height: 1.5em !important;\n  stroke-width: 0;\n  stroke: currentColor;\n  fill: currentColor;\n}\n</style><pre class='xr-text-repr-fallback'>&lt;xarray.DataArray &#x27;time&#x27; (time: 96)&gt;\narray([&#x27;00:00:00&#x27;, &#x27;00:15:00&#x27;, &#x27;00:30:00&#x27;, &#x27;00:45:00&#x27;, &#x27;01:00:00&#x27;, &#x27;01:15:00&#x27;,\n       &#x27;01:30:00&#x27;, &#x27;01:45:00&#x27;, &#x27;02:00:00&#x27;, &#x27;02:15:00&#x27;, &#x27;02:30:00&#x27;, &#x27;02:45:00&#x27;,\n       &#x27;03:00:00&#x27;, &#x27;03:15:00&#x27;, &#x27;03:30:00&#x27;, &#x27;03:45:00&#x27;, &#x27;04:00:00&#x27;, &#x27;04:15:00&#x27;,\n       &#x27;04:30:00&#x27;, &#x27;04:45:00&#x27;, &#x27;05:00:00&#x27;, &#x27;05:15:00&#x27;, &#x27;05:30:00&#x27;, &#x27;05:45:00&#x27;,\n       &#x27;06:00:00&#x27;, &#x27;06:15:00&#x27;, &#x27;06:30:00&#x27;, &#x27;06:45:00&#x27;, &#x27;07:00:00&#x27;, &#x27;07:15:00&#x27;,\n       &#x27;07:30:00&#x27;, &#x27;07:45:00&#x27;, &#x27;08:00:00&#x27;, &#x27;08:15:00&#x27;, &#x27;08:30:00&#x27;, &#x27;08:45:00&#x27;,\n       &#x27;09:00:00&#x27;, &#x27;09:15:00&#x27;, &#x27;09:30:00&#x27;, &#x27;09:45:00&#x27;, &#x27;10:00:00&#x27;, &#x27;10:15:00&#x27;,\n       &#x27;10:30:00&#x27;, &#x27;10:45:00&#x27;, &#x27;11:00:00&#x27;, &#x27;11:15:00&#x27;, &#x27;11:30:00&#x27;, &#x27;11:45:00&#x27;,\n       &#x27;12:00:00&#x27;, &#x27;12:15:00&#x27;, &#x27;12:30:00&#x27;, &#x27;12:45:00&#x27;, &#x27;13:00:00&#x27;, &#x27;13:15:00&#x27;,\n       &#x27;13:30:00&#x27;, &#x27;13:45:00&#x27;, &#x27;14:00:00&#x27;, &#x27;14:15:00&#x27;, &#x27;14:30:00&#x27;, &#x27;14:45:00&#x27;,\n       &#x27;15:00:00&#x27;, &#x27;15:15:00&#x27;, &#x27;15:30:00&#x27;, &#x27;15:45:00&#x27;, &#x27;16:00:00&#x27;, &#x27;16:15:00&#x27;,\n       &#x27;16:30:00&#x27;, &#x27;16:45:00&#x27;, &#x27;17:00:00&#x27;, &#x27;17:15:00&#x27;, &#x27;17:30:00&#x27;, &#x27;17:45:00&#x27;,\n       &#x27;18:00:00&#x27;, &#x27;18:15:00&#x27;, &#x27;18:30:00&#x27;, &#x27;18:45:00&#x27;, &#x27;19:00:00&#x27;, &#x27;19:15:00&#x27;,\n       &#x27;19:30:00&#x27;, &#x27;19:45:00&#x27;, &#x27;20:00:00&#x27;, &#x27;20:15:00&#x27;, &#x27;20:30:00&#x27;, &#x27;20:45:00&#x27;,\n       &#x27;21:00:00&#x27;, &#x27;21:15:00&#x27;, &#x27;21:30:00&#x27;, &#x27;21:45:00&#x27;, &#x27;22:00:00&#x27;, &#x27;22:15:00&#x27;,\n       &#x27;22:30:00&#x27;, &#x27;22:45:00&#x27;, &#x27;23:00:00&#x27;, &#x27;23:15:00&#x27;, &#x27;23:30:00&#x27;, &#x27;23:45:00&#x27;],\n      dtype=&#x27;&lt;U8&#x27;)\nCoordinates:\n  * time     (time) &lt;U8 &#x27;00:00:00&#x27; &#x27;00:15:00&#x27; ... &#x27;23:30:00&#x27; &#x27;23:45:00&#x27;</pre><div class='xr-wrap' style='display:none'><div class='xr-header'><div class='xr-obj-type'>xarray.DataArray</div><div class='xr-array-name'>'time'</div><ul class='xr-dim-list'><li><span class='xr-has-index'>time</span>: 96</li></ul></div><ul class='xr-sections'><li class='xr-section-item'><div class='xr-array-wrap'><input id='section-b7e88619-1da7-431e-a261-d1cbe655fa35' class='xr-array-in' type='checkbox' checked><label for='section-b7e88619-1da7-431e-a261-d1cbe655fa35' title='Show/hide data repr'><svg class='icon xr-icon-database'><use xlink:href='#icon-database'></use></svg></label><div class='xr-array-preview xr-preview'><span>&#x27;00:00:00&#x27; &#x27;00:15:00&#x27; &#x27;00:30:00&#x27; ... &#x27;23:15:00&#x27; &#x27;23:30:00&#x27; &#x27;23:45:00&#x27;</span></div><div class='xr-array-data'><pre>array([&#x27;00:00:00&#x27;, &#x27;00:15:00&#x27;, &#x27;00:30:00&#x27;, &#x27;00:45:00&#x27;, &#x27;01:00:00&#x27;, &#x27;01:15:00&#x27;,\n       &#x27;01:30:00&#x27;, &#x27;01:45:00&#x27;, &#x27;02:00:00&#x27;, &#x27;02:15:00&#x27;, &#x27;02:30:00&#x27;, &#x27;02:45:00&#x27;,\n       &#x27;03:00:00&#x27;, &#x27;03:15:00&#x27;, &#x27;03:30:00&#x27;, &#x27;03:45:00&#x27;, &#x27;04:00:00&#x27;, &#x27;04:15:00&#x27;,\n       &#x27;04:30:00&#x27;, &#x27;04:45:00&#x27;, &#x27;05:00:00&#x27;, &#x27;05:15:00&#x27;, &#x27;05:30:00&#x27;, &#x27;05:45:00&#x27;,\n       &#x27;06:00:00&#x27;, &#x27;06:15:00&#x27;, &#x27;06:30:00&#x27;, &#x27;06:45:00&#x27;, &#x27;07:00:00&#x27;, &#x27;07:15:00&#x27;,\n       &#x27;07:30:00&#x27;, &#x27;07:45:00&#x27;, &#x27;08:00:00&#x27;, &#x27;08:15:00&#x27;, &#x27;08:30:00&#x27;, &#x27;08:45:00&#x27;,\n       &#x27;09:00:00&#x27;, &#x27;09:15:00&#x27;, &#x27;09:30:00&#x27;, &#x27;09:45:00&#x27;, &#x27;10:00:00&#x27;, &#x27;10:15:00&#x27;,\n       &#x27;10:30:00&#x27;, &#x27;10:45:00&#x27;, &#x27;11:00:00&#x27;, &#x27;11:15:00&#x27;, &#x27;11:30:00&#x27;, &#x27;11:45:00&#x27;,\n       &#x27;12:00:00&#x27;, &#x27;12:15:00&#x27;, &#x27;12:30:00&#x27;, &#x27;12:45:00&#x27;, &#x27;13:00:00&#x27;, &#x27;13:15:00&#x27;,\n       &#x27;13:30:00&#x27;, &#x27;13:45:00&#x27;, &#x27;14:00:00&#x27;, &#x27;14:15:00&#x27;, &#x27;14:30:00&#x27;, &#x27;14:45:00&#x27;,\n       &#x27;15:00:00&#x27;, &#x27;15:15:00&#x27;, &#x27;15:30:00&#x27;, &#x27;15:45:00&#x27;, &#x27;16:00:00&#x27;, &#x27;16:15:00&#x27;,\n       &#x27;16:30:00&#x27;, &#x27;16:45:00&#x27;, &#x27;17:00:00&#x27;, &#x27;17:15:00&#x27;, &#x27;17:30:00&#x27;, &#x27;17:45:00&#x27;,\n       &#x27;18:00:00&#x27;, &#x27;18:15:00&#x27;, &#x27;18:30:00&#x27;, &#x27;18:45:00&#x27;, &#x27;19:00:00&#x27;, &#x27;19:15:00&#x27;,\n       &#x27;19:30:00&#x27;, &#x27;19:45:00&#x27;, &#x27;20:00:00&#x27;, &#x27;20:15:00&#x27;, &#x27;20:30:00&#x27;, &#x27;20:45:00&#x27;,\n       &#x27;21:00:00&#x27;, &#x27;21:15:00&#x27;, &#x27;21:30:00&#x27;, &#x27;21:45:00&#x27;, &#x27;22:00:00&#x27;, &#x27;22:15:00&#x27;,\n       &#x27;22:30:00&#x27;, &#x27;22:45:00&#x27;, &#x27;23:00:00&#x27;, &#x27;23:15:00&#x27;, &#x27;23:30:00&#x27;, &#x27;23:45:00&#x27;],\n      dtype=&#x27;&lt;U8&#x27;)</pre></div></div></li><li class='xr-section-item'><input id='section-a835b46f-edbe-44b7-90a0-2092311d55a2' class='xr-section-summary-in' type='checkbox'  checked><label for='section-a835b46f-edbe-44b7-90a0-2092311d55a2' class='xr-section-summary' >Coordinates: <span>(1)</span></label><div class='xr-section-inline-details'></div><div class='xr-section-details'><ul class='xr-var-list'><li class='xr-var-item'><div class='xr-var-name'><span class='xr-has-index'>time</span></div><div class='xr-var-dims'>(time)</div><div class='xr-var-dtype'>&lt;U8</div><div class='xr-var-preview xr-preview'>&#x27;00:00:00&#x27; ... &#x27;23:45:00&#x27;</div><input id='attrs-56d9ceec-edd7-43bc-ac12-0c44376e5e59' class='xr-var-attrs-in' type='checkbox' disabled><label for='attrs-56d9ceec-edd7-43bc-ac12-0c44376e5e59' title='Show/Hide attributes'><svg class='icon xr-icon-file-text2'><use xlink:href='#icon-file-text2'></use></svg></label><input id='data-5927f896-61ba-483f-bb24-f4f0d2c00868' class='xr-var-data-in' type='checkbox'><label for='data-5927f896-61ba-483f-bb24-f4f0d2c00868' title='Show/Hide data repr'><svg class='icon xr-icon-database'><use xlink:href='#icon-database'></use></svg></label><div class='xr-var-attrs'><dl class='xr-attrs'></dl></div><div class='xr-var-data'><pre>array([&#x27;00:00:00&#x27;, &#x27;00:15:00&#x27;, &#x27;00:30:00&#x27;, &#x27;00:45:00&#x27;, &#x27;01:00:00&#x27;, &#x27;01:15:00&#x27;,\n       &#x27;01:30:00&#x27;, &#x27;01:45:00&#x27;, &#x27;02:00:00&#x27;, &#x27;02:15:00&#x27;, &#x27;02:30:00&#x27;, &#x27;02:45:00&#x27;,\n       &#x27;03:00:00&#x27;, &#x27;03:15:00&#x27;, &#x27;03:30:00&#x27;, &#x27;03:45:00&#x27;, &#x27;04:00:00&#x27;, &#x27;04:15:00&#x27;,\n       &#x27;04:30:00&#x27;, &#x27;04:45:00&#x27;, &#x27;05:00:00&#x27;, &#x27;05:15:00&#x27;, &#x27;05:30:00&#x27;, &#x27;05:45:00&#x27;,\n       &#x27;06:00:00&#x27;, &#x27;06:15:00&#x27;, &#x27;06:30:00&#x27;, &#x27;06:45:00&#x27;, &#x27;07:00:00&#x27;, &#x27;07:15:00&#x27;,\n       &#x27;07:30:00&#x27;, &#x27;07:45:00&#x27;, &#x27;08:00:00&#x27;, &#x27;08:15:00&#x27;, &#x27;08:30:00&#x27;, &#x27;08:45:00&#x27;,\n       &#x27;09:00:00&#x27;, &#x27;09:15:00&#x27;, &#x27;09:30:00&#x27;, &#x27;09:45:00&#x27;, &#x27;10:00:00&#x27;, &#x27;10:15:00&#x27;,\n       &#x27;10:30:00&#x27;, &#x27;10:45:00&#x27;, &#x27;11:00:00&#x27;, &#x27;11:15:00&#x27;, &#x27;11:30:00&#x27;, &#x27;11:45:00&#x27;,\n       &#x27;12:00:00&#x27;, &#x27;12:15:00&#x27;, &#x27;12:30:00&#x27;, &#x27;12:45:00&#x27;, &#x27;13:00:00&#x27;, &#x27;13:15:00&#x27;,\n       &#x27;13:30:00&#x27;, &#x27;13:45:00&#x27;, &#x27;14:00:00&#x27;, &#x27;14:15:00&#x27;, &#x27;14:30:00&#x27;, &#x27;14:45:00&#x27;,\n       &#x27;15:00:00&#x27;, &#x27;15:15:00&#x27;, &#x27;15:30:00&#x27;, &#x27;15:45:00&#x27;, &#x27;16:00:00&#x27;, &#x27;16:15:00&#x27;,\n       &#x27;16:30:00&#x27;, &#x27;16:45:00&#x27;, &#x27;17:00:00&#x27;, &#x27;17:15:00&#x27;, &#x27;17:30:00&#x27;, &#x27;17:45:00&#x27;,\n       &#x27;18:00:00&#x27;, &#x27;18:15:00&#x27;, &#x27;18:30:00&#x27;, &#x27;18:45:00&#x27;, &#x27;19:00:00&#x27;, &#x27;19:15:00&#x27;,\n       &#x27;19:30:00&#x27;, &#x27;19:45:00&#x27;, &#x27;20:00:00&#x27;, &#x27;20:15:00&#x27;, &#x27;20:30:00&#x27;, &#x27;20:45:00&#x27;,\n       &#x27;21:00:00&#x27;, &#x27;21:15:00&#x27;, &#x27;21:30:00&#x27;, &#x27;21:45:00&#x27;, &#x27;22:00:00&#x27;, &#x27;22:15:00&#x27;,\n       &#x27;22:30:00&#x27;, &#x27;22:45:00&#x27;, &#x27;23:00:00&#x27;, &#x27;23:15:00&#x27;, &#x27;23:30:00&#x27;, &#x27;23:45:00&#x27;],\n      dtype=&#x27;&lt;U8&#x27;)</pre></div></li></ul></div></li><li class='xr-section-item'><input id='section-77d4e6c1-3c3f-48fe-aa2a-13021778fd76' class='xr-section-summary-in' type='checkbox'  ><label for='section-77d4e6c1-3c3f-48fe-aa2a-13021778fd76' class='xr-section-summary' >Indexes: <span>(1)</span></label><div class='xr-section-inline-details'></div><div class='xr-section-details'><ul class='xr-var-list'><li class='xr-var-item'><div class='xr-index-name'><div>time</div></div><div class='xr-index-preview'>PandasIndex</div><div></div><input id='index-e8b1256d-1e5b-4f44-b19f-4e356b7645aa' class='xr-index-data-in' type='checkbox'/><label for='index-e8b1256d-1e5b-4f44-b19f-4e356b7645aa' title='Show/Hide index repr'><svg class='icon xr-icon-database'><use xlink:href='#icon-database'></use></svg></label><div class='xr-index-data'><pre>PandasIndex(Index([&#x27;00:00:00&#x27;, &#x27;00:15:00&#x27;, &#x27;00:30:00&#x27;, &#x27;00:45:00&#x27;, &#x27;01:00:00&#x27;, &#x27;01:15:00&#x27;,\n       &#x27;01:30:00&#x27;, &#x27;01:45:00&#x27;, &#x27;02:00:00&#x27;, &#x27;02:15:00&#x27;, &#x27;02:30:00&#x27;, &#x27;02:45:00&#x27;,\n       &#x27;03:00:00&#x27;, &#x27;03:15:00&#x27;, &#x27;03:30:00&#x27;, &#x27;03:45:00&#x27;, &#x27;04:00:00&#x27;, &#x27;04:15:00&#x27;,\n       &#x27;04:30:00&#x27;, &#x27;04:45:00&#x27;, &#x27;05:00:00&#x27;, &#x27;05:15:00&#x27;, &#x27;05:30:00&#x27;, &#x27;05:45:00&#x27;,\n       &#x27;06:00:00&#x27;, &#x27;06:15:00&#x27;, &#x27;06:30:00&#x27;, &#x27;06:45:00&#x27;, &#x27;07:00:00&#x27;, &#x27;07:15:00&#x27;,\n       &#x27;07:30:00&#x27;, &#x27;07:45:00&#x27;, &#x27;08:00:00&#x27;, &#x27;08:15:00&#x27;, &#x27;08:30:00&#x27;, &#x27;08:45:00&#x27;,\n       &#x27;09:00:00&#x27;, &#x27;09:15:00&#x27;, &#x27;09:30:00&#x27;, &#x27;09:45:00&#x27;, &#x27;10:00:00&#x27;, &#x27;10:15:00&#x27;,\n       &#x27;10:30:00&#x27;, &#x27;10:45:00&#x27;, &#x27;11:00:00&#x27;, &#x27;11:15:00&#x27;, &#x27;11:30:00&#x27;, &#x27;11:45:00&#x27;,\n       &#x27;12:00:00&#x27;, &#x27;12:15:00&#x27;, &#x27;12:30:00&#x27;, &#x27;12:45:00&#x27;, &#x27;13:00:00&#x27;, &#x27;13:15:00&#x27;,\n       &#x27;13:30:00&#x27;, &#x27;13:45:00&#x27;, &#x27;14:00:00&#x27;, &#x27;14:15:00&#x27;, &#x27;14:30:00&#x27;, &#x27;14:45:00&#x27;,\n       &#x27;15:00:00&#x27;, &#x27;15:15:00&#x27;, &#x27;15:30:00&#x27;, &#x27;15:45:00&#x27;, &#x27;16:00:00&#x27;, &#x27;16:15:00&#x27;,\n       &#x27;16:30:00&#x27;, &#x27;16:45:00&#x27;, &#x27;17:00:00&#x27;, &#x27;17:15:00&#x27;, &#x27;17:30:00&#x27;, &#x27;17:45:00&#x27;,\n       &#x27;18:00:00&#x27;, &#x27;18:15:00&#x27;, &#x27;18:30:00&#x27;, &#x27;18:45:00&#x27;, &#x27;19:00:00&#x27;, &#x27;19:15:00&#x27;,\n       &#x27;19:30:00&#x27;, &#x27;19:45:00&#x27;, &#x27;20:00:00&#x27;, &#x27;20:15:00&#x27;, &#x27;20:30:00&#x27;, &#x27;20:45:00&#x27;,\n       &#x27;21:00:00&#x27;, &#x27;21:15:00&#x27;, &#x27;21:30:00&#x27;, &#x27;21:45:00&#x27;, &#x27;22:00:00&#x27;, &#x27;22:15:00&#x27;,\n       &#x27;22:30:00&#x27;, &#x27;22:45:00&#x27;, &#x27;23:00:00&#x27;, &#x27;23:15:00&#x27;, &#x27;23:30:00&#x27;, &#x27;23:45:00&#x27;],\n      dtype=&#x27;object&#x27;, name=&#x27;time&#x27;))</pre></div></li></ul></div></li><li class='xr-section-item'><input id='section-9c4cb52e-5304-4ca3-8246-c9c83d4398f0' class='xr-section-summary-in' type='checkbox' disabled ><label for='section-9c4cb52e-5304-4ca3-8246-c9c83d4398f0' class='xr-section-summary'  title='Expand/collapse section'>Attributes: <span>(0)</span></label><div class='xr-section-inline-details'></div><div class='xr-section-details'><dl class='xr-attrs'></dl></div></li></ul></div></div>"
     },
     "execution_count": 89,
     "metadata": {},
     "output_type": "execute_result"
    }
   ],
   "source": [
    "gbcoor.time"
   ],
   "metadata": {
    "collapsed": false,
    "ExecuteTime": {
     "end_time": "2023-11-03T16:20:10.974392Z",
     "start_time": "2023-11-03T16:20:10.964632Z"
    }
   },
   "id": "d49f94bd7429e44d"
  },
  {
   "cell_type": "code",
   "execution_count": 90,
   "outputs": [
    {
     "data": {
      "text/plain": "<xarray.DataArray 'time' (time: 96)>\narray([datetime.time(0, 0), datetime.time(0, 15), datetime.time(0, 30),\n       datetime.time(0, 45), datetime.time(1, 0), datetime.time(1, 15),\n       datetime.time(1, 30), datetime.time(1, 45), datetime.time(2, 0),\n       datetime.time(2, 15), datetime.time(2, 30), datetime.time(2, 45),\n       datetime.time(3, 0), datetime.time(3, 15), datetime.time(3, 30),\n       datetime.time(3, 45), datetime.time(4, 0), datetime.time(4, 15),\n       datetime.time(4, 30), datetime.time(4, 45), datetime.time(5, 0),\n       datetime.time(5, 15), datetime.time(5, 30), datetime.time(5, 45),\n       datetime.time(6, 0), datetime.time(6, 15), datetime.time(6, 30),\n       datetime.time(6, 45), datetime.time(7, 0), datetime.time(7, 15),\n       datetime.time(7, 30), datetime.time(7, 45), datetime.time(8, 0),\n       datetime.time(8, 15), datetime.time(8, 30), datetime.time(8, 45),\n       datetime.time(9, 0), datetime.time(9, 15), datetime.time(9, 30),\n       datetime.time(9, 45), datetime.time(10, 0), datetime.time(10, 15),\n       datetime.time(10, 30), datetime.time(10, 45), datetime.time(11, 0),\n       datetime.time(11, 15), datetime.time(11, 30), datetime.time(11, 45),\n       datetime.time(12, 0), datetime.time(12, 15), datetime.time(12, 30),\n       datetime.time(12, 45), datetime.time(13, 0), datetime.time(13, 15),\n       datetime.time(13, 30), datetime.time(13, 45), datetime.time(14, 0),\n       datetime.time(14, 15), datetime.time(14, 30), datetime.time(14, 45),\n       datetime.time(15, 0), datetime.time(15, 15), datetime.time(15, 30),\n       datetime.time(15, 45), datetime.time(16, 0), datetime.time(16, 15),\n       datetime.time(16, 30), datetime.time(16, 45), datetime.time(17, 0),\n       datetime.time(17, 15), datetime.time(17, 30), datetime.time(17, 45),\n       datetime.time(18, 0), datetime.time(18, 15), datetime.time(18, 30),\n       datetime.time(18, 45), datetime.time(19, 0), datetime.time(19, 15),\n       datetime.time(19, 30), datetime.time(19, 45), datetime.time(20, 0),\n       datetime.time(20, 15), datetime.time(20, 30), datetime.time(20, 45),\n       datetime.time(21, 0), datetime.time(21, 15), datetime.time(21, 30),\n       datetime.time(21, 45), datetime.time(22, 0), datetime.time(22, 15),\n       datetime.time(22, 30), datetime.time(22, 45), datetime.time(23, 0),\n       datetime.time(23, 15), datetime.time(23, 30), datetime.time(23, 45)],\n      dtype=object)\nCoordinates:\n  * time     (time) object 00:00:00 00:15:00 00:30:00 ... 23:30:00 23:45:00",
      "text/html": "<div><svg style=\"position: absolute; width: 0; height: 0; overflow: hidden\">\n<defs>\n<symbol id=\"icon-database\" viewBox=\"0 0 32 32\">\n<path d=\"M16 0c-8.837 0-16 2.239-16 5v4c0 2.761 7.163 5 16 5s16-2.239 16-5v-4c0-2.761-7.163-5-16-5z\"></path>\n<path d=\"M16 17c-8.837 0-16-2.239-16-5v6c0 2.761 7.163 5 16 5s16-2.239 16-5v-6c0 2.761-7.163 5-16 5z\"></path>\n<path d=\"M16 26c-8.837 0-16-2.239-16-5v6c0 2.761 7.163 5 16 5s16-2.239 16-5v-6c0 2.761-7.163 5-16 5z\"></path>\n</symbol>\n<symbol id=\"icon-file-text2\" viewBox=\"0 0 32 32\">\n<path d=\"M28.681 7.159c-0.694-0.947-1.662-2.053-2.724-3.116s-2.169-2.030-3.116-2.724c-1.612-1.182-2.393-1.319-2.841-1.319h-15.5c-1.378 0-2.5 1.121-2.5 2.5v27c0 1.378 1.122 2.5 2.5 2.5h23c1.378 0 2.5-1.122 2.5-2.5v-19.5c0-0.448-0.137-1.23-1.319-2.841zM24.543 5.457c0.959 0.959 1.712 1.825 2.268 2.543h-4.811v-4.811c0.718 0.556 1.584 1.309 2.543 2.268zM28 29.5c0 0.271-0.229 0.5-0.5 0.5h-23c-0.271 0-0.5-0.229-0.5-0.5v-27c0-0.271 0.229-0.5 0.5-0.5 0 0 15.499-0 15.5 0v7c0 0.552 0.448 1 1 1h7v19.5z\"></path>\n<path d=\"M23 26h-14c-0.552 0-1-0.448-1-1s0.448-1 1-1h14c0.552 0 1 0.448 1 1s-0.448 1-1 1z\"></path>\n<path d=\"M23 22h-14c-0.552 0-1-0.448-1-1s0.448-1 1-1h14c0.552 0 1 0.448 1 1s-0.448 1-1 1z\"></path>\n<path d=\"M23 18h-14c-0.552 0-1-0.448-1-1s0.448-1 1-1h14c0.552 0 1 0.448 1 1s-0.448 1-1 1z\"></path>\n</symbol>\n</defs>\n</svg>\n<style>/* CSS stylesheet for displaying xarray objects in jupyterlab.\n *\n */\n\n:root {\n  --xr-font-color0: var(--jp-content-font-color0, rgba(0, 0, 0, 1));\n  --xr-font-color2: var(--jp-content-font-color2, rgba(0, 0, 0, 0.54));\n  --xr-font-color3: var(--jp-content-font-color3, rgba(0, 0, 0, 0.38));\n  --xr-border-color: var(--jp-border-color2, #e0e0e0);\n  --xr-disabled-color: var(--jp-layout-color3, #bdbdbd);\n  --xr-background-color: var(--jp-layout-color0, white);\n  --xr-background-color-row-even: var(--jp-layout-color1, white);\n  --xr-background-color-row-odd: var(--jp-layout-color2, #eeeeee);\n}\n\nhtml[theme=dark],\nbody[data-theme=dark],\nbody.vscode-dark {\n  --xr-font-color0: rgba(255, 255, 255, 1);\n  --xr-font-color2: rgba(255, 255, 255, 0.54);\n  --xr-font-color3: rgba(255, 255, 255, 0.38);\n  --xr-border-color: #1F1F1F;\n  --xr-disabled-color: #515151;\n  --xr-background-color: #111111;\n  --xr-background-color-row-even: #111111;\n  --xr-background-color-row-odd: #313131;\n}\n\n.xr-wrap {\n  display: block !important;\n  min-width: 300px;\n  max-width: 700px;\n}\n\n.xr-text-repr-fallback {\n  /* fallback to plain text repr when CSS is not injected (untrusted notebook) */\n  display: none;\n}\n\n.xr-header {\n  padding-top: 6px;\n  padding-bottom: 6px;\n  margin-bottom: 4px;\n  border-bottom: solid 1px var(--xr-border-color);\n}\n\n.xr-header > div,\n.xr-header > ul {\n  display: inline;\n  margin-top: 0;\n  margin-bottom: 0;\n}\n\n.xr-obj-type,\n.xr-array-name {\n  margin-left: 2px;\n  margin-right: 10px;\n}\n\n.xr-obj-type {\n  color: var(--xr-font-color2);\n}\n\n.xr-sections {\n  padding-left: 0 !important;\n  display: grid;\n  grid-template-columns: 150px auto auto 1fr 20px 20px;\n}\n\n.xr-section-item {\n  display: contents;\n}\n\n.xr-section-item input {\n  display: none;\n}\n\n.xr-section-item input + label {\n  color: var(--xr-disabled-color);\n}\n\n.xr-section-item input:enabled + label {\n  cursor: pointer;\n  color: var(--xr-font-color2);\n}\n\n.xr-section-item input:enabled + label:hover {\n  color: var(--xr-font-color0);\n}\n\n.xr-section-summary {\n  grid-column: 1;\n  color: var(--xr-font-color2);\n  font-weight: 500;\n}\n\n.xr-section-summary > span {\n  display: inline-block;\n  padding-left: 0.5em;\n}\n\n.xr-section-summary-in:disabled + label {\n  color: var(--xr-font-color2);\n}\n\n.xr-section-summary-in + label:before {\n  display: inline-block;\n  content: '►';\n  font-size: 11px;\n  width: 15px;\n  text-align: center;\n}\n\n.xr-section-summary-in:disabled + label:before {\n  color: var(--xr-disabled-color);\n}\n\n.xr-section-summary-in:checked + label:before {\n  content: '▼';\n}\n\n.xr-section-summary-in:checked + label > span {\n  display: none;\n}\n\n.xr-section-summary,\n.xr-section-inline-details {\n  padding-top: 4px;\n  padding-bottom: 4px;\n}\n\n.xr-section-inline-details {\n  grid-column: 2 / -1;\n}\n\n.xr-section-details {\n  display: none;\n  grid-column: 1 / -1;\n  margin-bottom: 5px;\n}\n\n.xr-section-summary-in:checked ~ .xr-section-details {\n  display: contents;\n}\n\n.xr-array-wrap {\n  grid-column: 1 / -1;\n  display: grid;\n  grid-template-columns: 20px auto;\n}\n\n.xr-array-wrap > label {\n  grid-column: 1;\n  vertical-align: top;\n}\n\n.xr-preview {\n  color: var(--xr-font-color3);\n}\n\n.xr-array-preview,\n.xr-array-data {\n  padding: 0 5px !important;\n  grid-column: 2;\n}\n\n.xr-array-data,\n.xr-array-in:checked ~ .xr-array-preview {\n  display: none;\n}\n\n.xr-array-in:checked ~ .xr-array-data,\n.xr-array-preview {\n  display: inline-block;\n}\n\n.xr-dim-list {\n  display: inline-block !important;\n  list-style: none;\n  padding: 0 !important;\n  margin: 0;\n}\n\n.xr-dim-list li {\n  display: inline-block;\n  padding: 0;\n  margin: 0;\n}\n\n.xr-dim-list:before {\n  content: '(';\n}\n\n.xr-dim-list:after {\n  content: ')';\n}\n\n.xr-dim-list li:not(:last-child):after {\n  content: ',';\n  padding-right: 5px;\n}\n\n.xr-has-index {\n  font-weight: bold;\n}\n\n.xr-var-list,\n.xr-var-item {\n  display: contents;\n}\n\n.xr-var-item > div,\n.xr-var-item label,\n.xr-var-item > .xr-var-name span {\n  background-color: var(--xr-background-color-row-even);\n  margin-bottom: 0;\n}\n\n.xr-var-item > .xr-var-name:hover span {\n  padding-right: 5px;\n}\n\n.xr-var-list > li:nth-child(odd) > div,\n.xr-var-list > li:nth-child(odd) > label,\n.xr-var-list > li:nth-child(odd) > .xr-var-name span {\n  background-color: var(--xr-background-color-row-odd);\n}\n\n.xr-var-name {\n  grid-column: 1;\n}\n\n.xr-var-dims {\n  grid-column: 2;\n}\n\n.xr-var-dtype {\n  grid-column: 3;\n  text-align: right;\n  color: var(--xr-font-color2);\n}\n\n.xr-var-preview {\n  grid-column: 4;\n}\n\n.xr-index-preview {\n  grid-column: 2 / 5;\n  color: var(--xr-font-color2);\n}\n\n.xr-var-name,\n.xr-var-dims,\n.xr-var-dtype,\n.xr-preview,\n.xr-attrs dt {\n  white-space: nowrap;\n  overflow: hidden;\n  text-overflow: ellipsis;\n  padding-right: 10px;\n}\n\n.xr-var-name:hover,\n.xr-var-dims:hover,\n.xr-var-dtype:hover,\n.xr-attrs dt:hover {\n  overflow: visible;\n  width: auto;\n  z-index: 1;\n}\n\n.xr-var-attrs,\n.xr-var-data,\n.xr-index-data {\n  display: none;\n  background-color: var(--xr-background-color) !important;\n  padding-bottom: 5px !important;\n}\n\n.xr-var-attrs-in:checked ~ .xr-var-attrs,\n.xr-var-data-in:checked ~ .xr-var-data,\n.xr-index-data-in:checked ~ .xr-index-data {\n  display: block;\n}\n\n.xr-var-data > table {\n  float: right;\n}\n\n.xr-var-name span,\n.xr-var-data,\n.xr-index-name div,\n.xr-index-data,\n.xr-attrs {\n  padding-left: 25px !important;\n}\n\n.xr-attrs,\n.xr-var-attrs,\n.xr-var-data,\n.xr-index-data {\n  grid-column: 1 / -1;\n}\n\ndl.xr-attrs {\n  padding: 0;\n  margin: 0;\n  display: grid;\n  grid-template-columns: 125px auto;\n}\n\n.xr-attrs dt,\n.xr-attrs dd {\n  padding: 0;\n  margin: 0;\n  float: left;\n  padding-right: 10px;\n  width: auto;\n}\n\n.xr-attrs dt {\n  font-weight: normal;\n  grid-column: 1;\n}\n\n.xr-attrs dt:hover span {\n  display: inline-block;\n  background: var(--xr-background-color);\n  padding-right: 10px;\n}\n\n.xr-attrs dd {\n  grid-column: 2;\n  white-space: pre-wrap;\n  word-break: break-all;\n}\n\n.xr-icon-database,\n.xr-icon-file-text2,\n.xr-no-icon {\n  display: inline-block;\n  vertical-align: middle;\n  width: 1em;\n  height: 1.5em !important;\n  stroke-width: 0;\n  stroke: currentColor;\n  fill: currentColor;\n}\n</style><pre class='xr-text-repr-fallback'>&lt;xarray.DataArray &#x27;time&#x27; (time: 96)&gt;\narray([datetime.time(0, 0), datetime.time(0, 15), datetime.time(0, 30),\n       datetime.time(0, 45), datetime.time(1, 0), datetime.time(1, 15),\n       datetime.time(1, 30), datetime.time(1, 45), datetime.time(2, 0),\n       datetime.time(2, 15), datetime.time(2, 30), datetime.time(2, 45),\n       datetime.time(3, 0), datetime.time(3, 15), datetime.time(3, 30),\n       datetime.time(3, 45), datetime.time(4, 0), datetime.time(4, 15),\n       datetime.time(4, 30), datetime.time(4, 45), datetime.time(5, 0),\n       datetime.time(5, 15), datetime.time(5, 30), datetime.time(5, 45),\n       datetime.time(6, 0), datetime.time(6, 15), datetime.time(6, 30),\n       datetime.time(6, 45), datetime.time(7, 0), datetime.time(7, 15),\n       datetime.time(7, 30), datetime.time(7, 45), datetime.time(8, 0),\n       datetime.time(8, 15), datetime.time(8, 30), datetime.time(8, 45),\n       datetime.time(9, 0), datetime.time(9, 15), datetime.time(9, 30),\n       datetime.time(9, 45), datetime.time(10, 0), datetime.time(10, 15),\n       datetime.time(10, 30), datetime.time(10, 45), datetime.time(11, 0),\n       datetime.time(11, 15), datetime.time(11, 30), datetime.time(11, 45),\n       datetime.time(12, 0), datetime.time(12, 15), datetime.time(12, 30),\n       datetime.time(12, 45), datetime.time(13, 0), datetime.time(13, 15),\n       datetime.time(13, 30), datetime.time(13, 45), datetime.time(14, 0),\n       datetime.time(14, 15), datetime.time(14, 30), datetime.time(14, 45),\n       datetime.time(15, 0), datetime.time(15, 15), datetime.time(15, 30),\n       datetime.time(15, 45), datetime.time(16, 0), datetime.time(16, 15),\n       datetime.time(16, 30), datetime.time(16, 45), datetime.time(17, 0),\n       datetime.time(17, 15), datetime.time(17, 30), datetime.time(17, 45),\n       datetime.time(18, 0), datetime.time(18, 15), datetime.time(18, 30),\n       datetime.time(18, 45), datetime.time(19, 0), datetime.time(19, 15),\n       datetime.time(19, 30), datetime.time(19, 45), datetime.time(20, 0),\n       datetime.time(20, 15), datetime.time(20, 30), datetime.time(20, 45),\n       datetime.time(21, 0), datetime.time(21, 15), datetime.time(21, 30),\n       datetime.time(21, 45), datetime.time(22, 0), datetime.time(22, 15),\n       datetime.time(22, 30), datetime.time(22, 45), datetime.time(23, 0),\n       datetime.time(23, 15), datetime.time(23, 30), datetime.time(23, 45)],\n      dtype=object)\nCoordinates:\n  * time     (time) object 00:00:00 00:15:00 00:30:00 ... 23:30:00 23:45:00</pre><div class='xr-wrap' style='display:none'><div class='xr-header'><div class='xr-obj-type'>xarray.DataArray</div><div class='xr-array-name'>'time'</div><ul class='xr-dim-list'><li><span class='xr-has-index'>time</span>: 96</li></ul></div><ul class='xr-sections'><li class='xr-section-item'><div class='xr-array-wrap'><input id='section-ae4177ea-723d-44fe-93e1-8a11d990f5d6' class='xr-array-in' type='checkbox' checked><label for='section-ae4177ea-723d-44fe-93e1-8a11d990f5d6' title='Show/hide data repr'><svg class='icon xr-icon-database'><use xlink:href='#icon-database'></use></svg></label><div class='xr-array-preview xr-preview'><span>00:00:00 00:15:00 00:30:00 00:45:00 ... 23:15:00 23:30:00 23:45:00</span></div><div class='xr-array-data'><pre>array([datetime.time(0, 0), datetime.time(0, 15), datetime.time(0, 30),\n       datetime.time(0, 45), datetime.time(1, 0), datetime.time(1, 15),\n       datetime.time(1, 30), datetime.time(1, 45), datetime.time(2, 0),\n       datetime.time(2, 15), datetime.time(2, 30), datetime.time(2, 45),\n       datetime.time(3, 0), datetime.time(3, 15), datetime.time(3, 30),\n       datetime.time(3, 45), datetime.time(4, 0), datetime.time(4, 15),\n       datetime.time(4, 30), datetime.time(4, 45), datetime.time(5, 0),\n       datetime.time(5, 15), datetime.time(5, 30), datetime.time(5, 45),\n       datetime.time(6, 0), datetime.time(6, 15), datetime.time(6, 30),\n       datetime.time(6, 45), datetime.time(7, 0), datetime.time(7, 15),\n       datetime.time(7, 30), datetime.time(7, 45), datetime.time(8, 0),\n       datetime.time(8, 15), datetime.time(8, 30), datetime.time(8, 45),\n       datetime.time(9, 0), datetime.time(9, 15), datetime.time(9, 30),\n       datetime.time(9, 45), datetime.time(10, 0), datetime.time(10, 15),\n       datetime.time(10, 30), datetime.time(10, 45), datetime.time(11, 0),\n       datetime.time(11, 15), datetime.time(11, 30), datetime.time(11, 45),\n       datetime.time(12, 0), datetime.time(12, 15), datetime.time(12, 30),\n       datetime.time(12, 45), datetime.time(13, 0), datetime.time(13, 15),\n       datetime.time(13, 30), datetime.time(13, 45), datetime.time(14, 0),\n       datetime.time(14, 15), datetime.time(14, 30), datetime.time(14, 45),\n       datetime.time(15, 0), datetime.time(15, 15), datetime.time(15, 30),\n       datetime.time(15, 45), datetime.time(16, 0), datetime.time(16, 15),\n       datetime.time(16, 30), datetime.time(16, 45), datetime.time(17, 0),\n       datetime.time(17, 15), datetime.time(17, 30), datetime.time(17, 45),\n       datetime.time(18, 0), datetime.time(18, 15), datetime.time(18, 30),\n       datetime.time(18, 45), datetime.time(19, 0), datetime.time(19, 15),\n       datetime.time(19, 30), datetime.time(19, 45), datetime.time(20, 0),\n       datetime.time(20, 15), datetime.time(20, 30), datetime.time(20, 45),\n       datetime.time(21, 0), datetime.time(21, 15), datetime.time(21, 30),\n       datetime.time(21, 45), datetime.time(22, 0), datetime.time(22, 15),\n       datetime.time(22, 30), datetime.time(22, 45), datetime.time(23, 0),\n       datetime.time(23, 15), datetime.time(23, 30), datetime.time(23, 45)],\n      dtype=object)</pre></div></div></li><li class='xr-section-item'><input id='section-1ec6b9bd-9685-49e4-ad42-bd833225dc17' class='xr-section-summary-in' type='checkbox'  checked><label for='section-1ec6b9bd-9685-49e4-ad42-bd833225dc17' class='xr-section-summary' >Coordinates: <span>(1)</span></label><div class='xr-section-inline-details'></div><div class='xr-section-details'><ul class='xr-var-list'><li class='xr-var-item'><div class='xr-var-name'><span class='xr-has-index'>time</span></div><div class='xr-var-dims'>(time)</div><div class='xr-var-dtype'>object</div><div class='xr-var-preview xr-preview'>00:00:00 00:15:00 ... 23:45:00</div><input id='attrs-2994f18a-2e53-427f-b36a-529f969f271a' class='xr-var-attrs-in' type='checkbox' disabled><label for='attrs-2994f18a-2e53-427f-b36a-529f969f271a' title='Show/Hide attributes'><svg class='icon xr-icon-file-text2'><use xlink:href='#icon-file-text2'></use></svg></label><input id='data-0cc000f4-4509-4d57-83c3-1068bc196d51' class='xr-var-data-in' type='checkbox'><label for='data-0cc000f4-4509-4d57-83c3-1068bc196d51' title='Show/Hide data repr'><svg class='icon xr-icon-database'><use xlink:href='#icon-database'></use></svg></label><div class='xr-var-attrs'><dl class='xr-attrs'></dl></div><div class='xr-var-data'><pre>array([datetime.time(0, 0), datetime.time(0, 15), datetime.time(0, 30),\n       datetime.time(0, 45), datetime.time(1, 0), datetime.time(1, 15),\n       datetime.time(1, 30), datetime.time(1, 45), datetime.time(2, 0),\n       datetime.time(2, 15), datetime.time(2, 30), datetime.time(2, 45),\n       datetime.time(3, 0), datetime.time(3, 15), datetime.time(3, 30),\n       datetime.time(3, 45), datetime.time(4, 0), datetime.time(4, 15),\n       datetime.time(4, 30), datetime.time(4, 45), datetime.time(5, 0),\n       datetime.time(5, 15), datetime.time(5, 30), datetime.time(5, 45),\n       datetime.time(6, 0), datetime.time(6, 15), datetime.time(6, 30),\n       datetime.time(6, 45), datetime.time(7, 0), datetime.time(7, 15),\n       datetime.time(7, 30), datetime.time(7, 45), datetime.time(8, 0),\n       datetime.time(8, 15), datetime.time(8, 30), datetime.time(8, 45),\n       datetime.time(9, 0), datetime.time(9, 15), datetime.time(9, 30),\n       datetime.time(9, 45), datetime.time(10, 0), datetime.time(10, 15),\n       datetime.time(10, 30), datetime.time(10, 45), datetime.time(11, 0),\n       datetime.time(11, 15), datetime.time(11, 30), datetime.time(11, 45),\n       datetime.time(12, 0), datetime.time(12, 15), datetime.time(12, 30),\n       datetime.time(12, 45), datetime.time(13, 0), datetime.time(13, 15),\n       datetime.time(13, 30), datetime.time(13, 45), datetime.time(14, 0),\n       datetime.time(14, 15), datetime.time(14, 30), datetime.time(14, 45),\n       datetime.time(15, 0), datetime.time(15, 15), datetime.time(15, 30),\n       datetime.time(15, 45), datetime.time(16, 0), datetime.time(16, 15),\n       datetime.time(16, 30), datetime.time(16, 45), datetime.time(17, 0),\n       datetime.time(17, 15), datetime.time(17, 30), datetime.time(17, 45),\n       datetime.time(18, 0), datetime.time(18, 15), datetime.time(18, 30),\n       datetime.time(18, 45), datetime.time(19, 0), datetime.time(19, 15),\n       datetime.time(19, 30), datetime.time(19, 45), datetime.time(20, 0),\n       datetime.time(20, 15), datetime.time(20, 30), datetime.time(20, 45),\n       datetime.time(21, 0), datetime.time(21, 15), datetime.time(21, 30),\n       datetime.time(21, 45), datetime.time(22, 0), datetime.time(22, 15),\n       datetime.time(22, 30), datetime.time(22, 45), datetime.time(23, 0),\n       datetime.time(23, 15), datetime.time(23, 30), datetime.time(23, 45)],\n      dtype=object)</pre></div></li></ul></div></li><li class='xr-section-item'><input id='section-e885d2cf-e111-499d-99f3-aff80273de5a' class='xr-section-summary-in' type='checkbox'  ><label for='section-e885d2cf-e111-499d-99f3-aff80273de5a' class='xr-section-summary' >Indexes: <span>(1)</span></label><div class='xr-section-inline-details'></div><div class='xr-section-details'><ul class='xr-var-list'><li class='xr-var-item'><div class='xr-index-name'><div>time</div></div><div class='xr-index-preview'>PandasIndex</div><div></div><input id='index-9ffc546d-209e-482f-9c14-b254e2c7c9d8' class='xr-index-data-in' type='checkbox'/><label for='index-9ffc546d-209e-482f-9c14-b254e2c7c9d8' title='Show/Hide index repr'><svg class='icon xr-icon-database'><use xlink:href='#icon-database'></use></svg></label><div class='xr-index-data'><pre>PandasIndex(Index([00:00:00, 00:15:00, 00:30:00, 00:45:00, 01:00:00, 01:15:00, 01:30:00,\n       01:45:00, 02:00:00, 02:15:00, 02:30:00, 02:45:00, 03:00:00, 03:15:00,\n       03:30:00, 03:45:00, 04:00:00, 04:15:00, 04:30:00, 04:45:00, 05:00:00,\n       05:15:00, 05:30:00, 05:45:00, 06:00:00, 06:15:00, 06:30:00, 06:45:00,\n       07:00:00, 07:15:00, 07:30:00, 07:45:00, 08:00:00, 08:15:00, 08:30:00,\n       08:45:00, 09:00:00, 09:15:00, 09:30:00, 09:45:00, 10:00:00, 10:15:00,\n       10:30:00, 10:45:00, 11:00:00, 11:15:00, 11:30:00, 11:45:00, 12:00:00,\n       12:15:00, 12:30:00, 12:45:00, 13:00:00, 13:15:00, 13:30:00, 13:45:00,\n       14:00:00, 14:15:00, 14:30:00, 14:45:00, 15:00:00, 15:15:00, 15:30:00,\n       15:45:00, 16:00:00, 16:15:00, 16:30:00, 16:45:00, 17:00:00, 17:15:00,\n       17:30:00, 17:45:00, 18:00:00, 18:15:00, 18:30:00, 18:45:00, 19:00:00,\n       19:15:00, 19:30:00, 19:45:00, 20:00:00, 20:15:00, 20:30:00, 20:45:00,\n       21:00:00, 21:15:00, 21:30:00, 21:45:00, 22:00:00, 22:15:00, 22:30:00,\n       22:45:00, 23:00:00, 23:15:00, 23:30:00, 23:45:00],\n      dtype=&#x27;object&#x27;, name=&#x27;time&#x27;))</pre></div></li></ul></div></li><li class='xr-section-item'><input id='section-e61672ae-5300-4be4-8a34-e54f0cb9c80c' class='xr-section-summary-in' type='checkbox' disabled ><label for='section-e61672ae-5300-4be4-8a34-e54f0cb9c80c' class='xr-section-summary'  title='Expand/collapse section'>Attributes: <span>(0)</span></label><div class='xr-section-inline-details'></div><div class='xr-section-details'><dl class='xr-attrs'></dl></div></li></ul></div></div>"
     },
     "execution_count": 90,
     "metadata": {},
     "output_type": "execute_result"
    }
   ],
   "source": [
    "gb.time"
   ],
   "metadata": {
    "collapsed": false,
    "ExecuteTime": {
     "end_time": "2023-11-03T16:20:23.762852Z",
     "start_time": "2023-11-03T16:20:23.737192Z"
    }
   },
   "id": "387fddd5b7522b24"
  },
  {
   "cell_type": "code",
   "execution_count": 95,
   "outputs": [],
   "source": [
    "path = '/Users/andrea/Desktop/PhD/Projects/Current/NetMob/Data/BaseData'"
   ],
   "metadata": {
    "collapsed": false,
    "ExecuteTime": {
     "end_time": "2023-11-03T16:27:18.910866Z",
     "start_time": "2023-11-03T16:27:18.908047Z"
    }
   },
   "id": "6033359838019052"
  },
  {
   "cell_type": "code",
   "execution_count": 97,
   "outputs": [
    {
     "ename": "ValueError",
     "evalue": "found the following matches with the input file in xarray's IO backends: ['netcdf4', 'h5netcdf']. But their dependencies may not be installed, see:\nhttps://docs.xarray.dev/en/stable/user-guide/io.html \nhttps://docs.xarray.dev/en/stable/getting-started-guide/installing.html",
     "output_type": "error",
     "traceback": [
      "\u001B[0;31m---------------------------------------------------------------------------\u001B[0m",
      "\u001B[0;31mValueError\u001B[0m                                Traceback (most recent call last)",
      "Cell \u001B[0;32mIn[97], line 1\u001B[0m\n\u001B[0;32m----> 1\u001B[0m app_consumption_by_location_and_time_of_day \u001B[38;5;241m=\u001B[39m \u001B[43mxr\u001B[49m\u001B[38;5;241;43m.\u001B[39;49m\u001B[43mopen_dataset\u001B[49m\u001B[43m(\u001B[49m\u001B[38;5;124;43mf\u001B[39;49m\u001B[38;5;124;43m'\u001B[39;49m\u001B[38;5;132;43;01m{\u001B[39;49;00m\u001B[43mpath\u001B[49m\u001B[38;5;132;43;01m}\u001B[39;49;00m\u001B[38;5;124;43m/app_consumption_by_location_and_by_time_of_day.nc\u001B[39;49m\u001B[38;5;124;43m'\u001B[39;49m\u001B[43m)\u001B[49m\n",
      "File \u001B[0;32m~/anaconda3/envs/General/lib/python3.11/site-packages/xarray/backends/api.py:547\u001B[0m, in \u001B[0;36mopen_dataset\u001B[0;34m(filename_or_obj, engine, chunks, cache, decode_cf, mask_and_scale, decode_times, decode_timedelta, use_cftime, concat_characters, decode_coords, drop_variables, inline_array, chunked_array_type, from_array_kwargs, backend_kwargs, **kwargs)\u001B[0m\n\u001B[1;32m    544\u001B[0m     kwargs\u001B[38;5;241m.\u001B[39mupdate(backend_kwargs)\n\u001B[1;32m    546\u001B[0m \u001B[38;5;28;01mif\u001B[39;00m engine \u001B[38;5;129;01mis\u001B[39;00m \u001B[38;5;28;01mNone\u001B[39;00m:\n\u001B[0;32m--> 547\u001B[0m     engine \u001B[38;5;241m=\u001B[39m \u001B[43mplugins\u001B[49m\u001B[38;5;241;43m.\u001B[39;49m\u001B[43mguess_engine\u001B[49m\u001B[43m(\u001B[49m\u001B[43mfilename_or_obj\u001B[49m\u001B[43m)\u001B[49m\n\u001B[1;32m    549\u001B[0m \u001B[38;5;28;01mif\u001B[39;00m from_array_kwargs \u001B[38;5;129;01mis\u001B[39;00m \u001B[38;5;28;01mNone\u001B[39;00m:\n\u001B[1;32m    550\u001B[0m     from_array_kwargs \u001B[38;5;241m=\u001B[39m {}\n",
      "File \u001B[0;32m~/anaconda3/envs/General/lib/python3.11/site-packages/xarray/backends/plugins.py:197\u001B[0m, in \u001B[0;36mguess_engine\u001B[0;34m(store_spec)\u001B[0m\n\u001B[1;32m    189\u001B[0m \u001B[38;5;28;01melse\u001B[39;00m:\n\u001B[1;32m    190\u001B[0m     error_msg \u001B[38;5;241m=\u001B[39m (\n\u001B[1;32m    191\u001B[0m         \u001B[38;5;124m\"\u001B[39m\u001B[38;5;124mfound the following matches with the input file in xarray\u001B[39m\u001B[38;5;124m'\u001B[39m\u001B[38;5;124ms IO \u001B[39m\u001B[38;5;124m\"\u001B[39m\n\u001B[1;32m    192\u001B[0m         \u001B[38;5;124mf\u001B[39m\u001B[38;5;124m\"\u001B[39m\u001B[38;5;124mbackends: \u001B[39m\u001B[38;5;132;01m{\u001B[39;00mcompatible_engines\u001B[38;5;132;01m}\u001B[39;00m\u001B[38;5;124m. But their dependencies may not be installed, see:\u001B[39m\u001B[38;5;130;01m\\n\u001B[39;00m\u001B[38;5;124m\"\u001B[39m\n\u001B[1;32m    193\u001B[0m         \u001B[38;5;124m\"\u001B[39m\u001B[38;5;124mhttps://docs.xarray.dev/en/stable/user-guide/io.html \u001B[39m\u001B[38;5;130;01m\\n\u001B[39;00m\u001B[38;5;124m\"\u001B[39m\n\u001B[1;32m    194\u001B[0m         \u001B[38;5;124m\"\u001B[39m\u001B[38;5;124mhttps://docs.xarray.dev/en/stable/getting-started-guide/installing.html\u001B[39m\u001B[38;5;124m\"\u001B[39m\n\u001B[1;32m    195\u001B[0m     )\n\u001B[0;32m--> 197\u001B[0m \u001B[38;5;28;01mraise\u001B[39;00m \u001B[38;5;167;01mValueError\u001B[39;00m(error_msg)\n",
      "\u001B[0;31mValueError\u001B[0m: found the following matches with the input file in xarray's IO backends: ['netcdf4', 'h5netcdf']. But their dependencies may not be installed, see:\nhttps://docs.xarray.dev/en/stable/user-guide/io.html \nhttps://docs.xarray.dev/en/stable/getting-started-guide/installing.html"
     ]
    }
   ],
   "source": [
    "app_consumption_by_location_and_time_of_day = xr.open_dataset(f'{path}/app_consumption_by_location_and_by_time_of_day.nc')"
   ],
   "metadata": {
    "collapsed": false,
    "ExecuteTime": {
     "end_time": "2023-11-03T16:27:22.661703Z",
     "start_time": "2023-11-03T16:27:22.645822Z"
    }
   },
   "id": "eec3d0513eb8bf6f"
  },
  {
   "cell_type": "code",
   "execution_count": null,
   "outputs": [],
   "source": [],
   "metadata": {
    "collapsed": false
   },
   "id": "167e89b0cf7dafda"
  },
  {
   "cell_type": "code",
   "execution_count": 1,
   "outputs": [],
   "source": [
    "from ViolinPlot import aggregate_data"
   ],
   "metadata": {
    "collapsed": false,
    "ExecuteTime": {
     "end_time": "2023-11-04T09:32:17.528544Z",
     "start_time": "2023-11-04T09:32:17.242522Z"
    }
   },
   "id": "cfdfafcefccb9fee"
  },
  {
   "cell_type": "code",
   "execution_count": 2,
   "outputs": [],
   "source": [
    "%load_ext autoreload\n",
    "%autoreload 2"
   ],
   "metadata": {
    "collapsed": false,
    "ExecuteTime": {
     "end_time": "2023-11-04T09:32:17.548891Z",
     "start_time": "2023-11-04T09:32:17.529836Z"
    }
   },
   "id": "62c382cbff101375"
  },
  {
   "cell_type": "code",
   "execution_count": 3,
   "outputs": [
    {
     "name": "stderr",
     "output_type": "stream",
     "text": [
      "100%|██████████| 32/32 [1:08:50<00:00, 129.09s/it]\n"
     ]
    }
   ],
   "source": [
    "d = aggregate_data()"
   ],
   "metadata": {
    "collapsed": false,
    "ExecuteTime": {
     "end_time": "2023-11-04T10:41:09.337664Z",
     "start_time": "2023-11-04T09:32:17.725050Z"
    }
   },
   "id": "c42b5bf939f4dc22"
  },
  {
   "cell_type": "code",
   "execution_count": 4,
   "outputs": [],
   "source": [
    "p ='/Users/andrea/Desktop/PhD/Projects/Current/NetMob/Data/BaseData'"
   ],
   "metadata": {
    "collapsed": false,
    "ExecuteTime": {
     "end_time": "2023-11-04T10:41:09.357900Z",
     "start_time": "2023-11-04T10:41:09.339012Z"
    }
   },
   "id": "c9b42a9bddf4dbd5"
  },
  {
   "cell_type": "code",
   "execution_count": 5,
   "outputs": [],
   "source": [
    "d.to_netcdf(f'{p}/app_consumption_by_location_and_time_of_day_insee_tile.nc')"
   ],
   "metadata": {
    "collapsed": false,
    "ExecuteTime": {
     "end_time": "2023-11-04T10:41:09.489593Z",
     "start_time": "2023-11-04T10:41:09.357857Z"
    }
   },
   "id": "89fcfb49fe786737"
  },
  {
   "cell_type": "code",
   "execution_count": 3,
   "outputs": [
    {
     "name": "stdout",
     "output_type": "stream",
     "text": [
      "Area of INSEE tiles: 0.466549113162535 m2\n"
     ]
    }
   ],
   "source": [
    "area_insee_tile = 200*200\n",
    "area_netmob_tile = 100*100\n",
    "total_area_insee_tiles = area_insee_tile * 6747\n",
    "total_area_netmob_tiles = area_netmob_tile * 57846\n",
    "print(f'Area of INSEE tiles: {total_area_insee_tiles / total_area_netmob_tiles} m2')"
   ],
   "metadata": {
    "collapsed": false,
    "ExecuteTime": {
     "end_time": "2023-11-23T10:46:56.037350Z",
     "start_time": "2023-11-23T10:46:56.024992Z"
    }
   },
   "id": "d2ef1084a681027c"
  },
  {
   "cell_type": "code",
   "execution_count": 15,
   "outputs": [],
   "source": [
    "import xarray as xr"
   ],
   "metadata": {
    "collapsed": false,
    "ExecuteTime": {
     "end_time": "2023-11-23T22:12:53.055061Z",
     "start_time": "2023-11-23T22:12:53.048842Z"
    }
   },
   "id": "b1879cb185867e3a"
  },
  {
   "cell_type": "code",
   "execution_count": 16,
   "outputs": [],
   "source": [
    "p ='/Users/andrea/Desktop/PhD/Projects/Current/NetMob/Data/MobileTrafficData'"
   ],
   "metadata": {
    "collapsed": false,
    "ExecuteTime": {
     "end_time": "2023-11-23T22:12:53.254039Z",
     "start_time": "2023-11-23T22:12:53.248656Z"
    }
   },
   "id": "e5cfaa9c12bdd4bf"
  },
  {
   "cell_type": "code",
   "execution_count": 17,
   "outputs": [],
   "source": [
    "d = xr.open_dataset(f'{p}/mobile_traffic_bordeaux_by_insee_tile_service_and_time.nc').to_array().squeeze()"
   ],
   "metadata": {
    "collapsed": false,
    "ExecuteTime": {
     "end_time": "2023-11-23T22:12:53.482353Z",
     "start_time": "2023-11-23T22:12:53.433808Z"
    }
   },
   "id": "f55a1a2994d3e45b"
  },
  {
   "cell_type": "code",
   "execution_count": 21,
   "outputs": [
    {
     "data": {
      "text/plain": "array(['Twitch', 'Orange_TV', 'Microsoft_Azure', 'Apple_iCloud',\n       'Web_Games', 'PlayStation', 'TeamViewer', 'Web_Weather',\n       'Google_Meet', 'Twitter', 'Amazon_Web_Services', 'Apple_Music',\n       'Apple_Siri', 'Web_Ads', 'SoundCloud', 'Wikipedia',\n       'Microsoft_Skydrive', 'Web_Transportation', 'Microsoft_Office',\n       'Yahoo_Mail', 'Web_Food', 'WhatsApp', 'Google_Mail', 'YouTube',\n       'Uber', 'Pinterest', 'Web_Clothes', 'Dropbox', 'Apple_Mail',\n       'Web_Adult', 'DailyMotion', 'Instagram', 'Skype', 'Clash_of_Clans',\n       'Pokemon_GO', 'Apple_App_Store', 'Google_Drive',\n       'Apple_Web_Services', 'Apple_iTunes', 'Web_Finance',\n       'Facebook_Live', 'Web_Downloads', 'EA_Games', 'Waze',\n       'Google_Docs', 'Apple_Video', 'LinkedIn', 'Facebook_Messenger',\n       'Snapchat', 'Deezer', 'Netflix', 'Facebook', 'Telegram',\n       'Apple_iMessage', 'Microsoft_Store', 'Molotov', 'Google_Maps',\n       'Tor', 'Google_Play_Store', 'Web_e-Commerce', 'Fortnite',\n       'Microsoft_Mail', 'Periscope', 'Google_Web_Services', 'Spotify',\n       'Microsoft_Web_Services', 'Web_Streaming', 'Yahoo'], dtype=object)"
     },
     "execution_count": 21,
     "metadata": {},
     "output_type": "execute_result"
    }
   ],
   "source": [
    "d.service.values"
   ],
   "metadata": {
    "collapsed": false,
    "ExecuteTime": {
     "end_time": "2023-11-23T22:13:25.953963Z",
     "start_time": "2023-11-23T22:13:25.948055Z"
    }
   },
   "id": "f43a0133cbe56e16"
  },
  {
   "cell_type": "code",
   "execution_count": 22,
   "outputs": [],
   "source": [
    "import pandas as pd"
   ],
   "metadata": {
    "collapsed": false,
    "ExecuteTime": {
     "end_time": "2023-11-24T18:35:43.377909Z",
     "start_time": "2023-11-24T18:35:43.357910Z"
    }
   },
   "id": "ac4c995fe92a9b0"
  },
  {
   "cell_type": "code",
   "execution_count": 23,
   "outputs": [],
   "source": [
    "a = pd.DataFrame([[1,2],[3,4]], columns=['a', 'b'], index=['c', 'd'])"
   ],
   "metadata": {
    "collapsed": false,
    "ExecuteTime": {
     "end_time": "2023-11-24T18:36:19.189746Z",
     "start_time": "2023-11-24T18:36:19.186028Z"
    }
   },
   "id": "3f968ca967fb9b60"
  },
  {
   "cell_type": "code",
   "execution_count": 24,
   "outputs": [],
   "source": [
    "b = pd.DataFrame([[5,6],[7,8]], columns=['a', 'b'], index=['c', 'd'])"
   ],
   "metadata": {
    "collapsed": false,
    "ExecuteTime": {
     "end_time": "2023-11-24T18:36:19.656892Z",
     "start_time": "2023-11-24T18:36:19.636424Z"
    }
   },
   "id": "f89efaf9cf71790a"
  },
  {
   "cell_type": "code",
   "execution_count": 26,
   "outputs": [
    {
     "data": {
      "text/plain": "  index  a  b\n0     c  1  2\n1     d  3  4\n2     c  5  6\n3     d  7  8",
      "text/html": "<div>\n<style scoped>\n    .dataframe tbody tr th:only-of-type {\n        vertical-align: middle;\n    }\n\n    .dataframe tbody tr th {\n        vertical-align: top;\n    }\n\n    .dataframe thead th {\n        text-align: right;\n    }\n</style>\n<table border=\"1\" class=\"dataframe\">\n  <thead>\n    <tr style=\"text-align: right;\">\n      <th></th>\n      <th>index</th>\n      <th>a</th>\n      <th>b</th>\n    </tr>\n  </thead>\n  <tbody>\n    <tr>\n      <th>0</th>\n      <td>c</td>\n      <td>1</td>\n      <td>2</td>\n    </tr>\n    <tr>\n      <th>1</th>\n      <td>d</td>\n      <td>3</td>\n      <td>4</td>\n    </tr>\n    <tr>\n      <th>2</th>\n      <td>c</td>\n      <td>5</td>\n      <td>6</td>\n    </tr>\n    <tr>\n      <th>3</th>\n      <td>d</td>\n      <td>7</td>\n      <td>8</td>\n    </tr>\n  </tbody>\n</table>\n</div>"
     },
     "execution_count": 26,
     "metadata": {},
     "output_type": "execute_result"
    }
   ],
   "source": [
    "pd.concat([a, b]).reset_index()"
   ],
   "metadata": {
    "collapsed": false,
    "ExecuteTime": {
     "end_time": "2023-11-24T18:36:38.456750Z",
     "start_time": "2023-11-24T18:36:38.453415Z"
    }
   },
   "id": "a8896ef7743901f6"
  },
  {
   "cell_type": "code",
   "execution_count": 31,
   "outputs": [
    {
     "name": "stdout",
     "output_type": "stream",
     "text": [
      "Memory in GB: 36.0\n"
     ]
    }
   ],
   "source": [
    "file_size_mb = 100\n",
    "n_files = 20\n",
    "n_copies = 18\n",
    "memory_in_mb = file_size_mb * n_files * n_copies\n",
    "memory_in_gb = memory_in_mb / 1000\n",
    "print(f'Memory in GB: {memory_in_gb}')"
   ],
   "metadata": {
    "collapsed": false,
    "ExecuteTime": {
     "end_time": "2023-11-25T10:05:10.831297Z",
     "start_time": "2023-11-25T10:05:10.819161Z"
    }
   },
   "id": "7878d2d842cf9a15"
  },
  {
   "cell_type": "code",
   "execution_count": 30,
   "outputs": [
    {
     "name": "stdout",
     "output_type": "stream",
     "text": [
      "Time in hours: 7.5\n"
     ]
    }
   ],
   "source": [
    "time_in_seconds_per_city=90\n",
    "n_cities = 20\n",
    "n_repretitions = 15\n",
    "time_in_seconds = time_in_seconds_per_city * n_cities * n_repretitions\n",
    "time_in_minutes = time_in_seconds / 60\n",
    "time_in_hours = time_in_minutes / 60\n",
    "print(f'Time in hours: {time_in_hours}')"
   ],
   "metadata": {
    "collapsed": false,
    "ExecuteTime": {
     "end_time": "2023-11-25T10:04:22.088263Z",
     "start_time": "2023-11-25T10:04:22.080180Z"
    }
   },
   "id": "60e4f2f812b77609"
  },
  {
   "cell_type": "code",
   "execution_count": null,
   "outputs": [],
   "source": [],
   "metadata": {
    "collapsed": false
   },
   "id": "f99fa27374848a43"
  }
 ],
 "metadata": {
  "kernelspec": {
   "display_name": "Python 3",
   "language": "python",
   "name": "python3"
  },
  "language_info": {
   "codemirror_mode": {
    "name": "ipython",
    "version": 2
   },
   "file_extension": ".py",
   "mimetype": "text/x-python",
   "name": "python",
   "nbconvert_exporter": "python",
   "pygments_lexer": "ipython2",
   "version": "2.7.6"
  }
 },
 "nbformat": 4,
 "nbformat_minor": 5
}
