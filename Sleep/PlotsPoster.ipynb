{
 "cells": [
  {
   "cell_type": "code",
   "execution_count": 1,
   "id": "initial_id",
   "metadata": {
    "collapsed": true,
    "ExecuteTime": {
     "end_time": "2023-10-02T16:51:15.675270Z",
     "start_time": "2023-10-02T16:51:14.122Z"
    }
   },
   "outputs": [],
   "source": [
    "import mobile_traffic as mt"
   ]
  },
  {
   "cell_type": "code",
   "execution_count": null,
   "outputs": [],
   "source": [
    "%load_ext autoreload\n",
    "%autoreload 2"
   ],
   "metadata": {
    "collapsed": false
   },
   "id": "bdc011a2434575c0"
  },
  {
   "cell_type": "code",
   "execution_count": 2,
   "outputs": [
    {
     "name": "stderr",
     "output_type": "stream",
     "text": [
      "100%|██████████| 77/77 [01:20<00:00,  1.05s/it]\n"
     ]
    }
   ],
   "source": [
    "paris = mt.get_city_traffic_data(traffic_type=mt.TrafficType.USERS, city=mt.City.PARIS, geo_data_type=mt.GeoDataType.IRIS) "
   ],
   "metadata": {
    "collapsed": false,
    "ExecuteTime": {
     "end_time": "2023-10-02T16:54:24.465883Z",
     "start_time": "2023-10-02T16:51:44.331044Z"
    }
   },
   "id": "6a541a6dc132a3c2"
  },
  {
   "cell_type": "code",
   "execution_count": 3,
   "outputs": [],
   "source": [
    "traffic_time_series = paris.get_traffic_time_series_by_location()"
   ],
   "metadata": {
    "collapsed": false,
    "ExecuteTime": {
     "end_time": "2023-10-02T16:55:22.716106Z",
     "start_time": "2023-10-02T16:54:24.461668Z"
    }
   },
   "id": "a474cfcd24c51c38"
  },
  {
   "cell_type": "code",
   "execution_count": 5,
   "outputs": [
    {
     "data": {
      "text/plain": "iris                     751010101      751010102      751010103   \ndatetime                                                           \n2019-03-17 15:00:00  704634.966667  529145.163889  396799.046667  \\\n2019-03-17 15:15:00  699426.946667  563624.370556  412380.514444   \n2019-03-17 15:30:00  746904.470556  573484.660556  514600.927222   \n2019-03-17 15:45:00  853726.522222  631847.927222  445208.890000   \n2019-03-17 16:00:00  706118.302222  556488.347222  420536.647222   \n\niris                    751010104     751010105     751010199     751010201   \ndatetime                                                                      \n2019-03-17 15:00:00  1.493695e+06  1.651012e+06  2.664653e+06  1.521427e+06  \\\n2019-03-17 15:15:00  1.553631e+06  1.554195e+06  2.659790e+06  1.481128e+06   \n2019-03-17 15:30:00  1.998304e+06  1.828856e+06  2.952835e+06  1.361535e+06   \n2019-03-17 15:45:00  1.752858e+06  1.991674e+06  3.050082e+06  1.420639e+06   \n2019-03-17 16:00:00  1.788563e+06  1.749459e+06  2.797334e+06  1.469390e+06   \n\niris                     751010202     751010203     751010204  ...   \ndatetime                                                        ...   \n2019-03-17 15:00:00  708795.488889  1.324204e+06  1.757763e+06  ...  \\\n2019-03-17 15:15:00  695261.494444  1.172094e+06  1.638265e+06  ...   \n2019-03-17 15:30:00  851561.327778  1.455008e+06  1.573832e+06  ...   \n2019-03-17 15:45:00  803039.593333  1.312178e+06  1.632086e+06  ...   \n2019-03-17 16:00:00  733603.863889  1.268962e+06  1.637837e+06  ...   \n\niris                    954270102     954270106     954270107     955270000   \ndatetime                                                                      \n2019-03-17 15:00:00  10423.281111  10751.062222  10821.023333  55467.028889  \\\n2019-03-17 15:15:00   9309.548333  10796.390556  11790.232222  58952.576667   \n2019-03-17 15:30:00  11138.257222  11329.157778  12679.111667  49352.250556   \n2019-03-17 15:45:00  11390.785000  10986.518889  10942.046111  47699.493889   \n2019-03-17 16:00:00  12274.115000  11047.979444  10110.787222  42104.445000   \n\niris                    955550102    955550104     955550106     955820102   \ndatetime                                                                     \n2019-03-17 15:00:00  13797.100000  9865.967222  31503.108889  57389.787222  \\\n2019-03-17 15:15:00  12074.550556  7355.281111  24899.825000  57062.860000   \n2019-03-17 15:30:00  12433.309444  8195.643889  27210.586667  57265.909444   \n2019-03-17 15:45:00  12049.310000  7889.141111  26196.793333  55766.732222   \n2019-03-17 16:00:00  11124.768333  6420.969444  22113.921667  57871.610000   \n\niris                   955820103     955850119  \ndatetime                                        \n2019-03-17 15:00:00  5143.897222  17636.890000  \n2019-03-17 15:15:00  5382.804444  18209.930000  \n2019-03-17 15:30:00  5401.019444  19416.045556  \n2019-03-17 15:45:00  5006.611667  17286.166667  \n2019-03-17 16:00:00  4936.757222  15574.785000  \n\n[5 rows x 2931 columns]",
      "text/html": "<div>\n<style scoped>\n    .dataframe tbody tr th:only-of-type {\n        vertical-align: middle;\n    }\n\n    .dataframe tbody tr th {\n        vertical-align: top;\n    }\n\n    .dataframe thead th {\n        text-align: right;\n    }\n</style>\n<table border=\"1\" class=\"dataframe\">\n  <thead>\n    <tr style=\"text-align: right;\">\n      <th>iris</th>\n      <th>751010101</th>\n      <th>751010102</th>\n      <th>751010103</th>\n      <th>751010104</th>\n      <th>751010105</th>\n      <th>751010199</th>\n      <th>751010201</th>\n      <th>751010202</th>\n      <th>751010203</th>\n      <th>751010204</th>\n      <th>...</th>\n      <th>954270102</th>\n      <th>954270106</th>\n      <th>954270107</th>\n      <th>955270000</th>\n      <th>955550102</th>\n      <th>955550104</th>\n      <th>955550106</th>\n      <th>955820102</th>\n      <th>955820103</th>\n      <th>955850119</th>\n    </tr>\n    <tr>\n      <th>datetime</th>\n      <th></th>\n      <th></th>\n      <th></th>\n      <th></th>\n      <th></th>\n      <th></th>\n      <th></th>\n      <th></th>\n      <th></th>\n      <th></th>\n      <th></th>\n      <th></th>\n      <th></th>\n      <th></th>\n      <th></th>\n      <th></th>\n      <th></th>\n      <th></th>\n      <th></th>\n      <th></th>\n      <th></th>\n    </tr>\n  </thead>\n  <tbody>\n    <tr>\n      <th>2019-03-17 15:00:00</th>\n      <td>704634.966667</td>\n      <td>529145.163889</td>\n      <td>396799.046667</td>\n      <td>1.493695e+06</td>\n      <td>1.651012e+06</td>\n      <td>2.664653e+06</td>\n      <td>1.521427e+06</td>\n      <td>708795.488889</td>\n      <td>1.324204e+06</td>\n      <td>1.757763e+06</td>\n      <td>...</td>\n      <td>10423.281111</td>\n      <td>10751.062222</td>\n      <td>10821.023333</td>\n      <td>55467.028889</td>\n      <td>13797.100000</td>\n      <td>9865.967222</td>\n      <td>31503.108889</td>\n      <td>57389.787222</td>\n      <td>5143.897222</td>\n      <td>17636.890000</td>\n    </tr>\n    <tr>\n      <th>2019-03-17 15:15:00</th>\n      <td>699426.946667</td>\n      <td>563624.370556</td>\n      <td>412380.514444</td>\n      <td>1.553631e+06</td>\n      <td>1.554195e+06</td>\n      <td>2.659790e+06</td>\n      <td>1.481128e+06</td>\n      <td>695261.494444</td>\n      <td>1.172094e+06</td>\n      <td>1.638265e+06</td>\n      <td>...</td>\n      <td>9309.548333</td>\n      <td>10796.390556</td>\n      <td>11790.232222</td>\n      <td>58952.576667</td>\n      <td>12074.550556</td>\n      <td>7355.281111</td>\n      <td>24899.825000</td>\n      <td>57062.860000</td>\n      <td>5382.804444</td>\n      <td>18209.930000</td>\n    </tr>\n    <tr>\n      <th>2019-03-17 15:30:00</th>\n      <td>746904.470556</td>\n      <td>573484.660556</td>\n      <td>514600.927222</td>\n      <td>1.998304e+06</td>\n      <td>1.828856e+06</td>\n      <td>2.952835e+06</td>\n      <td>1.361535e+06</td>\n      <td>851561.327778</td>\n      <td>1.455008e+06</td>\n      <td>1.573832e+06</td>\n      <td>...</td>\n      <td>11138.257222</td>\n      <td>11329.157778</td>\n      <td>12679.111667</td>\n      <td>49352.250556</td>\n      <td>12433.309444</td>\n      <td>8195.643889</td>\n      <td>27210.586667</td>\n      <td>57265.909444</td>\n      <td>5401.019444</td>\n      <td>19416.045556</td>\n    </tr>\n    <tr>\n      <th>2019-03-17 15:45:00</th>\n      <td>853726.522222</td>\n      <td>631847.927222</td>\n      <td>445208.890000</td>\n      <td>1.752858e+06</td>\n      <td>1.991674e+06</td>\n      <td>3.050082e+06</td>\n      <td>1.420639e+06</td>\n      <td>803039.593333</td>\n      <td>1.312178e+06</td>\n      <td>1.632086e+06</td>\n      <td>...</td>\n      <td>11390.785000</td>\n      <td>10986.518889</td>\n      <td>10942.046111</td>\n      <td>47699.493889</td>\n      <td>12049.310000</td>\n      <td>7889.141111</td>\n      <td>26196.793333</td>\n      <td>55766.732222</td>\n      <td>5006.611667</td>\n      <td>17286.166667</td>\n    </tr>\n    <tr>\n      <th>2019-03-17 16:00:00</th>\n      <td>706118.302222</td>\n      <td>556488.347222</td>\n      <td>420536.647222</td>\n      <td>1.788563e+06</td>\n      <td>1.749459e+06</td>\n      <td>2.797334e+06</td>\n      <td>1.469390e+06</td>\n      <td>733603.863889</td>\n      <td>1.268962e+06</td>\n      <td>1.637837e+06</td>\n      <td>...</td>\n      <td>12274.115000</td>\n      <td>11047.979444</td>\n      <td>10110.787222</td>\n      <td>42104.445000</td>\n      <td>11124.768333</td>\n      <td>6420.969444</td>\n      <td>22113.921667</td>\n      <td>57871.610000</td>\n      <td>4936.757222</td>\n      <td>15574.785000</td>\n    </tr>\n  </tbody>\n</table>\n<p>5 rows × 2931 columns</p>\n</div>"
     },
     "execution_count": 5,
     "metadata": {},
     "output_type": "execute_result"
    }
   ],
   "source": [
    "traffic_time_series.head()"
   ],
   "metadata": {
    "collapsed": false,
    "ExecuteTime": {
     "end_time": "2023-10-02T16:55:29.335330Z",
     "start_time": "2023-10-02T16:55:29.334635Z"
    }
   },
   "id": "24d7a6c11ba89665"
  },
  {
   "cell_type": "code",
   "execution_count": 12,
   "outputs": [],
   "source": [
    "import plotly.graph_objs as go\n",
    "import numpy as np"
   ],
   "metadata": {
    "collapsed": false,
    "ExecuteTime": {
     "end_time": "2023-10-02T16:57:21.763954Z",
     "start_time": "2023-10-02T16:57:21.746876Z"
    }
   },
   "id": "3dcca222f0de89bd"
  },
  {
   "cell_type": "code",
   "execution_count": 27,
   "outputs": [],
   "source": [
    "times = np.unique(traffic_time_series.index.time)\n",
    "time_to_int = {time: index for index, time in enumerate(times)}\n",
    "int_to_time = {index: time for index, time in enumerate(times)}"
   ],
   "metadata": {
    "collapsed": false,
    "ExecuteTime": {
     "end_time": "2023-10-02T17:05:25.627076Z",
     "start_time": "2023-10-02T17:05:25.621192Z"
    }
   },
   "id": "f234f293f5b356ef"
  },
  {
   "cell_type": "code",
   "execution_count": 16,
   "outputs": [],
   "source": [
    "traffic_time_series['int_time'] = [time_to_int[i] for i in traffic_time_series.index.time]"
   ],
   "metadata": {
    "collapsed": false,
    "ExecuteTime": {
     "end_time": "2023-10-02T16:58:37.010643Z",
     "start_time": "2023-10-02T16:58:37.006385Z"
    }
   },
   "id": "4caf304eae152e01"
  },
  {
   "cell_type": "code",
   "execution_count": 17,
   "outputs": [],
   "source": [
    "traffic_time_series_mean = traffic_time_series.groupby(['int_time']).mean()"
   ],
   "metadata": {
    "collapsed": false,
    "ExecuteTime": {
     "end_time": "2023-10-02T16:59:27.775348Z",
     "start_time": "2023-10-02T16:59:27.728710Z"
    }
   },
   "id": "e97e25df44464cc6"
  },
  {
   "cell_type": "code",
   "execution_count": 54,
   "outputs": [],
   "source": [
    "focal_times = list(range(86,96)) + list(range(0,16))"
   ],
   "metadata": {
    "collapsed": false,
    "ExecuteTime": {
     "end_time": "2023-10-02T17:16:37.108111Z",
     "start_time": "2023-10-02T17:16:37.097008Z"
    }
   },
   "id": "281f5cbd54b066a8"
  },
  {
   "cell_type": "code",
   "execution_count": 55,
   "outputs": [],
   "source": [
    "traffic_time_series_mean = traffic_time_series_mean.loc[focal_times]"
   ],
   "metadata": {
    "collapsed": false,
    "ExecuteTime": {
     "end_time": "2023-10-02T17:16:37.823378Z",
     "start_time": "2023-10-02T17:16:37.810890Z"
    }
   },
   "id": "ebbad592062600a7"
  },
  {
   "cell_type": "code",
   "execution_count": 56,
   "outputs": [],
   "source": [
    "traffic_time_series_mean = traffic_time_series_mean / traffic_time_series_mean.sum()"
   ],
   "metadata": {
    "collapsed": false,
    "ExecuteTime": {
     "end_time": "2023-10-02T17:16:38.051408Z",
     "start_time": "2023-10-02T17:16:38.038123Z"
    }
   },
   "id": "29b9cffebc6ca4c"
  },
  {
   "cell_type": "code",
   "execution_count": 57,
   "outputs": [],
   "source": [
    "cum_sum = traffic_time_series_mean.cumsum(axis=0)"
   ],
   "metadata": {
    "collapsed": false,
    "ExecuteTime": {
     "end_time": "2023-10-02T17:16:38.275938Z",
     "start_time": "2023-10-02T17:16:38.262044Z"
    }
   },
   "id": "ec4fdd3bca62a1d9"
  },
  {
   "cell_type": "code",
   "execution_count": 58,
   "outputs": [],
   "source": [
    "deviation = cum_sum.subtract(cum_sum.mean(axis=1), axis=0)"
   ],
   "metadata": {
    "collapsed": false,
    "ExecuteTime": {
     "end_time": "2023-10-02T17:16:38.722851Z",
     "start_time": "2023-10-02T17:16:38.711464Z"
    }
   },
   "id": "7765d429f2707686"
  },
  {
   "cell_type": "code",
   "execution_count": 59,
   "outputs": [
    {
     "data": {
      "text/plain": "iris\n914790104    2.046749\n772820000    1.615766\n772910000    1.523552\n751020502    1.080612\n751020501    1.075955\n               ...   \n930710107   -1.229936\n930050702   -1.386957\n940210101   -1.406055\n930050703   -1.430050\n930050701   -1.438450\nLength: 2931, dtype: float64"
     },
     "execution_count": 59,
     "metadata": {},
     "output_type": "execute_result"
    }
   ],
   "source": [
    "deviation.sum(axis=0).sort_values(ascending=False)"
   ],
   "metadata": {
    "collapsed": false,
    "ExecuteTime": {
     "end_time": "2023-10-02T17:16:38.923977Z",
     "start_time": "2023-10-02T17:16:38.910857Z"
    }
   },
   "id": "5a5fffb337d42400"
  },
  {
   "cell_type": "code",
   "execution_count": 61,
   "outputs": [],
   "source": [
    "fig = go.Figure()\n",
    "x = [int_to_time[i] for i in traffic_time_series_mean.index]\n",
    "y_low = traffic_time_series_mean['930050701']\n",
    "y_high= traffic_time_series_mean['914790104']\n",
    "y_mean = traffic_time_series_mean.mean(axis=1)\n",
    "line_width = 4\n",
    "fig.add_trace(go.Scatter(x=x, y=y_high, mode='lines', name='L1', line_width=line_width))\n",
    "fig.add_trace(go.Scatter(x=x, y=y_low, mode='lines', name='L2', line_width=line_width))\n",
    "fig.add_trace(go.Scatter(x=x, y=y_mean, mode='lines', name='Mean', line_width=line_width, line_color='black'))\n",
    "fig.update_layout(title='', xaxis_title='Time', yaxis_title='Probability', template='plotly_white', font=dict(size=30, color=\"Black\", family=\"Arial\"), width=1500, height=800)\n",
    "fig.show(renderer='browser')"
   ],
   "metadata": {
    "collapsed": false,
    "ExecuteTime": {
     "end_time": "2023-10-02T17:16:55.523044Z",
     "start_time": "2023-10-02T17:16:55.178951Z"
    }
   },
   "id": "1638c201c7cf73f6"
  },
  {
   "cell_type": "code",
   "execution_count": 62,
   "outputs": [],
   "source": [
    "import plotly.io as pio"
   ],
   "metadata": {
    "collapsed": false,
    "ExecuteTime": {
     "end_time": "2023-10-02T17:17:01.299529Z",
     "start_time": "2023-10-02T17:17:01.289902Z"
    }
   },
   "id": "99cb95ff0dade66c"
  },
  {
   "cell_type": "code",
   "execution_count": 63,
   "outputs": [],
   "source": [
    "path = '/Users/anmusso/Desktop/PhD/Projects/Current/NetMob/Figures/Sleep/'\n",
    "pio.write_image(fig, file=f'{path}/poster_traffic_time_series.png', format='png', width=1500, height=800, scale=1)"
   ],
   "metadata": {
    "collapsed": false,
    "ExecuteTime": {
     "end_time": "2023-10-02T17:17:01.574315Z",
     "start_time": "2023-10-02T17:17:01.466338Z"
    }
   },
   "id": "260f5cf53ea712a6"
  },
  {
   "cell_type": "code",
   "execution_count": 65,
   "outputs": [
    {
     "data": {
      "text/plain": "8.60096"
     },
     "execution_count": 65,
     "metadata": {},
     "output_type": "execute_result"
    }
   ],
   "source": [
    "L = 56\n",
    "20.8 - 1.05 * L + 0.01486 * L**2"
   ],
   "metadata": {
    "collapsed": false,
    "ExecuteTime": {
     "end_time": "2023-10-02T17:52:39.223719Z",
     "start_time": "2023-10-02T17:52:39.211923Z"
    }
   },
   "id": "ad6a7f6fad1681fa"
  },
  {
   "cell_type": "code",
   "execution_count": null,
   "outputs": [],
   "source": [],
   "metadata": {
    "collapsed": false
   },
   "id": "6b407c1a3edd0efc"
  }
 ],
 "metadata": {
  "kernelspec": {
   "display_name": "Python 3",
   "language": "python",
   "name": "python3"
  },
  "language_info": {
   "codemirror_mode": {
    "name": "ipython",
    "version": 2
   },
   "file_extension": ".py",
   "mimetype": "text/x-python",
   "name": "python",
   "nbconvert_exporter": "python",
   "pygments_lexer": "ipython2",
   "version": "2.7.6"
  }
 },
 "nbformat": 4,
 "nbformat_minor": 5
}
