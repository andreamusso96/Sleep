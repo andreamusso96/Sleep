{
 "cells": [
  {
   "cell_type": "code",
   "execution_count": 27,
   "metadata": {
    "collapsed": true,
    "ExecuteTime": {
     "end_time": "2023-05-29T08:55:38.768494Z",
     "start_time": "2023-05-29T08:55:38.701150Z"
    }
   },
   "outputs": [],
   "source": [
    "import pandas as pd\n",
    "from BuisnessDensity.BuisnessDensityIndex import BusinessCountsData, PopulationData"
   ]
  },
  {
   "cell_type": "code",
   "execution_count": 2,
   "outputs": [],
   "source": [
    "%load_ext autoreload\n",
    "%autoreload 2"
   ],
   "metadata": {
    "collapsed": false,
    "ExecuteTime": {
     "end_time": "2023-05-29T08:39:06.672832Z",
     "start_time": "2023-05-29T08:39:06.640310Z"
    }
   }
  },
  {
   "cell_type": "code",
   "execution_count": 34,
   "outputs": [],
   "source": [
    "business_counts = BusinessCountsData()"
   ],
   "metadata": {
    "collapsed": false,
    "ExecuteTime": {
     "end_time": "2023-05-29T08:59:51.394270Z",
     "start_time": "2023-05-29T08:59:50.541428Z"
    }
   }
  },
  {
   "cell_type": "code",
   "execution_count": 35,
   "outputs": [],
   "source": [
    "data = business_counts.data"
   ],
   "metadata": {
    "collapsed": false,
    "ExecuteTime": {
     "end_time": "2023-05-29T08:59:51.424492Z",
     "start_time": "2023-05-29T08:59:51.396661Z"
    }
   }
  },
  {
   "cell_type": "code",
   "execution_count": 36,
   "outputs": [
    {
     "data": {
      "text/plain": "DCIRIS\n010010000     19\n010020000      5\n010040101    136\n010040102    124\n010040201    182\n            ... \n97613_IND    105\n97614_IND    167\n97615_IND    221\n97616_IND    229\n97617_IND    256\nName: NB_EQUIP, Length: 49436, dtype: int64"
     },
     "execution_count": 36,
     "metadata": {},
     "output_type": "execute_result"
    }
   ],
   "source": [
    "data.groupby('DCIRIS')['NB_EQUIP'].sum()"
   ],
   "metadata": {
    "collapsed": false,
    "ExecuteTime": {
     "end_time": "2023-05-29T08:59:51.565700Z",
     "start_time": "2023-05-29T08:59:51.424976Z"
    }
   }
  },
  {
   "cell_type": "code",
   "execution_count": 37,
   "outputs": [
    {
     "name": "stdout",
     "output_type": "stream",
     "text": [
      "A1\n",
      "A4\n",
      "A5\n",
      "B2\n",
      "C1\n",
      "D2\n",
      "F1\n",
      "A3\n",
      "A2\n",
      "B1\n",
      "B3\n",
      "C2\n",
      "C3\n",
      "C5\n",
      "C6\n",
      "D1\n",
      "D3\n",
      "D4\n",
      "D5\n",
      "D6\n",
      "D7\n",
      "E1\n",
      "F3\n",
      "G1\n",
      "F2\n",
      "C4\n",
      "C7\n"
     ]
    }
   ],
   "source": [
    "for a in data[data.columns[2]].unique():\n",
    "    try:\n",
    "        int(a)\n",
    "    except:\n",
    "        print(a)"
   ],
   "metadata": {
    "collapsed": false,
    "ExecuteTime": {
     "end_time": "2023-05-29T08:59:57.136974Z",
     "start_time": "2023-05-29T08:59:57.067243Z"
    }
   }
  },
  {
   "cell_type": "code",
   "execution_count": 38,
   "outputs": [],
   "source": [
    "population_data = PopulationData()"
   ],
   "metadata": {
    "collapsed": false,
    "ExecuteTime": {
     "end_time": "2023-05-29T08:59:58.716846Z",
     "start_time": "2023-05-29T08:59:57.924327Z"
    }
   }
  },
  {
   "cell_type": "code",
   "execution_count": 39,
   "outputs": [
    {
     "data": {
      "text/plain": "            IRIS    COM TYP_IRIS  MODIF_IRIS LAB_IRIS      P19_POP   \n0      010010000  01001        Z           0        5   779.000000  \\\n1      010020000  01002        Z           0        5   256.000000   \n2      010040101  01004        H           0        1  1866.820612   \n3      010040102  01004        H           0        1  3597.838556   \n4      010040201  01004        H           0        1  4134.477890   \n...          ...    ...      ...         ...      ...          ...   \n49277  974240101  97424        H           0        4  1737.999244   \n49278  974240102  97424        H           0        4  1677.366109   \n49279  974240103  97424        H           0        4   699.426601   \n49280  974240104  97424        H           0        4  1001.667637   \n49281  974240105  97424        D           0        4   421.540409   \n\n       P19_POP0002  P19_POP0305  P19_POP0610  P19_POP1117  ...  C19_F15P_CS4   \n0        28.717996    17.704186    56.118237    88.707423  ...     51.660136  \\\n1        14.822643    10.649265    14.954810    25.657176  ...     21.129095   \n2        81.762602    47.104967   100.705691   139.733038  ...     97.002069   \n3       168.897927   119.186603   198.365404   259.072890  ...    227.534831   \n4       167.871616   174.765320   272.922347   394.708508  ...    251.065974   \n...            ...          ...          ...          ...  ...           ...   \n49277    69.588242    58.784278   118.186797   179.980339  ...     72.138847   \n49278    63.035316    66.841666   126.343354   173.033434  ...     15.094928   \n49279    22.725352    24.726058    51.753794    83.162706  ...     15.856785   \n49280    42.160709    39.925063    69.051504   107.150224  ...     24.674758   \n49281    14.532303    24.837459    33.950091    50.790155  ...      9.978905   \n\n       C19_F15P_CS5  C19_F15P_CS6  C19_F15P_CS7  C19_F15P_CS8   P19_POP_FR   \n0         85.506573     30.706106     74.014043     15.282114   770.764925  \\\n1         26.532030      0.000000     20.804745      0.000000   253.880636   \n2        230.709482     57.381411    173.435664    188.940291  1581.546546   \n3        393.985009    153.027649    395.418257    324.027792  3147.417422   \n4        374.705891    192.484961    512.421938    366.036586  3774.171377   \n...             ...           ...           ...           ...          ...   \n49277    212.096898     20.976693    158.392672    201.854536  1723.743885   \n49278    213.238378     35.923719    126.225245    239.153300  1673.408419   \n49279     85.055922      9.966106     47.404368     82.239676   696.257931   \n49280    122.762562     71.851830     63.848366    101.056688  1000.641872   \n49281     49.415701     24.342602     42.275545     29.471425   421.540409   \n\n       P19_POP_ETR  P19_POP_IMM     P19_PMEN  P19_PHORMEN  \n0         8.235075    20.489890   779.000000     0.000000  \n1         2.119364     3.159602   256.000000     0.000000  \n2       285.274066   254.016701  1503.829647   362.990965  \n3       450.421134   561.857429  3597.838556     0.000000  \n4       360.306514   418.569299  4046.480081    87.997810  \n...            ...          ...          ...          ...  \n49277    14.255359    20.650430  1732.999128     5.000116  \n49278     3.957690    10.119229  1677.366109     0.000000  \n49279     3.168670     4.164854   699.426601     0.000000  \n49280     1.025764     2.051529  1001.667637     0.000000  \n49281     0.000000     1.056223   421.540409     0.000000  \n\n[49282 rows x 77 columns]",
      "text/html": "<div>\n<style scoped>\n    .dataframe tbody tr th:only-of-type {\n        vertical-align: middle;\n    }\n\n    .dataframe tbody tr th {\n        vertical-align: top;\n    }\n\n    .dataframe thead th {\n        text-align: right;\n    }\n</style>\n<table border=\"1\" class=\"dataframe\">\n  <thead>\n    <tr style=\"text-align: right;\">\n      <th></th>\n      <th>IRIS</th>\n      <th>COM</th>\n      <th>TYP_IRIS</th>\n      <th>MODIF_IRIS</th>\n      <th>LAB_IRIS</th>\n      <th>P19_POP</th>\n      <th>P19_POP0002</th>\n      <th>P19_POP0305</th>\n      <th>P19_POP0610</th>\n      <th>P19_POP1117</th>\n      <th>...</th>\n      <th>C19_F15P_CS4</th>\n      <th>C19_F15P_CS5</th>\n      <th>C19_F15P_CS6</th>\n      <th>C19_F15P_CS7</th>\n      <th>C19_F15P_CS8</th>\n      <th>P19_POP_FR</th>\n      <th>P19_POP_ETR</th>\n      <th>P19_POP_IMM</th>\n      <th>P19_PMEN</th>\n      <th>P19_PHORMEN</th>\n    </tr>\n  </thead>\n  <tbody>\n    <tr>\n      <th>0</th>\n      <td>010010000</td>\n      <td>01001</td>\n      <td>Z</td>\n      <td>0</td>\n      <td>5</td>\n      <td>779.000000</td>\n      <td>28.717996</td>\n      <td>17.704186</td>\n      <td>56.118237</td>\n      <td>88.707423</td>\n      <td>...</td>\n      <td>51.660136</td>\n      <td>85.506573</td>\n      <td>30.706106</td>\n      <td>74.014043</td>\n      <td>15.282114</td>\n      <td>770.764925</td>\n      <td>8.235075</td>\n      <td>20.489890</td>\n      <td>779.000000</td>\n      <td>0.000000</td>\n    </tr>\n    <tr>\n      <th>1</th>\n      <td>010020000</td>\n      <td>01002</td>\n      <td>Z</td>\n      <td>0</td>\n      <td>5</td>\n      <td>256.000000</td>\n      <td>14.822643</td>\n      <td>10.649265</td>\n      <td>14.954810</td>\n      <td>25.657176</td>\n      <td>...</td>\n      <td>21.129095</td>\n      <td>26.532030</td>\n      <td>0.000000</td>\n      <td>20.804745</td>\n      <td>0.000000</td>\n      <td>253.880636</td>\n      <td>2.119364</td>\n      <td>3.159602</td>\n      <td>256.000000</td>\n      <td>0.000000</td>\n    </tr>\n    <tr>\n      <th>2</th>\n      <td>010040101</td>\n      <td>01004</td>\n      <td>H</td>\n      <td>0</td>\n      <td>1</td>\n      <td>1866.820612</td>\n      <td>81.762602</td>\n      <td>47.104967</td>\n      <td>100.705691</td>\n      <td>139.733038</td>\n      <td>...</td>\n      <td>97.002069</td>\n      <td>230.709482</td>\n      <td>57.381411</td>\n      <td>173.435664</td>\n      <td>188.940291</td>\n      <td>1581.546546</td>\n      <td>285.274066</td>\n      <td>254.016701</td>\n      <td>1503.829647</td>\n      <td>362.990965</td>\n    </tr>\n    <tr>\n      <th>3</th>\n      <td>010040102</td>\n      <td>01004</td>\n      <td>H</td>\n      <td>0</td>\n      <td>1</td>\n      <td>3597.838556</td>\n      <td>168.897927</td>\n      <td>119.186603</td>\n      <td>198.365404</td>\n      <td>259.072890</td>\n      <td>...</td>\n      <td>227.534831</td>\n      <td>393.985009</td>\n      <td>153.027649</td>\n      <td>395.418257</td>\n      <td>324.027792</td>\n      <td>3147.417422</td>\n      <td>450.421134</td>\n      <td>561.857429</td>\n      <td>3597.838556</td>\n      <td>0.000000</td>\n    </tr>\n    <tr>\n      <th>4</th>\n      <td>010040201</td>\n      <td>01004</td>\n      <td>H</td>\n      <td>0</td>\n      <td>1</td>\n      <td>4134.477890</td>\n      <td>167.871616</td>\n      <td>174.765320</td>\n      <td>272.922347</td>\n      <td>394.708508</td>\n      <td>...</td>\n      <td>251.065974</td>\n      <td>374.705891</td>\n      <td>192.484961</td>\n      <td>512.421938</td>\n      <td>366.036586</td>\n      <td>3774.171377</td>\n      <td>360.306514</td>\n      <td>418.569299</td>\n      <td>4046.480081</td>\n      <td>87.997810</td>\n    </tr>\n    <tr>\n      <th>...</th>\n      <td>...</td>\n      <td>...</td>\n      <td>...</td>\n      <td>...</td>\n      <td>...</td>\n      <td>...</td>\n      <td>...</td>\n      <td>...</td>\n      <td>...</td>\n      <td>...</td>\n      <td>...</td>\n      <td>...</td>\n      <td>...</td>\n      <td>...</td>\n      <td>...</td>\n      <td>...</td>\n      <td>...</td>\n      <td>...</td>\n      <td>...</td>\n      <td>...</td>\n      <td>...</td>\n    </tr>\n    <tr>\n      <th>49277</th>\n      <td>974240101</td>\n      <td>97424</td>\n      <td>H</td>\n      <td>0</td>\n      <td>4</td>\n      <td>1737.999244</td>\n      <td>69.588242</td>\n      <td>58.784278</td>\n      <td>118.186797</td>\n      <td>179.980339</td>\n      <td>...</td>\n      <td>72.138847</td>\n      <td>212.096898</td>\n      <td>20.976693</td>\n      <td>158.392672</td>\n      <td>201.854536</td>\n      <td>1723.743885</td>\n      <td>14.255359</td>\n      <td>20.650430</td>\n      <td>1732.999128</td>\n      <td>5.000116</td>\n    </tr>\n    <tr>\n      <th>49278</th>\n      <td>974240102</td>\n      <td>97424</td>\n      <td>H</td>\n      <td>0</td>\n      <td>4</td>\n      <td>1677.366109</td>\n      <td>63.035316</td>\n      <td>66.841666</td>\n      <td>126.343354</td>\n      <td>173.033434</td>\n      <td>...</td>\n      <td>15.094928</td>\n      <td>213.238378</td>\n      <td>35.923719</td>\n      <td>126.225245</td>\n      <td>239.153300</td>\n      <td>1673.408419</td>\n      <td>3.957690</td>\n      <td>10.119229</td>\n      <td>1677.366109</td>\n      <td>0.000000</td>\n    </tr>\n    <tr>\n      <th>49279</th>\n      <td>974240103</td>\n      <td>97424</td>\n      <td>H</td>\n      <td>0</td>\n      <td>4</td>\n      <td>699.426601</td>\n      <td>22.725352</td>\n      <td>24.726058</td>\n      <td>51.753794</td>\n      <td>83.162706</td>\n      <td>...</td>\n      <td>15.856785</td>\n      <td>85.055922</td>\n      <td>9.966106</td>\n      <td>47.404368</td>\n      <td>82.239676</td>\n      <td>696.257931</td>\n      <td>3.168670</td>\n      <td>4.164854</td>\n      <td>699.426601</td>\n      <td>0.000000</td>\n    </tr>\n    <tr>\n      <th>49280</th>\n      <td>974240104</td>\n      <td>97424</td>\n      <td>H</td>\n      <td>0</td>\n      <td>4</td>\n      <td>1001.667637</td>\n      <td>42.160709</td>\n      <td>39.925063</td>\n      <td>69.051504</td>\n      <td>107.150224</td>\n      <td>...</td>\n      <td>24.674758</td>\n      <td>122.762562</td>\n      <td>71.851830</td>\n      <td>63.848366</td>\n      <td>101.056688</td>\n      <td>1000.641872</td>\n      <td>1.025764</td>\n      <td>2.051529</td>\n      <td>1001.667637</td>\n      <td>0.000000</td>\n    </tr>\n    <tr>\n      <th>49281</th>\n      <td>974240105</td>\n      <td>97424</td>\n      <td>D</td>\n      <td>0</td>\n      <td>4</td>\n      <td>421.540409</td>\n      <td>14.532303</td>\n      <td>24.837459</td>\n      <td>33.950091</td>\n      <td>50.790155</td>\n      <td>...</td>\n      <td>9.978905</td>\n      <td>49.415701</td>\n      <td>24.342602</td>\n      <td>42.275545</td>\n      <td>29.471425</td>\n      <td>421.540409</td>\n      <td>0.000000</td>\n      <td>1.056223</td>\n      <td>421.540409</td>\n      <td>0.000000</td>\n    </tr>\n  </tbody>\n</table>\n<p>49282 rows × 77 columns</p>\n</div>"
     },
     "execution_count": 39,
     "metadata": {},
     "output_type": "execute_result"
    }
   ],
   "source": [
    "population_data.data"
   ],
   "metadata": {
    "collapsed": false,
    "ExecuteTime": {
     "end_time": "2023-05-29T08:59:59.244605Z",
     "start_time": "2023-05-29T08:59:59.171471Z"
    }
   }
  },
  {
   "cell_type": "code",
   "execution_count": 33,
   "outputs": [
    {
     "data": {
      "text/plain": "          COD_VAR                     LIB_VAR   \n0             COM              Commune ou ARM  \\\n1        TYP_IRIS                 Type d'IRIS   \n2      MODIF_IRIS      Modification de l'IRIS   \n3        LAB_IRIS             Label de l'IRIS   \n4         P19_POP  Population en 2019 (princ)   \n...           ...                         ...   \n84343         COM              Commune ou ARM   \n84344         COM              Commune ou ARM   \n84345         COM              Commune ou ARM   \n84346         COM              Commune ou ARM   \n84347         COM              Commune ou ARM   \n\n                                            LIB_VAR_LONG COD_MOD   \n0      Code du département suivi du numéro de commune...     NaN  \\\n1      Type d'IRIS : habitat (H), activité (A), diver...     NaN   \n2                         Type de modification de l'IRIS     NaN   \n3                             Label de qualité de l'IRIS     NaN   \n4                                             Population     NaN   \n...                                                  ...     ...   \n84343  Code du département suivi du numéro de commune...   97420   \n84344  Code du département suivi du numéro de commune...   97421   \n84345  Code du département suivi du numéro de commune...   97422   \n84346  Code du département suivi du numéro de commune...   97423   \n84347  Code du département suivi du numéro de commune...   97424   \n\n                 LIB_MOD TYPE_VAR  LONG_VAR  \n0                    NaN     CHAR         5  \n1                    NaN     CHAR         1  \n2                    NaN     CHAR         1  \n3                    NaN     CHAR         1  \n4                    NaN      NUM        16  \n...                  ...      ...       ...  \n84343     Sainte-Suzanne     CHAR         5  \n84344            Salazie     CHAR         5  \n84345          Le Tampon     CHAR         5  \n84346  Les Trois-Bassins     CHAR         5  \n84347             Cilaos     CHAR         5  \n\n[84348 rows x 7 columns]",
      "text/html": "<div>\n<style scoped>\n    .dataframe tbody tr th:only-of-type {\n        vertical-align: middle;\n    }\n\n    .dataframe tbody tr th {\n        vertical-align: top;\n    }\n\n    .dataframe thead th {\n        text-align: right;\n    }\n</style>\n<table border=\"1\" class=\"dataframe\">\n  <thead>\n    <tr style=\"text-align: right;\">\n      <th></th>\n      <th>COD_VAR</th>\n      <th>LIB_VAR</th>\n      <th>LIB_VAR_LONG</th>\n      <th>COD_MOD</th>\n      <th>LIB_MOD</th>\n      <th>TYPE_VAR</th>\n      <th>LONG_VAR</th>\n    </tr>\n  </thead>\n  <tbody>\n    <tr>\n      <th>0</th>\n      <td>COM</td>\n      <td>Commune ou ARM</td>\n      <td>Code du département suivi du numéro de commune...</td>\n      <td>NaN</td>\n      <td>NaN</td>\n      <td>CHAR</td>\n      <td>5</td>\n    </tr>\n    <tr>\n      <th>1</th>\n      <td>TYP_IRIS</td>\n      <td>Type d'IRIS</td>\n      <td>Type d'IRIS : habitat (H), activité (A), diver...</td>\n      <td>NaN</td>\n      <td>NaN</td>\n      <td>CHAR</td>\n      <td>1</td>\n    </tr>\n    <tr>\n      <th>2</th>\n      <td>MODIF_IRIS</td>\n      <td>Modification de l'IRIS</td>\n      <td>Type de modification de l'IRIS</td>\n      <td>NaN</td>\n      <td>NaN</td>\n      <td>CHAR</td>\n      <td>1</td>\n    </tr>\n    <tr>\n      <th>3</th>\n      <td>LAB_IRIS</td>\n      <td>Label de l'IRIS</td>\n      <td>Label de qualité de l'IRIS</td>\n      <td>NaN</td>\n      <td>NaN</td>\n      <td>CHAR</td>\n      <td>1</td>\n    </tr>\n    <tr>\n      <th>4</th>\n      <td>P19_POP</td>\n      <td>Population en 2019 (princ)</td>\n      <td>Population</td>\n      <td>NaN</td>\n      <td>NaN</td>\n      <td>NUM</td>\n      <td>16</td>\n    </tr>\n    <tr>\n      <th>...</th>\n      <td>...</td>\n      <td>...</td>\n      <td>...</td>\n      <td>...</td>\n      <td>...</td>\n      <td>...</td>\n      <td>...</td>\n    </tr>\n    <tr>\n      <th>84343</th>\n      <td>COM</td>\n      <td>Commune ou ARM</td>\n      <td>Code du département suivi du numéro de commune...</td>\n      <td>97420</td>\n      <td>Sainte-Suzanne</td>\n      <td>CHAR</td>\n      <td>5</td>\n    </tr>\n    <tr>\n      <th>84344</th>\n      <td>COM</td>\n      <td>Commune ou ARM</td>\n      <td>Code du département suivi du numéro de commune...</td>\n      <td>97421</td>\n      <td>Salazie</td>\n      <td>CHAR</td>\n      <td>5</td>\n    </tr>\n    <tr>\n      <th>84345</th>\n      <td>COM</td>\n      <td>Commune ou ARM</td>\n      <td>Code du département suivi du numéro de commune...</td>\n      <td>97422</td>\n      <td>Le Tampon</td>\n      <td>CHAR</td>\n      <td>5</td>\n    </tr>\n    <tr>\n      <th>84346</th>\n      <td>COM</td>\n      <td>Commune ou ARM</td>\n      <td>Code du département suivi du numéro de commune...</td>\n      <td>97423</td>\n      <td>Les Trois-Bassins</td>\n      <td>CHAR</td>\n      <td>5</td>\n    </tr>\n    <tr>\n      <th>84347</th>\n      <td>COM</td>\n      <td>Commune ou ARM</td>\n      <td>Code du département suivi du numéro de commune...</td>\n      <td>97424</td>\n      <td>Cilaos</td>\n      <td>CHAR</td>\n      <td>5</td>\n    </tr>\n  </tbody>\n</table>\n<p>84348 rows × 7 columns</p>\n</div>"
     },
     "execution_count": 33,
     "metadata": {},
     "output_type": "execute_result"
    }
   ],
   "source": [
    "population_data.meta_data"
   ],
   "metadata": {
    "collapsed": false,
    "ExecuteTime": {
     "end_time": "2023-05-29T08:58:54.454772Z",
     "start_time": "2023-05-29T08:58:54.414137Z"
    }
   }
  },
  {
   "cell_type": "code",
   "execution_count": null,
   "outputs": [],
   "source": [],
   "metadata": {
    "collapsed": false
   }
  }
 ],
 "metadata": {
  "kernelspec": {
   "display_name": "Python 3",
   "language": "python",
   "name": "python3"
  },
  "language_info": {
   "codemirror_mode": {
    "name": "ipython",
    "version": 2
   },
   "file_extension": ".py",
   "mimetype": "text/x-python",
   "name": "python",
   "nbconvert_exporter": "python",
   "pygments_lexer": "ipython2",
   "version": "2.7.6"
  }
 },
 "nbformat": 4,
 "nbformat_minor": 0
}
