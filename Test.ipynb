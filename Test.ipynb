{
 "cells": [
  {
   "cell_type": "code",
   "execution_count": 3,
   "metadata": {
    "collapsed": true,
    "ExecuteTime": {
     "end_time": "2023-05-29T07:34:43.581003Z",
     "start_time": "2023-05-29T07:34:39.680655Z"
    }
   },
   "outputs": [],
   "source": [
    "import pandas as pd"
   ]
  },
  {
   "cell_type": "code",
   "execution_count": 4,
   "outputs": [],
   "source": [
    "path = '/Users/anmusso/Downloads/bpe21_ensemble_csv/bpe21_ensemble.csv'"
   ],
   "metadata": {
    "collapsed": false,
    "ExecuteTime": {
     "end_time": "2023-05-29T07:34:43.589417Z",
     "start_time": "2023-05-29T07:34:43.581471Z"
    }
   }
  },
  {
   "cell_type": "code",
   "execution_count": 5,
   "outputs": [],
   "source": [
    "df = pd.read_csv(path, nrows=1000, sep=';')"
   ],
   "metadata": {
    "collapsed": false,
    "ExecuteTime": {
     "end_time": "2023-05-29T07:34:43.602363Z",
     "start_time": "2023-05-29T07:34:43.585845Z"
    }
   }
  },
  {
   "cell_type": "code",
   "execution_count": 6,
   "outputs": [
    {
     "data": {
      "text/plain": "  AAV2020    AN  BV2012  DEP  DEPCOM DOM       EPCI     DCIRIS  REG SDOM   \n0     524  2021    1093    1    1001   A  200069193  010010000   84   A1  \\\n1     524  2021    1093    1    1001   A  200069193  010010000   84   A4   \n2     524  2021    1093    1    1001   A  200069193  010010000   84   A4   \n3     524  2021    1093    1    1001   A  200069193  010010000   84   A4   \n4     524  2021    1093    1    1001   A  200069193  010010000   84   A4   \n5     524  2021    1093    1    1001   A  200069193  010010000   84   A5   \n6     524  2021    1093    1    1001   A  200069193  010010000   84   A5   \n7     524  2021    1093    1    1001   A  200069193  010010000   84   A5   \n8     524  2021    1093    1    1001   B  200069193  010010000   84   B2   \n9     524  2021    1093    1    1001   C  200069193  010010000   84   C1   \n\n  TYPEQU UU2020  NB_EQUIP  \n0   A129    CSZ         1  \n1   A401    CSZ         2  \n2   A402    CSZ         1  \n3   A404    CSZ         2  \n4   A405    CSZ         2  \n5   A504    CSZ         1  \n6   A505    CSZ         1  \n7   A507    CSZ         2  \n8   B203    CSZ         1  \n9   C104    CSZ         1  ",
      "text/html": "<div>\n<style scoped>\n    .dataframe tbody tr th:only-of-type {\n        vertical-align: middle;\n    }\n\n    .dataframe tbody tr th {\n        vertical-align: top;\n    }\n\n    .dataframe thead th {\n        text-align: right;\n    }\n</style>\n<table border=\"1\" class=\"dataframe\">\n  <thead>\n    <tr style=\"text-align: right;\">\n      <th></th>\n      <th>AAV2020</th>\n      <th>AN</th>\n      <th>BV2012</th>\n      <th>DEP</th>\n      <th>DEPCOM</th>\n      <th>DOM</th>\n      <th>EPCI</th>\n      <th>DCIRIS</th>\n      <th>REG</th>\n      <th>SDOM</th>\n      <th>TYPEQU</th>\n      <th>UU2020</th>\n      <th>NB_EQUIP</th>\n    </tr>\n  </thead>\n  <tbody>\n    <tr>\n      <th>0</th>\n      <td>524</td>\n      <td>2021</td>\n      <td>1093</td>\n      <td>1</td>\n      <td>1001</td>\n      <td>A</td>\n      <td>200069193</td>\n      <td>010010000</td>\n      <td>84</td>\n      <td>A1</td>\n      <td>A129</td>\n      <td>CSZ</td>\n      <td>1</td>\n    </tr>\n    <tr>\n      <th>1</th>\n      <td>524</td>\n      <td>2021</td>\n      <td>1093</td>\n      <td>1</td>\n      <td>1001</td>\n      <td>A</td>\n      <td>200069193</td>\n      <td>010010000</td>\n      <td>84</td>\n      <td>A4</td>\n      <td>A401</td>\n      <td>CSZ</td>\n      <td>2</td>\n    </tr>\n    <tr>\n      <th>2</th>\n      <td>524</td>\n      <td>2021</td>\n      <td>1093</td>\n      <td>1</td>\n      <td>1001</td>\n      <td>A</td>\n      <td>200069193</td>\n      <td>010010000</td>\n      <td>84</td>\n      <td>A4</td>\n      <td>A402</td>\n      <td>CSZ</td>\n      <td>1</td>\n    </tr>\n    <tr>\n      <th>3</th>\n      <td>524</td>\n      <td>2021</td>\n      <td>1093</td>\n      <td>1</td>\n      <td>1001</td>\n      <td>A</td>\n      <td>200069193</td>\n      <td>010010000</td>\n      <td>84</td>\n      <td>A4</td>\n      <td>A404</td>\n      <td>CSZ</td>\n      <td>2</td>\n    </tr>\n    <tr>\n      <th>4</th>\n      <td>524</td>\n      <td>2021</td>\n      <td>1093</td>\n      <td>1</td>\n      <td>1001</td>\n      <td>A</td>\n      <td>200069193</td>\n      <td>010010000</td>\n      <td>84</td>\n      <td>A4</td>\n      <td>A405</td>\n      <td>CSZ</td>\n      <td>2</td>\n    </tr>\n    <tr>\n      <th>5</th>\n      <td>524</td>\n      <td>2021</td>\n      <td>1093</td>\n      <td>1</td>\n      <td>1001</td>\n      <td>A</td>\n      <td>200069193</td>\n      <td>010010000</td>\n      <td>84</td>\n      <td>A5</td>\n      <td>A504</td>\n      <td>CSZ</td>\n      <td>1</td>\n    </tr>\n    <tr>\n      <th>6</th>\n      <td>524</td>\n      <td>2021</td>\n      <td>1093</td>\n      <td>1</td>\n      <td>1001</td>\n      <td>A</td>\n      <td>200069193</td>\n      <td>010010000</td>\n      <td>84</td>\n      <td>A5</td>\n      <td>A505</td>\n      <td>CSZ</td>\n      <td>1</td>\n    </tr>\n    <tr>\n      <th>7</th>\n      <td>524</td>\n      <td>2021</td>\n      <td>1093</td>\n      <td>1</td>\n      <td>1001</td>\n      <td>A</td>\n      <td>200069193</td>\n      <td>010010000</td>\n      <td>84</td>\n      <td>A5</td>\n      <td>A507</td>\n      <td>CSZ</td>\n      <td>2</td>\n    </tr>\n    <tr>\n      <th>8</th>\n      <td>524</td>\n      <td>2021</td>\n      <td>1093</td>\n      <td>1</td>\n      <td>1001</td>\n      <td>B</td>\n      <td>200069193</td>\n      <td>010010000</td>\n      <td>84</td>\n      <td>B2</td>\n      <td>B203</td>\n      <td>CSZ</td>\n      <td>1</td>\n    </tr>\n    <tr>\n      <th>9</th>\n      <td>524</td>\n      <td>2021</td>\n      <td>1093</td>\n      <td>1</td>\n      <td>1001</td>\n      <td>C</td>\n      <td>200069193</td>\n      <td>010010000</td>\n      <td>84</td>\n      <td>C1</td>\n      <td>C104</td>\n      <td>CSZ</td>\n      <td>1</td>\n    </tr>\n  </tbody>\n</table>\n</div>"
     },
     "execution_count": 6,
     "metadata": {},
     "output_type": "execute_result"
    }
   ],
   "source": [
    "df.head(10)"
   ],
   "metadata": {
    "collapsed": false,
    "ExecuteTime": {
     "end_time": "2023-05-29T07:34:43.626871Z",
     "start_time": "2023-05-29T07:34:43.607528Z"
    }
   }
  },
  {
   "cell_type": "code",
   "execution_count": null,
   "outputs": [],
   "source": [],
   "metadata": {
    "collapsed": false
   }
  }
 ],
 "metadata": {
  "kernelspec": {
   "display_name": "Python 3",
   "language": "python",
   "name": "python3"
  },
  "language_info": {
   "codemirror_mode": {
    "name": "ipython",
    "version": 2
   },
   "file_extension": ".py",
   "mimetype": "text/x-python",
   "name": "python",
   "nbconvert_exporter": "python",
   "pygments_lexer": "ipython2",
   "version": "2.7.6"
  }
 },
 "nbformat": 4,
 "nbformat_minor": 0
}
