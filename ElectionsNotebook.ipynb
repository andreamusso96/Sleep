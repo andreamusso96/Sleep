{
 "cells": [
  {
   "cell_type": "code",
   "execution_count": 328,
   "metadata": {
    "collapsed": true,
    "ExecuteTime": {
     "end_time": "2023-06-19T08:58:38.491172Z",
     "start_time": "2023-06-19T08:58:38.413942Z"
    }
   },
   "outputs": [],
   "source": [
    "from datetime import time\n",
    "import webbrowser\n",
    "import os\n",
    "\n",
    "import pandas as pd\n",
    "import numpy as np\n",
    "import plotly.graph_objects as go\n",
    "import plotly.express as px\n",
    "from jupyter_dash import JupyterDash\n",
    "from dash import dcc, html\n",
    "import dash_mantine_components as dmc\n",
    "import geopandas as gpd\n",
    "\n",
    "from DataInterface.TrafficDataInterface import CityTrafficData, TrafficType\n",
    "from DataInterface.GeoDataInterface import GeoData, GeoDataType\n",
    "from DataInterface.AdminDataInterface import AdminData\n",
    "from Utils import City\n",
    "from FeatureExtraction.SessionDistribution.SessionDistributionCalculator import SessionDistributionCalculator\n",
    "from FeatureExtraction.IrisFeatureCalculator import IrisFeatureCalculator\n",
    "from FeatureSelection.Regression import Regression"
   ]
  },
  {
   "cell_type": "code",
   "execution_count": 3,
   "outputs": [],
   "source": [
    "%load_ext autoreload\n",
    "%autoreload 2"
   ],
   "metadata": {
    "collapsed": false,
    "ExecuteTime": {
     "end_time": "2023-06-18T18:20:18.815305Z",
     "start_time": "2023-06-18T18:20:18.685682Z"
    }
   }
  },
  {
   "cell_type": "code",
   "execution_count": 56,
   "outputs": [
    {
     "name": "stderr",
     "output_type": "stream",
     "text": [
      "100%|██████████| 77/77 [01:12<00:00,  1.07it/s]\n"
     ]
    }
   ],
   "source": [
    "traffic_data = CityTrafficData(city=City.LYON, geo_data_type=GeoDataType.IRIS)"
   ],
   "metadata": {
    "collapsed": false,
    "ExecuteTime": {
     "end_time": "2023-06-18T18:58:47.507023Z",
     "start_time": "2023-06-18T18:56:40.878974Z"
    }
   }
  },
  {
   "cell_type": "code",
   "execution_count": 139,
   "outputs": [],
   "source": [
    "geo_data = GeoData()\n",
    "geo_data.load(GeoDataType.IRIS)\n",
    "geo_data.load(GeoDataType.POLLING_STATION)"
   ],
   "metadata": {
    "collapsed": false,
    "ExecuteTime": {
     "end_time": "2023-06-18T21:11:11.665958Z",
     "start_time": "2023-06-18T21:09:55.353664Z"
    }
   }
  },
  {
   "cell_type": "code",
   "execution_count": 108,
   "outputs": [],
   "source": [
    "election_data = ElectionData()"
   ],
   "metadata": {
    "collapsed": false,
    "ExecuteTime": {
     "end_time": "2023-06-18T21:02:18.150434Z",
     "start_time": "2023-06-18T21:02:05.268091Z"
    }
   }
  },
  {
   "cell_type": "code",
   "execution_count": 109,
   "outputs": [],
   "source": [
    "admin_data = AdminData()"
   ],
   "metadata": {
    "collapsed": false,
    "ExecuteTime": {
     "end_time": "2023-06-18T21:02:29.098261Z",
     "start_time": "2023-06-18T21:02:18.154362Z"
    }
   }
  },
  {
   "cell_type": "code",
   "execution_count": 57,
   "outputs": [],
   "source": [
    "service_consumption_by_location = traffic_data.get_service_consumption_by_location(start=time(18,30), end=time(23))"
   ],
   "metadata": {
    "collapsed": false,
    "ExecuteTime": {
     "end_time": "2023-06-18T19:02:20.587198Z",
     "start_time": "2023-06-18T18:58:47.493887Z"
    }
   }
  },
  {
   "cell_type": "code",
   "execution_count": 58,
   "outputs": [],
   "source": [
    "feature_calculator = ServiceConsumptionFeatureCalculator(service_consumption_by_location=service_consumption_by_location)"
   ],
   "metadata": {
    "collapsed": false,
    "ExecuteTime": {
     "end_time": "2023-06-18T19:02:21.838798Z",
     "start_time": "2023-06-18T19:02:20.535367Z"
    }
   }
  },
  {
   "cell_type": "code",
   "execution_count": 333,
   "outputs": [],
   "source": [
    "service_diversity = feature_calculator.get_consumption_diversity()"
   ],
   "metadata": {
    "collapsed": false,
    "ExecuteTime": {
     "end_time": "2023-06-19T08:59:53.501825Z",
     "start_time": "2023-06-19T08:59:53.418056Z"
    }
   }
  },
  {
   "cell_type": "code",
   "execution_count": 334,
   "outputs": [],
   "source": [
    "geo_data_iris = geo_data.get_geo_data(geometry=GeoDataType.IRIS, subset=service_diversity.index)"
   ],
   "metadata": {
    "collapsed": false,
    "ExecuteTime": {
     "end_time": "2023-06-19T08:59:53.697223Z",
     "start_time": "2023-06-19T08:59:53.609151Z"
    }
   }
  },
  {
   "cell_type": "code",
   "execution_count": 239,
   "outputs": [
    {
     "data": {
      "text/plain": "True"
     },
     "execution_count": 239,
     "metadata": {},
     "output_type": "execute_result"
    }
   ],
   "source": [
    "expectations_with_geo_data = gpd.GeoDataFrame(service_diversity.merge(geo_data_iris.set_index(GeoDataType.IRIS.value), left_index=True, right_index=True))[['geometry', 'entropy']]\n",
    "html_map = expectations_with_geo_data.explore(column='entropy', legend=True, tiles=\"CartoDB positron\", cmap='plasma')\n",
    "html_map.save('temp/diversity_map.html')\n",
    "webbrowser.open('file://' + os.path.realpath('temp/diversity_map.html'))"
   ],
   "metadata": {
    "collapsed": false,
    "ExecuteTime": {
     "end_time": "2023-06-18T21:35:57.142163Z",
     "start_time": "2023-06-18T21:35:54.366041Z"
    }
   }
  },
  {
   "cell_type": "code",
   "execution_count": 335,
   "outputs": [],
   "source": [
    "iris_subset = service_diversity.index"
   ],
   "metadata": {
    "collapsed": false,
    "ExecuteTime": {
     "end_time": "2023-06-19T08:59:59.543625Z",
     "start_time": "2023-06-19T08:59:59.466311Z"
    }
   }
  },
  {
   "cell_type": "code",
   "execution_count": 336,
   "outputs": [],
   "source": [
    "feature_constructor = FeatureConstructor(admin_data=admin_data, geo_data=geo_data)"
   ],
   "metadata": {
    "collapsed": false,
    "ExecuteTime": {
     "end_time": "2023-06-19T09:00:03.069656Z",
     "start_time": "2023-06-19T09:00:01.639419Z"
    }
   }
  },
  {
   "cell_type": "code",
   "execution_count": 337,
   "outputs": [],
   "source": [
    "iris_pop_density = feature_constructor.iris_density(iris=iris_subset, var_names=['P19_POP']).rename(columns={'P19_POP': 'POP_DEN'})"
   ],
   "metadata": {
    "collapsed": false,
    "ExecuteTime": {
     "end_time": "2023-06-19T09:00:05.950038Z",
     "start_time": "2023-06-19T09:00:05.316059Z"
    }
   }
  },
  {
   "cell_type": "code",
   "execution_count": 338,
   "outputs": [],
   "source": [
    "entropy = service_diversity['entropy'].to_frame()"
   ],
   "metadata": {
    "collapsed": false,
    "ExecuteTime": {
     "end_time": "2023-06-19T09:00:06.018397Z",
     "start_time": "2023-06-19T09:00:05.950888Z"
    }
   }
  },
  {
   "cell_type": "code",
   "execution_count": 339,
   "outputs": [
    {
     "data": {
      "text/plain": "((2735, 2), array(['POP_DEN', 'entropy'], dtype=object))"
     },
     "execution_count": 339,
     "metadata": {},
     "output_type": "execute_result"
    }
   ],
   "source": [
    "data = pd.merge(iris_pop_density, entropy, left_index=True, right_index=True, how='inner')\n",
    "data = np.log(data)\n",
    "data.dropna(inplace=True)\n",
    "data.shape, np.array(data.columns)"
   ],
   "metadata": {
    "collapsed": false,
    "ExecuteTime": {
     "end_time": "2023-06-19T09:00:06.741018Z",
     "start_time": "2023-06-19T09:00:06.658305Z"
    }
   }
  },
  {
   "cell_type": "code",
   "execution_count": 340,
   "outputs": [],
   "source": [
    "x_axis = 'POP_DEN'\n",
    "features = data[[c for c in data.columns if c not in ['entropy']]]\n",
    "labels = data['entropy'].to_frame()\n",
    "regression = Regression(features=features, labels=labels)\n",
    "regression.plot(x_axis=x_axis)"
   ],
   "metadata": {
    "collapsed": false,
    "ExecuteTime": {
     "end_time": "2023-06-19T09:00:10.059730Z",
     "start_time": "2023-06-19T09:00:09.582772Z"
    }
   }
  },
  {
   "cell_type": "code",
   "execution_count": 341,
   "outputs": [],
   "source": [
    "election_data_by_iris = election_data.get_election_data_table_iris_by_column(geo_data=geo_data, subset=traffic_data.data.coords[GeoDataType.IRIS.value].values, column='list_number', value='pct_votes_to_list_among_votes', aggregation_method='mean') / 100"
   ],
   "metadata": {
    "collapsed": false,
    "ExecuteTime": {
     "end_time": "2023-06-19T09:00:16.263055Z",
     "start_time": "2023-06-19T09:00:14.892761Z"
    }
   }
  },
  {
   "cell_type": "code",
   "execution_count": 342,
   "outputs": [],
   "source": [
    "election_feature_calculator = ElectionDataFeatureCalculator(election_result_by_location=election_data_by_iris)"
   ],
   "metadata": {
    "collapsed": false,
    "ExecuteTime": {
     "end_time": "2023-06-19T09:00:17.535585Z",
     "start_time": "2023-06-19T09:00:17.458442Z"
    }
   }
  },
  {
   "cell_type": "code",
   "execution_count": 343,
   "outputs": [],
   "source": [
    "election_diversity = election_feature_calculator.get_diversity()"
   ],
   "metadata": {
    "collapsed": false,
    "ExecuteTime": {
     "end_time": "2023-06-19T09:00:18.395846Z",
     "start_time": "2023-06-19T09:00:18.211896Z"
    }
   }
  },
  {
   "cell_type": "code",
   "execution_count": 344,
   "outputs": [],
   "source": [
    "geo_data_iris = geo_data.get_geo_data(geometry=GeoDataType.IRIS, subset=election_data_by_iris.index).set_index(GeoDataType.IRIS.value)"
   ],
   "metadata": {
    "collapsed": false,
    "ExecuteTime": {
     "end_time": "2023-06-19T09:00:19.189920Z",
     "start_time": "2023-06-19T09:00:19.095102Z"
    }
   }
  },
  {
   "cell_type": "code",
   "execution_count": 345,
   "outputs": [],
   "source": [
    "vote_entropy_with_iris_geo_data = geo_data_iris.merge(election_diversity['entropy'].to_frame(), right_index=True, left_index=True, how='inner')"
   ],
   "metadata": {
    "collapsed": false,
    "ExecuteTime": {
     "end_time": "2023-06-19T09:00:21.798913Z",
     "start_time": "2023-06-19T09:00:21.711023Z"
    }
   }
  },
  {
   "cell_type": "code",
   "execution_count": 346,
   "outputs": [
    {
     "data": {
      "text/plain": "True"
     },
     "execution_count": 346,
     "metadata": {},
     "output_type": "execute_result"
    }
   ],
   "source": [
    "html_map = vote_entropy_with_iris_geo_data.explore(column='entropy', legend=True, tiles=\"CartoDB positron\", cmap='plasma')\n",
    "html_map.save('temp/vote_entropy_map.html')\n",
    "webbrowser.open('file://' + os.path.realpath('temp/vote_entropy_map.html'))"
   ],
   "metadata": {
    "collapsed": false,
    "ExecuteTime": {
     "end_time": "2023-06-19T09:00:27.100763Z",
     "start_time": "2023-06-19T09:00:23.886460Z"
    }
   }
  },
  {
   "cell_type": "code",
   "execution_count": 323,
   "outputs": [],
   "source": [
    "entropy_service = service_diversity['entropy'].to_frame(name='entropy_service')"
   ],
   "metadata": {
    "collapsed": false,
    "ExecuteTime": {
     "end_time": "2023-06-19T08:52:59.463584Z",
     "start_time": "2023-06-19T08:52:59.376727Z"
    }
   }
  },
  {
   "cell_type": "code",
   "execution_count": 347,
   "outputs": [],
   "source": [
    "entropy_vote = vote_entropy_with_iris_geo_data['entropy'].to_frame(name='entropy_vote')"
   ],
   "metadata": {
    "collapsed": false,
    "ExecuteTime": {
     "end_time": "2023-06-19T09:00:35.950529Z",
     "start_time": "2023-06-19T09:00:35.858475Z"
    }
   }
  },
  {
   "cell_type": "code",
   "execution_count": 348,
   "outputs": [],
   "source": [
    "data = pd.merge(entropy_service, entropy_vote, left_index=True, right_index=True, how='inner')"
   ],
   "metadata": {
    "collapsed": false,
    "ExecuteTime": {
     "end_time": "2023-06-19T09:00:37.746745Z",
     "start_time": "2023-06-19T09:00:37.666320Z"
    }
   }
  },
  {
   "cell_type": "code",
   "execution_count": 349,
   "outputs": [
    {
     "data": {
      "text/plain": "(2930, 2)"
     },
     "execution_count": 349,
     "metadata": {},
     "output_type": "execute_result"
    }
   ],
   "source": [
    "data.dropna(inplace=True)\n",
    "data.shape"
   ],
   "metadata": {
    "collapsed": false,
    "ExecuteTime": {
     "end_time": "2023-06-19T09:00:38.325507Z",
     "start_time": "2023-06-19T09:00:38.245739Z"
    }
   }
  },
  {
   "cell_type": "code",
   "execution_count": 350,
   "outputs": [],
   "source": [
    "x_axis = 'entropy_service'\n",
    "features = data['entropy_service'].to_frame()\n",
    "labels = data['entropy_vote'].to_frame()\n",
    "regression = Regression(features=features, labels=labels)\n",
    "regression.plot(x_axis=x_axis)"
   ],
   "metadata": {
    "collapsed": false,
    "ExecuteTime": {
     "end_time": "2023-06-19T09:00:39.957867Z",
     "start_time": "2023-06-19T09:00:39.522778Z"
    }
   }
  },
  {
   "cell_type": "code",
   "execution_count": null,
   "outputs": [],
   "source": [],
   "metadata": {
    "collapsed": false
   }
  }
 ],
 "metadata": {
  "kernelspec": {
   "display_name": "Python 3",
   "language": "python",
   "name": "python3"
  },
  "language_info": {
   "codemirror_mode": {
    "name": "ipython",
    "version": 2
   },
   "file_extension": ".py",
   "mimetype": "text/x-python",
   "name": "python",
   "nbconvert_exporter": "python",
   "pygments_lexer": "ipython2",
   "version": "2.7.6"
  }
 },
 "nbformat": 4,
 "nbformat_minor": 0
}
