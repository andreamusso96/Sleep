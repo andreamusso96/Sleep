{
 "cells": [
  {
   "cell_type": "code",
   "execution_count": 10,
   "metadata": {
    "collapsed": true,
    "ExecuteTime": {
     "end_time": "2023-06-16T16:53:33.998544Z",
     "start_time": "2023-06-16T16:53:33.928093Z"
    }
   },
   "outputs": [],
   "source": [
    "from datetime import time\n",
    "\n",
    "import pandas as pd\n",
    "import numpy as np\n",
    "import plotly.graph_objects as go\n",
    "import plotly.express as px\n",
    "from jupyter_dash import JupyterDash\n",
    "from dash import dcc, html\n",
    "import dash_mantine_components as dmc\n",
    "\n",
    "from Utils import City, AggregationLevel, TrafficType\n",
    "from DataPreprocessing.WeatherData.Data import WeatherData\n",
    "from DataPreprocessing.TrafficData.Data import CityTrafficData\n",
    "from DataPreprocessing.GeoData.GeoData import IrisGeoData\n",
    "from ExpectedBedTime.ExpectedBedTimeAPI import ExpectedBedTimeAPI\n",
    "from DataPreprocessing.AdminData.AdminDataComplete import AdminData\n",
    "from ExpectedBedTime.Plots import StartBedTimeRobustness\n",
    "from FeatureSelection.BasicFeatureImportanceCalculator import BasicFeatureImportanceCalculator\n",
    "from FeatureSelection.RegressionConstructor import Regression, FeatureConstructor\n",
    "from DataPreprocessing.GeoData.GeoDataComplete import GeoData, GeoDataType\n",
    "from TrafficFeaturesElection.TrafficCovariates import TrafficFeaturesCalculator"
   ]
  },
  {
   "cell_type": "code",
   "execution_count": 2,
   "outputs": [],
   "source": [
    "%load_ext autoreload\n",
    "%autoreload 2"
   ],
   "metadata": {
    "collapsed": false,
    "ExecuteTime": {
     "end_time": "2023-06-16T16:30:21.000255Z",
     "start_time": "2023-06-16T16:30:20.924596Z"
    }
   }
  },
  {
   "cell_type": "code",
   "execution_count": 3,
   "outputs": [
    {
     "name": "stderr",
     "output_type": "stream",
     "text": [
      "100%|██████████| 77/77 [00:22<00:00,  3.48it/s]\n"
     ]
    }
   ],
   "source": [
    "traffic_data = CityTrafficData(city=City.LYON, geo_data_type=GeoDataType.IRIS)"
   ],
   "metadata": {
    "collapsed": false,
    "ExecuteTime": {
     "end_time": "2023-06-16T16:30:47.080945Z",
     "start_time": "2023-06-16T16:30:21.000702Z"
    }
   }
  },
  {
   "cell_type": "code",
   "execution_count": 8,
   "outputs": [],
   "source": [
    "df = traffic_data.get_service_consumption_by_location(start=time(18), end=time(23))"
   ],
   "metadata": {
    "collapsed": false,
    "ExecuteTime": {
     "end_time": "2023-06-16T16:48:56.204743Z",
     "start_time": "2023-06-16T16:48:38.197853Z"
    }
   }
  },
  {
   "cell_type": "code",
   "execution_count": 11,
   "outputs": [],
   "source": [
    "feature_calculator = TrafficFeaturesCalculator(city_traffic_data=traffic_data)"
   ],
   "metadata": {
    "collapsed": false,
    "ExecuteTime": {
     "end_time": "2023-06-16T16:54:24.890851Z",
     "start_time": "2023-06-16T16:54:06.748231Z"
    }
   }
  },
  {
   "cell_type": "code",
   "execution_count": 21,
   "outputs": [
    {
     "data": {
      "text/plain": "          simpson     entropy\ncount  556.000000  556.000000\nmean     0.863324    2.473358\nstd      0.008302    0.040122\nmin      0.835540    2.348533\n25%      0.858501    2.448297\n50%      0.863787    2.473204\n75%      0.868898    2.497818\nmax      0.887875    2.595753",
      "text/html": "<div>\n<style scoped>\n    .dataframe tbody tr th:only-of-type {\n        vertical-align: middle;\n    }\n\n    .dataframe tbody tr th {\n        vertical-align: top;\n    }\n\n    .dataframe thead th {\n        text-align: right;\n    }\n</style>\n<table border=\"1\" class=\"dataframe\">\n  <thead>\n    <tr style=\"text-align: right;\">\n      <th></th>\n      <th>simpson</th>\n      <th>entropy</th>\n    </tr>\n  </thead>\n  <tbody>\n    <tr>\n      <th>count</th>\n      <td>556.000000</td>\n      <td>556.000000</td>\n    </tr>\n    <tr>\n      <th>mean</th>\n      <td>0.863324</td>\n      <td>2.473358</td>\n    </tr>\n    <tr>\n      <th>std</th>\n      <td>0.008302</td>\n      <td>0.040122</td>\n    </tr>\n    <tr>\n      <th>min</th>\n      <td>0.835540</td>\n      <td>2.348533</td>\n    </tr>\n    <tr>\n      <th>25%</th>\n      <td>0.858501</td>\n      <td>2.448297</td>\n    </tr>\n    <tr>\n      <th>50%</th>\n      <td>0.863787</td>\n      <td>2.473204</td>\n    </tr>\n    <tr>\n      <th>75%</th>\n      <td>0.868898</td>\n      <td>2.497818</td>\n    </tr>\n    <tr>\n      <th>max</th>\n      <td>0.887875</td>\n      <td>2.595753</td>\n    </tr>\n  </tbody>\n</table>\n</div>"
     },
     "execution_count": 21,
     "metadata": {},
     "output_type": "execute_result"
    }
   ],
   "source": [
    "feature_calculator.get_consumption_diversity().describe()"
   ],
   "metadata": {
    "collapsed": false,
    "ExecuteTime": {
     "end_time": "2023-06-16T17:04:27.567222Z",
     "start_time": "2023-06-16T17:04:27.162947Z"
    }
   }
  },
  {
   "cell_type": "code",
   "execution_count": null,
   "outputs": [],
   "source": [],
   "metadata": {
    "collapsed": false
   }
  }
 ],
 "metadata": {
  "kernelspec": {
   "display_name": "Python 3",
   "language": "python",
   "name": "python3"
  },
  "language_info": {
   "codemirror_mode": {
    "name": "ipython",
    "version": 2
   },
   "file_extension": ".py",
   "mimetype": "text/x-python",
   "name": "python",
   "nbconvert_exporter": "python",
   "pygments_lexer": "ipython2",
   "version": "2.7.6"
  }
 },
 "nbformat": 4,
 "nbformat_minor": 0
}
