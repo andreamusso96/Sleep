{
 "cells": [
  {
   "cell_type": "code",
   "execution_count": 104,
   "metadata": {
    "collapsed": true,
    "ExecuteTime": {
     "end_time": "2023-07-06T18:22:47.924179Z",
     "start_time": "2023-07-06T18:22:47.851375Z"
    }
   },
   "outputs": [],
   "source": [
    "from datetime import time, date\n",
    "\n",
    "import pandas as pd\n",
    "import numpy as np\n",
    "\n",
    "from DataInterface.TrafficDataInterface import CityTrafficData, TrafficType, Service, ServiceType\n",
    "from DataInterface.GeoDataInterface import GeoData, GeoDataType\n",
    "from DataInterface.AdminDataInterface import AdminData\n",
    "from DataInterface.ElectionDataInterface import ElectionData\n",
    "from DataInterface.WeatherDataInterface import WeatherData\n",
    "from Utils import City\n",
    "from FeatureExtraction.SessionDistribution.SessionDistributionCalculator import SessionDistributionCalculator\n",
    "from FeatureExtraction.SessionDistribution.SessionDistributionAPI import SessionDistributionAPI\n",
    "from FeatureExtraction.ServiceConsumption.ServiceConsumptionAPI import ServiceConsumptionAPI\n",
    "from FeatureExtraction.IrisFeatureCalculator import IrisFeatureCalculator\n",
    "from FeatureExtraction.ServiceConsumptionFeatureCalculator import ServiceConsumptionFeatureCalculator, ServiceConsumptionFeatureName\n",
    "from FeatureExtraction.ElectionFeatureCalculator import ElectionFeatureCalculator, ElectionFeatureName, Party\n",
    "from FeatureSelection.Regression import Regression\n",
    "from FeatureExtraction.Feature import Feature"
   ]
  },
  {
   "cell_type": "code",
   "execution_count": 106,
   "outputs": [
    {
     "data": {
      "text/plain": "True"
     },
     "execution_count": 106,
     "metadata": {},
     "output_type": "execute_result"
    }
   ],
   "source": [
    "ElectionFeatureName.POLARIZATION == ElectionFeatureName.POLARIZATION"
   ],
   "metadata": {
    "collapsed": false,
    "ExecuteTime": {
     "end_time": "2023-07-06T18:23:03.823611Z",
     "start_time": "2023-07-06T18:23:03.748448Z"
    }
   }
  },
  {
   "cell_type": "code",
   "execution_count": 101,
   "outputs": [],
   "source": [
    "%autoreload"
   ],
   "metadata": {
    "collapsed": false,
    "ExecuteTime": {
     "end_time": "2023-07-06T18:21:47.352402Z",
     "start_time": "2023-07-06T18:21:47.219032Z"
    }
   }
  },
  {
   "cell_type": "code",
   "execution_count": 97,
   "outputs": [
    {
     "name": "stdout",
     "output_type": "stream",
     "text": [
      "The autoreload extension is already loaded. To reload it, use:\n",
      "  %reload_ext autoreload\n"
     ]
    }
   ],
   "source": [
    "%load_ext autoreload\n",
    "%autoreload 2"
   ],
   "metadata": {
    "collapsed": false,
    "ExecuteTime": {
     "end_time": "2023-07-06T18:20:25.778975Z",
     "start_time": "2023-07-06T18:20:25.712701Z"
    }
   }
  },
  {
   "cell_type": "markdown",
   "source": [
    "# Sleep"
   ],
   "metadata": {
    "collapsed": false
   }
  },
  {
   "cell_type": "code",
   "execution_count": 3,
   "outputs": [],
   "source": [
    "geo_data = GeoData()\n",
    "geo_data.load(GeoDataType.IRIS)"
   ],
   "metadata": {
    "collapsed": false,
    "ExecuteTime": {
     "end_time": "2023-07-06T14:58:36.024642Z",
     "start_time": "2023-07-06T14:57:48.519023Z"
    }
   }
  },
  {
   "cell_type": "code",
   "execution_count": 4,
   "outputs": [],
   "source": [
    "admin_data = AdminData()"
   ],
   "metadata": {
    "collapsed": false,
    "ExecuteTime": {
     "end_time": "2023-07-06T14:58:44.662865Z",
     "start_time": "2023-07-06T14:58:36.025495Z"
    }
   }
  },
  {
   "cell_type": "code",
   "execution_count": 5,
   "outputs": [
    {
     "name": "stderr",
     "output_type": "stream",
     "text": [
      "100%|██████████| 77/77 [00:21<00:00,  3.54it/s]\n",
      "100%|██████████| 77/77 [00:15<00:00,  5.08it/s]\n",
      "100%|██████████| 77/77 [00:15<00:00,  5.01it/s]\n",
      "100%|██████████| 77/77 [00:16<00:00,  4.59it/s]\n",
      "100%|██████████| 77/77 [00:23<00:00,  3.23it/s]\n",
      "100%|██████████| 77/77 [00:22<00:00,  3.48it/s]\n",
      "100%|██████████| 77/77 [00:14<00:00,  5.47it/s]\n",
      "100%|██████████| 77/77 [00:18<00:00,  4.09it/s]\n",
      "100%|██████████| 77/77 [00:14<00:00,  5.31it/s]\n",
      "100%|██████████| 77/77 [00:16<00:00,  4.71it/s]\n",
      "100%|██████████| 77/77 [00:15<00:00,  5.01it/s]\n",
      "100%|██████████| 77/77 [00:17<00:00,  4.31it/s]\n",
      "100%|██████████| 77/77 [00:17<00:00,  4.40it/s]\n",
      "100%|██████████| 77/77 [00:17<00:00,  4.40it/s]\n",
      "100%|██████████| 77/77 [01:13<00:00,  1.04it/s]\n",
      "100%|██████████| 77/77 [00:19<00:00,  3.98it/s]\n",
      "100%|██████████| 77/77 [00:18<00:00,  4.13it/s]\n",
      "100%|██████████| 77/77 [00:16<00:00,  4.61it/s]\n",
      "100%|██████████| 77/77 [00:18<00:00,  4.27it/s]\n",
      "100%|██████████| 77/77 [00:15<00:00,  4.86it/s]\n"
     ]
    }
   ],
   "source": [
    "session_distribution = SessionDistributionAPI.compute_session_distribution(traffic_data=(CityTrafficData(city=city, geo_data_type=GeoDataType.IRIS, traffic_type=TrafficType.USERS) for city in City))"
   ],
   "metadata": {
    "collapsed": false,
    "ExecuteTime": {
     "end_time": "2023-07-06T15:10:14.714075Z",
     "start_time": "2023-07-06T14:59:48.420346Z"
    }
   }
  },
  {
   "cell_type": "code",
   "execution_count": 6,
   "outputs": [],
   "source": [
    "session_expectation = session_distribution.expectation_by_location()"
   ],
   "metadata": {
    "collapsed": false,
    "ExecuteTime": {
     "end_time": "2023-07-06T15:16:01.530417Z",
     "start_time": "2023-07-06T15:16:01.033060Z"
    }
   }
  },
  {
   "cell_type": "code",
   "execution_count": 7,
   "outputs": [],
   "source": [
    "from Figures.SleepAbstract import SleepAbstractRegressionData, SleepAbstractFigure"
   ],
   "metadata": {
    "collapsed": false,
    "ExecuteTime": {
     "end_time": "2023-07-06T15:16:03.569224Z",
     "start_time": "2023-07-06T15:16:03.489391Z"
    }
   }
  },
  {
   "cell_type": "code",
   "execution_count": 121,
   "outputs": [
    {
     "data": {
      "text/plain": "           Insomnia Index   Density  Amenity Index  Transportation Index   \niris                                                                       \n060270101        2.081480 -4.703343      -7.206167            -10.543851  \\\n060270102        2.105574 -4.399481      -7.943355            -10.147960   \n060270103        2.095655 -5.353435      -8.562907            -10.885295   \n060270104        2.087361 -6.116706      -9.097366            -12.263444   \n060270105        2.086613 -6.000444     -10.180861            -12.508139   \n\n           P19_POP1529  P19_POP3044  P19_POP4559  P19_POP6074  P19_POP75P   \niris                                                                        \n060270101    -6.540924    -6.360845    -6.449171    -6.592485   -6.603542  \\\n060270102    -6.051748    -5.875767    -6.034697    -6.748738   -7.095525   \n060270103    -7.183868    -6.997393    -7.031286    -7.011211   -7.489443   \n060270104    -8.021640    -7.703593    -7.836218    -8.008035   -8.151370   \n060270105    -7.935939    -7.571138    -7.798253    -7.651596   -7.985955   \n\n           DEC_MED19  P19_ACT_DIPLMIN  P19_ACT_SUP2  P19_ACT_SUP5  \niris                                                               \n060270101   9.845329        -7.516768     -7.588935     -7.580904  \n060270102   9.785830        -7.074670     -7.056031     -7.288983  \n060270103  10.028357        -8.371961     -8.469924     -8.183569  \n060270104  10.188666        -9.335358     -8.720120     -8.539824  \n060270105  10.142898        -9.060492     -8.426889     -8.375491  ",
      "text/html": "<div>\n<style scoped>\n    .dataframe tbody tr th:only-of-type {\n        vertical-align: middle;\n    }\n\n    .dataframe tbody tr th {\n        vertical-align: top;\n    }\n\n    .dataframe thead th {\n        text-align: right;\n    }\n</style>\n<table border=\"1\" class=\"dataframe\">\n  <thead>\n    <tr style=\"text-align: right;\">\n      <th></th>\n      <th>Insomnia Index</th>\n      <th>Density</th>\n      <th>Amenity Index</th>\n      <th>Transportation Index</th>\n      <th>P19_POP1529</th>\n      <th>P19_POP3044</th>\n      <th>P19_POP4559</th>\n      <th>P19_POP6074</th>\n      <th>P19_POP75P</th>\n      <th>DEC_MED19</th>\n      <th>P19_ACT_DIPLMIN</th>\n      <th>P19_ACT_SUP2</th>\n      <th>P19_ACT_SUP5</th>\n    </tr>\n    <tr>\n      <th>iris</th>\n      <th></th>\n      <th></th>\n      <th></th>\n      <th></th>\n      <th></th>\n      <th></th>\n      <th></th>\n      <th></th>\n      <th></th>\n      <th></th>\n      <th></th>\n      <th></th>\n      <th></th>\n    </tr>\n  </thead>\n  <tbody>\n    <tr>\n      <th>060270101</th>\n      <td>2.081480</td>\n      <td>-4.703343</td>\n      <td>-7.206167</td>\n      <td>-10.543851</td>\n      <td>-6.540924</td>\n      <td>-6.360845</td>\n      <td>-6.449171</td>\n      <td>-6.592485</td>\n      <td>-6.603542</td>\n      <td>9.845329</td>\n      <td>-7.516768</td>\n      <td>-7.588935</td>\n      <td>-7.580904</td>\n    </tr>\n    <tr>\n      <th>060270102</th>\n      <td>2.105574</td>\n      <td>-4.399481</td>\n      <td>-7.943355</td>\n      <td>-10.147960</td>\n      <td>-6.051748</td>\n      <td>-5.875767</td>\n      <td>-6.034697</td>\n      <td>-6.748738</td>\n      <td>-7.095525</td>\n      <td>9.785830</td>\n      <td>-7.074670</td>\n      <td>-7.056031</td>\n      <td>-7.288983</td>\n    </tr>\n    <tr>\n      <th>060270103</th>\n      <td>2.095655</td>\n      <td>-5.353435</td>\n      <td>-8.562907</td>\n      <td>-10.885295</td>\n      <td>-7.183868</td>\n      <td>-6.997393</td>\n      <td>-7.031286</td>\n      <td>-7.011211</td>\n      <td>-7.489443</td>\n      <td>10.028357</td>\n      <td>-8.371961</td>\n      <td>-8.469924</td>\n      <td>-8.183569</td>\n    </tr>\n    <tr>\n      <th>060270104</th>\n      <td>2.087361</td>\n      <td>-6.116706</td>\n      <td>-9.097366</td>\n      <td>-12.263444</td>\n      <td>-8.021640</td>\n      <td>-7.703593</td>\n      <td>-7.836218</td>\n      <td>-8.008035</td>\n      <td>-8.151370</td>\n      <td>10.188666</td>\n      <td>-9.335358</td>\n      <td>-8.720120</td>\n      <td>-8.539824</td>\n    </tr>\n    <tr>\n      <th>060270105</th>\n      <td>2.086613</td>\n      <td>-6.000444</td>\n      <td>-10.180861</td>\n      <td>-12.508139</td>\n      <td>-7.935939</td>\n      <td>-7.571138</td>\n      <td>-7.798253</td>\n      <td>-7.651596</td>\n      <td>-7.985955</td>\n      <td>10.142898</td>\n      <td>-9.060492</td>\n      <td>-8.426889</td>\n      <td>-8.375491</td>\n    </tr>\n  </tbody>\n</table>\n</div>"
     },
     "execution_count": 121,
     "metadata": {},
     "output_type": "execute_result"
    }
   ],
   "source": [
    "reg_data_sleep = SleepAbstractRegressionData(geo_data=geo_data, session_expectation=session_expectation, admin_data=admin_data).get_regression_data()\n",
    "reg_data_sleep.head()"
   ],
   "metadata": {
    "collapsed": false,
    "ExecuteTime": {
     "end_time": "2023-07-06T18:32:37.773257Z",
     "start_time": "2023-07-06T18:32:26.852771Z"
    }
   }
  },
  {
   "cell_type": "code",
   "execution_count": 137,
   "outputs": [],
   "source": [
    "figure_sleep = SleepAbstractFigure(data=reg_data_sleep)\n",
    "figure_sleep.show(save=True, scatter=False)"
   ],
   "metadata": {
    "collapsed": false,
    "ExecuteTime": {
     "end_time": "2023-07-06T18:45:01.487876Z",
     "start_time": "2023-07-06T18:44:59.313837Z"
    }
   }
  },
  {
   "cell_type": "code",
   "execution_count": null,
   "outputs": [],
   "source": [],
   "metadata": {
    "collapsed": false
   }
  },
  {
   "cell_type": "code",
   "execution_count": null,
   "outputs": [],
   "source": [],
   "metadata": {
    "collapsed": false
   }
  },
  {
   "cell_type": "markdown",
   "source": [
    "# Elections"
   ],
   "metadata": {
    "collapsed": false
   }
  },
  {
   "cell_type": "code",
   "execution_count": 99,
   "outputs": [],
   "source": [
    "from Figures.ElectionsAbstract import ElectionAbstractFigure, ElectionAbstractRegressionData"
   ],
   "metadata": {
    "collapsed": false,
    "ExecuteTime": {
     "end_time": "2023-07-06T18:20:31.630377Z",
     "start_time": "2023-07-06T18:20:31.561406Z"
    }
   }
  },
  {
   "cell_type": "code",
   "execution_count": 50,
   "outputs": [],
   "source": [
    "election_data = ElectionData()"
   ],
   "metadata": {
    "collapsed": false,
    "ExecuteTime": {
     "end_time": "2023-07-06T16:39:59.986041Z",
     "start_time": "2023-07-06T16:39:50.024853Z"
    }
   }
  },
  {
   "cell_type": "code",
   "execution_count": 51,
   "outputs": [
    {
     "name": "stderr",
     "output_type": "stream",
     "text": [
      "100%|██████████| 77/77 [00:19<00:00,  3.88it/s]\n",
      "100%|██████████| 77/77 [00:13<00:00,  5.68it/s]\n",
      "100%|██████████| 77/77 [00:14<00:00,  5.41it/s]\n",
      "100%|██████████| 77/77 [00:15<00:00,  4.94it/s]\n",
      "100%|██████████| 77/77 [00:21<00:00,  3.63it/s]\n",
      "100%|██████████| 77/77 [00:20<00:00,  3.75it/s]\n",
      "100%|██████████| 77/77 [00:13<00:00,  5.81it/s]\n",
      "100%|██████████| 77/77 [00:17<00:00,  4.33it/s]\n",
      "100%|██████████| 77/77 [00:13<00:00,  5.63it/s]\n",
      "100%|██████████| 77/77 [00:14<00:00,  5.25it/s]\n",
      "100%|██████████| 77/77 [00:13<00:00,  5.64it/s]\n",
      "100%|██████████| 77/77 [00:15<00:00,  4.92it/s]\n",
      "100%|██████████| 77/77 [00:14<00:00,  5.20it/s]\n",
      "100%|██████████| 77/77 [00:13<00:00,  5.63it/s]\n",
      "100%|██████████| 77/77 [01:04<00:00,  1.20it/s]\n",
      "100%|██████████| 77/77 [00:18<00:00,  4.20it/s]\n",
      "100%|██████████| 77/77 [00:14<00:00,  5.37it/s]\n",
      "100%|██████████| 77/77 [00:14<00:00,  5.46it/s]\n",
      "100%|██████████| 77/77 [00:15<00:00,  5.03it/s]\n",
      "100%|██████████| 77/77 [00:13<00:00,  5.66it/s]\n"
     ]
    }
   ],
   "source": [
    "service_consumption = ServiceConsumptionAPI.compute_service_consumption(traffic_data=(CityTrafficData(city=city, geo_data_type=GeoDataType.IRIS, traffic_type=TrafficType.USERS) for city in City))"
   ],
   "metadata": {
    "collapsed": false,
    "ExecuteTime": {
     "end_time": "2023-07-06T16:56:56.963038Z",
     "start_time": "2023-07-06T16:42:15.841058Z"
    }
   }
  },
  {
   "cell_type": "code",
   "execution_count": null,
   "outputs": [],
   "source": [
    "reg_data_election = ElectionAbstractRegressionData(geo_data=geo_data, election_data=election_data, service_consumption=service_consumption, admin_data=admin_data).get_regression_data()\n",
    "reg_data_election.head()"
   ],
   "metadata": {
    "collapsed": false,
    "is_executing": true
   }
  },
  {
   "cell_type": "code",
   "execution_count": 116,
   "outputs": [
    {
     "data": {
      "text/plain": "           Facebook  Wikipedia  LinkedIn  Fortnite   Netflix  polarization   \niris                                                                         \n060270101 -2.062868  -5.590316 -3.675427 -9.309542 -4.459818     -0.545465  \\\n060270102 -2.053933  -5.594131 -3.600489 -9.476669 -4.521172     -0.566716   \n060270103 -2.029341  -5.631173 -3.544126 -9.277542 -4.479438     -0.558694   \n060270104 -2.002218  -5.799846 -3.365246 -9.163132 -4.375441     -0.553530   \n060270105 -2.016121  -5.648359 -3.521882 -9.364730 -4.465331     -0.575602   \n\n            turnout   entropy        23         1         5  P19_POP1529   \niris                                                                       \n060270101 -0.697691  0.730450 -1.111748 -3.142301 -1.568456    -6.540924  \\\n060270102 -0.723235  0.750374 -1.148633 -3.232721 -1.564799    -6.051748   \n060270103 -0.713580  0.745361 -1.134641 -3.197848 -1.566169    -7.183868   \n060270104 -0.689095  0.757687 -1.163295 -3.187619 -1.566354    -8.021640   \n060270105 -0.647696  0.793162 -1.281214 -3.459356 -1.523490    -7.935939   \n\n           P19_POP3044  P19_POP4559  P19_POP6074  P19_POP75P  DEC_MED19   \niris                                                                      \n060270101    -6.360845    -6.449171    -6.592485   -6.603542   9.845329  \\\n060270102    -5.875767    -6.034697    -6.748738   -7.095525   9.785830   \n060270103    -6.997393    -7.031286    -7.011211   -7.489443  10.028357   \n060270104    -7.703593    -7.836218    -8.008035   -8.151370  10.188666   \n060270105    -7.571138    -7.798253    -7.651596   -7.985955  10.142898   \n\n           P19_ACT_DIPLMIN  P19_ACT_SUP2  P19_ACT_SUP5  \niris                                                    \n060270101        -7.516768     -7.588935     -7.580904  \n060270102        -7.074670     -7.056031     -7.288983  \n060270103        -8.371961     -8.469924     -8.183569  \n060270104        -9.335358     -8.720120     -8.539824  \n060270105        -9.060492     -8.426889     -8.375491  ",
      "text/html": "<div>\n<style scoped>\n    .dataframe tbody tr th:only-of-type {\n        vertical-align: middle;\n    }\n\n    .dataframe tbody tr th {\n        vertical-align: top;\n    }\n\n    .dataframe thead th {\n        text-align: right;\n    }\n</style>\n<table border=\"1\" class=\"dataframe\">\n  <thead>\n    <tr style=\"text-align: right;\">\n      <th></th>\n      <th>Facebook</th>\n      <th>Wikipedia</th>\n      <th>LinkedIn</th>\n      <th>Fortnite</th>\n      <th>Netflix</th>\n      <th>polarization</th>\n      <th>turnout</th>\n      <th>entropy</th>\n      <th>23</th>\n      <th>1</th>\n      <th>5</th>\n      <th>P19_POP1529</th>\n      <th>P19_POP3044</th>\n      <th>P19_POP4559</th>\n      <th>P19_POP6074</th>\n      <th>P19_POP75P</th>\n      <th>DEC_MED19</th>\n      <th>P19_ACT_DIPLMIN</th>\n      <th>P19_ACT_SUP2</th>\n      <th>P19_ACT_SUP5</th>\n    </tr>\n    <tr>\n      <th>iris</th>\n      <th></th>\n      <th></th>\n      <th></th>\n      <th></th>\n      <th></th>\n      <th></th>\n      <th></th>\n      <th></th>\n      <th></th>\n      <th></th>\n      <th></th>\n      <th></th>\n      <th></th>\n      <th></th>\n      <th></th>\n      <th></th>\n      <th></th>\n      <th></th>\n      <th></th>\n      <th></th>\n    </tr>\n  </thead>\n  <tbody>\n    <tr>\n      <th>060270101</th>\n      <td>-2.062868</td>\n      <td>-5.590316</td>\n      <td>-3.675427</td>\n      <td>-9.309542</td>\n      <td>-4.459818</td>\n      <td>-0.545465</td>\n      <td>-0.697691</td>\n      <td>0.730450</td>\n      <td>-1.111748</td>\n      <td>-3.142301</td>\n      <td>-1.568456</td>\n      <td>-6.540924</td>\n      <td>-6.360845</td>\n      <td>-6.449171</td>\n      <td>-6.592485</td>\n      <td>-6.603542</td>\n      <td>9.845329</td>\n      <td>-7.516768</td>\n      <td>-7.588935</td>\n      <td>-7.580904</td>\n    </tr>\n    <tr>\n      <th>060270102</th>\n      <td>-2.053933</td>\n      <td>-5.594131</td>\n      <td>-3.600489</td>\n      <td>-9.476669</td>\n      <td>-4.521172</td>\n      <td>-0.566716</td>\n      <td>-0.723235</td>\n      <td>0.750374</td>\n      <td>-1.148633</td>\n      <td>-3.232721</td>\n      <td>-1.564799</td>\n      <td>-6.051748</td>\n      <td>-5.875767</td>\n      <td>-6.034697</td>\n      <td>-6.748738</td>\n      <td>-7.095525</td>\n      <td>9.785830</td>\n      <td>-7.074670</td>\n      <td>-7.056031</td>\n      <td>-7.288983</td>\n    </tr>\n    <tr>\n      <th>060270103</th>\n      <td>-2.029341</td>\n      <td>-5.631173</td>\n      <td>-3.544126</td>\n      <td>-9.277542</td>\n      <td>-4.479438</td>\n      <td>-0.558694</td>\n      <td>-0.713580</td>\n      <td>0.745361</td>\n      <td>-1.134641</td>\n      <td>-3.197848</td>\n      <td>-1.566169</td>\n      <td>-7.183868</td>\n      <td>-6.997393</td>\n      <td>-7.031286</td>\n      <td>-7.011211</td>\n      <td>-7.489443</td>\n      <td>10.028357</td>\n      <td>-8.371961</td>\n      <td>-8.469924</td>\n      <td>-8.183569</td>\n    </tr>\n    <tr>\n      <th>060270104</th>\n      <td>-2.002218</td>\n      <td>-5.799846</td>\n      <td>-3.365246</td>\n      <td>-9.163132</td>\n      <td>-4.375441</td>\n      <td>-0.553530</td>\n      <td>-0.689095</td>\n      <td>0.757687</td>\n      <td>-1.163295</td>\n      <td>-3.187619</td>\n      <td>-1.566354</td>\n      <td>-8.021640</td>\n      <td>-7.703593</td>\n      <td>-7.836218</td>\n      <td>-8.008035</td>\n      <td>-8.151370</td>\n      <td>10.188666</td>\n      <td>-9.335358</td>\n      <td>-8.720120</td>\n      <td>-8.539824</td>\n    </tr>\n    <tr>\n      <th>060270105</th>\n      <td>-2.016121</td>\n      <td>-5.648359</td>\n      <td>-3.521882</td>\n      <td>-9.364730</td>\n      <td>-4.465331</td>\n      <td>-0.575602</td>\n      <td>-0.647696</td>\n      <td>0.793162</td>\n      <td>-1.281214</td>\n      <td>-3.459356</td>\n      <td>-1.523490</td>\n      <td>-7.935939</td>\n      <td>-7.571138</td>\n      <td>-7.798253</td>\n      <td>-7.651596</td>\n      <td>-7.985955</td>\n      <td>10.142898</td>\n      <td>-9.060492</td>\n      <td>-8.426889</td>\n      <td>-8.375491</td>\n    </tr>\n  </tbody>\n</table>\n</div>"
     },
     "execution_count": 116,
     "metadata": {},
     "output_type": "execute_result"
    }
   ],
   "source": [
    "reg_data_election.head()"
   ],
   "metadata": {
    "collapsed": false,
    "ExecuteTime": {
     "end_time": "2023-07-06T18:27:15.800751Z",
     "start_time": "2023-07-06T18:27:15.621385Z"
    }
   }
  },
  {
   "cell_type": "code",
   "execution_count": 142,
   "outputs": [],
   "source": [
    "figure_election = ElectionAbstractFigure(data=reg_data_election)\n",
    "fig = figure_election.show(save=True, scatter=False)"
   ],
   "metadata": {
    "collapsed": false
   }
  },
  {
   "cell_type": "code",
   "execution_count": 141,
   "outputs": [],
   "source": [
    "from config import FIGURE_PATH\n",
    "fig.write_html(f'temp/figure_election_heatmap.html')"
   ],
   "metadata": {
    "collapsed": false,
    "ExecuteTime": {
     "end_time": "2023-07-06T18:48:06.812522Z",
     "start_time": "2023-07-06T18:48:06.615905Z"
    }
   }
  },
  {
   "cell_type": "code",
   "execution_count": null,
   "outputs": [],
   "source": [],
   "metadata": {
    "collapsed": false
   }
  }
 ],
 "metadata": {
  "kernelspec": {
   "display_name": "Python 3",
   "language": "python",
   "name": "python3"
  },
  "language_info": {
   "codemirror_mode": {
    "name": "ipython",
    "version": 2
   },
   "file_extension": ".py",
   "mimetype": "text/x-python",
   "name": "python",
   "nbconvert_exporter": "python",
   "pygments_lexer": "ipython2",
   "version": "2.7.6"
  }
 },
 "nbformat": 4,
 "nbformat_minor": 0
}
