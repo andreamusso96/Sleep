{
 "cells": [
  {
   "cell_type": "code",
   "execution_count": 179,
   "metadata": {
    "collapsed": true,
    "ExecuteTime": {
     "end_time": "2023-06-29T15:26:13.444851Z",
     "start_time": "2023-06-29T15:26:13.301897Z"
    }
   },
   "outputs": [],
   "source": [
    "from datetime import time, date\n",
    "\n",
    "import pandas as pd\n",
    "import numpy as np\n",
    "\n",
    "from DataInterface.TrafficDataInterface import CityTrafficData, TrafficType, Service, ServiceType\n",
    "from DataInterface.GeoDataInterface import GeoData, GeoDataType\n",
    "from DataInterface.AdminDataInterface import AdminData\n",
    "from DataInterface.ElectionDataInterface import ElectionData\n",
    "from DataInterface.WeatherDataInterface import WeatherData\n",
    "from Utils import City\n",
    "from FeatureExtraction.SessionDistribution.SessionDistributionCalculator import SessionDistributionCalculator\n",
    "from FeatureExtraction.SessionDistribution.SessionDistributionAPI import SessionDistributionAPI\n",
    "from FeatureExtraction.ServiceConsumption.ServiceConsumptionAPI import ServiceConsumptionAPI\n",
    "from FeatureExtraction.IrisFeatureCalculator import IrisFeatureCalculator\n",
    "from FeatureExtraction.ServiceConsumptionFeatureCalculator import ServiceConsumptionFeatureCalculator, ServiceConsumptionFeatureName\n",
    "from FeatureExtraction.ElectionFeatureCalculator import ElectionFeatureCalculator, ElectionFeatureName, Party\n",
    "from FeatureSelection.Regression import Regression\n",
    "from FeatureExtraction.Feature import Feature"
   ]
  },
  {
   "cell_type": "code",
   "execution_count": null,
   "outputs": [],
   "source": [
    "%load_ext autoreload\n",
    "%autoreload 2"
   ],
   "metadata": {
    "collapsed": false,
    "is_executing": true
   }
  },
  {
   "cell_type": "code",
   "execution_count": null,
   "outputs": [],
   "source": [
    "geo_data = GeoData()\n",
    "geo_data.load(GeoDataType.IRIS)"
   ],
   "metadata": {
    "collapsed": false,
    "is_executing": true
   }
  },
  {
   "cell_type": "code",
   "execution_count": null,
   "outputs": [],
   "source": [
    "admin_data = AdminData()"
   ],
   "metadata": {
    "collapsed": false,
    "is_executing": true
   }
  },
  {
   "cell_type": "code",
   "execution_count": null,
   "outputs": [],
   "source": [
    "session_distribution = SessionDistributionAPI.compute_session_distribution(traffic_data=(CityTrafficData(city=city, geo_data_type=GeoDataType.IRIS, traffic_type=TrafficType.USERS) for city in City))"
   ],
   "metadata": {
    "collapsed": false,
    "is_executing": true
   }
  },
  {
   "cell_type": "code",
   "execution_count": null,
   "outputs": [],
   "source": [
    "session_expectation = session_distribution.expectation_by_location()"
   ],
   "metadata": {
    "collapsed": false,
    "is_executing": true
   }
  },
  {
   "cell_type": "code",
   "execution_count": 479,
   "outputs": [],
   "source": [
    "from Figures.SleepAbstract import SleepAbstractRegressionData, SleepAbstractFigure"
   ],
   "metadata": {
    "collapsed": false,
    "ExecuteTime": {
     "end_time": "2023-07-01T11:41:29.465404Z",
     "start_time": "2023-07-01T11:41:16.564403Z"
    }
   }
  },
  {
   "cell_type": "code",
   "execution_count": 480,
   "outputs": [
    {
     "data": {
      "text/plain": "           Insomnia Index   Density  Amenity Index  Transportation Index   \niris                                                                       \n060270101        2.081480 -4.703343      -7.206167            -10.543851  \\\n060270102        2.105574 -4.399481      -7.943355            -10.147960   \n060270103        2.095655 -5.353435      -8.562907            -10.885295   \n060270104        2.087361 -6.116706      -9.097366            -12.263444   \n060270105        2.086613 -6.000444     -10.180861            -12.508139   \n\n           P19_POP1529  P19_POP3044  P19_POP4559  P19_POP6074  P19_POP75P   \niris                                                                        \n060270101    -6.540924    -6.360845    -6.449171    -6.592485   -6.603542  \\\n060270102    -6.051748    -5.875767    -6.034697    -6.748738   -7.095525   \n060270103    -7.183868    -6.997393    -7.031286    -7.011211   -7.489443   \n060270104    -8.021640    -7.703593    -7.836218    -8.008035   -8.151370   \n060270105    -7.935939    -7.571138    -7.798253    -7.651596   -7.985955   \n\n           DEC_MED19  P19_ACT_DIPLMIN  P19_ACT_SUP2  P19_ACT_SUP5  \niris                                                               \n060270101   9.845329        -7.516768     -7.588935     -7.580904  \n060270102   9.785830        -7.074670     -7.056031     -7.288983  \n060270103  10.028357        -8.371961     -8.469924     -8.183569  \n060270104  10.188666        -9.335358     -8.720120     -8.539824  \n060270105  10.142898        -9.060492     -8.426889     -8.375491  ",
      "text/html": "<div>\n<style scoped>\n    .dataframe tbody tr th:only-of-type {\n        vertical-align: middle;\n    }\n\n    .dataframe tbody tr th {\n        vertical-align: top;\n    }\n\n    .dataframe thead th {\n        text-align: right;\n    }\n</style>\n<table border=\"1\" class=\"dataframe\">\n  <thead>\n    <tr style=\"text-align: right;\">\n      <th></th>\n      <th>Insomnia Index</th>\n      <th>Density</th>\n      <th>Amenity Index</th>\n      <th>Transportation Index</th>\n      <th>P19_POP1529</th>\n      <th>P19_POP3044</th>\n      <th>P19_POP4559</th>\n      <th>P19_POP6074</th>\n      <th>P19_POP75P</th>\n      <th>DEC_MED19</th>\n      <th>P19_ACT_DIPLMIN</th>\n      <th>P19_ACT_SUP2</th>\n      <th>P19_ACT_SUP5</th>\n    </tr>\n    <tr>\n      <th>iris</th>\n      <th></th>\n      <th></th>\n      <th></th>\n      <th></th>\n      <th></th>\n      <th></th>\n      <th></th>\n      <th></th>\n      <th></th>\n      <th></th>\n      <th></th>\n      <th></th>\n      <th></th>\n    </tr>\n  </thead>\n  <tbody>\n    <tr>\n      <th>060270101</th>\n      <td>2.081480</td>\n      <td>-4.703343</td>\n      <td>-7.206167</td>\n      <td>-10.543851</td>\n      <td>-6.540924</td>\n      <td>-6.360845</td>\n      <td>-6.449171</td>\n      <td>-6.592485</td>\n      <td>-6.603542</td>\n      <td>9.845329</td>\n      <td>-7.516768</td>\n      <td>-7.588935</td>\n      <td>-7.580904</td>\n    </tr>\n    <tr>\n      <th>060270102</th>\n      <td>2.105574</td>\n      <td>-4.399481</td>\n      <td>-7.943355</td>\n      <td>-10.147960</td>\n      <td>-6.051748</td>\n      <td>-5.875767</td>\n      <td>-6.034697</td>\n      <td>-6.748738</td>\n      <td>-7.095525</td>\n      <td>9.785830</td>\n      <td>-7.074670</td>\n      <td>-7.056031</td>\n      <td>-7.288983</td>\n    </tr>\n    <tr>\n      <th>060270103</th>\n      <td>2.095655</td>\n      <td>-5.353435</td>\n      <td>-8.562907</td>\n      <td>-10.885295</td>\n      <td>-7.183868</td>\n      <td>-6.997393</td>\n      <td>-7.031286</td>\n      <td>-7.011211</td>\n      <td>-7.489443</td>\n      <td>10.028357</td>\n      <td>-8.371961</td>\n      <td>-8.469924</td>\n      <td>-8.183569</td>\n    </tr>\n    <tr>\n      <th>060270104</th>\n      <td>2.087361</td>\n      <td>-6.116706</td>\n      <td>-9.097366</td>\n      <td>-12.263444</td>\n      <td>-8.021640</td>\n      <td>-7.703593</td>\n      <td>-7.836218</td>\n      <td>-8.008035</td>\n      <td>-8.151370</td>\n      <td>10.188666</td>\n      <td>-9.335358</td>\n      <td>-8.720120</td>\n      <td>-8.539824</td>\n    </tr>\n    <tr>\n      <th>060270105</th>\n      <td>2.086613</td>\n      <td>-6.000444</td>\n      <td>-10.180861</td>\n      <td>-12.508139</td>\n      <td>-7.935939</td>\n      <td>-7.571138</td>\n      <td>-7.798253</td>\n      <td>-7.651596</td>\n      <td>-7.985955</td>\n      <td>10.142898</td>\n      <td>-9.060492</td>\n      <td>-8.426889</td>\n      <td>-8.375491</td>\n    </tr>\n  </tbody>\n</table>\n</div>"
     },
     "execution_count": 480,
     "metadata": {},
     "output_type": "execute_result"
    }
   ],
   "source": [
    "reg_data = SleepAbstractRegressionData(geo_data=geo_data, session_expectation=session_expectation, admin_data=admin_data).get_regression_data()\n",
    "reg_data.head()"
   ],
   "metadata": {
    "collapsed": false,
    "ExecuteTime": {
     "end_time": "2023-07-01T11:41:33.662386Z",
     "start_time": "2023-07-01T11:41:29.467329Z"
    }
   }
  },
  {
   "cell_type": "code",
   "execution_count": 484,
   "outputs": [],
   "source": [
    "figure = SleepAbstractFigure(data=reg_data)\n",
    "figure.show(save=True)"
   ],
   "metadata": {
    "collapsed": false,
    "ExecuteTime": {
     "end_time": "2023-07-01T11:46:20.868712Z",
     "start_time": "2023-07-01T11:46:03.316963Z"
    }
   }
  },
  {
   "cell_type": "code",
   "execution_count": 303,
   "outputs": [],
   "source": [
    "from config import FIGURE_PATH\n",
    "scatter_fig.write_image(f'{FIGURE_PATH}/insomnia_index_scatter.pdf')\n",
    "map_fig.savefig(f'{FIGURE_PATH}/insomnia_index_map.pdf', bbox_inches='tight')"
   ],
   "metadata": {
    "collapsed": false,
    "ExecuteTime": {
     "end_time": "2023-06-30T15:28:48.365340Z",
     "start_time": "2023-06-30T15:28:39.782684Z"
    }
   }
  },
  {
   "cell_type": "code",
   "execution_count": 304,
   "outputs": [],
   "source": [
    "from Figures.ElectionsAbstract import FigureElectionsAbstract"
   ],
   "metadata": {
    "collapsed": false,
    "ExecuteTime": {
     "end_time": "2023-06-30T18:10:44.601108Z",
     "start_time": "2023-06-30T18:10:40.573691Z"
    }
   }
  },
  {
   "cell_type": "code",
   "execution_count": null,
   "outputs": [],
   "source": [
    "election_data = ElectionData()"
   ],
   "metadata": {
    "collapsed": false,
    "is_executing": true
   }
  },
  {
   "cell_type": "code",
   "execution_count": 231,
   "outputs": [
    {
     "name": "stderr",
     "output_type": "stream",
     "text": [
      "100%|██████████| 77/77 [00:30<00:00,  2.51it/s]\n",
      "100%|██████████| 77/77 [00:20<00:00,  3.73it/s]\n",
      "100%|██████████| 77/77 [00:21<00:00,  3.65it/s]\n",
      "100%|██████████| 77/77 [00:23<00:00,  3.25it/s]\n",
      "100%|██████████| 77/77 [00:33<00:00,  2.28it/s]\n",
      "100%|██████████| 77/77 [00:33<00:00,  2.30it/s]\n",
      "100%|██████████| 77/77 [00:20<00:00,  3.67it/s]\n",
      "100%|██████████| 77/77 [00:29<00:00,  2.62it/s]\n",
      "100%|██████████| 77/77 [00:21<00:00,  3.57it/s]\n",
      "100%|██████████| 77/77 [00:22<00:00,  3.40it/s]\n",
      "100%|██████████| 77/77 [00:20<00:00,  3.67it/s]\n",
      "100%|██████████| 77/77 [00:24<00:00,  3.13it/s]\n",
      "100%|██████████| 77/77 [00:23<00:00,  3.24it/s]\n",
      "100%|██████████| 77/77 [00:21<00:00,  3.59it/s]\n",
      "100%|██████████| 77/77 [01:39<00:00,  1.29s/it]\n",
      "100%|██████████| 77/77 [00:27<00:00,  2.76it/s]\n",
      "100%|██████████| 77/77 [00:23<00:00,  3.27it/s]\n",
      "100%|██████████| 77/77 [00:25<00:00,  2.98it/s]\n",
      "100%|██████████| 77/77 [00:26<00:00,  2.91it/s]\n",
      "100%|██████████| 77/77 [00:21<00:00,  3.57it/s]\n"
     ]
    }
   ],
   "source": [
    "service_consumption = ServiceConsumptionAPI.compute_service_consumption(traffic_data=(CityTrafficData(city=city, geo_data_type=GeoDataType.IRIS, traffic_type=TrafficType.USERS) for city in City))"
   ],
   "metadata": {
    "collapsed": false,
    "ExecuteTime": {
     "end_time": "2023-06-29T16:10:48.442234Z",
     "start_time": "2023-06-29T15:51:36.615228Z"
    }
   }
  },
  {
   "cell_type": "code",
   "execution_count": 305,
   "outputs": [],
   "source": [
    "figure = FigureElectionsAbstract(geo_data=geo_data, admin_data=admin_data, election_data=election_data, service_consumption=service_consumption)"
   ],
   "metadata": {
    "collapsed": false,
    "ExecuteTime": {
     "end_time": "2023-06-30T18:10:48.302001Z",
     "start_time": "2023-06-30T18:10:48.223693Z"
    }
   }
  },
  {
   "cell_type": "code",
   "execution_count": 418,
   "outputs": [],
   "source": [
    "from plotly.subplots import make_subplots"
   ],
   "metadata": {
    "collapsed": false,
    "ExecuteTime": {
     "end_time": "2023-07-01T09:49:46.256107Z",
     "start_time": "2023-07-01T09:49:46.185175Z"
    }
   }
  },
  {
   "cell_type": "code",
   "execution_count": 423,
   "outputs": [],
   "source": [
    "# assuming 2x2 subplot for example\n",
    "fig = make_subplots(rows=2, cols=3)\n",
    "\n",
    "# after adding your plots...\n",
    "\n",
    "# Get domains of each subplot\n",
    "domains = []\n",
    "for xaxis, yaxis in zip(fig.layout.xaxis, fig.layout.yaxis):\n",
    "    if 'domain' in xaxis and 'domain' in yaxis:\n",
    "        domains.append(((xaxis['domain'][0], yaxis['domain'][0])))\n",
    "\n",
    "# Print bottom left corner coordinates of each subplot\n",
    "for i, domain in enumerate(domains):\n",
    "    print(f\"Bottom left corner of subplot {i+1}: {domain}\")\n"
   ],
   "metadata": {
    "collapsed": false,
    "ExecuteTime": {
     "end_time": "2023-07-01T09:50:23.283195Z",
     "start_time": "2023-07-01T09:50:23.189235Z"
    }
   }
  },
  {
   "cell_type": "code",
   "execution_count": 426,
   "outputs": [
    {
     "data": {
      "text/plain": "Layout({\n    'template': '...',\n    'xaxis': {'anchor': 'y', 'domain': [0.0, 0.2888888888888889]},\n    'xaxis2': {'anchor': 'y2', 'domain': [0.35555555555555557, 0.6444444444444445]},\n    'xaxis3': {'anchor': 'y3', 'domain': [0.7111111111111111, 1.0]},\n    'xaxis4': {'anchor': 'y4', 'domain': [0.0, 0.2888888888888889]},\n    'xaxis5': {'anchor': 'y5', 'domain': [0.35555555555555557, 0.6444444444444445]},\n    'xaxis6': {'anchor': 'y6', 'domain': [0.7111111111111111, 1.0]},\n    'yaxis': {'anchor': 'x', 'domain': [0.575, 1.0]},\n    'yaxis2': {'anchor': 'x2', 'domain': [0.575, 1.0]},\n    'yaxis3': {'anchor': 'x3', 'domain': [0.575, 1.0]},\n    'yaxis4': {'anchor': 'x4', 'domain': [0.0, 0.425]},\n    'yaxis5': {'anchor': 'x5', 'domain': [0.0, 0.425]},\n    'yaxis6': {'anchor': 'x6', 'domain': [0.0, 0.425]}\n})"
     },
     "execution_count": 426,
     "metadata": {},
     "output_type": "execute_result"
    }
   ],
   "source": [
    "fig.layout"
   ],
   "metadata": {
    "collapsed": false,
    "ExecuteTime": {
     "end_time": "2023-07-01T09:50:36.935779Z",
     "start_time": "2023-07-01T09:50:36.859746Z"
    }
   }
  },
  {
   "cell_type": "code",
   "execution_count": null,
   "outputs": [],
   "source": [],
   "metadata": {
    "collapsed": false
   }
  }
 ],
 "metadata": {
  "kernelspec": {
   "display_name": "Python 3",
   "language": "python",
   "name": "python3"
  },
  "language_info": {
   "codemirror_mode": {
    "name": "ipython",
    "version": 2
   },
   "file_extension": ".py",
   "mimetype": "text/x-python",
   "name": "python",
   "nbconvert_exporter": "python",
   "pygments_lexer": "ipython2",
   "version": "2.7.6"
  }
 },
 "nbformat": 4,
 "nbformat_minor": 0
}
